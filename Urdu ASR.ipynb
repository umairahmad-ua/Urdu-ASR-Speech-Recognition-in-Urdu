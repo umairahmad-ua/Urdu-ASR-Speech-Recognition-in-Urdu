{
  "nbformat": 4,
  "nbformat_minor": 0,
  "metadata": {
    "accelerator": "GPU",
    "colab": {
      "name": "NLP_Assignment_7.ipynb",
      "provenance": [],
      "collapsed_sections": []
    },
    "kernelspec": {
      "display_name": "Python 3",
      "name": "python3"
    },
    "language_info": {
      "name": "python"
    },
    "widgets": {
      "application/vnd.jupyter.widget-state+json": {
        "ea8cf805ecf441359f24204ee8a2dba0": {
          "model_module": "@jupyter-widgets/controls",
          "model_name": "HBoxModel",
          "state": {
            "_view_name": "HBoxView",
            "_dom_classes": [],
            "_model_name": "HBoxModel",
            "_view_module": "@jupyter-widgets/controls",
            "_model_module_version": "1.5.0",
            "_view_count": null,
            "_view_module_version": "1.5.0",
            "box_style": "",
            "layout": "IPY_MODEL_df001ae7a4734f0eb305152fe5e3aa7b",
            "_model_module": "@jupyter-widgets/controls",
            "children": [
              "IPY_MODEL_b3b9e35899a2405f9acc3f936fddbf85",
              "IPY_MODEL_b275c85b34f1447580e37c8146f938c3"
            ]
          }
        },
        "df001ae7a4734f0eb305152fe5e3aa7b": {
          "model_module": "@jupyter-widgets/base",
          "model_name": "LayoutModel",
          "state": {
            "_view_name": "LayoutView",
            "grid_template_rows": null,
            "right": null,
            "justify_content": null,
            "_view_module": "@jupyter-widgets/base",
            "overflow": null,
            "_model_module_version": "1.2.0",
            "_view_count": null,
            "flex_flow": null,
            "width": null,
            "min_width": null,
            "border": null,
            "align_items": null,
            "bottom": null,
            "_model_module": "@jupyter-widgets/base",
            "top": null,
            "grid_column": null,
            "overflow_y": null,
            "overflow_x": null,
            "grid_auto_flow": null,
            "grid_area": null,
            "grid_template_columns": null,
            "flex": null,
            "_model_name": "LayoutModel",
            "justify_items": null,
            "grid_row": null,
            "max_height": null,
            "align_content": null,
            "visibility": null,
            "align_self": null,
            "height": null,
            "min_height": null,
            "padding": null,
            "grid_auto_rows": null,
            "grid_gap": null,
            "max_width": null,
            "order": null,
            "_view_module_version": "1.2.0",
            "grid_template_areas": null,
            "object_position": null,
            "object_fit": null,
            "grid_auto_columns": null,
            "margin": null,
            "display": null,
            "left": null
          }
        },
        "b3b9e35899a2405f9acc3f936fddbf85": {
          "model_module": "@jupyter-widgets/controls",
          "model_name": "FloatProgressModel",
          "state": {
            "_view_name": "ProgressView",
            "style": "IPY_MODEL_e31fc63454544c9dab322c9322d44a89",
            "_dom_classes": [],
            "description": "100%",
            "_model_name": "FloatProgressModel",
            "bar_style": "success",
            "max": 2999,
            "_view_module": "@jupyter-widgets/controls",
            "_model_module_version": "1.5.0",
            "value": 2999,
            "_view_count": null,
            "_view_module_version": "1.5.0",
            "orientation": "horizontal",
            "min": 0,
            "description_tooltip": null,
            "_model_module": "@jupyter-widgets/controls",
            "layout": "IPY_MODEL_e5e8e4d8979b42f6bdfb3ec16ac1c93f"
          }
        },
        "b275c85b34f1447580e37c8146f938c3": {
          "model_module": "@jupyter-widgets/controls",
          "model_name": "HTMLModel",
          "state": {
            "_view_name": "HTMLView",
            "style": "IPY_MODEL_271b6fbdb73b4bacabf452b764afbedd",
            "_dom_classes": [],
            "description": "",
            "_model_name": "HTMLModel",
            "placeholder": "​",
            "_view_module": "@jupyter-widgets/controls",
            "_model_module_version": "1.5.0",
            "value": " 2999/2999 [28:28&lt;00:00,  1.76ex/s]",
            "_view_count": null,
            "_view_module_version": "1.5.0",
            "description_tooltip": null,
            "_model_module": "@jupyter-widgets/controls",
            "layout": "IPY_MODEL_a260a04520874b3b8d4c1e40d2e212a9"
          }
        },
        "e31fc63454544c9dab322c9322d44a89": {
          "model_module": "@jupyter-widgets/controls",
          "model_name": "ProgressStyleModel",
          "state": {
            "_view_name": "StyleView",
            "_model_name": "ProgressStyleModel",
            "description_width": "initial",
            "_view_module": "@jupyter-widgets/base",
            "_model_module_version": "1.5.0",
            "_view_count": null,
            "_view_module_version": "1.2.0",
            "bar_color": null,
            "_model_module": "@jupyter-widgets/controls"
          }
        },
        "e5e8e4d8979b42f6bdfb3ec16ac1c93f": {
          "model_module": "@jupyter-widgets/base",
          "model_name": "LayoutModel",
          "state": {
            "_view_name": "LayoutView",
            "grid_template_rows": null,
            "right": null,
            "justify_content": null,
            "_view_module": "@jupyter-widgets/base",
            "overflow": null,
            "_model_module_version": "1.2.0",
            "_view_count": null,
            "flex_flow": null,
            "width": null,
            "min_width": null,
            "border": null,
            "align_items": null,
            "bottom": null,
            "_model_module": "@jupyter-widgets/base",
            "top": null,
            "grid_column": null,
            "overflow_y": null,
            "overflow_x": null,
            "grid_auto_flow": null,
            "grid_area": null,
            "grid_template_columns": null,
            "flex": null,
            "_model_name": "LayoutModel",
            "justify_items": null,
            "grid_row": null,
            "max_height": null,
            "align_content": null,
            "visibility": null,
            "align_self": null,
            "height": null,
            "min_height": null,
            "padding": null,
            "grid_auto_rows": null,
            "grid_gap": null,
            "max_width": null,
            "order": null,
            "_view_module_version": "1.2.0",
            "grid_template_areas": null,
            "object_position": null,
            "object_fit": null,
            "grid_auto_columns": null,
            "margin": null,
            "display": null,
            "left": null
          }
        },
        "271b6fbdb73b4bacabf452b764afbedd": {
          "model_module": "@jupyter-widgets/controls",
          "model_name": "DescriptionStyleModel",
          "state": {
            "_view_name": "StyleView",
            "_model_name": "DescriptionStyleModel",
            "description_width": "",
            "_view_module": "@jupyter-widgets/base",
            "_model_module_version": "1.5.0",
            "_view_count": null,
            "_view_module_version": "1.2.0",
            "_model_module": "@jupyter-widgets/controls"
          }
        },
        "a260a04520874b3b8d4c1e40d2e212a9": {
          "model_module": "@jupyter-widgets/base",
          "model_name": "LayoutModel",
          "state": {
            "_view_name": "LayoutView",
            "grid_template_rows": null,
            "right": null,
            "justify_content": null,
            "_view_module": "@jupyter-widgets/base",
            "overflow": null,
            "_model_module_version": "1.2.0",
            "_view_count": null,
            "flex_flow": null,
            "width": null,
            "min_width": null,
            "border": null,
            "align_items": null,
            "bottom": null,
            "_model_module": "@jupyter-widgets/base",
            "top": null,
            "grid_column": null,
            "overflow_y": null,
            "overflow_x": null,
            "grid_auto_flow": null,
            "grid_area": null,
            "grid_template_columns": null,
            "flex": null,
            "_model_name": "LayoutModel",
            "justify_items": null,
            "grid_row": null,
            "max_height": null,
            "align_content": null,
            "visibility": null,
            "align_self": null,
            "height": null,
            "min_height": null,
            "padding": null,
            "grid_auto_rows": null,
            "grid_gap": null,
            "max_width": null,
            "order": null,
            "_view_module_version": "1.2.0",
            "grid_template_areas": null,
            "object_position": null,
            "object_fit": null,
            "grid_auto_columns": null,
            "margin": null,
            "display": null,
            "left": null
          }
        },
        "c6b55e3994cf46ed91f318b11a5be4dd": {
          "model_module": "@jupyter-widgets/controls",
          "model_name": "HBoxModel",
          "state": {
            "_view_name": "HBoxView",
            "_dom_classes": [],
            "_model_name": "HBoxModel",
            "_view_module": "@jupyter-widgets/controls",
            "_model_module_version": "1.5.0",
            "_view_count": null,
            "_view_module_version": "1.5.0",
            "box_style": "",
            "layout": "IPY_MODEL_0edff07b1400436f82acd28e676af10f",
            "_model_module": "@jupyter-widgets/controls",
            "children": [
              "IPY_MODEL_cc75c88d639f4b0cb98b6d159724184d",
              "IPY_MODEL_c23e0c372ba14089b8f9f5edcb91b00f"
            ]
          }
        },
        "0edff07b1400436f82acd28e676af10f": {
          "model_module": "@jupyter-widgets/base",
          "model_name": "LayoutModel",
          "state": {
            "_view_name": "LayoutView",
            "grid_template_rows": null,
            "right": null,
            "justify_content": null,
            "_view_module": "@jupyter-widgets/base",
            "overflow": null,
            "_model_module_version": "1.2.0",
            "_view_count": null,
            "flex_flow": null,
            "width": null,
            "min_width": null,
            "border": null,
            "align_items": null,
            "bottom": null,
            "_model_module": "@jupyter-widgets/base",
            "top": null,
            "grid_column": null,
            "overflow_y": null,
            "overflow_x": null,
            "grid_auto_flow": null,
            "grid_area": null,
            "grid_template_columns": null,
            "flex": null,
            "_model_name": "LayoutModel",
            "justify_items": null,
            "grid_row": null,
            "max_height": null,
            "align_content": null,
            "visibility": null,
            "align_self": null,
            "height": null,
            "min_height": null,
            "padding": null,
            "grid_auto_rows": null,
            "grid_gap": null,
            "max_width": null,
            "order": null,
            "_view_module_version": "1.2.0",
            "grid_template_areas": null,
            "object_position": null,
            "object_fit": null,
            "grid_auto_columns": null,
            "margin": null,
            "display": null,
            "left": null
          }
        },
        "cc75c88d639f4b0cb98b6d159724184d": {
          "model_module": "@jupyter-widgets/controls",
          "model_name": "FloatProgressModel",
          "state": {
            "_view_name": "ProgressView",
            "style": "IPY_MODEL_0ca8a54640454691803f9914014d3664",
            "_dom_classes": [],
            "description": "100%",
            "_model_name": "FloatProgressModel",
            "bar_style": "success",
            "max": 169,
            "_view_module": "@jupyter-widgets/controls",
            "_model_module_version": "1.5.0",
            "value": 169,
            "_view_count": null,
            "_view_module_version": "1.5.0",
            "orientation": "horizontal",
            "min": 0,
            "description_tooltip": null,
            "_model_module": "@jupyter-widgets/controls",
            "layout": "IPY_MODEL_ea1359a535f94fafb8082fece850248d"
          }
        },
        "c23e0c372ba14089b8f9f5edcb91b00f": {
          "model_module": "@jupyter-widgets/controls",
          "model_name": "HTMLModel",
          "state": {
            "_view_name": "HTMLView",
            "style": "IPY_MODEL_f15a76e2b8a544d190f9952fa4b28204",
            "_dom_classes": [],
            "description": "",
            "_model_name": "HTMLModel",
            "placeholder": "​",
            "_view_module": "@jupyter-widgets/controls",
            "_model_module_version": "1.5.0",
            "value": " 169/169 [00:25&lt;00:00,  6.60ex/s]",
            "_view_count": null,
            "_view_module_version": "1.5.0",
            "description_tooltip": null,
            "_model_module": "@jupyter-widgets/controls",
            "layout": "IPY_MODEL_32ae9ed430684351853ada133d7d6a8e"
          }
        },
        "0ca8a54640454691803f9914014d3664": {
          "model_module": "@jupyter-widgets/controls",
          "model_name": "ProgressStyleModel",
          "state": {
            "_view_name": "StyleView",
            "_model_name": "ProgressStyleModel",
            "description_width": "initial",
            "_view_module": "@jupyter-widgets/base",
            "_model_module_version": "1.5.0",
            "_view_count": null,
            "_view_module_version": "1.2.0",
            "bar_color": null,
            "_model_module": "@jupyter-widgets/controls"
          }
        },
        "ea1359a535f94fafb8082fece850248d": {
          "model_module": "@jupyter-widgets/base",
          "model_name": "LayoutModel",
          "state": {
            "_view_name": "LayoutView",
            "grid_template_rows": null,
            "right": null,
            "justify_content": null,
            "_view_module": "@jupyter-widgets/base",
            "overflow": null,
            "_model_module_version": "1.2.0",
            "_view_count": null,
            "flex_flow": null,
            "width": null,
            "min_width": null,
            "border": null,
            "align_items": null,
            "bottom": null,
            "_model_module": "@jupyter-widgets/base",
            "top": null,
            "grid_column": null,
            "overflow_y": null,
            "overflow_x": null,
            "grid_auto_flow": null,
            "grid_area": null,
            "grid_template_columns": null,
            "flex": null,
            "_model_name": "LayoutModel",
            "justify_items": null,
            "grid_row": null,
            "max_height": null,
            "align_content": null,
            "visibility": null,
            "align_self": null,
            "height": null,
            "min_height": null,
            "padding": null,
            "grid_auto_rows": null,
            "grid_gap": null,
            "max_width": null,
            "order": null,
            "_view_module_version": "1.2.0",
            "grid_template_areas": null,
            "object_position": null,
            "object_fit": null,
            "grid_auto_columns": null,
            "margin": null,
            "display": null,
            "left": null
          }
        },
        "f15a76e2b8a544d190f9952fa4b28204": {
          "model_module": "@jupyter-widgets/controls",
          "model_name": "DescriptionStyleModel",
          "state": {
            "_view_name": "StyleView",
            "_model_name": "DescriptionStyleModel",
            "description_width": "",
            "_view_module": "@jupyter-widgets/base",
            "_model_module_version": "1.5.0",
            "_view_count": null,
            "_view_module_version": "1.2.0",
            "_model_module": "@jupyter-widgets/controls"
          }
        },
        "32ae9ed430684351853ada133d7d6a8e": {
          "model_module": "@jupyter-widgets/base",
          "model_name": "LayoutModel",
          "state": {
            "_view_name": "LayoutView",
            "grid_template_rows": null,
            "right": null,
            "justify_content": null,
            "_view_module": "@jupyter-widgets/base",
            "overflow": null,
            "_model_module_version": "1.2.0",
            "_view_count": null,
            "flex_flow": null,
            "width": null,
            "min_width": null,
            "border": null,
            "align_items": null,
            "bottom": null,
            "_model_module": "@jupyter-widgets/base",
            "top": null,
            "grid_column": null,
            "overflow_y": null,
            "overflow_x": null,
            "grid_auto_flow": null,
            "grid_area": null,
            "grid_template_columns": null,
            "flex": null,
            "_model_name": "LayoutModel",
            "justify_items": null,
            "grid_row": null,
            "max_height": null,
            "align_content": null,
            "visibility": null,
            "align_self": null,
            "height": null,
            "min_height": null,
            "padding": null,
            "grid_auto_rows": null,
            "grid_gap": null,
            "max_width": null,
            "order": null,
            "_view_module_version": "1.2.0",
            "grid_template_areas": null,
            "object_position": null,
            "object_fit": null,
            "grid_auto_columns": null,
            "margin": null,
            "display": null,
            "left": null
          }
        },
        "7f5d8ff424f84b74b64a5fce654035a6": {
          "model_module": "@jupyter-widgets/controls",
          "model_name": "HBoxModel",
          "state": {
            "_view_name": "HBoxView",
            "_dom_classes": [],
            "_model_name": "HBoxModel",
            "_view_module": "@jupyter-widgets/controls",
            "_model_module_version": "1.5.0",
            "_view_count": null,
            "_view_module_version": "1.5.0",
            "box_style": "",
            "layout": "IPY_MODEL_e7cb62a115f546f6a7210cddcca9c9f3",
            "_model_module": "@jupyter-widgets/controls",
            "children": [
              "IPY_MODEL_c9564b3ccada4954a4488e0fa42ba8bf",
              "IPY_MODEL_21b85a56c97844068d76925d11026bbc"
            ]
          }
        },
        "e7cb62a115f546f6a7210cddcca9c9f3": {
          "model_module": "@jupyter-widgets/base",
          "model_name": "LayoutModel",
          "state": {
            "_view_name": "LayoutView",
            "grid_template_rows": null,
            "right": null,
            "justify_content": null,
            "_view_module": "@jupyter-widgets/base",
            "overflow": null,
            "_model_module_version": "1.2.0",
            "_view_count": null,
            "flex_flow": null,
            "width": null,
            "min_width": null,
            "border": null,
            "align_items": null,
            "bottom": null,
            "_model_module": "@jupyter-widgets/base",
            "top": null,
            "grid_column": null,
            "overflow_y": null,
            "overflow_x": null,
            "grid_auto_flow": null,
            "grid_area": null,
            "grid_template_columns": null,
            "flex": null,
            "_model_name": "LayoutModel",
            "justify_items": null,
            "grid_row": null,
            "max_height": null,
            "align_content": null,
            "visibility": null,
            "align_self": null,
            "height": null,
            "min_height": null,
            "padding": null,
            "grid_auto_rows": null,
            "grid_gap": null,
            "max_width": null,
            "order": null,
            "_view_module_version": "1.2.0",
            "grid_template_areas": null,
            "object_position": null,
            "object_fit": null,
            "grid_auto_columns": null,
            "margin": null,
            "display": null,
            "left": null
          }
        },
        "c9564b3ccada4954a4488e0fa42ba8bf": {
          "model_module": "@jupyter-widgets/controls",
          "model_name": "FloatProgressModel",
          "state": {
            "_view_name": "ProgressView",
            "style": "IPY_MODEL_519170f0c4fa4f62abd8d24107af4258",
            "_dom_classes": [],
            "description": "#0: 100%",
            "_model_name": "FloatProgressModel",
            "bar_style": "success",
            "max": 750,
            "_view_module": "@jupyter-widgets/controls",
            "_model_module_version": "1.5.0",
            "value": 750,
            "_view_count": null,
            "_view_module_version": "1.5.0",
            "orientation": "horizontal",
            "min": 0,
            "description_tooltip": null,
            "_model_module": "@jupyter-widgets/controls",
            "layout": "IPY_MODEL_c0b8b4875c234013bf86c4c92ed95dbd"
          }
        },
        "21b85a56c97844068d76925d11026bbc": {
          "model_module": "@jupyter-widgets/controls",
          "model_name": "HTMLModel",
          "state": {
            "_view_name": "HTMLView",
            "style": "IPY_MODEL_e9d116096dc34bec995a5457950bbd94",
            "_dom_classes": [],
            "description": "",
            "_model_name": "HTMLModel",
            "placeholder": "​",
            "_view_module": "@jupyter-widgets/controls",
            "_model_module_version": "1.5.0",
            "value": " 750/750 [00:45&lt;00:00, 16.59ex/s]",
            "_view_count": null,
            "_view_module_version": "1.5.0",
            "description_tooltip": null,
            "_model_module": "@jupyter-widgets/controls",
            "layout": "IPY_MODEL_3b491fa6e69d4838a7d75d5ebc73e6cd"
          }
        },
        "519170f0c4fa4f62abd8d24107af4258": {
          "model_module": "@jupyter-widgets/controls",
          "model_name": "ProgressStyleModel",
          "state": {
            "_view_name": "StyleView",
            "_model_name": "ProgressStyleModel",
            "description_width": "initial",
            "_view_module": "@jupyter-widgets/base",
            "_model_module_version": "1.5.0",
            "_view_count": null,
            "_view_module_version": "1.2.0",
            "bar_color": null,
            "_model_module": "@jupyter-widgets/controls"
          }
        },
        "c0b8b4875c234013bf86c4c92ed95dbd": {
          "model_module": "@jupyter-widgets/base",
          "model_name": "LayoutModel",
          "state": {
            "_view_name": "LayoutView",
            "grid_template_rows": null,
            "right": null,
            "justify_content": null,
            "_view_module": "@jupyter-widgets/base",
            "overflow": null,
            "_model_module_version": "1.2.0",
            "_view_count": null,
            "flex_flow": null,
            "width": null,
            "min_width": null,
            "border": null,
            "align_items": null,
            "bottom": null,
            "_model_module": "@jupyter-widgets/base",
            "top": null,
            "grid_column": null,
            "overflow_y": null,
            "overflow_x": null,
            "grid_auto_flow": null,
            "grid_area": null,
            "grid_template_columns": null,
            "flex": null,
            "_model_name": "LayoutModel",
            "justify_items": null,
            "grid_row": null,
            "max_height": null,
            "align_content": null,
            "visibility": null,
            "align_self": null,
            "height": null,
            "min_height": null,
            "padding": null,
            "grid_auto_rows": null,
            "grid_gap": null,
            "max_width": null,
            "order": null,
            "_view_module_version": "1.2.0",
            "grid_template_areas": null,
            "object_position": null,
            "object_fit": null,
            "grid_auto_columns": null,
            "margin": null,
            "display": null,
            "left": null
          }
        },
        "e9d116096dc34bec995a5457950bbd94": {
          "model_module": "@jupyter-widgets/controls",
          "model_name": "DescriptionStyleModel",
          "state": {
            "_view_name": "StyleView",
            "_model_name": "DescriptionStyleModel",
            "description_width": "",
            "_view_module": "@jupyter-widgets/base",
            "_model_module_version": "1.5.0",
            "_view_count": null,
            "_view_module_version": "1.2.0",
            "_model_module": "@jupyter-widgets/controls"
          }
        },
        "3b491fa6e69d4838a7d75d5ebc73e6cd": {
          "model_module": "@jupyter-widgets/base",
          "model_name": "LayoutModel",
          "state": {
            "_view_name": "LayoutView",
            "grid_template_rows": null,
            "right": null,
            "justify_content": null,
            "_view_module": "@jupyter-widgets/base",
            "overflow": null,
            "_model_module_version": "1.2.0",
            "_view_count": null,
            "flex_flow": null,
            "width": null,
            "min_width": null,
            "border": null,
            "align_items": null,
            "bottom": null,
            "_model_module": "@jupyter-widgets/base",
            "top": null,
            "grid_column": null,
            "overflow_y": null,
            "overflow_x": null,
            "grid_auto_flow": null,
            "grid_area": null,
            "grid_template_columns": null,
            "flex": null,
            "_model_name": "LayoutModel",
            "justify_items": null,
            "grid_row": null,
            "max_height": null,
            "align_content": null,
            "visibility": null,
            "align_self": null,
            "height": null,
            "min_height": null,
            "padding": null,
            "grid_auto_rows": null,
            "grid_gap": null,
            "max_width": null,
            "order": null,
            "_view_module_version": "1.2.0",
            "grid_template_areas": null,
            "object_position": null,
            "object_fit": null,
            "grid_auto_columns": null,
            "margin": null,
            "display": null,
            "left": null
          }
        },
        "679e0f6d79c94382941d6b6dbd4db59d": {
          "model_module": "@jupyter-widgets/controls",
          "model_name": "HBoxModel",
          "state": {
            "_view_name": "HBoxView",
            "_dom_classes": [],
            "_model_name": "HBoxModel",
            "_view_module": "@jupyter-widgets/controls",
            "_model_module_version": "1.5.0",
            "_view_count": null,
            "_view_module_version": "1.5.0",
            "box_style": "",
            "layout": "IPY_MODEL_578545c0260041e5bed455ce9f030fb3",
            "_model_module": "@jupyter-widgets/controls",
            "children": [
              "IPY_MODEL_7fec4a731bde4ba8971010653653df2c",
              "IPY_MODEL_937f0f19a3ca4fe49b5dd921a26d2d36"
            ]
          }
        },
        "578545c0260041e5bed455ce9f030fb3": {
          "model_module": "@jupyter-widgets/base",
          "model_name": "LayoutModel",
          "state": {
            "_view_name": "LayoutView",
            "grid_template_rows": null,
            "right": null,
            "justify_content": null,
            "_view_module": "@jupyter-widgets/base",
            "overflow": null,
            "_model_module_version": "1.2.0",
            "_view_count": null,
            "flex_flow": null,
            "width": null,
            "min_width": null,
            "border": null,
            "align_items": null,
            "bottom": null,
            "_model_module": "@jupyter-widgets/base",
            "top": null,
            "grid_column": null,
            "overflow_y": null,
            "overflow_x": null,
            "grid_auto_flow": null,
            "grid_area": null,
            "grid_template_columns": null,
            "flex": null,
            "_model_name": "LayoutModel",
            "justify_items": null,
            "grid_row": null,
            "max_height": null,
            "align_content": null,
            "visibility": null,
            "align_self": null,
            "height": null,
            "min_height": null,
            "padding": null,
            "grid_auto_rows": null,
            "grid_gap": null,
            "max_width": null,
            "order": null,
            "_view_module_version": "1.2.0",
            "grid_template_areas": null,
            "object_position": null,
            "object_fit": null,
            "grid_auto_columns": null,
            "margin": null,
            "display": null,
            "left": null
          }
        },
        "7fec4a731bde4ba8971010653653df2c": {
          "model_module": "@jupyter-widgets/controls",
          "model_name": "FloatProgressModel",
          "state": {
            "_view_name": "ProgressView",
            "style": "IPY_MODEL_984f6cbc4e844e47a8c67782088041b8",
            "_dom_classes": [],
            "description": "#1: 100%",
            "_model_name": "FloatProgressModel",
            "bar_style": "success",
            "max": 750,
            "_view_module": "@jupyter-widgets/controls",
            "_model_module_version": "1.5.0",
            "value": 750,
            "_view_count": null,
            "_view_module_version": "1.5.0",
            "orientation": "horizontal",
            "min": 0,
            "description_tooltip": null,
            "_model_module": "@jupyter-widgets/controls",
            "layout": "IPY_MODEL_628326b2d81e447eb6a09dad81d85fa4"
          }
        },
        "937f0f19a3ca4fe49b5dd921a26d2d36": {
          "model_module": "@jupyter-widgets/controls",
          "model_name": "HTMLModel",
          "state": {
            "_view_name": "HTMLView",
            "style": "IPY_MODEL_6b3e64a2b09244daaba1e54efc23fc16",
            "_dom_classes": [],
            "description": "",
            "_model_name": "HTMLModel",
            "placeholder": "​",
            "_view_module": "@jupyter-widgets/controls",
            "_model_module_version": "1.5.0",
            "value": " 750/750 [00:45&lt;00:00, 16.45ex/s]",
            "_view_count": null,
            "_view_module_version": "1.5.0",
            "description_tooltip": null,
            "_model_module": "@jupyter-widgets/controls",
            "layout": "IPY_MODEL_b085f30d91e74d3ebaee1eecb088645a"
          }
        },
        "984f6cbc4e844e47a8c67782088041b8": {
          "model_module": "@jupyter-widgets/controls",
          "model_name": "ProgressStyleModel",
          "state": {
            "_view_name": "StyleView",
            "_model_name": "ProgressStyleModel",
            "description_width": "initial",
            "_view_module": "@jupyter-widgets/base",
            "_model_module_version": "1.5.0",
            "_view_count": null,
            "_view_module_version": "1.2.0",
            "bar_color": null,
            "_model_module": "@jupyter-widgets/controls"
          }
        },
        "628326b2d81e447eb6a09dad81d85fa4": {
          "model_module": "@jupyter-widgets/base",
          "model_name": "LayoutModel",
          "state": {
            "_view_name": "LayoutView",
            "grid_template_rows": null,
            "right": null,
            "justify_content": null,
            "_view_module": "@jupyter-widgets/base",
            "overflow": null,
            "_model_module_version": "1.2.0",
            "_view_count": null,
            "flex_flow": null,
            "width": null,
            "min_width": null,
            "border": null,
            "align_items": null,
            "bottom": null,
            "_model_module": "@jupyter-widgets/base",
            "top": null,
            "grid_column": null,
            "overflow_y": null,
            "overflow_x": null,
            "grid_auto_flow": null,
            "grid_area": null,
            "grid_template_columns": null,
            "flex": null,
            "_model_name": "LayoutModel",
            "justify_items": null,
            "grid_row": null,
            "max_height": null,
            "align_content": null,
            "visibility": null,
            "align_self": null,
            "height": null,
            "min_height": null,
            "padding": null,
            "grid_auto_rows": null,
            "grid_gap": null,
            "max_width": null,
            "order": null,
            "_view_module_version": "1.2.0",
            "grid_template_areas": null,
            "object_position": null,
            "object_fit": null,
            "grid_auto_columns": null,
            "margin": null,
            "display": null,
            "left": null
          }
        },
        "6b3e64a2b09244daaba1e54efc23fc16": {
          "model_module": "@jupyter-widgets/controls",
          "model_name": "DescriptionStyleModel",
          "state": {
            "_view_name": "StyleView",
            "_model_name": "DescriptionStyleModel",
            "description_width": "",
            "_view_module": "@jupyter-widgets/base",
            "_model_module_version": "1.5.0",
            "_view_count": null,
            "_view_module_version": "1.2.0",
            "_model_module": "@jupyter-widgets/controls"
          }
        },
        "b085f30d91e74d3ebaee1eecb088645a": {
          "model_module": "@jupyter-widgets/base",
          "model_name": "LayoutModel",
          "state": {
            "_view_name": "LayoutView",
            "grid_template_rows": null,
            "right": null,
            "justify_content": null,
            "_view_module": "@jupyter-widgets/base",
            "overflow": null,
            "_model_module_version": "1.2.0",
            "_view_count": null,
            "flex_flow": null,
            "width": null,
            "min_width": null,
            "border": null,
            "align_items": null,
            "bottom": null,
            "_model_module": "@jupyter-widgets/base",
            "top": null,
            "grid_column": null,
            "overflow_y": null,
            "overflow_x": null,
            "grid_auto_flow": null,
            "grid_area": null,
            "grid_template_columns": null,
            "flex": null,
            "_model_name": "LayoutModel",
            "justify_items": null,
            "grid_row": null,
            "max_height": null,
            "align_content": null,
            "visibility": null,
            "align_self": null,
            "height": null,
            "min_height": null,
            "padding": null,
            "grid_auto_rows": null,
            "grid_gap": null,
            "max_width": null,
            "order": null,
            "_view_module_version": "1.2.0",
            "grid_template_areas": null,
            "object_position": null,
            "object_fit": null,
            "grid_auto_columns": null,
            "margin": null,
            "display": null,
            "left": null
          }
        },
        "8b9e8c946c0e48049233bf45f290f484": {
          "model_module": "@jupyter-widgets/controls",
          "model_name": "HBoxModel",
          "state": {
            "_view_name": "HBoxView",
            "_dom_classes": [],
            "_model_name": "HBoxModel",
            "_view_module": "@jupyter-widgets/controls",
            "_model_module_version": "1.5.0",
            "_view_count": null,
            "_view_module_version": "1.5.0",
            "box_style": "",
            "layout": "IPY_MODEL_39ac56b6ff8343d6a845bc5a69b2371c",
            "_model_module": "@jupyter-widgets/controls",
            "children": [
              "IPY_MODEL_bbd916f8dfb1413684e36256e8b131de",
              "IPY_MODEL_e482dc2194954f378b027cbc879ae993"
            ]
          }
        },
        "39ac56b6ff8343d6a845bc5a69b2371c": {
          "model_module": "@jupyter-widgets/base",
          "model_name": "LayoutModel",
          "state": {
            "_view_name": "LayoutView",
            "grid_template_rows": null,
            "right": null,
            "justify_content": null,
            "_view_module": "@jupyter-widgets/base",
            "overflow": null,
            "_model_module_version": "1.2.0",
            "_view_count": null,
            "flex_flow": null,
            "width": null,
            "min_width": null,
            "border": null,
            "align_items": null,
            "bottom": null,
            "_model_module": "@jupyter-widgets/base",
            "top": null,
            "grid_column": null,
            "overflow_y": null,
            "overflow_x": null,
            "grid_auto_flow": null,
            "grid_area": null,
            "grid_template_columns": null,
            "flex": null,
            "_model_name": "LayoutModel",
            "justify_items": null,
            "grid_row": null,
            "max_height": null,
            "align_content": null,
            "visibility": null,
            "align_self": null,
            "height": null,
            "min_height": null,
            "padding": null,
            "grid_auto_rows": null,
            "grid_gap": null,
            "max_width": null,
            "order": null,
            "_view_module_version": "1.2.0",
            "grid_template_areas": null,
            "object_position": null,
            "object_fit": null,
            "grid_auto_columns": null,
            "margin": null,
            "display": null,
            "left": null
          }
        },
        "bbd916f8dfb1413684e36256e8b131de": {
          "model_module": "@jupyter-widgets/controls",
          "model_name": "FloatProgressModel",
          "state": {
            "_view_name": "ProgressView",
            "style": "IPY_MODEL_c5145acb5f75491e9a1abc18be829c03",
            "_dom_classes": [],
            "description": "#2: 100%",
            "_model_name": "FloatProgressModel",
            "bar_style": "success",
            "max": 750,
            "_view_module": "@jupyter-widgets/controls",
            "_model_module_version": "1.5.0",
            "value": 750,
            "_view_count": null,
            "_view_module_version": "1.5.0",
            "orientation": "horizontal",
            "min": 0,
            "description_tooltip": null,
            "_model_module": "@jupyter-widgets/controls",
            "layout": "IPY_MODEL_ae08a445ebc64e4c9c1d16f249cf5f91"
          }
        },
        "e482dc2194954f378b027cbc879ae993": {
          "model_module": "@jupyter-widgets/controls",
          "model_name": "HTMLModel",
          "state": {
            "_view_name": "HTMLView",
            "style": "IPY_MODEL_9cf23faa9a0047bd8b89e12a5a2f6d7b",
            "_dom_classes": [],
            "description": "",
            "_model_name": "HTMLModel",
            "placeholder": "​",
            "_view_module": "@jupyter-widgets/controls",
            "_model_module_version": "1.5.0",
            "value": " 750/750 [00:45&lt;00:00, 16.44ex/s]",
            "_view_count": null,
            "_view_module_version": "1.5.0",
            "description_tooltip": null,
            "_model_module": "@jupyter-widgets/controls",
            "layout": "IPY_MODEL_025ce2cb7ea8469a951fda4f3dfb5949"
          }
        },
        "c5145acb5f75491e9a1abc18be829c03": {
          "model_module": "@jupyter-widgets/controls",
          "model_name": "ProgressStyleModel",
          "state": {
            "_view_name": "StyleView",
            "_model_name": "ProgressStyleModel",
            "description_width": "initial",
            "_view_module": "@jupyter-widgets/base",
            "_model_module_version": "1.5.0",
            "_view_count": null,
            "_view_module_version": "1.2.0",
            "bar_color": null,
            "_model_module": "@jupyter-widgets/controls"
          }
        },
        "ae08a445ebc64e4c9c1d16f249cf5f91": {
          "model_module": "@jupyter-widgets/base",
          "model_name": "LayoutModel",
          "state": {
            "_view_name": "LayoutView",
            "grid_template_rows": null,
            "right": null,
            "justify_content": null,
            "_view_module": "@jupyter-widgets/base",
            "overflow": null,
            "_model_module_version": "1.2.0",
            "_view_count": null,
            "flex_flow": null,
            "width": null,
            "min_width": null,
            "border": null,
            "align_items": null,
            "bottom": null,
            "_model_module": "@jupyter-widgets/base",
            "top": null,
            "grid_column": null,
            "overflow_y": null,
            "overflow_x": null,
            "grid_auto_flow": null,
            "grid_area": null,
            "grid_template_columns": null,
            "flex": null,
            "_model_name": "LayoutModel",
            "justify_items": null,
            "grid_row": null,
            "max_height": null,
            "align_content": null,
            "visibility": null,
            "align_self": null,
            "height": null,
            "min_height": null,
            "padding": null,
            "grid_auto_rows": null,
            "grid_gap": null,
            "max_width": null,
            "order": null,
            "_view_module_version": "1.2.0",
            "grid_template_areas": null,
            "object_position": null,
            "object_fit": null,
            "grid_auto_columns": null,
            "margin": null,
            "display": null,
            "left": null
          }
        },
        "9cf23faa9a0047bd8b89e12a5a2f6d7b": {
          "model_module": "@jupyter-widgets/controls",
          "model_name": "DescriptionStyleModel",
          "state": {
            "_view_name": "StyleView",
            "_model_name": "DescriptionStyleModel",
            "description_width": "",
            "_view_module": "@jupyter-widgets/base",
            "_model_module_version": "1.5.0",
            "_view_count": null,
            "_view_module_version": "1.2.0",
            "_model_module": "@jupyter-widgets/controls"
          }
        },
        "025ce2cb7ea8469a951fda4f3dfb5949": {
          "model_module": "@jupyter-widgets/base",
          "model_name": "LayoutModel",
          "state": {
            "_view_name": "LayoutView",
            "grid_template_rows": null,
            "right": null,
            "justify_content": null,
            "_view_module": "@jupyter-widgets/base",
            "overflow": null,
            "_model_module_version": "1.2.0",
            "_view_count": null,
            "flex_flow": null,
            "width": null,
            "min_width": null,
            "border": null,
            "align_items": null,
            "bottom": null,
            "_model_module": "@jupyter-widgets/base",
            "top": null,
            "grid_column": null,
            "overflow_y": null,
            "overflow_x": null,
            "grid_auto_flow": null,
            "grid_area": null,
            "grid_template_columns": null,
            "flex": null,
            "_model_name": "LayoutModel",
            "justify_items": null,
            "grid_row": null,
            "max_height": null,
            "align_content": null,
            "visibility": null,
            "align_self": null,
            "height": null,
            "min_height": null,
            "padding": null,
            "grid_auto_rows": null,
            "grid_gap": null,
            "max_width": null,
            "order": null,
            "_view_module_version": "1.2.0",
            "grid_template_areas": null,
            "object_position": null,
            "object_fit": null,
            "grid_auto_columns": null,
            "margin": null,
            "display": null,
            "left": null
          }
        },
        "ca3970236f184fe18150a8ff864c007f": {
          "model_module": "@jupyter-widgets/controls",
          "model_name": "HBoxModel",
          "state": {
            "_view_name": "HBoxView",
            "_dom_classes": [],
            "_model_name": "HBoxModel",
            "_view_module": "@jupyter-widgets/controls",
            "_model_module_version": "1.5.0",
            "_view_count": null,
            "_view_module_version": "1.5.0",
            "box_style": "",
            "layout": "IPY_MODEL_d9d69656d212431f8e5e03841957a928",
            "_model_module": "@jupyter-widgets/controls",
            "children": [
              "IPY_MODEL_8d225cc7432a4e6a9e205d8e00fecc44",
              "IPY_MODEL_d8eea67a0d2546cf8fc9af7ab447c7df"
            ]
          }
        },
        "d9d69656d212431f8e5e03841957a928": {
          "model_module": "@jupyter-widgets/base",
          "model_name": "LayoutModel",
          "state": {
            "_view_name": "LayoutView",
            "grid_template_rows": null,
            "right": null,
            "justify_content": null,
            "_view_module": "@jupyter-widgets/base",
            "overflow": null,
            "_model_module_version": "1.2.0",
            "_view_count": null,
            "flex_flow": null,
            "width": null,
            "min_width": null,
            "border": null,
            "align_items": null,
            "bottom": null,
            "_model_module": "@jupyter-widgets/base",
            "top": null,
            "grid_column": null,
            "overflow_y": null,
            "overflow_x": null,
            "grid_auto_flow": null,
            "grid_area": null,
            "grid_template_columns": null,
            "flex": null,
            "_model_name": "LayoutModel",
            "justify_items": null,
            "grid_row": null,
            "max_height": null,
            "align_content": null,
            "visibility": null,
            "align_self": null,
            "height": null,
            "min_height": null,
            "padding": null,
            "grid_auto_rows": null,
            "grid_gap": null,
            "max_width": null,
            "order": null,
            "_view_module_version": "1.2.0",
            "grid_template_areas": null,
            "object_position": null,
            "object_fit": null,
            "grid_auto_columns": null,
            "margin": null,
            "display": null,
            "left": null
          }
        },
        "8d225cc7432a4e6a9e205d8e00fecc44": {
          "model_module": "@jupyter-widgets/controls",
          "model_name": "FloatProgressModel",
          "state": {
            "_view_name": "ProgressView",
            "style": "IPY_MODEL_4a1913efba1245259658ea964d857e27",
            "_dom_classes": [],
            "description": "#3: 100%",
            "_model_name": "FloatProgressModel",
            "bar_style": "success",
            "max": 749,
            "_view_module": "@jupyter-widgets/controls",
            "_model_module_version": "1.5.0",
            "value": 749,
            "_view_count": null,
            "_view_module_version": "1.5.0",
            "orientation": "horizontal",
            "min": 0,
            "description_tooltip": null,
            "_model_module": "@jupyter-widgets/controls",
            "layout": "IPY_MODEL_1bd9ce53f4bc42399f802e78536735e7"
          }
        },
        "d8eea67a0d2546cf8fc9af7ab447c7df": {
          "model_module": "@jupyter-widgets/controls",
          "model_name": "HTMLModel",
          "state": {
            "_view_name": "HTMLView",
            "style": "IPY_MODEL_8bdf07a32573496c9e1da4a4eb6eca9e",
            "_dom_classes": [],
            "description": "",
            "_model_name": "HTMLModel",
            "placeholder": "​",
            "_view_module": "@jupyter-widgets/controls",
            "_model_module_version": "1.5.0",
            "value": " 749/749 [00:40&lt;00:00, 18.30ex/s]",
            "_view_count": null,
            "_view_module_version": "1.5.0",
            "description_tooltip": null,
            "_model_module": "@jupyter-widgets/controls",
            "layout": "IPY_MODEL_cdc48f449a504cf6aa6442d68ea3081f"
          }
        },
        "4a1913efba1245259658ea964d857e27": {
          "model_module": "@jupyter-widgets/controls",
          "model_name": "ProgressStyleModel",
          "state": {
            "_view_name": "StyleView",
            "_model_name": "ProgressStyleModel",
            "description_width": "initial",
            "_view_module": "@jupyter-widgets/base",
            "_model_module_version": "1.5.0",
            "_view_count": null,
            "_view_module_version": "1.2.0",
            "bar_color": null,
            "_model_module": "@jupyter-widgets/controls"
          }
        },
        "1bd9ce53f4bc42399f802e78536735e7": {
          "model_module": "@jupyter-widgets/base",
          "model_name": "LayoutModel",
          "state": {
            "_view_name": "LayoutView",
            "grid_template_rows": null,
            "right": null,
            "justify_content": null,
            "_view_module": "@jupyter-widgets/base",
            "overflow": null,
            "_model_module_version": "1.2.0",
            "_view_count": null,
            "flex_flow": null,
            "width": null,
            "min_width": null,
            "border": null,
            "align_items": null,
            "bottom": null,
            "_model_module": "@jupyter-widgets/base",
            "top": null,
            "grid_column": null,
            "overflow_y": null,
            "overflow_x": null,
            "grid_auto_flow": null,
            "grid_area": null,
            "grid_template_columns": null,
            "flex": null,
            "_model_name": "LayoutModel",
            "justify_items": null,
            "grid_row": null,
            "max_height": null,
            "align_content": null,
            "visibility": null,
            "align_self": null,
            "height": null,
            "min_height": null,
            "padding": null,
            "grid_auto_rows": null,
            "grid_gap": null,
            "max_width": null,
            "order": null,
            "_view_module_version": "1.2.0",
            "grid_template_areas": null,
            "object_position": null,
            "object_fit": null,
            "grid_auto_columns": null,
            "margin": null,
            "display": null,
            "left": null
          }
        },
        "8bdf07a32573496c9e1da4a4eb6eca9e": {
          "model_module": "@jupyter-widgets/controls",
          "model_name": "DescriptionStyleModel",
          "state": {
            "_view_name": "StyleView",
            "_model_name": "DescriptionStyleModel",
            "description_width": "",
            "_view_module": "@jupyter-widgets/base",
            "_model_module_version": "1.5.0",
            "_view_count": null,
            "_view_module_version": "1.2.0",
            "_model_module": "@jupyter-widgets/controls"
          }
        },
        "cdc48f449a504cf6aa6442d68ea3081f": {
          "model_module": "@jupyter-widgets/base",
          "model_name": "LayoutModel",
          "state": {
            "_view_name": "LayoutView",
            "grid_template_rows": null,
            "right": null,
            "justify_content": null,
            "_view_module": "@jupyter-widgets/base",
            "overflow": null,
            "_model_module_version": "1.2.0",
            "_view_count": null,
            "flex_flow": null,
            "width": null,
            "min_width": null,
            "border": null,
            "align_items": null,
            "bottom": null,
            "_model_module": "@jupyter-widgets/base",
            "top": null,
            "grid_column": null,
            "overflow_y": null,
            "overflow_x": null,
            "grid_auto_flow": null,
            "grid_area": null,
            "grid_template_columns": null,
            "flex": null,
            "_model_name": "LayoutModel",
            "justify_items": null,
            "grid_row": null,
            "max_height": null,
            "align_content": null,
            "visibility": null,
            "align_self": null,
            "height": null,
            "min_height": null,
            "padding": null,
            "grid_auto_rows": null,
            "grid_gap": null,
            "max_width": null,
            "order": null,
            "_view_module_version": "1.2.0",
            "grid_template_areas": null,
            "object_position": null,
            "object_fit": null,
            "grid_auto_columns": null,
            "margin": null,
            "display": null,
            "left": null
          }
        },
        "3a8e5bac583948cd940f2fa878c2ae51": {
          "model_module": "@jupyter-widgets/controls",
          "model_name": "HBoxModel",
          "state": {
            "_view_name": "HBoxView",
            "_dom_classes": [],
            "_model_name": "HBoxModel",
            "_view_module": "@jupyter-widgets/controls",
            "_model_module_version": "1.5.0",
            "_view_count": null,
            "_view_module_version": "1.5.0",
            "box_style": "",
            "layout": "IPY_MODEL_100ec367018e431a9ecc35c21d4b5875",
            "_model_module": "@jupyter-widgets/controls",
            "children": [
              "IPY_MODEL_e4963efa11884414b47f5ca6e56dffb6",
              "IPY_MODEL_342aaf3a725a4ac5bfe6bb473ad91798"
            ]
          }
        },
        "100ec367018e431a9ecc35c21d4b5875": {
          "model_module": "@jupyter-widgets/base",
          "model_name": "LayoutModel",
          "state": {
            "_view_name": "LayoutView",
            "grid_template_rows": null,
            "right": null,
            "justify_content": null,
            "_view_module": "@jupyter-widgets/base",
            "overflow": null,
            "_model_module_version": "1.2.0",
            "_view_count": null,
            "flex_flow": null,
            "width": null,
            "min_width": null,
            "border": null,
            "align_items": null,
            "bottom": null,
            "_model_module": "@jupyter-widgets/base",
            "top": null,
            "grid_column": null,
            "overflow_y": null,
            "overflow_x": null,
            "grid_auto_flow": null,
            "grid_area": null,
            "grid_template_columns": null,
            "flex": null,
            "_model_name": "LayoutModel",
            "justify_items": null,
            "grid_row": null,
            "max_height": null,
            "align_content": null,
            "visibility": null,
            "align_self": null,
            "height": null,
            "min_height": null,
            "padding": null,
            "grid_auto_rows": null,
            "grid_gap": null,
            "max_width": null,
            "order": null,
            "_view_module_version": "1.2.0",
            "grid_template_areas": null,
            "object_position": null,
            "object_fit": null,
            "grid_auto_columns": null,
            "margin": null,
            "display": null,
            "left": null
          }
        },
        "e4963efa11884414b47f5ca6e56dffb6": {
          "model_module": "@jupyter-widgets/controls",
          "model_name": "FloatProgressModel",
          "state": {
            "_view_name": "ProgressView",
            "style": "IPY_MODEL_13a40a6e14a74aebabd23639c33c147d",
            "_dom_classes": [],
            "description": "#0: 100%",
            "_model_name": "FloatProgressModel",
            "bar_style": "success",
            "max": 43,
            "_view_module": "@jupyter-widgets/controls",
            "_model_module_version": "1.5.0",
            "value": 43,
            "_view_count": null,
            "_view_module_version": "1.5.0",
            "orientation": "horizontal",
            "min": 0,
            "description_tooltip": null,
            "_model_module": "@jupyter-widgets/controls",
            "layout": "IPY_MODEL_5cc1a9af64264900afca53a8319e26d8"
          }
        },
        "342aaf3a725a4ac5bfe6bb473ad91798": {
          "model_module": "@jupyter-widgets/controls",
          "model_name": "HTMLModel",
          "state": {
            "_view_name": "HTMLView",
            "style": "IPY_MODEL_31e4196963b74ad98b94e563022ae35e",
            "_dom_classes": [],
            "description": "",
            "_model_name": "HTMLModel",
            "placeholder": "​",
            "_view_module": "@jupyter-widgets/controls",
            "_model_module_version": "1.5.0",
            "value": " 43/43 [00:05&lt;00:00,  7.62ex/s]",
            "_view_count": null,
            "_view_module_version": "1.5.0",
            "description_tooltip": null,
            "_model_module": "@jupyter-widgets/controls",
            "layout": "IPY_MODEL_e6d8464f61f44e15925f62b53c953dd9"
          }
        },
        "13a40a6e14a74aebabd23639c33c147d": {
          "model_module": "@jupyter-widgets/controls",
          "model_name": "ProgressStyleModel",
          "state": {
            "_view_name": "StyleView",
            "_model_name": "ProgressStyleModel",
            "description_width": "initial",
            "_view_module": "@jupyter-widgets/base",
            "_model_module_version": "1.5.0",
            "_view_count": null,
            "_view_module_version": "1.2.0",
            "bar_color": null,
            "_model_module": "@jupyter-widgets/controls"
          }
        },
        "5cc1a9af64264900afca53a8319e26d8": {
          "model_module": "@jupyter-widgets/base",
          "model_name": "LayoutModel",
          "state": {
            "_view_name": "LayoutView",
            "grid_template_rows": null,
            "right": null,
            "justify_content": null,
            "_view_module": "@jupyter-widgets/base",
            "overflow": null,
            "_model_module_version": "1.2.0",
            "_view_count": null,
            "flex_flow": null,
            "width": null,
            "min_width": null,
            "border": null,
            "align_items": null,
            "bottom": null,
            "_model_module": "@jupyter-widgets/base",
            "top": null,
            "grid_column": null,
            "overflow_y": null,
            "overflow_x": null,
            "grid_auto_flow": null,
            "grid_area": null,
            "grid_template_columns": null,
            "flex": null,
            "_model_name": "LayoutModel",
            "justify_items": null,
            "grid_row": null,
            "max_height": null,
            "align_content": null,
            "visibility": null,
            "align_self": null,
            "height": null,
            "min_height": null,
            "padding": null,
            "grid_auto_rows": null,
            "grid_gap": null,
            "max_width": null,
            "order": null,
            "_view_module_version": "1.2.0",
            "grid_template_areas": null,
            "object_position": null,
            "object_fit": null,
            "grid_auto_columns": null,
            "margin": null,
            "display": null,
            "left": null
          }
        },
        "31e4196963b74ad98b94e563022ae35e": {
          "model_module": "@jupyter-widgets/controls",
          "model_name": "DescriptionStyleModel",
          "state": {
            "_view_name": "StyleView",
            "_model_name": "DescriptionStyleModel",
            "description_width": "",
            "_view_module": "@jupyter-widgets/base",
            "_model_module_version": "1.5.0",
            "_view_count": null,
            "_view_module_version": "1.2.0",
            "_model_module": "@jupyter-widgets/controls"
          }
        },
        "e6d8464f61f44e15925f62b53c953dd9": {
          "model_module": "@jupyter-widgets/base",
          "model_name": "LayoutModel",
          "state": {
            "_view_name": "LayoutView",
            "grid_template_rows": null,
            "right": null,
            "justify_content": null,
            "_view_module": "@jupyter-widgets/base",
            "overflow": null,
            "_model_module_version": "1.2.0",
            "_view_count": null,
            "flex_flow": null,
            "width": null,
            "min_width": null,
            "border": null,
            "align_items": null,
            "bottom": null,
            "_model_module": "@jupyter-widgets/base",
            "top": null,
            "grid_column": null,
            "overflow_y": null,
            "overflow_x": null,
            "grid_auto_flow": null,
            "grid_area": null,
            "grid_template_columns": null,
            "flex": null,
            "_model_name": "LayoutModel",
            "justify_items": null,
            "grid_row": null,
            "max_height": null,
            "align_content": null,
            "visibility": null,
            "align_self": null,
            "height": null,
            "min_height": null,
            "padding": null,
            "grid_auto_rows": null,
            "grid_gap": null,
            "max_width": null,
            "order": null,
            "_view_module_version": "1.2.0",
            "grid_template_areas": null,
            "object_position": null,
            "object_fit": null,
            "grid_auto_columns": null,
            "margin": null,
            "display": null,
            "left": null
          }
        },
        "71d6e14a5a1e4304bdd85a1e55bf844c": {
          "model_module": "@jupyter-widgets/controls",
          "model_name": "HBoxModel",
          "state": {
            "_view_name": "HBoxView",
            "_dom_classes": [],
            "_model_name": "HBoxModel",
            "_view_module": "@jupyter-widgets/controls",
            "_model_module_version": "1.5.0",
            "_view_count": null,
            "_view_module_version": "1.5.0",
            "box_style": "",
            "layout": "IPY_MODEL_fdc0109c5367462791fbb02ed867707d",
            "_model_module": "@jupyter-widgets/controls",
            "children": [
              "IPY_MODEL_810cc962992242cc915aa4026212804d",
              "IPY_MODEL_e394ad57c4c54b0592344d8aab07b8cf"
            ]
          }
        },
        "fdc0109c5367462791fbb02ed867707d": {
          "model_module": "@jupyter-widgets/base",
          "model_name": "LayoutModel",
          "state": {
            "_view_name": "LayoutView",
            "grid_template_rows": null,
            "right": null,
            "justify_content": null,
            "_view_module": "@jupyter-widgets/base",
            "overflow": null,
            "_model_module_version": "1.2.0",
            "_view_count": null,
            "flex_flow": null,
            "width": null,
            "min_width": null,
            "border": null,
            "align_items": null,
            "bottom": null,
            "_model_module": "@jupyter-widgets/base",
            "top": null,
            "grid_column": null,
            "overflow_y": null,
            "overflow_x": null,
            "grid_auto_flow": null,
            "grid_area": null,
            "grid_template_columns": null,
            "flex": null,
            "_model_name": "LayoutModel",
            "justify_items": null,
            "grid_row": null,
            "max_height": null,
            "align_content": null,
            "visibility": null,
            "align_self": null,
            "height": null,
            "min_height": null,
            "padding": null,
            "grid_auto_rows": null,
            "grid_gap": null,
            "max_width": null,
            "order": null,
            "_view_module_version": "1.2.0",
            "grid_template_areas": null,
            "object_position": null,
            "object_fit": null,
            "grid_auto_columns": null,
            "margin": null,
            "display": null,
            "left": null
          }
        },
        "810cc962992242cc915aa4026212804d": {
          "model_module": "@jupyter-widgets/controls",
          "model_name": "FloatProgressModel",
          "state": {
            "_view_name": "ProgressView",
            "style": "IPY_MODEL_9279863f247a4020ab239c39352bd67d",
            "_dom_classes": [],
            "description": "#1: 100%",
            "_model_name": "FloatProgressModel",
            "bar_style": "success",
            "max": 42,
            "_view_module": "@jupyter-widgets/controls",
            "_model_module_version": "1.5.0",
            "value": 42,
            "_view_count": null,
            "_view_module_version": "1.5.0",
            "orientation": "horizontal",
            "min": 0,
            "description_tooltip": null,
            "_model_module": "@jupyter-widgets/controls",
            "layout": "IPY_MODEL_cd477b49079340358a0f7526751b82f9"
          }
        },
        "e394ad57c4c54b0592344d8aab07b8cf": {
          "model_module": "@jupyter-widgets/controls",
          "model_name": "HTMLModel",
          "state": {
            "_view_name": "HTMLView",
            "style": "IPY_MODEL_7acb6cd2bedb415eb96cb9977181fe98",
            "_dom_classes": [],
            "description": "",
            "_model_name": "HTMLModel",
            "placeholder": "​",
            "_view_module": "@jupyter-widgets/controls",
            "_model_module_version": "1.5.0",
            "value": " 42/42 [00:06&lt;00:00,  6.91ex/s]",
            "_view_count": null,
            "_view_module_version": "1.5.0",
            "description_tooltip": null,
            "_model_module": "@jupyter-widgets/controls",
            "layout": "IPY_MODEL_0574a5378ec84c269c5e3d82070cfeb2"
          }
        },
        "9279863f247a4020ab239c39352bd67d": {
          "model_module": "@jupyter-widgets/controls",
          "model_name": "ProgressStyleModel",
          "state": {
            "_view_name": "StyleView",
            "_model_name": "ProgressStyleModel",
            "description_width": "initial",
            "_view_module": "@jupyter-widgets/base",
            "_model_module_version": "1.5.0",
            "_view_count": null,
            "_view_module_version": "1.2.0",
            "bar_color": null,
            "_model_module": "@jupyter-widgets/controls"
          }
        },
        "cd477b49079340358a0f7526751b82f9": {
          "model_module": "@jupyter-widgets/base",
          "model_name": "LayoutModel",
          "state": {
            "_view_name": "LayoutView",
            "grid_template_rows": null,
            "right": null,
            "justify_content": null,
            "_view_module": "@jupyter-widgets/base",
            "overflow": null,
            "_model_module_version": "1.2.0",
            "_view_count": null,
            "flex_flow": null,
            "width": null,
            "min_width": null,
            "border": null,
            "align_items": null,
            "bottom": null,
            "_model_module": "@jupyter-widgets/base",
            "top": null,
            "grid_column": null,
            "overflow_y": null,
            "overflow_x": null,
            "grid_auto_flow": null,
            "grid_area": null,
            "grid_template_columns": null,
            "flex": null,
            "_model_name": "LayoutModel",
            "justify_items": null,
            "grid_row": null,
            "max_height": null,
            "align_content": null,
            "visibility": null,
            "align_self": null,
            "height": null,
            "min_height": null,
            "padding": null,
            "grid_auto_rows": null,
            "grid_gap": null,
            "max_width": null,
            "order": null,
            "_view_module_version": "1.2.0",
            "grid_template_areas": null,
            "object_position": null,
            "object_fit": null,
            "grid_auto_columns": null,
            "margin": null,
            "display": null,
            "left": null
          }
        },
        "7acb6cd2bedb415eb96cb9977181fe98": {
          "model_module": "@jupyter-widgets/controls",
          "model_name": "DescriptionStyleModel",
          "state": {
            "_view_name": "StyleView",
            "_model_name": "DescriptionStyleModel",
            "description_width": "",
            "_view_module": "@jupyter-widgets/base",
            "_model_module_version": "1.5.0",
            "_view_count": null,
            "_view_module_version": "1.2.0",
            "_model_module": "@jupyter-widgets/controls"
          }
        },
        "0574a5378ec84c269c5e3d82070cfeb2": {
          "model_module": "@jupyter-widgets/base",
          "model_name": "LayoutModel",
          "state": {
            "_view_name": "LayoutView",
            "grid_template_rows": null,
            "right": null,
            "justify_content": null,
            "_view_module": "@jupyter-widgets/base",
            "overflow": null,
            "_model_module_version": "1.2.0",
            "_view_count": null,
            "flex_flow": null,
            "width": null,
            "min_width": null,
            "border": null,
            "align_items": null,
            "bottom": null,
            "_model_module": "@jupyter-widgets/base",
            "top": null,
            "grid_column": null,
            "overflow_y": null,
            "overflow_x": null,
            "grid_auto_flow": null,
            "grid_area": null,
            "grid_template_columns": null,
            "flex": null,
            "_model_name": "LayoutModel",
            "justify_items": null,
            "grid_row": null,
            "max_height": null,
            "align_content": null,
            "visibility": null,
            "align_self": null,
            "height": null,
            "min_height": null,
            "padding": null,
            "grid_auto_rows": null,
            "grid_gap": null,
            "max_width": null,
            "order": null,
            "_view_module_version": "1.2.0",
            "grid_template_areas": null,
            "object_position": null,
            "object_fit": null,
            "grid_auto_columns": null,
            "margin": null,
            "display": null,
            "left": null
          }
        },
        "9c0bab7e8af64d5bbb315034252af5dd": {
          "model_module": "@jupyter-widgets/controls",
          "model_name": "HBoxModel",
          "state": {
            "_view_name": "HBoxView",
            "_dom_classes": [],
            "_model_name": "HBoxModel",
            "_view_module": "@jupyter-widgets/controls",
            "_model_module_version": "1.5.0",
            "_view_count": null,
            "_view_module_version": "1.5.0",
            "box_style": "",
            "layout": "IPY_MODEL_29ec6eaefe1747d7987af7586c822421",
            "_model_module": "@jupyter-widgets/controls",
            "children": [
              "IPY_MODEL_54ccad1089f049e9ae149a47a3d228f1",
              "IPY_MODEL_b1c095df737e462cbd84e41691dcf267"
            ]
          }
        },
        "29ec6eaefe1747d7987af7586c822421": {
          "model_module": "@jupyter-widgets/base",
          "model_name": "LayoutModel",
          "state": {
            "_view_name": "LayoutView",
            "grid_template_rows": null,
            "right": null,
            "justify_content": null,
            "_view_module": "@jupyter-widgets/base",
            "overflow": null,
            "_model_module_version": "1.2.0",
            "_view_count": null,
            "flex_flow": null,
            "width": null,
            "min_width": null,
            "border": null,
            "align_items": null,
            "bottom": null,
            "_model_module": "@jupyter-widgets/base",
            "top": null,
            "grid_column": null,
            "overflow_y": null,
            "overflow_x": null,
            "grid_auto_flow": null,
            "grid_area": null,
            "grid_template_columns": null,
            "flex": null,
            "_model_name": "LayoutModel",
            "justify_items": null,
            "grid_row": null,
            "max_height": null,
            "align_content": null,
            "visibility": null,
            "align_self": null,
            "height": null,
            "min_height": null,
            "padding": null,
            "grid_auto_rows": null,
            "grid_gap": null,
            "max_width": null,
            "order": null,
            "_view_module_version": "1.2.0",
            "grid_template_areas": null,
            "object_position": null,
            "object_fit": null,
            "grid_auto_columns": null,
            "margin": null,
            "display": null,
            "left": null
          }
        },
        "54ccad1089f049e9ae149a47a3d228f1": {
          "model_module": "@jupyter-widgets/controls",
          "model_name": "FloatProgressModel",
          "state": {
            "_view_name": "ProgressView",
            "style": "IPY_MODEL_2459f2ad9691475c80bb1c21c8f335bf",
            "_dom_classes": [],
            "description": "#2: 100%",
            "_model_name": "FloatProgressModel",
            "bar_style": "success",
            "max": 42,
            "_view_module": "@jupyter-widgets/controls",
            "_model_module_version": "1.5.0",
            "value": 42,
            "_view_count": null,
            "_view_module_version": "1.5.0",
            "orientation": "horizontal",
            "min": 0,
            "description_tooltip": null,
            "_model_module": "@jupyter-widgets/controls",
            "layout": "IPY_MODEL_019aa4ef0be84eab9c3932c5e1f4666a"
          }
        },
        "b1c095df737e462cbd84e41691dcf267": {
          "model_module": "@jupyter-widgets/controls",
          "model_name": "HTMLModel",
          "state": {
            "_view_name": "HTMLView",
            "style": "IPY_MODEL_4ece9dc4939942df8684482f460fd0fc",
            "_dom_classes": [],
            "description": "",
            "_model_name": "HTMLModel",
            "placeholder": "​",
            "_view_module": "@jupyter-widgets/controls",
            "_model_module_version": "1.5.0",
            "value": " 42/42 [00:06&lt;00:00,  6.04ex/s]",
            "_view_count": null,
            "_view_module_version": "1.5.0",
            "description_tooltip": null,
            "_model_module": "@jupyter-widgets/controls",
            "layout": "IPY_MODEL_c3490190252e4f989cf7d1c92f829635"
          }
        },
        "2459f2ad9691475c80bb1c21c8f335bf": {
          "model_module": "@jupyter-widgets/controls",
          "model_name": "ProgressStyleModel",
          "state": {
            "_view_name": "StyleView",
            "_model_name": "ProgressStyleModel",
            "description_width": "initial",
            "_view_module": "@jupyter-widgets/base",
            "_model_module_version": "1.5.0",
            "_view_count": null,
            "_view_module_version": "1.2.0",
            "bar_color": null,
            "_model_module": "@jupyter-widgets/controls"
          }
        },
        "019aa4ef0be84eab9c3932c5e1f4666a": {
          "model_module": "@jupyter-widgets/base",
          "model_name": "LayoutModel",
          "state": {
            "_view_name": "LayoutView",
            "grid_template_rows": null,
            "right": null,
            "justify_content": null,
            "_view_module": "@jupyter-widgets/base",
            "overflow": null,
            "_model_module_version": "1.2.0",
            "_view_count": null,
            "flex_flow": null,
            "width": null,
            "min_width": null,
            "border": null,
            "align_items": null,
            "bottom": null,
            "_model_module": "@jupyter-widgets/base",
            "top": null,
            "grid_column": null,
            "overflow_y": null,
            "overflow_x": null,
            "grid_auto_flow": null,
            "grid_area": null,
            "grid_template_columns": null,
            "flex": null,
            "_model_name": "LayoutModel",
            "justify_items": null,
            "grid_row": null,
            "max_height": null,
            "align_content": null,
            "visibility": null,
            "align_self": null,
            "height": null,
            "min_height": null,
            "padding": null,
            "grid_auto_rows": null,
            "grid_gap": null,
            "max_width": null,
            "order": null,
            "_view_module_version": "1.2.0",
            "grid_template_areas": null,
            "object_position": null,
            "object_fit": null,
            "grid_auto_columns": null,
            "margin": null,
            "display": null,
            "left": null
          }
        },
        "4ece9dc4939942df8684482f460fd0fc": {
          "model_module": "@jupyter-widgets/controls",
          "model_name": "DescriptionStyleModel",
          "state": {
            "_view_name": "StyleView",
            "_model_name": "DescriptionStyleModel",
            "description_width": "",
            "_view_module": "@jupyter-widgets/base",
            "_model_module_version": "1.5.0",
            "_view_count": null,
            "_view_module_version": "1.2.0",
            "_model_module": "@jupyter-widgets/controls"
          }
        },
        "c3490190252e4f989cf7d1c92f829635": {
          "model_module": "@jupyter-widgets/base",
          "model_name": "LayoutModel",
          "state": {
            "_view_name": "LayoutView",
            "grid_template_rows": null,
            "right": null,
            "justify_content": null,
            "_view_module": "@jupyter-widgets/base",
            "overflow": null,
            "_model_module_version": "1.2.0",
            "_view_count": null,
            "flex_flow": null,
            "width": null,
            "min_width": null,
            "border": null,
            "align_items": null,
            "bottom": null,
            "_model_module": "@jupyter-widgets/base",
            "top": null,
            "grid_column": null,
            "overflow_y": null,
            "overflow_x": null,
            "grid_auto_flow": null,
            "grid_area": null,
            "grid_template_columns": null,
            "flex": null,
            "_model_name": "LayoutModel",
            "justify_items": null,
            "grid_row": null,
            "max_height": null,
            "align_content": null,
            "visibility": null,
            "align_self": null,
            "height": null,
            "min_height": null,
            "padding": null,
            "grid_auto_rows": null,
            "grid_gap": null,
            "max_width": null,
            "order": null,
            "_view_module_version": "1.2.0",
            "grid_template_areas": null,
            "object_position": null,
            "object_fit": null,
            "grid_auto_columns": null,
            "margin": null,
            "display": null,
            "left": null
          }
        },
        "3ada657ce90740a79416c51fe334dca8": {
          "model_module": "@jupyter-widgets/controls",
          "model_name": "HBoxModel",
          "state": {
            "_view_name": "HBoxView",
            "_dom_classes": [],
            "_model_name": "HBoxModel",
            "_view_module": "@jupyter-widgets/controls",
            "_model_module_version": "1.5.0",
            "_view_count": null,
            "_view_module_version": "1.5.0",
            "box_style": "",
            "layout": "IPY_MODEL_3ed33a69d4f74aa8873bdc57814d9bc3",
            "_model_module": "@jupyter-widgets/controls",
            "children": [
              "IPY_MODEL_192c9fe9066e401f8f027fb2a58fe508",
              "IPY_MODEL_2d68f53922a64a7b95109f8def706057"
            ]
          }
        },
        "3ed33a69d4f74aa8873bdc57814d9bc3": {
          "model_module": "@jupyter-widgets/base",
          "model_name": "LayoutModel",
          "state": {
            "_view_name": "LayoutView",
            "grid_template_rows": null,
            "right": null,
            "justify_content": null,
            "_view_module": "@jupyter-widgets/base",
            "overflow": null,
            "_model_module_version": "1.2.0",
            "_view_count": null,
            "flex_flow": null,
            "width": null,
            "min_width": null,
            "border": null,
            "align_items": null,
            "bottom": null,
            "_model_module": "@jupyter-widgets/base",
            "top": null,
            "grid_column": null,
            "overflow_y": null,
            "overflow_x": null,
            "grid_auto_flow": null,
            "grid_area": null,
            "grid_template_columns": null,
            "flex": null,
            "_model_name": "LayoutModel",
            "justify_items": null,
            "grid_row": null,
            "max_height": null,
            "align_content": null,
            "visibility": null,
            "align_self": null,
            "height": null,
            "min_height": null,
            "padding": null,
            "grid_auto_rows": null,
            "grid_gap": null,
            "max_width": null,
            "order": null,
            "_view_module_version": "1.2.0",
            "grid_template_areas": null,
            "object_position": null,
            "object_fit": null,
            "grid_auto_columns": null,
            "margin": null,
            "display": null,
            "left": null
          }
        },
        "192c9fe9066e401f8f027fb2a58fe508": {
          "model_module": "@jupyter-widgets/controls",
          "model_name": "FloatProgressModel",
          "state": {
            "_view_name": "ProgressView",
            "style": "IPY_MODEL_3a1a90fed005416a957479e106a9cbc4",
            "_dom_classes": [],
            "description": "#3: 100%",
            "_model_name": "FloatProgressModel",
            "bar_style": "success",
            "max": 42,
            "_view_module": "@jupyter-widgets/controls",
            "_model_module_version": "1.5.0",
            "value": 42,
            "_view_count": null,
            "_view_module_version": "1.5.0",
            "orientation": "horizontal",
            "min": 0,
            "description_tooltip": null,
            "_model_module": "@jupyter-widgets/controls",
            "layout": "IPY_MODEL_b2fd1ea110f348e397bd5c204faab315"
          }
        },
        "2d68f53922a64a7b95109f8def706057": {
          "model_module": "@jupyter-widgets/controls",
          "model_name": "HTMLModel",
          "state": {
            "_view_name": "HTMLView",
            "style": "IPY_MODEL_23e28e84e642463eb97af99e5a3dee1e",
            "_dom_classes": [],
            "description": "",
            "_model_name": "HTMLModel",
            "placeholder": "​",
            "_view_module": "@jupyter-widgets/controls",
            "_model_module_version": "1.5.0",
            "value": " 42/42 [00:06&lt;00:00,  6.92ex/s]",
            "_view_count": null,
            "_view_module_version": "1.5.0",
            "description_tooltip": null,
            "_model_module": "@jupyter-widgets/controls",
            "layout": "IPY_MODEL_8136ebd55e2a4c759f60ce3d0358486f"
          }
        },
        "3a1a90fed005416a957479e106a9cbc4": {
          "model_module": "@jupyter-widgets/controls",
          "model_name": "ProgressStyleModel",
          "state": {
            "_view_name": "StyleView",
            "_model_name": "ProgressStyleModel",
            "description_width": "initial",
            "_view_module": "@jupyter-widgets/base",
            "_model_module_version": "1.5.0",
            "_view_count": null,
            "_view_module_version": "1.2.0",
            "bar_color": null,
            "_model_module": "@jupyter-widgets/controls"
          }
        },
        "b2fd1ea110f348e397bd5c204faab315": {
          "model_module": "@jupyter-widgets/base",
          "model_name": "LayoutModel",
          "state": {
            "_view_name": "LayoutView",
            "grid_template_rows": null,
            "right": null,
            "justify_content": null,
            "_view_module": "@jupyter-widgets/base",
            "overflow": null,
            "_model_module_version": "1.2.0",
            "_view_count": null,
            "flex_flow": null,
            "width": null,
            "min_width": null,
            "border": null,
            "align_items": null,
            "bottom": null,
            "_model_module": "@jupyter-widgets/base",
            "top": null,
            "grid_column": null,
            "overflow_y": null,
            "overflow_x": null,
            "grid_auto_flow": null,
            "grid_area": null,
            "grid_template_columns": null,
            "flex": null,
            "_model_name": "LayoutModel",
            "justify_items": null,
            "grid_row": null,
            "max_height": null,
            "align_content": null,
            "visibility": null,
            "align_self": null,
            "height": null,
            "min_height": null,
            "padding": null,
            "grid_auto_rows": null,
            "grid_gap": null,
            "max_width": null,
            "order": null,
            "_view_module_version": "1.2.0",
            "grid_template_areas": null,
            "object_position": null,
            "object_fit": null,
            "grid_auto_columns": null,
            "margin": null,
            "display": null,
            "left": null
          }
        },
        "23e28e84e642463eb97af99e5a3dee1e": {
          "model_module": "@jupyter-widgets/controls",
          "model_name": "DescriptionStyleModel",
          "state": {
            "_view_name": "StyleView",
            "_model_name": "DescriptionStyleModel",
            "description_width": "",
            "_view_module": "@jupyter-widgets/base",
            "_model_module_version": "1.5.0",
            "_view_count": null,
            "_view_module_version": "1.2.0",
            "_model_module": "@jupyter-widgets/controls"
          }
        },
        "8136ebd55e2a4c759f60ce3d0358486f": {
          "model_module": "@jupyter-widgets/base",
          "model_name": "LayoutModel",
          "state": {
            "_view_name": "LayoutView",
            "grid_template_rows": null,
            "right": null,
            "justify_content": null,
            "_view_module": "@jupyter-widgets/base",
            "overflow": null,
            "_model_module_version": "1.2.0",
            "_view_count": null,
            "flex_flow": null,
            "width": null,
            "min_width": null,
            "border": null,
            "align_items": null,
            "bottom": null,
            "_model_module": "@jupyter-widgets/base",
            "top": null,
            "grid_column": null,
            "overflow_y": null,
            "overflow_x": null,
            "grid_auto_flow": null,
            "grid_area": null,
            "grid_template_columns": null,
            "flex": null,
            "_model_name": "LayoutModel",
            "justify_items": null,
            "grid_row": null,
            "max_height": null,
            "align_content": null,
            "visibility": null,
            "align_self": null,
            "height": null,
            "min_height": null,
            "padding": null,
            "grid_auto_rows": null,
            "grid_gap": null,
            "max_width": null,
            "order": null,
            "_view_module_version": "1.2.0",
            "grid_template_areas": null,
            "object_position": null,
            "object_fit": null,
            "grid_auto_columns": null,
            "margin": null,
            "display": null,
            "left": null
          }
        },
        "2788efe237644b3aac6a710ac7450c8a": {
          "model_module": "@jupyter-widgets/controls",
          "model_name": "HBoxModel",
          "state": {
            "_view_name": "HBoxView",
            "_dom_classes": [],
            "_model_name": "HBoxModel",
            "_view_module": "@jupyter-widgets/controls",
            "_model_module_version": "1.5.0",
            "_view_count": null,
            "_view_module_version": "1.5.0",
            "box_style": "",
            "layout": "IPY_MODEL_44f8195ff08f452d95a9d143ff989eda",
            "_model_module": "@jupyter-widgets/controls",
            "children": [
              "IPY_MODEL_a5f051c7899545a19ed0196208445e17",
              "IPY_MODEL_1f440e2144f74fed9ef15d47bec76a82"
            ]
          }
        },
        "44f8195ff08f452d95a9d143ff989eda": {
          "model_module": "@jupyter-widgets/base",
          "model_name": "LayoutModel",
          "state": {
            "_view_name": "LayoutView",
            "grid_template_rows": null,
            "right": null,
            "justify_content": null,
            "_view_module": "@jupyter-widgets/base",
            "overflow": null,
            "_model_module_version": "1.2.0",
            "_view_count": null,
            "flex_flow": null,
            "width": null,
            "min_width": null,
            "border": null,
            "align_items": null,
            "bottom": null,
            "_model_module": "@jupyter-widgets/base",
            "top": null,
            "grid_column": null,
            "overflow_y": null,
            "overflow_x": null,
            "grid_auto_flow": null,
            "grid_area": null,
            "grid_template_columns": null,
            "flex": null,
            "_model_name": "LayoutModel",
            "justify_items": null,
            "grid_row": null,
            "max_height": null,
            "align_content": null,
            "visibility": null,
            "align_self": null,
            "height": null,
            "min_height": null,
            "padding": null,
            "grid_auto_rows": null,
            "grid_gap": null,
            "max_width": null,
            "order": null,
            "_view_module_version": "1.2.0",
            "grid_template_areas": null,
            "object_position": null,
            "object_fit": null,
            "grid_auto_columns": null,
            "margin": null,
            "display": null,
            "left": null
          }
        },
        "a5f051c7899545a19ed0196208445e17": {
          "model_module": "@jupyter-widgets/controls",
          "model_name": "FloatProgressModel",
          "state": {
            "_view_name": "ProgressView",
            "style": "IPY_MODEL_403cb11fb7934330ba3dea5816a8d059",
            "_dom_classes": [],
            "description": "#0: 100%",
            "_model_name": "FloatProgressModel",
            "bar_style": "success",
            "max": 94,
            "_view_module": "@jupyter-widgets/controls",
            "_model_module_version": "1.5.0",
            "value": 94,
            "_view_count": null,
            "_view_module_version": "1.5.0",
            "orientation": "horizontal",
            "min": 0,
            "description_tooltip": null,
            "_model_module": "@jupyter-widgets/controls",
            "layout": "IPY_MODEL_5f5387ca16fd4ca088236cac335efb52"
          }
        },
        "1f440e2144f74fed9ef15d47bec76a82": {
          "model_module": "@jupyter-widgets/controls",
          "model_name": "HTMLModel",
          "state": {
            "_view_name": "HTMLView",
            "style": "IPY_MODEL_69755560e41c4574a3074f1f0b705969",
            "_dom_classes": [],
            "description": "",
            "_model_name": "HTMLModel",
            "placeholder": "​",
            "_view_module": "@jupyter-widgets/controls",
            "_model_module_version": "1.5.0",
            "value": " 94/94 [00:49&lt;00:00,  1.91ba/s]",
            "_view_count": null,
            "_view_module_version": "1.5.0",
            "description_tooltip": null,
            "_model_module": "@jupyter-widgets/controls",
            "layout": "IPY_MODEL_69c6396c76f24ffca4881714365b9d0f"
          }
        },
        "403cb11fb7934330ba3dea5816a8d059": {
          "model_module": "@jupyter-widgets/controls",
          "model_name": "ProgressStyleModel",
          "state": {
            "_view_name": "StyleView",
            "_model_name": "ProgressStyleModel",
            "description_width": "initial",
            "_view_module": "@jupyter-widgets/base",
            "_model_module_version": "1.5.0",
            "_view_count": null,
            "_view_module_version": "1.2.0",
            "bar_color": null,
            "_model_module": "@jupyter-widgets/controls"
          }
        },
        "5f5387ca16fd4ca088236cac335efb52": {
          "model_module": "@jupyter-widgets/base",
          "model_name": "LayoutModel",
          "state": {
            "_view_name": "LayoutView",
            "grid_template_rows": null,
            "right": null,
            "justify_content": null,
            "_view_module": "@jupyter-widgets/base",
            "overflow": null,
            "_model_module_version": "1.2.0",
            "_view_count": null,
            "flex_flow": null,
            "width": null,
            "min_width": null,
            "border": null,
            "align_items": null,
            "bottom": null,
            "_model_module": "@jupyter-widgets/base",
            "top": null,
            "grid_column": null,
            "overflow_y": null,
            "overflow_x": null,
            "grid_auto_flow": null,
            "grid_area": null,
            "grid_template_columns": null,
            "flex": null,
            "_model_name": "LayoutModel",
            "justify_items": null,
            "grid_row": null,
            "max_height": null,
            "align_content": null,
            "visibility": null,
            "align_self": null,
            "height": null,
            "min_height": null,
            "padding": null,
            "grid_auto_rows": null,
            "grid_gap": null,
            "max_width": null,
            "order": null,
            "_view_module_version": "1.2.0",
            "grid_template_areas": null,
            "object_position": null,
            "object_fit": null,
            "grid_auto_columns": null,
            "margin": null,
            "display": null,
            "left": null
          }
        },
        "69755560e41c4574a3074f1f0b705969": {
          "model_module": "@jupyter-widgets/controls",
          "model_name": "DescriptionStyleModel",
          "state": {
            "_view_name": "StyleView",
            "_model_name": "DescriptionStyleModel",
            "description_width": "",
            "_view_module": "@jupyter-widgets/base",
            "_model_module_version": "1.5.0",
            "_view_count": null,
            "_view_module_version": "1.2.0",
            "_model_module": "@jupyter-widgets/controls"
          }
        },
        "69c6396c76f24ffca4881714365b9d0f": {
          "model_module": "@jupyter-widgets/base",
          "model_name": "LayoutModel",
          "state": {
            "_view_name": "LayoutView",
            "grid_template_rows": null,
            "right": null,
            "justify_content": null,
            "_view_module": "@jupyter-widgets/base",
            "overflow": null,
            "_model_module_version": "1.2.0",
            "_view_count": null,
            "flex_flow": null,
            "width": null,
            "min_width": null,
            "border": null,
            "align_items": null,
            "bottom": null,
            "_model_module": "@jupyter-widgets/base",
            "top": null,
            "grid_column": null,
            "overflow_y": null,
            "overflow_x": null,
            "grid_auto_flow": null,
            "grid_area": null,
            "grid_template_columns": null,
            "flex": null,
            "_model_name": "LayoutModel",
            "justify_items": null,
            "grid_row": null,
            "max_height": null,
            "align_content": null,
            "visibility": null,
            "align_self": null,
            "height": null,
            "min_height": null,
            "padding": null,
            "grid_auto_rows": null,
            "grid_gap": null,
            "max_width": null,
            "order": null,
            "_view_module_version": "1.2.0",
            "grid_template_areas": null,
            "object_position": null,
            "object_fit": null,
            "grid_auto_columns": null,
            "margin": null,
            "display": null,
            "left": null
          }
        },
        "7360a53c06954b01a1de9d3089b4e00a": {
          "model_module": "@jupyter-widgets/controls",
          "model_name": "HBoxModel",
          "state": {
            "_view_name": "HBoxView",
            "_dom_classes": [],
            "_model_name": "HBoxModel",
            "_view_module": "@jupyter-widgets/controls",
            "_model_module_version": "1.5.0",
            "_view_count": null,
            "_view_module_version": "1.5.0",
            "box_style": "",
            "layout": "IPY_MODEL_f88b8ccfacac4ad0b3acf63426cb7fdb",
            "_model_module": "@jupyter-widgets/controls",
            "children": [
              "IPY_MODEL_147ffb46038845d7bc352e569dd375e6",
              "IPY_MODEL_c2e8bdde28f348a8b74d8835333de1ff"
            ]
          }
        },
        "f88b8ccfacac4ad0b3acf63426cb7fdb": {
          "model_module": "@jupyter-widgets/base",
          "model_name": "LayoutModel",
          "state": {
            "_view_name": "LayoutView",
            "grid_template_rows": null,
            "right": null,
            "justify_content": null,
            "_view_module": "@jupyter-widgets/base",
            "overflow": null,
            "_model_module_version": "1.2.0",
            "_view_count": null,
            "flex_flow": null,
            "width": null,
            "min_width": null,
            "border": null,
            "align_items": null,
            "bottom": null,
            "_model_module": "@jupyter-widgets/base",
            "top": null,
            "grid_column": null,
            "overflow_y": null,
            "overflow_x": null,
            "grid_auto_flow": null,
            "grid_area": null,
            "grid_template_columns": null,
            "flex": null,
            "_model_name": "LayoutModel",
            "justify_items": null,
            "grid_row": null,
            "max_height": null,
            "align_content": null,
            "visibility": null,
            "align_self": null,
            "height": null,
            "min_height": null,
            "padding": null,
            "grid_auto_rows": null,
            "grid_gap": null,
            "max_width": null,
            "order": null,
            "_view_module_version": "1.2.0",
            "grid_template_areas": null,
            "object_position": null,
            "object_fit": null,
            "grid_auto_columns": null,
            "margin": null,
            "display": null,
            "left": null
          }
        },
        "147ffb46038845d7bc352e569dd375e6": {
          "model_module": "@jupyter-widgets/controls",
          "model_name": "FloatProgressModel",
          "state": {
            "_view_name": "ProgressView",
            "style": "IPY_MODEL_1de58baaa4fc40ee88ea80e723aa0870",
            "_dom_classes": [],
            "description": "#1: 100%",
            "_model_name": "FloatProgressModel",
            "bar_style": "success",
            "max": 94,
            "_view_module": "@jupyter-widgets/controls",
            "_model_module_version": "1.5.0",
            "value": 94,
            "_view_count": null,
            "_view_module_version": "1.5.0",
            "orientation": "horizontal",
            "min": 0,
            "description_tooltip": null,
            "_model_module": "@jupyter-widgets/controls",
            "layout": "IPY_MODEL_8712476479c449e28bd48fc4710f6991"
          }
        },
        "c2e8bdde28f348a8b74d8835333de1ff": {
          "model_module": "@jupyter-widgets/controls",
          "model_name": "HTMLModel",
          "state": {
            "_view_name": "HTMLView",
            "style": "IPY_MODEL_3c774da7c8a647948314f56b79793782",
            "_dom_classes": [],
            "description": "",
            "_model_name": "HTMLModel",
            "placeholder": "​",
            "_view_module": "@jupyter-widgets/controls",
            "_model_module_version": "1.5.0",
            "value": " 94/94 [00:50&lt;00:00,  1.87ba/s]",
            "_view_count": null,
            "_view_module_version": "1.5.0",
            "description_tooltip": null,
            "_model_module": "@jupyter-widgets/controls",
            "layout": "IPY_MODEL_ffca7991e0214b8ebe369806371dada5"
          }
        },
        "1de58baaa4fc40ee88ea80e723aa0870": {
          "model_module": "@jupyter-widgets/controls",
          "model_name": "ProgressStyleModel",
          "state": {
            "_view_name": "StyleView",
            "_model_name": "ProgressStyleModel",
            "description_width": "initial",
            "_view_module": "@jupyter-widgets/base",
            "_model_module_version": "1.5.0",
            "_view_count": null,
            "_view_module_version": "1.2.0",
            "bar_color": null,
            "_model_module": "@jupyter-widgets/controls"
          }
        },
        "8712476479c449e28bd48fc4710f6991": {
          "model_module": "@jupyter-widgets/base",
          "model_name": "LayoutModel",
          "state": {
            "_view_name": "LayoutView",
            "grid_template_rows": null,
            "right": null,
            "justify_content": null,
            "_view_module": "@jupyter-widgets/base",
            "overflow": null,
            "_model_module_version": "1.2.0",
            "_view_count": null,
            "flex_flow": null,
            "width": null,
            "min_width": null,
            "border": null,
            "align_items": null,
            "bottom": null,
            "_model_module": "@jupyter-widgets/base",
            "top": null,
            "grid_column": null,
            "overflow_y": null,
            "overflow_x": null,
            "grid_auto_flow": null,
            "grid_area": null,
            "grid_template_columns": null,
            "flex": null,
            "_model_name": "LayoutModel",
            "justify_items": null,
            "grid_row": null,
            "max_height": null,
            "align_content": null,
            "visibility": null,
            "align_self": null,
            "height": null,
            "min_height": null,
            "padding": null,
            "grid_auto_rows": null,
            "grid_gap": null,
            "max_width": null,
            "order": null,
            "_view_module_version": "1.2.0",
            "grid_template_areas": null,
            "object_position": null,
            "object_fit": null,
            "grid_auto_columns": null,
            "margin": null,
            "display": null,
            "left": null
          }
        },
        "3c774da7c8a647948314f56b79793782": {
          "model_module": "@jupyter-widgets/controls",
          "model_name": "DescriptionStyleModel",
          "state": {
            "_view_name": "StyleView",
            "_model_name": "DescriptionStyleModel",
            "description_width": "",
            "_view_module": "@jupyter-widgets/base",
            "_model_module_version": "1.5.0",
            "_view_count": null,
            "_view_module_version": "1.2.0",
            "_model_module": "@jupyter-widgets/controls"
          }
        },
        "ffca7991e0214b8ebe369806371dada5": {
          "model_module": "@jupyter-widgets/base",
          "model_name": "LayoutModel",
          "state": {
            "_view_name": "LayoutView",
            "grid_template_rows": null,
            "right": null,
            "justify_content": null,
            "_view_module": "@jupyter-widgets/base",
            "overflow": null,
            "_model_module_version": "1.2.0",
            "_view_count": null,
            "flex_flow": null,
            "width": null,
            "min_width": null,
            "border": null,
            "align_items": null,
            "bottom": null,
            "_model_module": "@jupyter-widgets/base",
            "top": null,
            "grid_column": null,
            "overflow_y": null,
            "overflow_x": null,
            "grid_auto_flow": null,
            "grid_area": null,
            "grid_template_columns": null,
            "flex": null,
            "_model_name": "LayoutModel",
            "justify_items": null,
            "grid_row": null,
            "max_height": null,
            "align_content": null,
            "visibility": null,
            "align_self": null,
            "height": null,
            "min_height": null,
            "padding": null,
            "grid_auto_rows": null,
            "grid_gap": null,
            "max_width": null,
            "order": null,
            "_view_module_version": "1.2.0",
            "grid_template_areas": null,
            "object_position": null,
            "object_fit": null,
            "grid_auto_columns": null,
            "margin": null,
            "display": null,
            "left": null
          }
        },
        "7a605c8dff5a4d76bccfdb1fbbd6cf44": {
          "model_module": "@jupyter-widgets/controls",
          "model_name": "HBoxModel",
          "state": {
            "_view_name": "HBoxView",
            "_dom_classes": [],
            "_model_name": "HBoxModel",
            "_view_module": "@jupyter-widgets/controls",
            "_model_module_version": "1.5.0",
            "_view_count": null,
            "_view_module_version": "1.5.0",
            "box_style": "",
            "layout": "IPY_MODEL_ea034e4e668841cbb5f571651eab3c4f",
            "_model_module": "@jupyter-widgets/controls",
            "children": [
              "IPY_MODEL_54a5aad490224f2198b09cb9b1b6126b",
              "IPY_MODEL_2a74e84192dd41e68ff401f8f1af2579"
            ]
          }
        },
        "ea034e4e668841cbb5f571651eab3c4f": {
          "model_module": "@jupyter-widgets/base",
          "model_name": "LayoutModel",
          "state": {
            "_view_name": "LayoutView",
            "grid_template_rows": null,
            "right": null,
            "justify_content": null,
            "_view_module": "@jupyter-widgets/base",
            "overflow": null,
            "_model_module_version": "1.2.0",
            "_view_count": null,
            "flex_flow": null,
            "width": null,
            "min_width": null,
            "border": null,
            "align_items": null,
            "bottom": null,
            "_model_module": "@jupyter-widgets/base",
            "top": null,
            "grid_column": null,
            "overflow_y": null,
            "overflow_x": null,
            "grid_auto_flow": null,
            "grid_area": null,
            "grid_template_columns": null,
            "flex": null,
            "_model_name": "LayoutModel",
            "justify_items": null,
            "grid_row": null,
            "max_height": null,
            "align_content": null,
            "visibility": null,
            "align_self": null,
            "height": null,
            "min_height": null,
            "padding": null,
            "grid_auto_rows": null,
            "grid_gap": null,
            "max_width": null,
            "order": null,
            "_view_module_version": "1.2.0",
            "grid_template_areas": null,
            "object_position": null,
            "object_fit": null,
            "grid_auto_columns": null,
            "margin": null,
            "display": null,
            "left": null
          }
        },
        "54a5aad490224f2198b09cb9b1b6126b": {
          "model_module": "@jupyter-widgets/controls",
          "model_name": "FloatProgressModel",
          "state": {
            "_view_name": "ProgressView",
            "style": "IPY_MODEL_759acb7382a843619a2a951a0167996d",
            "_dom_classes": [],
            "description": "#2: 100%",
            "_model_name": "FloatProgressModel",
            "bar_style": "success",
            "max": 94,
            "_view_module": "@jupyter-widgets/controls",
            "_model_module_version": "1.5.0",
            "value": 94,
            "_view_count": null,
            "_view_module_version": "1.5.0",
            "orientation": "horizontal",
            "min": 0,
            "description_tooltip": null,
            "_model_module": "@jupyter-widgets/controls",
            "layout": "IPY_MODEL_7c24278943e84ced8b2e7b205cb67106"
          }
        },
        "2a74e84192dd41e68ff401f8f1af2579": {
          "model_module": "@jupyter-widgets/controls",
          "model_name": "HTMLModel",
          "state": {
            "_view_name": "HTMLView",
            "style": "IPY_MODEL_4bb640101c6442d79ce2ad4770ed30ee",
            "_dom_classes": [],
            "description": "",
            "_model_name": "HTMLModel",
            "placeholder": "​",
            "_view_module": "@jupyter-widgets/controls",
            "_model_module_version": "1.5.0",
            "value": " 94/94 [00:47&lt;00:00,  1.96ba/s]",
            "_view_count": null,
            "_view_module_version": "1.5.0",
            "description_tooltip": null,
            "_model_module": "@jupyter-widgets/controls",
            "layout": "IPY_MODEL_2656ff02dd46486db31fb38807197c05"
          }
        },
        "759acb7382a843619a2a951a0167996d": {
          "model_module": "@jupyter-widgets/controls",
          "model_name": "ProgressStyleModel",
          "state": {
            "_view_name": "StyleView",
            "_model_name": "ProgressStyleModel",
            "description_width": "initial",
            "_view_module": "@jupyter-widgets/base",
            "_model_module_version": "1.5.0",
            "_view_count": null,
            "_view_module_version": "1.2.0",
            "bar_color": null,
            "_model_module": "@jupyter-widgets/controls"
          }
        },
        "7c24278943e84ced8b2e7b205cb67106": {
          "model_module": "@jupyter-widgets/base",
          "model_name": "LayoutModel",
          "state": {
            "_view_name": "LayoutView",
            "grid_template_rows": null,
            "right": null,
            "justify_content": null,
            "_view_module": "@jupyter-widgets/base",
            "overflow": null,
            "_model_module_version": "1.2.0",
            "_view_count": null,
            "flex_flow": null,
            "width": null,
            "min_width": null,
            "border": null,
            "align_items": null,
            "bottom": null,
            "_model_module": "@jupyter-widgets/base",
            "top": null,
            "grid_column": null,
            "overflow_y": null,
            "overflow_x": null,
            "grid_auto_flow": null,
            "grid_area": null,
            "grid_template_columns": null,
            "flex": null,
            "_model_name": "LayoutModel",
            "justify_items": null,
            "grid_row": null,
            "max_height": null,
            "align_content": null,
            "visibility": null,
            "align_self": null,
            "height": null,
            "min_height": null,
            "padding": null,
            "grid_auto_rows": null,
            "grid_gap": null,
            "max_width": null,
            "order": null,
            "_view_module_version": "1.2.0",
            "grid_template_areas": null,
            "object_position": null,
            "object_fit": null,
            "grid_auto_columns": null,
            "margin": null,
            "display": null,
            "left": null
          }
        },
        "4bb640101c6442d79ce2ad4770ed30ee": {
          "model_module": "@jupyter-widgets/controls",
          "model_name": "DescriptionStyleModel",
          "state": {
            "_view_name": "StyleView",
            "_model_name": "DescriptionStyleModel",
            "description_width": "",
            "_view_module": "@jupyter-widgets/base",
            "_model_module_version": "1.5.0",
            "_view_count": null,
            "_view_module_version": "1.2.0",
            "_model_module": "@jupyter-widgets/controls"
          }
        },
        "2656ff02dd46486db31fb38807197c05": {
          "model_module": "@jupyter-widgets/base",
          "model_name": "LayoutModel",
          "state": {
            "_view_name": "LayoutView",
            "grid_template_rows": null,
            "right": null,
            "justify_content": null,
            "_view_module": "@jupyter-widgets/base",
            "overflow": null,
            "_model_module_version": "1.2.0",
            "_view_count": null,
            "flex_flow": null,
            "width": null,
            "min_width": null,
            "border": null,
            "align_items": null,
            "bottom": null,
            "_model_module": "@jupyter-widgets/base",
            "top": null,
            "grid_column": null,
            "overflow_y": null,
            "overflow_x": null,
            "grid_auto_flow": null,
            "grid_area": null,
            "grid_template_columns": null,
            "flex": null,
            "_model_name": "LayoutModel",
            "justify_items": null,
            "grid_row": null,
            "max_height": null,
            "align_content": null,
            "visibility": null,
            "align_self": null,
            "height": null,
            "min_height": null,
            "padding": null,
            "grid_auto_rows": null,
            "grid_gap": null,
            "max_width": null,
            "order": null,
            "_view_module_version": "1.2.0",
            "grid_template_areas": null,
            "object_position": null,
            "object_fit": null,
            "grid_auto_columns": null,
            "margin": null,
            "display": null,
            "left": null
          }
        },
        "547c282748a64b6b906d95c8e9cb58b2": {
          "model_module": "@jupyter-widgets/controls",
          "model_name": "HBoxModel",
          "state": {
            "_view_name": "HBoxView",
            "_dom_classes": [],
            "_model_name": "HBoxModel",
            "_view_module": "@jupyter-widgets/controls",
            "_model_module_version": "1.5.0",
            "_view_count": null,
            "_view_module_version": "1.5.0",
            "box_style": "",
            "layout": "IPY_MODEL_cad1f194f7ed4cf9915e21502002a297",
            "_model_module": "@jupyter-widgets/controls",
            "children": [
              "IPY_MODEL_afe5c4b1bcc642abb4144dc681fa9915",
              "IPY_MODEL_3160c04773384d75bedc44a25df806f1"
            ]
          }
        },
        "cad1f194f7ed4cf9915e21502002a297": {
          "model_module": "@jupyter-widgets/base",
          "model_name": "LayoutModel",
          "state": {
            "_view_name": "LayoutView",
            "grid_template_rows": null,
            "right": null,
            "justify_content": null,
            "_view_module": "@jupyter-widgets/base",
            "overflow": null,
            "_model_module_version": "1.2.0",
            "_view_count": null,
            "flex_flow": null,
            "width": null,
            "min_width": null,
            "border": null,
            "align_items": null,
            "bottom": null,
            "_model_module": "@jupyter-widgets/base",
            "top": null,
            "grid_column": null,
            "overflow_y": null,
            "overflow_x": null,
            "grid_auto_flow": null,
            "grid_area": null,
            "grid_template_columns": null,
            "flex": null,
            "_model_name": "LayoutModel",
            "justify_items": null,
            "grid_row": null,
            "max_height": null,
            "align_content": null,
            "visibility": null,
            "align_self": null,
            "height": null,
            "min_height": null,
            "padding": null,
            "grid_auto_rows": null,
            "grid_gap": null,
            "max_width": null,
            "order": null,
            "_view_module_version": "1.2.0",
            "grid_template_areas": null,
            "object_position": null,
            "object_fit": null,
            "grid_auto_columns": null,
            "margin": null,
            "display": null,
            "left": null
          }
        },
        "afe5c4b1bcc642abb4144dc681fa9915": {
          "model_module": "@jupyter-widgets/controls",
          "model_name": "FloatProgressModel",
          "state": {
            "_view_name": "ProgressView",
            "style": "IPY_MODEL_769e09824d3442e2a44868a7ff767d8b",
            "_dom_classes": [],
            "description": "#3: 100%",
            "_model_name": "FloatProgressModel",
            "bar_style": "success",
            "max": 94,
            "_view_module": "@jupyter-widgets/controls",
            "_model_module_version": "1.5.0",
            "value": 94,
            "_view_count": null,
            "_view_module_version": "1.5.0",
            "orientation": "horizontal",
            "min": 0,
            "description_tooltip": null,
            "_model_module": "@jupyter-widgets/controls",
            "layout": "IPY_MODEL_5ba47f8b21fc4d349f736ec3f45e555b"
          }
        },
        "3160c04773384d75bedc44a25df806f1": {
          "model_module": "@jupyter-widgets/controls",
          "model_name": "HTMLModel",
          "state": {
            "_view_name": "HTMLView",
            "style": "IPY_MODEL_a43b209d8a334d4680e48ebd5fc34f90",
            "_dom_classes": [],
            "description": "",
            "_model_name": "HTMLModel",
            "placeholder": "​",
            "_view_module": "@jupyter-widgets/controls",
            "_model_module_version": "1.5.0",
            "value": " 94/94 [00:45&lt;00:00,  2.08ba/s]",
            "_view_count": null,
            "_view_module_version": "1.5.0",
            "description_tooltip": null,
            "_model_module": "@jupyter-widgets/controls",
            "layout": "IPY_MODEL_2df45862414140749d0f828e55b23efd"
          }
        },
        "769e09824d3442e2a44868a7ff767d8b": {
          "model_module": "@jupyter-widgets/controls",
          "model_name": "ProgressStyleModel",
          "state": {
            "_view_name": "StyleView",
            "_model_name": "ProgressStyleModel",
            "description_width": "initial",
            "_view_module": "@jupyter-widgets/base",
            "_model_module_version": "1.5.0",
            "_view_count": null,
            "_view_module_version": "1.2.0",
            "bar_color": null,
            "_model_module": "@jupyter-widgets/controls"
          }
        },
        "5ba47f8b21fc4d349f736ec3f45e555b": {
          "model_module": "@jupyter-widgets/base",
          "model_name": "LayoutModel",
          "state": {
            "_view_name": "LayoutView",
            "grid_template_rows": null,
            "right": null,
            "justify_content": null,
            "_view_module": "@jupyter-widgets/base",
            "overflow": null,
            "_model_module_version": "1.2.0",
            "_view_count": null,
            "flex_flow": null,
            "width": null,
            "min_width": null,
            "border": null,
            "align_items": null,
            "bottom": null,
            "_model_module": "@jupyter-widgets/base",
            "top": null,
            "grid_column": null,
            "overflow_y": null,
            "overflow_x": null,
            "grid_auto_flow": null,
            "grid_area": null,
            "grid_template_columns": null,
            "flex": null,
            "_model_name": "LayoutModel",
            "justify_items": null,
            "grid_row": null,
            "max_height": null,
            "align_content": null,
            "visibility": null,
            "align_self": null,
            "height": null,
            "min_height": null,
            "padding": null,
            "grid_auto_rows": null,
            "grid_gap": null,
            "max_width": null,
            "order": null,
            "_view_module_version": "1.2.0",
            "grid_template_areas": null,
            "object_position": null,
            "object_fit": null,
            "grid_auto_columns": null,
            "margin": null,
            "display": null,
            "left": null
          }
        },
        "a43b209d8a334d4680e48ebd5fc34f90": {
          "model_module": "@jupyter-widgets/controls",
          "model_name": "DescriptionStyleModel",
          "state": {
            "_view_name": "StyleView",
            "_model_name": "DescriptionStyleModel",
            "description_width": "",
            "_view_module": "@jupyter-widgets/base",
            "_model_module_version": "1.5.0",
            "_view_count": null,
            "_view_module_version": "1.2.0",
            "_model_module": "@jupyter-widgets/controls"
          }
        },
        "2df45862414140749d0f828e55b23efd": {
          "model_module": "@jupyter-widgets/base",
          "model_name": "LayoutModel",
          "state": {
            "_view_name": "LayoutView",
            "grid_template_rows": null,
            "right": null,
            "justify_content": null,
            "_view_module": "@jupyter-widgets/base",
            "overflow": null,
            "_model_module_version": "1.2.0",
            "_view_count": null,
            "flex_flow": null,
            "width": null,
            "min_width": null,
            "border": null,
            "align_items": null,
            "bottom": null,
            "_model_module": "@jupyter-widgets/base",
            "top": null,
            "grid_column": null,
            "overflow_y": null,
            "overflow_x": null,
            "grid_auto_flow": null,
            "grid_area": null,
            "grid_template_columns": null,
            "flex": null,
            "_model_name": "LayoutModel",
            "justify_items": null,
            "grid_row": null,
            "max_height": null,
            "align_content": null,
            "visibility": null,
            "align_self": null,
            "height": null,
            "min_height": null,
            "padding": null,
            "grid_auto_rows": null,
            "grid_gap": null,
            "max_width": null,
            "order": null,
            "_view_module_version": "1.2.0",
            "grid_template_areas": null,
            "object_position": null,
            "object_fit": null,
            "grid_auto_columns": null,
            "margin": null,
            "display": null,
            "left": null
          }
        },
        "d44c017e510d443995aabd6c19f62597": {
          "model_module": "@jupyter-widgets/controls",
          "model_name": "HBoxModel",
          "state": {
            "_view_name": "HBoxView",
            "_dom_classes": [],
            "_model_name": "HBoxModel",
            "_view_module": "@jupyter-widgets/controls",
            "_model_module_version": "1.5.0",
            "_view_count": null,
            "_view_module_version": "1.5.0",
            "box_style": "",
            "layout": "IPY_MODEL_83131887b37a4fe58f3197d4b0090493",
            "_model_module": "@jupyter-widgets/controls",
            "children": [
              "IPY_MODEL_400fde0854a74ba98625cb52fabb84ac",
              "IPY_MODEL_d2a0ed4cea9e4889a097b68f554acb84"
            ]
          }
        },
        "83131887b37a4fe58f3197d4b0090493": {
          "model_module": "@jupyter-widgets/base",
          "model_name": "LayoutModel",
          "state": {
            "_view_name": "LayoutView",
            "grid_template_rows": null,
            "right": null,
            "justify_content": null,
            "_view_module": "@jupyter-widgets/base",
            "overflow": null,
            "_model_module_version": "1.2.0",
            "_view_count": null,
            "flex_flow": null,
            "width": null,
            "min_width": null,
            "border": null,
            "align_items": null,
            "bottom": null,
            "_model_module": "@jupyter-widgets/base",
            "top": null,
            "grid_column": null,
            "overflow_y": null,
            "overflow_x": null,
            "grid_auto_flow": null,
            "grid_area": null,
            "grid_template_columns": null,
            "flex": null,
            "_model_name": "LayoutModel",
            "justify_items": null,
            "grid_row": null,
            "max_height": null,
            "align_content": null,
            "visibility": null,
            "align_self": null,
            "height": null,
            "min_height": null,
            "padding": null,
            "grid_auto_rows": null,
            "grid_gap": null,
            "max_width": null,
            "order": null,
            "_view_module_version": "1.2.0",
            "grid_template_areas": null,
            "object_position": null,
            "object_fit": null,
            "grid_auto_columns": null,
            "margin": null,
            "display": null,
            "left": null
          }
        },
        "400fde0854a74ba98625cb52fabb84ac": {
          "model_module": "@jupyter-widgets/controls",
          "model_name": "FloatProgressModel",
          "state": {
            "_view_name": "ProgressView",
            "style": "IPY_MODEL_4b3f949f1f964068a5b0d7c4e7c385ca",
            "_dom_classes": [],
            "description": "#0: 100%",
            "_model_name": "FloatProgressModel",
            "bar_style": "success",
            "max": 6,
            "_view_module": "@jupyter-widgets/controls",
            "_model_module_version": "1.5.0",
            "value": 6,
            "_view_count": null,
            "_view_module_version": "1.5.0",
            "orientation": "horizontal",
            "min": 0,
            "description_tooltip": null,
            "_model_module": "@jupyter-widgets/controls",
            "layout": "IPY_MODEL_22412012fe4149eaacff22353e522cc1"
          }
        },
        "d2a0ed4cea9e4889a097b68f554acb84": {
          "model_module": "@jupyter-widgets/controls",
          "model_name": "HTMLModel",
          "state": {
            "_view_name": "HTMLView",
            "style": "IPY_MODEL_4d82c302562d49ecb2ad0b355db9244c",
            "_dom_classes": [],
            "description": "",
            "_model_name": "HTMLModel",
            "placeholder": "​",
            "_view_module": "@jupyter-widgets/controls",
            "_model_module_version": "1.5.0",
            "value": " 6/6 [00:05&lt;00:00,  1.17ba/s]",
            "_view_count": null,
            "_view_module_version": "1.5.0",
            "description_tooltip": null,
            "_model_module": "@jupyter-widgets/controls",
            "layout": "IPY_MODEL_06a894e5fa434c4cbbef15327b44cd30"
          }
        },
        "4b3f949f1f964068a5b0d7c4e7c385ca": {
          "model_module": "@jupyter-widgets/controls",
          "model_name": "ProgressStyleModel",
          "state": {
            "_view_name": "StyleView",
            "_model_name": "ProgressStyleModel",
            "description_width": "initial",
            "_view_module": "@jupyter-widgets/base",
            "_model_module_version": "1.5.0",
            "_view_count": null,
            "_view_module_version": "1.2.0",
            "bar_color": null,
            "_model_module": "@jupyter-widgets/controls"
          }
        },
        "22412012fe4149eaacff22353e522cc1": {
          "model_module": "@jupyter-widgets/base",
          "model_name": "LayoutModel",
          "state": {
            "_view_name": "LayoutView",
            "grid_template_rows": null,
            "right": null,
            "justify_content": null,
            "_view_module": "@jupyter-widgets/base",
            "overflow": null,
            "_model_module_version": "1.2.0",
            "_view_count": null,
            "flex_flow": null,
            "width": null,
            "min_width": null,
            "border": null,
            "align_items": null,
            "bottom": null,
            "_model_module": "@jupyter-widgets/base",
            "top": null,
            "grid_column": null,
            "overflow_y": null,
            "overflow_x": null,
            "grid_auto_flow": null,
            "grid_area": null,
            "grid_template_columns": null,
            "flex": null,
            "_model_name": "LayoutModel",
            "justify_items": null,
            "grid_row": null,
            "max_height": null,
            "align_content": null,
            "visibility": null,
            "align_self": null,
            "height": null,
            "min_height": null,
            "padding": null,
            "grid_auto_rows": null,
            "grid_gap": null,
            "max_width": null,
            "order": null,
            "_view_module_version": "1.2.0",
            "grid_template_areas": null,
            "object_position": null,
            "object_fit": null,
            "grid_auto_columns": null,
            "margin": null,
            "display": null,
            "left": null
          }
        },
        "4d82c302562d49ecb2ad0b355db9244c": {
          "model_module": "@jupyter-widgets/controls",
          "model_name": "DescriptionStyleModel",
          "state": {
            "_view_name": "StyleView",
            "_model_name": "DescriptionStyleModel",
            "description_width": "",
            "_view_module": "@jupyter-widgets/base",
            "_model_module_version": "1.5.0",
            "_view_count": null,
            "_view_module_version": "1.2.0",
            "_model_module": "@jupyter-widgets/controls"
          }
        },
        "06a894e5fa434c4cbbef15327b44cd30": {
          "model_module": "@jupyter-widgets/base",
          "model_name": "LayoutModel",
          "state": {
            "_view_name": "LayoutView",
            "grid_template_rows": null,
            "right": null,
            "justify_content": null,
            "_view_module": "@jupyter-widgets/base",
            "overflow": null,
            "_model_module_version": "1.2.0",
            "_view_count": null,
            "flex_flow": null,
            "width": null,
            "min_width": null,
            "border": null,
            "align_items": null,
            "bottom": null,
            "_model_module": "@jupyter-widgets/base",
            "top": null,
            "grid_column": null,
            "overflow_y": null,
            "overflow_x": null,
            "grid_auto_flow": null,
            "grid_area": null,
            "grid_template_columns": null,
            "flex": null,
            "_model_name": "LayoutModel",
            "justify_items": null,
            "grid_row": null,
            "max_height": null,
            "align_content": null,
            "visibility": null,
            "align_self": null,
            "height": null,
            "min_height": null,
            "padding": null,
            "grid_auto_rows": null,
            "grid_gap": null,
            "max_width": null,
            "order": null,
            "_view_module_version": "1.2.0",
            "grid_template_areas": null,
            "object_position": null,
            "object_fit": null,
            "grid_auto_columns": null,
            "margin": null,
            "display": null,
            "left": null
          }
        },
        "bbf0bf21a0e544a4a9e8003e2fa89062": {
          "model_module": "@jupyter-widgets/controls",
          "model_name": "HBoxModel",
          "state": {
            "_view_name": "HBoxView",
            "_dom_classes": [],
            "_model_name": "HBoxModel",
            "_view_module": "@jupyter-widgets/controls",
            "_model_module_version": "1.5.0",
            "_view_count": null,
            "_view_module_version": "1.5.0",
            "box_style": "",
            "layout": "IPY_MODEL_fac1646590ea48e0b898c8517d0bbb73",
            "_model_module": "@jupyter-widgets/controls",
            "children": [
              "IPY_MODEL_fb96985c18644af4ac231abeff138351",
              "IPY_MODEL_c99a429cb92547c4b130e4621ca8bb12"
            ]
          }
        },
        "fac1646590ea48e0b898c8517d0bbb73": {
          "model_module": "@jupyter-widgets/base",
          "model_name": "LayoutModel",
          "state": {
            "_view_name": "LayoutView",
            "grid_template_rows": null,
            "right": null,
            "justify_content": null,
            "_view_module": "@jupyter-widgets/base",
            "overflow": null,
            "_model_module_version": "1.2.0",
            "_view_count": null,
            "flex_flow": null,
            "width": null,
            "min_width": null,
            "border": null,
            "align_items": null,
            "bottom": null,
            "_model_module": "@jupyter-widgets/base",
            "top": null,
            "grid_column": null,
            "overflow_y": null,
            "overflow_x": null,
            "grid_auto_flow": null,
            "grid_area": null,
            "grid_template_columns": null,
            "flex": null,
            "_model_name": "LayoutModel",
            "justify_items": null,
            "grid_row": null,
            "max_height": null,
            "align_content": null,
            "visibility": null,
            "align_self": null,
            "height": null,
            "min_height": null,
            "padding": null,
            "grid_auto_rows": null,
            "grid_gap": null,
            "max_width": null,
            "order": null,
            "_view_module_version": "1.2.0",
            "grid_template_areas": null,
            "object_position": null,
            "object_fit": null,
            "grid_auto_columns": null,
            "margin": null,
            "display": null,
            "left": null
          }
        },
        "fb96985c18644af4ac231abeff138351": {
          "model_module": "@jupyter-widgets/controls",
          "model_name": "FloatProgressModel",
          "state": {
            "_view_name": "ProgressView",
            "style": "IPY_MODEL_5dcac35515c447b3a062b32610c1a552",
            "_dom_classes": [],
            "description": "#1: 100%",
            "_model_name": "FloatProgressModel",
            "bar_style": "success",
            "max": 6,
            "_view_module": "@jupyter-widgets/controls",
            "_model_module_version": "1.5.0",
            "value": 6,
            "_view_count": null,
            "_view_module_version": "1.5.0",
            "orientation": "horizontal",
            "min": 0,
            "description_tooltip": null,
            "_model_module": "@jupyter-widgets/controls",
            "layout": "IPY_MODEL_0c6cc0765d784b479e348c8dc0a29d8b"
          }
        },
        "c99a429cb92547c4b130e4621ca8bb12": {
          "model_module": "@jupyter-widgets/controls",
          "model_name": "HTMLModel",
          "state": {
            "_view_name": "HTMLView",
            "style": "IPY_MODEL_56248682462640e3832d28c2fabe7e25",
            "_dom_classes": [],
            "description": "",
            "_model_name": "HTMLModel",
            "placeholder": "​",
            "_view_module": "@jupyter-widgets/controls",
            "_model_module_version": "1.5.0",
            "value": " 6/6 [00:05&lt;00:00,  1.06ba/s]",
            "_view_count": null,
            "_view_module_version": "1.5.0",
            "description_tooltip": null,
            "_model_module": "@jupyter-widgets/controls",
            "layout": "IPY_MODEL_d6287dfa0b1d45c982c5eba24788c7ec"
          }
        },
        "5dcac35515c447b3a062b32610c1a552": {
          "model_module": "@jupyter-widgets/controls",
          "model_name": "ProgressStyleModel",
          "state": {
            "_view_name": "StyleView",
            "_model_name": "ProgressStyleModel",
            "description_width": "initial",
            "_view_module": "@jupyter-widgets/base",
            "_model_module_version": "1.5.0",
            "_view_count": null,
            "_view_module_version": "1.2.0",
            "bar_color": null,
            "_model_module": "@jupyter-widgets/controls"
          }
        },
        "0c6cc0765d784b479e348c8dc0a29d8b": {
          "model_module": "@jupyter-widgets/base",
          "model_name": "LayoutModel",
          "state": {
            "_view_name": "LayoutView",
            "grid_template_rows": null,
            "right": null,
            "justify_content": null,
            "_view_module": "@jupyter-widgets/base",
            "overflow": null,
            "_model_module_version": "1.2.0",
            "_view_count": null,
            "flex_flow": null,
            "width": null,
            "min_width": null,
            "border": null,
            "align_items": null,
            "bottom": null,
            "_model_module": "@jupyter-widgets/base",
            "top": null,
            "grid_column": null,
            "overflow_y": null,
            "overflow_x": null,
            "grid_auto_flow": null,
            "grid_area": null,
            "grid_template_columns": null,
            "flex": null,
            "_model_name": "LayoutModel",
            "justify_items": null,
            "grid_row": null,
            "max_height": null,
            "align_content": null,
            "visibility": null,
            "align_self": null,
            "height": null,
            "min_height": null,
            "padding": null,
            "grid_auto_rows": null,
            "grid_gap": null,
            "max_width": null,
            "order": null,
            "_view_module_version": "1.2.0",
            "grid_template_areas": null,
            "object_position": null,
            "object_fit": null,
            "grid_auto_columns": null,
            "margin": null,
            "display": null,
            "left": null
          }
        },
        "56248682462640e3832d28c2fabe7e25": {
          "model_module": "@jupyter-widgets/controls",
          "model_name": "DescriptionStyleModel",
          "state": {
            "_view_name": "StyleView",
            "_model_name": "DescriptionStyleModel",
            "description_width": "",
            "_view_module": "@jupyter-widgets/base",
            "_model_module_version": "1.5.0",
            "_view_count": null,
            "_view_module_version": "1.2.0",
            "_model_module": "@jupyter-widgets/controls"
          }
        },
        "d6287dfa0b1d45c982c5eba24788c7ec": {
          "model_module": "@jupyter-widgets/base",
          "model_name": "LayoutModel",
          "state": {
            "_view_name": "LayoutView",
            "grid_template_rows": null,
            "right": null,
            "justify_content": null,
            "_view_module": "@jupyter-widgets/base",
            "overflow": null,
            "_model_module_version": "1.2.0",
            "_view_count": null,
            "flex_flow": null,
            "width": null,
            "min_width": null,
            "border": null,
            "align_items": null,
            "bottom": null,
            "_model_module": "@jupyter-widgets/base",
            "top": null,
            "grid_column": null,
            "overflow_y": null,
            "overflow_x": null,
            "grid_auto_flow": null,
            "grid_area": null,
            "grid_template_columns": null,
            "flex": null,
            "_model_name": "LayoutModel",
            "justify_items": null,
            "grid_row": null,
            "max_height": null,
            "align_content": null,
            "visibility": null,
            "align_self": null,
            "height": null,
            "min_height": null,
            "padding": null,
            "grid_auto_rows": null,
            "grid_gap": null,
            "max_width": null,
            "order": null,
            "_view_module_version": "1.2.0",
            "grid_template_areas": null,
            "object_position": null,
            "object_fit": null,
            "grid_auto_columns": null,
            "margin": null,
            "display": null,
            "left": null
          }
        },
        "ec34d45bba2947c09edf0b48fc6dfb66": {
          "model_module": "@jupyter-widgets/controls",
          "model_name": "HBoxModel",
          "state": {
            "_view_name": "HBoxView",
            "_dom_classes": [],
            "_model_name": "HBoxModel",
            "_view_module": "@jupyter-widgets/controls",
            "_model_module_version": "1.5.0",
            "_view_count": null,
            "_view_module_version": "1.5.0",
            "box_style": "",
            "layout": "IPY_MODEL_387ce7039e3d47209eaa26faea21c858",
            "_model_module": "@jupyter-widgets/controls",
            "children": [
              "IPY_MODEL_5e0d61f7dc554675b5089fe205fbbb9b",
              "IPY_MODEL_9622816feb7c484099626c8fcffd7783"
            ]
          }
        },
        "387ce7039e3d47209eaa26faea21c858": {
          "model_module": "@jupyter-widgets/base",
          "model_name": "LayoutModel",
          "state": {
            "_view_name": "LayoutView",
            "grid_template_rows": null,
            "right": null,
            "justify_content": null,
            "_view_module": "@jupyter-widgets/base",
            "overflow": null,
            "_model_module_version": "1.2.0",
            "_view_count": null,
            "flex_flow": null,
            "width": null,
            "min_width": null,
            "border": null,
            "align_items": null,
            "bottom": null,
            "_model_module": "@jupyter-widgets/base",
            "top": null,
            "grid_column": null,
            "overflow_y": null,
            "overflow_x": null,
            "grid_auto_flow": null,
            "grid_area": null,
            "grid_template_columns": null,
            "flex": null,
            "_model_name": "LayoutModel",
            "justify_items": null,
            "grid_row": null,
            "max_height": null,
            "align_content": null,
            "visibility": null,
            "align_self": null,
            "height": null,
            "min_height": null,
            "padding": null,
            "grid_auto_rows": null,
            "grid_gap": null,
            "max_width": null,
            "order": null,
            "_view_module_version": "1.2.0",
            "grid_template_areas": null,
            "object_position": null,
            "object_fit": null,
            "grid_auto_columns": null,
            "margin": null,
            "display": null,
            "left": null
          }
        },
        "5e0d61f7dc554675b5089fe205fbbb9b": {
          "model_module": "@jupyter-widgets/controls",
          "model_name": "FloatProgressModel",
          "state": {
            "_view_name": "ProgressView",
            "style": "IPY_MODEL_425bdcd35be94bdb8046d08df2b1b43c",
            "_dom_classes": [],
            "description": "#2: 100%",
            "_model_name": "FloatProgressModel",
            "bar_style": "success",
            "max": 6,
            "_view_module": "@jupyter-widgets/controls",
            "_model_module_version": "1.5.0",
            "value": 6,
            "_view_count": null,
            "_view_module_version": "1.5.0",
            "orientation": "horizontal",
            "min": 0,
            "description_tooltip": null,
            "_model_module": "@jupyter-widgets/controls",
            "layout": "IPY_MODEL_ad1b2eb0384f4cfda5dae1aae4e3f725"
          }
        },
        "9622816feb7c484099626c8fcffd7783": {
          "model_module": "@jupyter-widgets/controls",
          "model_name": "HTMLModel",
          "state": {
            "_view_name": "HTMLView",
            "style": "IPY_MODEL_5ff80ec0c6db4931a916fbb9407c950b",
            "_dom_classes": [],
            "description": "",
            "_model_name": "HTMLModel",
            "placeholder": "​",
            "_view_module": "@jupyter-widgets/controls",
            "_model_module_version": "1.5.0",
            "value": " 6/6 [00:06&lt;00:00,  1.01s/ba]",
            "_view_count": null,
            "_view_module_version": "1.5.0",
            "description_tooltip": null,
            "_model_module": "@jupyter-widgets/controls",
            "layout": "IPY_MODEL_4eef0355e0634c329be9ad43cd0ca562"
          }
        },
        "425bdcd35be94bdb8046d08df2b1b43c": {
          "model_module": "@jupyter-widgets/controls",
          "model_name": "ProgressStyleModel",
          "state": {
            "_view_name": "StyleView",
            "_model_name": "ProgressStyleModel",
            "description_width": "initial",
            "_view_module": "@jupyter-widgets/base",
            "_model_module_version": "1.5.0",
            "_view_count": null,
            "_view_module_version": "1.2.0",
            "bar_color": null,
            "_model_module": "@jupyter-widgets/controls"
          }
        },
        "ad1b2eb0384f4cfda5dae1aae4e3f725": {
          "model_module": "@jupyter-widgets/base",
          "model_name": "LayoutModel",
          "state": {
            "_view_name": "LayoutView",
            "grid_template_rows": null,
            "right": null,
            "justify_content": null,
            "_view_module": "@jupyter-widgets/base",
            "overflow": null,
            "_model_module_version": "1.2.0",
            "_view_count": null,
            "flex_flow": null,
            "width": null,
            "min_width": null,
            "border": null,
            "align_items": null,
            "bottom": null,
            "_model_module": "@jupyter-widgets/base",
            "top": null,
            "grid_column": null,
            "overflow_y": null,
            "overflow_x": null,
            "grid_auto_flow": null,
            "grid_area": null,
            "grid_template_columns": null,
            "flex": null,
            "_model_name": "LayoutModel",
            "justify_items": null,
            "grid_row": null,
            "max_height": null,
            "align_content": null,
            "visibility": null,
            "align_self": null,
            "height": null,
            "min_height": null,
            "padding": null,
            "grid_auto_rows": null,
            "grid_gap": null,
            "max_width": null,
            "order": null,
            "_view_module_version": "1.2.0",
            "grid_template_areas": null,
            "object_position": null,
            "object_fit": null,
            "grid_auto_columns": null,
            "margin": null,
            "display": null,
            "left": null
          }
        },
        "5ff80ec0c6db4931a916fbb9407c950b": {
          "model_module": "@jupyter-widgets/controls",
          "model_name": "DescriptionStyleModel",
          "state": {
            "_view_name": "StyleView",
            "_model_name": "DescriptionStyleModel",
            "description_width": "",
            "_view_module": "@jupyter-widgets/base",
            "_model_module_version": "1.5.0",
            "_view_count": null,
            "_view_module_version": "1.2.0",
            "_model_module": "@jupyter-widgets/controls"
          }
        },
        "4eef0355e0634c329be9ad43cd0ca562": {
          "model_module": "@jupyter-widgets/base",
          "model_name": "LayoutModel",
          "state": {
            "_view_name": "LayoutView",
            "grid_template_rows": null,
            "right": null,
            "justify_content": null,
            "_view_module": "@jupyter-widgets/base",
            "overflow": null,
            "_model_module_version": "1.2.0",
            "_view_count": null,
            "flex_flow": null,
            "width": null,
            "min_width": null,
            "border": null,
            "align_items": null,
            "bottom": null,
            "_model_module": "@jupyter-widgets/base",
            "top": null,
            "grid_column": null,
            "overflow_y": null,
            "overflow_x": null,
            "grid_auto_flow": null,
            "grid_area": null,
            "grid_template_columns": null,
            "flex": null,
            "_model_name": "LayoutModel",
            "justify_items": null,
            "grid_row": null,
            "max_height": null,
            "align_content": null,
            "visibility": null,
            "align_self": null,
            "height": null,
            "min_height": null,
            "padding": null,
            "grid_auto_rows": null,
            "grid_gap": null,
            "max_width": null,
            "order": null,
            "_view_module_version": "1.2.0",
            "grid_template_areas": null,
            "object_position": null,
            "object_fit": null,
            "grid_auto_columns": null,
            "margin": null,
            "display": null,
            "left": null
          }
        },
        "9c5593a080c041fc9c54ac73b715bcc1": {
          "model_module": "@jupyter-widgets/controls",
          "model_name": "HBoxModel",
          "state": {
            "_view_name": "HBoxView",
            "_dom_classes": [],
            "_model_name": "HBoxModel",
            "_view_module": "@jupyter-widgets/controls",
            "_model_module_version": "1.5.0",
            "_view_count": null,
            "_view_module_version": "1.5.0",
            "box_style": "",
            "layout": "IPY_MODEL_d030ca06e8b7437992a6834db1a3b1fa",
            "_model_module": "@jupyter-widgets/controls",
            "children": [
              "IPY_MODEL_9ff46e61ff6d4083aa234f68652e28d6",
              "IPY_MODEL_52a1ff90f15647fd83f617407baa9b1f"
            ]
          }
        },
        "d030ca06e8b7437992a6834db1a3b1fa": {
          "model_module": "@jupyter-widgets/base",
          "model_name": "LayoutModel",
          "state": {
            "_view_name": "LayoutView",
            "grid_template_rows": null,
            "right": null,
            "justify_content": null,
            "_view_module": "@jupyter-widgets/base",
            "overflow": null,
            "_model_module_version": "1.2.0",
            "_view_count": null,
            "flex_flow": null,
            "width": null,
            "min_width": null,
            "border": null,
            "align_items": null,
            "bottom": null,
            "_model_module": "@jupyter-widgets/base",
            "top": null,
            "grid_column": null,
            "overflow_y": null,
            "overflow_x": null,
            "grid_auto_flow": null,
            "grid_area": null,
            "grid_template_columns": null,
            "flex": null,
            "_model_name": "LayoutModel",
            "justify_items": null,
            "grid_row": null,
            "max_height": null,
            "align_content": null,
            "visibility": null,
            "align_self": null,
            "height": null,
            "min_height": null,
            "padding": null,
            "grid_auto_rows": null,
            "grid_gap": null,
            "max_width": null,
            "order": null,
            "_view_module_version": "1.2.0",
            "grid_template_areas": null,
            "object_position": null,
            "object_fit": null,
            "grid_auto_columns": null,
            "margin": null,
            "display": null,
            "left": null
          }
        },
        "9ff46e61ff6d4083aa234f68652e28d6": {
          "model_module": "@jupyter-widgets/controls",
          "model_name": "FloatProgressModel",
          "state": {
            "_view_name": "ProgressView",
            "style": "IPY_MODEL_645c5be387f64912810c519233b94195",
            "_dom_classes": [],
            "description": "#3: 100%",
            "_model_name": "FloatProgressModel",
            "bar_style": "success",
            "max": 6,
            "_view_module": "@jupyter-widgets/controls",
            "_model_module_version": "1.5.0",
            "value": 6,
            "_view_count": null,
            "_view_module_version": "1.5.0",
            "orientation": "horizontal",
            "min": 0,
            "description_tooltip": null,
            "_model_module": "@jupyter-widgets/controls",
            "layout": "IPY_MODEL_7ba4f928392944d6af4696a5f46bd0e0"
          }
        },
        "52a1ff90f15647fd83f617407baa9b1f": {
          "model_module": "@jupyter-widgets/controls",
          "model_name": "HTMLModel",
          "state": {
            "_view_name": "HTMLView",
            "style": "IPY_MODEL_11456f77d81340da80c138449a791117",
            "_dom_classes": [],
            "description": "",
            "_model_name": "HTMLModel",
            "placeholder": "​",
            "_view_module": "@jupyter-widgets/controls",
            "_model_module_version": "1.5.0",
            "value": " 6/6 [00:05&lt;00:00,  1.09ba/s]",
            "_view_count": null,
            "_view_module_version": "1.5.0",
            "description_tooltip": null,
            "_model_module": "@jupyter-widgets/controls",
            "layout": "IPY_MODEL_a042b1f3fef64f05a64bcfc2148ab265"
          }
        },
        "645c5be387f64912810c519233b94195": {
          "model_module": "@jupyter-widgets/controls",
          "model_name": "ProgressStyleModel",
          "state": {
            "_view_name": "StyleView",
            "_model_name": "ProgressStyleModel",
            "description_width": "initial",
            "_view_module": "@jupyter-widgets/base",
            "_model_module_version": "1.5.0",
            "_view_count": null,
            "_view_module_version": "1.2.0",
            "bar_color": null,
            "_model_module": "@jupyter-widgets/controls"
          }
        },
        "7ba4f928392944d6af4696a5f46bd0e0": {
          "model_module": "@jupyter-widgets/base",
          "model_name": "LayoutModel",
          "state": {
            "_view_name": "LayoutView",
            "grid_template_rows": null,
            "right": null,
            "justify_content": null,
            "_view_module": "@jupyter-widgets/base",
            "overflow": null,
            "_model_module_version": "1.2.0",
            "_view_count": null,
            "flex_flow": null,
            "width": null,
            "min_width": null,
            "border": null,
            "align_items": null,
            "bottom": null,
            "_model_module": "@jupyter-widgets/base",
            "top": null,
            "grid_column": null,
            "overflow_y": null,
            "overflow_x": null,
            "grid_auto_flow": null,
            "grid_area": null,
            "grid_template_columns": null,
            "flex": null,
            "_model_name": "LayoutModel",
            "justify_items": null,
            "grid_row": null,
            "max_height": null,
            "align_content": null,
            "visibility": null,
            "align_self": null,
            "height": null,
            "min_height": null,
            "padding": null,
            "grid_auto_rows": null,
            "grid_gap": null,
            "max_width": null,
            "order": null,
            "_view_module_version": "1.2.0",
            "grid_template_areas": null,
            "object_position": null,
            "object_fit": null,
            "grid_auto_columns": null,
            "margin": null,
            "display": null,
            "left": null
          }
        },
        "11456f77d81340da80c138449a791117": {
          "model_module": "@jupyter-widgets/controls",
          "model_name": "DescriptionStyleModel",
          "state": {
            "_view_name": "StyleView",
            "_model_name": "DescriptionStyleModel",
            "description_width": "",
            "_view_module": "@jupyter-widgets/base",
            "_model_module_version": "1.5.0",
            "_view_count": null,
            "_view_module_version": "1.2.0",
            "_model_module": "@jupyter-widgets/controls"
          }
        },
        "a042b1f3fef64f05a64bcfc2148ab265": {
          "model_module": "@jupyter-widgets/base",
          "model_name": "LayoutModel",
          "state": {
            "_view_name": "LayoutView",
            "grid_template_rows": null,
            "right": null,
            "justify_content": null,
            "_view_module": "@jupyter-widgets/base",
            "overflow": null,
            "_model_module_version": "1.2.0",
            "_view_count": null,
            "flex_flow": null,
            "width": null,
            "min_width": null,
            "border": null,
            "align_items": null,
            "bottom": null,
            "_model_module": "@jupyter-widgets/base",
            "top": null,
            "grid_column": null,
            "overflow_y": null,
            "overflow_x": null,
            "grid_auto_flow": null,
            "grid_area": null,
            "grid_template_columns": null,
            "flex": null,
            "_model_name": "LayoutModel",
            "justify_items": null,
            "grid_row": null,
            "max_height": null,
            "align_content": null,
            "visibility": null,
            "align_self": null,
            "height": null,
            "min_height": null,
            "padding": null,
            "grid_auto_rows": null,
            "grid_gap": null,
            "max_width": null,
            "order": null,
            "_view_module_version": "1.2.0",
            "grid_template_areas": null,
            "object_position": null,
            "object_fit": null,
            "grid_auto_columns": null,
            "margin": null,
            "display": null,
            "left": null
          }
        },
        "b860b1cddf20490193ba6aabd2f7228a": {
          "model_module": "@jupyter-widgets/controls",
          "model_name": "HBoxModel",
          "state": {
            "_view_name": "HBoxView",
            "_dom_classes": [],
            "_model_name": "HBoxModel",
            "_view_module": "@jupyter-widgets/controls",
            "_model_module_version": "1.5.0",
            "_view_count": null,
            "_view_module_version": "1.5.0",
            "box_style": "",
            "layout": "IPY_MODEL_92901c25ba7b4d579223a2b30c26ec05",
            "_model_module": "@jupyter-widgets/controls",
            "children": [
              "IPY_MODEL_0f29aea53bcd4df2af3d0f0d1498ad76",
              "IPY_MODEL_120834a2f2a04efeb917a43d55d0f031"
            ]
          }
        },
        "92901c25ba7b4d579223a2b30c26ec05": {
          "model_module": "@jupyter-widgets/base",
          "model_name": "LayoutModel",
          "state": {
            "_view_name": "LayoutView",
            "grid_template_rows": null,
            "right": null,
            "justify_content": null,
            "_view_module": "@jupyter-widgets/base",
            "overflow": null,
            "_model_module_version": "1.2.0",
            "_view_count": null,
            "flex_flow": null,
            "width": null,
            "min_width": null,
            "border": null,
            "align_items": null,
            "bottom": null,
            "_model_module": "@jupyter-widgets/base",
            "top": null,
            "grid_column": null,
            "overflow_y": null,
            "overflow_x": null,
            "grid_auto_flow": null,
            "grid_area": null,
            "grid_template_columns": null,
            "flex": null,
            "_model_name": "LayoutModel",
            "justify_items": null,
            "grid_row": null,
            "max_height": null,
            "align_content": null,
            "visibility": null,
            "align_self": null,
            "height": null,
            "min_height": null,
            "padding": null,
            "grid_auto_rows": null,
            "grid_gap": null,
            "max_width": null,
            "order": null,
            "_view_module_version": "1.2.0",
            "grid_template_areas": null,
            "object_position": null,
            "object_fit": null,
            "grid_auto_columns": null,
            "margin": null,
            "display": null,
            "left": null
          }
        },
        "0f29aea53bcd4df2af3d0f0d1498ad76": {
          "model_module": "@jupyter-widgets/controls",
          "model_name": "FloatProgressModel",
          "state": {
            "_view_name": "ProgressView",
            "style": "IPY_MODEL_88259c60226949cd9d1cd1e175eab4e3",
            "_dom_classes": [],
            "description": "Downloading: 100%",
            "_model_name": "FloatProgressModel",
            "bar_style": "success",
            "max": 1768,
            "_view_module": "@jupyter-widgets/controls",
            "_model_module_version": "1.5.0",
            "value": 1768,
            "_view_count": null,
            "_view_module_version": "1.5.0",
            "orientation": "horizontal",
            "min": 0,
            "description_tooltip": null,
            "_model_module": "@jupyter-widgets/controls",
            "layout": "IPY_MODEL_3c486b0f64924678b7832fd4a5b60958"
          }
        },
        "120834a2f2a04efeb917a43d55d0f031": {
          "model_module": "@jupyter-widgets/controls",
          "model_name": "HTMLModel",
          "state": {
            "_view_name": "HTMLView",
            "style": "IPY_MODEL_22019d1002fa4397b41c4112398a6e38",
            "_dom_classes": [],
            "description": "",
            "_model_name": "HTMLModel",
            "placeholder": "​",
            "_view_module": "@jupyter-widgets/controls",
            "_model_module_version": "1.5.0",
            "value": " 1.77k/1.77k [00:27&lt;00:00, 63.7B/s]",
            "_view_count": null,
            "_view_module_version": "1.5.0",
            "description_tooltip": null,
            "_model_module": "@jupyter-widgets/controls",
            "layout": "IPY_MODEL_591f7107393d4107b5c59e73902bfadf"
          }
        },
        "88259c60226949cd9d1cd1e175eab4e3": {
          "model_module": "@jupyter-widgets/controls",
          "model_name": "ProgressStyleModel",
          "state": {
            "_view_name": "StyleView",
            "_model_name": "ProgressStyleModel",
            "description_width": "initial",
            "_view_module": "@jupyter-widgets/base",
            "_model_module_version": "1.5.0",
            "_view_count": null,
            "_view_module_version": "1.2.0",
            "bar_color": null,
            "_model_module": "@jupyter-widgets/controls"
          }
        },
        "3c486b0f64924678b7832fd4a5b60958": {
          "model_module": "@jupyter-widgets/base",
          "model_name": "LayoutModel",
          "state": {
            "_view_name": "LayoutView",
            "grid_template_rows": null,
            "right": null,
            "justify_content": null,
            "_view_module": "@jupyter-widgets/base",
            "overflow": null,
            "_model_module_version": "1.2.0",
            "_view_count": null,
            "flex_flow": null,
            "width": null,
            "min_width": null,
            "border": null,
            "align_items": null,
            "bottom": null,
            "_model_module": "@jupyter-widgets/base",
            "top": null,
            "grid_column": null,
            "overflow_y": null,
            "overflow_x": null,
            "grid_auto_flow": null,
            "grid_area": null,
            "grid_template_columns": null,
            "flex": null,
            "_model_name": "LayoutModel",
            "justify_items": null,
            "grid_row": null,
            "max_height": null,
            "align_content": null,
            "visibility": null,
            "align_self": null,
            "height": null,
            "min_height": null,
            "padding": null,
            "grid_auto_rows": null,
            "grid_gap": null,
            "max_width": null,
            "order": null,
            "_view_module_version": "1.2.0",
            "grid_template_areas": null,
            "object_position": null,
            "object_fit": null,
            "grid_auto_columns": null,
            "margin": null,
            "display": null,
            "left": null
          }
        },
        "22019d1002fa4397b41c4112398a6e38": {
          "model_module": "@jupyter-widgets/controls",
          "model_name": "DescriptionStyleModel",
          "state": {
            "_view_name": "StyleView",
            "_model_name": "DescriptionStyleModel",
            "description_width": "",
            "_view_module": "@jupyter-widgets/base",
            "_model_module_version": "1.5.0",
            "_view_count": null,
            "_view_module_version": "1.2.0",
            "_model_module": "@jupyter-widgets/controls"
          }
        },
        "591f7107393d4107b5c59e73902bfadf": {
          "model_module": "@jupyter-widgets/base",
          "model_name": "LayoutModel",
          "state": {
            "_view_name": "LayoutView",
            "grid_template_rows": null,
            "right": null,
            "justify_content": null,
            "_view_module": "@jupyter-widgets/base",
            "overflow": null,
            "_model_module_version": "1.2.0",
            "_view_count": null,
            "flex_flow": null,
            "width": null,
            "min_width": null,
            "border": null,
            "align_items": null,
            "bottom": null,
            "_model_module": "@jupyter-widgets/base",
            "top": null,
            "grid_column": null,
            "overflow_y": null,
            "overflow_x": null,
            "grid_auto_flow": null,
            "grid_area": null,
            "grid_template_columns": null,
            "flex": null,
            "_model_name": "LayoutModel",
            "justify_items": null,
            "grid_row": null,
            "max_height": null,
            "align_content": null,
            "visibility": null,
            "align_self": null,
            "height": null,
            "min_height": null,
            "padding": null,
            "grid_auto_rows": null,
            "grid_gap": null,
            "max_width": null,
            "order": null,
            "_view_module_version": "1.2.0",
            "grid_template_areas": null,
            "object_position": null,
            "object_fit": null,
            "grid_auto_columns": null,
            "margin": null,
            "display": null,
            "left": null
          }
        },
        "e762f15ecfcb46b9aa42b665fb4ab857": {
          "model_module": "@jupyter-widgets/controls",
          "model_name": "HBoxModel",
          "state": {
            "_view_name": "HBoxView",
            "_dom_classes": [],
            "_model_name": "HBoxModel",
            "_view_module": "@jupyter-widgets/controls",
            "_model_module_version": "1.5.0",
            "_view_count": null,
            "_view_module_version": "1.5.0",
            "box_style": "",
            "layout": "IPY_MODEL_75f8bba6ddcc42c09b873467e1045eca",
            "_model_module": "@jupyter-widgets/controls",
            "children": [
              "IPY_MODEL_8d37a5ee13204a6a8c13cc4bc48b3066",
              "IPY_MODEL_ceb5222f06554b74b16930027cee2c7a"
            ]
          }
        },
        "75f8bba6ddcc42c09b873467e1045eca": {
          "model_module": "@jupyter-widgets/base",
          "model_name": "LayoutModel",
          "state": {
            "_view_name": "LayoutView",
            "grid_template_rows": null,
            "right": null,
            "justify_content": null,
            "_view_module": "@jupyter-widgets/base",
            "overflow": null,
            "_model_module_version": "1.2.0",
            "_view_count": null,
            "flex_flow": null,
            "width": null,
            "min_width": null,
            "border": null,
            "align_items": null,
            "bottom": null,
            "_model_module": "@jupyter-widgets/base",
            "top": null,
            "grid_column": null,
            "overflow_y": null,
            "overflow_x": null,
            "grid_auto_flow": null,
            "grid_area": null,
            "grid_template_columns": null,
            "flex": null,
            "_model_name": "LayoutModel",
            "justify_items": null,
            "grid_row": null,
            "max_height": null,
            "align_content": null,
            "visibility": null,
            "align_self": null,
            "height": null,
            "min_height": null,
            "padding": null,
            "grid_auto_rows": null,
            "grid_gap": null,
            "max_width": null,
            "order": null,
            "_view_module_version": "1.2.0",
            "grid_template_areas": null,
            "object_position": null,
            "object_fit": null,
            "grid_auto_columns": null,
            "margin": null,
            "display": null,
            "left": null
          }
        },
        "8d37a5ee13204a6a8c13cc4bc48b3066": {
          "model_module": "@jupyter-widgets/controls",
          "model_name": "FloatProgressModel",
          "state": {
            "_view_name": "ProgressView",
            "style": "IPY_MODEL_5add85e922a44cd5b138f8e35a46a5d2",
            "_dom_classes": [],
            "description": "Downloading: 100%",
            "_model_name": "FloatProgressModel",
            "bar_style": "success",
            "max": 1269737156,
            "_view_module": "@jupyter-widgets/controls",
            "_model_module_version": "1.5.0",
            "value": 1269737156,
            "_view_count": null,
            "_view_module_version": "1.5.0",
            "orientation": "horizontal",
            "min": 0,
            "description_tooltip": null,
            "_model_module": "@jupyter-widgets/controls",
            "layout": "IPY_MODEL_af3cbbf3350c494288baf18e1aa46e89"
          }
        },
        "ceb5222f06554b74b16930027cee2c7a": {
          "model_module": "@jupyter-widgets/controls",
          "model_name": "HTMLModel",
          "state": {
            "_view_name": "HTMLView",
            "style": "IPY_MODEL_a972935fced04ed389c68edf7ea5e068",
            "_dom_classes": [],
            "description": "",
            "_model_name": "HTMLModel",
            "placeholder": "​",
            "_view_module": "@jupyter-widgets/controls",
            "_model_module_version": "1.5.0",
            "value": " 1.27G/1.27G [00:27&lt;00:00, 46.2MB/s]",
            "_view_count": null,
            "_view_module_version": "1.5.0",
            "description_tooltip": null,
            "_model_module": "@jupyter-widgets/controls",
            "layout": "IPY_MODEL_3cf7ae3817ad41748d7f39c26f3fef04"
          }
        },
        "5add85e922a44cd5b138f8e35a46a5d2": {
          "model_module": "@jupyter-widgets/controls",
          "model_name": "ProgressStyleModel",
          "state": {
            "_view_name": "StyleView",
            "_model_name": "ProgressStyleModel",
            "description_width": "initial",
            "_view_module": "@jupyter-widgets/base",
            "_model_module_version": "1.5.0",
            "_view_count": null,
            "_view_module_version": "1.2.0",
            "bar_color": null,
            "_model_module": "@jupyter-widgets/controls"
          }
        },
        "af3cbbf3350c494288baf18e1aa46e89": {
          "model_module": "@jupyter-widgets/base",
          "model_name": "LayoutModel",
          "state": {
            "_view_name": "LayoutView",
            "grid_template_rows": null,
            "right": null,
            "justify_content": null,
            "_view_module": "@jupyter-widgets/base",
            "overflow": null,
            "_model_module_version": "1.2.0",
            "_view_count": null,
            "flex_flow": null,
            "width": null,
            "min_width": null,
            "border": null,
            "align_items": null,
            "bottom": null,
            "_model_module": "@jupyter-widgets/base",
            "top": null,
            "grid_column": null,
            "overflow_y": null,
            "overflow_x": null,
            "grid_auto_flow": null,
            "grid_area": null,
            "grid_template_columns": null,
            "flex": null,
            "_model_name": "LayoutModel",
            "justify_items": null,
            "grid_row": null,
            "max_height": null,
            "align_content": null,
            "visibility": null,
            "align_self": null,
            "height": null,
            "min_height": null,
            "padding": null,
            "grid_auto_rows": null,
            "grid_gap": null,
            "max_width": null,
            "order": null,
            "_view_module_version": "1.2.0",
            "grid_template_areas": null,
            "object_position": null,
            "object_fit": null,
            "grid_auto_columns": null,
            "margin": null,
            "display": null,
            "left": null
          }
        },
        "a972935fced04ed389c68edf7ea5e068": {
          "model_module": "@jupyter-widgets/controls",
          "model_name": "DescriptionStyleModel",
          "state": {
            "_view_name": "StyleView",
            "_model_name": "DescriptionStyleModel",
            "description_width": "",
            "_view_module": "@jupyter-widgets/base",
            "_model_module_version": "1.5.0",
            "_view_count": null,
            "_view_module_version": "1.2.0",
            "_model_module": "@jupyter-widgets/controls"
          }
        },
        "3cf7ae3817ad41748d7f39c26f3fef04": {
          "model_module": "@jupyter-widgets/base",
          "model_name": "LayoutModel",
          "state": {
            "_view_name": "LayoutView",
            "grid_template_rows": null,
            "right": null,
            "justify_content": null,
            "_view_module": "@jupyter-widgets/base",
            "overflow": null,
            "_model_module_version": "1.2.0",
            "_view_count": null,
            "flex_flow": null,
            "width": null,
            "min_width": null,
            "border": null,
            "align_items": null,
            "bottom": null,
            "_model_module": "@jupyter-widgets/base",
            "top": null,
            "grid_column": null,
            "overflow_y": null,
            "overflow_x": null,
            "grid_auto_flow": null,
            "grid_area": null,
            "grid_template_columns": null,
            "flex": null,
            "_model_name": "LayoutModel",
            "justify_items": null,
            "grid_row": null,
            "max_height": null,
            "align_content": null,
            "visibility": null,
            "align_self": null,
            "height": null,
            "min_height": null,
            "padding": null,
            "grid_auto_rows": null,
            "grid_gap": null,
            "max_width": null,
            "order": null,
            "_view_module_version": "1.2.0",
            "grid_template_areas": null,
            "object_position": null,
            "object_fit": null,
            "grid_auto_columns": null,
            "margin": null,
            "display": null,
            "left": null
          }
        },
        "ffb7a531ee224efda81d47b2e2abf11a": {
          "model_module": "@jupyter-widgets/controls",
          "model_name": "HBoxModel",
          "state": {
            "_view_name": "HBoxView",
            "_dom_classes": [],
            "_model_name": "HBoxModel",
            "_view_module": "@jupyter-widgets/controls",
            "_model_module_version": "1.5.0",
            "_view_count": null,
            "_view_module_version": "1.5.0",
            "box_style": "",
            "layout": "IPY_MODEL_e05aa3d7fd654a6daf6510943ee7b072",
            "_model_module": "@jupyter-widgets/controls",
            "children": [
              "IPY_MODEL_fc54be5a836e4fc1bad813f72da1bf37",
              "IPY_MODEL_1da921833f2c49ab85f9f1f2e9c8d3f5"
            ]
          }
        },
        "e05aa3d7fd654a6daf6510943ee7b072": {
          "model_module": "@jupyter-widgets/base",
          "model_name": "LayoutModel",
          "state": {
            "_view_name": "LayoutView",
            "grid_template_rows": null,
            "right": null,
            "justify_content": null,
            "_view_module": "@jupyter-widgets/base",
            "overflow": null,
            "_model_module_version": "1.2.0",
            "_view_count": null,
            "flex_flow": null,
            "width": null,
            "min_width": null,
            "border": null,
            "align_items": null,
            "bottom": null,
            "_model_module": "@jupyter-widgets/base",
            "top": null,
            "grid_column": null,
            "overflow_y": null,
            "overflow_x": null,
            "grid_auto_flow": null,
            "grid_area": null,
            "grid_template_columns": null,
            "flex": null,
            "_model_name": "LayoutModel",
            "justify_items": null,
            "grid_row": null,
            "max_height": null,
            "align_content": null,
            "visibility": null,
            "align_self": null,
            "height": null,
            "min_height": null,
            "padding": null,
            "grid_auto_rows": null,
            "grid_gap": null,
            "max_width": null,
            "order": null,
            "_view_module_version": "1.2.0",
            "grid_template_areas": null,
            "object_position": null,
            "object_fit": null,
            "grid_auto_columns": null,
            "margin": null,
            "display": null,
            "left": null
          }
        },
        "fc54be5a836e4fc1bad813f72da1bf37": {
          "model_module": "@jupyter-widgets/controls",
          "model_name": "FloatProgressModel",
          "state": {
            "_view_name": "ProgressView",
            "style": "IPY_MODEL_1ecf466b72c64b63a4436a77a0aebdae",
            "_dom_classes": [],
            "description": "100%",
            "_model_name": "FloatProgressModel",
            "bar_style": "success",
            "max": 22,
            "_view_module": "@jupyter-widgets/controls",
            "_model_module_version": "1.5.0",
            "value": 22,
            "_view_count": null,
            "_view_module_version": "1.5.0",
            "orientation": "horizontal",
            "min": 0,
            "description_tooltip": null,
            "_model_module": "@jupyter-widgets/controls",
            "layout": "IPY_MODEL_cf9bdd70908d4b4aaa0c8315e61a0ff8"
          }
        },
        "1da921833f2c49ab85f9f1f2e9c8d3f5": {
          "model_module": "@jupyter-widgets/controls",
          "model_name": "HTMLModel",
          "state": {
            "_view_name": "HTMLView",
            "style": "IPY_MODEL_9a63361511bf4ab6abd5c645e17041a0",
            "_dom_classes": [],
            "description": "",
            "_model_name": "HTMLModel",
            "placeholder": "​",
            "_view_module": "@jupyter-widgets/controls",
            "_model_module_version": "1.5.0",
            "value": " 22/22 [00:49&lt;00:00,  2.27s/ba]",
            "_view_count": null,
            "_view_module_version": "1.5.0",
            "description_tooltip": null,
            "_model_module": "@jupyter-widgets/controls",
            "layout": "IPY_MODEL_397b6b107e064c1ebafd6db312f3f9de"
          }
        },
        "1ecf466b72c64b63a4436a77a0aebdae": {
          "model_module": "@jupyter-widgets/controls",
          "model_name": "ProgressStyleModel",
          "state": {
            "_view_name": "StyleView",
            "_model_name": "ProgressStyleModel",
            "description_width": "initial",
            "_view_module": "@jupyter-widgets/base",
            "_model_module_version": "1.5.0",
            "_view_count": null,
            "_view_module_version": "1.2.0",
            "bar_color": null,
            "_model_module": "@jupyter-widgets/controls"
          }
        },
        "cf9bdd70908d4b4aaa0c8315e61a0ff8": {
          "model_module": "@jupyter-widgets/base",
          "model_name": "LayoutModel",
          "state": {
            "_view_name": "LayoutView",
            "grid_template_rows": null,
            "right": null,
            "justify_content": null,
            "_view_module": "@jupyter-widgets/base",
            "overflow": null,
            "_model_module_version": "1.2.0",
            "_view_count": null,
            "flex_flow": null,
            "width": null,
            "min_width": null,
            "border": null,
            "align_items": null,
            "bottom": null,
            "_model_module": "@jupyter-widgets/base",
            "top": null,
            "grid_column": null,
            "overflow_y": null,
            "overflow_x": null,
            "grid_auto_flow": null,
            "grid_area": null,
            "grid_template_columns": null,
            "flex": null,
            "_model_name": "LayoutModel",
            "justify_items": null,
            "grid_row": null,
            "max_height": null,
            "align_content": null,
            "visibility": null,
            "align_self": null,
            "height": null,
            "min_height": null,
            "padding": null,
            "grid_auto_rows": null,
            "grid_gap": null,
            "max_width": null,
            "order": null,
            "_view_module_version": "1.2.0",
            "grid_template_areas": null,
            "object_position": null,
            "object_fit": null,
            "grid_auto_columns": null,
            "margin": null,
            "display": null,
            "left": null
          }
        },
        "9a63361511bf4ab6abd5c645e17041a0": {
          "model_module": "@jupyter-widgets/controls",
          "model_name": "DescriptionStyleModel",
          "state": {
            "_view_name": "StyleView",
            "_model_name": "DescriptionStyleModel",
            "description_width": "",
            "_view_module": "@jupyter-widgets/base",
            "_model_module_version": "1.5.0",
            "_view_count": null,
            "_view_module_version": "1.2.0",
            "_model_module": "@jupyter-widgets/controls"
          }
        },
        "397b6b107e064c1ebafd6db312f3f9de": {
          "model_module": "@jupyter-widgets/base",
          "model_name": "LayoutModel",
          "state": {
            "_view_name": "LayoutView",
            "grid_template_rows": null,
            "right": null,
            "justify_content": null,
            "_view_module": "@jupyter-widgets/base",
            "overflow": null,
            "_model_module_version": "1.2.0",
            "_view_count": null,
            "flex_flow": null,
            "width": null,
            "min_width": null,
            "border": null,
            "align_items": null,
            "bottom": null,
            "_model_module": "@jupyter-widgets/base",
            "top": null,
            "grid_column": null,
            "overflow_y": null,
            "overflow_x": null,
            "grid_auto_flow": null,
            "grid_area": null,
            "grid_template_columns": null,
            "flex": null,
            "_model_name": "LayoutModel",
            "justify_items": null,
            "grid_row": null,
            "max_height": null,
            "align_content": null,
            "visibility": null,
            "align_self": null,
            "height": null,
            "min_height": null,
            "padding": null,
            "grid_auto_rows": null,
            "grid_gap": null,
            "max_width": null,
            "order": null,
            "_view_module_version": "1.2.0",
            "grid_template_areas": null,
            "object_position": null,
            "object_fit": null,
            "grid_auto_columns": null,
            "margin": null,
            "display": null,
            "left": null
          }
        }
      }
    }
  },
  "cells": [
    {
      "cell_type": "markdown",
      "metadata": {
        "id": "i4xG1IcbXv3m"
      },
      "source": [
        "# Umair Ahmad\n",
        "#21i-2081\n",
        "# Umair.Ahmad@nu.edu.pk"
      ]
    },
    {
      "cell_type": "markdown",
      "metadata": {
        "id": "6ou8HBhjXgke"
      },
      "source": [
        "#Mount the Google Drive to Load Datasets and save tranined checkpoitns "
      ]
    },
    {
      "cell_type": "code",
      "metadata": {
        "colab": {
          "base_uri": "https://localhost:8080/"
        },
        "id": "D2F6DmX-1btm",
        "outputId": "a71b4ab7-4efb-4e19-ca42-b548e3e19cb6"
      },
      "source": [
        "from google.colab import drive\n",
        "drive.mount('/content/drive')"
      ],
      "execution_count": 1,
      "outputs": [
        {
          "output_type": "stream",
          "text": [
            "Mounted at /content/drive\n"
          ],
          "name": "stdout"
        }
      ]
    },
    {
      "cell_type": "markdown",
      "metadata": {
        "id": "7sOgJhFgX462"
      },
      "source": [
        "# Import Required Libraries"
      ]
    },
    {
      "cell_type": "code",
      "metadata": {
        "colab": {
          "base_uri": "https://localhost:8080/"
        },
        "id": "VoSS_ttDznHN",
        "outputId": "5c4e7194-9a6e-471e-b727-d675a07ecfeb"
      },
      "source": [
        "!pip install transformers==4.4.0\n",
        "!pip install datasets==1.4.1\n",
        "!pip install torchaudio\n",
        "!pip install librosa\n",
        "!pip install jiwer\n",
        "!pip install urduhack"
      ],
      "execution_count": 2,
      "outputs": [
        {
          "output_type": "stream",
          "text": [
            "Collecting transformers==4.4.0\n",
            "\u001b[?25l  Downloading https://files.pythonhosted.org/packages/51/bb/52c052a01bfd62d4f8038a29c15612eb144b99c11d1f082a7adb5510c22b/transformers-4.4.0-py3-none-any.whl (2.1MB)\n",
            "\u001b[K     |████████████████████████████████| 2.1MB 31.0MB/s \n",
            "\u001b[?25hRequirement already satisfied: requests in /usr/local/lib/python3.7/dist-packages (from transformers==4.4.0) (2.23.0)\n",
            "Requirement already satisfied: packaging in /usr/local/lib/python3.7/dist-packages (from transformers==4.4.0) (20.9)\n",
            "Collecting tokenizers<0.11,>=0.10.1\n",
            "\u001b[?25l  Downloading https://files.pythonhosted.org/packages/d4/e2/df3543e8ffdab68f5acc73f613de9c2b155ac47f162e725dcac87c521c11/tokenizers-0.10.3-cp37-cp37m-manylinux_2_5_x86_64.manylinux1_x86_64.manylinux_2_12_x86_64.manylinux2010_x86_64.whl (3.3MB)\n",
            "\u001b[K     |████████████████████████████████| 3.3MB 44.7MB/s \n",
            "\u001b[?25hCollecting sacremoses\n",
            "\u001b[?25l  Downloading https://files.pythonhosted.org/packages/75/ee/67241dc87f266093c533a2d4d3d69438e57d7a90abb216fa076e7d475d4a/sacremoses-0.0.45-py3-none-any.whl (895kB)\n",
            "\u001b[K     |████████████████████████████████| 901kB 47.8MB/s \n",
            "\u001b[?25hRequirement already satisfied: regex!=2019.12.17 in /usr/local/lib/python3.7/dist-packages (from transformers==4.4.0) (2019.12.20)\n",
            "Requirement already satisfied: numpy>=1.17 in /usr/local/lib/python3.7/dist-packages (from transformers==4.4.0) (1.19.5)\n",
            "Requirement already satisfied: tqdm>=4.27 in /usr/local/lib/python3.7/dist-packages (from transformers==4.4.0) (4.41.1)\n",
            "Requirement already satisfied: importlib-metadata; python_version < \"3.8\" in /usr/local/lib/python3.7/dist-packages (from transformers==4.4.0) (4.0.1)\n",
            "Requirement already satisfied: filelock in /usr/local/lib/python3.7/dist-packages (from transformers==4.4.0) (3.0.12)\n",
            "Requirement already satisfied: certifi>=2017.4.17 in /usr/local/lib/python3.7/dist-packages (from requests->transformers==4.4.0) (2020.12.5)\n",
            "Requirement already satisfied: urllib3!=1.25.0,!=1.25.1,<1.26,>=1.21.1 in /usr/local/lib/python3.7/dist-packages (from requests->transformers==4.4.0) (1.24.3)\n",
            "Requirement already satisfied: chardet<4,>=3.0.2 in /usr/local/lib/python3.7/dist-packages (from requests->transformers==4.4.0) (3.0.4)\n",
            "Requirement already satisfied: idna<3,>=2.5 in /usr/local/lib/python3.7/dist-packages (from requests->transformers==4.4.0) (2.10)\n",
            "Requirement already satisfied: pyparsing>=2.0.2 in /usr/local/lib/python3.7/dist-packages (from packaging->transformers==4.4.0) (2.4.7)\n",
            "Requirement already satisfied: joblib in /usr/local/lib/python3.7/dist-packages (from sacremoses->transformers==4.4.0) (1.0.1)\n",
            "Requirement already satisfied: click in /usr/local/lib/python3.7/dist-packages (from sacremoses->transformers==4.4.0) (7.1.2)\n",
            "Requirement already satisfied: six in /usr/local/lib/python3.7/dist-packages (from sacremoses->transformers==4.4.0) (1.15.0)\n",
            "Requirement already satisfied: zipp>=0.5 in /usr/local/lib/python3.7/dist-packages (from importlib-metadata; python_version < \"3.8\"->transformers==4.4.0) (3.4.1)\n",
            "Requirement already satisfied: typing-extensions>=3.6.4; python_version < \"3.8\" in /usr/local/lib/python3.7/dist-packages (from importlib-metadata; python_version < \"3.8\"->transformers==4.4.0) (3.7.4.3)\n",
            "Installing collected packages: tokenizers, sacremoses, transformers\n",
            "Successfully installed sacremoses-0.0.45 tokenizers-0.10.3 transformers-4.4.0\n",
            "Collecting datasets==1.4.1\n",
            "\u001b[?25l  Downloading https://files.pythonhosted.org/packages/3e/73/742d17d8a9a1c639132affccc9250f0743e484cbf263ede6ddcbe34ef212/datasets-1.4.1-py3-none-any.whl (186kB)\n",
            "\u001b[K     |████████████████████████████████| 194kB 34.2MB/s \n",
            "\u001b[?25hRequirement already satisfied: tqdm<4.50.0,>=4.27 in /usr/local/lib/python3.7/dist-packages (from datasets==1.4.1) (4.41.1)\n",
            "Requirement already satisfied: importlib-metadata; python_version < \"3.8\" in /usr/local/lib/python3.7/dist-packages (from datasets==1.4.1) (4.0.1)\n",
            "Requirement already satisfied: requests>=2.19.0 in /usr/local/lib/python3.7/dist-packages (from datasets==1.4.1) (2.23.0)\n",
            "Collecting fsspec\n",
            "\u001b[?25l  Downloading https://files.pythonhosted.org/packages/8e/d2/d05466997f7751a2c06a7a416b7d1f131d765f7916698d3fdcb3a4d037e5/fsspec-2021.6.0-py3-none-any.whl (114kB)\n",
            "\u001b[K     |████████████████████████████████| 122kB 42.1MB/s \n",
            "\u001b[?25hRequirement already satisfied: dill in /usr/local/lib/python3.7/dist-packages (from datasets==1.4.1) (0.3.3)\n",
            "Requirement already satisfied: multiprocess in /usr/local/lib/python3.7/dist-packages (from datasets==1.4.1) (0.70.11.1)\n",
            "Collecting huggingface-hub==0.0.2\n",
            "  Downloading https://files.pythonhosted.org/packages/b5/93/7cb0755c62c36cdadc70c79a95681df685b52cbaf76c724facb6ecac3272/huggingface_hub-0.0.2-py3-none-any.whl\n",
            "Requirement already satisfied: numpy>=1.17 in /usr/local/lib/python3.7/dist-packages (from datasets==1.4.1) (1.19.5)\n",
            "Requirement already satisfied: pyarrow>=0.17.1 in /usr/local/lib/python3.7/dist-packages (from datasets==1.4.1) (3.0.0)\n",
            "Collecting xxhash\n",
            "\u001b[?25l  Downloading https://files.pythonhosted.org/packages/7d/4f/0a862cad26aa2ed7a7cd87178cbbfa824fc1383e472d63596a0d018374e7/xxhash-2.0.2-cp37-cp37m-manylinux2010_x86_64.whl (243kB)\n",
            "\u001b[K     |████████████████████████████████| 245kB 48.8MB/s \n",
            "\u001b[?25hRequirement already satisfied: pandas in /usr/local/lib/python3.7/dist-packages (from datasets==1.4.1) (1.1.5)\n",
            "Requirement already satisfied: zipp>=0.5 in /usr/local/lib/python3.7/dist-packages (from importlib-metadata; python_version < \"3.8\"->datasets==1.4.1) (3.4.1)\n",
            "Requirement already satisfied: typing-extensions>=3.6.4; python_version < \"3.8\" in /usr/local/lib/python3.7/dist-packages (from importlib-metadata; python_version < \"3.8\"->datasets==1.4.1) (3.7.4.3)\n",
            "Requirement already satisfied: urllib3!=1.25.0,!=1.25.1,<1.26,>=1.21.1 in /usr/local/lib/python3.7/dist-packages (from requests>=2.19.0->datasets==1.4.1) (1.24.3)\n",
            "Requirement already satisfied: chardet<4,>=3.0.2 in /usr/local/lib/python3.7/dist-packages (from requests>=2.19.0->datasets==1.4.1) (3.0.4)\n",
            "Requirement already satisfied: idna<3,>=2.5 in /usr/local/lib/python3.7/dist-packages (from requests>=2.19.0->datasets==1.4.1) (2.10)\n",
            "Requirement already satisfied: certifi>=2017.4.17 in /usr/local/lib/python3.7/dist-packages (from requests>=2.19.0->datasets==1.4.1) (2020.12.5)\n",
            "Requirement already satisfied: filelock in /usr/local/lib/python3.7/dist-packages (from huggingface-hub==0.0.2->datasets==1.4.1) (3.0.12)\n",
            "Requirement already satisfied: python-dateutil>=2.7.3 in /usr/local/lib/python3.7/dist-packages (from pandas->datasets==1.4.1) (2.8.1)\n",
            "Requirement already satisfied: pytz>=2017.2 in /usr/local/lib/python3.7/dist-packages (from pandas->datasets==1.4.1) (2018.9)\n",
            "Requirement already satisfied: six>=1.5 in /usr/local/lib/python3.7/dist-packages (from python-dateutil>=2.7.3->pandas->datasets==1.4.1) (1.15.0)\n",
            "Installing collected packages: fsspec, huggingface-hub, xxhash, datasets\n",
            "Successfully installed datasets-1.4.1 fsspec-2021.6.0 huggingface-hub-0.0.2 xxhash-2.0.2\n",
            "Collecting torchaudio\n",
            "\u001b[?25l  Downloading https://files.pythonhosted.org/packages/aa/55/01ad9244bcd595e39cea5ce30726a7fe02fd963d07daeb136bfe7e23f0a5/torchaudio-0.8.1-cp37-cp37m-manylinux1_x86_64.whl (1.9MB)\n",
            "\u001b[K     |████████████████████████████████| 1.9MB 30.4MB/s \n",
            "\u001b[?25hRequirement already satisfied: torch==1.8.1 in /usr/local/lib/python3.7/dist-packages (from torchaudio) (1.8.1+cu101)\n",
            "Requirement already satisfied: typing-extensions in /usr/local/lib/python3.7/dist-packages (from torch==1.8.1->torchaudio) (3.7.4.3)\n",
            "Requirement already satisfied: numpy in /usr/local/lib/python3.7/dist-packages (from torch==1.8.1->torchaudio) (1.19.5)\n",
            "Installing collected packages: torchaudio\n",
            "Successfully installed torchaudio-0.8.1\n",
            "Requirement already satisfied: librosa in /usr/local/lib/python3.7/dist-packages (0.8.0)\n",
            "Requirement already satisfied: pooch>=1.0 in /usr/local/lib/python3.7/dist-packages (from librosa) (1.3.0)\n",
            "Requirement already satisfied: scipy>=1.0.0 in /usr/local/lib/python3.7/dist-packages (from librosa) (1.4.1)\n",
            "Requirement already satisfied: numpy>=1.15.0 in /usr/local/lib/python3.7/dist-packages (from librosa) (1.19.5)\n",
            "Requirement already satisfied: scikit-learn!=0.19.0,>=0.14.0 in /usr/local/lib/python3.7/dist-packages (from librosa) (0.22.2.post1)\n",
            "Requirement already satisfied: resampy>=0.2.2 in /usr/local/lib/python3.7/dist-packages (from librosa) (0.2.2)\n",
            "Requirement already satisfied: decorator>=3.0.0 in /usr/local/lib/python3.7/dist-packages (from librosa) (4.4.2)\n",
            "Requirement already satisfied: audioread>=2.0.0 in /usr/local/lib/python3.7/dist-packages (from librosa) (2.1.9)\n",
            "Requirement already satisfied: numba>=0.43.0 in /usr/local/lib/python3.7/dist-packages (from librosa) (0.51.2)\n",
            "Requirement already satisfied: joblib>=0.14 in /usr/local/lib/python3.7/dist-packages (from librosa) (1.0.1)\n",
            "Requirement already satisfied: soundfile>=0.9.0 in /usr/local/lib/python3.7/dist-packages (from librosa) (0.10.3.post1)\n",
            "Requirement already satisfied: appdirs in /usr/local/lib/python3.7/dist-packages (from pooch>=1.0->librosa) (1.4.4)\n",
            "Requirement already satisfied: requests in /usr/local/lib/python3.7/dist-packages (from pooch>=1.0->librosa) (2.23.0)\n",
            "Requirement already satisfied: packaging in /usr/local/lib/python3.7/dist-packages (from pooch>=1.0->librosa) (20.9)\n",
            "Requirement already satisfied: six>=1.3 in /usr/local/lib/python3.7/dist-packages (from resampy>=0.2.2->librosa) (1.15.0)\n",
            "Requirement already satisfied: llvmlite<0.35,>=0.34.0.dev0 in /usr/local/lib/python3.7/dist-packages (from numba>=0.43.0->librosa) (0.34.0)\n",
            "Requirement already satisfied: setuptools in /usr/local/lib/python3.7/dist-packages (from numba>=0.43.0->librosa) (57.0.0)\n",
            "Requirement already satisfied: cffi>=1.0 in /usr/local/lib/python3.7/dist-packages (from soundfile>=0.9.0->librosa) (1.14.5)\n",
            "Requirement already satisfied: urllib3!=1.25.0,!=1.25.1,<1.26,>=1.21.1 in /usr/local/lib/python3.7/dist-packages (from requests->pooch>=1.0->librosa) (1.24.3)\n",
            "Requirement already satisfied: certifi>=2017.4.17 in /usr/local/lib/python3.7/dist-packages (from requests->pooch>=1.0->librosa) (2020.12.5)\n",
            "Requirement already satisfied: chardet<4,>=3.0.2 in /usr/local/lib/python3.7/dist-packages (from requests->pooch>=1.0->librosa) (3.0.4)\n",
            "Requirement already satisfied: idna<3,>=2.5 in /usr/local/lib/python3.7/dist-packages (from requests->pooch>=1.0->librosa) (2.10)\n",
            "Requirement already satisfied: pyparsing>=2.0.2 in /usr/local/lib/python3.7/dist-packages (from packaging->pooch>=1.0->librosa) (2.4.7)\n",
            "Requirement already satisfied: pycparser in /usr/local/lib/python3.7/dist-packages (from cffi>=1.0->soundfile>=0.9.0->librosa) (2.20)\n",
            "Collecting jiwer\n",
            "  Downloading https://files.pythonhosted.org/packages/8c/cc/fb9d3132cba1f6d393b7d5a9398d9d4c8fc033bc54668cf87e9b197a6d7a/jiwer-2.2.0-py3-none-any.whl\n",
            "Collecting python-Levenshtein\n",
            "\u001b[?25l  Downloading https://files.pythonhosted.org/packages/2a/dc/97f2b63ef0fa1fd78dcb7195aca577804f6b2b51e712516cc0e902a9a201/python-Levenshtein-0.12.2.tar.gz (50kB)\n",
            "\u001b[K     |████████████████████████████████| 51kB 7.9MB/s \n",
            "\u001b[?25hRequirement already satisfied: numpy in /usr/local/lib/python3.7/dist-packages (from jiwer) (1.19.5)\n",
            "Requirement already satisfied: setuptools in /usr/local/lib/python3.7/dist-packages (from python-Levenshtein->jiwer) (57.0.0)\n",
            "Building wheels for collected packages: python-Levenshtein\n",
            "  Building wheel for python-Levenshtein (setup.py) ... \u001b[?25l\u001b[?25hdone\n",
            "  Created wheel for python-Levenshtein: filename=python_Levenshtein-0.12.2-cp37-cp37m-linux_x86_64.whl size=149822 sha256=767338b99d64319859308eb916619f1e094dcfd120075ccbbf60727f4a1733a9\n",
            "  Stored in directory: /root/.cache/pip/wheels/b3/26/73/4b48503bac73f01cf18e52cd250947049a7f339e940c5df8fc\n",
            "Successfully built python-Levenshtein\n",
            "Installing collected packages: python-Levenshtein, jiwer\n",
            "Successfully installed jiwer-2.2.0 python-Levenshtein-0.12.2\n",
            "Collecting urduhack\n",
            "\u001b[?25l  Downloading https://files.pythonhosted.org/packages/59/04/3393a9626b766cfee3187e9ccfa27e73061c24646d60be22a0652de95b4f/urduhack-1.1.1-py3-none-any.whl (105kB)\n",
            "\u001b[K     |████████████████████████████████| 112kB 36.1MB/s \n",
            "\u001b[?25hRequirement already satisfied: regex in /usr/local/lib/python3.7/dist-packages (from urduhack) (2019.12.20)\n",
            "Collecting tf2crf\n",
            "  Downloading https://files.pythonhosted.org/packages/a1/00/10d130d7b50b2a83116051d01bd93bc49b391ed7e4be96107a8a93b675a6/tf2crf-0.1.32-py2.py3-none-any.whl\n",
            "Requirement already satisfied: Click~=7.1 in /usr/local/lib/python3.7/dist-packages (from urduhack) (7.1.2)\n",
            "Collecting tensorflow-datasets~=3.1\n",
            "\u001b[?25l  Downloading https://files.pythonhosted.org/packages/ca/c9/d97bdf931edbae9aebc767633d088bd674136d5fe7587ef693b7cb6a1883/tensorflow_datasets-3.2.1-py3-none-any.whl (3.4MB)\n",
            "\u001b[K     |████████████████████████████████| 3.4MB 36.3MB/s \n",
            "\u001b[?25hCollecting tensorflow-addons>=0.8.2\n",
            "\u001b[?25l  Downloading https://files.pythonhosted.org/packages/66/4b/e893d194e626c24b3df2253066aa418f46a432fdb68250cde14bf9bb0700/tensorflow_addons-0.13.0-cp37-cp37m-manylinux2010_x86_64.whl (679kB)\n",
            "\u001b[K     |████████████████████████████████| 686kB 38.8MB/s \n",
            "\u001b[?25hRequirement already satisfied: tensorflow>=2.1.0 in /usr/local/lib/python3.7/dist-packages (from tf2crf->urduhack) (2.5.0)\n",
            "Requirement already satisfied: dill in /usr/local/lib/python3.7/dist-packages (from tensorflow-datasets~=3.1->urduhack) (0.3.3)\n",
            "Requirement already satisfied: promise in /usr/local/lib/python3.7/dist-packages (from tensorflow-datasets~=3.1->urduhack) (2.3)\n",
            "Requirement already satisfied: requests>=2.19.0 in /usr/local/lib/python3.7/dist-packages (from tensorflow-datasets~=3.1->urduhack) (2.23.0)\n",
            "Requirement already satisfied: six in /usr/local/lib/python3.7/dist-packages (from tensorflow-datasets~=3.1->urduhack) (1.15.0)\n",
            "Requirement already satisfied: tensorflow-metadata in /usr/local/lib/python3.7/dist-packages (from tensorflow-datasets~=3.1->urduhack) (1.0.0)\n",
            "Requirement already satisfied: numpy in /usr/local/lib/python3.7/dist-packages (from tensorflow-datasets~=3.1->urduhack) (1.19.5)\n",
            "Requirement already satisfied: future in /usr/local/lib/python3.7/dist-packages (from tensorflow-datasets~=3.1->urduhack) (0.16.0)\n",
            "Requirement already satisfied: attrs>=18.1.0 in /usr/local/lib/python3.7/dist-packages (from tensorflow-datasets~=3.1->urduhack) (21.2.0)\n",
            "Requirement already satisfied: protobuf>=3.6.1 in /usr/local/lib/python3.7/dist-packages (from tensorflow-datasets~=3.1->urduhack) (3.12.4)\n",
            "Requirement already satisfied: termcolor in /usr/local/lib/python3.7/dist-packages (from tensorflow-datasets~=3.1->urduhack) (1.1.0)\n",
            "Requirement already satisfied: tqdm in /usr/local/lib/python3.7/dist-packages (from tensorflow-datasets~=3.1->urduhack) (4.41.1)\n",
            "Requirement already satisfied: absl-py in /usr/local/lib/python3.7/dist-packages (from tensorflow-datasets~=3.1->urduhack) (0.12.0)\n",
            "Requirement already satisfied: wrapt in /usr/local/lib/python3.7/dist-packages (from tensorflow-datasets~=3.1->urduhack) (1.12.1)\n",
            "Requirement already satisfied: typeguard>=2.7 in /usr/local/lib/python3.7/dist-packages (from tensorflow-addons>=0.8.2->tf2crf->urduhack) (2.7.1)\n",
            "Requirement already satisfied: keras-nightly~=2.5.0.dev in /usr/local/lib/python3.7/dist-packages (from tensorflow>=2.1.0->tf2crf->urduhack) (2.5.0.dev2021032900)\n",
            "Requirement already satisfied: tensorflow-estimator<2.6.0,>=2.5.0rc0 in /usr/local/lib/python3.7/dist-packages (from tensorflow>=2.1.0->tf2crf->urduhack) (2.5.0)\n",
            "Requirement already satisfied: wheel~=0.35 in /usr/local/lib/python3.7/dist-packages (from tensorflow>=2.1.0->tf2crf->urduhack) (0.36.2)\n",
            "Requirement already satisfied: typing-extensions~=3.7.4 in /usr/local/lib/python3.7/dist-packages (from tensorflow>=2.1.0->tf2crf->urduhack) (3.7.4.3)\n",
            "Requirement already satisfied: h5py~=3.1.0 in /usr/local/lib/python3.7/dist-packages (from tensorflow>=2.1.0->tf2crf->urduhack) (3.1.0)\n",
            "Requirement already satisfied: google-pasta~=0.2 in /usr/local/lib/python3.7/dist-packages (from tensorflow>=2.1.0->tf2crf->urduhack) (0.2.0)\n",
            "Requirement already satisfied: opt-einsum~=3.3.0 in /usr/local/lib/python3.7/dist-packages (from tensorflow>=2.1.0->tf2crf->urduhack) (3.3.0)\n",
            "Requirement already satisfied: keras-preprocessing~=1.1.2 in /usr/local/lib/python3.7/dist-packages (from tensorflow>=2.1.0->tf2crf->urduhack) (1.1.2)\n",
            "Requirement already satisfied: astunparse~=1.6.3 in /usr/local/lib/python3.7/dist-packages (from tensorflow>=2.1.0->tf2crf->urduhack) (1.6.3)\n",
            "Requirement already satisfied: grpcio~=1.34.0 in /usr/local/lib/python3.7/dist-packages (from tensorflow>=2.1.0->tf2crf->urduhack) (1.34.1)\n",
            "Requirement already satisfied: tensorboard~=2.5 in /usr/local/lib/python3.7/dist-packages (from tensorflow>=2.1.0->tf2crf->urduhack) (2.5.0)\n",
            "Requirement already satisfied: gast==0.4.0 in /usr/local/lib/python3.7/dist-packages (from tensorflow>=2.1.0->tf2crf->urduhack) (0.4.0)\n",
            "Requirement already satisfied: flatbuffers~=1.12.0 in /usr/local/lib/python3.7/dist-packages (from tensorflow>=2.1.0->tf2crf->urduhack) (1.12)\n",
            "Requirement already satisfied: chardet<4,>=3.0.2 in /usr/local/lib/python3.7/dist-packages (from requests>=2.19.0->tensorflow-datasets~=3.1->urduhack) (3.0.4)\n",
            "Requirement already satisfied: idna<3,>=2.5 in /usr/local/lib/python3.7/dist-packages (from requests>=2.19.0->tensorflow-datasets~=3.1->urduhack) (2.10)\n",
            "Requirement already satisfied: certifi>=2017.4.17 in /usr/local/lib/python3.7/dist-packages (from requests>=2.19.0->tensorflow-datasets~=3.1->urduhack) (2020.12.5)\n",
            "Requirement already satisfied: urllib3!=1.25.0,!=1.25.1,<1.26,>=1.21.1 in /usr/local/lib/python3.7/dist-packages (from requests>=2.19.0->tensorflow-datasets~=3.1->urduhack) (1.24.3)\n",
            "Requirement already satisfied: googleapis-common-protos<2,>=1.52.0 in /usr/local/lib/python3.7/dist-packages (from tensorflow-metadata->tensorflow-datasets~=3.1->urduhack) (1.53.0)\n",
            "Requirement already satisfied: setuptools in /usr/local/lib/python3.7/dist-packages (from protobuf>=3.6.1->tensorflow-datasets~=3.1->urduhack) (57.0.0)\n",
            "Requirement already satisfied: cached-property; python_version < \"3.8\" in /usr/local/lib/python3.7/dist-packages (from h5py~=3.1.0->tensorflow>=2.1.0->tf2crf->urduhack) (1.5.2)\n",
            "Requirement already satisfied: tensorboard-data-server<0.7.0,>=0.6.0 in /usr/local/lib/python3.7/dist-packages (from tensorboard~=2.5->tensorflow>=2.1.0->tf2crf->urduhack) (0.6.1)\n",
            "Requirement already satisfied: google-auth<2,>=1.6.3 in /usr/local/lib/python3.7/dist-packages (from tensorboard~=2.5->tensorflow>=2.1.0->tf2crf->urduhack) (1.30.0)\n",
            "Requirement already satisfied: markdown>=2.6.8 in /usr/local/lib/python3.7/dist-packages (from tensorboard~=2.5->tensorflow>=2.1.0->tf2crf->urduhack) (3.3.4)\n",
            "Requirement already satisfied: tensorboard-plugin-wit>=1.6.0 in /usr/local/lib/python3.7/dist-packages (from tensorboard~=2.5->tensorflow>=2.1.0->tf2crf->urduhack) (1.8.0)\n",
            "Requirement already satisfied: google-auth-oauthlib<0.5,>=0.4.1 in /usr/local/lib/python3.7/dist-packages (from tensorboard~=2.5->tensorflow>=2.1.0->tf2crf->urduhack) (0.4.4)\n",
            "Requirement already satisfied: werkzeug>=0.11.15 in /usr/local/lib/python3.7/dist-packages (from tensorboard~=2.5->tensorflow>=2.1.0->tf2crf->urduhack) (1.0.1)\n",
            "Requirement already satisfied: cachetools<5.0,>=2.0.0 in /usr/local/lib/python3.7/dist-packages (from google-auth<2,>=1.6.3->tensorboard~=2.5->tensorflow>=2.1.0->tf2crf->urduhack) (4.2.2)\n",
            "Requirement already satisfied: pyasn1-modules>=0.2.1 in /usr/local/lib/python3.7/dist-packages (from google-auth<2,>=1.6.3->tensorboard~=2.5->tensorflow>=2.1.0->tf2crf->urduhack) (0.2.8)\n",
            "Requirement already satisfied: rsa<5,>=3.1.4; python_version >= \"3.6\" in /usr/local/lib/python3.7/dist-packages (from google-auth<2,>=1.6.3->tensorboard~=2.5->tensorflow>=2.1.0->tf2crf->urduhack) (4.7.2)\n",
            "Requirement already satisfied: importlib-metadata; python_version < \"3.8\" in /usr/local/lib/python3.7/dist-packages (from markdown>=2.6.8->tensorboard~=2.5->tensorflow>=2.1.0->tf2crf->urduhack) (4.0.1)\n",
            "Requirement already satisfied: requests-oauthlib>=0.7.0 in /usr/local/lib/python3.7/dist-packages (from google-auth-oauthlib<0.5,>=0.4.1->tensorboard~=2.5->tensorflow>=2.1.0->tf2crf->urduhack) (1.3.0)\n",
            "Requirement already satisfied: pyasn1<0.5.0,>=0.4.6 in /usr/local/lib/python3.7/dist-packages (from pyasn1-modules>=0.2.1->google-auth<2,>=1.6.3->tensorboard~=2.5->tensorflow>=2.1.0->tf2crf->urduhack) (0.4.8)\n",
            "Requirement already satisfied: zipp>=0.5 in /usr/local/lib/python3.7/dist-packages (from importlib-metadata; python_version < \"3.8\"->markdown>=2.6.8->tensorboard~=2.5->tensorflow>=2.1.0->tf2crf->urduhack) (3.4.1)\n",
            "Requirement already satisfied: oauthlib>=3.0.0 in /usr/local/lib/python3.7/dist-packages (from requests-oauthlib>=0.7.0->google-auth-oauthlib<0.5,>=0.4.1->tensorboard~=2.5->tensorflow>=2.1.0->tf2crf->urduhack) (3.1.0)\n",
            "Installing collected packages: tensorflow-addons, tf2crf, tensorflow-datasets, urduhack\n",
            "  Found existing installation: tensorflow-datasets 4.0.1\n",
            "    Uninstalling tensorflow-datasets-4.0.1:\n",
            "      Successfully uninstalled tensorflow-datasets-4.0.1\n",
            "Successfully installed tensorflow-addons-0.13.0 tensorflow-datasets-3.2.1 tf2crf-0.1.32 urduhack-1.1.1\n"
          ],
          "name": "stdout"
        }
      ]
    },
    {
      "cell_type": "code",
      "metadata": {
        "id": "0FlEiYCN2v_D"
      },
      "source": [
        "from datasets import Dataset\n",
        "from urduhack.preprocessing import remove_punctuation\n",
        "from urduhack.preprocessing import remove_accents\n",
        "from urduhack.preprocessing import replace_numbers\n",
        "from urduhack.preprocessing import normalize_whitespace\n",
        "import json\n",
        "from transformers import Wav2Vec2CTCTokenizer\n",
        "from transformers import Wav2Vec2FeatureExtractor\n",
        "from transformers import Wav2Vec2Processor\n",
        "import torchaudio\n",
        "import librosa\n",
        "import numpy as np\n",
        "import random\n",
        "from collections import defaultdict\n",
        "import pandas as pd"
      ],
      "execution_count": 3,
      "outputs": []
    },
    {
      "cell_type": "markdown",
      "metadata": {
        "id": "9_DKFDxRYAvP"
      },
      "source": [
        "# Loading and Prerocessing the Urdu transcriptions, Convert the dataset into Apache Arrow "
      ]
    },
    {
      "cell_type": "code",
      "metadata": {
        "colab": {
          "base_uri": "https://localhost:8080/",
          "height": 272
        },
        "id": "CFpBQqhvzMb3",
        "outputId": "dbe8322b-a28c-4e1e-905b-fe5d42ef2f8e"
      },
      "source": [
        "data=pd.read_csv(\"/content/drive/MyDrive/AudioData/audio transcriptions (1).csv\")\n",
        "lst=[]\n",
        "for x in data[\"text\"]:\n",
        "  output = remove_punctuation(str(x))\n",
        "  output=remove_accents(output)\n",
        "  output=replace_numbers(output)\n",
        "  output = normalize_whitespace(output)\n",
        "  lst.append(output)\n",
        "data[\"text\"]=lst\n",
        "dataframe=data.head()\n",
        "data = Dataset.from_pandas(data)\n",
        "print(data)\n",
        "dataframe"
      ],
      "execution_count": null,
      "outputs": [
        {
          "output_type": "stream",
          "text": [
            "Dataset({\n",
            "    features: ['Path', 'text'],\n",
            "    num_rows: 2999\n",
            "})\n"
          ],
          "name": "stdout"
        },
        {
          "output_type": "execute_result",
          "data": {
            "text/html": [
              "<div>\n",
              "<style scoped>\n",
              "    .dataframe tbody tr th:only-of-type {\n",
              "        vertical-align: middle;\n",
              "    }\n",
              "\n",
              "    .dataframe tbody tr th {\n",
              "        vertical-align: top;\n",
              "    }\n",
              "\n",
              "    .dataframe thead th {\n",
              "        text-align: right;\n",
              "    }\n",
              "</style>\n",
              "<table border=\"1\" class=\"dataframe\">\n",
              "  <thead>\n",
              "    <tr style=\"text-align: right;\">\n",
              "      <th></th>\n",
              "      <th>Path</th>\n",
              "      <th>text</th>\n",
              "    </tr>\n",
              "  </thead>\n",
              "  <tbody>\n",
              "    <tr>\n",
              "      <th>0</th>\n",
              "      <td>/content/drive/MyDrive/AudioData/Audio Files/1...</td>\n",
              "      <td>اب دوبارہ آ رہی ہےموڈیم آن ہو گیا ہے</td>\n",
              "    </tr>\n",
              "    <tr>\n",
              "      <th>1</th>\n",
              "      <td>/content/drive/MyDrive/AudioData/Audio Files/0...</td>\n",
              "      <td>آپ صرف اتنی بات کریں گے تو آپ کو</td>\n",
              "    </tr>\n",
              "    <tr>\n",
              "      <th>2</th>\n",
              "      <td>/content/drive/MyDrive/AudioData/Audio Files/3...</td>\n",
              "      <td>جی واپس آؤ</td>\n",
              "    </tr>\n",
              "    <tr>\n",
              "      <th>3</th>\n",
              "      <td>/content/drive/MyDrive/AudioData/Audio Files/2...</td>\n",
              "      <td>اپنا خیال رکھئے گا الله حافظ</td>\n",
              "    </tr>\n",
              "    <tr>\n",
              "      <th>4</th>\n",
              "      <td>/content/drive/MyDrive/AudioData/Audio Files/d...</td>\n",
              "      <td>جی آویلیبل ہے محترم ایم بی ایم بی</td>\n",
              "    </tr>\n",
              "  </tbody>\n",
              "</table>\n",
              "</div>"
            ],
            "text/plain": [
              "                                                Path                                  text\n",
              "0  /content/drive/MyDrive/AudioData/Audio Files/1...  اب دوبارہ آ رہی ہےموڈیم آن ہو گیا ہے\n",
              "1  /content/drive/MyDrive/AudioData/Audio Files/0...      آپ صرف اتنی بات کریں گے تو آپ کو\n",
              "2  /content/drive/MyDrive/AudioData/Audio Files/3...                            جی واپس آؤ\n",
              "3  /content/drive/MyDrive/AudioData/Audio Files/2...          اپنا خیال رکھئے گا الله حافظ\n",
              "4  /content/drive/MyDrive/AudioData/Audio Files/d...     جی آویلیبل ہے محترم ایم بی ایم بی"
            ]
          },
          "metadata": {
            "tags": []
          },
          "execution_count": 6
        }
      ]
    },
    {
      "cell_type": "code",
      "metadata": {
        "colab": {
          "base_uri": "https://localhost:8080/",
          "height": 272
        },
        "id": "lEk1yNzjJLIC",
        "outputId": "10b941ab-fe94-4990-f4d1-489c99a63850"
      },
      "source": [
        "#Test_Data\n",
        "colnames=['text'] \n",
        "test_data=pd.read_csv(\"/content/drive/MyDrive/AudioData/Test_Data_Transcript.csv\",names=colnames,header=None)\n",
        "paths=[]\n",
        "for x in range(1,len(test_data[\"text\"])+1):\n",
        "  temp=str(\"/content/drive/MyDrive/AudioData/Test Dataset/\")+str(x)+\".wav\"\n",
        "  paths.append(temp)\n",
        "test_data['Path'] = paths\n",
        "lst=[]\n",
        "for x in test_data[\"text\"]:\n",
        "  output = remove_punctuation(str(x))\n",
        "  output=remove_accents(output)\n",
        "  output=replace_numbers(output)\n",
        "  output = normalize_whitespace(output)\n",
        "  lst.append(output)\n",
        "test_data[\"text\"]=lst\n",
        "dataframe=test_data.head()\n",
        "test_data = Dataset.from_pandas(test_data)\n",
        "print(test_data)\n",
        "dataframe"
      ],
      "execution_count": 56,
      "outputs": [
        {
          "output_type": "stream",
          "text": [
            "Dataset({\n",
            "    features: ['text', 'Path'],\n",
            "    num_rows: 169\n",
            "})\n"
          ],
          "name": "stdout"
        },
        {
          "output_type": "execute_result",
          "data": {
            "text/html": [
              "<div>\n",
              "<style scoped>\n",
              "    .dataframe tbody tr th:only-of-type {\n",
              "        vertical-align: middle;\n",
              "    }\n",
              "\n",
              "    .dataframe tbody tr th {\n",
              "        vertical-align: top;\n",
              "    }\n",
              "\n",
              "    .dataframe thead th {\n",
              "        text-align: right;\n",
              "    }\n",
              "</style>\n",
              "<table border=\"1\" class=\"dataframe\">\n",
              "  <thead>\n",
              "    <tr style=\"text-align: right;\">\n",
              "      <th></th>\n",
              "      <th>text</th>\n",
              "      <th>Path</th>\n",
              "    </tr>\n",
              "  </thead>\n",
              "  <tbody>\n",
              "    <tr>\n",
              "      <th>0</th>\n",
              "      <td>جی سر میں ڈیٹیلز چیک کرتا ہوں کائنڈلی ویٹ کیجی...</td>\n",
              "      <td>/content/drive/MyDrive/AudioData/Test Dataset/...</td>\n",
              "    </tr>\n",
              "    <tr>\n",
              "      <th>1</th>\n",
              "      <td>اسلام علیکم کر رہا ہوں جی فرمائے میں آپکی کیا ...</td>\n",
              "      <td>/content/drive/MyDrive/AudioData/Test Dataset/...</td>\n",
              "    </tr>\n",
              "    <tr>\n",
              "      <th>2</th>\n",
              "      <td>میں سر دیکھ لیتا ہوں جس نمبر سے کال کر رہے ہیں...</td>\n",
              "      <td>/content/drive/MyDrive/AudioData/Test Dataset/...</td>\n",
              "    </tr>\n",
              "    <tr>\n",
              "      <th>3</th>\n",
              "      <td>جی جس نمبر سے آپ کال کر رہے ہیں اسی نمبر پہ اش...</td>\n",
              "      <td>/content/drive/MyDrive/AudioData/Test Dataset/...</td>\n",
              "    </tr>\n",
              "    <tr>\n",
              "      <th>4</th>\n",
              "      <td>مزید ویٹ کیجیے گا سر</td>\n",
              "      <td>/content/drive/MyDrive/AudioData/Test Dataset/...</td>\n",
              "    </tr>\n",
              "  </tbody>\n",
              "</table>\n",
              "</div>"
            ],
            "text/plain": [
              "                                                text                                               Path\n",
              "0  جی سر میں ڈیٹیلز چیک کرتا ہوں کائنڈلی ویٹ کیجی...  /content/drive/MyDrive/AudioData/Test Dataset/...\n",
              "1  اسلام علیکم کر رہا ہوں جی فرمائے میں آپکی کیا ...  /content/drive/MyDrive/AudioData/Test Dataset/...\n",
              "2  میں سر دیکھ لیتا ہوں جس نمبر سے کال کر رہے ہیں...  /content/drive/MyDrive/AudioData/Test Dataset/...\n",
              "3  جی جس نمبر سے آپ کال کر رہے ہیں اسی نمبر پہ اش...  /content/drive/MyDrive/AudioData/Test Dataset/...\n",
              "4                               مزید ویٹ کیجیے گا سر  /content/drive/MyDrive/AudioData/Test Dataset/..."
            ]
          },
          "metadata": {
            "tags": []
          },
          "execution_count": 56
        }
      ]
    },
    {
      "cell_type": "markdown",
      "metadata": {
        "id": "I35T3uPBZCLZ"
      },
      "source": [
        "# Genreted the urdu Vocab also added the required Tokens i.e  \"[UNK]\" \"[PAD]\" and replace the space with \"|\" for visibility "
      ]
    },
    {
      "cell_type": "code",
      "metadata": {
        "colab": {
          "base_uri": "https://localhost:8080/"
        },
        "id": "u4qQfvCX1jlu",
        "outputId": "238b0e9a-fe05-4d22-ee88-9e7c8abfbe2d"
      },
      "source": [
        "dict1 = {0: ' ',1: 'ا',2: 'آ',3: 'ب',4: 'پ',5: 'ت',6: 'ٹ',7: 'ث',8: 'ج',9: 'چ',10: 'ح',11: 'خ',12: 'د',13: 'ڈ',14: 'ذ',15: 'ر',16: 'ڑ',17: 'ز',18: 'ژ',19: 'س',20: 'ش',21: 'ص',22: 'ض',23: 'ط',24: 'ظ',25: 'ع',26: 'غ',27: 'ف',28: 'ق',29: 'ک',30: 'گ',31: 'ل',32: 'م',33: 'ن',34: 'ں',35: 'و',36: 'ہ',37: 'ھ',38: 'ء',39: 'ئ',40: 'ی',41: 'ے'}\n",
        "vocab_dict=defaultdict(int)\n",
        "for key,value in dict1.items():\n",
        "  vocab_dict[value]=key\n",
        "vocab_dict[\"|\"] = vocab_dict[\" \"]\n",
        "del vocab_dict[\" \"]\n",
        "vocab_dict[\"[UNK]\"] = len(vocab_dict)\n",
        "vocab_dict[\"[PAD]\"] = len(vocab_dict)\n",
        "len(vocab_dict)"
      ],
      "execution_count": 14,
      "outputs": [
        {
          "output_type": "execute_result",
          "data": {
            "text/plain": [
              "44"
            ]
          },
          "metadata": {
            "tags": []
          },
          "execution_count": 14
        }
      ]
    },
    {
      "cell_type": "markdown",
      "metadata": {
        "id": "5qrdH-gjZJ51"
      },
      "source": [
        "# Declare the Tokenizer , Feature Extracter, and Processor\n",
        "## Also saved this in drive for later use"
      ]
    },
    {
      "cell_type": "code",
      "metadata": {
        "id": "WhpUm0VrFS4V"
      },
      "source": [
        "with open('vocab.json', 'w') as vocab_file:\n",
        "    json.dump(vocab_dict, vocab_file,ensure_ascii = False)\n",
        "tokenizer = Wav2Vec2CTCTokenizer(\"./vocab.json\", unk_token=\"[UNK]\", pad_token=\"[PAD]\", word_delimiter_token=\"|\")\n",
        "feature_extractor = Wav2Vec2FeatureExtractor(feature_size=1, sampling_rate=16000, padding_value=0.0, do_normalize=True, return_attention_mask=True)\n",
        "processor = Wav2Vec2Processor(feature_extractor=feature_extractor, tokenizer=tokenizer)\n",
        "processor.save_pretrained(\"/content/drive/MyDrive/wav2vec2-large-xlsr-Urdu\")"
      ],
      "execution_count": 15,
      "outputs": []
    },
    {
      "cell_type": "markdown",
      "metadata": {
        "id": "3-vaDARwZb50"
      },
      "source": [
        "# Reading audio files and mapping to 16000 sampling rate"
      ]
    },
    {
      "cell_type": "code",
      "metadata": {
        "id": "XHyoKPzvNwgq"
      },
      "source": [
        "def speech_file_to_array_fn(batch):\n",
        "    speech_array, sampling_rate = torchaudio.load(batch[\"Path\"])\n",
        "    batch[\"speech\"] = speech_array[0].numpy()\n",
        "    batch[\"sampling_rate\"] = sampling_rate\n",
        "    batch[\"target_text\"] = batch[\"text\"]\n",
        "    return batch\n",
        "def resample(batch):\n",
        "    batch[\"speech\"] = librosa.resample(np.asarray(batch[\"speech\"]), 16_000, 16_000)\n",
        "    batch[\"sampling_rate\"] = 16_000\n",
        "    return batch"
      ],
      "execution_count": 18,
      "outputs": []
    },
    {
      "cell_type": "code",
      "metadata": {
        "colab": {
          "base_uri": "https://localhost:8080/",
          "height": 66,
          "referenced_widgets": [
            "ea8cf805ecf441359f24204ee8a2dba0",
            "df001ae7a4734f0eb305152fe5e3aa7b",
            "b3b9e35899a2405f9acc3f936fddbf85",
            "b275c85b34f1447580e37c8146f938c3",
            "e31fc63454544c9dab322c9322d44a89",
            "e5e8e4d8979b42f6bdfb3ec16ac1c93f",
            "271b6fbdb73b4bacabf452b764afbedd",
            "a260a04520874b3b8d4c1e40d2e212a9"
          ]
        },
        "id": "qn6L5GhFJMm-",
        "outputId": "bf395e23-3234-4eef-bf54-d60f429af81e"
      },
      "source": [
        "data = data.map(speech_file_to_array_fn, remove_columns=data.column_names)"
      ],
      "execution_count": null,
      "outputs": [
        {
          "output_type": "display_data",
          "data": {
            "application/vnd.jupyter.widget-view+json": {
              "model_id": "ea8cf805ecf441359f24204ee8a2dba0",
              "version_minor": 0,
              "version_major": 2
            },
            "text/plain": [
              "HBox(children=(FloatProgress(value=0.0, max=2999.0), HTML(value='')))"
            ]
          },
          "metadata": {
            "tags": []
          }
        },
        {
          "output_type": "stream",
          "text": [
            "\n"
          ],
          "name": "stdout"
        }
      ]
    },
    {
      "cell_type": "code",
      "metadata": {
        "colab": {
          "base_uri": "https://localhost:8080/",
          "height": 66,
          "referenced_widgets": [
            "c6b55e3994cf46ed91f318b11a5be4dd",
            "0edff07b1400436f82acd28e676af10f",
            "cc75c88d639f4b0cb98b6d159724184d",
            "c23e0c372ba14089b8f9f5edcb91b00f",
            "0ca8a54640454691803f9914014d3664",
            "ea1359a535f94fafb8082fece850248d",
            "f15a76e2b8a544d190f9952fa4b28204",
            "32ae9ed430684351853ada133d7d6a8e"
          ]
        },
        "id": "ZoeelCknN_6h",
        "outputId": "ede5da9f-1cec-417e-ce52-29003c5217fc"
      },
      "source": [
        "test_data=test_data.map(speech_file_to_array_fn, remove_columns=test_data.column_names)"
      ],
      "execution_count": 57,
      "outputs": [
        {
          "output_type": "display_data",
          "data": {
            "application/vnd.jupyter.widget-view+json": {
              "model_id": "c6b55e3994cf46ed91f318b11a5be4dd",
              "version_minor": 0,
              "version_major": 2
            },
            "text/plain": [
              "HBox(children=(FloatProgress(value=0.0, max=169.0), HTML(value='')))"
            ]
          },
          "metadata": {
            "tags": []
          }
        },
        {
          "output_type": "stream",
          "text": [
            "\n"
          ],
          "name": "stdout"
        }
      ]
    },
    {
      "cell_type": "code",
      "metadata": {
        "colab": {
          "base_uri": "https://localhost:8080/",
          "height": 281,
          "referenced_widgets": [
            "7f5d8ff424f84b74b64a5fce654035a6",
            "e7cb62a115f546f6a7210cddcca9c9f3",
            "c9564b3ccada4954a4488e0fa42ba8bf",
            "21b85a56c97844068d76925d11026bbc",
            "519170f0c4fa4f62abd8d24107af4258",
            "c0b8b4875c234013bf86c4c92ed95dbd",
            "e9d116096dc34bec995a5457950bbd94",
            "3b491fa6e69d4838a7d75d5ebc73e6cd",
            "679e0f6d79c94382941d6b6dbd4db59d",
            "578545c0260041e5bed455ce9f030fb3",
            "7fec4a731bde4ba8971010653653df2c",
            "937f0f19a3ca4fe49b5dd921a26d2d36",
            "984f6cbc4e844e47a8c67782088041b8",
            "628326b2d81e447eb6a09dad81d85fa4",
            "6b3e64a2b09244daaba1e54efc23fc16",
            "b085f30d91e74d3ebaee1eecb088645a",
            "8b9e8c946c0e48049233bf45f290f484",
            "39ac56b6ff8343d6a845bc5a69b2371c",
            "bbd916f8dfb1413684e36256e8b131de",
            "e482dc2194954f378b027cbc879ae993",
            "c5145acb5f75491e9a1abc18be829c03",
            "ae08a445ebc64e4c9c1d16f249cf5f91",
            "9cf23faa9a0047bd8b89e12a5a2f6d7b",
            "025ce2cb7ea8469a951fda4f3dfb5949",
            "ca3970236f184fe18150a8ff864c007f",
            "d9d69656d212431f8e5e03841957a928",
            "8d225cc7432a4e6a9e205d8e00fecc44",
            "d8eea67a0d2546cf8fc9af7ab447c7df",
            "4a1913efba1245259658ea964d857e27",
            "1bd9ce53f4bc42399f802e78536735e7",
            "8bdf07a32573496c9e1da4a4eb6eca9e",
            "cdc48f449a504cf6aa6442d68ea3081f"
          ]
        },
        "id": "7b9BIicASarh",
        "outputId": "bff02ca7-a088-409e-874e-4e839caf491d"
      },
      "source": [
        "data = data.map(resample, num_proc=4)"
      ],
      "execution_count": null,
      "outputs": [
        {
          "output_type": "stream",
          "text": [
            " "
          ],
          "name": "stdout"
        },
        {
          "output_type": "display_data",
          "data": {
            "application/vnd.jupyter.widget-view+json": {
              "model_id": "7f5d8ff424f84b74b64a5fce654035a6",
              "version_minor": 0,
              "version_major": 2
            },
            "text/plain": [
              "HBox(children=(FloatProgress(value=0.0, description='#0', max=750.0, style=ProgressStyle(description_width='in…"
            ]
          },
          "metadata": {
            "tags": []
          }
        },
        {
          "output_type": "stream",
          "text": [
            " "
          ],
          "name": "stdout"
        },
        {
          "output_type": "display_data",
          "data": {
            "application/vnd.jupyter.widget-view+json": {
              "model_id": "679e0f6d79c94382941d6b6dbd4db59d",
              "version_minor": 0,
              "version_major": 2
            },
            "text/plain": [
              "HBox(children=(FloatProgress(value=0.0, description='#1', max=750.0, style=ProgressStyle(description_width='in…"
            ]
          },
          "metadata": {
            "tags": []
          }
        },
        {
          "output_type": "stream",
          "text": [
            " "
          ],
          "name": "stdout"
        },
        {
          "output_type": "display_data",
          "data": {
            "application/vnd.jupyter.widget-view+json": {
              "model_id": "8b9e8c946c0e48049233bf45f290f484",
              "version_minor": 0,
              "version_major": 2
            },
            "text/plain": [
              "HBox(children=(FloatProgress(value=0.0, description='#2', max=750.0, style=ProgressStyle(description_width='in…"
            ]
          },
          "metadata": {
            "tags": []
          }
        },
        {
          "output_type": "stream",
          "text": [
            " "
          ],
          "name": "stdout"
        },
        {
          "output_type": "display_data",
          "data": {
            "application/vnd.jupyter.widget-view+json": {
              "model_id": "ca3970236f184fe18150a8ff864c007f",
              "version_minor": 0,
              "version_major": 2
            },
            "text/plain": [
              "HBox(children=(FloatProgress(value=0.0, description='#3', max=749.0, style=ProgressStyle(description_width='in…"
            ]
          },
          "metadata": {
            "tags": []
          }
        },
        {
          "output_type": "stream",
          "text": [
            "\n",
            "\n",
            "\n",
            "\n"
          ],
          "name": "stdout"
        }
      ]
    },
    {
      "cell_type": "code",
      "metadata": {
        "colab": {
          "base_uri": "https://localhost:8080/",
          "height": 281,
          "referenced_widgets": [
            "3a8e5bac583948cd940f2fa878c2ae51",
            "100ec367018e431a9ecc35c21d4b5875",
            "e4963efa11884414b47f5ca6e56dffb6",
            "342aaf3a725a4ac5bfe6bb473ad91798",
            "13a40a6e14a74aebabd23639c33c147d",
            "5cc1a9af64264900afca53a8319e26d8",
            "31e4196963b74ad98b94e563022ae35e",
            "e6d8464f61f44e15925f62b53c953dd9",
            "71d6e14a5a1e4304bdd85a1e55bf844c",
            "fdc0109c5367462791fbb02ed867707d",
            "810cc962992242cc915aa4026212804d",
            "e394ad57c4c54b0592344d8aab07b8cf",
            "9279863f247a4020ab239c39352bd67d",
            "cd477b49079340358a0f7526751b82f9",
            "7acb6cd2bedb415eb96cb9977181fe98",
            "0574a5378ec84c269c5e3d82070cfeb2",
            "9c0bab7e8af64d5bbb315034252af5dd",
            "29ec6eaefe1747d7987af7586c822421",
            "54ccad1089f049e9ae149a47a3d228f1",
            "b1c095df737e462cbd84e41691dcf267",
            "2459f2ad9691475c80bb1c21c8f335bf",
            "019aa4ef0be84eab9c3932c5e1f4666a",
            "4ece9dc4939942df8684482f460fd0fc",
            "c3490190252e4f989cf7d1c92f829635",
            "3ada657ce90740a79416c51fe334dca8",
            "3ed33a69d4f74aa8873bdc57814d9bc3",
            "192c9fe9066e401f8f027fb2a58fe508",
            "2d68f53922a64a7b95109f8def706057",
            "3a1a90fed005416a957479e106a9cbc4",
            "b2fd1ea110f348e397bd5c204faab315",
            "23e28e84e642463eb97af99e5a3dee1e",
            "8136ebd55e2a4c759f60ce3d0358486f"
          ]
        },
        "id": "rdveUPYvOHPx",
        "outputId": "fd75c700-a79e-4f4a-bd74-42f00d54d028"
      },
      "source": [
        "test_data = test_data.map(resample, num_proc=4)"
      ],
      "execution_count": 58,
      "outputs": [
        {
          "output_type": "stream",
          "text": [
            " "
          ],
          "name": "stdout"
        },
        {
          "output_type": "display_data",
          "data": {
            "application/vnd.jupyter.widget-view+json": {
              "model_id": "3a8e5bac583948cd940f2fa878c2ae51",
              "version_minor": 0,
              "version_major": 2
            },
            "text/plain": [
              "HBox(children=(FloatProgress(value=0.0, description='#0', max=43.0, style=ProgressStyle(description_width='ini…"
            ]
          },
          "metadata": {
            "tags": []
          }
        },
        {
          "output_type": "stream",
          "text": [
            " "
          ],
          "name": "stdout"
        },
        {
          "output_type": "display_data",
          "data": {
            "application/vnd.jupyter.widget-view+json": {
              "model_id": "71d6e14a5a1e4304bdd85a1e55bf844c",
              "version_minor": 0,
              "version_major": 2
            },
            "text/plain": [
              "HBox(children=(FloatProgress(value=0.0, description='#1', max=42.0, style=ProgressStyle(description_width='ini…"
            ]
          },
          "metadata": {
            "tags": []
          }
        },
        {
          "output_type": "stream",
          "text": [
            " "
          ],
          "name": "stdout"
        },
        {
          "output_type": "display_data",
          "data": {
            "application/vnd.jupyter.widget-view+json": {
              "model_id": "9c0bab7e8af64d5bbb315034252af5dd",
              "version_minor": 0,
              "version_major": 2
            },
            "text/plain": [
              "HBox(children=(FloatProgress(value=0.0, description='#2', max=42.0, style=ProgressStyle(description_width='ini…"
            ]
          },
          "metadata": {
            "tags": []
          }
        },
        {
          "output_type": "stream",
          "text": [
            " "
          ],
          "name": "stdout"
        },
        {
          "output_type": "display_data",
          "data": {
            "application/vnd.jupyter.widget-view+json": {
              "model_id": "3ada657ce90740a79416c51fe334dca8",
              "version_minor": 0,
              "version_major": 2
            },
            "text/plain": [
              "HBox(children=(FloatProgress(value=0.0, description='#3', max=42.0, style=ProgressStyle(description_width='ini…"
            ]
          },
          "metadata": {
            "tags": []
          }
        },
        {
          "output_type": "stream",
          "text": [
            "\n",
            "\n",
            "\n",
            "\n"
          ],
          "name": "stdout"
        }
      ]
    },
    {
      "cell_type": "markdown",
      "metadata": {
        "id": "nbbuPswdZtOv"
      },
      "source": [
        "# Genrated a Sample for Visualization"
      ]
    },
    {
      "cell_type": "code",
      "metadata": {
        "colab": {
          "base_uri": "https://localhost:8080/"
        },
        "id": "CeKSHekfXO2a",
        "outputId": "458b3973-188b-4237-de75-6a7667b9a847"
      },
      "source": [
        "rand_int = random.randint(0, len(data)-1)\n",
        "print(\"Target text:\", data[rand_int][\"target_text\"])\n",
        "print(\"Input array shape:\", np.asarray(data[rand_int][\"speech\"]).shape)\n",
        "print(\"Sampling rate:\", data[rand_int][\"sampling_rate\"])\n",
        "sample=data[rand_int][\"speech\"]\n",
        "sample_label=data[rand_int][\"target_text\"]\n",
        "print(sample)\n",
        "print(sample_label)"
      ],
      "execution_count": null,
      "outputs": [
        {
          "output_type": "stream",
          "text": [
            "Target text: اپنا خیال رکھنا اللہ حافظ\n",
            "Input array shape: (34400,)\n",
            "Sampling rate: 16000\n",
            "[0.0084228515625, 0.00244140625, -0.00738525390625, -0.014312744140625, -0.01629638671875, -0.0166015625, -0.017181396484375, -0.016357421875, -0.013031005859375, -0.010467529296875, -0.01165771484375, -0.013519287109375, -0.011474609375, -0.008636474609375, -0.01470947265625, -0.033111572265625, -0.052734375, -0.05926513671875, -0.05169677734375, -0.042083740234375, -0.03936767578125, -0.03973388671875, -0.03582763671875, -0.0299072265625, -0.031280517578125, -0.0423583984375, -0.053436279296875, -0.053436279296875, -0.04205322265625, -0.02886962890625, -0.021942138671875, -0.0203857421875, -0.017791748046875, -0.010711669921875, -0.002532958984375, 0.001068115234375, -0.000732421875, -0.00274658203125, 0.000640869140625, 0.008941650390625, 0.0174560546875, 0.023284912109375, 0.0279541015625, 0.03265380859375, 0.03497314453125, 0.0330810546875, 0.03082275390625, 0.033843994140625, 0.04156494140625, 0.04608154296875, 0.0421142578125, 0.034637451171875, 0.033111572265625, 0.038970947265625, 0.043792724609375, 0.039794921875, 0.029510498046875, 0.021514892578125, 0.019622802734375, 0.019775390625, 0.017608642578125, 0.014373779296875, 0.012847900390625, 0.01116943359375, 0.004669189453125, -0.006103515625, -0.013702392578125, -0.01239013671875, -0.0059814453125, -0.0035400390625, -0.008392333984375, -0.014862060546875, -0.016326904296875, -0.013214111328125, -0.0111083984375, -0.01287841796875, -0.01531982421875, -0.013702392578125, -0.00738525390625, 0.000213623046875, 0.005401611328125, 0.007080078125, 0.0067138671875, 0.005828857421875, 0.004547119140625, 0.00286865234375, 0.002716064453125, 0.007080078125, 0.01593017578125, 0.022857666015625, 0.01983642578125, 0.006927490234375, -0.0052490234375, -0.005523681640625, 0.00567626953125, 0.016082763671875, 0.015167236328125, 0.004974365234375, -0.00408935546875, -0.005706787109375, -0.00274658203125, -0.00091552734375, -0.001739501953125, -0.003448486328125, -0.004730224609375, -0.005584716796875, -0.005462646484375, -0.004058837890625, -0.00311279296875, -0.004302978515625, -0.005950927734375, -0.004852294921875, -0.001708984375, -0.001007080078125, -0.00445556640625, -0.007659912109375, -0.006591796875, -0.00390625, -0.004791259765625, -0.008697509765625, -0.01031494140625, -0.0081787109375, -0.00677490234375, -0.008758544921875, -0.010406494140625, -0.008453369140625, -0.00634765625, -0.00921630859375, -0.01519775390625, -0.018157958984375, -0.017303466796875, -0.0181884765625, -0.02288818359375, -0.026123046875, -0.023223876953125, -0.017333984375, -0.0142822265625, -0.014984130859375, -0.016510009765625, -0.018096923828125, -0.020965576171875, -0.02313232421875, -0.02081298828125, -0.014495849609375, -0.0086669921875, -0.00555419921875, -0.003173828125, -0.000701904296875, -0.00067138671875, -0.003753662109375, -0.005859375, -0.004913330078125, -0.00457763671875, -0.00701904296875, -0.00579833984375, 0.006683349609375, 0.0255126953125, 0.03582763671875, 0.029937744140625, 0.0157470703125, 0.005615234375, 0.002288818359375, 0.001251220703125, 0.001312255859375, 0.005828857421875, 0.0147705078125, 0.022735595703125, 0.025634765625, 0.024627685546875, 0.021820068359375, 0.016876220703125, 0.009918212890625, 0.0042724609375, 0.003173828125, 0.005584716796875, 0.0087890625, 0.01220703125, 0.016387939453125, 0.01910400390625, 0.017608642578125, 0.01312255859375, 0.0101318359375, 0.010101318359375, 0.009674072265625, 0.0064697265625, 0.002685546875, 0.0018310546875, 0.00384521484375, 0.005889892578125, 0.00689697265625, 0.007171630859375, 0.006256103515625, 0.0030517578125, -0.001007080078125, -0.0028076171875, -0.00152587890625, 0.000152587890625, 9.1552734375e-05, -0.00054931640625, -0.00018310546875, -0.00018310546875, -0.00225830078125, -0.0050048828125, -0.0047607421875, -0.00115966796875, 0.001922607421875, 0.00128173828125, -0.001678466796875, -0.003387451171875, -0.002685546875, -0.00103759765625, 0.000213623046875, 0.00103759765625, 0.0013427734375, -6.103515625e-05, -0.003173828125, -0.00592041015625, -0.006103515625, -0.004119873046875, -0.002288818359375, -0.002044677734375, -0.002838134765625, -0.00360107421875, -0.00408935546875, -0.004547119140625, -0.00433349609375, -0.0030517578125, -0.00140380859375, -0.0008544921875, -0.002044677734375, -0.00384521484375, -0.004638671875, -0.003631591796875, -0.001251220703125, 0.00177001953125, 0.004119873046875, 0.0042724609375, 0.001708984375, -0.0020751953125, -0.004425048828125, -0.004302978515625, -0.00286865234375, -0.001708984375, -0.0009765625, -0.000213623046875, 0.0001220703125, -0.001068115234375, -0.00347900390625, -0.00543212890625, -0.00579833984375, -0.00537109375, -0.005279541015625, -0.005126953125, -0.003997802734375, -0.002197265625, -0.00140380859375, -0.002685546875, -0.005218505859375, -0.007568359375, -0.00885009765625, -0.008880615234375, -0.007781982421875, -0.006103515625, -0.005340576171875, -0.006317138671875, -0.00799560546875, -0.00872802734375, -0.007537841796875, -0.0052490234375, -0.00286865234375, -0.001007080078125, -9.1552734375e-05, -0.000274658203125, -0.001190185546875, -0.001556396484375, -0.000579833984375, 0.001190185546875, 0.00274658203125, 0.003631591796875, 0.00408935546875, 0.004180908203125, 0.00390625, 0.003631591796875, 0.003631591796875, 0.00360107421875, 0.0030517578125, 0.00250244140625, 0.00311279296875, 0.004852294921875, 0.00579833984375, 0.004547119140625, 0.002227783203125, 0.001434326171875, 0.00323486328125, 0.006072998046875, 0.00762939453125, 0.0072021484375, 0.00579833984375, 0.004608154296875, 0.004425048828125, 0.00537109375, 0.0067138671875, 0.00726318359375, 0.006591796875, 0.005523681640625, 0.005157470703125, 0.005523681640625, 0.00555419921875, 0.004791259765625, 0.00384521484375, 0.00335693359375, 0.002960205078125, 0.002105712890625, 0.00091552734375, 0.000457763671875, 0.001007080078125, 0.001861572265625, 0.002044677734375, 0.001190185546875, -0.000213623046875, -0.00140380859375, -0.001739501953125, -0.001220703125, -0.000213623046875, 0.000457763671875, 0.000396728515625, -0.0003662109375, -0.001678466796875, -0.003173828125, -0.004180908203125, -0.004058837890625, -0.002960205078125, -0.00225830078125, -0.0032958984375, -0.0057373046875, -0.0079345703125, -0.008575439453125, -0.007476806640625, -0.0057373046875, -0.0040283203125, -0.00274658203125, -0.00238037109375, -0.003326416015625, -0.00506591796875, -0.00604248046875, -0.005157470703125, -0.00286865234375, -0.001007080078125, -0.000640869140625, -0.001251220703125, -0.001373291015625, -0.00042724609375, 0.001007080078125, 0.001800537109375, 0.001617431640625, 0.000701904296875, -0.000274658203125, -0.000946044921875, -0.00115966796875, -0.000701904296875, 0.0001220703125, 0.000885009765625, 0.000885009765625, -0.000244140625, -0.0018310546875, -0.003082275390625, -0.002960205078125, -0.001800537109375, -0.000732421875, -0.000732421875, -0.00177001953125, -0.00274658203125, -0.00299072265625, -0.00286865234375, -0.0032958984375, -0.004425048828125, -0.005340576171875, -0.005096435546875, -0.003814697265625, -0.00244140625, -0.001708984375, -0.0018310546875, -0.0025634765625, -0.003662109375, -0.00457763671875, -0.004791259765625, -0.004058837890625, -0.002899169921875, -0.001953125, -0.001708984375, -0.00189208984375, -0.001922607421875, -0.00140380859375, -0.000335693359375, 0.000640869140625, 0.001129150390625, 0.00103759765625, 0.00079345703125, 0.000823974609375, 0.001251220703125, 0.00177001953125, 0.00189208984375, 0.001434326171875, 0.00048828125, -0.000457763671875, -0.000823974609375, -0.000274658203125, 0.00079345703125, 0.00152587890625, 0.001251220703125, 0.000213623046875, -0.000946044921875, -0.00152587890625, -0.00140380859375, -0.0003662109375, 0.00128173828125, 0.002899169921875, 0.003326416015625, 0.002349853515625, 0.001007080078125, 0.001007080078125, 0.002685546875, 0.00482177734375, 0.005615234375, 0.004791259765625, 0.003326416015625, 0.00244140625, 0.00250244140625, 0.0030517578125, 0.00335693359375, 0.00341796875, 0.003082275390625, 0.0023193359375, 0.0009765625, -0.00048828125, -0.00115966796875, -0.0008544921875, -9.1552734375e-05, 0.0001220703125, -0.0006103515625, -0.001556396484375, -0.001739501953125, -0.0010986328125, -0.0003662109375, -0.0003662109375, -0.00103759765625, -0.001678466796875, -0.001861572265625, -0.001556396484375, -0.001068115234375, -0.00067138671875, -0.000640869140625, -0.000946044921875, -0.001220703125, -0.00115966796875, -0.000762939453125, -0.00048828125, -0.0008544921875, -0.001678466796875, -0.00213623046875, -0.0018310546875, -0.001068115234375, -0.000701904296875, -0.001007080078125, -0.001495361328125, -0.0015869140625, -0.00128173828125, -0.001007080078125, -0.00103759765625, -0.0010986328125, -0.0009765625, -0.00079345703125, -0.001068115234375, -0.001983642578125, -0.00286865234375, -0.00299072265625, -0.00238037109375, -0.00177001953125, -0.001922607421875, -0.002899169921875, -0.003814697265625, -0.003814697265625, -0.002899169921875, -0.001861572265625, -0.00140380859375, -0.001739501953125, -0.002227783203125, -0.002288818359375, -0.0018310546875, -0.001190185546875, -0.000701904296875, -0.00048828125, -0.00030517578125, -0.000213623046875, -6.103515625e-05, 9.1552734375e-05, 0.0006103515625, 0.00140380859375, 0.0020751953125, 0.002197265625, 0.00164794921875, 0.000946044921875, 0.000762939453125, 0.001129150390625, 0.00140380859375, 0.00103759765625, 0.0003662109375, 0.0, 0.00054931640625, 0.00140380859375, 0.00164794921875, 0.00103759765625, 9.1552734375e-05, -0.000396728515625, -9.1552734375e-05, 0.000640869140625, 0.001251220703125, 0.001556396484375, 0.001495361328125, 0.00115966796875, 0.0008544921875, 0.000823974609375, 0.0009765625, 0.001129150390625, 0.00091552734375, 0.00042724609375, 0.000274658203125, 0.00067138671875, 0.001251220703125, 0.001251220703125, 0.000640869140625, 9.1552734375e-05, 0.00048828125, 0.0015869140625, 0.00238037109375, 0.002044677734375, 0.0009765625, 0.000335693359375, 0.0008544921875, 0.00201416015625, 0.00286865234375, 0.002716064453125, 0.001922607421875, 0.001220703125, 0.00103759765625, 0.001220703125, 0.0013427734375, 0.001220703125, 0.00091552734375, 0.000518798828125, 6.103515625e-05, -0.0003662109375, -0.000762939453125, -0.001007080078125, -0.0010986328125, -0.00103759765625, -0.0009765625, -0.001129150390625, -0.00152587890625, -0.001922607421875, -0.001922607421875, -0.00146484375, -0.000885009765625, -0.000701904296875, -0.00115966796875, -0.001708984375, -0.0018310546875, -0.0013427734375, -0.00079345703125, -0.000579833984375, -0.000762939453125, -0.00091552734375, -0.00079345703125, -0.000701904296875, -0.0010986328125, -0.001861572265625, -0.00238037109375, -0.00201416015625, -0.001007080078125, -0.000274658203125, -0.00048828125, -0.001312255859375, -0.00189208984375, -0.0015869140625, -0.000732421875, -0.000213623046875, -0.000335693359375, -0.000823974609375, -0.00091552734375, -0.000579833984375, -0.000244140625, -0.0001220703125, -0.000152587890625, 0.0, 0.00030517578125, 0.000274658203125, -0.00018310546875, -0.00054931640625, -0.000152587890625, 0.000946044921875, 0.001861572265625, 0.0018310546875, 0.001007080078125, 0.000457763671875, 0.00091552734375, 0.001922607421875, 0.00244140625, 0.00189208984375, 0.0008544921875, 0.0003662109375, 0.0008544921875, 0.001739501953125, 0.002105712890625, 0.00177001953125, 0.00115966796875, 0.00079345703125, 0.000701904296875, 0.000701904296875, 0.000640869140625, 0.00042724609375, 0.000213623046875, -0.0001220703125, -0.000579833984375, -0.001068115234375, -0.001251220703125, -0.001129150390625, -0.000823974609375, -0.000701904296875, -0.000823974609375, -0.000946044921875, -0.000946044921875, -0.000823974609375, -0.000732421875, -0.00079345703125, -0.0008544921875, -0.0008544921875, -0.00067138671875, -0.00042724609375, -6.103515625e-05, 0.00030517578125, 0.00054931640625, 0.000579833984375, 0.000335693359375, 3.0517578125e-05, -0.0001220703125, -6.103515625e-05, 6.103515625e-05, 0.000152587890625, 0.000335693359375, 0.000579833984375, 0.00091552734375, 0.001129150390625, 0.0009765625, 0.000579833984375, 0.000274658203125, 0.00018310546875, 0.000274658203125, 0.000274658203125, 3.0517578125e-05, -0.000244140625, -0.0003662109375, -0.000274658203125, 0.0, 0.000213623046875, 0.000213623046875, 3.0517578125e-05, -0.000213623046875, -0.000335693359375, -0.000518798828125, -0.00067138671875, -0.000885009765625, -0.000823974609375, -0.000335693359375, 0.000457763671875, 0.00091552734375, 0.000732421875, 0.000152587890625, -0.0001220703125, 0.000274658203125, 0.001129150390625, 0.001617431640625, 0.00115966796875, 0.00030517578125, -3.0517578125e-05, 0.00054931640625, 0.001617431640625, 0.002288818359375, 0.002197265625, 0.0015869140625, 0.000946044921875, 0.00042724609375, -6.103515625e-05, -0.000640869140625, -0.00103759765625, -0.001068115234375, -0.00091552734375, -0.000885009765625, -0.001007080078125, -0.000946044921875, -0.000518798828125, 3.0517578125e-05, 0.000244140625, -0.00030517578125, -0.001129150390625, -0.001617431640625, -0.00146484375, -0.00079345703125, -0.00030517578125, -0.000274658203125, -0.00042724609375, -0.000274658203125, 0.000396728515625, 0.001220703125, 0.0015869140625, 0.00115966796875, 0.000244140625, -0.000579833984375, -0.0008544921875, -0.00079345703125, -0.00079345703125, -0.00079345703125, -0.00054931640625, 0.0001220703125, 0.0009765625, 0.00146484375, 0.0013427734375, 0.0009765625, 0.000640869140625, 0.000274658203125, -0.000213623046875, -0.00079345703125, -0.00103759765625, -0.000579833984375, 0.00018310546875, 0.000732421875, 0.00091552734375, 0.001190185546875, 0.001678466796875, 0.001861572265625, 0.00103759765625, -0.000762939453125, -0.00262451171875, -0.003936767578125, -0.004486083984375, -0.004364013671875, -0.0028076171875, 0.000885009765625, 0.006134033203125, 0.0103759765625, 0.011138916015625, 0.008148193359375, 0.003997802734375, 0.001190185546875, 0.000213623046875, -0.000518798828125, -0.001922607421875, -0.003204345703125, -0.002838134765625, -0.000732421875, 0.001617431640625, 0.00311279296875, 0.003997802734375, 0.004852294921875, 0.004852294921875, 0.0023193359375, -0.002655029296875, -0.007171630859375, -0.008148193359375, -0.005096435546875, -0.00079345703125, 0.0015869140625, 0.00164794921875, 0.00115966796875, 0.001373291015625, 0.001800537109375, 0.001190185546875, -0.000579833984375, -0.002227783203125, -0.0028076171875, -0.0025634765625, -0.002197265625, -0.001922607421875, -0.00152587890625, -0.0008544921875, -0.0003662109375, -0.000335693359375, -0.00042724609375, -0.000396728515625, -0.000457763671875, -0.0008544921875, -0.001220703125, -0.000823974609375, 0.000335693359375, 0.0010986328125, 0.000518798828125, -0.0008544921875, -0.00152587890625, -0.0008544921875, 3.0517578125e-05, -0.000213623046875, -0.001190185546875, -0.001190185546875, 0.000640869140625, 0.0030517578125, 0.004119873046875, 0.00323486328125, 0.001495361328125, 0.0, -0.001220703125, -0.002471923828125, -0.003173828125, -0.00225830078125, -3.0517578125e-05, 0.001678466796875, 0.001312255859375, -0.0003662109375, -0.001373291015625, -0.00067138671875, 0.000640869140625, 0.0008544921875, -0.00018310546875, -0.00128173828125, -0.0015869140625, -0.001617431640625, -0.001739501953125, -0.00128173828125, 0.000579833984375, 0.0030517578125, 0.004241943359375, 0.003021240234375, 0.00054931640625, -0.000762939453125, -0.000152587890625, 0.001312255859375, 0.0018310546875, 0.001190185546875, 0.000244140625, -0.000457763671875, -0.00103759765625, -0.001678466796875, -0.001708984375, -0.00048828125, 0.0013427734375, 0.00225830078125, 0.00140380859375, -0.000274658203125, -0.001190185546875, -0.000823974609375, -9.1552734375e-05, -0.0001220703125, -0.001220703125, -0.002685546875, -0.003570556640625, -0.003265380859375, -0.001556396484375, 0.00079345703125, 0.0023193359375, 0.0018310546875, -0.000274658203125, -0.001983642578125, -0.0020751953125, -0.001251220703125, -0.001007080078125, -0.0015869140625, -0.00177001953125, -0.000823974609375, 6.103515625e-05, -0.000335693359375, -0.001251220703125, -0.000701904296875, 0.0010986328125, 0.001495361328125, -0.0009765625, -0.0030517578125, 0.000152587890625, 0.0086669921875, 0.015411376953125, 0.01300048828125, 0.00262451171875, -0.006317138671875, -0.005462646484375, 0.004058837890625, 0.013092041015625, 0.0140380859375, 0.00775146484375, 0.000640869140625, -0.0025634765625, -0.00225830078125, -0.0006103515625, 0.001739501953125, 0.00457763671875, 0.0059814453125, 0.003326416015625, -0.00262451171875, -0.006744384765625, -0.00457763671875, 0.002166748046875, 0.00677490234375, 0.00445556640625, -0.002685546875, -0.008026123046875, -0.007415771484375, -0.00262451171875, 0.001312255859375, 0.0010986328125, -0.002685546875, -0.007171630859375, -0.0093994140625, -0.007568359375, -0.001739501953125, 0.0057373046875, 0.0111083984375, 0.0113525390625, 0.006500244140625, -0.000396728515625, -0.00579833984375, -0.00787353515625, -0.0067138671875, -0.0037841796875, -0.000701904296875, 0.00128173828125, 0.001556396484375, 0.0009765625, 0.000732421875, 0.001251220703125, 0.00164794921875, 0.000946044921875, -0.00067138671875, -0.00238037109375, -0.003997802734375, -0.005523681640625, -0.005889892578125, -0.003326416015625, 0.002197265625, 0.007354736328125, 0.0087890625, 0.0067138671875, 0.00469970703125, 0.00408935546875, 0.00128173828125, -0.008026123046875, -0.02154541015625, -0.029693603515625, -0.0247802734375, -0.009246826171875, 0.006500244140625, 0.015289306640625, 0.0189208984375, 0.02252197265625, 0.025390625, 0.02099609375, 0.00689697265625, -0.00933837890625, -0.016571044921875, -0.0113525390625, -0.0006103515625, 0.00726318359375, 0.0103759765625, 0.01171875, 0.011932373046875, 0.008270263671875, 0.0003662109375, -0.006591796875, -0.00689697265625, -0.001678466796875, 0.001617431640625, -0.001922607421875, -0.0086669921875, -0.011016845703125, -0.00616455078125, 0.001678466796875, 0.00653076171875, 0.006866455078125, 0.00457763671875, 0.00103759765625, -0.003753662109375, -0.008087158203125, -0.007781982421875, -0.0009765625, 0.00860595703125, 0.013916015625, 0.011993408203125, 0.005645751953125, -0.00115966796875, -0.0079345703125, -0.01544189453125, -0.020751953125, -0.01812744140625, -0.006805419921875, 0.00543212890625, 0.008941650390625, 0.003082275390625, -0.003204345703125, -0.0025634765625, 0.0020751953125, 0.002410888671875, -0.003753662109375, -0.010345458984375, -0.0120849609375, -0.0107421875, -0.01007080078125, -0.007415771484375, 0.00311279296875, 0.019866943359375, 0.0303955078125, 0.023773193359375, 0.004119873046875, -0.011962890625, -0.01165771484375, 0.002044677734375, 0.014923095703125, 0.0164794921875, 0.008148193359375, -0.0009765625, -0.004150390625, -0.001495361328125, 0.0030517578125, 0.006988525390625, 0.00958251953125, 0.009307861328125, 0.004119873046875, -0.004486083984375, -0.0101318359375, -0.007049560546875, 0.002532958984375, 0.009246826171875, 0.0062255859375, -0.003631591796875, -0.011260986328125, -0.010589599609375, -0.003875732421875, 0.002166748046875, 0.003387451171875, 0.000335693359375, -0.00372314453125, -0.00616455078125, -0.006134033203125, -0.00408935546875, -0.00115966796875, 0.0008544921875, 0.000335693359375, -0.002685546875, -0.0059814453125, -0.005889892578125, -0.000732421875, 0.0072021484375, 0.012969970703125, 0.012969970703125, 0.0078125, 0.000946044921875, -0.00390625, -0.005035400390625, -0.003448486328125, -0.0013427734375, -0.00048828125, -0.00091552734375, -0.001556396484375, -0.0018310546875, -0.001556396484375, -0.0001220703125, 0.00262451171875, 0.0047607421875, 0.002593994140625, -0.00445556640625, -0.01202392578125, -0.01434326171875, -0.01043701171875, -0.004913330078125, -0.002044677734375, -0.001220703125, 0.0006103515625, 0.004241943359375, 0.007049560546875, 0.006744384765625, 0.00445556640625, 0.00311279296875, 0.003814697265625, 0.0048828125, 0.004180908203125, 0.002105712890625, 0.0010986328125, 0.002044677734375, 0.00262451171875, 0.00048828125, -0.002960205078125, -0.003936767578125, -0.00140380859375, 0.0010986328125, 0.000335693359375, -0.00225830078125, -0.003265380859375, -0.00238037109375, -0.00213623046875, -0.003204345703125, -0.003692626953125, -0.002685546875, -0.00244140625, -0.004241943359375, -0.0057373046875, -0.004730224609375, -0.002227783203125, -0.000701904296875, 0.000244140625, 0.002166748046875, 0.003936767578125, 0.002777099609375, -0.00091552734375, -0.0032958984375, -0.00238037109375, 6.103515625e-05, 0.00213623046875, 0.004241943359375, 0.006072998046875, 0.004913330078125, -0.000457763671875, -0.006317138671875, -0.008148193359375, -0.006805419921875, -0.00634765625, -0.00701904296875, -0.004974365234375, 0.000823974609375, 0.0057373046875, 0.00567626953125, 0.002777099609375, 0.001983642578125, 0.004241943359375, 0.006439208984375, 0.006500244140625, 0.0054931640625, 0.004913330078125, 0.004913330078125, 0.005767822265625, 0.00830078125, 0.01177978515625, 0.014007568359375, 0.013458251953125, 0.010650634765625, 0.007049560546875, 0.003692626953125, 0.0015869140625, 0.001739501953125, 0.003631591796875, 0.00482177734375, 0.003570556640625, 0.000640869140625, -0.001922607421875, -0.003021240234375, -0.002685546875, -0.001312255859375, 0.0003662109375, 0.000701904296875, -0.001007080078125, -0.0035400390625, -0.004608154296875, -0.00384521484375, -0.002716064453125, -0.0023193359375, -0.002166748046875, -0.001708984375, -0.001373291015625, -0.001495361328125, -0.001739501953125, -0.00189208984375, -0.002227783203125, -0.002899169921875, -0.003387451171875, -0.003204345703125, -0.002685546875, -0.00244140625, -0.002410888671875, -0.00225830078125, -0.00189208984375, -0.0013427734375, -0.00018310546875, 0.00189208984375, 0.0040283203125, 0.0052490234375, 0.005401611328125, 0.004913330078125, 0.004119873046875, 0.0032958984375, 0.00286865234375, 0.003204345703125, 0.003814697265625, 0.00408935546875, 0.003936767578125, 0.003662109375, 0.003448486328125, 0.003265380859375, 0.0035400390625, 0.004150390625, 0.00384521484375, 0.001708984375, -0.001190185546875, -0.0025634765625, -0.0018310546875, -0.000762939453125, -0.001007080078125, -0.002166748046875, -0.0029296875, -0.002838134765625, -0.002197265625, -0.001373291015625, -0.0006103515625, -0.0003662109375, -0.00048828125, -0.000518798828125, -0.000579833984375, -0.001495361328125, -0.002685546875, -0.002166748046875, 0.000640869140625, 0.0032958984375, 0.003173828125, 0.0013427734375, 0.00079345703125, 0.00201416015625, 0.00274658203125, 0.002105712890625, 0.001983642578125, 0.00323486328125, 0.00396728515625, 0.002655029296875, 0.0009765625, 0.00091552734375, 0.00177001953125, 0.00146484375, 0.000213623046875, -0.000244140625, 0.0003662109375, 0.000823974609375, 0.0008544921875, 0.001190185546875, 0.000946044921875, -0.0009765625, -0.003387451171875, -0.00360107421875, -0.001556396484375, -0.000457763671875, -0.002105712890625, -0.00439453125, -0.00518798828125, -0.00506591796875, -0.004974365234375, -0.004608154296875, -0.00445556640625, -0.00732421875, -0.01300048828125, -0.01580810546875, -0.01171875, -0.00616455078125, -0.008819580078125, -0.020111083984375, -0.029510498046875, -0.029083251953125, -0.022979736328125, -0.019775390625, -0.02117919921875, -0.02325439453125, -0.024932861328125, -0.028076171875, -0.030609130859375, -0.02734375, -0.018310546875, -0.010589599609375, -0.009033203125, -0.010284423828125, -0.009185791015625, -0.0062255859375, -0.004425048828125, -0.0020751953125, 0.00543212890625, 0.017059326171875, 0.025146484375, 0.0240478515625, 0.017181396484375, 0.01287841796875, 0.01580810546875, 0.0238037109375, 0.031341552734375, 0.034637451171875, 0.03338623046875, 0.029510498046875, 0.02490234375, 0.020599365234375, 0.017730712890625, 0.01776123046875, 0.01983642578125, 0.019500732421875, 0.0125732421875, 0.00128173828125, -0.00677490234375, -0.00677490234375, -0.00177001953125, 0.00152587890625, 0.0, -0.004486083984375, -0.009063720703125, -0.012237548828125, -0.012969970703125, -0.010894775390625, -0.0069580078125, -0.00360107421875, -0.0023193359375, -0.00311279296875, -0.004852294921875, -0.00543212890625, -0.0020751953125, 0.005462646484375, 0.013153076171875, 0.015777587890625, 0.01275634765625, 0.008941650390625, 0.008636474609375, 0.011627197265625, 0.0147705078125, 0.016082763671875, 0.0152587890625, 0.012725830078125, 0.010223388671875, 0.0101318359375, 0.01263427734375, 0.014801025390625, 0.014129638671875, 0.011993408203125, 0.011383056640625, 0.012603759765625, 0.01348876953125, 0.012847900390625, 0.01129150390625, 0.009765625, 0.009063720703125, 0.009765625, 0.01092529296875, 0.010345458984375, 0.007568359375, 0.005859375, 0.0072021484375, 0.007781982421875, 0.002899169921875, -0.00439453125, -0.0067138671875, -0.004241943359375, -0.006744384765625, -0.019989013671875, -0.03631591796875, -0.0450439453125, -0.046051025390625, -0.046295166015625, -0.047088623046875, -0.044830322265625, -0.041778564453125, -0.045745849609375, -0.056793212890625, -0.06378173828125, -0.059326171875, -0.050537109375, -0.047576904296875, -0.048370361328125, -0.042388916015625, -0.027069091796875, -0.01165771484375, -0.00457763671875, -0.003875732421875, -0.001861572265625, 0.0062255859375, 0.019622802734375, 0.033599853515625, 0.042083740234375, 0.042266845703125, 0.03839111328125, 0.038299560546875, 0.044403076171875, 0.051055908203125, 0.05206298828125, 0.04754638671875, 0.040802001953125, 0.032745361328125, 0.022918701171875, 0.013275146484375, 0.00677490234375, 0.003173828125, -9.1552734375e-05, -0.004241943359375, -0.008453369140625, -0.01287841796875, -0.0179443359375, -0.022003173828125, -0.02301025390625, -0.022705078125, -0.024566650390625, -0.028045654296875, -0.0286865234375, -0.02490234375, -0.02044677734375, -0.01824951171875, -0.016265869140625, -0.012451171875, -0.009063720703125, -0.00885009765625, -0.009063720703125, -0.00469970703125, 0.004058837890625, 0.011871337890625, 0.015228271484375, 0.0155029296875, 0.0150146484375, 0.01495361328125, 0.016265869140625, 0.01934814453125, 0.021820068359375, 0.02032470703125, 0.01593017578125, 0.01385498046875, 0.01605224609375, 0.0179443359375, 0.01544189453125, 0.010894775390625, 0.008209228515625, 0.005889892578125, 3.0517578125e-05, -0.007965087890625, -0.012237548828125, -0.011444091796875, -0.01055908203125, -0.012847900390625, -0.015411376953125, -0.015106201171875, -0.013885498046875, -0.0146484375, -0.0155029296875, -0.0126953125, -0.006439208984375, -0.000823974609375, 0.00225830078125, 0.004638671875, 0.00848388671875, 0.014373779296875, 0.0223388671875, 0.0313720703125, 0.037872314453125, 0.0390625, 0.036865234375, 0.03662109375, 0.03961181640625, 0.0421142578125, 0.041778564453125, 0.040313720703125, 0.038665771484375, 0.0340576171875, 0.025054931640625, 0.016021728515625, 0.011322021484375, 0.00823974609375, -0.0001220703125, -0.015838623046875, -0.034576416015625, -0.052490234375, -0.0693359375, -0.084136962890625, -0.0933837890625, -0.095062255859375, -0.09185791015625, -0.087860107421875, -0.085052490234375, -0.08392333984375, -0.08404541015625, -0.082275390625, -0.074432373046875, -0.061004638671875, -0.047882080078125, -0.038238525390625, -0.02740478515625, -0.009674072265625, 0.012542724609375, 0.03131103515625, 0.043212890625, 0.051055908203125, 0.057403564453125, 0.0615234375, 0.06353759765625, 0.065277099609375, 0.06634521484375, 0.06378173828125, 0.057952880859375, 0.0537109375, 0.0528564453125, 0.0506591796875, 0.042510986328125, 0.030548095703125, 0.01904296875, 0.007568359375, -0.00640869140625, -0.02093505859375, -0.030792236328125, -0.03533935546875, -0.038421630859375, -0.041900634765625, -0.0435791015625, -0.04278564453125, -0.042144775390625, -0.042877197265625, -0.042388916015625, -0.038665771484375, -0.03363037109375, -0.029083251953125, -0.023468017578125, -0.01470947265625, -0.004638671875, 0.003387451171875, 0.00872802734375, 0.01300048828125, 0.016937255859375, 0.020416259765625, 0.023956298828125, 0.0274658203125, 0.0291748046875, 0.02783203125, 0.025482177734375, 0.024749755859375, 0.024688720703125, 0.022125244140625, 0.016571044921875, 0.010986328125, 0.00750732421875, 0.005126953125, 0.001953125, -0.00244140625, -0.006988525390625, -0.009918212890625, -0.0096435546875, -0.006500244140625, -0.003936767578125, -0.0047607421875, -0.00750732421875, -0.008026123046875, -0.0050048828125, -0.000885009765625, 0.00244140625, 0.00543212890625, 0.008270263671875, 0.01043701171875, 0.01275634765625, 0.016876220703125, 0.02099609375, 0.0216064453125, 0.018951416015625, 0.017822265625, 0.020172119140625, 0.022216796875, 0.020477294921875, 0.0177001953125, 0.0174560546875, 0.018646240234375, 0.01885986328125, 0.019622802734375, 0.0220947265625, 0.022247314453125, 0.01641845703125, 0.00872802734375, 0.00616455078125, 0.007720947265625, 0.0072021484375, 0.00445556640625, 0.00457763671875, 0.006011962890625, 0.0008544921875, -0.010162353515625, -0.015625, -0.01153564453125, -0.010772705078125, -0.025634765625, -0.049957275390625, -0.06939697265625, -0.081390380859375, -0.09259033203125, -0.10040283203125, -0.09393310546875, -0.0733642578125, -0.053924560546875, -0.047027587890625, -0.048126220703125, -0.048004150390625, -0.04498291015625, -0.040069580078125, -0.0301513671875, -0.01507568359375, -0.00238037109375, 0.004364013671875, 0.01458740234375, 0.037689208984375, 0.064544677734375, 0.0753173828125, 0.064605712890625, 0.047454833984375, 0.03912353515625, 0.03900146484375, 0.037933349609375, 0.03179931640625, 0.023193359375, 0.015289306640625, 0.009765625, 0.007293701171875, 0.0050048828125, -0.001983642578125, -0.013824462890625, -0.024261474609375, -0.02880859375, -0.030792236328125, -0.03472900390625, -0.038665771484375, -0.037567138671875, -0.0313720703125, -0.02423095703125, -0.017791748046875, -0.010986328125, -0.004791259765625, -0.001068115234375, 0.00244140625, 0.01025390625, 0.021240234375, 0.0291748046875, 0.032135009765625, 0.0352783203125, 0.0419921875, 0.04827880859375, 0.04888916015625, 0.04486083984375, 0.040985107421875, 0.038116455078125, 0.0328369140625, 0.023712158203125, 0.013519287109375, 0.005401611328125, -0.000274658203125, -0.004974365234375, -0.01043701171875, -0.017486572265625, -0.02532958984375, -0.0321044921875, -0.037384033203125, -0.0419921875, -0.044952392578125, -0.042724609375, -0.033905029296875, -0.02294921875, -0.01580810546875, -0.0125732421875, -0.00927734375, -0.004180908203125, 0.000152587890625, 0.002593994140625, 0.005828857421875, 0.011871337890625, 0.018707275390625, 0.023773193359375, 0.02740478515625, 0.0308837890625, 0.033203125, 0.03289794921875, 0.031158447265625, 0.0301513671875, 0.029510498046875, 0.027252197265625, 0.0234375, 0.02008056640625, 0.01763916015625, 0.0146484375, 0.011199951171875, 0.009307861328125, 0.009490966796875, 0.009429931640625, 0.007293701171875, 0.0048828125, 0.004852294921875, 0.0064697265625, 0.006317138671875, 0.003753662109375, 0.0023193359375, 0.004852294921875, 0.00897216796875, 0.010162353515625, 0.008331298828125, 0.007904052734375, 0.00946044921875, 0.005645751953125, -0.01080322265625, -0.03619384765625, -0.058319091796875, -0.070526123046875, -0.07855224609375, -0.089935302734375, -0.1014404296875, -0.102783203125, -0.090576171875, -0.072998046875, -0.060211181640625, -0.054962158203125, -0.05377197265625, -0.05242919921875, -0.0477294921875, -0.03802490234375, -0.025604248046875, -0.01422119140625, -0.0035400390625, 0.011932373046875, 0.034088134765625, 0.055633544921875, 0.066741943359375, 0.066741943359375, 0.063201904296875, 0.060760498046875, 0.056732177734375, 0.04864501953125, 0.039520263671875, 0.033721923828125, 0.031585693359375, 0.030792236328125, 0.029510498046875, 0.02593994140625, 0.017303466796875, 0.00323486328125, -0.011962890625, -0.023712158203125, -0.03240966796875, -0.04095458984375, -0.048675537109375, -0.051483154296875, -0.04754638671875, -0.039520263671875, -0.030853271484375, -0.022857666015625, -0.016265869140625, -0.011444091796875, -0.006805419921875, 0.000213623046875, 0.00921630859375, 0.01690673828125, 0.02227783203125, 0.02886962890625, 0.03924560546875, 0.050323486328125, 0.056884765625, 0.0574951171875, 0.054443359375, 0.048736572265625, 0.03955078125, 0.0279541015625, 0.01727294921875, 0.009307861328125, 0.00311279296875, -0.002410888671875, -0.007110595703125, -0.012451171875, -0.021209716796875, -0.03326416015625, -0.0439453125, -0.049224853515625, -0.0509033203125, -0.052520751953125, -0.052947998046875, -0.0474853515625, -0.03533935546875, -0.021484375, -0.01104736328125, -0.003875732421875, 0.002593994140625, 0.00872802734375, 0.01348876953125, 0.01702880859375, 0.020477294921875, 0.0242919921875, 0.028289794921875, 0.032989501953125, 0.0384521484375, 0.04241943359375, 0.042755126953125, 0.040802001953125, 0.040191650390625, 0.041412353515625, 0.04052734375, 0.03521728515625, 0.02886962890625, 0.02655029296875, 0.028289794921875, 0.0301513671875, 0.029937744140625, 0.029022216796875, 0.028839111328125, 0.028778076171875, 0.0279541015625, 0.02642822265625, 0.023712158203125, 0.019012451171875, 0.0140380859375, 0.012359619140625, 0.014129638671875, 0.01470947265625, 0.011138916015625, 0.006866455078125, 0.005279541015625, 0.001373291015625, -0.01348876953125, -0.03936767578125, -0.06610107421875, -0.08636474609375, -0.10345458984375, -0.1219482421875, -0.13665771484375, -0.137054443359375, -0.120941162109375, -0.09722900390625, -0.0755615234375, -0.05902099609375, -0.046966552734375, -0.038665771484375, -0.0323486328125, -0.025177001953125, -0.017364501953125, -0.011444091796875, -0.0054931640625, 0.007965087890625, 0.0321044921875, 0.05853271484375, 0.07672119140625, 0.086669921875, 0.095245361328125, 0.101837158203125, 0.09686279296875, 0.076629638671875, 0.0511474609375, 0.03271484375, 0.022369384765625, 0.013458251953125, 0.00433349609375, -0.000762939453125, -0.000701904296875, -0.0009765625, -0.0064697265625, -0.01617431640625, -0.027069091796875, -0.038299560546875, -0.049072265625, -0.05621337890625, -0.057037353515625, -0.0523681640625, -0.044464111328125, -0.033172607421875, -0.018096923828125, -0.001953125, 0.0113525390625, 0.02117919921875, 0.0294189453125, 0.03570556640625, 0.037933349609375, 0.03680419921875, 0.03643798828125, 0.039520263671875, 0.0439453125, 0.04681396484375, 0.04803466796875, 0.0482177734375, 0.045654296875, 0.038604736328125, 0.028533935546875, 0.018218994140625, 0.007049560546875, -0.007598876953125, -0.02490234375, -0.0396728515625, -0.048065185546875, -0.05133056640625, -0.052459716796875, -0.05194091796875, -0.049102783203125, -0.044921875, -0.040985107421875, -0.036712646484375, -0.030487060546875, -0.022613525390625, -0.014739990234375, -0.006805419921875, 0.0028076171875, 0.01361083984375, 0.02252197265625, 0.028594970703125, 0.034088134765625, 0.04046630859375, 0.04522705078125, 0.045074462890625, 0.040985107421875, 0.037078857421875, 0.035369873046875, 0.033782958984375, 0.029205322265625, 0.02105712890625, 0.01214599609375, 0.007171630859375, 0.008819580078125, 0.014434814453125, 0.01690673828125, 0.012725830078125, 0.007080078125, 0.0076904296875, 0.014739990234375, 0.0208740234375, 0.021453857421875, 0.01959228515625, 0.01934814453125, 0.01953125, 0.0185546875, 0.01953125, 0.024993896484375, 0.030303955078125, 0.029296875, 0.02410888671875, 0.021575927734375, 0.0203857421875, 0.010894775390625, -0.0101318359375, -0.032623291015625, -0.047027587890625, -0.057891845703125, -0.07568359375, -0.09967041015625, -0.1175537109375, -0.121002197265625, -0.113800048828125, -0.1031494140625, -0.0911865234375, -0.07659912109375, -0.060455322265625, -0.04498291015625, -0.030670166015625, -0.01788330078125, -0.00811767578125, -0.001129150390625, 0.006744384765625, 0.01800537109375, 0.031036376953125, 0.043609619140625, 0.05755615234375, 0.075408935546875, 0.09381103515625, 0.105377197265625, 0.1060791015625, 0.097747802734375, 0.083587646484375, 0.065155029296875, 0.04449462890625, 0.025421142578125, 0.010223388671875, -0.001922607421875, -0.01177978515625, -0.018218994140625, -0.020904541015625, -0.0223388671875, -0.02545166015625, -0.031097412109375, -0.038909912109375, -0.04815673828125, -0.056488037109375, -0.05987548828125, -0.056549072265625, -0.048980712890625, -0.03948974609375, -0.02728271484375, -0.01153564453125, 0.004058837890625, 0.01544189453125, 0.02386474609375, 0.034027099609375, 0.04571533203125, 0.053619384765625, 0.055267333984375, 0.054443359375, 0.054656982421875, 0.0540771484375, 0.049468994140625, 0.041778564453125, 0.0341796875, 0.02691650390625, 0.018280029296875, 0.009033203125, 0.0018310546875, -0.0037841796875, -0.011627197265625, -0.023284912109375, -0.036041259765625, -0.046417236328125, -0.05401611328125, -0.0594482421875, -0.0623779296875, -0.062255859375, -0.05902099609375, -0.051788330078125, -0.038604736328125, -0.020233154296875, -0.00213623046875, 0.010009765625, 0.016326904296875, 0.0213623046875, 0.027984619140625, 0.034027099609375, 0.036529541015625, 0.035980224609375, 0.03533935546875, 0.036712646484375, 0.03973388671875, 0.042938232421875, 0.045166015625, 0.045654296875, 0.0443115234375, 0.04095458984375, 0.03521728515625, 0.0269775390625, 0.0177001953125, 0.01043701171875, 0.00726318359375, 0.0079345703125, 0.010162353515625, 0.011932373046875, 0.01275634765625, 0.012969970703125, 0.013214111328125, 0.0135498046875, 0.013397216796875, 0.011749267578125, 0.0086669921875, 0.005889892578125, 0.00518798828125, 0.006011962890625, 0.006744384765625, 0.007354736328125, 0.00909423828125, 0.010589599609375, 0.005828857421875, -0.01031494140625, -0.035308837890625, -0.0604248046875, -0.079437255859375, -0.09375, -0.1072998046875, -0.118316650390625, -0.120758056640625, -0.1121826171875, -0.0977783203125, -0.084136962890625, -0.07208251953125, -0.058197021484375, -0.041351318359375, -0.02435302734375, -0.00982666015625, 0.00262451171875, 0.014251708984375, 0.02496337890625, 0.033843994140625, 0.04095458984375, 0.04620361328125, 0.049285888671875, 0.05145263671875, 0.055694580078125, 0.0628662109375, 0.06890869140625, 0.068878173828125, 0.063690185546875, 0.059417724609375, 0.058685302734375, 0.056243896484375, 0.045318603515625, 0.02618408203125, 0.005950927734375, -0.009368896484375, -0.0194091796875, -0.027099609375, -0.03369140625, -0.0382080078125, -0.0394287109375, -0.036956787109375, -0.031768798828125, -0.025390625, -0.0198974609375, -0.01593017578125, -0.012420654296875, -0.00836181640625, -0.004425048828125, -0.001678466796875, 0.00042724609375, 0.003997802734375, 0.00970458984375, 0.015899658203125, 0.020782470703125, 0.02459716796875, 0.028350830078125, 0.032012939453125, 0.034332275390625, 0.03485107421875, 0.034027099609375, 0.032196044921875, 0.02850341796875, 0.022247314453125, 0.01416015625, 0.00634765625, 0.000335693359375, -0.0040283203125, -0.00799560546875, -0.01251220703125, -0.016998291015625, -0.020263671875, -0.022064208984375, -0.023468017578125, -0.024993896484375, -0.025665283203125, -0.0242919921875, -0.02178955078125, -0.020294189453125, -0.0203857421875, -0.019775390625, -0.0157470703125, -0.00872802734375, -0.00225830078125, 0.001220703125, 0.00311279296875, 0.0069580078125, 0.014312744140625, 0.02239990234375, 0.027313232421875, 0.02764892578125, 0.026031494140625, 0.025848388671875, 0.02752685546875, 0.028350830078125, 0.02606201171875, 0.022064208984375, 0.019134521484375, 0.01873779296875, 0.019561767578125, 0.019927978515625, 0.019439697265625, 0.018310546875, 0.0164794921875, 0.013946533203125, 0.01104736328125, 0.007843017578125, 0.004364013671875, 0.001495361328125, 0.00030517578125, 0.000762939453125, 0.00128173828125, 0.00103759765625, 0.00091552734375, 0.001190185546875, 0.00048828125, -0.001556396484375, -0.00274658203125, -0.001190185546875, 3.0517578125e-05, -0.00421142578125, -0.014434814453125, -0.02532958984375, -0.03350830078125, -0.04119873046875, -0.051300048828125, -0.061065673828125, -0.065765380859375, -0.06573486328125, -0.06475830078125, -0.063018798828125, -0.05657958984375, -0.044677734375, -0.032562255859375, -0.02423095703125, -0.017303466796875, -0.008056640625, 0.00189208984375, 0.00799560546875, 0.00958251953125, 0.01007080078125, 0.0108642578125, 0.01068115234375, 0.009918212890625, 0.011688232421875, 0.0169677734375, 0.022613525390625, 0.026397705078125, 0.030242919921875, 0.0360107421875, 0.041046142578125, 0.04144287109375, 0.037841796875, 0.034515380859375, 0.032867431640625, 0.030487060546875, 0.025543212890625, 0.0196533203125, 0.014373779296875, 0.0091552734375, 0.003387451171875, -0.001251220703125, -0.002960205078125, -0.002471923828125, -0.001739501953125, -0.001312255859375, -0.000579833984375, 6.103515625e-05, -0.000335693359375, -0.00164794921875, -0.002349853515625, -0.002197265625, -0.002288818359375, -0.003204345703125, -0.00421142578125, -0.0045166015625, -0.004180908203125, -0.003143310546875, -0.00091552734375, 0.002044677734375, 0.003875732421875, 0.00347900390625, 0.00201416015625, 0.001556396484375, 0.0023193359375, 0.00262451171875, 0.001190185546875, -0.001678466796875, -0.00482177734375, -0.007171630859375, -0.008453369140625, -0.009674072265625, -0.011962890625, -0.01513671875, -0.017242431640625, -0.01641845703125, -0.013519287109375, -0.01068115234375, -0.008941650390625, -0.006988525390625, -0.004119873046875, -0.001068115234375, 0.0010986328125, 0.002655029296875, 0.004180908203125, 0.005126953125, 0.004791259765625, 0.003875732421875, 0.00360107421875, 0.003936767578125, 0.003662109375, 0.002593994140625, 0.00189208984375, 0.0023193359375, 0.003173828125, 0.003662109375, 0.00408935546875, 0.0050048828125, 0.005828857421875, 0.005523681640625, 0.00421142578125, 0.002960205078125, 0.00201416015625, 0.00048828125, -0.001617431640625, -0.003021240234375, -0.002471923828125, -0.0006103515625, 0.000946044921875, 0.0013427734375, 0.00128173828125, 0.001617431640625, 0.00262451171875, 0.003570556640625, 0.003997802734375, 0.00390625, 0.00341796875, 0.0030517578125, 0.003387451171875, 0.004638671875, 0.006011962890625, 0.00616455078125, 0.00421142578125, 0.0003662109375, -0.00408935546875, -0.008209228515625, -0.011810302734375, -0.015350341796875, -0.019073486328125, -0.02252197265625, -0.02484130859375, -0.025054931640625, -0.022857666015625, -0.019317626953125, -0.0167236328125, -0.0167236328125, -0.01849365234375, -0.019439697265625, -0.018096923828125, -0.015899658203125, -0.015411376953125, -0.017242431640625, -0.019317626953125, -0.019622802734375, -0.0184326171875, -0.017059326171875, -0.015289306640625, -0.011627197265625, -0.005950927734375, -0.000396728515625, 0.002685546875, 0.00372314453125, 0.00457763671875, 0.006439208984375, 0.008636474609375, 0.009918212890625, 0.0101318359375, 0.010162353515625, 0.01104736328125, 0.013519287109375, 0.016998291015625, 0.019287109375, 0.018402099609375, 0.015380859375, 0.014129638671875, 0.016937255859375, 0.021514892578125, 0.023223876953125, 0.02069091796875, 0.016876220703125, 0.015228271484375, 0.015625, 0.015777587890625, 0.01434326171875, 0.01177978515625, 0.0089111328125, 0.006256103515625, 0.0040283203125, 0.002197265625, 0.000152587890625, -0.00189208984375, -0.002593994140625, -0.00103759765625, 0.001220703125, 0.00152587890625, -0.000274658203125, -0.001708984375, -0.001220703125, 0.000244140625, 0.001434326171875, 0.002593994140625, 0.0037841796875, 0.00323486328125, 0.0, -0.00347900390625, -0.003875732421875, -0.001800537109375, -0.0006103515625, -0.00146484375, -0.002288818359375, -0.0025634765625, -0.00457763671875, -0.008941650390625, -0.011505126953125, -0.009063720703125, -0.0047607421875, -0.004608154296875, -0.0091552734375, -0.01287841796875, -0.012054443359375, -0.009246826171875, -0.008514404296875, -0.0098876953125, -0.010589599609375, -0.0098876953125, -0.00927734375, -0.008819580078125, -0.00701904296875, -0.00347900390625, 6.103515625e-05, 0.002197265625, 0.003326416015625, 0.004241943359375, 0.00531005859375, 0.006988525390625, 0.00982666015625, 0.012908935546875, 0.013916015625, 0.0120849609375, 0.00970458984375, 0.00946044921875, 0.01104736328125, 0.011810302734375, 0.010650634765625, 0.00927734375, 0.009490966796875, 0.01092529296875, 0.011505126953125, 0.010589599609375, 0.00927734375, 0.009124755859375, 0.009796142578125, 0.009674072265625, 0.00750732421875, 0.0042724609375, 0.00244140625, 0.002899169921875, 0.00341796875, 0.001129150390625, -0.003570556640625, -0.00732421875, -0.007843017578125, -0.00714111328125, -0.008636474609375, -0.01275634765625, -0.016448974609375, -0.01708984375, -0.0157470703125, -0.015411376953125, -0.017181396484375, -0.01904296875, -0.018829345703125, -0.016876220703125, -0.015716552734375, -0.016845703125, -0.018402099609375, -0.017333984375, -0.013275146484375, -0.00958251953125, -0.00933837890625, -0.01116943359375, -0.01080322265625, -0.006683349609375, -0.002471923828125, -0.00225830078125, -0.004730224609375, -0.0050048828125, -0.0009765625, 0.00372314453125, 0.00457763671875, 0.00213623046875, 0.000823974609375, 0.0029296875, 0.006439208984375, 0.00799560546875, 0.007110595703125, 0.00567626953125, 0.005462646484375, 0.0067138671875, 0.008758544921875, 0.01080322265625, 0.011993408203125, 0.0123291015625, 0.012725830078125, 0.013824462890625, 0.01495361328125, 0.014862060546875, 0.013580322265625, 0.012115478515625, 0.01104736328125, 0.009765625, 0.008148193359375, 0.007171630859375, 0.007415771484375, 0.00787353515625, 0.0074462890625, 0.006622314453125, 0.00634765625, 0.006500244140625, 0.006256103515625, 0.005462646484375, 0.005035400390625, 0.00531005859375, 0.005584716796875, 0.00531005859375, 0.004364013671875, 0.00250244140625, -0.00030517578125, -0.002777099609375, -0.00311279296875, -0.00164794921875, -0.001190185546875, -0.003173828125, -0.005706787109375, -0.005889892578125, -0.0040283203125, -0.0030517578125, -0.00421142578125, -0.00579833984375, -0.005859375, -0.004791259765625, -0.0040283203125, -0.004180908203125, -0.0047607421875, -0.005279541015625, -0.00506591796875, -0.003753662109375, -0.00213623046875, -0.001678466796875, -0.00238037109375, -0.001861572265625, 0.00146484375, 0.00531005859375, 0.006103515625, 0.004119873046875, 0.00299072265625, 0.0045166015625, 0.00616455078125, 0.0047607421875, 0.001617431640625, 0.0003662109375, 0.00201416015625, 0.003875732421875, 0.003692626953125, 0.0020751953125, 0.0008544921875, 0.000701904296875, 0.000885009765625, 0.0009765625, 0.0009765625, 0.001068115234375, 0.00146484375, 0.00201416015625, 0.0023193359375, 0.0013427734375, -0.00091552734375, -0.002899169921875, -0.003204345703125, -0.002349853515625, -0.0023193359375, -0.00390625, -0.00579833984375, -0.006256103515625, -0.005035400390625, -0.00372314453125, -0.00335693359375, -0.003753662109375, -0.004058837890625, -0.00384521484375, -0.0035400390625, -0.003570556640625, -0.00396728515625, -0.004302978515625, -0.00457763671875, -0.004791259765625, -0.00494384765625, -0.00457763671875, -0.003814697265625, -0.00360107421875, -0.00482177734375, -0.0067138671875, -0.007476806640625, -0.00616455078125, -0.00433349609375, -0.004180908203125, -0.005706787109375, -0.006439208984375, -0.004486083984375, -0.001007080078125, 0.000823974609375, -0.0001220703125, -0.0013427734375, 0.000152587890625, 0.003631591796875, 0.005889892578125, 0.0054931640625, 0.005035400390625, 0.00762939453125, 0.012115478515625, 0.014312744140625, 0.012664794921875, 0.010498046875, 0.01165771484375, 0.014892578125, 0.016082763671875, 0.013824462890625, 0.011260986328125, 0.011138916015625, 0.011871337890625, 0.010223388671875, 0.006439208984375, 0.004119873046875, 0.00518798828125, 0.0069580078125, 0.00592041015625, 0.002044677734375, -0.000946044921875, -0.00048828125, 0.0020751953125, 0.00311279296875, 0.001251220703125, -0.001220703125, -0.00103759765625, 0.001739501953125, 0.003631591796875, 0.002166748046875, -0.0010986328125, -0.002471923828125, -0.001312255859375, -0.000457763671875, -0.002105712890625, -0.00445556640625, -0.0042724609375, -0.001800537109375, -0.00042724609375, -0.001953125, -0.004180908203125, -0.003997802734375, -0.00146484375, 0.000732421875, 0.00079345703125, -0.000640869140625, -0.00164794921875, -0.0013427734375, -0.000152587890625, 0.00103759765625, 0.001708984375, 0.002288818359375, 0.00347900390625, 0.0047607421875, 0.004730224609375, 0.00244140625, -3.0517578125e-05, 0.0001220703125, 0.002838134765625, 0.004608154296875, 0.002166748046875, -0.003143310546875, -0.00677490234375, -0.006072998046875, -0.003021240234375, -0.0018310546875, -0.0040283203125, -0.00750732421875, -0.009033203125, -0.00787353515625, -0.0059814453125, -0.006103515625, -0.00860595703125, -0.011474609375, -0.012786865234375, -0.0126953125, -0.012725830078125, -0.0135498046875, -0.01409912109375, -0.01312255859375, -0.01104736328125, -0.00958251953125, -0.009552001953125, -0.010009765625, -0.0093994140625, -0.0074462890625, -0.005462646484375, -0.004791259765625, -0.00518798828125, -0.004852294921875, -0.002410888671875, 0.001434326171875, 0.004058837890625, 0.003997802734375, 0.00244140625, 0.002349853515625, 0.004730224609375, 0.007476806640625, 0.00811767578125, 0.00677490234375, 0.0057373046875, 0.006744384765625, 0.00897216796875, 0.010589599609375, 0.010772705078125, 0.01031494140625, 0.01007080078125, 0.01043701171875, 0.0111083984375, 0.011505126953125, 0.011199951171875, 0.010223388671875, 0.00933837890625, 0.009246826171875, 0.009735107421875, 0.009857177734375, 0.009124755859375, 0.007843017578125, 0.0064697265625, 0.005401611328125, 0.004791259765625, 0.00482177734375, 0.0052490234375, 0.005279541015625, 0.004425048828125, 0.003082275390625, 0.00177001953125, 0.000701904296875, -0.000152587890625, -0.000518798828125, -0.000457763671875, -0.0009765625, -0.002960205078125, -0.005462646484375, -0.006439208984375, -0.00537109375, -0.004180908203125, -0.004547119140625, -0.005462646484375, -0.00482177734375, -0.002410888671875, -0.000396728515625, 0.0, 0.000152587890625, 0.0018310546875, 0.004119873046875, 0.004669189453125, 0.002532958984375, -9.1552734375e-05, -0.00048828125, 0.001556396484375, 0.003509521484375, 0.003082275390625, 0.000762939453125, -0.00091552734375, -0.00079345703125, -3.0517578125e-05, -9.1552734375e-05, -0.000823974609375, -0.00079345703125, 0.0001220703125, 0.000579833984375, -0.000244140625, -0.001251220703125, -0.0010986328125, -6.103515625e-05, 0.000579833984375, 0.000457763671875, 0.000335693359375, 0.000457763671875, -6.103515625e-05, -0.001708984375, -0.003448486328125, -0.003814697265625, -0.002655029296875, -0.00152587890625, -0.002166748046875, -0.00433349609375, -0.00628662109375, -0.00628662109375, -0.004638671875, -0.00372314453125, -0.005279541015625, -0.0084228515625, -0.010406494140625, -0.0101318359375, -0.009368896484375, -0.009857177734375, -0.011016845703125, -0.0113525390625, -0.0107421875, -0.0106201171875, -0.01129150390625, -0.011199951171875, -0.00933837890625, -0.006866455078125, -0.005645751953125, -0.00567626953125, -0.005615234375, -0.004547119140625, -0.002716064453125, -0.0008544921875, 0.00042724609375, 0.001007080078125, 0.000946044921875, 0.0013427734375, 0.003265380859375, 0.006378173828125, 0.00885009765625, 0.0093994140625, 0.008544921875, 0.00830078125, 0.009674072265625, 0.012115478515625, 0.014068603515625, 0.014495849609375, 0.0135498046875, 0.0123291015625, 0.011810302734375, 0.012054443359375, 0.012115478515625, 0.0113525390625, 0.010223388671875, 0.00921630859375, 0.008148193359375, 0.00677490234375, 0.005767822265625, 0.005859375, 0.006317138671875, 0.00555419921875, 0.003265380859375, 0.001373291015625, 0.001708984375, 0.003509521484375, 0.004364013671875, 0.003570556640625, 0.002532958984375, 0.00244140625, 0.002410888671875, 0.001495361328125, 0.000213623046875, -0.0001220703125, 0.00018310546875, -0.000335693359375, -0.001617431640625, -0.002197265625, -0.001251220703125, -0.0003662109375, -0.001007080078125, -0.00244140625, -0.002685546875, -0.001434326171875, -0.00030517578125, -0.00042724609375, -0.000946044921875, -0.000335693359375, 0.00140380859375, 0.00299072265625, 0.003662109375, 0.003631591796875, 0.00360107421875, 0.003936767578125, 0.004608154296875, 0.005584716796875, 0.006500244140625, 0.00689697265625, 0.006591796875, 0.0059814453125, 0.005706787109375, 0.006256103515625, 0.00738525390625, 0.00860595703125, 0.009002685546875, 0.00830078125, 0.006500244140625, 0.004180908203125, 0.002410888671875, 0.002227783203125, 0.00341796875, 0.003448486328125, -0.000396728515625, -0.00750732421875, -0.01336669921875, -0.014068603515625, -0.01104736328125, -0.009613037109375, -0.012725830078125, -0.01788330078125, -0.0206298828125, -0.02001953125, -0.018402099609375, -0.017547607421875, -0.016693115234375, -0.014923095703125, -0.0130615234375, -0.012420654296875, -0.012603759765625, -0.01177978515625, -0.0089111328125, -0.005157470703125, -0.00244140625, -0.001373291015625, -0.00091552734375, 0.000244140625, 0.001922607421875, 0.00244140625, 0.001129150390625, -0.000244140625, 0.000732421875, 0.004058837890625, 0.007080078125, 0.007415771484375, 0.005767822265625, 0.00469970703125, 0.005218505859375, 0.005889892578125, 0.00555419921875, 0.004669189453125, 0.004547119140625, 0.00555419921875, 0.0068359375, 0.00738525390625, 0.007171630859375, 0.007049560546875, 0.007904052734375, 0.009735107421875, 0.01129150390625, 0.011260986328125, 0.00994873046875, 0.009307861328125, 0.01019287109375, 0.011474609375, 0.011444091796875, 0.01031494140625, 0.00946044921875, 0.00927734375, 0.008880615234375, 0.00775146484375, 0.0067138671875, 0.00665283203125, 0.006988525390625, 0.00677490234375, 0.005889892578125, 0.005035400390625, 0.0042724609375, 0.00311279296875, 0.001739501953125, 0.001220703125, 0.00189208984375, 0.0025634765625, 0.00177001953125, -9.1552734375e-05, -0.00152587890625, -0.001678466796875, -0.001434326171875, -0.001922607421875, -0.00286865234375, -0.0029296875, -0.00189208984375, -0.00115966796875, -0.00201416015625, -0.00360107421875, -0.003875732421875, -0.0020751953125, 0.0001220703125, 0.0006103515625, -0.000579833984375, -0.0013427734375, -0.00042724609375, 0.00128173828125, 0.002288818359375, 0.002288818359375, 0.0023193359375, 0.00286865234375, 0.003143310546875, 0.002410888671875, 0.00140380859375, 0.00152587890625, 0.002960205078125, 0.00408935546875, 0.003448486328125, 0.00146484375, -6.103515625e-05, 0.000335693359375, 0.002197265625, 0.00360107421875, 0.002685546875, -0.001007080078125, -0.005615234375, -0.0084228515625, -0.0081787109375, -0.00665283203125, -0.007232666015625, -0.011383056640625, -0.0166015625, -0.019439697265625, -0.01904296875, -0.01763916015625, -0.017364501953125, -0.018096923828125, -0.018646240234375, -0.018829345703125, -0.019256591796875, -0.019073486328125, -0.0172119140625, -0.013885498046875, -0.010986328125, -0.009796142578125, -0.00946044921875, -0.008392333984375, -0.006317138671875, -0.004180908203125, -0.002685546875, -0.002227783203125, -0.00225830078125, -0.001739501953125, 0.00079345703125, 0.005584716796875, 0.010498046875, 0.012725830078125, 0.011993408203125, 0.01104736328125, 0.01226806640625, 0.015106201171875, 0.017059326171875, 0.016693115234375, 0.014892578125, 0.013336181640625, 0.012664794921875, 0.012603759765625, 0.012451171875, 0.01171875, 0.010284423828125, 0.00848388671875, 0.00665283203125, 0.0052490234375, 0.004669189453125, 0.004791259765625, 0.00494384765625, 0.004241943359375, 0.00274658203125, 0.001617431640625, 0.001708984375, 0.00238037109375, 0.0023193359375, 0.00152587890625, 0.00091552734375, 0.001068115234375, 0.001312255859375, 0.0009765625, 0.000335693359375, 9.1552734375e-05, 0.000152587890625, -0.00018310546875, -0.0008544921875, -0.001190185546875, -0.000946044921875, -0.000762939453125, -0.000946044921875, -0.0009765625, -0.000579833984375, -9.1552734375e-05, -0.0001220703125, -0.000457763671875, -0.000396728515625, 0.00030517578125, 0.001190185546875, 0.00189208984375, 0.00286865234375, 0.00469970703125, 0.006927490234375, 0.00823974609375, 0.0076904296875, 0.006256103515625, 0.005767822265625, 0.0069580078125, 0.00872802734375, 0.009429931640625, 0.008880615234375, 0.008453369140625, 0.0089111328125, 0.009796142578125, 0.01025390625, 0.01043701171875, 0.010711669921875, 0.010589599609375, 0.009002685546875, 0.005706787109375, 0.0018310546875, -0.00091552734375, -0.0020751953125, -0.002593994140625, -0.004150390625, -0.007720947265625, -0.012451171875, -0.0166015625, -0.018768310546875, -0.019439697265625, -0.0201416015625, -0.021728515625, -0.023681640625, -0.025299072265625, -0.0264892578125, -0.02716064453125, -0.027008056640625, -0.02587890625, -0.024322509765625, -0.022979736328125, -0.021728515625, -0.019683837890625, -0.01629638671875, -0.01220703125, -0.008514404296875, -0.005859375, -0.004119873046875, -0.0023193359375, 0.00067138671875, 0.005218505859375, 0.010040283203125, 0.013458251953125, 0.01495361328125, 0.015716552734375, 0.0172119140625, 0.01953125, 0.021636962890625, 0.022613525390625, 0.022247314453125, 0.02099609375, 0.019683837890625, 0.019317626953125, 0.019927978515625, 0.020111083984375, 0.018524169921875, 0.015655517578125, 0.013427734375, 0.012847900390625, 0.012786865234375, 0.01190185546875, 0.010162353515625, 0.008636474609375, 0.0074462890625, 0.005767822265625, 0.003326416015625, 0.00115966796875, 0.0001220703125, -0.000335693359375, -0.0010986328125, -0.00213623046875, -0.002410888671875, -0.001922607421875, -0.001953125, -0.00341796875, -0.0054931640625, -0.006378173828125, -0.0059814453125, -0.005615234375, -0.0062255859375, -0.006866455078125, -0.006103515625, -0.004119873046875, -0.002410888671875, -0.001861572265625, -0.0015869140625, -0.000640869140625, 0.00048828125, 0.00067138671875, 3.0517578125e-05, -6.103515625e-05, 0.001190185546875, 0.003021240234375, 0.004180908203125, 0.0045166015625, 0.00518798828125, 0.00653076171875, 0.00787353515625, 0.008514404296875, 0.00927734375, 0.01141357421875, 0.0146484375, 0.0167236328125, 0.01611328125, 0.01422119140625, 0.013885498046875, 0.016021728515625, 0.018341064453125, 0.0186767578125, 0.017181396484375, 0.015777587890625, 0.015411376953125, 0.01519775390625, 0.01416015625, 0.012542724609375, 0.010711669921875, 0.008514404296875, 0.005401611328125, 0.001434326171875, -0.00274658203125, -0.006439208984375, -0.009368896484375, -0.011871337890625, -0.0150146484375, -0.01971435546875, -0.025054931640625, -0.028717041015625, -0.0296630859375, -0.0299072265625, -0.032257080078125, -0.036407470703125, -0.03955078125, -0.040069580078125, -0.0391845703125, -0.038543701171875, -0.03753662109375, -0.03466796875, -0.030670166015625, -0.027618408203125, -0.02581787109375, -0.023284912109375, -0.01861572265625, -0.012908935546875, -0.008087158203125, -0.004150390625, 3.0517578125e-05, 0.004913330078125, 0.0096435546875, 0.013671875, 0.017303466796875, 0.020538330078125, 0.0228271484375, 0.023773193359375, 0.024078369140625, 0.02435302734375, 0.02447509765625, 0.0235595703125, 0.021697998046875, 0.019989013671875, 0.01947021484375, 0.019927978515625, 0.02020263671875, 0.01971435546875, 0.018890380859375, 0.0184326171875, 0.017913818359375, 0.01629638671875, 0.012969970703125, 0.008941650390625, 0.00579833984375, 0.0040283203125, 0.0025634765625, 0.00054931640625, -0.001617431640625, -0.0029296875, -0.003387451171875, -0.00384521484375, -0.004852294921875, -0.006011962890625, -0.006500244140625, -0.00628662109375, -0.006134033203125, -0.00653076171875, -0.007720947265625, -0.009613037109375, -0.011871337890625, -0.01348876953125, -0.0135498046875, -0.011871337890625, -0.00958251953125, -0.0079345703125, -0.007171630859375, -0.006317138671875, -0.00457763671875, -0.002349853515625, -0.000640869140625, 3.0517578125e-05, -9.1552734375e-05, -0.000579833984375, -0.000946044921875, -0.000335693359375, 0.002044677734375, 0.005584716796875, 0.008270263671875, 0.009063720703125, 0.009185791015625, 0.01080322265625, 0.0140380859375, 0.01629638671875, 0.015594482421875, 0.013336181640625, 0.012725830078125, 0.014892578125, 0.0179443359375, 0.019500732421875, 0.019195556640625, 0.01837158203125, 0.0177001953125, 0.017364501953125, 0.01776123046875, 0.019287109375, 0.02105712890625, 0.02117919921875, 0.018768310546875, 0.01507568359375, 0.01202392578125, 0.010009765625, 0.008087158203125, 0.004974365234375, 0.0003662109375, -0.005279541015625, -0.01123046875, -0.016876220703125, -0.021575927734375, -0.025299072265625, -0.028289794921875, -0.031463623046875, -0.03521728515625, -0.039215087890625, -0.042205810546875, -0.04339599609375, -0.043212890625, -0.042724609375, -0.0421142578125, -0.040252685546875, -0.0367431640625, -0.032989501953125, -0.030731201171875, -0.029296875, -0.02667236328125, -0.022003173828125, -0.01678466796875, -0.01190185546875, -0.006561279296875, 0.000244140625, 0.00750732421875, 0.0135498046875, 0.018218994140625, 0.022613525390625, 0.026519775390625, 0.0283203125, 0.02740478515625, 0.02545166015625, 0.024261474609375, 0.023834228515625, 0.02349853515625, 0.023529052734375, 0.024688720703125, 0.026092529296875, 0.026031494140625, 0.024322509765625, 0.0223388671875, 0.021026611328125, 0.019744873046875, 0.017303466796875, 0.01361083984375, 0.009857177734375, 0.007232666015625, 0.00634765625, 0.00677490234375, 0.007171630859375, 0.006134033203125, 0.00372314453125, 0.0018310546875, 0.001861572265625, 0.00323486328125, 0.0037841796875, 0.002716064453125, 0.00067138671875, -0.001556396484375, -0.004180908203125, -0.0074462890625, -0.010650634765625, -0.0128173828125, -0.013671875, -0.014129638671875, -0.01458740234375, -0.014678955078125, -0.01373291015625, -0.011810302734375, -0.01007080078125, -0.0098876953125, -0.01165771484375, -0.014129638671875, -0.01556396484375, -0.015228271484375, -0.013946533203125, -0.012664794921875, -0.01129150390625, -0.0093994140625, -0.0069580078125, -0.004852294921875, -0.0035400390625, -0.00286865234375, -0.002227783203125, -0.001312255859375, -0.00018310546875, 0.0013427734375, 0.003173828125, 0.005279541015625, 0.007720947265625, 0.010589599609375, 0.0140380859375, 0.01751708984375, 0.020599365234375, 0.022979736328125, 0.024566650390625, 0.02557373046875, 0.026519775390625, 0.027801513671875, 0.029205322265625, 0.029754638671875, 0.02862548828125, 0.025970458984375, 0.022674560546875, 0.01971435546875, 0.017547607421875, 0.015899658203125, 0.013519287109375, 0.00860595703125, 0.000457763671875, -0.00909423828125, -0.0169677734375, -0.02191162109375, -0.025360107421875, -0.029510498046875, -0.034759521484375, -0.04010009765625, -0.04443359375, -0.047515869140625, -0.049224853515625, -0.049407958984375, -0.0484619140625, -0.047393798828125, -0.04669189453125, -0.04571533203125, -0.04351806640625, -0.03973388671875, -0.0350341796875, -0.03009033203125, -0.025299072265625, -0.020172119140625, -0.013916015625, -0.006378173828125, 0.001495361328125, 0.008148193359375, 0.013214111328125, 0.017333984375, 0.021087646484375, 0.02386474609375, 0.02520751953125, 0.025848388671875, 0.026763916015625, 0.028045654296875, 0.029205322265625, 0.0302734375, 0.031768798828125, 0.03314208984375, 0.033172607421875, 0.0316162109375, 0.029571533203125, 0.02783203125, 0.0255126953125, 0.02191162109375, 0.017913818359375, 0.014984130859375, 0.01318359375, 0.0111083984375, 0.008331298828125, 0.006256103515625, 0.00592041015625, 0.00665283203125, 0.006622314453125, 0.00494384765625, 0.001922607421875, -0.0018310546875, -0.0057373046875, -0.009033203125, -0.010955810546875, -0.0115966796875, -0.011566162109375, -0.011627197265625, -0.011993408203125, -0.012725830078125, -0.013214111328125, -0.01300048828125, -0.012054443359375, -0.011474609375, -0.01251220703125, -0.014801025390625, -0.0164794921875, -0.016021728515625, -0.014190673828125, -0.01251220703125, -0.0113525390625, -0.009674072265625, -0.00677490234375, -0.0037841796875, -0.00201416015625, -0.001251220703125, -3.0517578125e-05, 0.002227783203125, 0.004302978515625, 0.00482177734375, 0.004302978515625, 0.004852294921875, 0.007904052734375, 0.012847900390625, 0.017822265625, 0.0211181640625, 0.022216796875, 0.021575927734375, 0.0205078125, 0.0206298828125, 0.0223388671875, 0.024078369140625, 0.0238037109375, 0.0213623046875, 0.018798828125, 0.018035888671875, 0.019378662109375, 0.021209716796875, 0.021636962890625, 0.019287109375, 0.01416015625, 0.008453369140625, 0.0050048828125, 0.00482177734375, 0.00555419921875, 0.003326416015625, -0.003173828125, -0.011962890625, -0.019927978515625, -0.025115966796875, -0.027130126953125, -0.026824951171875, -0.026763916015625, -0.02972412109375, -0.0361328125, -0.042755126953125, -0.04541015625, -0.04345703125, -0.040374755859375, -0.039642333984375, -0.04132080078125, -0.042694091796875, -0.041473388671875, -0.037933349609375, -0.033477783203125, -0.028564453125, -0.02264404296875, -0.01544189453125, -0.008026123046875, -0.00177001953125, 0.003326416015625, 0.008514404296875, 0.0142822265625, 0.01953125, 0.02264404296875, 0.0238037109375, 0.02484130859375, 0.027313232421875, 0.03094482421875, 0.034210205078125, 0.0360107421875, 0.036285400390625, 0.035552978515625, 0.034820556640625, 0.034637451171875, 0.034454345703125, 0.032623291015625, 0.028411865234375, 0.023468017578125, 0.02020263671875, 0.01910400390625, 0.018646240234375, 0.017181396484375, 0.014678955078125, 0.01165771484375, 0.00830078125, 0.004974365234375, 0.002532958984375, 0.00146484375, 0.0010986328125, 0.0, -0.002105712890625, -0.004302978515625, -0.0057373046875, -0.006195068359375, -0.00628662109375, -0.0069580078125, -0.009033203125, -0.012176513671875, -0.01470947265625, -0.01513671875, -0.013946533203125, -0.0128173828125, -0.01275634765625, -0.012725830078125, -0.011810302734375, -0.01092529296875, -0.011077880859375, -0.01177978515625, -0.01129150390625, -0.009063720703125, -0.0064697265625, -0.0048828125, -0.0040283203125, -0.00274658203125, -0.000274658203125, 0.002960205078125, 0.005889892578125, 0.0074462890625, 0.007720947265625, 0.0081787109375, 0.010162353515625, 0.013885498046875, 0.0179443359375, 0.021026611328125, 0.0230712890625, 0.024444580078125, 0.025146484375, 0.02520751953125, 0.02532958984375, 0.026153564453125, 0.0269775390625, 0.026519775390625, 0.024871826171875, 0.02337646484375, 0.023193359375, 0.023773193359375, 0.02410888671875, 0.023773193359375, 0.022247314453125, 0.019012451171875, 0.014373779296875, 0.010498046875, 0.00897216796875, 0.008392333984375, 0.005401611328125, -0.0015869140625, -0.010406494140625, -0.017822265625, -0.022369384765625, -0.024658203125, -0.02581787109375, -0.02642822265625, -0.027496337890625, -0.03045654296875, -0.035491943359375, -0.041046142578125, -0.044525146484375, -0.04473876953125, -0.042724609375, -0.040771484375, -0.040557861328125, -0.041961669921875, -0.042877197265625, -0.04119873046875, -0.0364990234375, -0.030303955078125, -0.0240478515625, -0.01837158203125, -0.013397216796875, -0.0093994140625, -0.006500244140625, -0.003814697265625, -3.0517578125e-05, 0.005126953125, 0.010467529296875, 0.0145263671875, 0.01690673828125, 0.0186767578125, 0.021575927734375, 0.026336669921875, 0.031982421875, 0.035980224609375, 0.03668212890625, 0.034942626953125, 0.033111572265625, 0.032745361328125, 0.03277587890625, 0.031768798828125, 0.029693603515625, 0.0279541015625, 0.02716064453125, 0.02655029296875, 0.025054931640625, 0.02288818359375, 0.020721435546875, 0.01873779296875, 0.016204833984375, 0.0126953125, 0.008544921875, 0.004638671875, 0.00177001953125, 0.0001220703125, -0.000762939453125, -0.00152587890625, -0.00250244140625, -0.00341796875, -0.004364013671875, -0.00592041015625, -0.008544921875, -0.01171875, -0.014373779296875, -0.015838623046875, -0.016632080078125, -0.0174560546875, -0.018402099609375, -0.01898193359375, -0.018646240234375, -0.01751708984375, -0.01654052734375, -0.01654052734375, -0.017364501953125, -0.01763916015625, -0.01641845703125, -0.01422119140625, -0.012359619140625, -0.01092529296875, -0.00885009765625, -0.006011962890625, -0.00372314453125, -0.002349853515625, 3.0517578125e-05, 0.0048828125, 0.01043701171875, 0.013275146484375, 0.012908935546875, 0.0126953125, 0.015472412109375, 0.020050048828125, 0.023468017578125, 0.024688720703125, 0.024993896484375, 0.025543212890625, 0.025970458984375, 0.02593994140625, 0.025604248046875, 0.025299072265625, 0.024810791015625, 0.024139404296875, 0.023193359375, 0.021697998046875, 0.019622802734375, 0.01788330078125, 0.017059326171875, 0.015472412109375, 0.010467529296875, 0.001861572265625, -0.0072021484375, -0.014068603515625, -0.01953125, -0.024810791015625, -0.028900146484375, -0.02996826171875, -0.029022216796875, -0.02960205078125, -0.032867431640625, -0.036651611328125, -0.039306640625, -0.04168701171875, -0.0447998046875, -0.047210693359375, -0.047515869140625, -0.047393798828125, -0.04913330078125, -0.05181884765625, -0.05145263671875, -0.046539306640625, -0.039337158203125, -0.032501220703125, -0.025634765625, -0.017608642578125, -0.009735107421875, -0.00408935546875, -0.00054931640625, 0.003387451171875, 0.008697509765625, 0.013275146484375, 0.01507568359375, 0.01544189453125, 0.01763916015625, 0.0230712890625, 0.0294189453125, 0.033416748046875, 0.034271240234375, 0.0335693359375, 0.032501220703125, 0.03009033203125, 0.025177001953125, 0.019195556640625, 0.015411376953125, 0.015380859375, 0.01739501953125, 0.018524169921875, 0.01800537109375, 0.01678466796875, 0.0152587890625, 0.0128173828125, 0.0093994140625, 0.005615234375, 0.001617431640625, -0.003143310546875, -0.0081787109375, -0.01141357421875, -0.01153564453125, -0.0096435546875, -0.00799560546875, -0.007415771484375, -0.007537841796875, -0.008148193359375, -0.009918212890625, -0.01263427734375, -0.014862060546875, -0.015045166015625, -0.013580322265625, -0.011474609375, -0.00909423828125, -0.00537109375, 0.000762939453125, 0.008331298828125, 0.013946533203125, 0.01416015625, 0.009246826171875, 0.003753662109375, 0.001708984375, 0.002685546875, 0.0032958984375, 0.00225830078125, 0.001617431640625, 0.002960205078125, 0.005035400390625, 0.006988525390625, 0.010772705078125, 0.018646240234375, 0.028350830078125, 0.03466796875, 0.035247802734375, 0.033172607421875, 0.03302001953125, 0.03643798828125, 0.041717529296875, 0.045257568359375, 0.0440673828125, 0.037841796875, 0.03045654296875, 0.0267333984375, 0.027252197265625, 0.02789306640625, 0.025543212890625, 0.0216064453125, 0.01788330078125, 0.013031005859375, 0.00567626953125, -0.001678466796875, -0.005889892578125, -0.01019287109375, -0.021453857421875, -0.040557861328125, -0.06011962890625, -0.074188232421875, -0.084991455078125, -0.095672607421875, -0.101104736328125, -0.092987060546875, -0.0723876953125, -0.050750732421875, -0.0367431640625, -0.02838134765625, -0.02044677734375, -0.013641357421875, -0.012298583984375, -0.01593017578125, -0.01971435546875, -0.021759033203125, -0.024169921875, -0.027496337890625, -0.0283203125, -0.024658203125, -0.018951416015625, -0.014312744140625, -0.01104736328125, -0.009246826171875, -0.011383056640625, -0.01837158203125, -0.02490234375, -0.023468017578125, -0.013275146484375, -0.0010986328125, 0.00811767578125, 0.016357421875, 0.0272216796875, 0.0390625, 0.0472412109375, 0.0509033203125, 0.05316162109375, 0.054107666015625, 0.04931640625, 0.036102294921875, 0.019287109375, 0.007293701171875, 0.0037841796875, 0.004913330078125, 0.005035400390625, 0.0028076171875, 0.000518798828125, -0.000732421875, -0.00238037109375, -0.00543212890625, -0.008331298828125, -0.009124755859375, -0.009033203125, -0.01080322265625, -0.0137939453125, -0.01336669921875, -0.00665283203125, 0.0030517578125, 0.01025390625, 0.01458740234375, 0.01922607421875, 0.02362060546875, 0.022003173828125, 0.0111083984375, -0.0045166015625, -0.017852783203125, -0.02703857421875, -0.033966064453125, -0.03692626953125, -0.03143310546875, -0.01812744140625, -0.0047607421875, 0.002410888671875, 0.005279541015625, 0.008880615234375, 0.012969970703125, 0.013519287109375, 0.00946044921875, 0.004241943359375, 0.000396728515625, -0.0028076171875, -0.005828857421875, -0.006866455078125, -0.0050048828125, -0.00225830078125, 0.0, 0.003265380859375, 0.008758544921875, 0.01446533203125, 0.0179443359375, 0.020263671875, 0.024658203125, 0.032379150390625, 0.04150390625, 0.049896240234375, 0.0555419921875, 0.056549072265625, 0.05230712890625, 0.04571533203125, 0.0406494140625, 0.037322998046875, 0.03314208984375, 0.027923583984375, 0.024871826171875, 0.02484130859375, 0.0244140625, 0.02081298828125, 0.01556396484375, 0.009552001953125, -0.001800537109375, -0.02325439453125, -0.05145263671875, -0.07733154296875, -0.0963134765625, -0.1102294921875, -0.1190185546875, -0.115447998046875, -0.0938720703125, -0.0601806640625, -0.02764892578125, -0.005126953125, 0.007049560546875, 0.011138916015625, 0.00738525390625, -0.00323486328125, -0.016693115234375, -0.028228759765625, -0.03533935546875, -0.036895751953125, -0.032135009765625, -0.02239990234375, -0.01177978515625, -0.003204345703125, 0.00384521484375, 0.009002685546875, 0.00762939453125, -0.004638671875, -0.0233154296875, -0.036102294921875, -0.03375244140625, -0.01812744140625, 0.00225830078125, 0.022125244140625, 0.041961669921875, 0.062408447265625, 0.079864501953125, 0.088653564453125, 0.085845947265625, 0.073089599609375, 0.05438232421875, 0.03369140625, 0.0146484375, 0.0008544921875, -0.004486083984375, -0.000885009765625, 0.008026123046875, 0.0164794921875, 0.02032470703125, 0.0191650390625, 0.01397705078125, 0.0052490234375, -0.006591796875, -0.018768310546875, -0.027435302734375, -0.029937744140625, -0.0257568359375, -0.01507568359375, 0.001251220703125, 0.02008056640625, 0.03607177734375, 0.045562744140625, 0.048065185546875, 0.04302978515625, 0.028076171875, 0.00250244140625, -0.028045654296875, -0.0540771484375, -0.069366455078125, -0.0731201171875, -0.06591796875, -0.047088623046875, -0.0186767578125, 0.011505126953125, 0.033905029296875, 0.044158935546875, 0.0435791015625, 0.03533935546875, 0.021820068359375, 0.00616455078125, -0.00714111328125, -0.014739990234375, -0.01556396484375, -0.009796142578125, 0.00128173828125, 0.013916015625, 0.022369384765625, 0.024017333984375, 0.02099609375, 0.0167236328125, 0.01129150390625, 0.003570556640625, -0.004241943359375, -0.006317138671875, 0.00164794921875, 0.01898193359375, 0.04107666015625, 0.061767578125, 0.075469970703125, 0.07928466796875, 0.0751953125, 0.067108154296875, 0.05645751953125, 0.0416259765625, 0.02392578125, 0.0096435546875, 0.003936767578125, 0.00543212890625, 0.009307861328125, 0.01385498046875, 0.017822265625, 0.014373779296875, -0.00531005859375, -0.040618896484375, -0.079071044921875, -0.10906982421875, -0.13055419921875, -0.147705078125, -0.155609130859375, -0.142333984375, -0.104034423828125, -0.052825927734375, -0.00634765625, 0.0252685546875, 0.04083251953125, 0.041748046875, 0.030242919921875, 0.0108642578125, -0.01123046875, -0.032470703125, -0.04949951171875, -0.05615234375, -0.04815673828125, -0.02911376953125, -0.0096435546875, 0.002838134765625, 0.00885009765625, 0.0113525390625, 0.009002685546875, -0.001220703125, -0.016571044921875, -0.0289306640625, -0.030670166015625, -0.01934814453125, 0.003143310546875, 0.03192138671875, 0.0601806640625, 0.081695556640625, 0.094451904296875, 0.099395751953125, 0.09686279296875, 0.085601806640625, 0.066314697265625, 0.04364013671875, 0.02313232421875, 0.008087158203125, -0.000213623046875, -0.00140380859375, 0.002655029296875, 0.007354736328125, 0.009002685546875, 0.0079345703125, 0.005828857421875, 0.001434326171875, -0.0072021484375, -0.01763916015625, -0.023590087890625, -0.022125244140625, -0.015899658203125, -0.007568359375, 0.00408935546875, 0.019500732421875, 0.033233642578125, 0.03826904296875, 0.033111572265625, 0.02130126953125, 0.0047607421875, -0.017120361328125, -0.041107177734375, -0.058563232421875, -0.062652587890625, -0.0545654296875, -0.03887939453125, -0.017547607421875, 0.00811767578125, 0.031341552734375, 0.04241943359375, 0.0384521484375, 0.025665283203125, 0.01177978515625, -0.001373291015625, -0.014739990234375, -0.025909423828125, -0.0296630859375, -0.024169921875, -0.012725830078125, 3.0517578125e-05, 0.01153564453125, 0.01983642578125, 0.022735595703125, 0.019378662109375, 0.0118408203125, 0.00384521484375, -0.00152587890625, -0.0015869140625, 0.00543212890625, 0.019439697265625, 0.03765869140625, 0.056121826171875, 0.070892333984375, 0.078094482421875, 0.07489013671875, 0.062347412109375, 0.045623779296875, 0.029388427734375, 0.014251708984375, 0.00018310546875, -0.009368896484375, -0.009765625, -0.002105712890625, 0.0064697265625, 0.01104736328125, 0.011932373046875, 0.008514404296875, -0.005828857421875, -0.0361328125, -0.076446533203125, -0.11328125, -0.137786865234375, -0.1497802734375, -0.1494140625, -0.131561279296875, -0.09326171875, -0.042510986328125, 0.005462646484375, 0.03936767578125, 0.05615234375, 0.05694580078125, 0.044036865234375, 0.022216796875, -0.0015869140625, -0.0216064453125, -0.034820556640625, -0.0386962890625, -0.031097412109375, -0.014404296875, 0.003662109375, 0.015655517578125, 0.019378662109375, 0.01611328125, 0.006011962890625, -0.0111083984375, -0.03179931640625, -0.048370361328125, -0.0531005859375, -0.042022705078125, -0.016357421875, 0.017669677734375, 0.050628662109375, 0.075286865234375, 0.090423583984375, 0.098297119140625, 0.09844970703125, 0.087921142578125, 0.0672607421875, 0.043426513671875, 0.024017333984375, 0.01153564453125, 0.005035400390625, 0.004150390625, 0.00830078125, 0.013885498046875, 0.016143798828125, 0.01324462890625, 0.006591796875, -0.003204345703125, -0.016571044921875, -0.030792236328125, -0.03948974609375, -0.038726806640625, -0.030181884765625, -0.0172119140625, -0.000244140625, 0.019683837890625, 0.0367431640625, 0.043609619140625, 0.0384521484375, 0.025421142578125, 0.008514404296875, -0.0113525390625, -0.03265380859375, -0.05010986328125, -0.058380126953125, -0.05596923828125, -0.044525146484375, -0.02642822265625, -0.005401611328125, 0.0130615234375, 0.025115966796875, 0.03106689453125, 0.03240966796875, 0.027679443359375, 0.014984130859375, -0.00213623046875, -0.015350341796875, -0.019256591796875, -0.0147705078125, -0.004852294921875, 0.0091552734375, 0.0247802734375, 0.035797119140625, 0.037384033203125, 0.031158447265625, 0.021820068359375, 0.010833740234375, -0.002685546875, -0.014892578125, -0.018402099609375, -0.010986328125, 0.00128173828125, 0.0120849609375, 0.021575927734375, 0.0325927734375, 0.04351806640625, 0.049102783203125, 0.046234130859375, 0.035125732421875, 0.017974853515625, 0.00030517578125, -0.009002685546875, -0.006378173828125, -0.000701904296875, -0.004241943359375, -0.0157470703125, -0.020721435546875, -0.011810302734375, -0.002197265625, -0.011077880859375, -0.041717529296875, -0.080902099609375, -0.1165771484375, -0.145050048828125, -0.162017822265625, -0.158477783203125, -0.131011962890625, -0.0889892578125, -0.04547119140625, -0.005126953125, 0.032867431640625, 0.06378173828125, 0.077239990234375, 0.067413330078125, 0.0394287109375, 0.004150390625, -0.0277099609375, -0.0479736328125, -0.05279541015625, -0.044891357421875, -0.03070068359375, -0.014251708984375, 0.00335693359375, 0.018157958984375, 0.02276611328125, 0.013671875, -0.003936767578125, -0.021514892578125, -0.03472900390625, -0.041778564453125, -0.03973388671875, -0.02630615234375, -0.00408935546875, 0.02117919921875, 0.04595947265625, 0.067657470703125, 0.080841064453125, 0.080322265625, 0.068572998046875, 0.05462646484375, 0.04302978515625, 0.030059814453125, 0.01226806640625, -0.00543212890625, -0.014678955078125, -0.0133056640625, -0.006561279296875, -0.00067138671875, 0.000640869140625, -0.00372314453125, -0.010894775390625, -0.01495361328125, -0.013885498046875, -0.013336181640625, -0.0194091796875, -0.02838134765625, -0.0303955078125, -0.022918701171875, -0.013336181640625, -0.00689697265625, 0.000518798828125, 0.012176513671875, 0.021484375, 0.02008056640625, 0.010528564453125, 0.002288818359375, -0.002655029296875, -0.010498046875, -0.022552490234375, -0.03033447265625, -0.027679443359375, -0.01959228515625, -0.013824462890625, -0.009979248046875, -0.003570556640625, 0.0035400390625, 0.00537109375, 0.002227783203125, 0.002105712890625, 0.0089111328125, 0.016510009765625, 0.01763916015625, 0.01336669921875, 0.01025390625, 0.011260986328125, 0.01361083984375, 0.014404296875, 0.014129638671875, 0.01361083984375, 0.011688232421875, 0.00732421875, 0.002471923828125, 0.0013427734375, 0.00604248046875, 0.013763427734375, 0.018951416015625, 0.018829345703125, 0.016571044921875, 0.01739501953125, 0.021514892578125, 0.0224609375, 0.014495849609375, -0.000640869140625, -0.01470947265625, -0.02117919921875, -0.01983642578125, -0.0146484375, -0.009552001953125, -0.0064697265625, -0.004547119140625, -0.001220703125, 0.004150390625, 0.00689697265625, -0.00115966796875, -0.02496337890625, -0.0615234375, -0.10162353515625, -0.1341552734375, -0.150146484375, -0.145782470703125, -0.124664306640625, -0.095367431640625, -0.06475830078125, -0.034576416015625, -0.005615234375, 0.016754150390625, 0.025787353515625, 0.020965576171875, 0.009063720703125, -0.003204345703125, -0.01422119140625, -0.023681640625, -0.027984619140625, -0.022552490234375, -0.00750732421875, 0.01153564453125, 0.028228759765625, 0.03857421875, 0.040618896484375, 0.03424072265625, 0.021759033203125, 0.00714111328125, -0.006805419921875, -0.018646240234375, -0.0260009765625, -0.02484130859375, -0.012725830078125, 0.007781982421875, 0.029571533203125, 0.045684814453125, 0.053497314453125, 0.054840087890625, 0.05340576171875, 0.050506591796875, 0.044158935546875, 0.031890869140625, 0.015533447265625, 0.001312255859375, -0.004791259765625, -0.001983642578125, 0.005523681640625, 0.012176513671875, 0.01434326171875, 0.011688232421875, 0.006683349609375, 0.00201416015625, -0.0025634765625, -0.009521484375, -0.018341064453125, -0.023284912109375, -0.018310546875, -0.00469970703125, 0.010162353515625, 0.020843505859375, 0.027557373046875, 0.0313720703125, 0.029693603515625, 0.019775390625, 0.004730224609375, -0.00909423828125, -0.018524169921875, -0.023956298828125, -0.024444580078125, -0.017120361328125, -0.0028076171875, 0.011627197265625, 0.020294189453125, 0.024383544921875, 0.027435302734375, 0.02801513671875, 0.022064208984375, 0.010345458984375, -0.000152587890625, -0.004913330078125, -0.00592041015625, -0.006439208984375, -0.00531005859375, 9.1552734375e-05, 0.007598876953125, 0.0115966796875, 0.009246826171875, 0.002532958984375, -0.005096435546875, -0.011444091796875, -0.014862060546875, -0.014495849609375, -0.01129150390625, -0.006988525390625, -0.0010986328125, 0.007568359375, 0.016357421875, 0.01904296875, 0.012908935546875, 0.002288818359375, -0.006561279296875, -0.012481689453125, -0.018035888671875, -0.023345947265625, -0.025604248046875, -0.0235595703125, -0.018768310546875, -0.0120849609375, -0.0035400390625, 0.004425048828125, 0.008026123046875, 0.00726318359375, 0.0059814453125, 0.005401611328125, 0.00091552734375, -0.010528564453125, -0.023529052734375, -0.030517578125, -0.031707763671875, -0.03399658203125, -0.039581298828125, -0.04278564453125, -0.038482666015625, -0.0289306640625, -0.01934814453125, -0.010955810546875, -0.003021240234375, 0.002227783203125, 0.0013427734375, -0.004058837890625, -0.00848388671875, -0.0093994140625, -0.009307861328125, -0.0101318359375, -0.009490966796875, -0.004302978515625, 0.003936767578125, 0.01092529296875, 0.014862060546875, 0.01776123046875, 0.021636962890625, 0.02520751953125, 0.025299072265625, 0.020050048828125, 0.011474609375, 0.0040283203125, 0.00164794921875, 0.004547119140625, 0.00958251953125, 0.0140380859375, 0.0174560546875, 0.02044677734375, 0.022125244140625, 0.0211181640625, 0.017608642578125, 0.013763427734375, 0.010528564453125, 0.00653076171875, 0.0009765625, -0.003997802734375, -0.00506591796875, -0.001800537109375, 0.0018310546875, 0.002227783203125, 0.0001220703125, -0.00042724609375, 0.002197265625, 0.00469970703125, 0.003662109375, 0.00030517578125, -0.000946044921875, 0.0008544921875, 0.00250244140625, 0.00152587890625, 0.000335693359375, 0.001800537109375, 0.004302978515625, 0.00457763671875, 0.003173828125, 0.003692626953125, 0.005889892578125, 0.004791259765625, -0.002227783203125, -0.011199951171875, -0.01678466796875, -0.018585205078125, -0.01953125, -0.019439697265625, -0.01568603515625, -0.00836181640625, -0.0013427734375, 0.00274658203125, 0.004547119140625, 0.004730224609375, 0.0023193359375, -0.002349853515625, -0.00592041015625, -0.00616455078125, -0.005828857421875, -0.0093994140625, -0.0166015625, -0.022247314453125, -0.022247314453125, -0.016876220703125, -0.00909423828125, -0.0013427734375, 0.005096435546875, 0.0091552734375, 0.009857177734375, 0.00738525390625, 0.002838134765625, -0.00164794921875, -0.003753662109375, -0.00299072265625, -0.00146484375, -0.0013427734375, -0.00201416015625, -0.001373291015625, 0.000579833984375, 0.00140380859375, 0.000518798828125, 0.000579833984375, 0.00299072265625, 0.004791259765625, 0.002349853515625, -0.00262451171875, -0.005157470703125, -0.00341796875, -0.000732421875, -0.000244140625, -0.000457763671875, 0.0010986328125, 0.003662109375, 0.00439453125, 0.002471923828125, 0.0, -0.00128173828125, -0.00189208984375, -0.002777099609375, -0.003265380859375, -0.00250244140625, -0.00115966796875, -0.00067138671875, -0.001220703125, -0.001312255859375, 0.000152587890625, 0.002105712890625, 0.001953125, -0.00128173828125, -0.005462646484375, -0.00762939453125, -0.0074462890625, -0.0072021484375, -0.007904052734375, -0.0069580078125, -0.002166748046875, 0.003692626953125, 0.00439453125, -0.00177001953125, -0.00897216796875, -0.009613037109375, -0.0040283203125, -0.00030517578125, -0.004791259765625, -0.0142822265625, -0.018951416015625, -0.0133056640625, -0.00213623046875, 0.0047607421875, 0.0030517578125, -0.002410888671875, -0.0045166015625, -0.0023193359375, -0.00103759765625, -0.003631591796875, -0.0059814453125, -0.002349853515625, 0.00555419921875, 0.0093994140625, 0.004547119140625, -0.00244140625, 6.103515625e-05, 0.01422119140625, 0.027557373046875, 0.024993896484375, 0.00634765625, -0.01019287109375, -0.0064697265625, 0.015228271484375, 0.03338623046875, 0.030548095703125, 0.012908935546875, 0.001922607421875, 0.008880615234375, 0.022613525390625, 0.025421142578125, 0.0142822265625, 0.00177001953125, -0.001953125, -0.000762939453125, -0.0040283203125, -0.0120849609375, -0.015655517578125, -0.008544921875, 0.004119873046875, 0.01239013671875, 0.01312255859375, 0.01220703125, 0.015380859375, 0.0194091796875, 0.01513671875, -0.001312255859375, -0.02239990234375, -0.035919189453125, -0.0362548828125, -0.02752685546875, -0.0162353515625, -0.0045166015625, 0.008331298828125, 0.020355224609375, 0.027008056640625, 0.025360107421875, 0.016265869140625, 0.00244140625, -0.013702392578125, -0.0294189453125, -0.041046142578125, -0.045623779296875, -0.042755126953125, -0.03363037109375, -0.01983642578125, -0.003997802734375, 0.01019287109375, 0.0191650390625, 0.02178955078125, 0.0181884765625, 0.008209228515625, -0.0076904296875, -0.025146484375, -0.036376953125, -0.03607177734375, -0.0263671875, -0.01446533203125, -0.005279541015625, 0.002471923828125, 0.01251220703125, 0.0240478515625, 0.03009033203125, 0.023956298828125, 0.00738525390625, -0.008697509765625, -0.01373291015625, -0.00750732421875, -6.103515625e-05, -0.00030517578125, -0.005523681640625, -0.0042724609375, 0.0101318359375, 0.030242919921875, 0.040557861328125, 0.03314208984375, 0.01556396484375, 0.002593994140625, 0.00115966796875, 0.0050048828125, 0.004119873046875, -0.002655029296875, -0.007354736328125, -0.003570556640625, 0.006134033203125, 0.01409912109375, 0.016815185546875, 0.016937255859375, 0.017059326171875, 0.015167236328125, 0.00775146484375, -0.0042724609375, -0.014495849609375, -0.016571044921875, -0.011016845703125, -0.004638671875, -0.003997802734375, -0.007904052734375, -0.008270263671875, 0.000152587890625, 0.01220703125, 0.01678466796875, 0.008880615234375, -0.004119873046875, -0.011199951171875, -0.009613037109375, -0.006378173828125, -0.007904052734375, -0.012847900390625, -0.015045166015625, -0.011138916015625, -0.00341796875, 0.003570556640625, 0.006683349609375, 0.005096435546875, 6.103515625e-05, -0.006072998046875, -0.010589599609375, -0.012298583984375, -0.012054443359375, -0.0115966796875, -0.01171875, -0.011474609375, -0.0089111328125, -0.00323486328125, 0.003753662109375, 0.009185791015625, 0.011688232421875, 0.01177978515625, 0.00921630859375, 0.002685546875, -0.006500244140625, -0.011627197265625, -0.006439208984375, 0.0052490234375, 0.010498046875, 0.00140380859375, -0.012603759765625, -0.0130615234375, 0.005767822265625, 0.027557373046875, 0.030364990234375, 0.011016845703125, -0.011260986328125, -0.016632080078125, -0.005828857421875, 0.003662109375, 0.000274658203125, -0.008941650390625, -0.00982666015625, -0.000823974609375, 0.005462646484375, 0.00054931640625, -0.006805419921875, -0.0013427734375, 0.017791748046875, 0.033660888671875, 0.0306396484375, 0.013092041015625, -0.000457763671875, -3.0517578125e-05, 0.0054931640625, 0.000946044921875, -0.014984130859375, -0.02838134765625, -0.0263671875, -0.011138916015625, 0.004425048828125, 0.011077880859375, 0.01116943359375, 0.01239013671875, 0.017333984375, 0.021484375, 0.019287109375, 0.01007080078125, -0.002288818359375, -0.013397216796875, -0.0208740234375, -0.0238037109375, -0.022064208984375, -0.016448974609375, -0.009033203125, -0.001434326171875, 0.006378173828125, 0.0140380859375, 0.019317626953125, 0.01885986328125, 0.011627197265625, 0.000701904296875, -0.009857177734375, -0.01800537109375, -0.0238037109375, -0.02581787109375, -0.021514892578125, -0.010894775390625, 0.000823974609375, 0.007049560546875, 0.006439208984375, 0.003936767578125, 0.0045166015625, 0.006683349609375, 0.004425048828125, -0.00494384765625, -0.01605224609375, -0.020294189453125, -0.014739990234375, -0.00457763671875, 0.002960205078125, 0.00604248046875, 0.0074462890625, 0.008392333984375, 0.00616455078125, -0.0013427734375, -0.01025390625, -0.01312255859375, -0.00750732421875, 0.001007080078125, 0.00482177734375, 0.00335693359375, 0.002838134765625, 0.007965087890625, 0.015869140625, 0.01959228515625, 0.015777587890625, 0.00762939453125, 0.00030517578125, -0.0035400390625, -0.003936767578125, -0.00146484375, 0.002960205078125, 0.00689697265625, 0.007476806640625, 0.004608154296875, 0.00225830078125, 0.004486083984375, 0.010223388671875, 0.013671875, 0.0107421875, 0.00372314453125, -0.001190185546875, -0.001068115234375, 0.0008544921875, -0.000152587890625, -0.004119873046875, -0.007171630859375, -0.00653076171875, -0.003814697265625, -0.00189208984375, -0.000579833984375, 0.001983642578125, 0.00567626953125, 0.007598876953125, 0.0057373046875, 0.00201416015625, -0.0003662109375, -0.001007080078125, -0.002532958984375, -0.00628662109375, -0.01019287109375, -0.0111083984375, -0.008880615234375, -0.006103515625, -0.0045166015625, -0.0030517578125, -0.0001220703125, 0.00347900390625, 0.005096435546875, 0.003570556640625, 0.000457763671875, -0.0018310546875, -0.0023193359375, -0.001617431640625, -0.000335693359375, 0.001190185546875, 0.002197265625, 0.00201416015625, 0.0010986328125, 0.001190185546875, 0.00244140625, 0.002655029296875, -0.0001220703125, -0.003936767578125, -0.00445556640625, -0.00042724609375, 0.003570556640625, 0.002655029296875, -0.001953125, -0.003570556640625, 0.0015869140625, 0.009063720703125, 0.011444091796875, 0.006988525390625, 0.001312255859375, -0.0001220703125, 0.0015869140625, 0.001251220703125, -0.0028076171875, -0.00628662109375, -0.00506591796875, -0.0001220703125, 0.004302978515625, 0.006256103515625, 0.006988525390625, 0.00750732421875, 0.00653076171875, 0.0032958984375, 6.103515625e-05, -0.000640869140625, 3.0517578125e-05, -0.00140380859375, -0.0048828125, -0.0052490234375, 0.001434326171875, 0.011138916015625, 0.015777587890625, 0.0126953125, 0.007293701171875, 0.005279541015625, 0.0042724609375, -0.0015869140625, -0.01129150390625, -0.01611328125, -0.010711669921875, -0.00189208984375, -0.00091552734375, -0.008697509765625, -0.013641357421875, -0.006683349609375, 0.005859375, 0.00958251953125, -3.0517578125e-05, -0.01129150390625, -0.0115966796875, -0.0028076171875, 0.00225830078125, -0.002593994140625, -0.00933837890625, -0.00738525390625, 0.00152587890625, 0.006317138671875, 0.001800537109375, -0.004486083984375, -0.003021240234375, 0.004364013671875, 0.00726318359375, 0.00140380859375, -0.005859375, -0.005279541015625, 0.00177001953125, 0.006072998046875, 0.003387451171875, -0.000701904296875, 0.000396728515625, 0.004730224609375, 0.00518798828125, -0.00018310546875, -0.005096435546875, -0.0040283203125, 0.000457763671875, 0.001739501953125, -0.001312255859375, -0.0035400390625, -0.001007080078125, 0.003326416015625, 0.004669189453125, 0.003173828125, 0.0032958984375, 0.00616455078125, 0.00750732421875, 0.00421142578125, -0.00018310546875, -6.103515625e-05, 0.00384521484375, 0.004669189453125, -0.001068115234375, -0.007232666015625, -0.005126953125, 0.00482177734375, 0.0126953125, 0.010833740234375, 0.0032958984375, 3.0517578125e-05, 0.00408935546875, 0.008056640625, 0.004486083984375, -0.004058837890625, -0.00823974609375, -0.003692626953125, 0.00372314453125, 0.005767822265625, 0.001617431640625, -0.0023193359375, -0.00128173828125, 0.002593994140625, 0.004058837890625, 0.001861572265625, -0.000396728515625, 0.000244140625, 0.00244140625, 0.002899169921875, 0.000762939453125, -0.001739501953125, -0.002471923828125, -0.002105712890625, -0.00250244140625, -0.00408935546875, -0.005157470703125, -0.003875732421875, -0.00048828125, 0.003021240234375, 0.00482177734375, 0.004486083984375, 0.002838134765625, 0.001220703125, 0.000457763671875, 0.000335693359375, 0.000335693359375, 0.00018310546875, -3.0517578125e-05, 0.000152587890625, 0.001068115234375, 0.00286865234375, 0.004913330078125, 0.00531005859375, 0.00189208984375, -0.005035400390625, -0.011505126953125, -0.012298583984375, -0.006439208984375, 0.000579833984375, 0.002105712890625, -0.00189208984375, -0.00445556640625, 3.0517578125e-05, 0.007659912109375, 0.008392333984375, -0.002349853515625, -0.016693115234375, -0.0225830078125, -0.017059326171875, -0.0091552734375, -0.00830078125, -0.0130615234375, -0.0137939453125, -0.0054931640625, 0.005462646484375, 0.009490966796875, 0.0050048828125, -0.0003662109375, -0.000457763671875, 0.00244140625, 0.002197265625, -0.002105712890625, -0.005096435546875, -0.003082275390625, 0.0010986328125, 0.002227783203125, 0.00030517578125, 3.0517578125e-05, 0.003692626953125, 0.00726318359375, 0.005767822265625, 0.000335693359375, -0.003021240234375, -0.00128173828125, 0.002044677734375, 0.001861572265625, -0.001617431640625, -0.003509521484375, -0.001434326171875, 0.001800537109375, 0.00250244140625, 0.001495361328125, 0.0023193359375, 0.005126953125, 0.0054931640625, 0.00091552734375, -0.004638671875, -0.004638671875, 0.0013427734375, 0.006134033203125, 0.003753662109375, -0.002685546875, -0.003875732421875, 0.00445556640625, 0.015380859375, 0.018280029296875, 0.010498046875, 0.000213623046875, -0.00286865234375, 0.002410888671875, 0.00830078125, 0.007843017578125, 0.00225830078125, -0.001678466796875, 0.0, 0.004150390625, 0.004913330078125, 0.000885009765625, -0.0035400390625, -0.00341796875, 0.00091552734375, 0.00469970703125, 0.00469970703125, 0.002777099609375, 0.0029296875, 0.005523681640625, 0.0059814453125, 0.000457763671875, -0.008575439453125, -0.0137939453125, -0.010894775390625, -0.003692626953125, -6.103515625e-05, -0.003265380859375, -0.008544921875, -0.009246826171875, -0.004364013671875, 0.000946044921875, 0.002349853515625, 0.001251220703125, 0.00213623046875, 0.005645751953125, 0.00799560546875, 0.006011962890625, 0.00146484375, -0.001678466796875, -0.00274658203125, -0.0048828125, -0.009490966796875, -0.012939453125, -0.010162353515625, -0.001495361328125, 0.006805419921875, 0.009490966796875, 0.0076904296875, 0.006134033203125, 0.006134033203125, 0.003997802734375, -0.0032958984375, -0.01287841796875, -0.0181884765625, -0.016448974609375, -0.011138916015625, -0.00775146484375, -0.0072021484375, -0.00640869140625, -0.003143310546875, 0.000762939453125, 0.002166748046875, 0.00079345703125, -0.000946044921875, -0.001251220703125, -0.00091552734375, -0.00128173828125, -0.001983642578125, -0.001373291015625, 0.000885009765625, 0.003082275390625, 0.00347900390625, 0.002288818359375, 0.0008544921875, -0.000213623046875, -0.00152587890625, -0.00341796875, -0.00506591796875, -0.00531005859375, -0.00396728515625, -0.001800537109375, 0.000701904296875, 0.003173828125, 0.005218505859375, 0.005767822265625, 0.00421142578125, 0.0010986328125, -0.00225830078125, -0.00457763671875, -0.005645751953125, -0.005462646484375, -0.004119873046875, -0.001983642578125, 0.0006103515625, 0.00335693359375, 0.006195068359375, 0.008209228515625, 0.0079345703125, 0.004638671875, 0.0, -0.002838134765625, -0.002471923828125, -0.000701904296875, -0.000335693359375, -0.001373291015625, -0.00091552734375, 0.00286865234375, 0.00775146484375, 0.009735107421875, 0.00787353515625, 0.00506591796875, 0.00396728515625, 0.00372314453125, 0.0015869140625, -0.0023193359375, -0.004730224609375, -0.0032958984375, 0.000213623046875, 0.00238037109375, 0.002716064453125, 0.003570556640625, 0.005828857421875, 0.006591796875, 0.003173828125, -0.002197265625, -0.0045166015625, -0.002410888671875, -0.0006103515625, -0.003631591796875, -0.009368896484375, -0.010650634765625, -0.0047607421875, 0.0025634765625, 0.00341796875, -0.00244140625, -0.00750732421875, -0.005645751953125, 0.000732421875, 0.0040283203125, 0.001220703125, -0.003387451171875, -0.004180908203125, -0.001251220703125, 0.001068115234375, 0.000701904296875, 0.00048828125, 0.003814697265625, 0.0096435546875, 0.013671875, 0.01336669921875, 0.010528564453125, 0.008026123046875, 0.00616455078125, 0.003082275390625, -0.0018310546875, -0.006317138671875, -0.007598876953125, -0.00518798828125, -0.001373291015625, 0.001251220703125, 0.001556396484375, 0.0003662109375, -0.0010986328125, -0.001739501953125, -0.00152587890625, -0.00146484375, -0.0025634765625, -0.0047607421875, -0.0068359375, -0.007781982421875, -0.00799560546875, -0.0081787109375, -0.0081787109375, -0.006591796875, -0.0032958984375, -3.0517578125e-05, 0.0010986328125, -0.000213623046875, -0.002197265625, -0.00384521484375, -0.0059814453125, -0.00927734375, -0.012176513671875, -0.011932373046875, -0.0076904296875, -0.00201416015625, 0.00238037109375, 0.005279541015625, 0.00811767578125, 0.01080322265625, 0.010894775390625, 0.006988525390625, 0.00091552734375, -0.004302978515625, -0.007843017578125, -0.011260986328125, -0.014862060546875, -0.01605224609375, -0.0125732421875, -0.00616455078125, -0.00128173828125, 0.0, 6.103515625e-05, 0.001678466796875, 0.00390625, 0.003570556640625, 6.103515625e-05, -0.002838134765625, -0.0020751953125, 0.000762939453125, 0.00152587890625, -0.000579833984375, -0.00201416015625, 9.1552734375e-05, 0.003753662109375, 0.004852294921875, 0.002685546875, 0.000579833984375, 0.000885009765625, 0.002044677734375, 0.0013427734375, -0.00054931640625, -0.0006103515625, 0.00177001953125, 0.003753662109375, 0.00360107421875, 0.004119873046875, 0.00860595703125, 0.015045166015625, 0.0169677734375, 0.0115966796875, 0.00408935546875, 0.0015869140625, 0.004364013671875, 0.00579833984375, 0.00201416015625, -0.00225830078125, -9.1552734375e-05, 0.00799560546875, 0.013824462890625, 0.011993408203125, 0.006103515625, 0.00347900390625, 0.00445556640625, 0.00274658203125, -0.0048828125, -0.012420654296875, -0.011505126953125, -0.0023193359375, 0.006378173828125, 0.007843017578125, 0.0048828125, 0.004791259765625, 0.009307861328125, 0.013336181640625, 0.0123291015625, 0.0081787109375, 0.00494384765625, 0.0029296875, -0.0006103515625, -0.0057373046875, -0.008026123046875, -0.004638671875, 0.001068115234375, 0.003753662109375, 0.002838134765625, 0.0025634765625, 0.00445556640625, 0.00439453125, -0.00146484375, -0.009979248046875, -0.014007568359375, -0.01190185546875, -0.009674072265625, -0.012481689453125, -0.01641845703125, -0.013946533203125, -0.0048828125, 0.001861572265625, 0.000518798828125, -0.00335693359375, 0.000152587890625, 0.0096435546875, 0.0108642578125, -0.007171630859375, -0.037994384765625, -0.06329345703125, -0.072235107421875, -0.0703125, -0.068328857421875, -0.067169189453125, -0.058258056640625, -0.03790283203125, -0.014373779296875, 0.000885009765625, 0.006378173828125, 0.0096435546875, 0.01458740234375, 0.0155029296875, 0.00604248046875, -0.009429931640625, -0.018310546875, -0.01336669921875, -0.0003662109375, 0.009796142578125, 0.013916015625, 0.017547607421875, 0.024871826171875, 0.031951904296875, 0.03179931640625, 0.02337646484375, 0.012603759765625, 0.0045166015625, -0.001434326171875, -0.00775146484375, -0.0133056640625, -0.014129638671875, -0.0093994140625, -0.00286865234375, 0.001678466796875, 0.005035400390625, 0.00994873046875, 0.015380859375, 0.01690673828125, 0.012298583984375, 0.0054931640625, 0.002655029296875, 0.00482177734375, 0.00762939453125, 0.00732421875, 0.0054931640625, 0.00640869140625, 0.010955810546875, 0.01544189453125, 0.016876220703125, 0.01629638671875, 0.01580810546875, 0.014892578125, 0.01080322265625, 0.003662109375, -0.0025634765625, -0.004425048828125, -0.002960205078125, -0.001800537109375, -0.001434326171875, 0.001617431640625, 0.009124755859375, 0.017059326171875, 0.019134521484375, 0.0145263671875, 0.009368896484375, 0.00958251953125, 0.013824462890625, 0.01568603515625, 0.01202392578125, 0.006866455078125, 0.0062255859375, 0.010040283203125, 0.01287841796875, 0.011199951171875, 0.00775146484375, 0.007110595703125, 0.00885009765625, 0.0076904296875, 0.000732421875, -0.008331298828125, -0.01373291015625, -0.014251708984375, -0.013427734375, -0.01336669921875, -0.0115966796875, -0.0054931640625, 0.002593994140625, 0.00653076171875, 0.00372314453125, -0.002227783203125, -0.005615234375, -0.004913330078125, -0.0035400390625, -0.005401611328125, -0.013275146484375, -0.029693603515625, -0.0567626953125, -0.091217041015625, -0.121734619140625, -0.134735107421875, -0.125640869140625, -0.101959228515625, -0.074859619140625, -0.04852294921875, -0.020233154296875, 0.010498046875, 0.037445068359375, 0.053314208984375, 0.057373046875, 0.054046630859375, 0.04541015625, 0.02972412109375, 0.008453369140625, -0.00958251953125, -0.014617919921875, -0.006591796875, 0.0050048828125, 0.01202392578125, 0.01593017578125, 0.022674560546875, 0.032135009765625, 0.035980224609375, 0.028076171875, 0.012054443359375, -0.002685546875, -0.011871337890625, -0.019012451171875, -0.02734375, -0.03271484375, -0.027618408203125, -0.01104736328125, 0.0096435546875, 0.02655029296875, 0.038421630859375, 0.047210693359375, 0.051177978515625, 0.04541015625, 0.02960205078125, 0.011627197265625, 9.1552734375e-05, -0.004150390625, -0.006134033203125, -0.007568359375, -0.00421142578125, 0.007049560546875, 0.021759033203125, 0.031890869140625, 0.0343017578125, 0.0316162109375, 0.02557373046875, 0.0137939453125, -0.00445556640625, -0.02276611328125, -0.03216552734375, -0.03021240234375, -0.022247314453125, -0.012786865234375, 0.000396728515625, 0.02001953125, 0.039581298828125, 0.046112060546875, 0.0335693359375, 0.01092529296875, -0.00701904296875, -0.0152587890625, -0.020233154296875, -0.02728271484375, -0.030670166015625, -0.02093505859375, 0.000396728515625, 0.020477294921875, 0.02984619140625, 0.033203125, 0.039886474609375, 0.047760009765625, 0.04339599609375, 0.02069091796875, -0.007476806640625, -0.02117919921875, -0.0155029296875, -0.003997802734375, 0.000152587890625, 0.00054931640625, 0.0108642578125, 0.034393310546875, 0.057220458984375, 0.0631103515625, 0.051300048828125, 0.035552978515625, 0.02752685546875, 0.02532958984375, 0.019744873046875, 0.006622314453125, -0.011077880859375, -0.0325927734375, -0.064605712890625, -0.11126708984375, -0.161834716796875, -0.194366455078125, -0.195465087890625, -0.1727294921875, -0.14471435546875, -0.11920166015625, -0.088226318359375, -0.04388427734375, 0.00677490234375, 0.04754638671875, 0.070556640625, 0.08074951171875, 0.08404541015625, 0.078094482421875, 0.059814453125, 0.036407470703125, 0.02215576171875, 0.02337646484375, 0.0325927734375, 0.038909912109375, 0.0404052734375, 0.042755126953125, 0.047119140625, 0.0458984375, 0.03118896484375, 0.00494384765625, -0.022796630859375, -0.043701171875, -0.056976318359375, -0.06524658203125, -0.068115234375, -0.0621337890625, -0.04638671875, -0.0244140625, -0.000823974609375, 0.022491455078125, 0.0450439453125, 0.064178466796875, 0.075408935546875, 0.076263427734375, 0.068450927734375, 0.0557861328125, 0.041259765625, 0.027099609375, 0.014984130859375, 0.00537109375, -0.00201416015625, -0.0067138671875, -0.006500244140625, -0.0009765625, 0.005645751953125, 0.008056640625, 0.005584716796875, 0.001556396484375, -0.003021240234375, -0.011260986328125, -0.02288818359375, -0.030364990234375, -0.0260009765625, -0.012054443359375, 0.0020751953125, 0.0130615234375, 0.027191162109375, 0.0479736328125, 0.065673828125, 0.06549072265625, 0.04541015625, 0.01934814453125, 0.000946044921875, -0.010223388671875, -0.022796630859375, -0.037261962890625, -0.042877197265625, -0.031829833984375, -0.010894775390625, 0.00616455078125, 0.015777587890625, 0.026580810546875, 0.04376220703125, 0.05706787109375, 0.052001953125, 0.030059814453125, 0.010009765625, 0.006103515625, 0.01251220703125, 0.014434814453125, 0.0098876953125, 0.0107421875, 0.023101806640625, 0.037445068359375, 0.042083740234375, 0.038330078125, 0.035430908203125, 0.035430908203125, 0.03369140625, 0.031890869140625, 0.0374755859375, 0.047576904296875, 0.042205810546875, 0.002105712890625, -0.069427490234375, -0.1500244140625, -0.218597412109375, -0.265472412109375, -0.28515625, -0.27117919921875, -0.224945068359375, -0.161285400390625, -0.0982666015625, -0.04144287109375, 0.01513671875, 0.073516845703125, 0.12261962890625, 0.146453857421875, 0.13909912109375, 0.10992431640625, 0.07598876953125, 0.050445556640625, 0.036590576171875, 0.03009033203125, 0.026397705078125, 0.0247802734375, 0.02520751953125, 0.023834228515625, 0.015167236328125, -0.000152587890625, -0.01531982421875, -0.02667236328125, -0.039947509765625, -0.0625, -0.090850830078125, -0.111541748046875, -0.11480712890625, -0.10235595703125, -0.079681396484375, -0.0457763671875, 0.002227783203125, 0.0574951171875, 0.10302734375, 0.126312255859375, 0.130340576171875, 0.1256103515625, 0.114990234375, 0.091552734375, 0.0523681640625, 0.009307861328125, -0.018768310546875, -0.023468017578125, -0.01361083984375, -0.00457763671875, -0.003692626953125, -0.007904052734375, -0.012725830078125, -0.0194091796875, -0.032440185546875, -0.051849365234375, -0.07098388671875, -0.08148193359375, -0.079010009765625, -0.065216064453125, -0.043304443359375, -0.01507568359375, 0.018157958984375, 0.050994873046875, 0.07330322265625, 0.07757568359375, 0.0665283203125, 0.05023193359375, 0.035064697265625, 0.0186767578125, -0.001861572265625, -0.020294189453125, -0.02691650390625, -0.021759033203125, -0.015350341796875, -0.013702392578125, -0.010009765625, 0.004241943359375, 0.024627685546875, 0.038055419921875, 0.039215087890625, 0.035064697265625, 0.03289794921875, 0.031951904296875, 0.029296875, 0.027374267578125, 0.02978515625, 0.034942626953125, 0.038421630859375, 0.039306640625, 0.038177490234375, 0.033233642578125, 0.0235595703125, 0.014190673828125, 0.010650634765625, 0.009857177734375, 0.004852294921875, -0.001678466796875, 0.000732421875, 0.01251220703125, 0.019256591796875, 0.0118408203125, 0.0003662109375, -0.004669189453125, -0.016876220703125, -0.061798095703125, -0.13763427734375, -0.206390380859375, -0.23297119140625, -0.2208251953125, -0.196746826171875, -0.170501708984375, -0.12701416015625, -0.0582275390625, 0.0164794921875, 0.070281982421875, 0.098358154296875, 0.115020751953125, 0.126739501953125, 0.1219482421875, 0.09228515625, 0.05194091796875, 0.027252197265625, 0.02911376953125, 0.043701171875, 0.052703857421875, 0.0540771484375, 0.05633544921875, 0.057891845703125, 0.0433349609375, 0.0045166015625, -0.044036865234375, -0.08050537109375, -0.100982666015625, -0.117889404296875, -0.13470458984375, -0.135498046875, -0.107147216796875, -0.0601806640625, -0.016082763671875, 0.019866943359375, 0.0589599609375, 0.103485107421875, 0.136566162109375, 0.143280029296875, 0.130523681640625, 0.115325927734375, 0.101165771484375, 0.07781982421875, 0.04205322265625, 0.00640869140625, -0.015350341796875, -0.02252197265625, -0.022705078125, -0.020233154296875, -0.01470947265625, -0.007904052734375, -0.005035400390625, -0.009735107421875, -0.021087646484375, -0.03533935546875, -0.048065185546875, -0.0550537109375, -0.053558349609375, -0.0428466796875, -0.022674560546875, 0.006591796875, 0.040618896484375, 0.0704345703125, 0.08892822265625, 0.0965576171875, 0.09698486328125, 0.0888671875, 0.067291259765625, 0.033294677734375, -0.003173828125, -0.031494140625, -0.04736328125, -0.051177978515625, -0.044189453125, -0.02972412109375, -0.01324462890625, 0.002197265625, 0.0184326171875, 0.03546142578125, 0.0474853515625, 0.049835205078125, 0.046142578125, 0.0423583984375, 0.037017822265625, 0.02593994140625, 0.014923095703125, 0.0159912109375, 0.029754638671875, 0.04144287109375, 0.041015625, 0.036285400390625, 0.038421630859375, 0.04241943359375, 0.034759521484375, 0.015594482421875, 0.000335693359375, -0.000640869140625, 0.007781982421875, 0.017822265625, 0.027587890625, 0.031524658203125, 0.01348876953125, -0.038543701171875, -0.1158447265625, -0.195465087890625, -0.259613037109375, -0.301177978515625, -0.313446044921875, -0.28857421875, -0.22833251953125, -0.147613525390625, -0.06219482421875, 0.021270751953125, 0.09954833984375, 0.163238525390625, 0.198974609375, 0.20025634765625, 0.17303466796875, 0.13128662109375, 0.08935546875, 0.055023193359375, 0.028900146484375, 0.01019287109375, 0.002288818359375, 0.00775146484375, 0.018157958984375, 0.017333984375, -0.00128173828125, -0.02783203125, -0.052215576171875, -0.079071044921875, -0.1168212890625, -0.15679931640625, -0.177032470703125, -0.167633056640625, -0.138885498046875, -0.10113525390625, -0.050079345703125, 0.019683837890625, 0.095001220703125, 0.15216064453125, 0.179931640625, 0.185150146484375, 0.176544189453125, 0.1539306640625, 0.115081787109375, 0.066009521484375, 0.01806640625, -0.01983642578125, -0.044647216796875, -0.0574951171875, -0.060760498046875, -0.05499267578125, -0.0391845703125, -0.017486572265625, -0.002349853515625, -0.004364013671875, -0.01953125, -0.03424072265625, -0.0440673828125, -0.05706787109375, -0.074920654296875, -0.082733154296875, -0.066192626953125, -0.0303955078125, 0.009246826171875, 0.04779052734375, 0.088134765625, 0.121826171875, 0.13092041015625, 0.1121826171875, 0.08319091796875, 0.05706787109375, 0.026123046875, -0.01885986328125, -0.0643310546875, -0.086090087890625, -0.0787353515625, -0.05853271484375, -0.03753662109375, -0.012603759765625, 0.018310546875, 0.044281005859375, 0.054931640625, 0.05419921875, 0.052093505859375, 0.04974365234375, 0.04193115234375, 0.029541015625, 0.019866943359375, 0.017547607421875, 0.023162841796875, 0.0362548828125, 0.052703857421875, 0.062286376953125, 0.058624267578125, 0.04931640625, 0.04595947265625, 0.046600341796875, 0.03936767578125, 0.02447509765625, 0.017669677734375, 0.026519775390625, 0.037445068359375, 0.036041259765625, 0.025726318359375, 0.012664794921875, -0.016448974609375, -0.081207275390625, -0.173828125, -0.2591552734375, -0.311431884765625, -0.333038330078125, -0.331298828125, -0.296539306640625, -0.219757080078125, -0.117767333984375, -0.02117919921875, 0.05841064453125, 0.129791259765625, 0.191680908203125, 0.221466064453125, 0.203460693359375, 0.15240478515625, 0.097198486328125, 0.050750732421875, 0.009735107421875, -0.02313232421875, -0.033233642578125, -0.014556884765625, 0.016754150390625, 0.03692626953125, 0.03717041015625, 0.025787353515625, 0.01055908203125, -0.0142822265625, -0.059661865234375, -0.123291015625, -0.182586669921875, -0.20965576171875, -0.193572998046875, -0.1466064453125, -0.08642578125, -0.018524169921875, 0.0592041015625, 0.138275146484375, 0.196868896484375, 0.219451904296875, 0.21124267578125, 0.186737060546875, 0.150177001953125, 0.0975341796875, 0.034820556640625, -0.017059326171875, -0.041290283203125, -0.0416259765625, -0.03466796875, -0.029266357421875, -0.0220947265625, -0.01165771484375, -0.007659912109375, -0.020965576171875, -0.049591064453125, -0.07989501953125, -0.101654052734375, -0.11541748046875, -0.12298583984375, -0.117095947265625, -0.0875244140625, -0.036590576171875, 0.0189208984375, 0.064208984375, 0.099029541015625, 0.128662109375, 0.148162841796875, 0.14483642578125, 0.116363525390625, 0.076629638671875, 0.0399169921875, 0.00714111328125, -0.025787353515625, -0.052520751953125, -0.06036376953125, -0.048431396484375, -0.0311279296875, -0.020965576171875, -0.01470947265625, -0.00311279296875, 0.01287841796875, 0.021942138671875, 0.01763916015625, 0.0062255859375, -0.000457763671875, 0.003570556640625, 0.0159912109375, 0.03106689453125, 0.0460205078125, 0.062408447265625, 0.08184814453125, 0.100372314453125, 0.109588623046875, 0.10546875, 0.093780517578125, 0.08233642578125, 0.0699462890625, 0.0499267578125, 0.02410888671875, 0.00628662109375, 0.00677490234375, 0.020660400390625, 0.03521728515625, 0.043670654296875, 0.042633056640625, 0.02130126953125, -0.03424072265625, -0.1220703125, -0.2191162109375, -0.29937744140625, -0.350555419921875, -0.369659423828125, -0.35028076171875, -0.287109375, -0.189453125, -0.07928466796875, 0.025787353515625, 0.119476318359375, 0.194549560546875, 0.23468017578125, 0.228515625, 0.18634033203125, 0.13348388671875, 0.08734130859375, 0.04852294921875, 0.0157470703125, -0.0020751953125, 0.00439453125, 0.0281982421875, 0.04791259765625, 0.047760009765625, 0.029754638671875, 0.00341796875, -0.030853271484375, -0.08123779296875, -0.146942138671875, -0.206878662109375, -0.232086181640625, -0.210540771484375, -0.156036376953125, -0.0911865234375, -0.0250244140625, 0.047149658203125, 0.1239013671875, 0.186798095703125, 0.216064453125, 0.211181640625, 0.188385009765625, 0.158203125, 0.116424560546875, 0.061614990234375, 0.009857177734375, -0.018280029296875, -0.02191162109375, -0.018890380859375, -0.020782470703125, -0.021392822265625, -0.01446533203125, -0.01116943359375, -0.026885986328125, -0.05816650390625, -0.0850830078125, -0.096923828125, -0.101165771484375, -0.104339599609375, -0.0970458984375, -0.067535400390625, -0.022064208984375, 0.020904541015625, 0.052978515625, 0.08050537109375, 0.10723876953125, 0.123321533203125, 0.117706298828125, 0.093353271484375, 0.064666748046875, 0.0416259765625, 0.023681640625, 0.005340576171875, -0.014495849609375, -0.030364990234375, -0.035003662109375, -0.02789306640625, -0.01873779296875, -0.01837158203125, -0.025482177734375, -0.0279541015625, -0.019683837890625, -0.009002685546875, -0.00482177734375, -0.002166748046875, 0.009521484375, 0.028564453125, 0.043670654296875, 0.051605224609375, 0.059600830078125, 0.069244384765625, 0.071929931640625, 0.065673828125, 0.06182861328125, 0.06671142578125, 0.06976318359375, 0.0616455078125, 0.0523681640625, 0.055816650390625, 0.063446044921875, 0.055206298828125, 0.033721923828125, 0.024200439453125, 0.036376953125, 0.04742431640625, 0.034027099609375, 0.000732421875, -0.039794921875, -0.096405029296875, -0.183624267578125, -0.28363037109375, -0.352783203125, -0.368316650390625, -0.346221923828125, -0.306121826171875, -0.24237060546875, -0.14508056640625, -0.0313720703125, 0.06536865234375, 0.13092041015625, 0.174468994140625, 0.20098876953125, 0.199066162109375, 0.1627197265625, 0.109344482421875, 0.065673828125, 0.04254150390625, 0.032257080078125, 0.02606201171875, 0.0244140625, 0.029632568359375, 0.034515380859375, 0.024383544921875, -0.008636474609375, -0.055572509765625, -0.099517822265625, -0.13446044921875, -0.168182373046875, -0.2015380859375, -0.21319580078125, -0.179656982421875, -0.108184814453125, -0.033172607421875, 0.02508544921875, 0.08062744140625, 0.149444580078125, 0.212371826171875, 0.233184814453125, 0.207244873046875, 0.167694091796875, 0.13909912109375, 0.1083984375, 0.05572509765625, -0.004058837890625, -0.034698486328125, -0.026763916015625, -0.010284423828125, -0.014068603515625, -0.03143310546875, -0.038238525390625, -0.032318115234375, -0.036956787109375, -0.065460205078125, -0.100067138671875, -0.113739013671875, -0.1033935546875, -0.08795166015625, -0.0767822265625, -0.0557861328125, -0.011383056640625, 0.04388427734375, 0.083770751953125, 0.101318359375, 0.11285400390625, 0.1275634765625, 0.1302490234375, 0.10614013671875, 0.0672607421875, 0.0382080078125, 0.022125244140625, 0.001495361328125, -0.027923583984375, -0.046234130859375, -0.0404052734375, -0.027099609375, -0.029052734375, -0.041351318359375, -0.04095458984375, -0.02294921875, -0.00732421875, -0.007354736328125, -0.010711669921875, 0.000579833984375, 0.025604248046875, 0.050048828125, 0.066802978515625, 0.079803466796875, 0.09149169921875, 0.0986328125, 0.09869384765625, 0.092132568359375, 0.079376220703125, 0.062408447265625, 0.047821044921875, 0.04144287109375, 0.0400390625, 0.03692626953125, 0.034088134765625, 0.040008544921875, 0.054443359375, 0.06488037109375, 0.06109619140625, 0.042877197265625, 0.00860595703125, -0.0518798828125, -0.141357421875, -0.239288330078125, -0.315460205078125, -0.357513427734375, -0.3709716796875, -0.355712890625, -0.29949951171875, -0.2025146484375, -0.09185791015625, 0.002288818359375, 0.076263427734375, 0.143890380859375, 0.20330810546875, 0.2318115234375, 0.217193603515625, 0.177581787109375, 0.139923095703125, 0.111114501953125, 0.08233642578125, 0.054901123046875, 0.043212890625, 0.051544189453125, 0.061981201171875, 0.053375244140625, 0.023101806640625, -0.017913818359375, -0.063446044921875, -0.113922119140625, -0.165008544921875, -0.204833984375, -0.224090576171875, -0.219970703125, -0.188140869140625, -0.123687744140625, -0.034637451171875, 0.05413818359375, 0.121490478515625, 0.1685791015625, 0.206451416015625, 0.229736328125, 0.219207763671875, 0.17303466796875, 0.118438720703125, 0.08221435546875, 0.060791015625, 0.034515380859375, 0.00390625, -0.00830078125, 0.005706787109375, 0.0198974609375, 0.005096435546875, -0.0335693359375, -0.06634521484375, -0.08099365234375, -0.095428466796875, -0.124542236328125, -0.152374267578125, -0.151092529296875, -0.118621826171875, -0.079681396484375, -0.050933837890625, -0.021759033203125, 0.022613525390625, 0.072540283203125, 0.1029052734375, 0.106170654296875, 0.099517822265625, 0.09771728515625, 0.0941162109375, 0.076629638671875, 0.050872802734375, 0.032958984375, 0.024566650390625, 0.011810302734375, -0.010040283203125, -0.02752685546875, -0.030731201171875, -0.030670166015625, -0.041351318359375, -0.05535888671875, -0.05267333984375, -0.030914306640625, -0.0093994140625, -0.000885009765625, 0.005462646484375, 0.025299072265625, 0.055206298828125, 0.0787353515625, 0.087921142578125, 0.0885009765625, 0.08770751953125, 0.086639404296875, 0.084014892578125, 0.0784912109375, 0.06903076171875, 0.058837890625, 0.05621337890625, 0.062774658203125, 0.06500244140625, 0.0498046875, 0.02569580078125, 0.014617919921875, 0.0201416015625, 0.020355224609375, -0.001495361328125, -0.036651611328125, -0.073699951171875, -0.123565673828125, -0.2003173828125, -0.285400390625, -0.3372802734375, -0.337371826171875, -0.3046875, -0.259552001953125, -0.19610595703125, -0.104583740234375, -0.001220703125, 0.084869384765625, 0.144287109375, 0.1866455078125, 0.2122802734375, 0.2073974609375, 0.1705322265625, 0.1246337890625, 0.0928955078125, 0.076263427734375, 0.063751220703125, 0.05401611328125, 0.053436279296875, 0.057708740234375, 0.04949951171875, 0.016571044921875, -0.034881591796875, -0.08819580078125, -0.132720947265625, -0.17034912109375, -0.20538330078125, -0.23028564453125, -0.2249755859375, -0.1759033203125, -0.09600830078125, -0.017059326171875, 0.04229736328125, 0.0914306640625, 0.1434326171875, 0.18603515625, 0.1942138671875, 0.167510986328125, 0.1358642578125, 0.121185302734375, 0.111236572265625, 0.0848388671875, 0.049774169921875, 0.035003662109375, 0.048004150390625, 0.0606689453125, 0.044586181640625, 0.00604248046875, -0.028106689453125, -0.04913330078125, -0.073089599609375, -0.109771728515625, -0.1417236328125, -0.145263671875, -0.12200927734375, -0.09527587890625, -0.076324462890625, -0.051788330078125, -0.01153564453125, 0.02764892578125, 0.042633056640625, 0.0399169921875, 0.04931640625, 0.0784912109375, 0.098602294921875, 0.087677001953125, 0.0662841796875, 0.06671142578125, 0.082000732421875, 0.075531005859375, 0.03961181640625, 0.008941650390625, 0.00555419921875, 0.003936767578125, -0.025146484375, -0.06195068359375, -0.0634765625, -0.02960205078125, -0.003753662109375, -0.007080078125, -0.009857177734375, 0.01708984375, 0.05560302734375, 0.069854736328125, 0.060028076171875, 0.055511474609375, 0.0665283203125, 0.074188232421875, 0.067626953125, 0.060882568359375, 0.065948486328125, 0.073211669921875, 0.071319580078125, 0.066162109375, 0.067291259765625, 0.069091796875, 0.061981201171875, 0.0517578125, 0.050537109375, 0.0543212890625, 0.04534912109375, 0.013580322265625, -0.03778076171875, -0.105377197265625, -0.187164306640625, -0.269775390625, -0.32965087890625, -0.352325439453125, -0.34088134765625, -0.302001953125, -0.23736572265625, -0.154296875, -0.071502685546875, -0.0040283203125, 0.04925537109375, 0.09271240234375, 0.118804931640625, 0.118377685546875, 0.10076904296875, 0.0885009765625, 0.092987060546875, 0.107818603515625, 0.12481689453125, 0.1434326171875, 0.160400390625, 0.162628173828125, 0.13909912109375, 0.092620849609375, 0.03387451171875, -0.02972412109375, -0.094451904296875, -0.154632568359375, -0.202606201171875, -0.229949951171875, -0.227020263671875, -0.189056396484375, -0.127716064453125, -0.067718505859375, -0.0235595703125, 0.012969970703125, 0.052734375, 0.085357666015625, 0.091705322265625, 0.076568603515625, 0.06787109375, 0.07989501953125, 0.09490966796875, 0.092742919921875, 0.082275390625, 0.08660888671875, 0.10516357421875, 0.11151123046875, 0.08831787109375, 0.048126220703125, 0.01251220703125, -0.015838623046875, -0.048370361328125, -0.086029052734375, -0.112945556640625, -0.116729736328125, -0.104949951171875, -0.09442138671875, -0.088623046875, -0.075836181640625, -0.050994873046875, -0.0281982421875, -0.02227783203125, -0.023162841796875, -0.005401611328125, 0.0345458984375, 0.068817138671875, 0.075408935546875, 0.0704345703125, 0.08294677734375, 0.107452392578125, 0.1087646484375, 0.074554443359375, 0.034942626953125, 0.01702880859375, 0.00665283203125, -0.022125244140625, -0.058135986328125, -0.065948486328125, -0.041107177734375, -0.01800537109375, -0.0181884765625, -0.02081298828125, 0.000274658203125, 0.03485107421875, 0.053741455078125, 0.05279541015625, 0.053558349609375, 0.06622314453125, 0.076995849609375, 0.074676513671875, 0.067962646484375, 0.06854248046875, 0.073150634765625, 0.0718994140625, 0.06500244140625, 0.06036376953125, 0.0609130859375, 0.0623779296875, 0.061004638671875, 0.057647705078125, 0.05511474609375, 0.052978515625, 0.04205322265625, 0.005279541015625, -0.066009521484375, -0.155792236328125, -0.233978271484375, -0.2861328125, -0.3197021484375, -0.335845947265625, -0.3145751953125, -0.24554443359375, -0.1573486328125, -0.090789794921875, -0.049346923828125, -0.004791259765625, 0.04833984375, 0.07733154296875, 0.06304931640625, 0.037078857421875, 0.041229248046875, 0.07110595703125, 0.091888427734375, 0.097442626953125, 0.1170654296875, 0.160186767578125, 0.190887451171875, 0.1739501953125, 0.1207275390625, 0.0662841796875, 0.02001953125, -0.03515625, -0.102447509765625, -0.157806396484375, -0.179595947265625, -0.17156982421875, -0.14898681640625, -0.1192626953125, -0.084381103515625, -0.051422119140625, -0.02764892578125, -0.012420654296875, -0.001312255859375, 0.006011962890625, 0.010223388671875, 0.0186767578125, 0.038299560546875, 0.0645751953125, 0.087127685546875, 0.104217529296875, 0.121826171875, 0.138336181640625, 0.140472412109375, 0.120025634765625, 0.0853271484375, 0.050872802734375, 0.020721435546875, -0.0096435546875, -0.03912353515625, -0.058685302734375, -0.064605712890625, -0.0653076171875, -0.06988525390625, -0.076507568359375, -0.077728271484375, -0.07464599609375, -0.075714111328125, -0.0810546875, -0.076019287109375, -0.048370361328125, -0.006317138671875, 0.029937744140625, 0.053009033203125, 0.074005126953125, 0.1002197265625, 0.118743896484375, 0.112884521484375, 0.0872802734375, 0.0626220703125, 0.04718017578125, 0.029022216796875, 0.001007080078125, -0.023284912109375, -0.028045654296875, -0.019012451171875, -0.01373291015625, -0.01580810546875, -0.013824462890625, -0.004638671875, 0.001190185546875, 0.0, 0.00372314453125, 0.020355224609375, 0.0391845703125, 0.047607421875, 0.05133056640625, 0.063323974609375, 0.079986572265625, 0.0850830078125, 0.075103759765625, 0.0633544921875, 0.058013916015625, 0.0518798828125, 0.0400390625, 0.032745361328125, 0.040771484375, 0.058807373046875, 0.0714111328125, 0.067840576171875, 0.04168701171875, -0.0147705078125, -0.10107421875, -0.19793701171875, -0.2786865234375, -0.329803466796875, -0.34967041015625, -0.3336181640625, -0.277618408203125, -0.196868896484375, -0.12060546875, -0.061492919921875, -0.007049560546875, 0.0496826171875, 0.088134765625, 0.086700439453125, 0.05853271484375, 0.03955078125, 0.045623779296875, 0.06292724609375, 0.08099365234375, 0.110870361328125, 0.15966796875, 0.20623779296875, 0.219879150390625, 0.194732666015625, 0.149200439453125, 0.09747314453125, 0.037200927734375, -0.0325927734375, -0.097198486328125, -0.136688232421875, -0.144378662109375, -0.12835693359375, -0.1007080078125, -0.07037353515625, -0.043548583984375, -0.024810791015625, -0.01641845703125, -0.0181884765625, -0.027069091796875, -0.03582763671875, -0.036590576171875, -0.0269775390625, -0.011199951171875, 0.007598876953125, 0.03265380859375, 0.06658935546875, 0.10125732421875, 0.120452880859375, 0.115264892578125, 0.092742919921875, 0.06658935546875, 0.04339599609375, 0.021697998046875, 0.001617431640625, -0.010986328125, -0.013458251953125, -0.01287841796875, -0.0184326171875, -0.02923583984375, -0.0367431640625, -0.038238525390625, -0.041290283203125, -0.049774169921875, -0.05401611328125, -0.041778564453125, -0.0162353515625, 0.00592041015625, 0.014801025390625, 0.017425537109375, 0.02423095703125, 0.03350830078125, 0.035369873046875, 0.025970458984375, 0.011474609375, -0.00115966796875, -0.010040283203125, -0.015838623046875, -0.0184326171875, -0.0177001953125, -0.01434326171875, -0.00872802734375, -0.001312255859375, 0.005584716796875, 0.009429931640625, 0.0113525390625, 0.015350341796875, 0.02288818359375, 0.03167724609375, 0.039794921875, 0.0477294921875, 0.055267333984375, 0.05908203125, 0.057159423828125, 0.05218505859375, 0.04803466796875, 0.044219970703125, 0.03643798828125, 0.022796630859375, 0.008026123046875, 0.000213623046875, 0.003204345703125, 0.011322021484375, 0.013916015625, 0.00732421875, -0.002349853515625, -0.011627197265625, -0.0308837890625, -0.072540283203125, -0.128662109375, -0.1732177734375, -0.1915283203125, -0.193359375, -0.189849853515625, -0.17022705078125, -0.12127685546875, -0.0595703125, -0.01995849609375, -0.010986328125, -0.006500244140625, 0.01031494140625, 0.019287109375, -0.002410888671875, -0.037506103515625, -0.046905517578125, -0.021636962890625, 0.010223388671875, 0.029144287109375, 0.04742431640625, 0.078125, 0.105224609375, 0.103851318359375, 0.075927734375, 0.04559326171875, 0.025115966796875, 0.005767822265625, -0.018402099609375, -0.0364990234375, -0.035736083984375, -0.017547607421875, 0.007110595703125, 0.029388427734375, 0.04315185546875, 0.04315185546875, 0.0306396484375, 0.015777587890625, 0.006988525390625, 0.001739501953125, -0.005157470703125, -0.009765625, -0.00341796875, 0.01287841796875, 0.027740478515625, 0.034942626953125, 0.03961181640625, 0.045684814453125, 0.04644775390625, 0.033447265625, 0.011016845703125, -0.00689697265625, -0.013214111328125, -0.01312255859375, -0.013153076171875, -0.01123046875, -0.002349853515625, 0.0106201171875, 0.018218994140625, 0.01568603515625, 0.0076904296875, 0.00030517578125, -0.006591796875, -0.015777587890625, -0.024261474609375, -0.024078369140625, -0.012664794921875, 0.0020751953125, 0.011138916015625, 0.01593017578125, 0.0245361328125, 0.036285400390625, 0.038604736328125, 0.0235595703125, 0.00177001953125, -0.008575439453125, -0.005279541015625, -0.0035400390625, -0.011199951171875, -0.0152587890625, -0.001983642578125, 0.01983642578125, 0.029815673828125, 0.025909423828125, 0.025604248046875, 0.0360107421875, 0.041290283203125, 0.029083251953125, 0.01312255859375, 0.013031005859375, 0.023895263671875, 0.0255126953125, 0.017425537109375, 0.0206298828125, 0.042266845703125, 0.06158447265625, 0.0601806640625, 0.04730224609375, 0.041748046875, 0.0440673828125, 0.0439453125, 0.04193115234375, 0.04559326171875, 0.050537109375, 0.0462646484375, 0.0361328125, 0.030975341796875, 0.0244140625, -0.001739501953125, -0.045013427734375, -0.0804443359375, -0.09716796875, -0.112030029296875, -0.132904052734375, -0.1370849609375, -0.10821533203125, -0.072113037109375, -0.06365966796875, -0.073516845703125, -0.064971923828125, -0.037017822265625, -0.030426025390625, -0.06341552734375, -0.100921630859375, -0.106048583984375, -0.08819580078125, -0.073883056640625, -0.058380126953125, -0.021209716796875, 0.02691650390625, 0.052947998046875, 0.05267333984375, 0.055328369140625, 0.07244873046875, 0.078338623046875, 0.053741455078125, 0.019683837890625, 0.007110595703125, 0.014862060546875, 0.023406982421875, 0.031219482421875, 0.05059814453125, 0.075531005859375, 0.083282470703125, 0.068450927734375, 0.0504150390625, 0.04193115234375, 0.0316162109375, 0.0076904296875, -0.0191650390625, -0.030517578125, -0.02569580078125, -0.017608642578125, -0.01129150390625, -0.00189208984375, 0.009429931640625, 0.0128173828125, 0.0042724609375, -0.0076904296875, -0.014495849609375, -0.017303466796875, -0.021270751953125, -0.02606201171875, -0.0277099609375, -0.024871826171875, -0.01947021484375, -0.012237548828125, -0.00341796875, 0.00433349609375, 0.00689697265625, 0.003265380859375, -0.0032958984375, -0.0079345703125, -0.00787353515625, -0.003021240234375, 0.0040283203125, 0.009979248046875, 0.01397705078125, 0.01812744140625, 0.02294921875, 0.024139404296875, 0.017303466796875, 0.005279541015625, -0.003082275390625, -0.00396728515625, -0.003021240234375, -0.0050048828125, -0.004638671875, 0.00537109375, 0.020172119140625, 0.025726318359375, 0.019134521484375, 0.014495849609375, 0.0233154296875, 0.037017822265625, 0.039093017578125, 0.029327392578125, 0.022796630859375, 0.02667236328125, 0.031463623046875, 0.02850341796875, 0.023040771484375, 0.022918701171875, 0.025604248046875, 0.025848388671875, 0.027099609375, 0.033966064453125, 0.039703369140625, 0.035064697265625, 0.02459716796875, 0.01995849609375, 0.018218994140625, 0.003021240234375, -0.030731201171875, -0.068267822265625, -0.09588623046875, -0.114654541015625, -0.127288818359375, -0.127349853515625, -0.11322021484375, -0.099456787109375, -0.097869873046875, -0.098297119140625, -0.085296630859375, -0.067474365234375, -0.06793212890625, -0.0892333984375, -0.10870361328125, -0.111053466796875, -0.10345458984375, -0.092193603515625, -0.067291259765625, -0.0244140625, 0.016937255859375, 0.036834716796875, 0.04302978515625, 0.055450439453125, 0.0716552734375, 0.071044921875, 0.049713134765625, 0.02838134765625, 0.022308349609375, 0.025390625, 0.0299072265625, 0.04205322265625, 0.065216064453125, 0.08447265625, 0.083892822265625, 0.069671630859375, 0.05950927734375, 0.05560302734375, 0.0438232421875, 0.01873779296875, -0.00634765625, -0.016876220703125, -0.01275634765625, -0.003204345703125, 0.00555419921875, 0.01275634765625, 0.018096923828125, 0.020050048828125, 0.016265869140625, 0.00604248046875, -0.00726318359375, -0.017059326171875, -0.02154541015625, -0.02685546875, -0.036346435546875, -0.0419921875, -0.034332275390625, -0.01861572265625, -0.009429931640625, -0.0089111328125, -0.0050048828125, 0.00634765625, 0.0125732421875, 0.005401611328125, -0.00341796875, 0.0001220703125, 0.011138916015625, 0.016143798828125, 0.0162353515625, 0.023223876953125, 0.03704833984375, 0.04541015625, 0.04473876953125, 0.04345703125, 0.043914794921875, 0.03802490234375, 0.025909423828125, 0.02044677734375, 0.02587890625, 0.02783203125, 0.017547607421875, 0.0089111328125, 0.017059326171875, 0.031951904296875, 0.033477783203125, 0.02386474609375, 0.023223876953125, 0.03582763671875, 0.044036865234375, 0.038116455078125, 0.0306396484375, 0.03375244140625, 0.04046630859375, 0.0396728515625, 0.035003662109375, 0.035400390625, 0.038421630859375, 0.0374755859375, 0.036041259765625, 0.041259765625, 0.047943115234375, 0.043792724609375, 0.02703857421875, 0.004486083984375, -0.023284912109375, -0.059539794921875, -0.096466064453125, -0.1187744140625, -0.12445068359375, -0.126373291015625, -0.128662109375, -0.1190185546875, -0.092132568359375, -0.065216064453125, -0.057342529296875, -0.0657958984375, -0.076385498046875, -0.08648681640625, -0.10137939453125, -0.113677978515625, -0.1075439453125, -0.082244873046875, -0.053741455078125, -0.030029296875, -0.001739501953125, 0.036224365234375, 0.069000244140625, 0.07904052734375, 0.0684814453125, 0.052581787109375, 0.038818359375, 0.025726318359375, 0.016021728515625, 0.0177001953125, 0.031219482421875, 0.047210693359375, 0.058990478515625, 0.068389892578125, 0.0772705078125, 0.081146240234375, 0.074920654296875, 0.059326171875, 0.038360595703125, 0.01605224609375, -0.001495361328125, -0.007598876953125, -0.00244140625, 0.005767822265625, 0.011138916015625, 0.01727294921875, 0.028167724609375, 0.037017822265625, 0.032745361328125, 0.014923095703125, -0.005096435546875, -0.019012451171875, -0.029632568359375, -0.041595458984375, -0.051605224609375, -0.05303955078125, -0.045867919921875, -0.036224365234375, -0.027587890625, -0.018524169921875, -0.00897216796875, -0.003265380859375, -0.004913330078125, -0.011444091796875, -0.017059326171875, -0.018798828125, -0.017181396484375, -0.01226806640625, -0.0030517578125, 0.008941650390625, 0.019775390625, 0.027435302734375, 0.03363037109375, 0.03900146484375, 0.039154052734375, 0.03057861328125, 0.017974853515625, 0.010650634765625, 0.011138916015625, 0.013397216796875, 0.0133056640625, 0.01556396484375, 0.025177001953125, 0.037841796875, 0.04522705078125, 0.04693603515625, 0.048675537109375, 0.050811767578125, 0.0467529296875, 0.036163330078125, 0.0294189453125, 0.034454345703125, 0.04541015625, 0.051025390625, 0.050079345703125, 0.05059814453125, 0.055999755859375, 0.06103515625, 0.0614013671875, 0.059661865234375, 0.058258056640625, 0.052032470703125, 0.03369140625, 0.00360107421875, -0.029052734375, -0.054779052734375, -0.071807861328125, -0.085693359375, -0.10174560546875, -0.11798095703125, -0.12664794921875, -0.123626708984375, -0.11376953125, -0.104248046875, -0.095916748046875, -0.086578369140625, -0.080108642578125, -0.08258056640625, -0.089324951171875, -0.0867919921875, -0.071380615234375, -0.055816650390625, -0.049530029296875, -0.0418701171875, -0.01788330078125, 0.016876220703125, 0.0421142578125, 0.051361083984375, 0.05731201171875, 0.0670166015625, 0.069305419921875, 0.055419921875, 0.036956787109375, 0.03057861328125, 0.03448486328125, 0.035858154296875, 0.03399658203125, 0.03985595703125, 0.0540771484375, 0.063232421875, 0.060150146484375, 0.05322265625, 0.04931640625, 0.041534423828125, 0.0225830078125, 0.000335693359375, -0.011505126953125, -0.01171875, -0.00848388671875, -0.004302978515625, 0.0048828125, 0.016754150390625, 0.022125244140625, 0.0189208984375, 0.0152587890625, 0.015533447265625, 0.01214599609375, -0.001678466796875, -0.01934814453125, -0.0286865234375, -0.0283203125, -0.02740478515625, -0.030609130859375, -0.0316162109375, -0.023284912109375, -0.00872802734375, 0.002227783203125, 0.004486083984375, 0.00189208984375, 0.001129150390625, 0.00360107421875, 0.004974365234375, 0.001861572265625, -0.00262451171875, -0.001922607421875, 0.006256103515625, 0.01702880859375, 0.02423095703125, 0.02642822265625, 0.026397705078125, 0.02587890625, 0.023773193359375, 0.0185546875, 0.010955810546875, 0.003509521484375, -0.000213623046875, 0.00201416015625, 0.00836181640625, 0.014312744140625, 0.018157958984375, 0.023193359375, 0.03179931640625, 0.03955078125, 0.0399169921875, 0.03363037109375, 0.02862548828125, 0.030120849609375, 0.035247802734375, 0.039581298828125, 0.042724609375, 0.045806884765625, 0.04742431640625, 0.04693603515625, 0.047882080078125, 0.053009033203125, 0.0584716796875, 0.0577392578125, 0.048309326171875, 0.03045654296875, 0.0025634765625, -0.034820556640625, -0.072113037109375, -0.097198486328125, -0.10955810546875, -0.119140625, -0.129791259765625, -0.13238525390625, -0.12030029296875, -0.101837158203125, -0.089935302734375, -0.085693359375, -0.082672119140625, -0.08160400390625, -0.08843994140625, -0.09869384765625, -0.097198486328125, -0.077239990234375, -0.0489501953125, -0.023345947265625, 0.001708984375, 0.031646728515625, 0.060546875, 0.0765380859375, 0.07818603515625, 0.073699951171875, 0.065887451171875, 0.05047607421875, 0.0299072265625, 0.017242431640625, 0.02154541015625, 0.036590576171875, 0.051483154296875, 0.064056396484375, 0.077117919921875, 0.0870361328125, 0.085723876953125, 0.072235107421875, 0.053680419921875, 0.0352783203125, 0.016021728515625, -0.003448486328125, -0.0159912109375, -0.015289306640625, -0.00299072265625, 0.01397705078125, 0.029815673828125, 0.0396728515625, 0.0386962890625, 0.025482177734375, 0.006378173828125, -0.01019287109375, -0.021881103515625, -0.032257080078125, -0.042022705078125, -0.04632568359375, -0.041839599609375, -0.0321044921875, -0.0238037109375, -0.019561767578125, -0.01788330078125, -0.017913818359375, -0.0211181640625, -0.027252197265625, -0.032684326171875, -0.033050537109375, -0.027313232421875, -0.017822265625, -0.00732421875, 0.00311279296875, 0.0133056640625, 0.0225830078125, 0.0294189453125, 0.032745361328125, 0.032562255859375, 0.02984619140625, 0.025909423828125, 0.022613525390625, 0.021331787109375, 0.022186279296875, 0.024139404296875, 0.0263671875, 0.029266357421875, 0.033172607421875, 0.036956787109375, 0.0389404296875, 0.038543701171875, 0.036224365234375, 0.032470703125, 0.0284423828125, 0.02685546875, 0.029876708984375, 0.036163330078125, 0.041717529296875, 0.0447998046875, 0.04693603515625, 0.048583984375, 0.047637939453125, 0.0433349609375, 0.03973388671875, 0.040374755859375, 0.04168701171875, 0.035980224609375, 0.0201416015625, -0.0015869140625, -0.024566650390625, -0.0474853515625, -0.070098876953125, -0.090301513671875, -0.106475830078125, -0.11895751953125, -0.1265869140625, -0.125579833984375, -0.11572265625, -0.10382080078125, -0.096435546875, -0.09259033203125, -0.08795166015625, -0.08416748046875, -0.0865478515625, -0.09320068359375, -0.0936279296875, -0.08148193359375, -0.06182861328125, -0.041961669921875, -0.021514892578125, 0.003204345703125, 0.02886962890625, 0.046966552734375, 0.0545654296875, 0.055450439453125, 0.051849365234375, 0.0418701171875, 0.0279541015625, 0.019622802734375, 0.02362060546875, 0.035308837890625, 0.045806884765625, 0.052947998046875, 0.060333251953125, 0.06719970703125, 0.067291259765625, 0.0574951171875, 0.042083740234375, 0.02630615234375, 0.010467529296875, -0.00579833984375, -0.017547607421875, -0.017822265625, -0.006103515625, 0.010009765625, 0.02227783203125, 0.027557373046875, 0.026641845703125, 0.020355224609375, 0.009246826171875, -0.0045166015625, -0.0172119140625, -0.02593994140625, -0.0302734375, -0.031341552734375, -0.0294189453125, -0.023590087890625, -0.01336669921875, -0.001708984375, 0.00506591796875, 0.002593994140625, -0.00677490234375, -0.01507568359375, -0.0166015625, -0.012786865234375, -0.008209228515625, -0.003692626953125, 0.00390625, 0.01531982421875, 0.026458740234375, 0.033050537109375, 0.03594970703125, 0.0379638671875, 0.037872314453125, 0.031829833984375, 0.01995849609375, 0.008453369140625, 0.002227783203125, 6.103515625e-05, -0.00115966796875, -0.000152587890625, 0.00592041015625, 0.014923095703125, 0.02056884765625, 0.021240234375, 0.022064208984375, 0.026611328125, 0.0316162109375, 0.03216552734375, 0.029510498046875, 0.028961181640625, 0.032440185546875, 0.037750244140625, 0.043182373046875, 0.04876708984375, 0.053314208984375, 0.054901123046875, 0.054443359375, 0.054351806640625, 0.05389404296875, 0.049774169921875, 0.042022705078125, 0.0338134765625, 0.023040771484375, 0.001373291015625, -0.033538818359375, -0.07061767578125, -0.096466064453125, -0.1104736328125, -0.12127685546875, -0.130279541015625, -0.129669189453125, -0.116912841796875, -0.101226806640625, -0.091522216796875, -0.08642578125, -0.081695556640625, -0.080352783203125, -0.08685302734375, -0.095947265625, -0.09661865234375, -0.085357666015625, -0.067291259765625, -0.04522705078125, -0.01702880859375, 0.01495361328125, 0.04119873046875, 0.0560302734375, 0.06396484375, 0.069549560546875, 0.06854248046875, 0.055633544921875, 0.03680419921875, 0.025787353515625, 0.02880859375, 0.040008544921875, 0.051239013671875, 0.060302734375, 0.0675048828125, 0.0714111328125, 0.0703125, 0.064697265625, 0.055450439453125, 0.04229736328125, 0.026336669921875, 0.011566162109375, 0.001617431640625, -0.002410888671875, -0.000457763671875, 0.00750732421875, 0.01849365234375, 0.025665283203125, 0.023895263671875, 0.014556884765625, 0.002685546875, -0.00836181640625, -0.017578125, -0.024627685546875, -0.029510498046875, -0.032379150390625, -0.032012939453125, -0.026123046875, -0.01666259765625, -0.010833740234375, -0.012542724609375, -0.0162353515625, -0.014923095703125, -0.01153564453125, -0.014251708984375, -0.021331787109375, -0.021453857421875, -0.010284423828125, 0.00238037109375, 0.0078125, 0.0108642578125, 0.0196533203125, 0.02984619140625, 0.03106689453125, 0.023681640625, 0.017791748046875, 0.016876220703125, 0.0140380859375, 0.00726318359375, 0.004913330078125, 0.012298583984375, 0.021881103515625, 0.024993896484375, 0.0250244140625, 0.029083251953125, 0.03448486328125, 0.03314208984375, 0.02630615234375, 0.0235595703125, 0.02783203125, 0.031951904296875, 0.032012939453125, 0.03375244140625, 0.041473388671875, 0.04974365234375, 0.051177978515625, 0.04730224609375, 0.04486083984375, 0.04571533203125, 0.046234130859375, 0.0438232421875, 0.03875732421875, 0.031494140625, 0.022705078125, 0.013702392578125, 0.002197265625, -0.019012451171875, -0.053253173828125, -0.091522216796875, -0.119659423828125, -0.13323974609375, -0.138824462890625, -0.141082763671875, -0.13714599609375, -0.125244140625, -0.11090087890625, -0.09979248046875, -0.091583251953125, -0.085205078125, -0.0845947265625, -0.091888427734375, -0.09991455078125, -0.0980224609375, -0.08392333984375, -0.0626220703125, -0.0369873046875, -0.00677490234375, 0.0238037109375, 0.04620361328125, 0.057281494140625, 0.06146240234375, 0.0614013671875, 0.05438232421875, 0.0411376953125, 0.030731201171875, 0.030670166015625, 0.0380859375, 0.04595947265625, 0.053619384765625, 0.063690185546875, 0.07196044921875, 0.070159912109375, 0.05841064453125, 0.046051025390625, 0.038604736328125, 0.03118896484375, 0.017822265625, 0.001800537109375, -0.0081787109375, -0.008087158203125, -0.00079345703125, 0.0087890625, 0.01617431640625, 0.017608642578125, 0.01220703125, 0.00323486328125, -0.005462646484375, -0.013397216796875, -0.02093505859375, -0.0260009765625, -0.026519775390625, -0.024688720703125, -0.023681640625, -0.022552490234375, -0.01824951171875, -0.0128173828125, -0.01220703125, -0.016754150390625, -0.019683837890625, -0.016845703125, -0.013031005859375, -0.013397216796875, -0.01446533203125, -0.009063720703125, 0.002532958984375, 0.01312255859375, 0.018890380859375, 0.022735595703125, 0.026947021484375, 0.028961181640625, 0.026824951171875, 0.0233154296875, 0.021331787109375, 0.019134521484375, 0.0140380859375, 0.008392333984375, 0.006927490234375, 0.009490966796875, 0.01129150390625, 0.01007080078125, 0.009124755859375, 0.0123291015625, 0.019256591796875, 0.02667236328125, 0.031524658203125, 0.032440185546875, 0.030059814453125, 0.028106689453125, 0.030609130859375, 0.036895751953125, 0.04168701171875, 0.041595458984375, 0.03955078125, 0.039703369140625, 0.041412353515625, 0.041656494140625, 0.04058837890625, 0.040283203125, 0.03826904296875, 0.028411865234375, 0.009368896484375, -0.01275634765625, -0.032562255859375, -0.051788330078125, -0.07440185546875, -0.09808349609375, -0.115142822265625, -0.12109375, -0.11846923828125, -0.112213134765625, -0.105438232421875, -0.09954833984375, -0.095367431640625, -0.092254638671875, -0.08892822265625, -0.08575439453125, -0.084197998046875, -0.083160400390625, -0.078643798828125, -0.0677490234375, -0.05181884765625, -0.03326416015625, -0.01202392578125, 0.011505126953125, 0.0328369140625, 0.045684814453125, 0.04840087890625, 0.045501708984375, 0.04248046875, 0.041473388671875, 0.041473388671875, 0.04156494140625, 0.041900634765625, 0.043670654296875, 0.0477294921875, 0.0533447265625, 0.05792236328125, 0.058929443359375, 0.055877685546875, 0.050048828125, 0.04248046875, 0.033843994140625, 0.025634765625, 0.01922607421875, 0.014617919921875, 0.011627197265625, 0.011962890625, 0.016632080078125, 0.021575927734375, 0.0206298828125, 0.0135498046875, 0.007049560546875, 0.004730224609375, 0.001068115234375, -0.01043701171875, -0.026123046875, -0.03582763671875, -0.036224365234375, -0.034088134765625, -0.0355224609375, -0.037689208984375, -0.0355224609375, -0.03076171875, -0.02947998046875, -0.032501220703125, -0.034027099609375, -0.029541015625, -0.021453857421875, -0.0152587890625, -0.0125732421875, -0.00927734375, -0.0013427734375, 0.01043701171875, 0.020751953125, 0.026031494140625, 0.02801513671875, 0.03021240234375, 0.032470703125, 0.03167724609375, 0.028533935546875, 0.0279541015625, 0.0313720703125, 0.03369140625, 0.03070068359375, 0.026611328125, 0.027862548828125, 0.032073974609375, 0.0311279296875, 0.0245361328125, 0.02276611328125, 0.033355712890625, 0.050048828125, 0.060791015625, 0.061981201171875, 0.05987548828125, 0.0594482421875, 0.058807373046875, 0.055023193359375, 0.049560546875, 0.046600341796875, 0.047027587890625, 0.047698974609375, 0.045806884765625, 0.042755126953125, 0.04107666015625, 0.0377197265625, 0.022186279296875, -0.013885498046875, -0.064178466796875, -0.10943603515625, -0.13519287109375, -0.143646240234375, -0.144927978515625, -0.140625, -0.12567138671875, -0.102325439453125, -0.082763671875, -0.073883056640625, -0.07073974609375, -0.06756591796875, -0.0677490234375, -0.0740966796875, -0.0775146484375, -0.06573486328125, -0.03985595703125, -0.011871337890625, 0.011871337890625, 0.034942626953125, 0.056915283203125, 0.069091796875, 0.06646728515625, 0.055511474609375, 0.044281005859375, 0.032470703125, 0.018768310546875, 0.010223388671875, 0.01416015625, 0.025421142578125, 0.03192138671875, 0.030914306640625, 0.029998779296875, 0.0323486328125, 0.031097412109375, 0.021759033203125, 0.010101318359375, 0.003814697265625, 0.00225830078125, 0.0009765625, 0.00030517578125, 0.002899169921875, 0.007232666015625, 0.0093994140625, 0.010009765625, 0.01251220703125, 0.016021728515625, 0.016204833984375, 0.012969970703125, 0.01129150390625, 0.012542724609375, 0.011993408203125, 0.006103515625, -0.0018310546875, -0.00604248046875, -0.005767822265625, -0.004486083984375, -0.00543212890625, -0.009185791015625, -0.014556884765625, -0.019317626953125, -0.021575927734375, -0.0218505859375, -0.022003173828125, -0.02093505859375, -0.015960693359375, -0.0078125, -0.00103759765625, 0.00299072265625, 0.009185791015625, 0.01953125, 0.026123046875, 0.0206298828125, 0.007843017578125, 0.000946044921875, 0.004180908203125, 0.009185791015625, 0.010009765625, 0.011260986328125, 0.017730712890625, 0.02392578125, 0.023040771484375, 0.01971435546875, 0.02325439453125, 0.03216552734375, 0.036529541015625, 0.035430908203125, 0.040313720703125, 0.056976318359375, 0.075042724609375, 0.0814208984375, 0.07708740234375, 0.07269287109375, 0.07177734375, 0.068572998046875, 0.05975341796875, 0.049774169921875, 0.04364013671875, 0.04071044921875, 0.03875732421875, 0.03759765625, 0.03668212890625, 0.0321044921875, 0.019744873046875, -0.002593994140625, -0.03668212890625, -0.082489013671875, -0.132904052734375, -0.173248291015625, -0.19329833984375, -0.19482421875, -0.185272216796875, -0.16632080078125, -0.13641357421875, -0.1014404296875, -0.074554443359375, -0.06304931640625, -0.0621337890625, -0.06268310546875, -0.05963134765625, -0.04949951171875, -0.0283203125, 0.0029296875, 0.034759521484375, 0.05859375, 0.07672119140625, 0.095458984375, 0.110809326171875, 0.109130859375, 0.084930419921875, 0.050140380859375, 0.023101806640625, 0.0118408203125, 0.012298583984375, 0.017852783203125, 0.024932861328125, 0.030853271484375, 0.031707763671875, 0.0242919921875, 0.0087890625, -0.0113525390625, -0.03106689453125, -0.04498291015625, -0.049072265625, -0.041656494140625, -0.023406982421875, 0.00146484375, 0.024871826171875, 0.038818359375, 0.04180908203125, 0.039154052734375, 0.0352783203125, 0.029327392578125, 0.020111083984375, 0.01263427734375, 0.013275146484375, 0.021148681640625, 0.0301513671875, 0.03753662109375, 0.044403076171875, 0.04730224609375, 0.037567138671875, 0.013031005859375, -0.0164794921875, -0.038818359375, -0.050689697265625, -0.05450439453125, -0.050384521484375, -0.037750244140625, -0.02239990234375, -0.01361083984375, -0.013519287109375, -0.015655517578125, -0.01422119140625, -0.009796142578125, -0.004364013671875, 0.002899169921875, 0.01324462890625, 0.024810791015625, 0.035003662109375, 0.041961669921875, 0.043365478515625, 0.037261962890625, 0.0262451171875, 0.015960693359375, 0.008453369140625, 0.001251220703125, -0.004608154296875, -0.0018310546875, 0.01263427734375, 0.0308837890625, 0.043548583984375, 0.0518798828125, 0.062957763671875, 0.075775146484375, 0.0816650390625, 0.077484130859375, 0.069427490234375, 0.062957763671875, 0.056304931640625, 0.048248291015625, 0.0428466796875, 0.04248046875, 0.042816162109375, 0.040313720703125, 0.039306640625, 0.044342041015625, 0.05047607421875, 0.048309326171875, 0.034637451171875, 0.010589599609375, -0.027862548828125, -0.084991455078125, -0.151092529296875, -0.20318603515625, -0.22576904296875, -0.22296142578125, -0.2066650390625, -0.180755615234375, -0.144287109375, -0.104034423828125, -0.07379150390625, -0.06085205078125, -0.060333251953125, -0.063323974609375, -0.0628662109375, -0.05224609375, -0.0255126953125, 0.0159912109375, 0.061431884765625, 0.099365234375, 0.126129150390625, 0.142059326171875, 0.14324951171875, 0.12396240234375, 0.087127685546875, 0.0465087890625, 0.01666259765625, 0.002960205078125, 0.00250244140625, 0.0106201171875, 0.022918701171875, 0.032989501953125, 0.033294677734375, 0.020233154296875, -0.003753662109375, -0.03265380859375, -0.0596923828125, -0.077392578125, -0.07867431640625, -0.061187744140625, -0.030029296875, 0.005584716796875, 0.037689208984375, 0.06072998046875, 0.069854736328125, 0.0633544921875, 0.046875, 0.030609130859375, 0.021240234375, 0.019317626953125, 0.024688720703125, 0.039154052734375, 0.06005859375, 0.076904296875, 0.08056640625, 0.0728759765625, 0.060699462890625, 0.04315185546875, 0.0140380859375, -0.02301025390625, -0.051910400390625, -0.0616455078125, -0.057830810546875, -0.05133056640625, -0.042205810546875, -0.025421142578125, -0.00579833984375, 0.00408935546875, 0.001220703125, -0.003814697265625, -0.0025634765625, 0.001495361328125, 0.003265380859375, 0.006683349609375, 0.017120361328125, 0.03045654296875, 0.037872314453125, 0.038299560546875, 0.03656005859375, 0.032470703125, 0.021820068359375, 0.00762939453125, 0.00054931640625, 0.00482177734375, 0.0123291015625, 0.015716552734375, 0.01959228515625, 0.031982421875, 0.050384521484375, 0.064239501953125, 0.06854248046875, 0.067291259765625, 0.063720703125, 0.05584716796875, 0.042724609375, 0.0289306640625, 0.01983642578125, 0.017059326171875, 0.0205078125, 0.03106689453125, 0.047393798828125, 0.062957763671875, 0.070281982421875, 0.06488037109375, 0.042694091796875, -0.002105712890625, -0.0692138671875, -0.143951416015625, -0.20343017578125, -0.23291015625, -0.23272705078125, -0.21002197265625, -0.170318603515625, -0.1209716796875, -0.076019287109375, -0.0501708984375, -0.0472412109375, -0.058685302734375, -0.07281494140625, -0.08111572265625, -0.0775146484375, -0.057464599609375, -0.02105712890625, 0.0257568359375, 0.0753173828125, 0.120574951171875, 0.152740478515625, 0.161163330078125, 0.14129638671875, 0.101715087890625, 0.05950927734375, 0.027252197265625, 0.008331298828125, 0.002105712890625, 0.008758544921875, 0.025299072265625, 0.0418701171875, 0.047119140625, 0.036834716796875, 0.014739990234375, -0.01318359375, -0.0419921875, -0.065673828125, -0.07623291015625, -0.068878173828125, -0.04608154296875, -0.01605224609375, 0.012451171875, 0.033203125, 0.042236328125, 0.03900146484375, 0.02801513671875, 0.016754150390625, 0.011810302734375, 0.015777587890625, 0.028411865234375, 0.04766845703125, 0.0682373046875, 0.081573486328125, 0.080902099609375, 0.066864013671875, 0.04656982421875, 0.0255126953125, 0.003662109375, -0.018829345703125, -0.0357666015625, -0.039642333984375, -0.031494140625, -0.021331787109375, -0.016510009765625, -0.01470947265625, -0.01123046875, -0.008453369140625, -0.011505126953125, -0.017730712890625, -0.018280029296875, -0.009857177734375, 0.001312255859375, 0.010040283203125, 0.01873779296875, 0.02923583984375, 0.035552978515625, 0.031158447265625, 0.0191650390625, 0.008056640625, -0.000244140625, -0.00860595703125, -0.013824462890625, -0.007049560546875, 0.0123291015625, 0.03271484375, 0.04400634765625, 0.04840087890625, 0.052459716796875, 0.05609130859375, 0.055999755859375, 0.053955078125, 0.05328369140625, 0.0521240234375, 0.048187255859375, 0.045684814453125, 0.04931640625, 0.0533447265625, 0.04876708984375, 0.0391845703125, 0.036651611328125, 0.0416259765625, 0.040924072265625, 0.029296875, 0.01788330078125, 0.011474609375, -0.00738525390625, -0.055938720703125, -0.12188720703125, -0.174957275390625, -0.20257568359375, -0.215240478515625, -0.2174072265625, -0.19622802734375, -0.148040771484375, -0.0975341796875, -0.074005126953125, -0.078948974609375, -0.09033203125, -0.092803955078125, -0.087615966796875, -0.0767822265625, -0.054595947265625, -0.018035888671875, 0.02655029296875, 0.071258544921875, 0.112030029296875, 0.14251708984375, 0.152923583984375, 0.140350341796875, 0.114501953125, 0.08740234375, 0.063751220703125, 0.045257568359375, 0.036956787109375, 0.041107177734375, 0.050048828125, 0.053192138671875, 0.04827880859375, 0.0382080078125, 0.02142333984375, -0.005584716796875, -0.036956787109375, -0.05859375, -0.06329345703125, -0.05645751953125, -0.045318603515625, -0.030120849609375, -0.010833740234375, 0.0062255859375, 0.014129638671875, 0.0140380859375, 0.011871337890625, 0.009735107421875, 0.007659912109375, 0.009552001953125, 0.020904541015625, 0.040374755859375, 0.059967041015625, 0.073333740234375, 0.079010009765625, 0.07635498046875, 0.064239501953125, 0.045501708984375, 0.027618408203125, 0.01544189453125, 0.007568359375, 0.001495361328125, -0.001556396484375, -0.000701904296875, 0.000213623046875, -0.003631591796875, -0.01129150390625, -0.017852783203125, -0.021270751953125, -0.02374267578125, -0.0257568359375, -0.02490234375, -0.01971435546875, -0.012420654296875, -0.005828857421875, 0.000396728515625, 0.007293701171875, 0.013763427734375, 0.01708984375, 0.0157470703125, 0.010894775390625, 0.00537109375, 0.002288818359375, 0.002899169921875, 0.005645751953125, 0.008209228515625, 0.010772705078125, 0.015655517578125, 0.023895263671875, 0.03314208984375, 0.039886474609375, 0.042449951171875, 0.040985107421875, 0.036529541015625, 0.031768798828125, 0.0294189453125, 0.0296630859375, 0.03009033203125, 0.03021240234375, 0.032989501953125, 0.039703369140625, 0.0467529296875, 0.049957275390625, 0.049560546875, 0.045166015625, 0.02838134765625, -0.01092529296875, -0.068603515625, -0.124481201171875, -0.1607666015625, -0.1763916015625, -0.17840576171875, -0.166259765625, -0.135528564453125, -0.094146728515625, -0.06341552734375, -0.058013916015625, -0.071990966796875, -0.08917236328125, -0.099639892578125, -0.10150146484375, -0.092193603515625, -0.0677490234375, -0.0299072265625, 0.012542724609375, 0.050872802734375, 0.080169677734375, 0.096832275390625, 0.098236083984375, 0.086517333984375, 0.068939208984375, 0.05218505859375, 0.039520263671875, 0.033935546875, 0.0389404296875, 0.053253173828125, 0.068267822265625, 0.0750732421875, 0.071441650390625, 0.059112548828125, 0.03802490234375, 0.008819580078125, -0.021484375, -0.042572021484375, -0.050201416015625, -0.047760009765625, -0.03814697265625, -0.020599365234375, 0.002685546875, 0.0223388671875, 0.02947998046875, 0.024139404296875, 0.012786865234375, 0.0008544921875, -0.00848388671875, -0.01055908203125, -0.00103759765625, 0.018096923828125, 0.0390625, 0.055206298828125, 0.064300537109375, 0.065521240234375, 0.057769775390625, 0.04180908203125, 0.02166748046875, 0.001983642578125, -0.013397216796875, -0.020294189453125, -0.016143798828125, -0.00433349609375, 0.006866455078125, 0.012603759765625, 0.015167236328125, 0.01708984375, 0.015472412109375, 0.007476806640625, -0.002593994140625, -0.00726318359375, -0.005157470703125, -0.001251220703125, 0.002532958984375, 0.008941650390625, 0.01715087890625, 0.020263671875, 0.01409912109375, 0.003448486328125, -0.004852294921875, -0.009918212890625, -0.013397216796875, -0.01239013671875, -0.002410888671875, 0.01409912109375, 0.029083251953125, 0.038421630859375, 0.044921875, 0.050750732421875, 0.053466796875, 0.050994873046875, 0.046417236328125, 0.044036865234375, 0.04461669921875, 0.04656982421875, 0.04913330078125, 0.050994873046875, 0.050018310546875, 0.046234130859375, 0.043060302734375, 0.041839599609375, 0.03826904296875, 0.02838134765625, 0.01495361328125, 0.002105712890625, -0.013519287109375, -0.039398193359375, -0.074798583984375, -0.10894775390625, -0.133697509765625, -0.149505615234375, -0.156707763671875, -0.149261474609375, -0.12554931640625, -0.09912109375, -0.088165283203125, -0.09442138671875, -0.101898193359375, -0.09765625, -0.085693359375, -0.075958251953125, -0.067657470703125, -0.051544189453125, -0.0244140625, 0.0068359375, 0.034881591796875, 0.058563232421875, 0.0775146484375, 0.087127685546875, 0.083587646484375, 0.070953369140625, 0.058807373046875, 0.052947998046875, 0.05267333984375, 0.055023193359375, 0.059173583984375, 0.064422607421875, 0.066650390625, 0.06146240234375, 0.048248291015625, 0.03143310546875, 0.01513671875, 0.0003662109375, -0.01287841796875, -0.022003173828125, -0.02374267578125, -0.018890380859375, -0.01287841796875, -0.0098876953125, -0.0091552734375, -0.008392333984375, -0.00885009765625, -0.0133056640625, -0.02032470703125, -0.0244140625, -0.02215576171875, -0.015045166015625, -0.005157470703125, 0.007415771484375, 0.020843505859375, 0.02947998046875, 0.029571533203125, 0.024993896484375, 0.022247314453125, 0.02105712890625, 0.016265869140625, 0.008209228515625, 0.00469970703125, 0.009857177734375, 0.016998291015625, 0.017913818359375, 0.01416015625, 0.012298583984375, 0.012115478515625, 0.007110595703125, -0.002838134765625, -0.00897216796875, -0.005828857421875, 0.000946044921875, 0.00390625, 0.0048828125, 0.01025390625, 0.019012451171875, 0.02337646484375, 0.019927978515625, 0.013275146484375, 0.008087158203125, 0.00439453125, 0.002288818359375, 0.005126953125, 0.0137939453125, 0.022552490234375, 0.026214599609375, 0.027313232421875, 0.031524658203125, 0.0380859375, 0.04071044921875, 0.0369873046875, 0.031646728515625, 0.02899169921875, 0.0277099609375, 0.025238037109375, 0.02288818359375, 0.023406982421875, 0.0260009765625, 0.02752685546875, 0.0264892578125, 0.02423095703125, 0.022064208984375, 0.019073486328125, 0.012176513671875, -0.002899169921875, -0.028045654296875, -0.05908203125, -0.086212158203125, -0.10162353515625, -0.104522705078125, -0.09796142578125, -0.0831298828125, -0.0615234375, -0.041259765625, -0.0343017578125, -0.044403076171875, -0.062103271484375, -0.074371337890625, -0.07696533203125, -0.07366943359375, -0.06695556640625, -0.054534912109375, -0.034912109375, -0.01214599609375, 0.00677490234375, 0.018157958984375, 0.022857666015625, 0.023834228515625, 0.023162841796875, 0.021240234375, 0.0186767578125, 0.0184326171875, 0.024688720703125, 0.0386962890625, 0.056243896484375, 0.070526123046875, 0.077178955078125, 0.075836181640625, 0.067474365234375, 0.05377197265625, 0.038116455078125, 0.025299072265625, 0.01788330078125, 0.014984130859375, 0.01519775390625, 0.018829345703125, 0.025115966796875, 0.0296630859375, 0.02789306640625, 0.019622802734375, 0.008270263671875, -0.00372314453125, -0.015777587890625, -0.0252685546875, -0.027557373046875, -0.0213623046875, -0.011749267578125, -0.005401611328125, -0.004150390625, -0.00567626953125, -0.00885009765625, -0.014923095703125, -0.022979736328125, -0.028350830078125, -0.027008056640625, -0.02069091796875, -0.014312744140625, -0.009674072265625, -0.00360107421875, 0.00592041015625, 0.015655517578125, 0.020355224609375, 0.019287109375, 0.01666259765625, 0.016021728515625, 0.016265869140625, 0.0155029296875, 0.015655517578125, 0.019744873046875, 0.02642822265625, 0.030364990234375, 0.028778076171875, 0.024566650390625, 0.020721435546875, 0.015533447265625, 0.0067138671875, -0.0020751953125, -0.003509521484375, 0.003936767578125, 0.013336181640625, 0.017578125, 0.0177001953125, 0.019134521484375, 0.0225830078125, 0.02325439453125, 0.01824951171875, 0.011138916015625, 0.0072021484375, 0.00689697265625, 0.0069580078125, 0.006256103515625, 0.006378173828125, 0.0074462890625, 0.00628662109375, 0.0015869140625, -0.002716064453125, -0.002410888671875, 0.0009765625, 0.002777099609375, 0.002471923828125, 0.004058837890625, 0.0076904296875, 0.0059814453125, -0.007171630859375, -0.026885986328125, -0.042327880859375, -0.04974365234375, -0.054443359375, -0.0594482421875, -0.0599365234375, -0.052276611328125, -0.04339599609375, -0.043121337890625, -0.050384521484375, -0.054779052734375, -0.051727294921875, -0.048187255859375, -0.0504150390625, -0.053497314453125, -0.0487060546875, -0.037017822265625, -0.0272216796875, -0.02252197265625, -0.017303466796875, -0.0084228515625, -0.001861572265625, -0.003021240234375, -0.006988525390625, -0.00439453125, 0.004791259765625, 0.011627197265625, 0.012115478515625, 0.013092041015625, 0.02130126953125, 0.032379150390625, 0.036773681640625, 0.03363037109375, 0.031402587890625, 0.035125732421875, 0.03985595703125, 0.0391845703125, 0.035400390625, 0.034576416015625, 0.03643798828125, 0.034515380859375, 0.0267333984375, 0.0189208984375, 0.015594482421875, 0.013336181640625, 0.007049560546875, -0.0009765625, -0.00421142578125, -0.001708984375, 0.00048828125, -0.00140380859375, -0.003692626953125, -0.00213623046875, 0.00115966796875, 0.000701904296875, -0.0035400390625, -0.00653076171875, -0.005615234375, -0.003570556640625, -0.003387451171875, -0.004058837890625, -0.00311279296875, -0.000885009765625, 6.103515625e-05, -0.00079345703125, -0.001495361328125, -0.000762939453125, 0.0009765625, 0.00274658203125, 0.004425048828125, 0.005828857421875, 0.006378173828125, 0.00579833984375, 0.004669189453125, 0.003631591796875, 0.002838134765625, 0.002166748046875, 0.001495361328125, 0.000335693359375, -0.00164794921875, -0.003631591796875, -0.004241943359375, -0.003509521484375, -0.003265380859375, -0.00433349609375, -0.0048828125, -0.003021240234375, 0.000396728515625, 0.00250244140625, 0.00225830078125, 0.00177001953125, 0.002593994140625, 0.00360107421875, 0.003875732421875, 0.00469970703125, 0.007598876953125, 0.01068115234375, 0.010345458984375, 0.006134033203125, 0.001678466796875, -0.00048828125, -0.001617431640625, -0.00311279296875, -0.003326416015625, -9.1552734375e-05, 0.004730224609375, 0.0072021484375, 0.0069580078125, 0.0072021484375, 0.0091552734375, 0.009552001953125, 0.006134033203125, 0.002044677734375, 0.0010986328125, 0.001983642578125, 6.103515625e-05, -0.005126953125, -0.008544921875, -0.006927490234375, -0.003448486328125, -0.00347900390625, -0.008331298828125, -0.015045166015625, -0.021026611328125, -0.0257568359375, -0.028900146484375, -0.029296875, -0.0272216796875, -0.0245361328125, -0.022705078125, -0.021331787109375, -0.019256591796875, -0.01708984375, -0.01678466796875, -0.019317626953125, -0.022857666015625, -0.0240478515625, -0.021026611328125, -0.015777587890625, -0.011505126953125, -0.0086669921875, -0.004669189453125, 0.001495361328125, 0.00640869140625, 0.006195068359375, 0.0023193359375, 0.000244140625, 0.00274658203125, 0.007415771484375, 0.011199951171875, 0.014190673828125, 0.017486572265625, 0.0201416015625, 0.021026611328125, 0.020843505859375, 0.020263671875, 0.01788330078125, 0.013275146484375, 0.009735107421875, 0.010650634765625, 0.013916015625, 0.01458740234375, 0.012847900390625, 0.014190673828125, 0.020050048828125, 0.024078369140625, 0.0208740234375, 0.0142822265625, 0.011627197265625, 0.01336669921875, 0.0137939453125, 0.010406494140625, 0.00726318359375, 0.007110595703125, 0.0069580078125, 0.0035400390625, -0.0010986328125, -0.002655029296875, -0.001220703125, -0.00048828125, -0.002471923828125, -0.005462646484375, -0.0072021484375, -0.007568359375, -0.007080078125, -0.005828857421875, -0.00445556640625, -0.00408935546875, -0.005096435546875, -0.00640869140625, -0.0068359375, -0.0059814453125, -0.00469970703125, -0.00482177734375, -0.007781982421875, -0.012420654296875, -0.015411376953125, -0.014923095703125, -0.013397216796875, -0.014007568359375, -0.0155029296875, -0.01336669921875, -0.007171630859375, -0.0018310546875, -0.001129150390625, -0.0025634765625, -0.001800537109375, 0.00103759765625, 0.002685546875, 0.002899169921875, 0.004058837890625, 0.0064697265625, 0.00750732421875, 0.00689697265625, 0.007568359375, 0.010589599609375, 0.011993408203125, 0.0084228515625, 0.002471923828125, -0.00048828125, 0.000457763671875, 0.001800537109375, 0.001251220703125, 0.000152587890625, 0.00030517578125, 0.000885009765625, 0.0003662109375, -0.001434326171875, -0.003692626953125, -0.006103515625, -0.008056640625, -0.00848388671875, -0.00701904296875, -0.005035400390625, -0.00408935546875, -0.004241943359375, -0.004547119140625, -0.004974365234375, -0.006011962890625, -0.007568359375, -0.00860595703125, -0.008270263671875, -0.00604248046875, -0.002532958984375, -6.103515625e-05, -0.00103759765625, -0.00543212890625, -0.00970458984375, -0.0108642578125, -0.010223388671875, -0.011383056640625, -0.014801025390625, -0.016815185546875, -0.01470947265625, -0.010833740234375, -0.0089111328125, -0.009002685546875, -0.008392333984375, -0.006317138671875, -0.005462646484375, -0.00762939453125, -0.01043701171875, -0.00970458984375, -0.004058837890625, 0.00372314453125, 0.009979248046875, 0.012847900390625, 0.013153076171875, 0.012542724609375, 0.0123291015625, 0.012939453125, 0.013824462890625, 0.01397705078125, 0.01287841796875, 0.011444091796875, 0.01165771484375, 0.014373779296875, 0.01812744140625, 0.019744873046875, 0.0177001953125, 0.0135498046875, 0.010162353515625, 0.008697509765625, 0.0081787109375, 0.007598876953125, 0.00714111328125, 0.007415771484375, 0.0079345703125, 0.007781982421875, 0.0069580078125, 0.00634765625, 0.006072998046875, 0.004425048828125, -0.000244140625, -0.006927490234375, -0.011749267578125, -0.011505126953125, -0.0072021484375, -0.00335693359375, -0.003082275390625, -0.004852294921875, -0.00531005859375, -0.00390625, -0.003570556640625, -0.006103515625, -0.009674072265625, -0.011383056640625, -0.0107421875, -0.009002685546875, -0.0067138671875, -0.003936767578125, -0.001983642578125, -0.00262451171875, -0.0050048828125, -0.006072998046875, -0.00469970703125, -0.003265380859375, -0.00421142578125, -0.006072998046875, -0.00579833984375, -0.0025634765625, 0.001373291015625, 0.004058837890625, 0.005340576171875, 0.00531005859375, 0.00360107421875, 0.000885009765625, -0.00054931640625, 0.0010986328125, 0.004425048828125, 0.0067138671875, 0.006927490234375, 0.006591796875, 0.007232666015625, 0.008148193359375, 0.0076904296875, 0.004913330078125, 0.001007080078125, -0.001708984375, -0.00177001953125, 0.000335693359375, 0.00286865234375, 0.004425048828125, 0.004730224609375, 0.003936767578125, 0.0015869140625, -0.002227783203125, -0.005828857421875, -0.0072021484375, -0.006805419921875, -0.0074462890625, -0.01068115234375, -0.014373779296875, -0.015045166015625, -0.012298583984375, -0.009246826171875, -0.008758544921875, -0.010345458984375, -0.011688232421875, -0.011474609375, -0.01031494140625, -0.00897216796875, -0.007598876953125, -0.00628662109375, -0.005340576171875, -0.004852294921875, -0.003997802734375, -0.002655029296875, -0.001953125, -0.0030517578125, -0.005218505859375, -0.006378173828125, -0.005126953125, -0.00244140625, -3.0517578125e-05, 0.001220703125, 0.001953125, 0.00286865234375, 0.003997802734375, 0.004852294921875, 0.00506591796875, 0.004852294921875, 0.004669189453125, 0.005157470703125, 0.0062255859375, 0.0074462890625, 0.00836181640625, 0.008636474609375, 0.0084228515625, 0.008270263671875, 0.008941650390625, 0.01043701171875, 0.0115966796875, 0.010955810546875, 0.008331298828125, 0.005523681640625, 0.004425048828125, 0.0047607421875, 0.004791259765625, 0.003570556640625, 0.00189208984375, 0.00128173828125, 0.00244140625, 0.0048828125, 0.007354736328125, 0.00830078125, 0.0069580078125, 0.004547119140625, 0.00347900390625, 0.00457763671875, 0.0059814453125, 0.005401611328125, 0.003570556640625, 0.0030517578125, 0.004852294921875, 0.006591796875, 0.006134033203125, 0.004486083984375, 0.004241943359375, 0.00579833984375, 0.0068359375, 0.00543212890625, 0.002349853515625, 9.1552734375e-05, 0.0, 0.001068115234375, 0.001220703125, -0.000518798828125, -0.0030517578125, -0.004302978515625, -0.003753662109375, -0.0030517578125, -0.0042724609375, -0.007049560546875, -0.008575439453125, -0.00726318359375, -0.00482177734375, -0.004119873046875, -0.00537109375, -0.00628662109375, -0.0052490234375, -0.003570556640625, -0.003143310546875, -0.00390625, -0.003997802734375, -0.002655029296875, -0.0009765625, -0.00048828125, -0.001251220703125, -0.00225830078125, -0.002655029296875, -0.002197265625, -0.001190185546875, -0.000274658203125, 0.0003662109375, 0.000762939453125, 0.001129150390625, 0.001251220703125, 0.00048828125, -0.001007080078125, -0.00213623046875, -0.002197265625, -0.00189208984375, -0.002197265625, -0.0030517578125, -0.003753662109375, -0.004241943359375, -0.00494384765625, -0.005584716796875, -0.005523681640625, -0.00506591796875, -0.005645751953125, -0.00775146484375, -0.0096435546875, -0.00933837890625, -0.007415771484375, -0.00628662109375, -0.007171630859375, -0.0086669921875, -0.008758544921875, -0.00750732421875, -0.00628662109375, -0.00592041015625, -0.00579833984375, -0.005096435546875, -0.00408935546875, -0.0035400390625, -0.003326416015625, -0.00244140625, -3.0517578125e-05, 0.00299072265625, 0.004638671875, 0.0040283203125, 0.002197265625, 0.001220703125, 0.001678466796875, 0.002716064453125, 0.003265380859375, 0.00360107421875, 0.004180908203125, 0.005035400390625, 0.005828857421875, 0.00653076171875, 0.006927490234375, 0.006195068359375, 0.00396728515625, 0.0013427734375, 0.000244140625, 0.001220703125, 0.002716064453125, 0.00311279296875, 0.00250244140625, 0.002105712890625, 0.002044677734375, 0.001251220703125, -0.000335693359375, -0.001190185546875, -3.0517578125e-05, 0.002288818359375, 0.00360107421875, 0.003143310546875, 0.002166748046875, 0.002105712890625, 0.002685546875, 0.0023193359375, 0.000396728515625, -0.001739501953125, -0.002410888671875, -0.00177001953125, -0.001129150390625, -0.0013427734375, -0.00152587890625, -0.000946044921875, -0.000152587890625, -0.000518798828125, -0.002288818359375, -0.003997802734375, -0.00421142578125, -0.00323486328125, -0.002349853515625, -0.00201416015625, -0.001434326171875, 0.0001220703125, 0.0018310546875, 0.00238037109375, 0.00140380859375, 9.1552734375e-05, -0.0006103515625, -0.0009765625, -0.001678466796875, -0.00238037109375, -0.00177001953125, 0.00030517578125, 0.002288818359375, 0.00250244140625, 0.001190185546875, -0.000274658203125, -0.0009765625, -0.001190185546875, -0.00146484375, -0.0023193359375, -0.003875732421875, -0.00592041015625, -0.0074462890625, -0.007080078125, -0.005126953125, -0.003753662109375, -0.0047607421875, -0.007415771484375, -0.00927734375, -0.009002685546875, -0.00762939453125, -0.006927490234375, -0.0072021484375, -0.007293701171875, -0.006317138671875, -0.00445556640625, -0.002838134765625, -0.002227783203125, -0.00262451171875, -0.003509521484375, -0.0040283203125, -0.0035400390625, -0.002105712890625, -0.00067138671875, -9.1552734375e-05, -0.000640869140625, -0.001495361328125, -0.001312255859375, 6.103515625e-05, 0.001708984375, 0.002166748046875, 0.00115966796875, 0.0, 0.000152587890625, 0.001678466796875, 0.002960205078125, 0.002532958984375, 0.000701904296875, -0.000732421875, -0.00030517578125, 0.0015869140625, 0.002716064453125, 0.00146484375, -0.0015869140625, -0.00390625, -0.003814697265625, -0.002044677734375, -0.000885009765625, -0.0015869140625, -0.00323486328125, -0.00390625, -0.00311279296875, -0.001617431640625, -0.00054931640625, 6.103515625e-05, 0.000732421875, 0.001708984375, 0.002655029296875, 0.003326416015625, 0.00384521484375, 0.00433349609375, 0.004302978515625, 0.00360107421875, 0.002960205078125, 0.00360107421875, 0.005462646484375, 0.006866455078125, 0.005889892578125, 0.00335693359375, 0.0020751953125, 0.003875732421875, 0.00714111328125, 0.00823974609375, 0.005859375, 0.002593994140625, 0.001953125, 0.004425048828125, 0.00689697265625, 0.00634765625, 0.00323486328125, 0.00054931640625, 0.00079345703125, 0.003265380859375, 0.005157470703125, 0.004486083984375, 0.00225830078125, 0.000732421875, 0.001068115234375, 0.00213623046875, 0.002044677734375, 0.00030517578125, -0.001678466796875, -0.0023193359375, -0.001312255859375, 0.0001220703125, 0.000732421875, 0.00042724609375, 0.000152587890625, 0.00054931640625, 0.0009765625, 0.000274658203125, -0.00177001953125, -0.003753662109375, -0.003997802734375, -0.002532958984375, -0.001068115234375, -0.001434326171875, -0.003082275390625, -0.004150390625, -0.00360107421875, -0.00225830078125, -0.001739501953125, -0.00244140625, -0.00311279296875, -0.002685546875, -0.001312255859375, -0.00018310546875, 0.0, -0.00018310546875, 3.0517578125e-05, 0.000640869140625, 0.001007080078125, 0.00091552734375, 0.000732421875, 0.00091552734375, 0.0009765625, 0.000457763671875, -0.00042724609375, -0.000762939453125, -0.000244140625, 0.000152587890625, -0.000640869140625, -0.002166748046875, -0.0028076171875, -0.00189208984375, -0.000762939453125, -0.001495361328125, -0.00396728515625, -0.005950927734375, -0.005401611328125, -0.00311279296875, -0.002044677734375, -0.003997802734375, -0.007232666015625, -0.008453369140625, -0.006500244140625, -0.003814697265625, -0.00335693359375, -0.0052490234375, -0.007080078125, -0.00677490234375, -0.004913330078125, -0.003509521484375, -0.00335693359375, -0.00341796875, -0.00262451171875, -0.0013427734375, -0.0008544921875, -0.001220703125, -0.001373291015625, -0.0001220703125, 0.002105712890625, 0.003814697265625, 0.004180908203125, 0.003631591796875, 0.003265380859375, 0.003570556640625, 0.004241943359375, 0.00457763671875, 0.004425048828125, 0.004119873046875, 0.0040283203125, 0.004302978515625, 0.00469970703125, 0.00482177734375, 0.004364013671875, 0.0032958984375, 0.002349853515625, 0.0020751953125, 0.00238037109375, 0.002532958984375, 0.00201416015625, 0.0009765625, 0.000244140625, 0.000152587890625, 0.00018310546875, -0.00030517578125, -0.001312255859375, -0.002044677734375, -0.00177001953125, -0.000732421875, 0.000274658203125, 0.00054931640625, 0.0001220703125, -0.000396728515625, -0.0006103515625, -0.00048828125, -0.00030517578125, -0.0003662109375, -0.000640869140625, -0.0008544921875, -0.0006103515625, 0.000244140625, 0.001220703125, 0.00152587890625, 0.000885009765625, -0.0001220703125, -0.000274658203125, 0.00091552734375, 0.00286865234375, 0.00433349609375, 0.0045166015625, 0.003631591796875, 0.00274658203125, 0.002593994140625, 0.00311279296875, 0.00347900390625, 0.002838134765625, 0.0013427734375, -0.000213623046875, -0.0008544921875, -0.000640869140625, -0.000396728515625, -0.000885009765625, -0.001861572265625, -0.002288818359375, -0.001678466796875, -0.0006103515625, -0.00030517578125, -0.001068115234375, -0.002044677734375, -0.002166748046875, -0.001220703125, -0.000244140625, -0.000457763671875, -0.001678466796875, -0.002838134765625, -0.00299072265625, -0.0023193359375, -0.00177001953125, -0.00201416015625, -0.002655029296875, -0.002838134765625, -0.002044677734375, -0.00079345703125, -0.0001220703125, -0.000335693359375, -0.00091552734375, -0.000823974609375, 9.1552734375e-05, 0.001220703125, 0.001617431640625, 0.001190185546875, 0.000732421875, 0.000885009765625, 0.00146484375, 0.001678466796875, 0.00115966796875, 0.0003662109375, 6.103515625e-05, 0.000518798828125, 0.001190185546875, 0.001373291015625, 0.000701904296875, -0.000335693359375, -0.000701904296875, 0.000152587890625, 0.002044677734375, 0.00390625, 0.0042724609375, 0.002838134765625, 0.0009765625, 0.0003662109375, 0.001495361328125, 0.002899169921875, 0.002532958984375, 0.000518798828125, -0.001251220703125, -0.001068115234375, 0.000518798828125, 0.00128173828125, 3.0517578125e-05, -0.002044677734375, -0.002777099609375, -0.001800537109375, -0.000518798828125, -0.00042724609375, -0.001190185546875, -0.001495361328125, -0.0009765625, -0.000762939453125, -0.001495361328125, -0.0025634765625, -0.0025634765625, -0.00146484375, -0.000518798828125, -0.00079345703125, -0.001922607421875, -0.00238037109375, -0.00177001953125, -0.00091552734375, -0.000762939453125, -0.000885009765625, -0.000274658203125, 0.0010986328125, 0.002227783203125, 0.0023193359375, 0.001800537109375, 0.001953125, 0.003204345703125, 0.0045166015625, 0.00482177734375, 0.004058837890625, 0.003265380859375, 0.003265380859375, 0.00390625, 0.004364013671875, 0.0042724609375, 0.00372314453125, 0.002960205078125, 0.002105712890625, 0.001190185546875, 0.000396728515625, -0.0003662109375, -0.001007080078125, -0.001556396484375, -0.001953125, -0.001861572265625, -0.00152587890625, -0.0013427734375, -0.00140380859375, -0.00140380859375, -0.000946044921875, -0.00030517578125, -6.103515625e-05, -0.000518798828125, -0.00115966796875, -0.0010986328125, -0.000213623046875, 0.00067138671875, 0.00048828125, -0.000640869140625, -0.00146484375, -0.00103759765625, 0.000457763671875, 0.00177001953125, 0.001983642578125, 0.001434326171875, 0.00103759765625, 0.001312255859375, 0.0018310546875, 0.001953125, 0.001556396484375, 0.001251220703125, 0.001312255859375, 0.00146484375, 0.00103759765625, -6.103515625e-05, -0.001129150390625, -0.001617431640625, -0.00152587890625, -0.001556396484375, -0.001922607421875, -0.002288818359375, -0.002227783203125, -0.0020751953125, -0.002227783203125, -0.00262451171875, -0.00262451171875, -0.00201416015625, -0.001434326171875, -0.00164794921875, -0.0023193359375, -0.002410888671875, -0.001373291015625, -0.00042724609375, -0.000701904296875, -0.0018310546875, -0.001983642578125, -0.000244140625, 0.0020751953125, 0.0025634765625, 0.0008544921875, -0.00091552734375, -0.000579833984375, 0.0015869140625, 0.0032958984375, 0.0030517578125, 0.001800537109375, 0.001220703125, 0.001678466796875, 0.001800537109375, 0.0010986328125, 0.000396728515625, 0.000762939453125, 0.0015869140625, 0.001129150390625, -0.00079345703125, -0.002593994140625, -0.002471923828125, -0.0008544921875, 0.0001220703125, -0.000946044921875, -0.00311279296875, -0.004364013671875, -0.00396728515625, -0.002899169921875, -0.00238037109375, -0.002349853515625, -0.0020751953125, -0.001220703125, -0.000244140625, 0.000396728515625, 0.000579833984375, 0.000579833984375, 0.000457763671875, 3.0517578125e-05, -0.000335693359375, -6.103515625e-05, 0.000885009765625, 0.001953125, 0.00262451171875, 0.002838134765625, 0.002777099609375, 0.00262451171875, 0.002105712890625, 0.001373291015625, 0.00079345703125, 0.000701904296875, 0.0008544921875, 0.00079345703125, 0.000732421875, 0.0010986328125, 0.001800537109375, 0.002166748046875, 0.001708984375, 0.000823974609375, 0.0003662109375, 0.0006103515625, 0.00103759765625, 0.001007080078125, 0.0006103515625, 0.000579833984375, 0.001007080078125, 0.001312255859375, 0.000885009765625, 0.000152587890625, -0.0001220703125, 0.0003662109375, 0.0009765625, 0.0008544921875, 0.0, -0.0008544921875, -0.001220703125, -0.001068115234375, -0.00091552734375, -0.000946044921875, -0.001251220703125, -0.0018310546875, -0.002349853515625, -0.002593994140625, -0.002227783203125, -0.0015869140625, -0.001312255859375, -0.0018310546875, -0.002655029296875, -0.002960205078125, -0.00262451171875, -0.002105712890625, -0.00189208984375, -0.001739501953125, -0.001068115234375, 6.103515625e-05, 0.00103759765625, 0.0010986328125, 0.000579833984375, 0.000244140625, 0.000457763671875, 0.001007080078125, 0.00140380859375, 0.0015869140625, 0.001861572265625, 0.00244140625, 0.00311279296875, 0.003448486328125, 0.003326416015625, 0.002899169921875, 0.002410888671875, 0.001922607421875, 0.00164794921875, 0.0015869140625, 0.00152587890625, 0.001373291015625, 0.0008544921875, 0.000244140625, -0.000213623046875, -0.000457763671875, -0.00054931640625, -0.000701904296875, -0.00079345703125, -0.001007080078125, -0.001312255859375, -0.001678466796875, -0.00189208984375, -0.001708984375, -0.001434326171875, -0.001556396484375, -0.00225830078125, -0.0030517578125, -0.0032958984375, -0.00299072265625, -0.00250244140625, -0.002471923828125, -0.002716064453125, -0.002716064453125, -0.002197265625, -0.00140380859375, -0.000732421875, -0.0001220703125, 0.00067138671875, 0.001678466796875, 0.002593994140625, 0.0030517578125, 0.00311279296875, 0.0030517578125, 0.003021240234375, 0.00286865234375, 0.002532958984375, 0.002288818359375, 0.002410888671875, 0.0029296875, 0.00335693359375, 0.003265380859375, 0.00262451171875, 0.001708984375, 0.000946044921875, 0.000579833984375, 0.000518798828125, 0.0003662109375, -9.1552734375e-05, -0.00079345703125, -0.00128173828125, -0.001068115234375, -0.000579833984375, -0.0003662109375, -0.000946044921875, -0.001983642578125, -0.0025634765625, -0.002166748046875, -0.001220703125, -0.00054931640625, -0.000823974609375, -0.0018310546875, -0.002777099609375, -0.003143310546875, -0.0029296875, -0.002532958984375, -0.002227783203125, -0.002288818359375, -0.00250244140625, -0.002593994140625, -0.0023193359375, -0.0018310546875, -0.001434326171875, -0.00128173828125, -0.0009765625, -0.00030517578125, 0.000732421875, 0.001373291015625, 0.0010986328125, 0.00030517578125, -6.103515625e-05, 0.0003662109375, 0.001129150390625, 0.00152587890625, 0.00152587890625, 0.001739501953125, 0.002410888671875, 0.00311279296875, 0.00323486328125, 0.002777099609375, 0.00244140625, 0.00262451171875, 0.00311279296875, 0.00347900390625, 0.003570556640625, 0.003509521484375, 0.00335693359375, 0.002777099609375, 0.001495361328125, 0.0001220703125, -0.00054931640625, -0.000457763671875, -0.00018310546875, -0.000640869140625, -0.0015869140625, -0.002349853515625, -0.002288818359375, -0.001861572265625, -0.001953125, -0.002899169921875, -0.004180908203125, -0.004913330078125, -0.0047607421875, -0.004058837890625, -0.003570556640625, -0.003509521484375, -0.003631591796875, -0.00360107421875, -0.003143310546875, -0.002349853515625, -0.00152587890625, -0.0009765625, -0.0006103515625, -0.00030517578125, 0.00030517578125, 0.001373291015625, 0.002593994140625, 0.00323486328125, 0.0028076171875, 0.001617431640625, 0.0009765625, 0.001922607421875, 0.004150390625, 0.00604248046875, 0.006072998046875, 0.004425048828125, 0.002777099609375, 0.002532958984375, 0.00347900390625, 0.003997802734375, 0.003082275390625, 0.001434326171875, 0.000579833984375, 0.001007080078125, 0.001800537109375, 0.001861572265625, 0.0010986328125, 0.000274658203125, -3.0517578125e-05, -0.0001220703125, -0.00030517578125, -0.000579833984375, -0.0006103515625, -0.000579833984375, -0.001007080078125, -0.0020751953125, -0.003173828125, -0.0035400390625, -0.0030517578125, -0.002471923828125, -0.002227783203125, -0.0023193359375, -0.002105712890625, -0.001495361328125, -0.000885009765625, -0.000640869140625, -0.000762939453125, -0.000762939453125, -0.00042724609375, 6.103515625e-05, 0.000457763671875, 0.000732421875, 0.00091552734375, 0.000885009765625, 0.000732421875, 0.0003662109375, -0.000152587890625, -0.000518798828125, -0.000396728515625, 0.00018310546875, 0.0009765625, 0.001220703125, 0.000823974609375, 0.0003662109375, 0.000640869140625, 0.00164794921875, 0.002349853515625, 0.00189208984375, 0.000579833984375, -0.000213623046875, 9.1552734375e-05, 0.000762939453125, 0.000701904296875, -9.1552734375e-05, -0.0006103515625, -0.00030517578125, 0.00030517578125, 0.000579833984375, 0.00079345703125, 0.00152587890625, 0.002410888671875, 0.002166748046875, 0.000640869140625, -0.000518798828125, 0.0, 0.00103759765625, 0.000152587890625, -0.00286865234375, -0.0048828125, -0.003387451171875, -9.1552734375e-05, 0.00054931640625, -0.002838134765625, -0.00604248046875, -0.00445556640625, 0.000579833984375, 0.002532958984375, -0.00213623046875, -0.009002685546875, -0.01043701171875, -0.00482177734375, 0.001251220703125, 0.001129150390625, -0.00433349609375, -0.008544921875, -0.007904052734375, -0.005157470703125, -0.004150390625, -0.00323486328125, 0.0018310546875, 0.0106201171875, 0.016143798828125, 0.01275634765625, 0.004119873046875, -0.000579833984375, 0.002777099609375, 0.0084228515625, 0.008209228515625, 0.001708984375, -0.003570556640625, -0.001983642578125, 0.0035400390625, 0.005950927734375, 0.00311279296875, -0.0003662109375, 9.1552734375e-05, 0.002777099609375, 0.002838134765625, -0.00079345703125, -0.0037841796875, -0.002197265625, 0.0015869140625, 0.0018310546875, -0.003448486328125, -0.009674072265625, -0.0108642578125, -0.006439208984375, -0.001373291015625, -0.000518798828125, -0.003692626953125, -0.006500244140625, -0.005859375, -0.00262451171875, -0.000152587890625, -0.000640869140625, -0.00311279296875, -0.005096435546875, -0.0052490234375, -0.003936767578125, -0.00244140625, -0.001068115234375, 0.00091552734375, 0.0035400390625, 0.00518798828125, 0.00408935546875, 0.0008544921875, -0.001220703125, 0.000274658203125, 0.003662109375, 0.004791259765625, 0.00201416015625, -0.001312255859375, -0.0008544921875, 0.00286865234375, 0.005035400390625, 0.00274658203125, -0.000946044921875, -0.00103759765625, 0.0023193359375, 0.0037841796875, 0.000152587890625, -0.004241943359375, -0.002716064453125, 0.003753662109375, 0.006195068359375, -0.0015869140625, -0.013702392578125, -0.017730712890625, -0.009246826171875, 0.001953125, 0.002777099609375, -0.008026123046875, -0.019134521484375, -0.019775390625, -0.01141357421875, -0.003173828125, 0.0001220703125, 0.002227783203125, 0.007354736328125, 0.012603759765625, 0.011749267578125, 0.004791259765625, -0.000885009765625, 0.000152587890625, 0.003997802734375, 0.003021240234375, -0.003662109375, -0.00830078125, -0.004791259765625, 0.003173828125, 0.006561279296875, 0.00262451171875, -0.002105712890625, -0.001068115234375, 0.003326416015625, 0.00341796875, -0.002593994140625, -0.0074462890625, -0.00439453125, 0.003021240234375, 0.004119873046875, -0.005462646484375, -0.017822265625, -0.021392822265625, -0.01434326171875, -0.004913330078125, -0.001007080078125, -0.0008544921875, 0.002044677734375, 0.008697509765625, 0.01263427734375, 0.00872802734375, 0.0003662109375, -0.00445556640625, -0.003448486328125, -0.002197265625, -0.005401611328125, -0.00946044921875, -0.0062255859375, 0.005706787109375, 0.017425537109375, 0.019195556640625, 0.01123046875, 0.00299072265625, 0.002288818359375, 0.007293701171875, 0.010467529296875, 0.008148193359375, 0.003448486328125, 0.000579833984375, -0.00042724609375, -0.001861572265625, -0.00384521484375, -0.00421142578125, -0.0032958984375, -0.0047607421875, -0.010101318359375, -0.014556884765625, -0.01190185546875, -0.003021240234375, 0.003204345703125, -0.00030517578125, -0.00933837890625, -0.013092041015625, -0.00689697265625, 0.001922607421875, 0.002716064453125, -0.00592041015625, -0.015594482421875, -0.01885986328125, -0.0167236328125, -0.013427734375, -0.00830078125, 0.002532958984375, 0.016632080078125, 0.023101806640625, 0.014404296875, -0.001861572265625, -0.008514404296875, 0.002197265625, 0.01861572265625, 0.022735595703125, 0.010772705078125, -0.002716064453125, -0.002532958984375, 0.00970458984375, 0.0189208984375, 0.01544189453125, 0.00494384765625, -0.000823974609375, 0.00115966796875, 0.003936767578125, 0.002105712890625, -0.000823974609375, 0.0009765625, 0.00543212890625, 0.004150390625, -0.006072998046875, -0.017425537109375, -0.019500732421875, -0.011260986328125, -0.002197265625, -0.00091552734375, -0.006378173828125, -0.011260986328125, -0.011138916015625, -0.008270263671875, -0.006591796875, -0.00640869140625, -0.00531005859375, -0.002655029296875, -0.0003662109375, 0.000335693359375, 0.000762939453125, 0.00238037109375, 0.00408935546875, 0.003631591796875, 0.000732421875, -0.00213623046875, -0.00262451171875, -0.0010986328125, 0.000732421875, 0.00238037109375, 0.004730224609375, 0.007354736328125, 0.008087158203125, 0.00537109375, 0.0008544921875, -0.001861572265625, -0.0009765625, 0.001708984375, 0.002838134765625, 0.00115966796875, -0.001373291015625, -0.001708984375, 0.001312255859375, 0.005645751953125, 0.0076904296875, 0.005401611328125, 0.000579833984375, -0.00225830078125, -3.0517578125e-05, 0.00518798828125, 0.007598876953125, 0.003997802734375, -0.002105712890625, -0.003875732421875, 0.001068115234375, 0.00750732421875, 0.00848388671875, 0.00335693359375, -0.00164794921875, -0.0010986328125, 0.00341796875, 0.006072998046875, 0.0042724609375, 0.001220703125, 0.000732421875, 0.001922607421875, 0.00128173828125, -0.0015869140625, -0.002960205078125, -0.000396728515625, 0.0028076171875, 0.00128173828125, -0.005340576171875, -0.01141357421875, -0.011871337890625, -0.007843017578125, -0.004241943359375, -0.0028076171875, -0.000762939453125, 0.00390625, 0.008087158203125, 0.0069580078125, 0.0010986328125, -0.00274658203125, 0.00067138671875, 0.008148193359375, 0.011199951171875, 0.005767822265625, -0.00250244140625, -0.004058837890625, 0.00372314453125, 0.013824462890625, 0.016448974609375, 0.0093994140625, -9.1552734375e-05, -0.00286865234375, 0.003143310546875, 0.01123046875, 0.012939453125, 0.006561279296875, -0.001922607421875, -0.004974365234375, -0.001220703125, 0.00384521484375, 0.00445556640625, 0.000457763671875, -0.003326416015625, -0.003082275390625, 9.1552734375e-05, 0.002655029296875, 0.0032958984375, 0.003570556640625, 0.00341796875, -0.000152587890625, -0.00921630859375, -0.019561767578125, -0.022705078125, -0.014801025390625, -0.001861572265625, 0.00531005859375, 0.0025634765625, -0.00347900390625, -0.003143310546875, 0.005218505859375, 0.013336181640625, 0.012298583984375, 0.002593994140625, -0.0064697265625, -0.00665283203125, 0.000885009765625, 0.00738525390625, 0.0057373046875, -0.002227783203125, -0.008453369140625, -0.0067138671875, 0.0008544921875, 0.0059814453125, 0.003082275390625, -0.004547119140625, -0.007781982421875, -0.00164794921875, 0.009063720703125, 0.014251708984375, 0.00909423828125, -0.00091552734375, -0.006317138671875, -0.003753662109375, 0.00146484375, 0.00311279296875, 0.00146484375, 0.00164794921875, 0.005645751953125, 0.0086669921875, 0.00579833984375, -0.000946044921875, -0.004119873046875, -9.1552734375e-05, 0.006195068359375, 0.006927490234375, 0.00115966796875, -0.004180908203125, -0.002716064453125, 0.00372314453125, 0.007598876953125, 0.00518798828125, 0.00030517578125, -0.00091552734375, 0.002227783203125, 0.0047607421875, 0.002716064453125, -0.001922607421875, -0.003875732421875, -0.001220703125, 0.001922607421875, 0.00054931640625, -0.005889892578125, -0.012786865234375, -0.015350341796875, -0.013397216796875, -0.0106201171875, -0.0096435546875, -0.008880615234375, -0.005035400390625, 0.001800537109375, 0.0069580078125, 0.005828857421875, -9.1552734375e-05, -0.00360107421875, 0.00067138671875, 0.009918212890625, 0.01531982421875, 0.01165771484375, 0.00341796875, -0.0006103515625, 0.0025634765625, 0.0072021484375, 0.006317138671875, 0.000518798828125, -0.002838134765625, 0.000579833984375, 0.006866455078125, 0.008819580078125, 0.005157470703125, 0.001312255859375, 0.001739501953125, 0.003814697265625, 0.002227783203125, -0.003204345703125, -0.006683349609375, -0.004119873046875, 0.000732421875, 0.00091552734375, -0.0047607421875, -0.009979248046875, -0.00872802734375, -0.002838134765625, 0.00091552734375, -0.000762939453125, -0.0037841796875, -0.0028076171875, 0.001678466796875, 0.00433349609375, 0.002227783203125, -0.001251220703125, -0.0010986328125, 0.00286865234375, 0.005950927734375, 0.004669189453125, 0.000946044921875, -0.00067138671875, 0.00115966796875, 0.003631591796875, 0.0035400390625, 0.0013427734375, -0.00018310546875, 9.1552734375e-05, 0.000640869140625, -0.000396728515625, -0.0025634765625, -0.003814697265625, -0.003204345703125, -0.0020751953125, -0.00225830078125, -0.003875732421875, -0.0052490234375, -0.004974365234375, -0.00323486328125, -0.00115966796875, 0.000213623046875, 0.000732421875, 0.00079345703125, 0.000732421875, 0.000701904296875, 0.000732421875, 0.00079345703125, 0.00079345703125, 0.0003662109375, -0.000274658203125, -0.000518798828125, 0.000274658203125, 0.001800537109375, 0.003021240234375, 0.00335693359375, 0.0030517578125, 0.0028076171875, 0.002716064453125, 0.002166748046875, 0.001068115234375, 0.000335693359375, 0.0008544921875, 0.001800537109375, 0.001434326171875, -0.00091552734375, -0.00335693359375, -0.003448486328125, -0.0010986328125, 0.000762939453125, -0.00042724609375, -0.003753662109375, -0.005828857421875, -0.004852294921875, -0.002532958984375, -0.001617431640625, -0.002349853515625, -0.00238037109375, -0.000518798828125, 0.001434326171875, 0.00103759765625, -0.00103759765625, -0.001556396484375, 0.00128173828125, 0.00537109375, 0.006927490234375, 0.005035400390625, 0.002288818359375, 0.0013427734375, 0.00164794921875, 0.000885009765625, -0.00128173828125, -0.0025634765625, -0.001220703125, 0.001434326171875, 0.002349853515625, 0.000823974609375, -0.000823974609375, -0.00030517578125, 0.00152587890625, 0.00164794921875, -0.001312255859375, -0.005035400390625, -0.00592041015625, -0.00299072265625, 0.0006103515625, 0.000946044921875, -0.003021240234375, -0.007843017578125, -0.00909423828125, -0.0054931640625, -0.000732421875, -0.0001220703125, -0.00537109375, -0.012481689453125, -0.015411376953125, -0.011871337890625, -0.005401611328125, -0.001678466796875, -0.0023193359375, -0.004058837890625, -0.00335693359375, -0.00054931640625, 0.001129150390625, 3.0517578125e-05, -0.001739501953125, -0.001312255859375, 0.00115966796875, 0.002685546875, 0.001708984375, 0.00018310546875, 0.001129150390625, 0.004547119140625, 0.00714111328125, 0.006317138671875, 0.0032958984375, 0.00152587890625, 0.0028076171875, 0.00537109375, 0.006317138671875, 0.0047607421875, 0.00250244140625, 0.00177001953125, 0.003326416015625, 0.006011962890625, 0.0076904296875, 0.0068359375, 0.0035400390625, 0.000244140625, -0.00018310546875, 0.00250244140625, 0.004608154296875, 0.002288818359375, -0.00341796875, -0.005523681640625, 0.0015869140625, 0.014739990234375, 0.022613525390625, 0.016845703125, 0.00238037109375, -0.00518798828125, 0.004913330078125, 0.0257568359375, 0.037994384765625, 0.029296875, 0.008941650390625, -0.0008544921875, 0.012054443359375, 0.035797119140625, 0.046234130859375, 0.032928466796875, 0.0103759765625, 0.00213623046875, 0.014617919921875, 0.03125, 0.032073974609375, 0.01678466796875, 0.003204345703125, 0.005035400390625, 0.016754150390625, 0.02301025390625, 0.019439697265625, 0.015838623046875, 0.01824951171875, 0.015380859375, -0.00830078125, -0.04705810546875, -0.071502685546875, -0.058868408203125, -0.0225830078125, -0.003082275390625, -0.0255126953125, -0.070709228515625, -0.095184326171875, -0.07781982421875, -0.040740966796875, -0.02227783203125, -0.03521728515625, -0.0577392578125, -0.062774658203125, -0.047210693359375, -0.02813720703125, -0.017364501953125, -0.009918212890625, 0.002532958984375, 0.01531982421875, 0.016845703125, 0.007568359375, 0.003997802734375, 0.019378662109375, 0.04547119140625, 0.0596923828125, 0.05084228515625, 0.03167724609375, 0.024078369140625, 0.034698486328125, 0.0498046875, 0.052764892578125, 0.04156494140625, 0.027679443359375, 0.021087646484375, 0.021331787109375, 0.0220947265625, 0.019439697265625, 0.014129638671875, 0.00762939453125, 0.000579833984375, -0.005523681640625, -0.008026123046875, -0.00689697265625, -0.00604248046875, -0.0091552734375, -0.014617919921875, -0.016693115234375, -0.012481689453125, -0.005462646484375, -0.00146484375, -0.001800537109375, -0.003021240234375, -0.00177001953125, 0.001861572265625, 0.006805419921875, 0.013946533203125, 0.024078369140625, 0.033416748046875, 0.0355224609375, 0.0283203125, 0.018829345703125, 0.017333984375, 0.0272216796875, 0.04095458984375, 0.047760009765625, 0.043853759765625, 0.034942626953125, 0.029632568359375, 0.03173828125, 0.0380859375, 0.04241943359375, 0.0404052734375, 0.032470703125, 0.02374267578125, 0.019927978515625, 0.0220947265625, 0.024871826171875, 0.02178955078125, 0.01275634765625, 0.005889892578125, 0.009124755859375, 0.020263671875, 0.02691650390625, 0.016998291015625, -0.01055908203125, -0.04522705078125, -0.07275390625, -0.083099365234375, -0.07470703125, -0.0555419921875, -0.04229736328125, -0.05126953125, -0.084381103515625, -0.12249755859375, -0.1376953125, -0.118408203125, -0.08087158203125, -0.054656982421875, -0.054412841796875, -0.069671630859375, -0.08062744140625, -0.0792236328125, -0.070709228515625, -0.058990478515625, -0.039276123046875, -0.00933837890625, 0.018310546875, 0.02508544921875, 0.008392333984375, -0.0107421875, -0.007781982421875, 0.01971435546875, 0.05084228515625, 0.065399169921875, 0.063232421875, 0.058258056640625, 0.058349609375, 0.05810546875, 0.0516357421875, 0.044158935546875, 0.046234130859375, 0.058837890625, 0.06964111328125, 0.06634521484375, 0.0489501953125, 0.028076171875, 0.01373291015625, 0.008636474609375, 0.010986328125, 0.017364501953125, 0.02178955078125, 0.016754150390625, 0.000457763671875, -0.01776123046875, -0.02471923828125, -0.0169677734375, -0.0054931640625, -0.002960205078125, -0.009246826171875, -0.0133056640625, -0.008087158203125, 0.00048828125, 0.001861572265625, -0.0048828125, -0.009185791015625, -0.00201416015625, 0.01397705078125, 0.02764892578125, 0.03076171875, 0.0240478515625, 0.014678955078125, 0.01092529296875, 0.017852783203125, 0.033905029296875, 0.049163818359375, 0.05145263671875, 0.03857421875, 0.0230712890625, 0.02001953125, 0.0299072265625, 0.037384033203125, 0.03082275390625, 0.01824951171875, 0.0179443359375, 0.0335693359375, 0.04718017578125, 0.040679931640625, 0.019561767578125, 0.006439208984375, 0.012664794921875, 0.02532958984375, 0.027618408203125, 0.02264404296875, 0.0264892578125, 0.037811279296875, 0.029144287109375, -0.0205078125, -0.089813232421875, -0.126434326171875, -0.10113525390625, -0.043975830078125, -0.01629638671875, -0.04901123046875, -0.113525390625, -0.156005859375, -0.151763916015625, -0.121002197265625, -0.09722900390625, -0.09185791015625, -0.093475341796875, -0.09088134765625, -0.0860595703125, -0.0845947265625, -0.082611083984375, -0.0699462890625, -0.043975830078125, -0.0140380859375, 0.00799560546875, 0.01800537109375, 0.0203857421875, 0.021240234375, 0.02490234375, 0.03375244140625, 0.048187255859375, 0.0645751953125, 0.07635498046875, 0.0799560546875, 0.0777587890625, 0.074676513671875, 0.072235107421875, 0.06805419921875, 0.061279296875, 0.055511474609375, 0.05474853515625, 0.05743408203125, 0.056610107421875, 0.046051025390625, 0.025726318359375, 0.0018310546875, -0.016845703125, -0.02374267578125, -0.018798828125, -0.0106201171875, -0.01165771484375, -0.027496337890625, -0.049835205078125, -0.06268310546875, -0.057830810546875, -0.04302978515625, -0.03253173828125, -0.031158447265625, -0.03125, -0.024932861328125, -0.015350341796875, -0.011138916015625, -0.01239013671875, -0.007965087890625, 0.011199951171875, 0.038818359375, 0.057952880859375, 0.058380126953125, 0.046356201171875, 0.036834716796875, 0.039215087890625, 0.051605224609375, 0.066192626953125, 0.076171875, 0.0782470703125, 0.07318115234375, 0.065521240234375, 0.0601806640625, 0.057220458984375, 0.052032470703125, 0.043121337890625, 0.03790283203125, 0.04541015625, 0.0616455078125, 0.068603515625, 0.053131103515625, 0.02471923828125, 0.008087158203125, 0.0157470703125, 0.034515380859375, 0.043182373046875, 0.037933349609375, 0.0303955078125, 0.02197265625, -0.006378173828125, -0.067352294921875, -0.135772705078125, -0.16082763671875, -0.1192626953125, -0.0494384765625, -0.02044677734375, -0.063873291015625, -0.143310546875, -0.19329833984375, -0.1832275390625, -0.1365966796875, -0.095794677734375, -0.07965087890625, -0.07916259765625, -0.08160400390625, -0.084686279296875, -0.08740234375, -0.080474853515625, -0.055084228515625, -0.016754150390625, 0.017578125, 0.03680419921875, 0.044097900390625, 0.04681396484375, 0.04541015625, 0.038787841796875, 0.0355224609375, 0.050567626953125, 0.08563232421875, 0.1207275390625, 0.130645751953125, 0.110260009765625, 0.077911376953125, 0.054534912109375, 0.04534912109375, 0.043853759765625, 0.046295166015625, 0.0535888671875, 0.060211181640625, 0.051422119140625, 0.01971435546875, -0.020538330078125, -0.0428466796875, -0.03564453125, -0.01556396484375, -0.009033203125, -0.02496337890625, -0.048980712890625, -0.063232421875, -0.064605712890625, -0.061279296875, -0.05694580078125, -0.0462646484375, -0.026153564453125, -0.005218505859375, 0.00311279296875, -0.004547119140625, -0.017333984375, -0.020751953125, -0.0091552734375, 0.01239013671875, 0.03472900390625, 0.050537109375, 0.0562744140625, 0.0528564453125, 0.046783447265625, 0.046478271484375, 0.05462646484375, 0.065582275390625, 0.07110595703125, 0.069488525390625, 0.066070556640625, 0.0645751953125, 0.061187744140625, 0.05078125, 0.037261962890625, 0.032684326171875, 0.04412841796875, 0.063140869140625, 0.072540283203125, 0.06317138671875, 0.04254150390625, 0.025390625, 0.01995849609375, 0.024688720703125, 0.035369873046875, 0.048309326171875, 0.054290771484375, 0.03558349609375, -0.021026611328125, -0.10302734375, -0.169921875, -0.180450439453125, -0.129486083984375, -0.057952880859375, -0.0223388671875, -0.049957275390625, -0.120025634765625, -0.18426513671875, -0.205657958984375, -0.1800537109375, -0.129791259765625, -0.08251953125, -0.055145263671875, -0.0506591796875, -0.061492919921875, -0.075103759765625, -0.079620361328125, -0.069427490234375, -0.045654296875, -0.01226806640625, 0.026763916015625, 0.0638427734375, 0.084808349609375, 0.076873779296875, 0.04425048828125, 0.013763427734375, 0.01611328125, 0.056915283203125, 0.107818603515625, 0.13055419921875, 0.11138916015625, 0.0703125, 0.038055419921875, 0.02850341796875, 0.034820556640625, 0.045654296875, 0.0565185546875, 0.063629150390625, 0.0562744140625, 0.025238037109375, -0.02130126953125, -0.057891845703125, -0.0640869140625, -0.043548583984375, -0.01885986328125, -0.008148193359375, -0.013092041015625, -0.026763916015625, -0.0455322265625, -0.06634521484375, -0.07806396484375, -0.06658935546875, -0.033111572265625, -0.000457763671875, 0.00738525390625, -0.00927734375, -0.02630615234375, -0.022979736328125, -0.00335693359375, 0.013580322265625, 0.01995849609375, 0.02569580078125, 0.040435791015625, 0.056976318359375, 0.05950927734375, 0.045013427734375, 0.028350830078125, 0.02593994140625, 0.039520263671875, 0.059112548828125, 0.075225830078125, 0.082244873046875, 0.07464599609375, 0.050994873046875, 0.024200439453125, 0.01776123046875, 0.0413818359375, 0.073211669921875, 0.07843017578125, 0.0494384765625, 0.017913818359375, 0.017730712890625, 0.042144775390625, 0.051483154296875, 0.026214599609375, -0.003692626953125, 0.003997802734375, 0.04156494140625, 0.047119140625, -0.025848388671875, -0.14404296875, -0.215972900390625, -0.182891845703125, -0.080078125, -0.00189208984375, -0.011199951171875, -0.089752197265625, -0.17041015625, -0.203521728515625, -0.187469482421875, -0.148651123046875, -0.11065673828125, -0.084686279296875, -0.075439453125, -0.081268310546875, -0.09063720703125, -0.08819580078125, -0.068695068359375, -0.040252685546875, -0.01123046875, 0.020294189453125, 0.057281494140625, 0.088165283203125, 0.091705322265625, 0.063262939453125, 0.02978515625, 0.028533935546875, 0.06890869140625, 0.1207275390625, 0.143768310546875, 0.12542724609375, 0.087188720703125, 0.057373046875, 0.0458984375, 0.04541015625, 0.048065185546875, 0.05194091796875, 0.052947998046875, 0.04083251953125, 0.00994873046875, -0.02874755859375, -0.053375244140625, -0.0513916015625, -0.0313720703125, -0.01348876953125, -0.010711669921875, -0.02197265625, -0.040191650390625, -0.060516357421875, -0.07806396484375, -0.083282470703125, -0.06732177734375, -0.034149169921875, -0.0032958984375, 0.005401611328125, -0.009735107421875, -0.029754638671875, -0.03277587890625, -0.01287841796875, 0.017578125, 0.042266845703125, 0.0545654296875, 0.05865478515625, 0.060150146484375, 0.05950927734375, 0.054962158203125, 0.04913330078125, 0.049713134765625, 0.06256103515625, 0.083709716796875, 0.0994873046875, 0.09600830078125, 0.0709228515625, 0.03741455078125, 0.016754150390625, 0.0225830078125, 0.048492431640625, 0.071075439453125, 0.06878662109375, 0.0416259765625, 0.01226806640625, 0.00396728515625, 0.016998291015625, 0.0289306640625, 0.0211181640625, 0.00140380859375, -0.005340576171875, 0.008880615234375, 0.01727294921875, -0.016632080078125, -0.094390869140625, -0.16961669921875, -0.187713623046875, -0.1402587890625, -0.075439453125, -0.0523681640625, -0.08673095703125, -0.143035888671875, -0.17596435546875, -0.171661376953125, -0.1483154296875, -0.125640869140625, -0.10467529296875, -0.077484130859375, -0.046142578125, -0.024169921875, -0.019866943359375, -0.025390625, -0.0242919921875, -0.006011962890625, 0.027496337890625, 0.066131591796875, 0.097076416015625, 0.108612060546875, 0.096527099609375, 0.071441650390625, 0.05511474609375, 0.063323974609375, 0.0902099609375, 0.1131591796875, 0.114776611328125, 0.098297119140625, 0.079345703125, 0.06640625, 0.05511474609375, 0.04034423828125, 0.02734375, 0.024658203125, 0.029876708984375, 0.029388427734375, 0.01416015625, -0.009124755859375, -0.026947021484375, -0.035125732421875, -0.040374755859375, -0.047271728515625, -0.050811767578125, -0.046112060546875, -0.039947509765625, -0.04461669921875, -0.06048583984375, -0.07159423828125, -0.063079833984375, -0.03973388671875, -0.0203857421875, -0.0155029296875, -0.015777587890625, -0.006561279296875, 0.011932373046875, 0.024627685546875, 0.02142333984375, 0.01055908203125, 0.008880615234375, 0.022064208984375, 0.039642333984375, 0.04840087890625, 0.0455322265625, 0.03759765625, 0.03143310546875, 0.030303955078125, 0.0360107421875, 0.04736328125, 0.057098388671875, 0.05609130859375, 0.045257568359375, 0.037994384765625, 0.044769287109375, 0.057098388671875, 0.056243896484375, 0.039459228515625, 0.028839111328125, 0.044952392578125, 0.075775146484375, 0.0849609375, 0.0555419921875, 0.015899658203125, 0.009002685546875, 0.0367431640625, 0.048370361328125, -0.0052490234375, -0.11016845703125, -0.1937255859375, -0.194732666015625, -0.124908447265625, -0.055511474609375, -0.046630859375, -0.09661865234375, -0.1573486328125, -0.186614990234375, -0.178985595703125, -0.152679443359375, -0.1243896484375, -0.10137939453125, -0.087554931640625, -0.08270263671875, -0.07720947265625, -0.058135986328125, -0.02587890625, 0.0025634765625, 0.01385498046875, 0.017303466796875, 0.0347900390625, 0.070587158203125, 0.10076904296875, 0.099639892578125, 0.07183837890625, 0.049224853515625, 0.055450439453125, 0.081207275390625, 0.098358154296875, 0.09320068359375, 0.077117919921875, 0.066497802734375, 0.061065673828125, 0.049072265625, 0.028533935546875, 0.01263427734375, 0.0113525390625, 0.01568603515625, 0.007720947265625, -0.0152587890625, -0.035552978515625, -0.03741455078125, -0.02740478515625, -0.025634765625, -0.039306640625, -0.054718017578125, -0.056671142578125, -0.04840087890625, -0.0439453125, -0.046112060546875, -0.0419921875, -0.023040771484375, -0.0009765625, 0.00469970703125, -0.0081787109375, -0.019500732421875, -0.009979248046875, 0.01678466796875, 0.03985595703125, 0.04608154296875, 0.042449951171875, 0.04290771484375, 0.049224853515625, 0.051605224609375, 0.04541015625, 0.03985595703125, 0.04559326171875, 0.059295654296875, 0.0670166015625, 0.061859130859375, 0.051605224609375, 0.0460205078125, 0.0447998046875, 0.042205810546875, 0.040008544921875, 0.0455322265625, 0.056854248046875, 0.060028076171875, 0.0469970703125, 0.03082275390625, 0.032440185546875, 0.052978515625, 0.06787109375, 0.053741455078125, 0.016754150390625, -0.01458740234375, -0.02423095703125, -0.02850341796875, -0.055694580078125, -0.107696533203125, -0.15191650390625, -0.154052734375, -0.1162109375, -0.075714111328125, -0.06683349609375, -0.090087890625, -0.119049072265625, -0.1312255859375, -0.12384033203125, -0.105072021484375, -0.0819091796875, -0.06005859375, -0.046295166015625, -0.042205810546875, -0.038330078125, -0.0225830078125, 0.00494384765625, 0.0311279296875, 0.0457763671875, 0.052764892578125, 0.062408447265625, 0.07574462890625, 0.08349609375, 0.0791015625, 0.06976318359375, 0.06951904296875, 0.08270263671875, 0.097015380859375, 0.09600830078125, 0.07794189453125, 0.05767822265625, 0.048431396484375, 0.045867919921875, 0.0369873046875, 0.02117919921875, 0.012542724609375, 0.01861572265625, 0.02691650390625, 0.020843505859375, 0.002838134765625, -0.009918212890625, -0.01043701171875, -0.00982666015625, -0.017303466796875, -0.02496337890625, -0.021392822265625, -0.012237548828125, -0.014129638671875, -0.030303955078125, -0.04437255859375, -0.04083251953125, -0.0240478515625, -0.010009765625, -0.006011962890625, -0.004913330078125, 0.00152587890625, 0.010406494140625, 0.011383056640625, 0.00146484375, -0.008056640625, -0.001068115234375, 0.02471923828125, 0.05194091796875, 0.059234619140625, 0.044921875, 0.02838134765625, 0.028045654296875, 0.041351318359375, 0.052520751953125, 0.05401611328125, 0.053253173828125, 0.058319091796875, 0.06646728515625, 0.0701904296875, 0.06793212890625, 0.06390380859375, 0.06060791015625, 0.05859375, 0.060699462890625, 0.06903076171875, 0.07745361328125, 0.0743408203125, 0.05694580078125, 0.037017822265625, 0.024139404296875, 0.00775146484375, -0.03350830078125, -0.100311279296875, -0.15924072265625, -0.172027587890625, -0.137542724609375, -0.095947265625, -0.08795166015625, -0.11639404296875, -0.152069091796875, -0.16925048828125, -0.16510009765625, -0.147613525390625, -0.1209716796875, -0.08935546875, -0.06427001953125, -0.054840087890625, -0.052520751953125, -0.037841796875, -0.004547119140625, 0.03082275390625, 0.049102783203125, 0.051727294921875, 0.056671142578125, 0.073516845703125, 0.090789794921875, 0.0914306640625, 0.07513427734375, 0.0599365234375, 0.060882568359375, 0.072662353515625, 0.077667236328125, 0.068328857421875, 0.054656982421875, 0.04742431640625, 0.041015625, 0.02374267578125, -0.000457763671875, -0.013397216796875, -0.00860595703125, -0.002593994140625, -0.01025390625, -0.02081298828125, -0.014862060546875, 0.00164794921875, 0.000762939453125, -0.025299072265625, -0.047119140625, -0.03656005859375, -0.00665283203125, 0.006256103515625, -0.007293701171875, -0.02056884765625, -0.0128173828125, 0.00225830078125, 0.001922607421875, -0.009552001953125, -0.0086669921875, 0.010406494140625, 0.027069091796875, 0.023193359375, 0.005950927734375, -0.0042724609375, 0.0015869140625, 0.0167236328125, 0.030517578125, 0.0369873046875, 0.03533935546875, 0.030181884765625, 0.029998779296875, 0.038726806640625, 0.049560546875, 0.0528564453125, 0.04974365234375, 0.05145263671875, 0.06414794921875, 0.07965087890625, 0.084808349609375, 0.07623291015625, 0.062713623046875, 0.055908203125, 0.061737060546875, 0.07659912109375, 0.088775634765625, 0.08526611328125, 0.063873291015625, 0.036468505859375, 0.014923095703125, -0.007080078125, -0.048095703125, -0.1099853515625, -0.16180419921875, -0.165924072265625, -0.122406005859375, -0.07647705078125, -0.07427978515625, -0.1160888671875, -0.161346435546875, -0.175262451171875, -0.158447265625, -0.12982177734375, -0.09954833984375, -0.069854736328125, -0.05035400390625, -0.05126953125, -0.060577392578125, -0.04931640625, -0.00775146484375, 0.037994384765625, 0.05877685546875, 0.059478759765625, 0.065948486328125, 0.0836181640625, 0.091339111328125, 0.078094482421875, 0.0631103515625, 0.0673828125, 0.083953857421875, 0.091094970703125, 0.084564208984375, 0.076385498046875, 0.069122314453125, 0.051971435546875, 0.024169921875, 0.00335693359375, 0.00177001953125, 0.00958251953125, 0.01031494140625, 0.002197265625, -0.006622314453125, -0.0150146484375, -0.027252197265625, -0.03936767578125, -0.0411376953125, -0.03118896484375, -0.019989013671875, -0.01568603515625, -0.0157470703125, -0.0150146484375, -0.013580322265625, -0.012603759765625, -0.0098876953125, -0.00372314453125, 0.003448486328125, 0.009124755859375, 0.01373291015625, 0.016326904296875, 0.012908935546875, 0.004058837890625, -0.00152587890625, 0.003692626953125, 0.0164794921875, 0.02734375, 0.031524658203125, 0.030120849609375, 0.02471923828125, 0.018463134765625, 0.02001953125, 0.035919189453125, 0.058380126953125, 0.06964111328125, 0.062652587890625, 0.051116943359375, 0.052276611328125, 0.066558837890625, 0.07977294921875, 0.08282470703125, 0.080291748046875, 0.080078125, 0.08099365234375, 0.07598876953125, 0.06463623046875, 0.055389404296875, 0.052337646484375, 0.04302978515625, 0.00750732421875, -0.0557861328125, -0.1187744140625, -0.147064208984375, -0.134307861328125, -0.1080322265625, -0.099090576171875, -0.1131591796875, -0.135009765625, -0.15008544921875, -0.153106689453125, -0.142303466796875, -0.117950439453125, -0.087493896484375, -0.062042236328125, -0.04498291015625, -0.0301513671875, -0.0130615234375, 0.00396728515625, 0.01812744140625, 0.030975341796875, 0.043060302734375, 0.051910400390625, 0.05841064453125, 0.068572998046875, 0.0823974609375, 0.088836669921875, 0.079132080078125, 0.060028076171875, 0.044708251953125, 0.036529541015625, 0.030731201171875, 0.02838134765625, 0.03375244140625, 0.0399169921875, 0.031463623046875, 0.00665283203125, -0.016876220703125, -0.024200439453125, -0.020355224609375, -0.016845703125, -0.01263427734375, -0.00091552734375, 0.01251220703125, 0.013916015625, 0.0025634765625, -0.00701904296875, -0.005706787109375, 0.0003662109375, 0.00347900390625, 0.005279541015625, 0.008514404296875, 0.008331298828125, 0.000579833984375, -0.008270263671875, -0.0091552734375, -0.002716064453125, 0.00408935546875, 0.0089111328125, 0.012359619140625, 0.01025390625, -0.001190185546875, -0.0140380859375, -0.01458740234375, -0.002410888671875, 0.007965087890625, 0.0078125, 0.00592041015625, 0.013519287109375, 0.02734375, 0.035888671875, 0.036163330078125, 0.03448486328125, 0.0357666015625, 0.0404052734375, 0.04949951171875, 0.062774658203125, 0.0723876953125, 0.069793701171875, 0.059417724609375, 0.0552978515625, 0.062347412109375, 0.0706787109375, 0.0712890625, 0.067352294921875, 0.06231689453125, 0.046478271484375, 0.00836181640625, -0.04608154296875, -0.095062255859375, -0.1219482421875, -0.1259765625, -0.1156005859375, -0.10089111328125, -0.09375, -0.102752685546875, -0.12335205078125, -0.139251708984375, -0.1387939453125, -0.12457275390625, -0.103515625, -0.07708740234375, -0.047210693359375, -0.0235595703125, -0.014862060546875, -0.0162353515625, -0.01422119140625, -0.003662109375, 0.010162353515625, 0.024688720703125, 0.04388427734375, 0.066741943359375, 0.081939697265625, 0.0802001953125, 0.065826416015625, 0.05023193359375, 0.03948974609375, 0.033966064453125, 0.0341796875, 0.038818359375, 0.039886474609375, 0.029510498046875, 0.01141357421875, -0.00201416015625, -0.004608154296875, -0.00238037109375, -0.002349853515625, -0.003204345703125, -0.00091552734375, 0.003082275390625, 0.004852294921875, 0.00506591796875, 0.00738525390625, 0.011260986328125, 0.01226806640625, 0.009124755859375, 0.005615234375, 0.0047607421875, 0.0048828125, 0.0032958984375, 0.000823974609375, 0.00079345703125, 0.00433349609375, 0.008575439453125, 0.009368896484375, 0.00482177734375, -0.002960205078125, -0.0089111328125, -0.0086669921875, -0.002105712890625, 0.006744384765625, 0.013153076171875, 0.015625, 0.016387939453125, 0.01904296875, 0.025421142578125, 0.035369873046875, 0.0467529296875, 0.056732177734375, 0.0621337890625, 0.061676025390625, 0.0592041015625, 0.06201171875, 0.07305908203125, 0.085052490234375, 0.087158203125, 0.078704833984375, 0.0709228515625, 0.071044921875, 0.071044921875, 0.058197021484375, 0.033721923828125, 0.010650634765625, -0.006622314453125, -0.029876708984375, -0.06781005859375, -0.10882568359375, -0.13079833984375, -0.12628173828125, -0.10906982421875, -0.09765625, -0.099822998046875, -0.112335205078125, -0.12689208984375, -0.13336181640625, -0.124053955078125, -0.1005859375, -0.073333740234375, -0.0506591796875, -0.031219482421875, -0.01043701171875, 0.009735107421875, 0.022216796875, 0.02447509765625, 0.0230712890625, 0.027923583984375, 0.04400634765625, 0.06744384765625, 0.08685302734375, 0.090545654296875, 0.076141357421875, 0.05328369140625, 0.03448486328125, 0.0247802734375, 0.022125244140625, 0.02410888671875, 0.02862548828125, 0.0289306640625, 0.01690673828125, -0.006256103515625, -0.027130126953125, -0.0333251953125, -0.0255126953125, -0.013946533203125, -0.00592041015625, -0.00177001953125, -0.000396728515625, -0.001708984375, -0.00347900390625, -0.001708984375, 0.004058837890625, 0.008758544921875, 0.00775146484375, 0.00262451171875, -0.00067138671875, 0.00128173828125, 0.006072998046875, 0.008697509765625, 0.007476806640625, 0.005523681640625, 0.006591796875, 0.009033203125, 0.006591796875, -0.002777099609375, -0.011322021484375, -0.009429931640625, 0.001861572265625, 0.0106201171875, 0.009002685546875, 0.00286865234375, 0.0040283203125, 0.01605224609375, 0.03118896484375, 0.040191650390625, 0.040802001953125, 0.03857421875, 0.041229248046875, 0.051971435546875, 0.06524658203125, 0.07073974609375, 0.064422607421875, 0.0545654296875, 0.05267333984375, 0.060302734375, 0.0692138671875, 0.0726318359375, 0.06982421875, 0.058837890625, 0.0328369140625, -0.010650634765625, -0.061737060546875, -0.10479736328125, -0.12994384765625, -0.135467529296875, -0.123504638671875, -0.10186767578125, -0.08575439453125, -0.0885009765625, -0.107574462890625, -0.12603759765625, -0.12994384765625, -0.118896484375, -0.097869873046875, -0.068389892578125, -0.03338623046875, -0.003631591796875, 0.010040283203125, 0.009674072265625, 0.007293701171875, 0.010284423828125, 0.0174560546875, 0.028656005859375, 0.048004150390625, 0.07257080078125, 0.086669921875, 0.075958251953125, 0.045501708984375, 0.016265869140625, 0.003997802734375, 0.0081787109375, 0.01898193359375, 0.027740478515625, 0.028778076171875, 0.01837158203125, -0.000946044921875, -0.018463134765625, -0.02398681640625, -0.017913818359375, -0.0086669921875, -0.001190185546875, 0.006439208984375, 0.014801025390625, 0.018646240234375, 0.013763427734375, 0.005218505859375, 0.002960205078125, 0.0096435546875, 0.01776123046875, 0.01898193359375, 0.01312255859375, 0.0068359375, 0.00518798828125, 0.007080078125, 0.00726318359375, 0.002349853515625, -0.005889892578125, -0.01220703125, -0.013671875, -0.0128173828125, -0.01275634765625, -0.01165771484375, -0.005523681640625, 0.0032958984375, 0.00604248046875, -0.000274658203125, -0.005401611328125, 0.003173828125, 0.024169921875, 0.043243408203125, 0.050048828125, 0.048736572265625, 0.048980712890625, 0.05389404296875, 0.0596923828125, 0.063995361328125, 0.0673828125, 0.06976318359375, 0.070037841796875, 0.068634033203125, 0.0667724609375, 0.063751220703125, 0.0587158203125, 0.052337646484375, 0.041412353515625, 0.015228271484375, -0.0343017578125, -0.095855712890625, -0.141754150390625, -0.154022216796875, -0.14129638671875, -0.12530517578125, -0.116485595703125, -0.11212158203125, -0.112274169921875, -0.122314453125, -0.13824462890625, -0.142181396484375, -0.121490478515625, -0.08416748046875, -0.048126220703125, -0.0201416015625, 0.00408935546875, 0.0242919921875, 0.0325927734375, 0.028533935546875, 0.025970458984375, 0.0377197265625, 0.060028076171875, 0.078338623046875, 0.084075927734375, 0.07940673828125, 0.06854248046875, 0.053131103515625, 0.03662109375, 0.0252685546875, 0.021270751953125, 0.01947021484375, 0.014404296875, 0.006439208984375, -0.001373291015625, -0.0089111328125, -0.0167236328125, -0.022186279296875, -0.02203369140625, -0.01837158203125, -0.0157470703125, -0.01312255859375, -0.005157470703125, 0.0078125, 0.01727294921875, 0.0177001953125, 0.01446533203125, 0.01556396484375, 0.02008056640625, 0.021484375, 0.020172119140625, 0.023284912109375, 0.032012939453125, 0.036956787109375, 0.029541015625, 0.013336181640625, -0.00128173828125, -0.00848388671875, -0.008880615234375, -0.0047607421875, 0.001251220703125, 0.00396728515625, -0.000396728515625, -0.00775146484375, -0.009979248046875, -0.005828857421875, -0.00213623046875, -0.0029296875, -0.002349853515625, 0.006805419921875, 0.022857666015625, 0.037200927734375, 0.04486083984375, 0.04742431640625, 0.04852294921875, 0.0506591796875, 0.05621337890625, 0.06512451171875, 0.072509765625, 0.07220458984375, 0.064422607421875, 0.0555419921875, 0.04852294921875, 0.037261962890625, 0.012939453125, -0.0255126953125, -0.069732666015625, -0.107086181640625, -0.1270751953125, -0.126495361328125, -0.112640380859375, -0.100250244140625, -0.0999755859375, -0.1107177734375, -0.1231689453125, -0.129486083984375, -0.1259765625, -0.11016845703125, -0.0821533203125, -0.04913330078125, -0.022308349609375, -0.006683349609375, 0.002716064453125, 0.011993408203125, 0.02105712890625, 0.027374267578125, 0.033599853515625, 0.0443115234375, 0.057098388671875, 0.063446044921875, 0.059326171875, 0.049652099609375, 0.040283203125, 0.031158447265625, 0.020233154296875, 0.010589599609375, 0.006866455078125, 0.00689697265625, 0.002166748046875, -0.0106201171875, -0.024169921875, -0.02935791015625, -0.026092529296875, -0.021575927734375, -0.0194091796875, -0.01593017578125, -0.00836181640625, 0.0, 0.004852294921875, 0.0079345703125, 0.01422119140625, 0.022857666015625, 0.027252197265625, 0.025146484375, 0.02264404296875, 0.02569580078125, 0.030548095703125, 0.029327392578125, 0.021697998046875, 0.015777587890625, 0.016326904296875, 0.01806640625, 0.01361083984375, 0.00360107421875, -0.004913330078125, -0.007476806640625, -0.006195068359375, -0.004730224609375, -0.004547119140625, -0.006072998046875, -0.00933837890625, -0.01153564453125, -0.007568359375, 0.004058837890625, 0.017333984375, 0.024139404296875, 0.024200439453125, 0.025604248046875, 0.034454345703125, 0.04681396484375, 0.053741455078125, 0.052978515625, 0.0516357421875, 0.05615234375, 0.063507080078125, 0.065948486328125, 0.0611572265625, 0.05279541015625, 0.04034423828125, 0.015228271484375, -0.027801513671875, -0.078765869140625, -0.118011474609375, -0.133758544921875, -0.129638671875, -0.116180419921875, -0.10113525390625, -0.09014892578125, -0.090301513671875, -0.10345458984375, -0.119171142578125, -0.120574951171875, -0.10052490234375, -0.068084716796875, -0.037384033203125, -0.014068603515625, 0.00433349609375, 0.019195556640625, 0.0283203125, 0.0316162109375, 0.034149169921875, 0.04022216796875, 0.0477294921875, 0.0511474609375, 0.048614501953125, 0.04302978515625, 0.036407470703125, 0.02783203125, 0.017486572265625, 0.00933837890625, 0.006011962890625, 0.003814697265625, -0.003448486328125, -0.0152587890625, -0.024139404296875, -0.024566650390625, -0.019134521484375, -0.014068603515625, -0.011688232421875, -0.010528564453125, -0.009490966796875, -0.007965087890625, -0.003875732421875, 0.004058837890625, 0.012420654296875, 0.016754150390625, 0.017730712890625, 0.019073486328125, 0.020416259765625, 0.0174560546875, 0.01141357421875, 0.01019287109375, 0.01678466796875, 0.022491455078125, 0.017730712890625, 0.005462646484375, -0.00360107421875, -0.005157470703125, -0.00384521484375, -0.0030517578125, -0.001007080078125, 0.0018310546875, 0.00128173828125, -0.002532958984375, -0.00274658203125, 0.003936767578125, 0.011566162109375, 0.014190673828125, 0.015472412109375, 0.022064208984375, 0.032257080078125, 0.03851318359375, 0.038665771484375, 0.037078857421875, 0.036865234375, 0.038360595703125, 0.043731689453125, 0.0545654296875, 0.06536865234375, 0.067413330078125, 0.061279296875, 0.05487060546875, 0.047637939453125, 0.02642822265625, -0.014862060546875, -0.06170654296875, -0.093292236328125, -0.105377197265625, -0.108551025390625, -0.108734130859375, -0.102630615234375, -0.092559814453125, -0.090545654296875, -0.10247802734375, -0.116973876953125, -0.117523193359375, -0.100830078125, -0.0758056640625, -0.0494384765625, -0.0218505859375, 0.005645751953125, 0.026336669921875, 0.035064697265625, 0.035491943359375, 0.037384033203125, 0.04620361328125, 0.057861328125, 0.06390380859375, 0.060577392578125, 0.0523681640625, 0.04522705078125, 0.03875732421875, 0.02838134765625, 0.014495849609375, 0.003021240234375, -0.003936767578125, -0.0118408203125, -0.02337646484375, -0.031982421875, -0.03125, -0.02667236328125, -0.0279541015625, -0.0330810546875, -0.030029296875, -0.015289306640625, 6.103515625e-05, 0.006134033203125, 0.007080078125, 0.012481689453125, 0.0234375, 0.034423828125, 0.042236328125, 0.045928955078125, 0.043304443359375, 0.035247802734375, 0.0302734375, 0.034576416015625, 0.040740966796875, 0.036224365234375, 0.0213623046875, 0.00885009765625, 0.0052490234375, 0.004364013671875, 0.001312255859375, -0.0003662109375, 0.000274658203125, -0.004913330078125, -0.018707275390625, -0.02783203125, -0.02001953125, -0.003936767578125, 0.002532958984375, -0.001434326171875, 0.000152587890625, 0.013580322265625, 0.0260009765625, 0.026641845703125, 0.022918701171875, 0.026702880859375, 0.036773681640625, 0.0445556640625, 0.049224853515625, 0.05621337890625, 0.06549072265625, 0.071990966796875, 0.0731201171875, 0.066925048828125, 0.046051025390625, 0.0062255859375, -0.04132080078125, -0.0770263671875, -0.094268798828125, -0.10198974609375, -0.105987548828125, -0.10162353515625, -0.0897216796875, -0.084747314453125, -0.095977783203125, -0.110107421875, -0.10791015625, -0.09014892578125, -0.073638916015625, -0.063232421875, -0.045867919921875, -0.014404296875, 0.01739501953125, 0.03289794921875, 0.034393310546875, 0.036590576171875, 0.045074462890625, 0.05169677734375, 0.050140380859375, 0.044342041015625, 0.040283203125, 0.037322998046875, 0.031402587890625, 0.022247314453125, 0.013092041015625, 0.00482177734375, -0.005157470703125, -0.017913818359375, -0.02972412109375, -0.03533935546875, -0.0335693359375, -0.028778076171875, -0.025177001953125, -0.022186279296875, -0.01617431640625, -0.0064697265625, 0.00311279296875, 0.009307861328125, 0.012969970703125, 0.016326904296875, 0.019622802734375, 0.022552490234375, 0.025482177734375, 0.02783203125, 0.027923583984375, 0.026763916015625, 0.02880859375, 0.03399658203125, 0.03485107421875, 0.02606201171875, 0.013763427734375, 0.007568359375, 0.006256103515625, 0.001312255859375, -0.007080078125, -0.009063720703125, -0.002655029296875, 0.001129150390625, -0.00433349609375, -0.009124755859375, -0.00347900390625, 0.00531005859375, 0.004852294921875, 0.0001220703125, 0.007171630859375, 0.026702880859375, 0.041046142578125, 0.03924560546875, 0.031005859375, 0.029327392578125, 0.03375244140625, 0.037811279296875, 0.041839599609375, 0.049072265625, 0.057525634765625, 0.064971923828125, 0.07330322265625, 0.076751708984375, 0.05694580078125, 0.004852294921875, -0.05804443359375, -0.097137451171875, -0.103271484375, -0.096038818359375, -0.091522216796875, -0.08514404296875, -0.0731201171875, -0.0687255859375, -0.082244873046875, -0.099395751953125, -0.098175048828125, -0.07928466796875, -0.061370849609375, -0.050811767578125, -0.03460693359375, -0.005767822265625, 0.02264404296875, 0.036224365234375, 0.038421630859375, 0.041839599609375, 0.0489501953125, 0.0518798828125, 0.04669189453125, 0.0380859375, 0.031219482421875, 0.026519775390625, 0.022247314453125, 0.017425537109375, 0.011260986328125, 0.003173828125, -0.0057373046875, -0.01385498046875, -0.02081298828125, -0.02667236328125, -0.029998779296875, -0.029510498046875, -0.025604248046875, -0.019012451171875, -0.009735107421875, 0.000823974609375, 0.0091552734375, 0.013458251953125, 0.01629638671875, 0.020172119140625, 0.024261474609375, 0.0274658203125, 0.0313720703125, 0.036346435546875, 0.03826904296875, 0.034820556640625, 0.030487060546875, 0.029296875, 0.02618408203125, 0.014251708984375, -0.00177001953125, -0.009674072265625, -0.00732421875, -0.00469970703125, -0.00732421875, -0.009368896484375, -0.007293701171875, -0.0074462890625, -0.0133056640625, -0.0155029296875, -0.006591796875, 0.0048828125, 0.0069580078125, 0.0048828125, 0.012847900390625, 0.03057861328125, 0.042999267578125, 0.04345703125, 0.04083251953125, 0.041412353515625, 0.0404052734375, 0.035858154296875, 0.03607177734375, 0.044952392578125, 0.0535888671875, 0.05499267578125, 0.054290771484375, 0.051849365234375, 0.0325927734375, -0.012176513671875, -0.062225341796875, -0.088531494140625, -0.090240478515625, -0.08929443359375, -0.092803955078125, -0.085357666015625, -0.0633544921875, -0.04937744140625, -0.059051513671875, -0.07489013671875, -0.071746826171875, -0.05316162109375, -0.040130615234375, -0.0345458984375, -0.0184326171875, 0.0123291015625, 0.0379638671875, 0.043670654296875, 0.038848876953125, 0.03857421875, 0.04180908203125, 0.039306640625, 0.0316162109375, 0.026123046875, 0.023223876953125, 0.016845703125, 0.006805419921875, -0.0001220703125, -0.001678466796875, -0.003753662109375, -0.011322021484375, -0.02227783203125, -0.03045654296875, -0.032470703125, -0.02947998046875, -0.025146484375, -0.02191162109375, -0.01776123046875, -0.0087890625, 0.00457763671875, 0.015960693359375, 0.020599365234375, 0.0208740234375, 0.0211181640625, 0.022125244140625, 0.023681640625, 0.02789306640625, 0.033935546875, 0.034820556640625, 0.027130126953125, 0.018890380859375, 0.019073486328125, 0.022552490234375, 0.01690673828125, 0.002532958984375, -0.007659912109375, -0.00885009765625, -0.010162353515625, -0.01568603515625, -0.01641845703125, -0.008331298828125, -0.00286865234375, -0.00775146484375, -0.0107421875, 0.00067138671875, 0.0155029296875, 0.013763427734375, 0.000152587890625, -0.0008544921875, 0.017974853515625, 0.036407470703125, 0.038330078125, 0.03265380859375, 0.033416748046875, 0.0377197265625, 0.036834716796875, 0.034027099609375, 0.0364990234375, 0.0401611328125, 0.038238525390625, 0.03521728515625, 0.034759521484375, 0.023162841796875, -0.0137939453125, -0.062255859375, -0.0908203125, -0.090576171875, -0.082061767578125, -0.07958984375, -0.073150634765625, -0.055755615234375, -0.04388427734375, -0.052093505859375, -0.06536865234375, -0.059814453125, -0.039794921875, -0.028594970703125, -0.029022216796875, -0.01995849609375, 0.0057373046875, 0.02740478515625, 0.028900146484375, 0.02301025390625, 0.028411865234375, 0.0394287109375, 0.0380859375, 0.0245361328125, 0.015289306640625, 0.015380859375, 0.012847900390625, 0.002166748046875, -0.005523681640625, -0.00164794921875, 0.004638671875, 0.000762939453125, -0.010498046875, -0.016876220703125, -0.016021728515625, -0.0162353515625, -0.020782470703125, -0.021942138671875, -0.013336181640625, 0.0001220703125, 0.00933837890625, 0.0135498046875, 0.01910400390625, 0.028045654296875, 0.03460693359375, 0.033599853515625, 0.028045654296875, 0.02471923828125, 0.024078369140625, 0.0205078125, 0.011871337890625, 0.0047607421875, 0.006317138671875, 0.013946533203125, 0.017913818359375, 0.0137939453125, 0.0069580078125, 0.00390625, 0.00384521484375, 0.002471923828125, 0.0, 0.00079345703125, 0.00494384765625, 0.006927490234375, 0.003509521484375, -0.00067138671875, 0.001556396484375, 0.0103759765625, 0.017822265625, 0.01751708984375, 0.01287841796875, 0.01312255859375, 0.021514892578125, 0.03021240234375, 0.029815673828125, 0.021820068359375, 0.017059326171875, 0.0213623046875, 0.028961181640625, 0.032318115234375, 0.033477783203125, 0.0389404296875, 0.04547119140625, 0.0400390625, 0.0155029296875, -0.01983642578125, -0.051544189453125, -0.073028564453125, -0.086090087890625, -0.09228515625, -0.090118408203125, -0.080108642578125, -0.0673828125, -0.05657958984375, -0.048065185546875, -0.039825439453125, -0.03082275390625, -0.021942138671875, -0.014862060546875, -0.010498046875, -0.0067138671875, 0.001678466796875, 0.017730712890625, 0.036895751953125, 0.050018310546875, 0.05267333984375, 0.04901123046875, 0.0440673828125, 0.037109375, 0.0245361328125, 0.0069580078125, -0.0101318359375, -0.0213623046875, -0.02459716796875, -0.02020263671875, -0.011016845703125, -0.003082275390625, -0.002166748046875, -0.008453369140625, -0.015716552734375, -0.01812744140625, -0.014923095703125, -0.009246826171875, -0.003662109375, 0.002044677734375, 0.0098876953125, 0.021270751953125, 0.03375244140625, 0.041748046875, 0.04150390625, 0.03533935546875, 0.028778076171875, 0.023956298828125, 0.0196533203125, 0.01580810546875, 0.013336181640625, 0.009124755859375, -0.002044677734375, -0.017547607421875, -0.025848388671875, -0.0211181640625, -0.012847900390625, -0.01348876953125, -0.020782470703125, -0.023040771484375, -0.017486572265625, -0.012451171875, -0.011138916015625, -0.0059814453125, 0.005218505859375, 0.0123291015625, 0.009765625, 0.00909423828125, 0.02093505859375, 0.034210205078125, 0.029388427734375, 0.009796142578125, 0.0, 0.010772705078125, 0.0244140625, 0.022369384765625, 0.011688232421875, 0.01025390625, 0.01934814453125, 0.02581787109375, 0.026519775390625, 0.031036376953125, 0.041229248046875, 0.04388427734375, 0.028411865234375, -0.000457763671875, -0.0321044921875, -0.060516357421875, -0.081146240234375, -0.08819580078125, -0.08197021484375, -0.07232666015625, -0.065765380859375, -0.057769775390625, -0.043792724609375, -0.03082275390625, -0.0264892578125, -0.025115966796875, -0.01690673828125, -0.00665283203125, -0.00689697265625, -0.014678955078125, -0.011138916015625, 0.01068115234375, 0.033966064453125, 0.04168701171875, 0.038055419921875, 0.03619384765625, 0.03564453125, 0.02691650390625, 0.0111083984375, -0.000762939453125, -0.005584716796875, -0.010833740234375, -0.018157958984375, -0.019287109375, -0.011016845703125, -0.003143310546875, -0.0042724609375, -0.009613037109375, -0.010406494140625, -0.007598876953125, -0.006988525390625, -0.007659912109375, -0.004425048828125, 0.00164794921875, 0.004852294921875, 0.00604248046875, 0.012481689453125, 0.025634765625, 0.0374755859375, 0.04095458984375, 0.03778076171875, 0.033294677734375, 0.028228759765625, 0.020782470703125, 0.01251220703125, 0.006988525390625, 0.003936767578125, -0.00048828125, -0.008087158203125, -0.015045166015625, -0.016021728515625, -0.010955810546875, -0.006439208984375, -0.008392333984375, -0.013946533203125, -0.014434814453125, -0.007354736328125, -0.000152587890625, 0.001373291015625, 0.003143310546875, 0.013153076171875, 0.02606201171875, 0.02923583984375, 0.0228271484375, 0.020965576171875, 0.02899169921875, 0.03375244140625, 0.0255126953125, 0.016021728515625, 0.020660400390625, 0.032073974609375, 0.030059814453125, 0.01324462890625, 0.001617431640625, 0.00604248046875, 0.014068603515625, 0.01336669921875, 0.01055908203125, 0.015716552734375, 0.021697998046875, 0.01495361328125, -0.002410888671875, -0.017913818359375, -0.029693603515625, -0.045928955078125, -0.065643310546875, -0.07611083984375, -0.072296142578125, -0.06292724609375, -0.054595947265625, -0.04266357421875, -0.024749755859375, -0.00927734375, -0.0030517578125, -0.001007080078125, 0.002716064453125, 0.0037841796875, -0.00201416015625, -0.006011962890625, 0.0023193359375, 0.017822265625, 0.026336669921875, 0.02593994140625, 0.026824951171875, 0.031219482421875, 0.029205322265625, 0.016265869140625, 0.00140380859375, -0.008148193359375, -0.016326904296875, -0.026641845703125, -0.0322265625, -0.027679443359375, -0.020477294921875, -0.019866943359375, -0.021575927734375, -0.01580810546875, -0.00445556640625, 0.002288818359375, 0.003509521484375, 0.008087158203125, 0.01763916015625, 0.023773193359375, 0.0244140625, 0.028350830078125, 0.038360595703125, 0.043731689453125, 0.03668212890625, 0.026458740234375, 0.024627685546875, 0.026458740234375, 0.01983642578125, 0.00677490234375, 0.00054931640625, 0.00341796875, 0.00286865234375, -0.006805419921875, -0.014739990234375, -0.01251220703125, -0.009368896484375, -0.017669677734375, -0.0313720703125, -0.033477783203125, -0.020721435546875, -0.0072021484375, -0.002716064453125, -0.000823974609375, 0.0069580078125, 0.01708984375, 0.021728515625, 0.023040771484375, 0.028228759765625, 0.03497314453125, 0.03338623046875, 0.022918701171875, 0.01617431640625, 0.021026611328125, 0.028106689453125, 0.02374267578125, 0.009979248046875, 0.001373291015625, 0.004302978515625, 0.00933837890625, 0.00677490234375, -0.000213623046875, -0.00201416015625, 0.0032958984375, 0.010223388671875, 0.015045166015625, 0.01904296875, 0.02227783203125, 0.02105712890625, 0.01251220703125, -0.00299072265625, -0.02374267578125, -0.046356201171875, -0.063873291015625, -0.069488525390625, -0.0648193359375, -0.0579833984375, -0.052734375, -0.0447998046875, -0.03131103515625, -0.018341064453125, -0.011993408203125, -0.008819580078125, -0.00262451171875, 0.003692626953125, 0.002197265625, -0.004180908203125, -0.0023193359375, 0.012908935546875, 0.029632568359375, 0.03485107421875, 0.0306396484375, 0.0274658203125, 0.027618408203125, 0.0244140625, 0.014984130859375, 0.0030517578125, -0.009124755859375, -0.022735595703125, -0.03460693359375, -0.036895751953125, -0.028167724609375, -0.017913818359375, -0.014434814453125, -0.014373779296875, -0.009735107421875, -0.000640869140625, 0.00616455078125, 0.008575439453125, 0.010498046875, 0.013397216796875, 0.01507568359375, 0.01666259765625, 0.02337646484375, 0.03424072265625, 0.0400390625, 0.03533935546875, 0.027587890625, 0.026611328125, 0.0301513671875, 0.02734375, 0.015045166015625, 0.00164794921875, -0.00555419921875, -0.00909423828125, -0.01361083984375, -0.017547607421875, -0.018218994140625, -0.018951416015625, -0.02386474609375, -0.0281982421875, -0.023040771484375, -0.009490966796875, 0.001556396484375, 0.003509521484375, 0.002288818359375, 0.005615234375, 0.012054443359375, 0.016265869140625, 0.019927978515625, 0.028167724609375, 0.0379638671875, 0.039794921875, 0.03155517578125, 0.0228271484375, 0.021209716796875, 0.022369384765625, 0.017669677734375, 0.00775146484375, 0.00042724609375, -0.000823974609375, 0.00042724609375, 0.00042724609375, -0.000518798828125, -0.000762939453125, 0.000579833984375, 0.005218505859375, 0.0135498046875, 0.020599365234375, 0.019378662109375, 0.009368896484375, -0.003387451171875, -0.015777587890625, -0.031097412109375, -0.04937744140625, -0.061492919921875, -0.059478759765625, -0.0477294921875, -0.0369873046875, -0.03009033203125, -0.022430419921875, -0.014129638671875, -0.01092529296875, -0.012298583984375, -0.009857177734375, -0.00115966796875, 0.00408935546875, -0.00079345703125, -0.00714111328125, -0.002655029296875, 0.00958251953125, 0.016021728515625, 0.013702392578125, 0.01324462890625, 0.02020263671875, 0.024627685546875, 0.016326904296875, 0.00042724609375, -0.010650634765625, -0.014129638671875, -0.016693115234375, -0.020843505859375, -0.02105712890625, -0.01470947265625, -0.00640869140625, -0.00054931640625, 0.004608154296875, 0.0107421875, 0.014373779296875, 0.01177978515625, 0.00653076171875, 0.005462646484375, 0.010040283203125, 0.015411376953125, 0.01788330078125, 0.01885986328125, 0.02117919921875, 0.024627685546875, 0.026947021484375, 0.02655029296875, 0.022857666015625, 0.014892578125, 0.002685546875, -0.01116943359375, -0.0213623046875, -0.02362060546875, -0.0185546875, -0.012115478515625, -0.010223388671875, -0.012847900390625, -0.014312744140625, -0.010498046875, -0.0040283203125, -0.000335693359375, -0.0010986328125, -0.002777099609375, -0.001617431640625, 0.00311279296875, 0.010223388671875, 0.017822265625, 0.022735595703125, 0.02294921875, 0.0206298828125, 0.02044677734375, 0.0230712890625, 0.023834228515625, 0.01934814453125, 0.01318359375, 0.010528564453125, 0.0103759765625, 0.00726318359375, 6.103515625e-05, -0.006072998046875, -0.006439208984375, -0.002777099609375, 0.000335693359375, 0.0013427734375, 0.0023193359375, 0.00555419921875, 0.011138916015625, 0.017303466796875, 0.02215576171875, 0.0240478515625, 0.022308349609375, 0.015655517578125, 0.00225830078125, -0.01763916015625, -0.039276123046875, -0.056488037109375, -0.06719970703125, -0.0726318359375, -0.07257080078125, -0.065185546875, -0.0528564453125, -0.04168701171875, -0.033538818359375, -0.0233154296875, -0.00897216796875, 0.001556396484375, 0.000762939453125, -0.0059814453125, -0.00628662109375, 0.00244140625, 0.01153564453125, 0.016387939453125, 0.0223388671875, 0.03240966796875, 0.03973388671875, 0.03778076171875, 0.030364990234375, 0.0233154296875, 0.01318359375, -0.004852294921875, -0.024017333984375, -0.03179931640625, -0.027496337890625, -0.021514892578125, -0.017486572265625, -0.00823974609375, 0.00775146484375, 0.019317626953125, 0.01873779296875, 0.01422119140625, 0.016021728515625, 0.01995849609375, 0.0159912109375, 0.008087158203125, 0.009063720703125, 0.019195556640625, 0.024322509765625, 0.018341064453125, 0.0126953125, 0.0167236328125, 0.02203369140625, 0.016326904296875, 0.002960205078125, -0.00518798828125, -0.00592041015625, -0.008148193359375, -0.014312744140625, -0.016082763671875, -0.009979248046875, -0.004791259765625, -0.00732421875, -0.010894775390625, -0.0062255859375, 0.003387451171875, 0.00714111328125, 0.00347900390625, 0.00146484375, 0.006134033203125, 0.011810302734375, 0.013214111328125, 0.01397705078125, 0.018890380859375, 0.0244140625, 0.023468017578125, 0.01690673828125, 0.012451171875, 0.01324462890625, 0.014129638671875, 0.01080322265625, 0.005950927734375, 0.00372314453125, 0.003509521484375, 0.003021240234375, 0.00396728515625, 0.008392333984375, 0.012481689453125, 0.01104736328125, 0.00665283203125, 0.007843017578125, 0.016448974609375, 0.02410888671875, 0.0235595703125, 0.01708984375, 0.009307861328125, -0.002593994140625, -0.023193359375, -0.047943115234375, -0.06646728515625, -0.0751953125, -0.078643798828125, -0.077362060546875, -0.06597900390625, -0.044677734375, -0.02374267578125, -0.01025390625, 0.000457763671875, 0.01373291015625, 0.022552490234375, 0.017791748046875, 0.00506591796875, -0.0008544921875, 0.002838134765625, 0.00518798828125, 0.00201416015625, 0.003387451171875, 0.01580810546875, 0.0289306640625, 0.030059814453125, 0.021484375, 0.012664794921875, 0.002655029296875, -0.0150146484375, -0.035675048828125, -0.046051025390625, -0.043304443359375, -0.03729248046875, -0.03228759765625, -0.020355224609375, 0.001068115234375, 0.01971435546875, 0.02496337890625, 0.023223876953125, 0.025970458984375, 0.0306396484375, 0.02703857421875, 0.017486572265625, 0.015045166015625, 0.022186279296875, 0.027069091796875, 0.023284912109375, 0.0201416015625, 0.02496337890625, 0.029541015625, 0.022125244140625, 0.0059814453125, -0.006134033203125, -0.010986328125, -0.01617431640625, -0.02459716796875, -0.02947998046875, -0.02679443359375, -0.022186279296875, -0.02105712890625, -0.01959228515625, -0.011962890625, -0.00067138671875, 0.00665283203125, 0.00848388671875, 0.010528564453125, 0.016815185546875, 0.02471923828125, 0.030303955078125, 0.0340576171875, 0.038818359375, 0.0438232421875, 0.044403076171875, 0.03778076171875, 0.027069091796875, 0.017852783203125, 0.011383056640625, 0.0035400390625, -0.0079345703125, -0.01800537109375, -0.019561767578125, -0.01287841796875, -0.005401611328125, -0.002044677734375, 0.0006103515625, 0.007171630859375, 0.01568603515625, 0.021484375, 0.025238037109375, 0.030853271484375, 0.03607177734375, 0.03167724609375, 0.013153076171875, -0.01275634765625, -0.035675048828125, -0.05328369140625, -0.069976806640625, -0.086822509765625, -0.097137451171875, -0.093902587890625, -0.078216552734375, -0.05755615234375, -0.037933349609375, -0.02020263671875, -0.003936767578125, 0.00787353515625, 0.011810302734375, 0.009765625, 0.008880615234375, 0.01312255859375, 0.018646240234375, 0.020843505859375, 0.022216796875, 0.0286865234375, 0.038665771484375, 0.043060302734375, 0.03765869140625, 0.028076171875, 0.01885986328125, 0.005584716796875, -0.015869140625, -0.037811279296875, -0.04833984375, -0.048187255859375, -0.047943115234375, -0.049896240234375, -0.04339599609375, -0.023468017578125, -0.00103759765625, 0.011810302734375, 0.017913818359375, 0.026458740234375, 0.0355224609375, 0.036041259765625, 0.029541015625, 0.02783203125, 0.03424072265625, 0.037933349609375, 0.031402587890625, 0.02288818359375, 0.02252197265625, 0.026397705078125, 0.023345947265625, 0.012115478515625, 0.001190185546875, -0.005950927734375, -0.014495849609375, -0.026763916015625, -0.036834716796875, -0.03900146484375, -0.035675048828125, -0.0311279296875, -0.024871826171875, -0.01409912109375, -0.0001220703125, 0.012451171875, 0.02081298828125, 0.025054931640625, 0.026397705078125, 0.026519775390625, 0.026702880859375, 0.0260009765625, 0.022430419921875, 0.017181396484375, 0.01458740234375, 0.016265869140625, 0.018280029296875, 0.0172119140625, 0.014373779296875, 0.010894775390625, 0.003997802734375, -0.006744384765625, -0.0135498046875, -0.00927734375, 0.0010986328125, 0.007080078125, 0.008514404296875, 0.015411376953125, 0.030181884765625, 0.041839599609375, 0.041900634765625, 0.0345458984375, 0.024322509765625, 0.00506591796875, -0.02880859375, -0.066925048828125, -0.093017578125, -0.104736328125, -0.1103515625, -0.1097412109375, -0.093658447265625, -0.0640869140625, -0.0374755859375, -0.022430419921875, -0.008941650390625, 0.011138916015625, 0.026641845703125, 0.0244140625, 0.012664794921875, 0.010223388671875, 0.018218994140625, 0.021514892578125, 0.016265869140625, 0.016693115234375, 0.030303955078125, 0.043670654296875, 0.0428466796875, 0.032958984375, 0.025634765625, 0.018463134765625, 0.00189208984375, -0.020843505859375, -0.036590576171875, -0.04193115234375, -0.045074462890625, -0.047576904296875, -0.039581298828125, -0.01776123046875, 0.005706787109375, 0.019134521484375, 0.025390625, 0.031951904296875, 0.035888671875, 0.030242919921875, 0.0191650390625, 0.014007568359375, 0.0164794921875, 0.017181396484375, 0.01177978515625, 0.00799560546875, 0.01251220703125, 0.019866943359375, 0.02044677734375, 0.013427734375, 0.005218505859375, -0.00128173828125, -0.009185791015625, -0.0201416015625, -0.03033447265625, -0.035247802734375, -0.034271240234375, -0.029693603515625, -0.02178955078125, -0.008819580078125, 0.00885009765625, 0.02606201171875, 0.03594970703125, 0.036102294921875, 0.03106689453125, 0.027130126953125, 0.025390625, 0.02276611328125, 0.018463134765625, 0.015289306640625, 0.013885498046875, 0.01080322265625, 0.0050048828125, 0.0009765625, 0.001861572265625, 0.00286865234375, -0.00201416015625, -0.00982666015625, -0.011962890625, -0.0069580078125, -0.00146484375, 0.00115966796875, 0.005645751953125, 0.01519775390625, 0.02496337890625, 0.0308837890625, 0.037139892578125, 0.04833984375, 0.0574951171875, 0.052154541015625, 0.0301513671875, 0.00146484375, -0.025482177734375, -0.052154541015625, -0.080841064453125, -0.105743408203125, -0.1182861328125, -0.115875244140625, -0.101959228515625, -0.080169677734375, -0.053466796875, -0.02679443359375, -0.00518798828125, 0.009490966796875, 0.01763916015625, 0.01934814453125, 0.01593017578125, 0.011932373046875, 0.011962890625, 0.016143798828125, 0.022003173828125, 0.029693603515625, 0.0406494140625, 0.05145263671875, 0.05511474609375, 0.048431396484375, 0.034454345703125, 0.0162353515625, -0.00634765625, -0.03106689453125, -0.05126953125, -0.062286376953125, -0.06591796875, -0.064361572265625, -0.055389404296875, -0.037689208984375, -0.017364501953125, -0.002044677734375, 0.009002685546875, 0.02154541015625, 0.03399658203125, 0.03802490234375, 0.031646728515625, 0.023895263671875, 0.0220947265625, 0.0225830078125, 0.019622802734375, 0.016265869140625, 0.018798828125, 0.024383544921875, 0.024017333984375, 0.01641845703125, 0.009307861328125, 0.006072998046875, 0.000335693359375, -0.012969970703125, -0.027587890625, -0.0345458984375, -0.034393310546875, -0.03375244140625, -0.032745361328125, -0.024505615234375, -0.007110595703125, 0.01171875, 0.02447509765625, 0.0325927734375, 0.0408935546875, 0.04766845703125, 0.046356201171875, 0.036041259765625, 0.0238037109375, 0.0157470703125, 0.010498046875, 0.004608154296875, -0.000152587890625, 0.000640869140625, 0.005615234375, 0.008209228515625, 0.006317138671875, 0.005828857421875, 0.010833740234375, 0.0155029296875, 0.011688232421875, 0.00262451171875, 0.00054931640625, 0.01031494140625, 0.023040771484375, 0.030029296875, 0.0357666015625, 0.047943115234375, 0.060882568359375, 0.059326171875, 0.038543701171875, 0.010284423828125, -0.01544189453125, -0.042724609375, -0.07757568359375, -0.1116943359375, -0.130126953125, -0.130401611328125, -0.122222900390625, -0.1097412109375, -0.086456298828125, -0.051788330078125, -0.020111083984375, -0.003997802734375, 0.002655029296875, 0.013427734375, 0.02740478515625, 0.03118896484375, 0.021759033203125, 0.014190673828125, 0.02105712890625, 0.036163330078125, 0.045745849609375, 0.048187255859375, 0.0518798828125, 0.057586669921875, 0.055084228515625, 0.03857421875, 0.015625, -0.004058837890625, -0.0211181640625, -0.04095458984375, -0.06060791015625, -0.069091796875, -0.061492919921875, -0.04498291015625, -0.02850341796875, -0.01226806640625, 0.008697509765625, 0.03253173828125, 0.049346923828125, 0.05255126953125, 0.047210693359375, 0.0430908203125, 0.04229736328125, 0.03875732421875, 0.02947998046875, 0.020660400390625, 0.019256591796875, 0.02288818359375, 0.023284912109375, 0.018280029296875, 0.01324462890625, 0.0107421875, 0.0048828125, -0.00970458984375, -0.029022216796875, -0.044586181640625, -0.05401611328125, -0.0601806640625, -0.06170654296875, -0.052154541015625, -0.02978515625, -0.00201416015625, 0.02313232421875, 0.044219970703125, 0.0621337890625, 0.07293701171875, 0.071441650390625, 0.059539794921875, 0.044891357421875, 0.03118896484375, 0.015960693359375, -0.00128173828125, -0.0142822265625, -0.01702880859375, -0.0118408203125, -0.00616455078125, -0.003631591796875, -0.0013427734375, 0.00372314453125, 0.0096435546875, 0.011749267578125, 0.00909423828125, 0.005767822265625, 0.00640869140625, 0.0111083984375, 0.017242431640625, 0.024383544921875, 0.03533935546875, 0.049835205078125, 0.059906005859375, 0.056884765625, 0.04156494140625, 0.022186279296875, 0.001556396484375, -0.027191162109375, -0.06842041015625, -0.112457275390625, -0.14324951171875, -0.15411376953125, -0.150115966796875, -0.136199951171875, -0.111541748046875, -0.076995849609375, -0.040557861328125, -0.010406494140625, 0.0123291015625, 0.029693603515625, 0.04010009765625, 0.0418701171875, 0.03912353515625, 0.038482666015625, 0.041046142578125, 0.0428466796875, 0.043304443359375, 0.046478271484375, 0.052642822265625, 0.05523681640625, 0.04840087890625, 0.03289794921875, 0.012969970703125, -0.009307861328125, -0.032684326171875, -0.05364990234375, -0.068115234375, -0.075164794921875, -0.075408935546875, -0.06793212890625, -0.052825927734375, -0.0335693359375, -0.01409912109375, 0.005096435546875, 0.02435302734375, 0.04046630859375, 0.049346923828125, 0.052581787109375, 0.054901123046875, 0.0560302734375, 0.051177978515625, 0.041015625, 0.03363037109375, 0.03387451171875, 0.03582763671875, 0.0318603515625, 0.02337646484375, 0.016082763671875, 0.0086669921875, -0.005279541015625, -0.02508544921875, -0.041717529296875, -0.050262451171875, -0.055877685546875, -0.0623779296875, -0.063323974609375, -0.050079345703125, -0.025054931640625, 0.001312255859375, 0.022857666015625, 0.040802001953125, 0.054931640625, 0.060150146484375, 0.054229736328125, 0.042633056640625, 0.031585693359375, 0.02130126953125, 0.0098876953125, -9.1552734375e-05, -0.004241943359375, -0.00347900390625, -0.002655029296875, -0.002532958984375, 0.00140380859375, 0.010406494140625, 0.017822265625, 0.0172119140625, 0.0108642578125, 0.007049560546875, 0.009765625, 0.016326904296875, 0.02362060546875, 0.032379150390625, 0.042816162109375, 0.050079345703125, 0.04925537109375, 0.042388916015625, 0.03680419921875, 0.034912109375, 0.02996826171875, 0.013885498046875, -0.01226806640625, -0.03887939453125, -0.058074951171875, -0.070953369140625, -0.08404541015625, -0.100494384765625, -0.11669921875, -0.126251220703125, -0.12579345703125, -0.11627197265625, -0.1004638671875, -0.080169677734375, -0.05645751953125, -0.031005859375, -0.006591796875, 0.014923095703125, 0.033935546875, 0.051483154296875, 0.066070556640625, 0.0743408203125, 0.07464599609375, 0.069427490234375, 0.0621337890625, 0.05377197265625, 0.044158935546875, 0.03375244140625, 0.023284912109375, 0.01129150390625, -0.004180908203125, -0.021331787109375, -0.03497314453125, -0.0428466796875, -0.047882080078125, -0.05267333984375, -0.05377197265625, -0.04632568359375, -0.031097412109375, -0.013885498046875, 0.002655029296875, 0.020477294921875, 0.03936767578125, 0.053314208984375, 0.056976318359375, 0.052734375, 0.04693603515625, 0.041290283203125, 0.033203125, 0.022735595703125, 0.015106201171875, 0.014068603515625, 0.01702880859375, 0.0189208984375, 0.0181884765625, 0.015899658203125, 0.011138916015625, 0.0015869140625, -0.01214599609375, -0.026092529296875, -0.0372314453125, -0.04547119140625, -0.05035400390625, -0.04833984375, -0.03631591796875, -0.016204833984375, 0.005889892578125, 0.025390625, 0.041168212890625, 0.05242919921875, 0.056243896484375, 0.050628662109375, 0.038818359375, 0.027252197265625, 0.0194091796875, 0.0135498046875, 0.007720947265625, 0.00421142578125, 0.005645751953125, 0.009521484375, 0.009796142578125, 0.005340576171875, 0.001129150390625, 0.00048828125, 0.0001220703125, -0.003265380859375, -0.0057373046875, -0.00054931640625, 0.011932373046875, 0.02435302734375, 0.0335693359375, 0.04345703125, 0.055572509765625, 0.06317138671875, 0.059906005859375, 0.04949951171875, 0.0399169921875, 0.0308837890625, 0.015350341796875, -0.007965087890625, -0.030670166015625, -0.04644775390625, -0.058319091796875, -0.071533203125, -0.085174560546875, -0.0963134765625, -0.10675048828125, -0.118499755859375, -0.125701904296875, -0.119476318359375, -0.1007080078125, -0.07952880859375, -0.0611572265625, -0.0400390625, -0.011810302734375, 0.016937255859375, 0.036468505859375, 0.046417236328125, 0.05364990234375, 0.060150146484375, 0.061004638671875, 0.05401611328125, 0.0447998046875, 0.039825439453125, 0.0390625, 0.0380859375, 0.034393310546875, 0.028564453125, 0.02178955078125, 0.014892578125, 0.0078125, -0.001007080078125, -0.012786865234375, -0.024993896484375, -0.032196044921875, -0.032501220703125, -0.029937744140625, -0.028411865234375, -0.025543212890625, -0.017059326171875, -0.0045166015625, 0.00653076171875, 0.014617919921875, 0.02276611328125, 0.030853271484375, 0.03350830078125, 0.0281982421875, 0.020233154296875, 0.016021728515625, 0.01513671875, 0.013519287109375, 0.010986328125, 0.010528564453125, 0.011993408203125, 0.0108642578125, 0.00518798828125, -0.0025634765625, -0.010009765625, -0.017364501953125, -0.023529052734375, -0.02496337890625, -0.02020263671875, -0.012725830078125, -0.00634765625, -0.000732421875, 0.00616455078125, 0.013092041015625, 0.016815185546875, 0.0167236328125, 0.01446533203125, 0.01068115234375, 0.005126953125, -0.000244140625, -0.002410888671875, -0.001800537109375, -0.0013427734375, -0.00103759765625, 0.002593994140625, 0.0098876953125, 0.01544189453125, 0.01495361328125, 0.011383056640625, 0.010223388671875, 0.011505126953125, 0.011627197265625, 0.010589599609375, 0.012847900390625, 0.019866943359375, 0.027313232421875, 0.031494140625, 0.03369140625, 0.036163330078125, 0.037506103515625, 0.03509521484375, 0.02923583984375, 0.021820068359375, 0.01190185546875, -0.001983642578125, -0.01715087890625, -0.028594970703125, -0.035858154296875, -0.044036865234375, -0.0562744140625, -0.069000244140625, -0.077301025390625, -0.080963134765625, -0.08355712890625, -0.08624267578125, -0.086334228515625, -0.08123779296875, -0.07183837890625, -0.06060791015625, -0.049652099609375, -0.039276123046875, -0.02880859375, -0.01776123046875, -0.007171630859375, 0.0009765625, 0.006378173828125, 0.010772705078125, 0.015045166015625, 0.0177001953125, 0.0181884765625, 0.019805908203125, 0.025482177734375, 0.031707763671875, 0.03228759765625, 0.02764892578125, 0.024627685546875, 0.025177001953125, 0.02203369140625, 0.009979248046875, -0.003875732421875, -0.0089111328125, -0.0057373046875, -0.00421142578125, -0.00738525390625, -0.007354736328125, 0.001129150390625, 0.0111083984375, 0.014251708984375, 0.013214111328125, 0.01568603515625, 0.021148681640625, 0.021636962890625, 0.01531982421875, 0.009918212890625, 0.01031494140625, 0.011688232421875, 0.008636474609375, 0.0042724609375, 0.00457763671875, 0.00836181640625, 0.00958251953125, 0.007293701171875, 0.006103515625, 0.007904052734375, 0.00885009765625, 0.006256103515625, 0.002960205078125, 0.00201416015625, 0.001708984375, -0.000762939453125, -0.00384521484375, -0.00360107421875, 0.00018310546875, 0.0040283203125, 0.00604248046875, 0.00762939453125, 0.00946044921875, 0.0096435546875, 0.006805419921875, 0.002960205078125, 0.00018310546875, -0.001953125, -0.00445556640625, -0.00531005859375, -0.001708984375, 0.00531005859375, 0.0113525390625, 0.014373779296875, 0.01702880859375, 0.021270751953125, 0.024139404296875, 0.0216064453125, 0.0150146484375, 0.009765625, 0.008270263671875, 0.0078125, 0.006683349609375, 0.007659912109375, 0.013427734375, 0.0211181640625, 0.0252685546875, 0.024566650390625, 0.022003173828125, 0.019012451171875, 0.014190673828125, 0.007537841796875, 0.00189208984375, -0.001007080078125, -0.003387451171875, -0.0069580078125, -0.0093994140625, -0.00921630859375, -0.010162353515625, -0.0169677734375, -0.0279541015625, -0.0372314453125, -0.043731689453125, -0.05224609375, -0.064483642578125, -0.07452392578125, -0.076385498046875, -0.07183837890625, -0.06610107421875, -0.059661865234375, -0.048828125, -0.034210205078125, -0.020965576171875, -0.012176513671875, -0.0057373046875, -0.00048828125, 0.00079345703125, -0.002593994140625, -0.004486083984375, 0.001678466796875, 0.012939453125, 0.020233154296875, 0.02105712890625, 0.023284912109375, 0.033538818359375, 0.047119140625, 0.05352783203125, 0.0501708984375, 0.043853759765625, 0.0399169921875, 0.035858154296875, 0.02783203125, 0.018463134765625, 0.01275634765625, 0.010162353515625, 0.00634765625, 0.001678466796875, 0.001983642578125, 0.008544921875, 0.014251708984375, 0.013519287109375, 0.010528564453125, 0.012481689453125, 0.01806640625, 0.01953125, 0.01513671875, 0.01104736328125, 0.010162353515625, 0.0074462890625, -0.000396728515625, -0.008270263671875, -0.01025390625, -0.009033203125, -0.010498046875, -0.012725830078125, -0.00946044921875, -0.001617431640625, 0.002593994140625, 0.000457763671875, -0.001739501953125, 0.000274658203125, 0.001800537109375, -0.0013427734375, -0.0042724609375, -0.000823974609375, 0.0057373046875, 0.0076904296875, 0.00555419921875, 0.0069580078125, 0.0137939453125, 0.018829345703125, 0.017181396484375, 0.0130615234375, 0.011962890625, 0.01153564453125, 0.007232666015625, 3.0517578125e-05, -0.004638671875, -0.0054931640625, -0.0062255859375, -0.00921630859375, -0.0125732421875, -0.01348876953125, -0.011505126953125, -0.007537841796875, -0.0032958984375, -0.000640869140625, 6.103515625e-05, 0.0015869140625, 0.006500244140625, 0.01312255859375, 0.017822265625, 0.020294189453125, 0.0228271484375, 0.0250244140625, 0.023529052734375, 0.01885986328125, 0.016632080078125, 0.019561767578125, 0.022491455078125, 0.01947021484375, 0.01263427734375, 0.008392333984375, 0.0068359375, 0.001373291015625, -0.011383056640625, -0.026580810546875, -0.038787841796875, -0.048675537109375, -0.05950927734375, -0.0701904296875, -0.077117919921875, -0.08001708984375, -0.082183837890625, -0.0838623046875, -0.08056640625, -0.0701904296875, -0.057464599609375, -0.048736572265625, -0.043670654296875, -0.03656005859375, -0.02459716796875, -0.011993408203125, -0.003204345703125, 0.00347900390625, 0.01263427734375, 0.02423095703125, 0.033905029296875, 0.040374755859375, 0.047210693359375, 0.05560302734375, 0.061004638671875, 0.059814453125, 0.0562744140625, 0.056243896484375, 0.057464599609375, 0.052825927734375, 0.04278564453125, 0.036285400390625, 0.037567138671875, 0.039581298828125, 0.0352783203125, 0.028533935546875, 0.02691650390625, 0.028289794921875, 0.023834228515625, 0.012481689453125, 0.0028076171875, -0.000823974609375, -0.004791259765625, -0.014434814453125, -0.024444580078125, -0.027099609375, -0.0242919921875, -0.023162841796875, -0.024383544921875, -0.022735595703125, -0.01812744140625, -0.01678466796875, -0.0208740234375, -0.02410888671875, -0.021636962890625, -0.01702880859375, -0.01495361328125, -0.013031005859375, -0.006072998046875, 0.004638671875, 0.013671875, 0.02020263671875, 0.027862548828125, 0.035614013671875, 0.037384033203125, 0.031829833984375, 0.025482177734375, 0.022735595703125, 0.019195556640625, 0.009735107421875, -0.001129150390625, -0.00555419921875, -0.00482177734375, -0.007110595703125, -0.0128173828125, -0.012908935546875, -0.0037841796875, 0.00469970703125, 0.00360107421875, -0.000762939453125, 0.00311279296875, 0.013092041015625, 0.016082763671875, 0.00933837890625, 0.005218505859375, 0.011383056640625, 0.018798828125, 0.0172119140625, 0.012725830078125, 0.017547607421875, 0.0291748046875, 0.0343017578125, 0.03070068359375, 0.02996826171875, 0.036712646484375, 0.03948974609375, 0.030242919921875, 0.018341064453125, 0.015289306640625, 0.015716552734375, 0.007171630859375, -0.008056640625, -0.016571044921875, -0.01654052734375, -0.020904541015625, -0.0355224609375, -0.050872802734375, -0.05963134765625, -0.068817138671875, -0.08489990234375, -0.099151611328125, -0.1009521484375, -0.09539794921875, -0.094329833984375, -0.096435546875, -0.090179443359375, -0.075164794921875, -0.063323974609375, -0.0592041015625, -0.05413818359375, -0.0438232421875, -0.0362548828125, -0.034423828125, -0.02667236328125, -0.00445556640625, 0.021514892578125, 0.0369873046875, 0.0465087890625, 0.064605712890625, 0.089019775390625, 0.101531982421875, 0.095489501953125, 0.0845947265625, 0.08013916015625, 0.075042724609375, 0.05999755859375, 0.041595458984375, 0.031951904296875, 0.03033447265625, 0.02740478515625, 0.022857666015625, 0.023651123046875, 0.02850341796875, 0.027374267578125, 0.017669677734375, 0.007598876953125, 0.001007080078125, -0.009002685546875, -0.02593994140625, -0.040985107421875, -0.045318603515625, -0.043060302734375, -0.04296875, -0.043792724609375, -0.037841796875, -0.0260009765625, -0.017364501953125, -0.015228271484375, -0.013153076171875, -0.00787353515625, -0.005279541015625, -0.01019287109375, -0.01690673828125, -0.01739501953125, -0.012939453125, -0.010467529296875, -0.010284423828125, -0.005126953125, 0.007843017578125, 0.0220947265625, 0.03045654296875, 0.03375244140625, 0.036956787109375, 0.04034423828125, 0.0391845703125, 0.03106689453125, 0.020172119140625, 0.01214599609375, 0.007720947265625, 0.00396728515625, 0.00030517578125, -6.103515625e-05, 0.00421142578125, 0.0086669921875, 0.008148193359375, 0.003753662109375, 0.001220703125, 0.001922607421875, 0.0006103515625, -0.006317138671875, -0.01397705078125, -0.0146484375, -0.00799560546875, -0.00048828125, 0.004852294921875, 0.011962890625, 0.0238037109375, 0.035552978515625, 0.0408935546875, 0.04046630859375, 0.03997802734375, 0.041046142578125, 0.039794921875, 0.03485107421875, 0.030731201171875, 0.031036376953125, 0.0330810546875, 0.032135009765625, 0.028839111328125, 0.02703857421875, 0.0263671875, 0.022186279296875, 0.01287841796875, 0.002227783203125, -0.007904052734375, -0.02130126953125, -0.0408935546875, -0.0621337890625, -0.07757568359375, -0.08660888671875, -0.09417724609375, -0.101226806640625, -0.103546142578125, -0.100006103515625, -0.095672607421875, -0.093048095703125, -0.0877685546875, -0.077362060546875, -0.068267822265625, -0.066864013671875, -0.067840576171875, -0.06109619140625, -0.0477294921875, -0.038177490234375, -0.033782958984375, -0.022918701171875, 0.0001220703125, 0.02398681640625, 0.036834716796875, 0.04400634765625, 0.057159423828125, 0.07281494140625, 0.07666015625, 0.067535400390625, 0.06036376953125, 0.06298828125, 0.065216064453125, 0.058074951171875, 0.050018310546875, 0.0523681640625, 0.059356689453125, 0.057464599609375, 0.04803466796875, 0.0440673828125, 0.046600341796875, 0.041229248046875, 0.02197265625, 0.001739501953125, -0.007568359375, -0.012237548828125, -0.02325439453125, -0.037322998046875, -0.043701171875, -0.043426513671875, -0.045928955078125, -0.050384521484375, -0.04644775390625, -0.03399658203125, -0.027130126953125, -0.031707763671875, -0.03472900390625, -0.024169921875, -0.008941650390625, -0.004852294921875, -0.009765625, -0.007598876953125, 0.005401611328125, 0.01544189453125, 0.01422119140625, 0.01123046875, 0.016693115234375, 0.02435302734375, 0.02288818359375, 0.01531982421875, 0.013885498046875, 0.01934814453125, 0.020050048828125, 0.011749267578125, 0.004241943359375, 0.00506591796875, 0.007171630859375, 0.001556396484375, -0.006988525390625, -0.006988525390625, 0.00152587890625, 0.006988525390625, 0.003692626953125, -0.000946044921875, 0.00067138671875, 0.00518798828125, 0.005157470703125, 0.00067138671875, -0.002349853515625, -0.001922607421875, -0.001373291015625, -0.002593994140625, -0.00262451171875, 0.001007080078125, 0.00665283203125, 0.011627197265625, 0.016387939453125, 0.0228271484375, 0.031005859375, 0.038238525390625, 0.042694091796875, 0.044891357421875, 0.046356201171875, 0.0474853515625, 0.04779052734375, 0.04742431640625, 0.046600341796875, 0.043731689453125, 0.035797119140625, 0.022857666015625, 0.0103759765625, 0.002655029296875, -0.0047607421875, -0.02069091796875, -0.0452880859375, -0.067413330078125, -0.078826904296875, -0.085479736328125, -0.097381591796875, -0.112060546875, -0.118133544921875, -0.113861083984375, -0.109954833984375, -0.111846923828125, -0.1103515625, -0.09686279296875, -0.077972412109375, -0.06494140625, -0.05572509765625, -0.040191650390625, -0.0194091796875, -0.005035400390625, -3.0517578125e-05, 0.007049560546875, 0.022735595703125, 0.03814697265625, 0.0439453125, 0.046630859375, 0.057525634765625, 0.073455810546875, 0.081298828125, 0.07843017578125, 0.07586669921875, 0.0797119140625, 0.08221435546875, 0.075164794921875, 0.06231689453125, 0.052642822265625, 0.047454833984375, 0.0421142578125, 0.0360107421875, 0.032501220703125, 0.031341552734375, 0.028411865234375, 0.022491455078125, 0.016510009765625, 0.01141357421875, 0.003448486328125, -0.010345458984375, -0.027191162109375, -0.04193115234375, -0.052093505859375, -0.0582275390625, -0.060882568359375, -0.058807373046875, -0.050750732421875, -0.037017822265625, -0.020721435546875, -0.006500244140625, 0.0029296875, 0.008544921875, 0.012420654296875, 0.014495849609375, 0.013763427734375, 0.011383056640625, 0.0103759765625, 0.011627197265625, 0.0142822265625, 0.019287109375, 0.028411865234375, 0.039031982421875, 0.044891357421875, 0.04388427734375, 0.040985107421875, 0.039459228515625, 0.034912109375, 0.022247314453125, 0.00592041015625, -0.0050048828125, -0.009735107421875, -0.015350341796875, -0.023895263671875, -0.027740478515625, -0.0225830078125, -0.015472412109375, -0.0145263671875, -0.016326904296875, -0.012176513671875, -0.002532958984375, 0.003326416015625, 0.00152587890625, -0.00140380859375, 0.000762939453125, 0.005859375, 0.00933837890625, 0.01165771484375, 0.015228271484375, 0.019317626953125, 0.0224609375, 0.0267333984375, 0.0341796875, 0.041534423828125, 0.044281005859375, 0.044097900390625, 0.0458984375, 0.04962158203125, 0.050537109375, 0.04736328125, 0.04425048828125, 0.042724609375, 0.0394287109375, 0.03338623046875, 0.02862548828125, 0.02685546875, 0.02276611328125, 0.012298583984375, 0.000335693359375, -0.00726318359375, -0.013885498046875, -0.0274658203125, -0.047332763671875, -0.065216064453125, -0.078369140625, -0.09246826171875, -0.109405517578125, -0.12158203125, -0.123504638671875, -0.120391845703125, -0.118408203125, -0.11419677734375, -0.1016845703125, -0.0843505859375, -0.0703125, -0.05865478515625, -0.04144287109375, -0.019561767578125, -0.003631591796875, 0.00341796875, 0.01318359375, 0.0338134765625, 0.055999755859375, 0.066650390625, 0.069488525390625, 0.078826904296875, 0.0963134765625, 0.1077880859375, 0.10467529296875, 0.095947265625, 0.092681884765625, 0.091949462890625, 0.084564208984375, 0.071319580078125, 0.061248779296875, 0.0557861328125, 0.04742431640625, 0.033538818359375, 0.0213623046875, 0.015625, 0.010345458984375, -0.001251220703125, -0.0150146484375, -0.02239990234375, -0.024322509765625, -0.029449462890625, -0.0396728515625, -0.04644775390625, -0.0438232421875, -0.037750244140625, -0.036376953125, -0.037841796875, -0.0343017578125, -0.0247802734375, -0.016815185546875, -0.01446533203125, -0.013214111328125, -0.008087158203125, -0.00152587890625, 0.00189208984375, 0.00341796875, 0.007720947265625, 0.014678955078125, 0.020172119140625, 0.02374267578125, 0.028961181640625, 0.03631591796875, 0.040740966796875, 0.038970947265625, 0.0345458984375, 0.032623291015625, 0.03277587890625, 0.031005859375, 0.02581787109375, 0.01922607421875, 0.013336181640625, 0.00897216796875, 0.006378173828125, 0.00396728515625, -0.00146484375, -0.01025390625, -0.017486572265625, -0.01934814453125, -0.019775390625, -0.02471923828125, -0.03192138671875, -0.033416748046875, -0.027984619140625, -0.023345947265625, -0.02313232421875, -0.02099609375, -0.011932373046875, -0.0009765625, 0.006011962890625, 0.01202392578125, 0.021942138671875, 0.031219482421875, 0.0330810546875, 0.032623291015625, 0.040008544921875, 0.052001953125, 0.054443359375, 0.045013427734375, 0.038055419921875, 0.041748046875, 0.0443115234375, 0.0345458984375, 0.021087646484375, 0.018280029296875, 0.02203369140625, 0.017242431640625, 0.00408935546875, -0.002655029296875, 0.000640869140625, 0.000396728515625, -0.0108642578125, -0.022613525390625, -0.026702880859375, -0.032379150390625, -0.049346923828125, -0.06964111328125, -0.0806884765625, -0.08697509765625, -0.10028076171875, -0.116363525390625, -0.11932373046875, -0.108062744140625, -0.097869873046875, -0.09478759765625, -0.086212158203125, -0.065093994140625, -0.0440673828125, -0.035675048828125, -0.03289794921875, -0.02264404296875, -0.00848388671875, -0.002197265625, -0.000946044921875, 0.009429931640625, 0.030609130859375, 0.049346923828125, 0.059539794921875, 0.070526123046875, 0.0875244140625, 0.09979248046875, 0.097808837890625, 0.088592529296875, 0.0831298828125, 0.077728271484375, 0.061920166015625, 0.039154052734375, 0.024383544921875, 0.021820068359375, 0.02020263671875, 0.011688232421875, 0.003692626953125, 0.004486083984375, 0.00830078125, 0.003875732421875, -0.00872802734375, -0.019744873046875, -0.025543212890625, -0.03265380859375, -0.044921875, -0.05511474609375, -0.0548095703125, -0.04608154296875, -0.038116455078125, -0.03411865234375, -0.028167724609375, -0.0152587890625, 0.00054931640625, 0.011383056640625, 0.015167236328125, 0.0159912109375, 0.017303466796875, 0.01861572265625, 0.019317626953125, 0.020904541015625, 0.02313232421875, 0.022674560546875, 0.01898193359375, 0.01739501953125, 0.02178955078125, 0.02679443359375, 0.0240478515625, 0.014617919921875, 0.008209228515625, 0.008819580078125, 0.009063720703125, 0.002105712890625, -0.007843017578125, -0.012725830078125, -0.01275634765625, -0.01385498046875, -0.017059326171875, -0.017791748046875, -0.01531982421875, -0.01409912109375, -0.015380859375, -0.015228271484375, -0.01220703125, -0.010040283203125, -0.010223388671875, -0.008941650390625, -0.00439453125, -0.000732421875, -0.000335693359375, 0.00103759765625, 0.006622314453125, 0.011962890625, 0.01287841796875, 0.013427734375, 0.01861572265625, 0.0233154296875, 0.020416259765625, 0.015899658203125, 0.022247314453125, 0.038177490234375, 0.047576904296875, 0.0435791015625, 0.038970947265625, 0.044921875, 0.0526123046875, 0.047637939453125, 0.032958984375, 0.023193359375, 0.021331787109375, 0.01702880859375, 0.005950927734375, -0.003753662109375, -0.0068359375, -0.00848388671875, -0.0123291015625, -0.0146484375, -0.016571044921875, -0.029022216796875, -0.05560302734375, -0.081756591796875, -0.093414306640625, -0.0980224609375, -0.111907958984375, -0.132080078125, -0.13818359375, -0.12158203125, -0.0963134765625, -0.077484130859375, -0.063232421875, -0.046600341796875, -0.030364990234375, -0.02044677734375, -0.01397705078125, -0.005859375, 3.0517578125e-05, -0.0018310546875, -0.004791259765625, 0.003173828125, 0.0206298828125, 0.034332275390625, 0.0406494140625, 0.050811767578125, 0.07086181640625, 0.089202880859375, 0.092987060546875, 0.086334228515625, 0.081512451171875, 0.0792236328125, 0.0697021484375, 0.05072021484375, 0.03173828125, 0.018951416015625, 0.008148193359375, -0.004638671875, -0.013458251953125, -0.0115966796875, -0.00390625, -0.00164794921875, -0.008087158203125, -0.015625, -0.017669677734375, -0.017181396484375, -0.020843505859375, -0.029693603515625, -0.03875732421875, -0.044219970703125, -0.046600341796875, -0.046722412109375, -0.042449951171875, -0.0325927734375, -0.02032470703125, -0.0107421875, -0.00390625, 0.005035400390625, 0.01751708984375, 0.02813720703125, 0.031341552734375, 0.029571533203125, 0.02947998046875, 0.032501220703125, 0.0340576171875, 0.03192138671875, 0.0294189453125, 0.028778076171875, 0.02703857421875, 0.021759033203125, 0.0159912109375, 0.01318359375, 0.010650634765625, 0.004058837890625, -0.004669189453125, -0.00982666015625, -0.010833740234375, -0.01263427734375, -0.017364501953125, -0.021392822265625, -0.022064208984375, -0.021636962890625, -0.022430419921875, -0.023101806640625, -0.022552490234375, -0.02294921875, -0.025054931640625, -0.02490234375, -0.019866943359375, -0.012908935546875, -0.00726318359375, -0.00079345703125, 0.009002685546875, 0.017669677734375, 0.01959228515625, 0.01885986328125, 0.024932861328125, 0.03778076171875, 0.046234130859375, 0.04400634765625, 0.038330078125, 0.037353515625, 0.037353515625, 0.030181884765625, 0.0169677734375, 0.00640869140625, 0.00177001953125, -0.001434326171875, -0.0057373046875, -0.007904052734375, -0.005828857421875, -0.002471923828125, -0.000823974609375, -0.0001220703125, 0.001068115234375, 0.00286865234375, 0.005706787109375, 0.007110595703125, -0.001861572265625, -0.028839111328125, -0.0654296875, -0.091217041015625, -0.0982666015625, -0.103118896484375, -0.12322998046875, -0.15032958984375, -0.160064697265625, -0.144500732421875, -0.119903564453125, -0.101104736328125, -0.084869384765625, -0.06353759765625, -0.040771484375, -0.023895263671875, -0.0103759765625, 0.0048828125, 0.01751708984375, 0.020904541015625, 0.02117919921875, 0.030517578125, 0.0474853515625, 0.058868408203125, 0.061614990234375, 0.0675048828125, 0.081634521484375, 0.09161376953125, 0.086700439453125, 0.07550048828125, 0.070770263671875, 0.067535400390625, 0.051361083984375, 0.024169921875, 0.003143310546875, -0.005767822265625, -0.01495361328125, -0.03173828125, -0.043365478515625, -0.037445068359375, -0.023345947265625, -0.018829345703125, -0.023345947265625, -0.021331787109375, -0.009429931640625, -0.003204345703125, -0.011871337890625, -0.022186279296875, -0.016998291015625, 0.000152587890625, 0.011566162109375, 0.011993408203125, 0.014373779296875, 0.028961181640625, 0.047515869140625, 0.056121826171875, 0.054351806640625, 0.05328369140625, 0.05645751953125, 0.054046630859375, 0.03924560546875, 0.02069091796875, 0.011688232421875, 0.011016845703125, 0.005767822265625, -0.007720947265625, -0.016937255859375, -0.013427734375, -0.00897216796875, -0.01934814453125, -0.03887939453125, -0.04632568359375, -0.03704833984375, -0.03106689453125, -0.04229736328125, -0.05645751953125, -0.05389404296875, -0.04083251953125, -0.0369873046875, -0.0390625, -0.02227783203125, 0.01904296875, 0.05755615234375, 0.07177734375, 0.075531005859375, 0.09051513671875, 0.107025146484375, 0.099456787109375, 0.069305419921875, 0.044097900390625, 0.033599853515625, 0.01885986328125, -0.00811767578125, -0.0245361328125, -0.014190673828125, 0.0020751953125, -0.00164794921875, -0.01324462890625, -0.0028076171875, 0.025848388671875, 0.038543701171875, 0.02532958984375, 0.015533447265625, 0.029998779296875, 0.050537109375, 0.05462646484375, 0.051788330078125, 0.061676025390625, 0.076080322265625, 0.07342529296875, 0.05633544921875, 0.04559326171875, 0.043121337890625, 0.03155517578125, 0.009613037109375, -0.004608154296875, -0.008392333984375, -0.0211181640625, -0.044891357421875, -0.052398681640625, -0.032623291015625, -0.0191650390625, -0.04534912109375, -0.095794677734375, -0.135528564453125, -0.166412353515625, -0.212615966796875, -0.258544921875, -0.2540283203125, -0.19000244140625, -0.12158203125, -0.091461181640625, -0.070709228515625, -0.012176513671875, 0.067840576171875, 0.108795166015625, 0.09423828125, 0.06951904296875, 0.068695068359375, 0.071563720703125, 0.052734375, 0.032012939453125, 0.041961669921875, 0.069976806640625, 0.0740966796875, 0.0477294921875, 0.028228759765625, 0.03570556640625, 0.0391845703125, 0.0020751953125, -0.063232421875, -0.112762451171875, -0.12994384765625, -0.13818359375, -0.1556396484375, -0.164886474609375, -0.140350341796875, -0.087493896484375, -0.0355224609375, 0.000946044921875, 0.032623291015625, 0.06793212890625, 0.094757080078125, 0.10003662109375, 0.092010498046875, 0.088775634765625, 0.091461181640625, 0.085845947265625, 0.06976318359375, 0.0599365234375, 0.067169189453125, 0.078277587890625, 0.074737548828125, 0.05755615234375, 0.040283203125, 0.02471923828125, 0.000396728515625, -0.03369140625, -0.064239501953125, -0.082733154296875, -0.095611572265625, -0.108062744140625, -0.111297607421875, -0.096343994140625, -0.070404052734375, -0.046661376953125, -0.024810791015625, 0.004119873046875, 0.037078857421875, 0.05908203125, 0.064971923828125, 0.0657958984375, 0.06866455078125, 0.065155029296875, 0.048919677734375, 0.032012939453125, 0.029083251953125, 0.03289794921875, 0.023345947265625, -0.0020751953125, -0.0240478515625, -0.031158447265625, -0.035858154296875, -0.051971435546875, -0.070587158203125, -0.0738525390625, -0.0634765625, -0.05609130859375, -0.054656982421875, -0.042877197265625, -0.0128173828125, 0.01953125, 0.037017822265625, 0.044921875, 0.058074951171875, 0.073516845703125, 0.07403564453125, 0.05572509765625, 0.03375244140625, 0.019073486328125, 0.005828857421875, -0.011932373046875, -0.0267333984375, -0.029388427734375, -0.02471923828125, -0.022064208984375, -0.019439697265625, -0.009246826171875, 0.00531005859375, 0.014373779296875, 0.018951416015625, 0.02911376953125, 0.044219970703125, 0.05029296875, 0.041961669921875, 0.031951904296875, 0.032012939453125, 0.036407470703125, 0.03436279296875, 0.027862548828125, 0.023895263671875, 0.0186767578125, 0.003692626953125, -0.017181396484375, -0.031646728515625, -0.039764404296875, -0.056243896484375, -0.091339111328125, -0.141510009765625, -0.198638916015625, -0.252716064453125, -0.283538818359375, -0.269500732421875, -0.21533203125, -0.154296875, -0.1087646484375, -0.06243896484375, 0.00921630859375, 0.093170166015625, 0.148529052734375, 0.159088134765625, 0.148895263671875, 0.13970947265625, 0.12255859375, 0.08660888671875, 0.052337646484375, 0.048980712890625, 0.0689697265625, 0.07598876953125, 0.0567626953125, 0.03753662109375, 0.039459228515625, 0.042938232421875, 0.015350341796875, -0.041778564453125, -0.096405029296875, -0.13031005859375, -0.153900146484375, -0.17535400390625, -0.178680419921875, -0.146514892578125, -0.0888671875, -0.03173828125, 0.016571044921875, 0.068023681640625, 0.12445068359375, 0.164306640625, 0.1688232421875, 0.14752197265625, 0.12493896484375, 0.109283447265625, 0.089447021484375, 0.059722900390625, 0.032073974609375, 0.019439697265625, 0.018280029296875, 0.016693115234375, 0.010955810546875, 0.004852294921875, -0.002532958984375, -0.0177001953125, -0.0421142578125, -0.0699462890625, -0.096099853515625, -0.118988037109375, -0.134002685546875, -0.132781982421875, -0.1126708984375, -0.080841064453125, -0.044158935546875, -0.002288818359375, 0.044219970703125, 0.08502197265625, 0.1085205078125, 0.114959716796875, 0.1124267578125, 0.1016845703125, 0.0771484375, 0.04290771484375, 0.015045166015625, 0.00238037109375, -0.005706787109375, -0.022186279296875, -0.041778564453125, -0.049560546875, -0.04595947265625, -0.047576904296875, -0.06103515625, -0.071380615234375, -0.064544677734375, -0.0491943359375, -0.042205810546875, -0.04107666015625, -0.0264892578125, 0.006866455078125, 0.0404052734375, 0.05780029296875, 0.066375732421875, 0.080078125, 0.093505859375, 0.089202880859375, 0.06597900390625, 0.040985107421875, 0.022369384765625, 0.00018310546875, -0.028900146484375, -0.046600341796875, -0.037628173828125, -0.015899658203125, -0.005859375, -0.006622314453125, 0.003814697265625, 0.03057861328125, 0.0528564453125, 0.0576171875, 0.058258056640625, 0.067138671875, 0.071075439453125, 0.054290771484375, 0.02978515625, 0.021820068359375, 0.02752685546875, 0.023345947265625, 0.006591796875, 0.000640869140625, 0.01336669921875, 0.020904541015625, 0.006805419921875, -0.010986328125, -0.013336181640625, -0.01824951171875, -0.058013916015625, -0.130706787109375, -0.203369140625, -0.255401611328125, -0.287689208984375, -0.29388427734375, -0.25933837890625, -0.195465087890625, -0.138427734375, -0.096923828125, -0.034820556640625, 0.06829833984375, 0.168243408203125, 0.20440673828125, 0.1787109375, 0.145843505859375, 0.1329345703125, 0.11419677734375, 0.070587158203125, 0.028839111328125, 0.0179443359375, 0.02288818359375, 0.014556884765625, 0.000701904296875, 0.009307861328125, 0.0333251953125, 0.030975341796875, -0.0152587890625, -0.07513427734375, -0.113739013671875, -0.131134033203125, -0.143890380859375, -0.15069580078125, -0.13787841796875, -0.104888916015625, -0.06353759765625, -0.017059326171875, 0.0399169921875, 0.10284423828125, 0.153411865234375, 0.1785888671875, 0.18145751953125, 0.17181396484375, 0.1536865234375, 0.12646484375, 0.090911865234375, 0.051666259765625, 0.016143798828125, -0.00830078125, -0.020599365234375, -0.027496337890625, -0.03533935546875, -0.0419921875, -0.04400634765625, -0.047515869140625, -0.06195068359375, -0.08416748046875, -0.10089111328125, -0.10711669921875, -0.108978271484375, -0.10577392578125, -0.084381103515625, -0.04022216796875, 0.010040283203125, 0.049285888671875, 0.0814208984375, 0.116180419921875, 0.1429443359375, 0.140869140625, 0.112030029296875, 0.0814208984375, 0.06097412109375, 0.035247802734375, -0.00732421875, -0.050048828125, -0.071136474609375, -0.074951171875, -0.080810546875, -0.0894775390625, -0.085601806640625, -0.0689697265625, -0.0601806640625, -0.0692138671875, -0.079559326171875, -0.073577880859375, -0.056488037109375, -0.041015625, -0.022552490234375, 0.01202392578125, 0.0582275390625, 0.096588134765625, 0.119171142578125, 0.13641357421875, 0.15277099609375, 0.153900146484375, 0.127471923828125, 0.0828857421875, 0.038665771484375, -0.00042724609375, -0.0390625, -0.070587158203125, -0.07861328125, -0.061126708984375, -0.03692626953125, -0.020751953125, -0.00579833984375, 0.01934814453125, 0.047943115234375, 0.063232421875, 0.06402587890625, 0.0650634765625, 0.0711669921875, 0.068817138671875, 0.050384521484375, 0.030731201171875, 0.02783203125, 0.03729248046875, 0.041839599609375, 0.039398193359375, 0.04339599609375, 0.055511474609375, 0.058868408203125, 0.043487548828125, 0.0216064453125, 0.00494384765625, -0.018524169921875, -0.069244384765625, -0.14501953125, -0.222442626953125, -0.282501220703125, -0.317901611328125, -0.319671630859375, -0.2811279296875, -0.2178955078125, -0.159515380859375, -0.10931396484375, -0.037017822265625, 0.07012939453125, 0.169769287109375, 0.207763671875, 0.187408447265625, 0.161041259765625, 0.15545654296875, 0.142852783203125, 0.09796142578125, 0.04595947265625, 0.024871826171875, 0.02655029296875, 0.01385498046875, -0.0157470703125, -0.02618408203125, -0.006256103515625, 0.0032958984375, -0.03369140625, -0.096160888671875, -0.136505126953125, -0.144256591796875, -0.14678955078125, -0.155364990234375, -0.146453857421875, -0.102325439453125, -0.039581298828125, 0.017364501953125, 0.06964111328125, 0.129791259765625, 0.187896728515625, 0.21685791015625, 0.2076416015625, 0.178619384765625, 0.147308349609375, 0.11126708984375, 0.064483642578125, 0.016845703125, -0.01507568359375, -0.028778076171875, -0.0345458984375, -0.037506103515625, -0.03399658203125, -0.024810791015625, -0.0201416015625, -0.02703857421875, -0.04022216796875, -0.051116943359375, -0.05902099609375, -0.06683349609375, -0.071685791015625, -0.066558837890625, -0.04974365234375, -0.0245361328125, 0.0087890625, 0.051055908203125, 0.094329833984375, 0.123443603515625, 0.132080078125, 0.129058837890625, 0.121551513671875, 0.1014404296875, 0.0589599609375, 0.004486083984375, -0.038665771484375, -0.06396484375, -0.087646484375, -0.118927001953125, -0.140228271484375, -0.1318359375, -0.103729248046875, -0.084075927734375, -0.0797119140625, -0.0694580078125, -0.04107666015625, -0.011749267578125, -0.0008544921875, 0.001953125, 0.020538330078125, 0.054962158203125, 0.081878662109375, 0.090484619140625, 0.095855712890625, 0.10870361328125, 0.11346435546875, 0.089996337890625, 0.04498291015625, 0.003570556640625, -0.023834228515625, -0.048614501953125, -0.07720947265625, -0.09588623046875, -0.090545654296875, -0.067962646484375, -0.046173095703125, -0.029022216796875, -0.003662109375, 0.036529541015625, 0.077301025390625, 0.09832763671875, 0.09674072265625, 0.088531494140625, 0.086883544921875, 0.086395263671875, 0.073638916015625, 0.048583984375, 0.027618408203125, 0.0234375, 0.03021240234375, 0.033935546875, 0.0321044921875, 0.032196044921875, 0.034759521484375, 0.029144287109375, 0.01019287109375, -0.012725830078125, -0.031890869140625, -0.05908203125, -0.11468505859375, -0.198944091796875, -0.283203125, -0.33154296875, -0.3289794921875, -0.288848876953125, -0.23651123046875, -0.184783935546875, -0.121978759765625, -0.028656005859375, 0.089447021484375, 0.192474365234375, 0.242034912109375, 0.240936279296875, 0.22198486328125, 0.2001953125, 0.160125732421875, 0.0958251953125, 0.03759765625, 0.01495361328125, 0.01324462890625, -0.00244140625, -0.0291748046875, -0.028564453125, 0.007720947265625, 0.03265380859375, 0.003814697265625, -0.058990478515625, -0.10455322265625, -0.1199951171875, -0.134124755859375, -0.1591796875, -0.16754150390625, -0.136138916015625, -0.080718994140625, -0.02606201171875, 0.0318603515625, 0.108734130859375, 0.19091796875, 0.241455078125, 0.24493408203125, 0.221466064453125, 0.192413330078125, 0.155059814453125, 0.100494384765625, 0.038848876953125, -0.009552001953125, -0.0382080078125, -0.0550537109375, -0.06451416015625, -0.06365966796875, -0.053558349609375, -0.0435791015625, -0.041900634765625, -0.04949951171875, -0.06396484375, -0.08123779296875, -0.0941162109375, -0.09637451171875, -0.089996337890625, -0.079498291015625, -0.059234619140625, -0.017486572265625, 0.04296875, 0.099456787109375, 0.133544921875, 0.151123046875, 0.165985107421875, 0.171905517578125, 0.14837646484375, 0.093719482421875, 0.033966064453125, -0.00750732421875, -0.036224365234375, -0.070587158203125, -0.109405517578125, -0.13128662109375, -0.123748779296875, -0.100006103515625, -0.08172607421875, -0.074371337890625, -0.06573486328125, -0.0450439453125, -0.0164794921875, 0.006622314453125, 0.018463134765625, 0.02734375, 0.04443359375, 0.0679931640625, 0.08599853515625, 0.093536376953125, 0.099090576171875, 0.108001708984375, 0.108734130859375, 0.086456298828125, 0.0462646484375, 0.008056640625, -0.02081298828125, -0.051239013671875, -0.086761474609375, -0.10894775390625, -0.100555419921875, -0.0714111328125, -0.044891357421875, -0.02593994140625, 0.000457763671875, 0.040557861328125, 0.079742431640625, 0.10223388671875, 0.1082763671875, 0.105438232421875, 0.095916748046875, 0.080047607421875, 0.062774658203125, 0.0477294921875, 0.0321044921875, 0.015625, 0.006622314453125, 0.01116943359375, 0.02191162109375, 0.0286865234375, 0.032440185546875, 0.03704833984375, 0.03314208984375, 0.007415771484375, -0.034942626953125, -0.07550048828125, -0.113800048828125, -0.172515869140625, -0.260223388671875, -0.34332275390625, -0.37249755859375, -0.333740234375, -0.258087158203125, -0.1829833984375, -0.1158447265625, -0.039398193359375, 0.0565185546875, 0.155517578125, 0.22540283203125, 0.24652099609375, 0.227386474609375, 0.19140625, 0.1505126953125, 0.102081298828125, 0.050537109375, 0.015899658203125, 0.008514404296875, 0.009063720703125, -0.006072998046875, -0.027587890625, -0.025482177734375, -0.000518798828125, 0.006072998046875, -0.03338623046875, -0.09332275390625, -0.130218505859375, -0.138946533203125, -0.145904541015625, -0.156707763671875, -0.14520263671875, -0.09906005859375, -0.042205810546875, 0.004119873046875, 0.05413818359375, 0.12738037109375, 0.202484130859375, 0.23382568359375, 0.210540771484375, 0.1690673828125, 0.1409912109375, 0.114471435546875, 0.0638427734375, -0.00347900390625, -0.053741455078125, -0.07183837890625, -0.0755615234375, -0.08203125, -0.08270263671875, -0.062774658203125, -0.03173828125, -0.0164794921875, -0.02740478515625, -0.0474853515625, -0.057525634765625, -0.0599365234375, -0.068084716796875, -0.080108642578125, -0.076446533203125, -0.044677734375, 0.003387451171875, 0.04595947265625, 0.07696533203125, 0.106781005859375, 0.13873291015625, 0.15679931640625, 0.144195556640625, 0.10784912109375, 0.0704345703125, 0.040435791015625, 0.00274658203125, -0.0523681640625, -0.105438232421875, -0.126953125, -0.11578369140625, -0.10009765625, -0.097137451171875, -0.091949462890625, -0.06634521484375, -0.0325927734375, -0.017730712890625, -0.02215576171875, -0.0177001953125, 0.009674072265625, 0.039306640625, 0.048919677734375, 0.049224853515625, 0.065032958984375, 0.094482421875, 0.10992431640625, 0.098785400390625, 0.079193115234375, 0.068389892578125, 0.05682373046875, 0.0277099609375, -0.012176513671875, -0.040618896484375, -0.0526123046875, -0.063873291015625, -0.07989501953125, -0.081634521484375, -0.051971435546875, -0.004730224609375, 0.029327392578125, 0.041351318359375, 0.051910400390625, 0.077056884765625, 0.101898193359375, 0.1002197265625, 0.0723876953125, 0.045989990234375, 0.037811279296875, 0.032928466796875, 0.01214599609375, -0.01312255859375, -0.013916015625, 0.012939453125, 0.037445068359375, 0.039642333984375, 0.03741455078125, 0.053619384765625, 0.07257080078125, 0.056121826171875, -0.00140380859375, -0.06396484375, -0.1082763671875, -0.158416748046875, -0.243804931640625, -0.340362548828125, -0.3839111328125, -0.344512939453125, -0.26055908203125, -0.18853759765625, -0.137054443359375, -0.06988525390625, 0.034027099609375, 0.145538330078125, 0.21685791015625, 0.23291015625, 0.217559814453125, 0.19427490234375, 0.159149169921875, 0.101898193359375, 0.039703369140625, 0.006683349609375, 0.008575439453125, 0.0106201171875, -0.014495849609375, -0.04412841796875, -0.036376953125, 0.0040283203125, 0.02178955078125, -0.017730712890625, -0.083770751953125, -0.12506103515625, -0.13519287109375, -0.1436767578125, -0.156463623046875, -0.144256591796875, -0.094146728515625, -0.033660888671875, 0.013702392578125, 0.066497802734375, 0.14837646484375, 0.233642578125, 0.26702880859375, 0.2359619140625, 0.18603515625, 0.155975341796875, 0.128875732421875, 0.069671630859375, -0.013214111328125, -0.075958251953125, -0.098785400390625, -0.104766845703125, -0.114959716796875, -0.115966796875, -0.0885009765625, -0.047332763671875, -0.02642822265625, -0.032257080078125, -0.037353515625, -0.024139404296875, -0.010711669921875, -0.0203857421875, -0.04168701171875, -0.039642333984375, -0.002532958984375, 0.043609619140625, 0.072540283203125, 0.090789794921875, 0.11932373046875, 0.153961181640625, 0.165496826171875, 0.139556884765625, 0.096343994140625, 0.0604248046875, 0.026641845703125, -0.02642822265625, -0.095672607421875, -0.14813232421875, -0.161285400390625, -0.150054931640625, -0.140716552734375, -0.132232666015625, -0.10308837890625, -0.0511474609375, -0.003814697265625, 0.01788330078125, 0.026214599609375, 0.04339599609375, 0.066253662109375, 0.07232666015625, 0.05743408203125, 0.04443359375, 0.049896240234375, 0.060302734375, 0.054595947265625, 0.036712646484375, 0.028289794921875, 0.033782958984375, 0.0330810546875, 0.01300048828125, -0.012451171875, -0.02392578125, -0.026763916015625, -0.040374755859375, -0.062896728515625, -0.066741943359375, -0.036041259765625, 0.00872802734375, 0.037017822265625, 0.047698974609375, 0.064605712890625, 0.095550537109375, 0.117401123046875, 0.109405517578125, 0.08221435546875, 0.059814453125, 0.0445556640625, 0.0206298828125, -0.0123291015625, -0.032501220703125, -0.027313232421875, -0.011871337890625, -0.0045166015625, 0.00042724609375, 0.019683837890625, 0.0494384765625, 0.06634521484375, 0.056793212890625, 0.028167724609375, -0.011383056640625, -0.067047119140625, -0.144317626953125, -0.231292724609375, -0.302947998046875, -0.337249755859375, -0.325592041015625, -0.27508544921875, -0.20556640625, -0.133819580078125, -0.0567626953125, 0.0384521484375, 0.14251708984375, 0.217742919921875, 0.238494873046875, 0.221435546875, 0.196990966796875, 0.16314697265625, 0.09808349609375, 0.01422119140625, -0.03826904296875, -0.036590576171875, -0.021240234375, -0.040283203125, -0.07843017578125, -0.0787353515625, -0.027862548828125, 0.019317626953125, 0.00946044921875, -0.04376220703125, -0.085784912109375, -0.09136962890625, -0.08294677734375, -0.08477783203125, -0.087677001953125, -0.068359375, -0.0252685546875, 0.02239990234375, 0.065673828125, 0.1163330078125, 0.179718017578125, 0.231048583984375, 0.23602294921875, 0.194488525390625, 0.144866943359375, 0.11676025390625, 0.09375, 0.041900634765625, -0.03570556640625, -0.098175048828125, -0.121124267578125, -0.124114990234375, -0.13079833984375, -0.128997802734375, -0.096954345703125, -0.05194091796875, -0.035919189453125, -0.053924560546875, -0.063079833984375, -0.03564453125, -0.0013427734375, -0.002410888671875, -0.028839111328125, -0.03173828125, 0.00665283203125, 0.051605224609375, 0.0706787109375, 0.076019287109375, 0.09442138671875, 0.117919921875, 0.114044189453125, 0.0775146484375, 0.0394287109375, 0.0196533203125, -0.003326416015625, -0.056182861328125, -0.122589111328125, -0.15716552734375, -0.145477294921875, -0.122467041015625, -0.121002197265625, -0.125457763671875, -0.09814453125, -0.038787841796875, 0.0115966796875, 0.0283203125, 0.034576416015625, 0.06036376953125, 0.093353271484375, 0.097808837890625, 0.0723876953125, 0.055572509765625, 0.06927490234375, 0.0872802734375, 0.0760498046875, 0.044403076171875, 0.02679443359375, 0.03021240234375, 0.0272216796875, 0.002197265625, -0.025177001953125, -0.033447265625, -0.032440185546875, -0.042877197265625, -0.05816650390625, -0.05126953125, -0.0167236328125, 0.019195556640625, 0.035369873046875, 0.0423583984375, 0.060455322265625, 0.08612060546875, 0.097869873046875, 0.088714599609375, 0.07330322265625, 0.06390380859375, 0.054534912109375, 0.036712646484375, 0.017364501953125, 0.009552001953125, 0.01348876953125, 0.017791748046875, 0.017822265625, 0.02032470703125, 0.029144287109375, 0.035919189453125, 0.029754638671875, 0.009979248046875, -0.017822265625, -0.054901123046875, -0.11065673828125, -0.187255859375, -0.266326904296875, -0.316925048828125, -0.320098876953125, -0.285491943359375, -0.238494873046875, -0.19012451171875, -0.1260986328125, -0.03302001953125, 0.07208251953125, 0.152587890625, 0.191497802734375, 0.204864501953125, 0.208221435546875, 0.189727783203125, 0.13397216796875, 0.06146240234375, 0.015655517578125, 0.009124755859375, 0.00750732421875, -0.01934814453125, -0.05230712890625, -0.0506591796875, -0.01324462890625, 0.015411376953125, 0.002105712890625, -0.037261962890625, -0.065826416015625, -0.073944091796875, -0.080596923828125, -0.096099853515625, -0.10595703125, -0.094329833984375, -0.06683349609375, -0.038330078125, -0.006866455078125, 0.04443359375, 0.11700439453125, 0.181640625, 0.20526123046875, 0.189300537109375, 0.16729736328125, 0.1605224609375, 0.150482177734375, 0.1075439453125, 0.0364990234375, -0.025146484375, -0.05462646484375, -0.067230224609375, -0.08416748046875, -0.096832275390625, -0.083953857421875, -0.05194091796875, -0.031707763671875, -0.035308837890625, -0.03997802734375, -0.025360107421875, -0.005767822265625, -0.007110595703125, -0.02545166015625, -0.030914306640625, -0.010498046875, 0.015411376953125, 0.025421142578125, 0.027374267578125, 0.043243408203125, 0.07421875, 0.097991943359375, 0.0989990234375, 0.0858154296875, 0.073638916015625, 0.060028076171875, 0.0303955078125, -0.01654052734375, -0.06170654296875, -0.087554931640625, -0.098175048828125, -0.1080322265625, -0.1173095703125, -0.11041259765625, -0.08135986328125, -0.0458984375, -0.021026611328125, -0.001495361328125, 0.028228759765625, 0.064483642578125, 0.0838623046875, 0.075836181640625, 0.059112548828125, 0.05615234375, 0.06353759765625, 0.061248779296875, 0.044403076171875, 0.0284423828125, 0.024078369140625, 0.022857666015625, 0.014068603515625, 0.001495361328125, -0.00531005859375, -0.007843017578125, -0.014739990234375, -0.0247802734375, -0.026275634765625, -0.014007568359375, 0.002716064453125, 0.0125732421875, 0.016326904296875, 0.02276611328125, 0.035247802734375, 0.047760009765625, 0.052825927734375, 0.0499267578125, 0.04400634765625, 0.038970947265625, 0.0338134765625, 0.025787353515625, 0.01531982421875, 0.00665283203125, 0.002716064453125, 0.00128173828125, -0.0010986328125, -0.00347900390625, -0.0018310546875, 0.00421142578125, 0.008880615234375, 0.005218505859375, -0.010406494140625, -0.0394287109375, -0.083648681640625, -0.141815185546875, -0.205474853515625, -0.260040283203125, -0.289825439453125, -0.284881591796875, -0.245697021484375, -0.183837890625, -0.1141357421875, -0.0426025390625, 0.034271240234375, 0.115509033203125, 0.185089111328125, 0.22296142578125, 0.2242431640625, 0.200103759765625, 0.161712646484375, 0.1121826171875, 0.058135986328125, 0.01568603515625, -0.004608154296875, -0.01220703125, -0.0240478515625, -0.039764404296875, -0.04168701171875, -0.0223388671875, -0.000457763671875, -0.00146484375, -0.028717041015625, -0.0621337890625, -0.083282470703125, -0.092193603515625, -0.098388671875, -0.10369873046875, -0.0994873046875, -0.07781982421875, -0.03936767578125, 0.01007080078125, 0.065765380859375, 0.12274169921875, 0.17083740234375, 0.1973876953125, 0.1981201171875, 0.182342529296875, 0.161834716796875, 0.136077880859375, 0.094818115234375, 0.03619384765625, -0.024383544921875, -0.068115234375, -0.0911865234375, -0.101531982421875, -0.1033935546875, -0.093780517578125, -0.074310302734375, -0.05535888671875, -0.04376220703125, -0.03448486328125, -0.021484375, -0.01007080078125, -0.00982666015625, -0.018585205078125, -0.0233154296875, -0.01678466796875, -0.00384521484375, 0.010467529296875, 0.028778076171875, 0.053558349609375, 0.078125, 0.093292236328125, 0.098663330078125, 0.09857177734375, 0.090972900390625, 0.068023681640625, 0.028961181640625, -0.0159912109375, -0.055389404296875, -0.085540771484375, -0.106689453125, -0.1171875, -0.114776611328125, -0.100555419921875, -0.0770263671875, -0.045166015625, -0.007659912109375, 0.02752685546875, 0.052459716796875, 0.066253662109375, 0.073211669921875, 0.07464599609375, 0.06842041015625, 0.056243896484375, 0.044708251953125, 0.036712646484375, 0.0272216796875, 0.0125732421875, -0.001312255859375, -0.00640869140625, -0.005157470703125, -0.00775146484375, -0.01678466796875, -0.022216796875, -0.015228271484375, -0.001739501953125, 0.004913330078125, 0.0020751953125, 0.001251220703125, 0.011566162109375, 0.026947021484375, 0.034637451171875, 0.033172607421875, 0.03302001953125, 0.0396728515625, 0.044403076171875, 0.037078857421875, 0.022735595703125, 0.014892578125, 0.014801025390625, 0.010009765625, -0.0042724609375, -0.014556884765625, -0.009002685546875, 0.002899169921875, 0.004180908203125, -0.001861572265625, 0.00384521484375, 0.022064208984375, 0.025482177734375, -0.007659912109375, -0.065948486328125, -0.12359619140625, -0.174713134765625, -0.226898193359375, -0.26959228515625, -0.27532958984375, -0.23797607421875, -0.18560791015625, -0.141357421875, -0.091278076171875, -0.011138916015625, 0.087554931640625, 0.16253662109375, 0.190399169921875, 0.186981201171875, 0.174591064453125, 0.15234375, 0.11199951171875, 0.065643310546875, 0.0355224609375, 0.0230712890625, 0.009063720703125, -0.014373779296875, -0.02947998046875, -0.01922607421875, 0.00543212890625, 0.015838623046875, -0.001251220703125, -0.0322265625, -0.056427001953125, -0.068359375, -0.076416015625, -0.08612060546875, -0.091644287109375, -0.08428955078125, -0.064178466796875, -0.038055419921875, -0.007354736328125, 0.034912109375, 0.09033203125, 0.142303466796875, 0.167266845703125, 0.160552978515625, 0.142578125, 0.133148193359375, 0.126495361328125, 0.101531982421875, 0.053497314453125, 0.003326416015625, -0.0279541015625, -0.042205810546875, -0.0545654296875, -0.06744384765625, -0.068511962890625, -0.052703857421875, -0.03363037109375, -0.026580810546875, -0.028564453125, -0.025146484375, -0.013641357421875, -0.007537841796875, -0.016510009765625, -0.0302734375, -0.031005859375, -0.016510009765625, -0.001434326171875, 0.00372314453125, 0.00592041015625, 0.0174560546875, 0.037109375, 0.0516357421875, 0.053466796875, 0.04791259765625, 0.04132080078125, 0.03033447265625, 0.009185791015625, -0.018035888671875, -0.0394287109375, -0.0494384765625, -0.05377197265625, -0.05792236328125, -0.057342529296875, -0.044921875, -0.02276611328125, -0.000885009765625, 0.015655517578125, 0.0311279296875, 0.04925537109375, 0.064239501953125, 0.0672607421875, 0.058868408203125, 0.048980712890625, 0.0445556640625, 0.0416259765625, 0.032440185546875, 0.017364501953125, 0.005340576171875, 0.002777099609375, 0.006591796875, 0.00897216796875, 0.0072021484375, 0.0045166015625, 0.00341796875, 0.002105712890625, -0.000732421875, -0.001708984375, 0.0025634765625, 0.008544921875, 0.0086669921875, 0.003021240234375, 0.000885009765625, 0.00872802734375, 0.020416259765625, 0.024993896484375, 0.02197265625, 0.0203857421875, 0.0233154296875, 0.0225830078125, 0.0130615234375, 0.0029296875, 0.0020751953125, 0.00494384765625, -0.002166748046875, -0.01910400390625, -0.029754638671875, -0.026641845703125, -0.025054931640625, -0.04425048828125, -0.082366943359375, -0.12164306640625, -0.15325927734375, -0.18218994140625, -0.20745849609375, -0.213775634765625, -0.191619873046875, -0.15411376953125, -0.12127685546875, -0.092742919921875, -0.050018310546875, 0.013885498046875, 0.07965087890625, 0.122161865234375, 0.13629150390625, 0.1353759765625, 0.13043212890625, 0.120880126953125, 0.1046142578125, 0.0855712890625, 0.067413330078125, 0.046630859375, 0.019378662109375, -0.00726318359375, -0.01885986328125, -0.0108642578125, 0.002685546875, 0.00244140625, -0.015350341796875, -0.0360107421875, -0.04510498046875, -0.04443359375, -0.04632568359375, -0.055877685546875, -0.0657958984375, -0.067779541015625, -0.062164306640625, -0.050689697265625, -0.0283203125, 0.01007080078125, 0.055755615234375, 0.08831787109375, 0.09783935546875, 0.096710205078125, 0.10406494140625, 0.120330810546875, 0.12591552734375, 0.105712890625, 0.067108154296875, 0.030120849609375, 0.004913330078125, -0.013763427734375, -0.031707763671875, -0.04498291015625, -0.04803466796875, -0.045654296875, -0.0477294921875, -0.053924560546875, -0.05267333984375, -0.038818359375, -0.024658203125, -0.0264892578125, -0.042724609375, -0.05523681640625, -0.05218505859375, -0.041229248046875, -0.03570556640625, -0.0343017578125, -0.02410888671875, -0.000518798828125, 0.025054931640625, 0.040771484375, 0.04840087890625, 0.056365966796875, 0.06414794921875, 0.0618896484375, 0.045562744140625, 0.024566650390625, 0.010467529296875, 0.0035400390625, -0.004852294921875, -0.017608642578125, -0.02716064453125, -0.0255126953125, -0.014862060546875, -0.003997802734375, 0.00311279296875, 0.009735107421875, 0.01800537109375, 0.023223876953125, 0.020751953125, 0.014404296875, 0.012481689453125, 0.015655517578125, 0.015899658203125, 0.0086669921875, 0.000732421875, 0.001129150390625, 0.007659912109375, 0.009765625, 0.003631591796875, -0.002471923828125, -0.000335693359375, 0.006439208984375, 0.008056640625, 0.001556396484375, -0.0064697265625, -0.00970458984375, -0.00946044921875, -0.010284423828125, -0.01251220703125, -0.011871337890625, -0.006134033203125, 0.001220703125, 0.0047607421875, 0.003753662109375, 0.003662109375, 0.008941650390625, 0.0152587890625, 0.01300048828125, 0.000640869140625, -0.0101318359375, -0.00799560546875, 0.00213623046875, 0.004119873046875, -0.0093994140625, -0.0294189453125, -0.047393798828125, -0.06866455078125, -0.10125732421875, -0.13641357421875, -0.1544189453125, -0.149871826171875, -0.138763427734375, -0.13397216796875, -0.1256103515625, -0.09552001953125, -0.045684814453125, 0.001983642578125, 0.03363037109375, 0.05810546875, 0.088287353515625, 0.1182861328125, 0.129608154296875, 0.116119384765625, 0.092041015625, 0.073516845703125, 0.0611572265625, 0.045745849609375, 0.02520751953125, 0.00848388671875, 0.002899169921875, 0.005096435546875, 0.0064697265625, 0.004180908203125, 0.001678466796875, 0.000335693359375, -0.004608154296875, -0.017242431640625, -0.033203125, -0.043121337890625, -0.0438232421875, -0.041900634765625, -0.0438232421875, -0.045654296875, -0.036712646484375, -0.01287841796875, 0.01751708984375, 0.04302978515625, 0.059722900390625, 0.07110595703125, 0.079010009765625, 0.0809326171875, 0.07550048828125, 0.06597900390625, 0.055877685546875, 0.04376220703125, 0.02587890625, 0.0030517578125, -0.017547607421875, -0.028778076171875, -0.02978515625, -0.025909423828125, -0.0233154296875, -0.02362060546875, -0.023284912109375, -0.0177001953125, -0.006927490234375, 0.003204345703125, 0.006256103515625, 0.001708984375, -0.005340576171875, -0.00994873046875, -0.01129150390625, -0.010101318359375, -0.00616455078125, 0.00030517578125, 0.006805419921875, 0.01092529296875, 0.01397705078125, 0.018798828125, 0.024322509765625, 0.025634765625, 0.020111083984375, 0.010772705078125, 0.001678466796875, -0.00653076171875, -0.01446533203125, -0.019256591796875, -0.0166015625, -0.007049560546875, 0.003753662109375, 0.01092529296875, 0.014892578125, 0.0186767578125, 0.022857666015625, 0.025848388671875, 0.02642822265625, 0.024932861328125, 0.0218505859375, 0.017425537109375, 0.012542724609375, 0.0089111328125, 0.007293701171875, 0.006439208984375, 0.004180908203125, -0.000152587890625, -0.00439453125, -0.005096435546875, -0.001922607421875, 0.001068115234375, -0.00067138671875, -0.00592041015625, -0.00885009765625, -0.006103515625, -0.001739501953125, -0.002197265625, -0.007904052734375, -0.013336181640625, -0.014617919921875, -0.013916015625, -0.01531982421875, -0.0191650390625, -0.022735595703125, -0.024627685546875, -0.025848388671875, -0.027130126953125, -0.02716064453125, -0.023895263671875, -0.0164794921875, -0.006500244140625, 0.00262451171875, 0.0078125, 0.009368896484375, 0.010101318359375, 0.01153564453125, 0.010650634765625, 0.00347900390625, -0.009979248046875, -0.0264892578125, -0.043487548828125, -0.059478759765625, -0.070465087890625, -0.07122802734375, -0.06182861328125, -0.049346923828125, -0.03936767578125, -0.028900146484375, -0.011993408203125, 0.0098876953125, 0.027618408203125, 0.03515625, 0.0350341796875, 0.032196044921875, 0.027099609375, 0.018218994140625, 0.00762939453125, -0.00054931640625, -0.00469970703125, -0.00592041015625, -0.003753662109375, 0.00323486328125, 0.013214111328125, 0.021636962890625, 0.02630615234375, 0.029571533203125, 0.032684326171875, 0.0325927734375, 0.026763916015625, 0.018096923828125, 0.012115478515625, 0.010101318359375, 0.009307861328125, 0.008209228515625, 0.007965087890625, 0.009063720703125, 0.009552001953125, 0.008880615234375, 0.008758544921875, 0.01043701171875, 0.01220703125, 0.012237548828125, 0.010711669921875, 0.008209228515625, 0.003997802734375, -0.001129150390625, -0.00360107421875, -0.00152587890625, 0.0013427734375, 0.000579833984375, -0.00140380859375, 0.001861572265625, 0.01092529296875, 0.018646240234375, 0.01947021484375, 0.015594482421875, 0.011566162109375, 0.00677490234375, -0.0003662109375, -0.006439208984375, -0.006866455078125, -0.004791259765625, -0.00787353515625, -0.01611328125, -0.019866943359375, -0.0128173828125, -0.00140380859375, 0.00421142578125, 0.003814697265625, 0.005096435546875, 0.010833740234375, 0.01531982421875, 0.0146484375, 0.012786865234375, 0.014129638671875, 0.015533447265625, 0.01104736328125, 0.0013427734375, -0.006256103515625, -0.007568359375, -0.005859375, -0.00628662109375, -0.0091552734375, -0.01104736328125, -0.009735107421875, -0.00616455078125, -0.002227783203125, 0.000946044921875, 0.00286865234375, 0.00335693359375, 0.00250244140625, 0.001190185546875, 0.00048828125, 0.0008544921875, 0.00164794921875, 0.001800537109375, 0.00091552734375, 0.0, 0.000213623046875, 0.00115966796875, 0.001251220703125, -6.103515625e-05, -0.00177001953125, -0.0030517578125, -0.00433349609375, -0.006103515625, -0.00762939453125, -0.008148193359375, -0.008056640625, -0.00811767578125, -0.0081787109375, -0.0078125, -0.00787353515625, -0.009429931640625, -0.01141357421875, -0.011322021484375, -0.00933837890625, -0.008544921875, -0.010711669921875, -0.013275146484375, -0.0123291015625, -0.007965087890625, -0.004302978515625, -0.004669189453125, -0.008453369140625, -0.0126953125, -0.015106201171875, -0.014892578125, -0.012603759765625, -0.00933837890625, -0.006561279296875, -0.00469970703125, -0.00311279296875, -0.001190185546875, 0.00091552734375, 0.00262451171875, 0.003173828125, 0.00177001953125, -0.00201416015625, -0.00677490234375, -0.0103759765625, -0.012359619140625, -0.014801025390625, -0.019012451171875, -0.02288818359375, -0.022674560546875, -0.017913818359375, -0.012115478515625, -0.007904052734375, -0.00372314453125, 0.003448486328125, 0.01287841796875, 0.020263671875, 0.022369384765625, 0.02008056640625, 0.01678466796875, 0.014739990234375, 0.014007568359375, 0.014007568359375, 0.01373291015625, 0.011962890625, 0.008453369140625, 0.00531005859375, 0.0054931640625, 0.00921630859375, 0.0123291015625, 0.01055908203125, 0.0045166015625, -0.000823974609375, -0.0018310546875, 0.00030517578125, 0.001800537109375, 0.000885009765625, -0.00152587890625, -0.004180908203125, -0.005950927734375, -0.005126953125, -0.0006103515625, 0.005401611328125, 0.008636474609375, 0.0074462890625, 0.005401611328125, 0.007080078125, 0.0120849609375, 0.0155029296875, 0.014007568359375, 0.009521484375, 0.00592041015625, 0.004364013671875, 0.00274658203125, -0.0003662109375, -0.003570556640625, -0.00421142578125, -0.002197265625, -0.000244140625, -0.000274658203125, -0.0003662109375, 0.00286865234375, 0.009002685546875, 0.012786865234375, 0.01007080078125, 0.00323486328125, -0.001800537109375, -0.00250244140625, -0.001708984375, -0.00250244140625, -0.004241943359375, -0.0050048828125, -0.0048828125, -0.0048828125, -0.004150390625, -0.0015869140625, 0.001190185546875, 0.0010986328125, -0.0020751953125, -0.004791259765625, -0.00433349609375, -0.00238037109375, -0.0028076171875, -0.00677490234375, -0.01141357421875, -0.01275634765625, -0.009490966796875, -0.004058837890625, -3.0517578125e-05, 0.00146484375, 0.00225830078125, 0.003570556640625, 0.003692626953125, 0.001068115234375, -0.001678466796875, -0.000640869140625, 0.002716064453125, 0.0023193359375, -0.003570556640625, -0.00885009765625, -0.007781982421875, -0.00286865234375, -0.000396728515625, -0.00103759765625, -0.00054931640625, 0.00146484375, 0.000732421875, -0.003570556640625, -0.005859375, -0.00262451171875, 0.001434326171875, 0.000579833984375, -0.00372314453125, -0.006134033203125, -0.005828857421875, -0.006744384765625, -0.0098876953125, -0.011962890625, -0.01141357421875, -0.010833740234375, -0.011932373046875, -0.012451171875, -0.010040283203125, -0.0059814453125, -0.00250244140625, 0.000335693359375, 0.002777099609375, 0.00384521484375, 0.00347900390625, 0.004150390625, 0.0068359375, 0.008056640625, 0.00494384765625, 0.00048828125, -0.000396728515625, 0.00140380859375, 0.000335693359375, -0.004547119140625, -0.00775146484375, -0.006072998046875, -0.003875732421875, -0.005706787109375, -0.0086669921875, -0.00634765625, 0.000946044921875, 0.006744384765625, 0.00823974609375, 0.009490966796875, 0.013641357421875, 0.017333984375, 0.016143798828125, 0.0123291015625, 0.011932373046875, 0.015869140625, 0.01837158203125, 0.01519775390625, 0.009521484375, 0.007171630859375, 0.00823974609375, 0.007720947265625, 0.00335693359375, -0.0008544921875, -0.00067138671875, 0.002288818359375, 0.002960205078125, -0.000213623046875, -0.003875732421875, -0.005035400390625, -0.004302978515625, -0.003570556640625, -0.002471923828125, 3.0517578125e-05, 0.0023193359375, 0.001953125, 0.0, 0.00054931640625, 0.00555419921875, 0.01190185546875, 0.015289306640625, 0.014862060546875, 0.012939453125, 0.011474609375, 0.0101318359375, 0.007598876953125, 0.00360107421875, -0.000640869140625, -0.004058837890625, -0.00677490234375, -0.010101318359375, -0.01434326171875, -0.01739501953125, -0.01611328125, -0.01092529296875, -0.005859375, -0.004302978515625, -0.00494384765625, -0.00408935546875, -0.00115966796875, 0.000640869140625, -0.0009765625, -0.004638671875, -0.007537841796875, -0.008758544921875, -0.00909423828125, -0.00885009765625, -0.008056640625, -0.007049560546875, -0.006317138671875, -0.0052490234375, -0.002685546875, 0.00103759765625, 0.0040283203125, 0.00482177734375, 0.003936767578125, 0.00341796875, 0.004302978515625, 0.00604248046875, 0.00701904296875, 0.006561279296875, 0.005126953125, 0.00323486328125, 0.000457763671875, -0.002838134765625, -0.00433349609375, -0.001861572265625, 0.002960205078125, 0.0054931640625, 0.003753662109375, 0.001251220703125, 0.00201416015625, 0.00518798828125, 0.0067138671875, 0.00531005859375, 0.00323486328125, 0.002197265625, 0.0013427734375, -3.0517578125e-05, -0.00067138671875, 3.0517578125e-05, 0.000396728515625, -0.000518798828125, -0.00128173828125, -0.0008544921875, -0.000946044921875, -0.003021240234375, -0.00457763671875, -0.002685546875, 0.000946044921875, 0.001739501953125, -0.001068115234375, -0.003662109375, -0.00396728515625, -0.003875732421875, -0.004852294921875, -0.00469970703125, -0.00152587890625, 0.0023193359375, 0.003814697265625, 0.00396728515625, 0.005645751953125, 0.008026123046875, 0.00750732421875, 0.00396728515625, 0.0018310546875, 0.003753662109375, 0.00653076171875, 0.005584716796875, 0.00091552734375, -0.0037841796875, -0.0057373046875, -0.005828857421875, -0.00640869140625, -0.008514404296875, -0.010955810546875, -0.011444091796875, -0.009033203125, -0.005218505859375, -0.002777099609375, -0.002197265625, -0.00140380859375, 0.000732421875, 0.0023193359375, 0.0015869140625, 0.000152587890625, 0.001129150390625, 0.004608154296875, 0.0078125, 0.00885009765625, 0.008514404296875, 0.00750732421875, 0.0047607421875, -0.000152587890625, -0.00494384765625, -0.00714111328125, -0.0068359375, -0.006134033203125, -0.00628662109375, -0.00714111328125, -0.007965087890625, -0.0081787109375, -0.00677490234375, -0.003631591796875, -9.1552734375e-05, 0.00201416015625, 0.002593994140625, 0.00335693359375, 0.0050048828125, 0.006256103515625, 0.005645751953125, 0.0032958984375, 0.000701904296875, -0.0009765625, -0.00115966796875, -9.1552734375e-05, 0.00146484375, 0.002410888671875, 0.00262451171875, 0.003326416015625, 0.005615234375, 0.008697509765625, 0.0108642578125, 0.010986328125, 0.00946044921875, 0.007110595703125, 0.00445556640625, 0.00177001953125, -0.00079345703125, -0.0030517578125, -0.0050048828125, -0.006591796875, -0.007659912109375, -0.007537841796875, -0.0054931640625, -0.001556396484375, 0.003021240234375, 0.006317138671875, 0.007598876953125, 0.00762939453125, 0.00726318359375, 0.006011962890625, 0.0030517578125, -0.000885009765625, -0.0037841796875, -0.004913330078125, -0.005645751953125, -0.006805419921875, -0.00714111328125, -0.00482177734375, -0.00067138671875, 0.002838134765625, 0.00457763671875, 0.006256103515625, 0.009185791015625, 0.011260986328125, 0.009063720703125, 0.002593994140625, -0.003753662109375, -0.00592041015625, -0.004638671875, -0.004058837890625, -0.00579833984375, -0.006805419921875, -0.004119873046875, 0.000823974609375, 0.00408935546875, 0.004638671875, 0.005218505859375, 0.00714111328125, 0.007232666015625, 0.002532958984375, -0.00469970703125, -0.009124755859375, -0.009063720703125, -0.008056640625, -0.00933837890625, -0.01141357421875, -0.010833740234375, -0.007904052734375, -0.006011962890625, -0.006500244140625, -0.00689697265625, -0.004913330078125, -0.001861572265625, -0.000701904296875, -0.001861572265625, -0.002655029296875, -0.001068115234375, 0.0013427734375, 0.001556396484375, -0.001312255859375, -0.004669189453125, -0.00543212890625, -0.002471923828125, 0.002655029296875, 0.007476806640625, 0.01007080078125, 0.009490966796875, 0.00665283203125, 0.004150390625, 0.003997802734375, 0.005340576171875, 0.00506591796875, 0.0015869140625, -0.003265380859375, -0.00653076171875, -0.007080078125, -0.005859375, -0.004241943359375, -0.003326416015625, -0.00360107421875, -0.004150390625, -0.00286865234375, 0.00115966796875, 0.005950927734375, 0.008880615234375, 0.010101318359375, 0.011322021484375, 0.01141357421875, 0.007232666015625, -0.00042724609375, -0.005645751953125, -0.00482177734375, -0.001983642578125, -0.0030517578125, -0.006927490234375, -0.007415771484375, -0.002899169921875, 0.00079345703125, -0.00146484375, -0.006561279296875, -0.00787353515625, -0.003570556640625, 0.002105712890625, 0.004638671875, 0.003387451171875, 0.001220703125, 0.001617431640625, 0.005706787109375, 0.010467529296875, 0.010772705078125, 0.005401611328125, -0.0010986328125, -0.0037841796875, -0.003448486328125, -0.00384521484375, -0.0047607421875, -0.00250244140625, 0.002471923828125, 0.00439453125, 0.000518798828125, -0.004150390625, -0.00396728515625, -0.00091552734375, -0.001007080078125, -0.004913330078125, -0.007110595703125, -0.0048828125, -0.00177001953125, -0.00201416015625, -0.004791259765625, -0.00665283203125, -0.006744384765625, -0.006317138671875, -0.005767822265625, -0.00421142578125, -0.001739501953125, 0.00030517578125, 0.001373291015625, 0.002288818359375, 0.00360107421875, 0.00469970703125, 0.004608154296875, 0.003173828125, 0.0008544921875, -0.001373291015625, -0.002960205078125, -0.00421142578125, -0.005340576171875, -0.005859375, -0.004608154296875, -0.002349853515625, -0.001007080078125, -0.000762939453125, 0.000885009765625, 0.004730224609375, 0.007476806640625, 0.005767822265625, 0.001678466796875, 0.000244140625, 0.001861572265625, 0.0020751953125, -0.000701904296875, -0.00177001953125, 0.00250244140625, 0.008148193359375, 0.009033203125, 0.00567626953125, 0.003875732421875, 0.00579833984375, 0.007659912109375, 0.006683349609375, 0.005126953125, 0.00506591796875, 0.004241943359375, -0.000640869140625, -0.007415771484375, -0.011016845703125, -0.0098876953125, -0.00738525390625, -0.00701904296875, -0.00811767578125, -0.007568359375, -0.003692626953125, 0.001983642578125, 0.006134033203125, 0.006500244140625, 0.00469970703125, 0.00433349609375, 0.00628662109375, 0.006683349609375, 0.0023193359375, -0.003570556640625, -0.004425048828125, 0.000701904296875, 0.00555419921875, 0.005157470703125, 0.00262451171875, 0.0035400390625, 0.007354736328125, 0.008575439453125, 0.005706787109375, 0.003875732421875, 0.006866455078125, 0.01068115234375, 0.008636474609375, 0.000457763671875, -0.007293701171875, -0.009185791015625, -0.006866455078125, -0.00518798828125, -0.006011962890625, -0.006988525390625, -0.006011962890625, -0.0037841796875, -0.001983642578125, -0.000579833984375, 0.001312255859375, 0.002899169921875, 0.00250244140625, 0.000518798828125, 6.103515625e-05, 0.00201416015625, 0.003173828125, 0.000274658203125, -0.00457763671875, -0.00604248046875, -0.0028076171875, 0.00054931640625, 0.000518798828125, -0.000823974609375, 0.000274658203125, 0.002960205078125, 0.003570556640625, 0.001861572265625, 0.001068115234375, 0.001953125, 0.001129150390625, -0.003021240234375, -0.006805419921875, -0.00604248046875, -0.00225830078125, 3.0517578125e-05, -0.000213623046875, 0.000274658203125, 0.0023193359375, 0.0028076171875, -0.000457763671875, -0.004669189453125, -0.005645751953125, -0.00347900390625, -0.00146484375, -0.00103759765625, -0.00030517578125, 0.0018310546875, 0.003265380859375, 0.002288818359375, 0.0006103515625, 0.001556396484375, 0.00494384765625, 0.00640869140625, 0.003021240234375, -0.0025634765625, -0.005218505859375, -0.003448486328125, -0.000762939453125, -0.00079345703125, -0.002899169921875, -0.004119873046875, -0.003814697265625, -0.0037841796875, -0.0048828125, -0.005218505859375, -0.003509521484375, -0.001190185546875, -0.0003662109375, -0.00067138671875, -0.00018310546875, 0.001434326171875, 0.002471923828125, 0.001708984375, 0.000396728515625, 0.000244140625, 0.001007080078125, 0.0008544921875, -0.00128173828125, -0.004119873046875, -0.0052490234375, -0.003570556640625, -0.0006103515625, 0.001373291015625, 0.001434326171875, 0.001129150390625, 0.001861572265625, 0.002655029296875, 0.001373291015625, -0.001861572265625, -0.004425048828125, -0.003875732421875, -0.001007080078125, 0.001922607421875, 0.00396728515625, 0.006195068359375, 0.00860595703125, 0.00946044921875, 0.007293701171875, 0.00360107421875, 0.00152587890625, 0.002532958984375, 0.00457763671875, 0.00445556640625, 0.001495361328125, -0.001556396484375, -0.00201416015625, -0.000701904296875, -0.000640869140625, -0.00274658203125, -0.0048828125, -0.005462646484375, -0.006103515625, -0.008392333984375, -0.010589599609375, -0.009246826171875, -0.0040283203125, 0.001495361328125, 0.004791259765625, 0.00628662109375, 0.006561279296875, 0.005035400390625, 0.002288818359375, 0.00079345703125, 0.0013427734375, 0.000885009765625, -0.00244140625, -0.0052490234375, -0.0035400390625, 0.000457763671875, 0.000946044921875, -0.00250244140625, -0.00360107421875, 0.00103759765625, 0.006561279296875, 0.007049560546875, 0.003692626953125, 0.001678466796875, 0.001922607421875, 0.000885009765625, -0.002166748046875, -0.00390625, -0.00250244140625, -0.000823974609375, -0.00115966796875, -0.002044677734375, -0.001556396484375, -0.000732421875, -0.001220703125, -0.001739501953125, -0.000640869140625, 0.0008544921875, 0.00079345703125, 3.0517578125e-05, 0.000518798828125, 0.00128173828125, 0.0001220703125, -0.001953125, -0.001251220703125, 0.001983642578125, 0.0030517578125, -3.0517578125e-05, -0.003021240234375, -0.001129150390625, 0.003692626953125, 0.00567626953125, 0.003173828125, -6.103515625e-05, -0.00079345703125, -6.103515625e-05, -0.000244140625, -0.00128173828125, -0.002105712890625, -0.003021240234375, -0.004669189453125, -0.005950927734375, -0.004852294921875, -0.001434326171875, 0.001800537109375, 0.002777099609375, 0.002044677734375, 0.00146484375, 0.001800537109375, 0.002044677734375, 0.0009765625, -0.000640869140625, -0.00103759765625, 0.000152587890625, 0.000946044921875, -0.00048828125, -0.00299072265625, -0.00360107421875, -0.00177001953125, -0.000335693359375, -0.001861572265625, -0.005340576171875, -0.007568359375, -0.00665283203125, -0.003387451171875, 0.000457763671875, 0.0035400390625, 0.00518798828125, 0.005615234375, 0.00567626953125, 0.00604248046875, 0.006072998046875, 0.004730224609375, 0.00250244140625, 0.00091552734375, 0.0006103515625, 0.000701904296875, 0.000457763671875, 0.000244140625, 3.0517578125e-05, -0.0013427734375, -0.004364013671875, -0.007293701171875, -0.0079345703125, -0.006134033203125, -0.003326416015625, -0.000457763671875, 0.00225830078125, 0.004180908203125, 0.004486083984375, 0.003753662109375, 0.003753662109375, 0.004791259765625, 0.00518798828125, 0.003570556640625, 0.001129150390625, -0.000457763671875, -0.00152587890625, -0.003448486328125, -0.005767822265625, -0.00592041015625, -0.002716064453125, 0.001495361328125, 0.003173828125, 0.001495361328125, -0.000946044921875, -0.001922607421875, -0.001708984375, -0.0020751953125, -0.00347900390625, -0.00433349609375, -0.00360107421875, -0.00189208984375, -0.000579833984375, -9.1552734375e-05, 0.000152587890625, 0.0001220703125, -0.000457763671875, -0.0010986328125, -0.000732421875, 0.0006103515625, 0.001251220703125, 0.000244140625, -0.001007080078125, -0.00079345703125, 0.00042724609375, 0.0001220703125, -0.00244140625, -0.004638671875, -0.003509521484375, 3.0517578125e-05, 0.00244140625, 0.001983642578125, 0.00042724609375, 0.000732421875, 0.00299072265625, 0.004669189453125, 0.003570556640625, 0.000274658203125, -0.00262451171875, -0.003082275390625, -0.001007080078125, 0.00164794921875, 0.0028076171875, 0.002197265625, 0.001312255859375, 0.00152587890625, 0.002655029296875, 0.003387451171875, 0.002960205078125, 0.001983642578125, 0.001373291015625, 0.001373291015625, 0.00152587890625, 0.001708984375, 0.001861572265625, 0.001800537109375, 0.001068115234375, -0.000274658203125, -0.001617431640625, -0.002471923828125, -0.002899169921875, -0.003021240234375, -0.002655029296875, -0.00164794921875, -0.00054931640625, -6.103515625e-05, -0.000579833984375, -0.001556396484375, -0.002593994140625, -0.003875732421875, -0.00531005859375, -0.006072998046875, -0.0050048828125, -0.00213623046875, 0.000885009765625, 0.002410888671875, 0.00244140625, 0.002166748046875, 0.00213623046875, 0.001739501953125, 0.000701904296875, 0.00048828125, 0.00262451171875, 0.005645751953125, 0.00634765625, 0.003570556640625, -6.103515625e-05, -0.001617431640625, -0.001617431640625, -0.002227783203125, -0.00323486328125, -0.002685546875, -0.001068115234375, -0.002044677734375, -0.00665283203125, -0.010528564453125, -0.00909423828125, -0.004058837890625, -0.001190185546875, -0.0025634765625, -0.00408935546875, -0.00225830078125, 0.00103759765625, 0.001617431640625, -0.00103759765625, -0.003570556640625, -0.0030517578125, 0.000244140625, 0.003997802734375, 0.00579833984375, 0.0047607421875, 0.002227783203125, 0.0010986328125, 0.0025634765625, 0.0045166015625, 0.00433349609375, 0.002838134765625, 0.002899169921875, 0.0042724609375, 0.003570556640625, -0.00042724609375, -0.003814697265625, -0.002960205078125, 0.000335693359375, 0.0013427734375, -0.000579833984375, -0.001678466796875, 0.0001220703125, 0.00201416015625, 0.00079345703125, -0.00244140625, -0.0037841796875, -0.001739501953125, 0.0009765625, 0.001220703125, -0.00091552734375, -0.002655029296875, -0.00146484375, 0.00164794921875, 0.003509521484375, 0.001983642578125, -0.00103759765625, -0.001434326171875, 0.002105712890625, 0.00634765625, 0.00701904296875, 0.003814697265625, 0.000244140625, -0.0008544921875, 0.000152587890625, 0.000885009765625, 6.103515625e-05, -0.001373291015625, -0.00164794921875, -0.000335693359375, 0.000946044921875, 3.0517578125e-05, -0.002685546875, -0.00408935546875, -0.00201416015625, 0.00115966796875, 0.00103759765625, -0.002685546875, -0.00543212890625, -0.00372314453125, 0.000335693359375, 0.002044677734375, 0.000274658203125, -0.001861572265625, -0.002105712890625, -0.001220703125, -0.00079345703125, -0.001220703125, -0.002227783203125, -0.00360107421875, -0.0045166015625, -0.003326416015625, -6.103515625e-05, 0.002532958984375, 0.00238037109375, 0.0006103515625, -0.000213623046875, 0.000396728515625, 0.000885009765625, 0.00067138671875, 0.00054931640625, 0.000701904296875, 0.000457763671875, -6.103515625e-05, 0.0006103515625, 0.002532958984375, 0.003570556640625, 0.0020751953125, -0.00030517578125, -0.001007080078125, 0.000335693359375, 0.001556396484375, 0.00140380859375, 0.000518798828125, 0.000152587890625, 0.0003662109375, 0.00048828125, -0.000213623046875, -0.001739501953125, -0.0032958984375, -0.003448486328125, -0.001678466796875, 0.00042724609375, 0.001251220703125, 0.000732421875, 0.000213623046875, 6.103515625e-05, -0.00042724609375, -0.001068115234375, -0.000457763671875, 0.001251220703125, 0.001739501953125, 0.00018310546875, -0.0008544921875, 0.001068115234375, 0.00408935546875, 0.004302978515625, 0.00164794921875, -6.103515625e-05, 0.001068115234375, 0.00244140625, 0.0013427734375, -0.000640869140625, -0.000701904296875, 0.000762939453125, 0.001007080078125, -0.000152587890625, -0.000274658203125, 0.001373291015625, 0.0023193359375, 0.000946044921875, -0.0008544921875, -0.000518798828125, 0.001129150390625, 0.001739501953125, 0.0010986328125, 0.00091552734375, 0.001251220703125, -3.0517578125e-05, -0.0032958984375, -0.005615234375, -0.004302978515625, -0.0008544921875, 0.000885009765625, -0.000823974609375, -0.00372314453125, -0.0047607421875, -0.003387451171875, -0.001434326171875, -0.00030517578125, -6.103515625e-05, 0.00018310546875, 0.000946044921875, 0.00177001953125, 0.001617431640625, 0.0001220703125, -0.001556396484375, -0.00189208984375, -0.000579833984375, 0.000885009765625, 0.001251220703125, 0.000885009765625, 0.000823974609375, 0.0009765625, 0.00048828125, -0.00048828125, -0.000762939453125, -0.000152587890625, -0.000244140625, -0.001800537109375, -0.00335693359375, -0.0029296875, -0.001007080078125, 9.1552734375e-05, -0.000701904296875, -0.00201416015625, -0.002227783203125, -0.001190185546875, -9.1552734375e-05, 0.0003662109375, 0.000640869140625, 0.001068115234375, 0.001556396484375, 0.001617431640625, 0.00103759765625, 0.00030517578125, 0.000213623046875, 0.00091552734375, 0.0013427734375, 0.00054931640625, -0.00079345703125, -0.00091552734375, 0.00048828125, 0.001495361328125, 0.00067138671875, -0.00054931640625, -9.1552734375e-05, 0.00103759765625, 0.00048828125, -0.001678466796875, -0.0025634765625, -0.0008544921875, 0.001190185546875, 0.0015869140625, 0.00146484375, 0.003143310546875, 0.00543212890625, 0.005340576171875, 0.00250244140625, -0.000335693359375, -0.001220703125, -0.001129150390625, -0.0010986328125, -0.000244140625, 0.001800537109375, 0.00286865234375, 0.00054931640625, -0.00360107421875, -0.00555419921875, -0.0035400390625, -0.000457763671875, -9.1552734375e-05, -0.00274658203125, -0.005401611328125, -0.0057373046875, -0.00433349609375, -0.003265380859375, -0.00323486328125, -0.0029296875, -0.0013427734375, 0.000701904296875, 0.00128173828125, 3.0517578125e-05, -0.001129150390625, -0.00067138671875, 0.000732421875, 0.001251220703125, 0.00115966796875, 0.00146484375, 0.00177001953125, -3.0517578125e-05, -0.00372314453125, -0.00579833984375, -0.003662109375, 0.000518798828125, 0.002044677734375, 0.000152587890625, -0.001434326171875, -3.0517578125e-05, 0.002410888671875, 0.002410888671875, -9.1552734375e-05, -0.001678466796875, -0.000213623046875, 0.00238037109375, 0.002655029296875, 0.000213623046875, -0.001739501953125, -3.0517578125e-05, 0.004241943359375, 0.0064697265625, 0.00390625, -0.00054931640625, -0.002166748046875, -0.00079345703125, -0.000640869140625, -0.00360107421875, -0.00543212890625, -0.00250244140625, 0.001617431640625, 0.000518798828125, -0.0054931640625, -0.0086669921875, -0.005401611328125, -0.000823974609375, -0.000640869140625, -0.001953125, 0.001068115234375, 0.00604248046875, 0.00482177734375, -0.00311279296875, -0.007537841796875, -0.001251220703125, 0.008758544921875, 0.010589599609375, 0.00311279296875, -0.00360107421875, -0.00311279296875, -0.0001220703125, -0.001220703125, -0.005126953125, -0.0059814453125, -0.00262451171875, 0.0003662109375, -0.000335693359375, -0.002899169921875, -0.003875732421875, -0.002471923828125, -0.000274658203125, 0.000946044921875, 0.0003662109375, -0.001373291015625, -0.00238037109375, -0.001434326171875, 0.00042724609375, 0.001190185546875, 0.000946044921875, 0.001556396484375, 0.002838134765625, 0.001983642578125, -0.001434326171875, -0.003265380859375, 0.00030517578125, 0.006317138671875, 0.008087158203125, 0.00408935546875, -0.000335693359375, -0.00054931640625, 0.001190185546875, 0.000152587890625, -0.003326416015625, -0.004974365234375, -0.00299072265625, -0.000335693359375, 0.000152587890625, -0.0006103515625, -0.00067138671875, -0.000732421875, -0.00177001953125, -0.002197265625, 0.00030517578125, 0.004364013671875, 0.00567626953125, 0.00286865234375, -0.0006103515625, -0.001556396484375, -0.00103759765625, -0.00146484375, -0.00201416015625, -9.1552734375e-05, 0.00323486328125, 0.00360107421875, -0.0009765625, -0.006439208984375, -0.00775146484375, -0.004486083984375, -0.000457763671875, 0.001251220703125, 0.00042724609375, -0.001556396484375, -0.003265380859375, -0.003387451171875, -0.00164794921875, 0.00042724609375, 0.000946044921875, 0.00030517578125, 0.000457763671875, 0.001495361328125, 0.00115966796875, -0.0008544921875, -0.001251220703125, 0.002410888671875, 0.0074462890625, 0.00860595703125, 0.004852294921875, 0.00018310546875, -0.0015869140625, -0.000946044921875, -0.00048828125, -0.00103759765625, -0.00164794921875, -0.001190185546875, 0.000518798828125, 0.002960205078125, 0.00396728515625, 0.00177001953125, -0.002105712890625, -0.0030517578125, 0.0010986328125, 0.006378173828125, 0.007110595703125, 0.00335693359375, -3.0517578125e-05, -0.000823974609375, -0.001708984375, -0.00469970703125, -0.006805419921875, -0.0047607421875, -0.000701904296875, 0.000823974609375, -0.000640869140625, -0.00152587890625, -0.00103759765625, -0.001922607421875, -0.00445556640625, -0.004150390625, 0.000946044921875, 0.005523681640625, 0.003448486328125, -0.00286865234375, -0.005401611328125, -0.00225830078125, 0.000213623046875, -0.001953125, -0.0035400390625, 0.00115966796875, 0.0079345703125, 0.007598876953125, -0.00030517578125, -0.005584716796875, -0.001373291015625, 0.00665283203125, 0.00836181640625, 0.00299072265625, -0.00177001953125, -0.0015869140625, -0.000152587890625, -0.00201416015625, -0.005340576171875, -0.005584716796875, -0.0020751953125, 0.001556396484375, 0.0030517578125, 0.002899169921875, 0.00189208984375, -9.1552734375e-05, -0.0020751953125, -0.00213623046875, 0.000213623046875, 0.00299072265625, 0.003692626953125, 0.00189208984375, -0.001190185546875, -0.003753662109375, -0.00433349609375, -0.002532958984375, -0.00018310546875, 0.000457763671875, -0.00048828125, -0.0003662109375, 0.00128173828125, 0.001556396484375, -0.0013427734375, -0.0037841796875, -0.00152587890625, 0.003387451171875, 0.004364013671875, -0.000335693359375, -0.004791259765625, -0.003753662109375, 0.00018310546875, 0.00091552734375, -0.001861572265625, -0.00311279296875, -0.000762939453125, 0.001495361328125, 0.000701904296875, -0.001007080078125, -0.000579833984375, 0.001068115234375, 0.001312255859375, 0.000335693359375, 0.000335693359375, 0.001068115234375, 0.0001220703125, -0.002227783203125, -0.002899169921875, -0.000885009765625, 0.00103759765625, 0.000640869140625, -0.0001220703125, 0.001190185546875, 0.003326416015625, 0.003204345703125, 0.00103759765625, -6.103515625e-05, 0.001007080078125, 0.00177001953125, 0.00054931640625, -0.000885009765625, -0.000579833984375, 0.00042724609375, 0.0, -0.00146484375, -0.001983642578125, -0.00164794921875, -0.002288818359375, -0.003692626953125, -0.00335693359375, -0.00030517578125, 0.002471923828125, 0.002044677734375, -0.000518798828125, -0.00140380859375, 0.000244140625, 0.0018310546875, 0.0013427734375, 0.0, -0.0001220703125, 0.00091552734375, 0.0018310546875, 0.002410888671875, 0.003021240234375, 0.0028076171875, 0.000823974609375, -0.00128173828125, -0.000457763671875, 0.00341796875, 0.006072998046875, 0.003875732421875, -0.001007080078125, -0.003204345703125, -0.001129150390625, 0.001220703125, 0.00042724609375, -0.001922607421875, -0.00213623046875, -0.00048828125, -0.000701904296875, -0.004058837890625, -0.007080078125, -0.006134033203125, -0.002166748046875, 0.00091552734375, 0.001373291015625, 0.000640869140625, 0.0003662109375, 0.00048828125, 0.000457763671875, 0.000701904296875, 0.001556396484375, 0.001922607421875, 0.000762939453125, -0.000823974609375, -0.0009765625, 0.000274658203125, 0.00067138671875, -0.001007080078125, -0.00274658203125, -0.001861572265625, 0.001190185546875, 0.002655029296875, 9.1552734375e-05, -0.004302978515625, -0.005889892578125, -0.002960205078125, 0.0010986328125, 0.0020751953125, -0.00030517578125, -0.002655029296875, -0.002471923828125, -0.000518798828125, 0.001129150390625, 0.00189208984375, 0.0020751953125, 0.0015869140625, 0.000518798828125, 0.000213623046875, 0.00146484375, 0.002655029296875, 0.001861572265625, 9.1552734375e-05, 0.000152587890625, 0.00177001953125, 0.00115966796875, -0.003326416015625, -0.007293701171875, -0.00604248046875, -0.001190185546875, 0.00091552734375, -0.00177001953125, -0.0048828125, -0.004180908203125, -0.001373291015625, -0.000396728515625, -0.00128173828125, -0.0006103515625, 0.00274658203125, 0.005645751953125, 0.0047607421875, 0.0010986328125, -0.001800537109375, -0.00164794921875, 0.0008544921875, 0.00311279296875, 0.00323486328125, 0.001312255859375, -0.00048828125, -0.000579833984375, 0.00030517578125, 0.00042724609375, -0.000274658203125, -0.000274658203125, 0.000640869140625, 0.000885009765625, -0.000518798828125, -0.001800537109375, -0.001373291015625, 0.0, 0.000640869140625, 0.0009765625, 0.00238037109375, 0.00390625, 0.003204345703125, 0.00030517578125, -0.001861572265625, -0.00115966796875, 0.00091552734375, 0.001739501953125, 0.001220703125, 0.000457763671875, 0.0001220703125, -0.000274658203125, -0.00079345703125, -0.0013427734375, -0.001953125, -0.002288818359375, -0.001373291015625, 0.000518798828125, 0.001007080078125, -0.0013427734375, -0.004180908203125, -0.003753662109375, -0.000518798828125, 0.001220703125, -0.000152587890625, -0.00115966796875, 0.001190185546875, 0.004425048828125, 0.003997802734375, 0.000335693359375, -0.001861572265625, -0.0006103515625, 0.001312255859375, 0.001129150390625, 3.0517578125e-05, 0.000396728515625, 0.001800537109375, 0.00225830078125, 0.001617431640625, 0.001251220703125, 0.0010986328125, -6.103515625e-05, -0.002105712890625, -0.003143310546875, -0.002655029296875, -0.001861572265625, -0.00164794921875, -0.00128173828125, -0.000213623046875, 0.000213623046875, -0.000885009765625, -0.002288818359375, -0.001861572265625, 0.000274658203125, 0.0018310546875, 0.001495361328125, 0.000335693359375, -0.000213623046875, -0.000244140625, -0.000701904296875, -0.001556396484375, -0.0020751953125, -0.001800537109375, -0.00091552734375, 0.000244140625, 0.001129150390625, 0.00103759765625, -0.00018310546875, -0.001251220703125, -0.000885009765625, 0.000213623046875, -0.0003662109375, -0.003326416015625, -0.00604248046875, -0.0054931640625, -0.002166748046875, 0.000335693359375, -0.000274658203125, -0.00250244140625, -0.003204345703125, -0.00152587890625, 0.000457763671875, 0.000946044921875, 0.000274658203125, 0.0, 0.000518798828125, 0.00079345703125, -0.000152587890625, -0.001800537109375, -0.00238037109375, -0.000946044921875, 0.001220703125, 0.001800537109375, 0.0001220703125, -0.00164794921875, -0.001373291015625, 0.0003662109375, 0.001129150390625, 3.0517578125e-05, -0.000885009765625, 0.000152587890625, 0.00225830078125, 0.0030517578125, 0.00225830078125, 0.0015869140625, 0.0018310546875, 0.001708984375, 0.00054931640625, -0.000335693359375, 0.000274658203125, 0.001312255859375, 0.001007080078125, -0.000396728515625, -0.000762939453125, 0.000640869140625, 0.002471923828125, 0.003082275390625, 0.002655029296875, 0.00189208984375, 0.00079345703125, -0.0008544921875, -0.002166748046875, -0.00213623046875, -0.00091552734375, -0.000213623046875, -0.001312255859375, -0.003509521484375, -0.004913330078125, -0.0045166015625, -0.002685546875, -0.000640869140625, 0.000762939453125, 0.00146484375, 0.001739501953125, 0.001495361328125, 0.001007080078125, 0.0008544921875, 0.001708984375, 0.003387451171875, 0.004547119140625, 0.003875732421875, 0.0018310546875, -9.1552734375e-05, -0.000823974609375, -0.000640869140625, -0.000396728515625, -0.00048828125, -0.000518798828125, -0.00018310546875, -0.000244140625, -0.0013427734375, -0.002838134765625, -0.0032958984375, -0.001922607421875, 3.0517578125e-05, 0.0008544921875, 0.000518798828125, 0.000213623046875, 0.000335693359375, 9.1552734375e-05, -0.000640869140625, -0.000518798828125, 0.0010986328125, 0.00244140625, 0.0015869140625, -0.00018310546875, -0.000213623046875, 0.00177001953125, 0.002838134765625, 0.001556396484375, -0.0001220703125, 9.1552734375e-05, 0.000946044921875, -0.0003662109375, -0.00341796875, -0.00506591796875, -0.00396728515625, -0.0020751953125, -0.0015869140625, -0.002197265625, -0.002593994140625, -0.002197265625, -0.00140380859375, -0.000396728515625, 0.00018310546875, -0.001007080078125, -0.00396728515625, -0.00604248046875, -0.00445556640625, -0.00054931640625, 0.00128173828125, -0.001068115234375, -0.004730224609375, -0.005523681640625, -0.003082275390625, -0.00067138671875, -0.000396728515625, -0.000732421875, 0.000518798828125, 0.002685546875, 0.003265380859375, 0.0015869140625, -6.103515625e-05, 0.000152587890625, 0.0015869140625, 0.002105712890625, 0.001434326171875, 0.000823974609375, 0.000732421875, 0.000518798828125, -3.0517578125e-05, -9.1552734375e-05, 6.103515625e-05, -0.00067138671875, -0.00146484375, 0.000152587890625, 0.00421142578125, 0.006500244140625, 0.00396728515625, -0.000396728515625, -0.001220703125, 0.00152587890625, 0.00250244140625, 0.000152587890625, -0.001007080078125, 0.001861572265625, 0.0042724609375, 0.00091552734375, -0.005218505859375, -0.006378173828125, -0.00115966796875, 0.003631591796875, 0.003204345703125, 0.00079345703125, 0.00152587890625, 0.004241943359375, 0.00433349609375, 0.00152587890625, -0.000244140625, 0.0008544921875, 0.00225830078125, 0.001220703125, -0.001129150390625, -0.002227783203125, -0.001617431640625, -0.000732421875, -0.00030517578125, -0.00030517578125, -0.00030517578125, 6.103515625e-05, 0.000946044921875, 0.002166748046875, 0.003143310546875, 0.003570556640625, 0.00347900390625, 0.002777099609375, 0.002044677734375, 0.002716064453125, 0.0054931640625, 0.007843017578125, 0.006439208984375, 0.001708984375, -0.000885009765625, 0.002044677734375, 0.00726318359375, 0.008819580078125, 0.005767822265625, 0.0028076171875, 0.00274658203125, 0.003387451171875, 0.00225830078125, 0.00054931640625, 0.00042724609375, 0.001007080078125, 0.000152587890625, -0.001251220703125, -0.00128173828125, -0.00128173828125, -0.00457763671875, -0.0098876953125, -0.01123046875, -0.005889892578125, -0.000244140625, -0.00311279296875, -0.014617919921875, -0.025054931640625, -0.025634765625, -0.018096923828125, -0.011566162109375, -0.0123291015625, -0.01800537109375, -0.021209716796875, -0.01806640625, -0.011871337890625, -0.008941650390625, -0.011383056640625, -0.01446533203125, -0.012664794921875, -0.00640869140625, -0.002105712890625, -0.0030517578125, -0.004547119140625, 0.00018310546875, 0.009674072265625, 0.014434814453125, 0.009490966796875, 0.002593994140625, 0.005401611328125, 0.018310546875, 0.02899169921875, 0.027252197265625, 0.0172119140625, 0.0108642578125, 0.01312255859375, 0.01763916015625, 0.01708984375, 0.012451171875, 0.009674072265625, 0.010589599609375, 0.010894775390625, 0.006805419921875, -0.00018310546875, -0.005462646484375, -0.00634765625, -0.004425048828125, -0.003875732421875, -0.007476806640625, -0.013519287109375, -0.01666259765625, -0.013671875, -0.00811767578125, -0.00634765625, -0.00897216796875, -0.009613037109375, -0.003692626953125, 0.004486083984375, 0.0076904296875, 0.00604248046875, 0.006500244140625, 0.01202392578125, 0.016845703125, 0.015380859375, 0.01055908203125, 0.00958251953125, 0.01348876953125, 0.0166015625, 0.015167236328125, 0.01153564453125, 0.00933837890625, 0.008575439453125, 0.007415771484375, 0.005523681640625, 0.003387451171875, 0.00054931640625, -0.0023193359375, -0.002685546875, 0.000518798828125, 0.00408935546875, 0.004119873046875, 0.001800537109375, 0.001708984375, 0.0048828125, 0.0076904296875, 0.007598876953125, 0.00665283203125, 0.007537841796875, 0.0096435546875, 0.01123046875, 0.012054443359375, 0.013031005859375, 0.013671875, 0.013397216796875, 0.012908935546875, 0.011871337890625, 0.0081787109375, 0.001617431640625, -0.003631591796875, -0.003997802734375, -0.003265380859375, -0.0087890625, -0.02166748046875, -0.03460693359375, -0.04217529296875, -0.0462646484375, -0.050323486328125, -0.0523681640625, -0.049591064453125, -0.04571533203125, -0.046722412109375, -0.051177978515625, -0.0511474609375, -0.043304443359375, -0.033447265625, -0.0277099609375, -0.024658203125, -0.01910400390625, -0.010711669921875, -0.00286865234375, 0.003326416015625, 0.010040283203125, 0.017974853515625, 0.0250244140625, 0.02972412109375, 0.033050537109375, 0.036407470703125, 0.039886474609375, 0.043212890625, 0.04583740234375, 0.046142578125, 0.042236328125, 0.03533935546875, 0.02935791015625, 0.0260009765625, 0.02301025390625, 0.017822265625, 0.01129150390625, 0.006011962890625, 0.001922607421875, -0.003448486328125, -0.01068115234375, -0.0169677734375, -0.0196533203125, -0.019317626953125, -0.019134521484375, -0.0213623046875, -0.024810791015625, -0.026031494140625, -0.02337646484375, -0.018890380859375, -0.015899658203125, -0.01458740234375, -0.011810302734375, -0.00592041015625, 0.0003662109375, 0.004058837890625, 0.0057373046875, 0.007720947265625, 0.00994873046875, 0.010986328125, 0.011810302734375, 0.0145263671875, 0.017730712890625, 0.017333984375, 0.013275146484375, 0.010223388671875, 0.0106201171875, 0.011077880859375, 0.008026123046875, 0.00408935546875, 0.00335693359375, 0.004150390625, 0.00177001953125, -0.0032958984375, -0.005401611328125, -0.002716064453125, 6.103515625e-05, -0.001312255859375, -0.004425048828125, -0.004852294921875, -0.0025634765625, -0.0009765625, -0.001312255859375, -0.00238037109375, -0.002899169921875, -0.00201416015625, 0.00079345703125, 0.00482177734375, 0.007293701171875, 0.006988525390625, 0.0062255859375, 0.007476806640625, 0.009368896484375, 0.009735107421875, 0.010101318359375, 0.013153076171875, 0.017364501953125, 0.018524169921875, 0.01690673828125, 0.017181396484375, 0.019866943359375, 0.01995849609375, 0.015472412109375, 0.0118408203125, 0.012542724609375, 0.01177978515625, 0.00238037109375, -0.012420654296875, -0.0223388671875, -0.024810791015625, -0.02801513671875, -0.038818359375, -0.053375244140625, -0.064056396484375, -0.0689697265625, -0.070953369140625, -0.071319580078125, -0.0697021484375, -0.067657470703125, -0.067291259765625, -0.067108154296875, -0.063446044921875, -0.0555419921875, -0.0460205078125, -0.03607177734375, -0.02435302734375, -0.011199951171875, 0.00030517578125, 0.008453369140625, 0.015411376953125, 0.02374267578125, 0.032684326171875, 0.04022216796875, 0.0462646484375, 0.051483154296875, 0.05462646484375, 0.053955078125, 0.05029296875, 0.046478271484375, 0.043365478515625, 0.038787841796875, 0.031005859375, 0.021453857421875, 0.013397216796875, 0.00860595703125, 0.00592041015625, 0.00262451171875, -0.00323486328125, -0.01031494140625, -0.015045166015625, -0.0155029296875, -0.014251708984375, -0.01513671875, -0.017913818359375, -0.018524169921875, -0.01507568359375, -0.010498046875, -0.00830078125, -0.00701904296875, -0.002685546875, 0.004730224609375, 0.010772705078125, 0.012054443359375, 0.01043701171875, 0.010223388671875, 0.012939453125, 0.016510009765625, 0.018218994140625, 0.017425537109375, 0.015167236328125, 0.012939453125, 0.011383056640625, 0.009796142578125, 0.007080078125, 0.003936767578125, 0.00250244140625, 0.003326416015625, 0.003570556640625, 0.0006103515625, -0.003692626953125, -0.005340576171875, -0.003570556640625, -0.001800537109375, -0.002227783203125, -0.003082275390625, -0.0023193359375, -0.0013427734375, -0.002227783203125, -0.003448486328125, -0.002410888671875, -0.000335693359375, -0.000335693359375, -0.00103759765625, 0.001983642578125, 0.00823974609375, 0.01104736328125, 0.007720947265625, 0.005218505859375, 0.01123046875, 0.022552490234375, 0.029571533203125, 0.029571533203125, 0.029022216796875, 0.03192138671875, 0.033905029296875, 0.03057861328125, 0.025421142578125, 0.02325439453125, 0.022369384765625, 0.01861572265625, 0.01397705078125, 0.013885498046875, 0.016754150390625, 0.013946533203125, 0.001678466796875, -0.013946533203125, -0.02520751953125, -0.03216552734375, -0.0400390625, -0.051361083984375, -0.064361572265625, -0.075775146484375, -0.082061767578125, -0.08062744140625, -0.0736083984375, -0.068084716796875, -0.0682373046875, -0.069366455078125, -0.06396484375, -0.052001953125, -0.03973388671875, -0.029693603515625, -0.01837158203125, -0.00439453125, 0.00787353515625, 0.015838623046875, 0.02325439453125, 0.03363037109375, 0.04351806640625, 0.04864501953125, 0.051727294921875, 0.058197021484375, 0.0655517578125, 0.066162109375, 0.05938720703125, 0.0533447265625, 0.052825927734375, 0.052459716796875, 0.04559326171875, 0.03466796875, 0.02618408203125, 0.020294189453125, 0.01190185546875, 0.000457763671875, -0.009124755859375, -0.014923095703125, -0.0208740234375, -0.028961181640625, -0.034393310546875, -0.032806396484375, -0.027740478515625, -0.025970458984375, -0.027740478515625, -0.02716064453125, -0.0216064453125, -0.0152587890625, -0.011749267578125, -0.008544921875, -0.00189208984375, 0.00616455078125, 0.010284423828125, 0.009735107421875, 0.009796142578125, 0.013824462890625, 0.01904296875, 0.020843505859375, 0.01934814453125, 0.017974853515625, 0.017822265625, 0.016632080078125, 0.013214111328125, 0.0096435546875, 0.00830078125, 0.008544921875, 0.008026123046875, 0.00616455078125, 0.0040283203125, 0.0025634765625, 0.001708984375, 0.00103759765625, 0.00030517578125, -9.1552734375e-05, 0.0006103515625, 0.003143310546875, 0.0067138671875, 0.008941650390625, 0.008941650390625, 0.009063720703125, 0.0120849609375, 0.0174560546875, 0.02252197265625, 0.026458740234375, 0.029754638671875, 0.0316162109375, 0.03045654296875, 0.02801513671875, 0.0283203125, 0.03179931640625, 0.033843994140625, 0.031707763671875, 0.02874755859375, 0.02880859375, 0.02978515625, 0.027862548828125, 0.02392578125, 0.021240234375, 0.017913818359375, 0.009918212890625, -3.0517578125e-05, -0.003936767578125, -0.001434326171875, -0.003082275390625, -0.016082763671875, -0.034088134765625, -0.04656982421875, -0.052947998046875, -0.059539794921875, -0.06707763671875, -0.071014404296875, -0.071533203125, -0.07342529296875, -0.07513427734375, -0.0689697265625, -0.05548095703125, -0.04681396484375, -0.050079345703125, -0.05596923828125, -0.051300048828125, -0.0372314453125, -0.024505615234375, -0.01611328125, -0.005828857421875, 0.00750732421875, 0.01678466796875, 0.020263671875, 0.026580810546875, 0.0408935546875, 0.05517578125, 0.06005859375, 0.059051513671875, 0.06170654296875, 0.067718505859375, 0.067535400390625, 0.058502197265625, 0.0489501953125, 0.04425048828125, 0.039154052734375, 0.0279541015625, 0.014923095703125, 0.00787353515625, 0.005340576171875, -0.001007080078125, -0.0133056640625, -0.024139404296875, -0.02685546875, -0.024139404296875, -0.02276611328125, -0.02435302734375, -0.025177001953125, -0.02288818359375, -0.01910400390625, -0.01519775390625, -0.00982666015625, -0.001922607421875, 0.006072998046875, 0.0106201171875, 0.011932373046875, 0.013763427734375, 0.018524169921875, 0.02423095703125, 0.02777099609375, 0.02850341796875, 0.02789306640625, 0.026397705078125, 0.023223876953125, 0.018798828125, 0.014495849609375, 0.010467529296875, 0.005889892578125, 0.001434326171875, -0.00079345703125, -0.000946044921875, -0.00213623046875, -0.005462646484375, -0.00811767578125, -0.007476806640625, -0.005889892578125, -0.006591796875, -0.008636474609375, -0.0086669921875, -0.0067138671875, -0.005615234375, -0.005401611328125, -0.003265380859375, 0.000518798828125, 0.002044677734375, 0.001190185546875, 0.003265380859375, 0.01055908203125, 0.017059326171875, 0.01739501953125, 0.016632080078125, 0.023223876953125, 0.0355224609375, 0.0433349609375, 0.042694091796875, 0.041015625, 0.043914794921875, 0.046630859375, 0.04248046875, 0.034027099609375, 0.02838134765625, 0.025634765625, 0.020172119140625, 0.01165771484375, 0.006134033203125, 0.005096435546875, 0.001068115234375, -0.012847900390625, -0.032989501953125, -0.04998779296875, -0.0594482421875, -0.06536865234375, -0.073638916015625, -0.085601806640625, -0.09771728515625, -0.104156494140625, -0.1015625, -0.09295654296875, -0.085784912109375, -0.084197998046875, -0.08392333984375, -0.078369140625, -0.06646728515625, -0.052032470703125, -0.0367431640625, -0.0191650390625, -0.000732421875, 0.013427734375, 0.02227783203125, 0.03167724609375, 0.04632568359375, 0.06219482421875, 0.0718994140625, 0.07470703125, 0.076080322265625, 0.078704833984375, 0.079925537109375, 0.07769775390625, 0.073577880859375, 0.067626953125, 0.056976318359375, 0.041656494140625, 0.027923583984375, 0.02069091796875, 0.016357421875, 0.00677490234375, -0.00958251953125, -0.0264892578125, -0.037811279296875, -0.0428466796875, -0.0440673828125, -0.04400634765625, -0.045257568359375, -0.048553466796875, -0.050048828125, -0.043853759765625, -0.03057861328125, -0.01812744140625, -0.012176513671875, -0.00909423828125, -0.00250244140625, 0.006988525390625, 0.014312744140625, 0.019134521484375, 0.025970458984375, 0.034881591796875, 0.03973388671875, 0.03790283203125, 0.03509521484375, 0.03680419921875, 0.039794921875, 0.03790283203125, 0.03173828125, 0.0274658203125, 0.026580810546875, 0.02423095703125, 0.017547607421875, 0.010040283203125, 0.0052490234375, 0.001373291015625, -0.004852294921875, -0.01226806640625, -0.016998291015625, -0.018341064453125, -0.01947021484375, -0.022430419921875, -0.025146484375, -0.02447509765625, -0.019927978515625, -0.01422119140625, -0.01055908203125, -0.009033203125, -0.00653076171875, -0.000762939453125, 0.006439208984375, 0.011383056640625, 0.0145263671875, 0.020416259765625, 0.030914306640625, 0.04156494140625, 0.04730224609375, 0.048858642578125, 0.0501708984375, 0.051727294921875, 0.05157470703125, 0.050201416015625, 0.049285888671875, 0.04656982421875, 0.038299560546875, 0.02728271484375, 0.020751953125, 0.018280029296875, 0.009552001953125, -0.01080322265625, -0.033721923828125, -0.047698974609375, -0.054656982421875, -0.065185546875, -0.080963134765625, -0.093292236328125, -0.098114013671875, -0.100555419921875, -0.10296630859375, -0.099395751953125, -0.088134765625, -0.07879638671875, -0.078857421875, -0.080078125, -0.0697021484375, -0.04949951171875, -0.03253173828125, -0.022613525390625, -0.010406494140625, 0.008880615234375, 0.0267333984375, 0.03570556640625, 0.041412353515625, 0.052032470703125, 0.064300537109375, 0.070098876953125, 0.07086181640625, 0.0750732421875, 0.08294677734375, 0.085296630859375, 0.078765869140625, 0.070404052734375, 0.065277099609375, 0.05792236328125, 0.0428466796875, 0.02557373046875, 0.014862060546875, 0.008544921875, -0.00323486328125, -0.021942138671875, -0.03741455078125, -0.042205810546875, -0.041900634765625, -0.04632568359375, -0.055267333984375, -0.059722900390625, -0.05523681640625, -0.047332763671875, -0.042266845703125, -0.038543701171875, -0.030487060546875, -0.017547607421875, -0.005340576171875, 0.00311279296875, 0.0115966796875, 0.02374267578125, 0.035919189453125, 0.041656494140625, 0.04156494140625, 0.042327880859375, 0.046417236328125, 0.048248291015625, 0.04290771484375, 0.034423828125, 0.029510498046875, 0.027374267578125, 0.022491455078125, 0.014404296875, 0.0084228515625, 0.00579833984375, 0.0010986328125, -0.008331298828125, -0.016937255859375, -0.019744873046875, -0.020233154296875, -0.024322509765625, -0.03009033203125, -0.03057861328125, -0.024871826171875, -0.0194091796875, -0.017669677734375, -0.015716552734375, -0.010498046875, -0.005035400390625, -0.0028076171875, -0.00115966796875, 0.003753662109375, 0.010162353515625, 0.013580322265625, 0.01556396484375, 0.0224609375, 0.03521728515625, 0.046875, 0.05126953125, 0.0506591796875, 0.050872802734375, 0.05303955078125, 0.053466796875, 0.050506591796875, 0.046905517578125, 0.0443115234375, 0.04010009765625, 0.032196044921875, 0.023895263671875, 0.0196533203125, 0.017333984375, 0.008331298828125, -0.01129150390625, -0.034881591796875, -0.05218505859375, -0.061065673828125, -0.068115234375, -0.078582763671875, -0.09033203125, -0.0987548828125, -0.10272216796875, -0.102569580078125, -0.09783935546875, -0.089599609375, -0.0828857421875, -0.080902099609375, -0.078704833984375, -0.06866455078125, -0.051116943359375, -0.03411865234375, -0.02197265625, -0.010589599609375, 0.00384521484375, 0.018157958984375, 0.028656005859375, 0.038299560546875, 0.0511474609375, 0.063446044921875, 0.06854248046875, 0.068206787109375, 0.071075439453125, 0.079132080078125, 0.083953857421875, 0.07952880859375, 0.070556640625, 0.063751220703125, 0.05731201171875, 0.046356201171875, 0.033447265625, 0.025299072265625, 0.02056884765625, 0.01092529296875, -0.005462646484375, -0.019775390625, -0.02545166015625, -0.027557373046875, -0.03424072265625, -0.043914794921875, -0.048583984375, -0.04638671875, -0.043731689453125, -0.044036865234375, -0.04266357421875, -0.03546142578125, -0.025970458984375, -0.01947021484375, -0.0142822265625, -0.004791259765625, 0.00836181640625, 0.018218994140625, 0.021240234375, 0.02239990234375, 0.027313232421875, 0.03448486328125, 0.038604736328125, 0.0386962890625, 0.03802490234375, 0.037628173828125, 0.03399658203125, 0.0260009765625, 0.017974853515625, 0.013519287109375, 0.0103759765625, 0.00408935546875, -0.003997802734375, -0.008148193359375, -0.007476806640625, -0.00811767578125, -0.014312744140625, -0.021514892578125, -0.022308349609375, -0.017303466796875, -0.013885498046875, -0.0152587890625, -0.01617431640625, -0.011505126953125, -0.004150390625, 0.00042724609375, 0.002685546875, 0.0074462890625, 0.014892578125, 0.0198974609375, 0.02117919921875, 0.02435302734375, 0.032928466796875, 0.04150390625, 0.04327392578125, 0.0408935546875, 0.04217529296875, 0.048095703125, 0.05169677734375, 0.0496826171875, 0.046661376953125, 0.045379638671875, 0.040283203125, 0.027252197265625, 0.013214111328125, 0.007904052734375, 0.0081787109375, 0.000579833984375, -0.019989013671875, -0.04296875, -0.056610107421875, -0.06219482421875, -0.06842041015625, -0.07781982421875, -0.0863037109375, -0.091400146484375, -0.0943603515625, -0.0943603515625, -0.088470458984375, -0.078765869140625, -0.071807861328125, -0.069427490234375, -0.065765380859375, -0.0552978515625, -0.039886474609375, -0.024658203125, -0.010986328125, 0.002349853515625, 0.0145263671875, 0.024810791015625, 0.0355224609375, 0.04840087890625, 0.059661865234375, 0.064453125, 0.064727783203125, 0.06689453125, 0.07147216796875, 0.072357177734375, 0.067474365234375, 0.061553955078125, 0.05694580078125, 0.048614501953125, 0.033660888671875, 0.019683837890625, 0.015167236328125, 0.015777587890625, 0.010009765625, -0.00335693359375, -0.01361083984375, -0.015380859375, -0.016937255859375, -0.025909423828125, -0.035675048828125, -0.035980224609375, -0.02960205078125, -0.028961181640625, -0.03619384765625, -0.040069580078125, -0.033599853515625, -0.02459716796875, -0.022491455078125, -0.023101806640625, -0.01611328125, -0.002227783203125, 0.0074462890625, 0.008270263671875, 0.008392333984375, 0.01519775390625, 0.02392578125, 0.0263671875, 0.02386474609375, 0.02435302734375, 0.029449462890625, 0.032135009765625, 0.028594970703125, 0.02362060546875, 0.022491455078125, 0.022735595703125, 0.019134521484375, 0.01226806640625, 0.0072021484375, 0.0052490234375, 0.002716064453125, -0.002166748046875, -0.006011962890625, -0.006134033203125, -0.005035400390625, -0.00604248046875, -0.0081787109375, -0.008453369140625, -0.0076904296875, -0.0087890625, -0.010894775390625, -0.009918212890625, -0.005462646484375, -0.00213623046875, -0.002227783203125, -0.000457763671875, 0.008056640625, 0.019775390625, 0.026153564453125, 0.0260009765625, 0.02655029296875, 0.031890869140625, 0.0369873046875, 0.036285400390625, 0.032958984375, 0.032958984375, 0.03460693359375, 0.031829833984375, 0.025482177734375, 0.022430419921875, 0.022918701171875, 0.01727294921875, 0.00091552734375, -0.0169677734375, -0.02606201171875, -0.030914306640625, -0.04376220703125, -0.065032958984375, -0.0823974609375, -0.0894775390625, -0.09326171875, -0.0999755859375, -0.103729248046875, -0.09796142578125, -0.088958740234375, -0.087188720703125, -0.089508056640625, -0.082672119140625, -0.0634765625, -0.04351806640625, -0.031341552734375, -0.0211181640625, -0.004669189453125, 0.014190673828125, 0.026611328125, 0.033203125, 0.042205810546875, 0.054840087890625, 0.06396484375, 0.06622314453125, 0.067047119140625, 0.0703125, 0.071533203125, 0.06585693359375, 0.056427001953125, 0.04949951171875, 0.044677734375, 0.037322998046875, 0.027374267578125, 0.01922607421875, 0.013519287109375, 0.0062255859375, -0.00396728515625, -0.012939453125, -0.017852783203125, -0.02197265625, -0.028594970703125, -0.0345458984375, -0.0345458984375, -0.02923583984375, -0.024139404296875, -0.021148681640625, -0.01708984375, -0.0103759765625, -0.005035400390625, -0.00396728515625, -0.003692626953125, 0.000885009765625, 0.008331298828125, 0.013031005859375, 0.01361083984375, 0.014892578125, 0.019927978515625, 0.025360107421875, 0.02716064453125, 0.026702880859375, 0.027069091796875, 0.02691650390625, 0.022369384765625, 0.01434326171875, 0.0081787109375, 0.005615234375, 0.00238037109375, -0.004364013671875, -0.011077880859375, -0.01336669921875, -0.013275146484375, -0.0150146484375, -0.017852783203125, -0.01788330078125, -0.015411376953125, -0.01483154296875, -0.01611328125, -0.01416015625, -0.00732421875, -0.001220703125, 0.000152587890625, 0.00128173828125, 0.008026123046875, 0.0179443359375, 0.024322509765625, 0.0269775390625, 0.03155517578125, 0.03875732421875, 0.04241943359375, 0.039703369140625, 0.036376953125, 0.03765869140625, 0.040069580078125, 0.03802490234375, 0.03302001953125, 0.03045654296875, 0.029937744140625, 0.026214599609375, 0.01904296875, 0.013427734375, 0.01007080078125, 0.0028076171875, -0.011016845703125, -0.02459716796875, -0.031463623046875, -0.03533935546875, -0.0445556640625, -0.059417724609375, -0.07208251953125, -0.078125, -0.080841064453125, -0.084075927734375, -0.086151123046875, -0.084930419921875, -0.082427978515625, -0.0810546875, -0.078338623046875, -0.070281982421875, -0.057769775390625, -0.045013427734375, -0.0335693359375, -0.021514892578125, -0.0084228515625, 0.003875732421875, 0.015228271484375, 0.02764892578125, 0.040496826171875, 0.04974365234375, 0.05401611328125, 0.05743408203125, 0.063995361328125, 0.071624755859375, 0.07568359375, 0.075408935546875, 0.072998046875, 0.06805419921875, 0.05841064453125, 0.04595947265625, 0.035614013671875, 0.02801513671875, 0.01824951171875, 0.00457763671875, -0.00726318359375, -0.012542724609375, -0.01483154296875, -0.020477294921875, -0.02850341796875, -0.032501220703125, -0.03173828125, -0.032135009765625, -0.0362548828125, -0.038665771484375, -0.03533935546875, -0.0303955078125, -0.028839111328125, -0.0279541015625, -0.02142333984375, -0.0103759765625, -0.002197265625, 0.000732421875, 0.003936767578125, 0.01141357421875, 0.019561767578125, 0.023468017578125, 0.024627685546875, 0.02728271484375, 0.031036376953125, 0.03192138671875, 0.029937744140625, 0.02874755859375, 0.02947998046875, 0.02886962890625, 0.02520751953125, 0.021026611328125, 0.018157958984375, 0.01416015625, 0.006744384765625, -0.001495361328125, -0.00640869140625, -0.0081787109375, -0.010498046875, -0.01422119140625, -0.016387939453125, -0.0159912109375, -0.01544189453125, -0.016571044921875, -0.016937255859375, -0.013519287109375, -0.00750732421875, -0.002593994140625, 0.000213623046875, 0.003448486328125, 0.00927734375, 0.016571044921875, 0.02294921875, 0.027587890625, 0.031158447265625, 0.034149169921875, 0.0362548828125, 0.03717041015625, 0.037109375, 0.03668212890625, 0.0360107421875, 0.034088134765625, 0.0294189453125, 0.02203369140625, 0.01416015625, 0.007476806640625, 0.000701904296875, -0.008758544921875, -0.0208740234375, -0.0330810546875, -0.044036865234375, -0.05517578125, -0.066802978515625, -0.075836181640625, -0.079315185546875, -0.0789794921875, -0.078460693359375, -0.0777587890625, -0.073577880859375, -0.066070556640625, -0.059814453125, -0.057403564453125, -0.055023193359375, -0.04779052734375, -0.036529541015625, -0.02581787109375, -0.017303466796875, -0.0081787109375, 0.0035400390625, 0.015960693359375, 0.026519775390625, 0.034698486328125, 0.041259765625, 0.0465087890625, 0.050689697265625, 0.05413818359375, 0.056488037109375, 0.056610107421875, 0.0550537109375, 0.05340576171875, 0.051483154296875, 0.0465087890625, 0.03790283203125, 0.02960205078125, 0.025482177734375, 0.023956298828125, 0.020477294921875, 0.014007568359375, 0.007293701171875, 0.0015869140625, -0.004852294921875, -0.012542724609375, -0.018768310546875, -0.021881103515625, -0.023956298828125, -0.026824951171875, -0.02886962890625, -0.028045654296875, -0.025482177734375, -0.02349853515625, -0.02166748046875, -0.018096923828125, -0.013519287109375, -0.010345458984375, -0.008087158203125, -0.0037841796875, 0.002899169921875, 0.008880615234375, 0.012237548828125, 0.01416015625, 0.016021728515625, 0.0169677734375, 0.016754150390625, 0.01763916015625, 0.020477294921875, 0.022674560546875, 0.0218505859375, 0.019622802734375, 0.0189208984375, 0.018829345703125, 0.017181396484375, 0.014739990234375, 0.013519287109375, 0.0118408203125, 0.006500244140625, -0.000244140625, -0.0020751953125, 0.001983642578125, 0.005096435546875, 0.00238037109375, -0.002044677734375, -0.0018310546875, 0.002166748046875, 0.00506591796875, 0.00616455078125, 0.008880615234375, 0.012969970703125, 0.01416015625, 0.01165771484375, 0.01043701171875, 0.01336669921875, 0.016510009765625, 0.015777587890625, 0.0126953125, 0.01141357421875, 0.011871337890625, 0.01129150390625, 0.01007080078125, 0.01031494140625, 0.0113525390625, 0.009765625, 0.005218505859375, 0.00091552734375, -0.001953125, -0.00640869140625, -0.01507568359375, -0.025909423828125, -0.035247802734375, -0.041839599609375, -0.047027587890625, -0.051177978515625, -0.054046630859375, -0.05633544921875, -0.058990478515625, -0.061126708984375, -0.060760498046875, -0.057525634765625, -0.053314208984375, -0.0496826171875, -0.04632568359375, -0.041473388671875, -0.033660888671875, -0.022552490234375, -0.009674072265625, 0.00250244140625, 0.012298583984375, 0.02056884765625, 0.028778076171875, 0.037078857421875, 0.04425048828125, 0.04962158203125, 0.053314208984375, 0.055572509765625, 0.056488037109375, 0.0567626953125, 0.056854248046875, 0.055938720703125, 0.052459716796875, 0.04656982421875, 0.040069580078125, 0.03436279296875, 0.0294189453125, 0.025054931640625, 0.02105712890625, 0.01629638671875, 0.009552001953125, 0.002227783203125, -0.0025634765625, -0.004302978515625, -0.006591796875, -0.01177978515625, -0.017242431640625, -0.018829345703125, -0.016937255859375, -0.014984130859375, -0.014190673828125, -0.01226806640625, -0.008636474609375, -0.005462646484375, -0.004058837890625, -0.0023193359375, 0.001556396484375, 0.006134033203125, 0.0091552734375, 0.010833740234375, 0.01318359375, 0.01666259765625, 0.02032470703125, 0.02337646484375, 0.02508544921875, 0.02435302734375, 0.021453857421875, 0.018585205078125, 0.01727294921875, 0.015594482421875, 0.01116943359375, 0.005645751953125, 0.002899169921875, 0.0032958984375, 0.003265380859375, 0.000762939453125, -0.00213623046875, -0.003326416015625, -0.004058837890625, -0.00537109375, -0.00494384765625, -0.001007080078125, 0.003753662109375, 0.00506591796875, 0.00390625, 0.005523681640625, 0.011383056640625, 0.0172119140625, 0.0196533203125, 0.020965576171875, 0.02392578125, 0.026031494140625, 0.0230712890625, 0.01666259765625, 0.01324462890625, 0.014678955078125, 0.015533447265625, 0.010772705078125, 0.003021240234375, -0.001495361328125, -0.001739501953125, -0.002716064453125, -0.00750732421875, -0.013671875, -0.017974853515625, -0.021209716796875, -0.026031494140625, -0.032257080078125, -0.037506103515625, -0.04156494140625, -0.046112060546875, -0.05120849609375, -0.054168701171875, -0.053863525390625, -0.052398681640625, -0.051513671875, -0.050079345703125, -0.046478271484375, -0.04156494140625, -0.037109375, -0.03265380859375, -0.02679443359375, -0.019744873046875, -0.0128173828125, -0.0054931640625, 0.003448486328125, 0.01275634765625, 0.01947021484375, 0.02313232421875, 0.026336669921875, 0.030120849609375, 0.032501220703125, 0.03265380859375, 0.032958984375, 0.034942626953125, 0.036041259765625, 0.033538818359375, 0.02978515625, 0.028900146484375, 0.02996826171875, 0.028411865234375, 0.022979736328125, 0.017486572265625, 0.01458740234375, 0.0125732421875, 0.00958251953125, 0.00701904296875, 0.006134033203125, 0.0048828125, 0.0015869140625, -0.00152587890625, -0.001708984375, -0.000732421875, -0.00244140625, -0.00634765625, -0.00836181640625, -0.007171630859375, -0.005615234375, -0.005279541015625, -0.004180908203125, -0.0013427734375, 0.000762939453125, 0.00048828125, 0.000579833984375, 0.004119873046875, 0.009521484375, 0.01318359375, 0.015045166015625, 0.017364501953125, 0.019805908203125, 0.019744873046875, 0.017578125, 0.01666259765625, 0.017730712890625, 0.017578125, 0.01458740234375, 0.0118408203125, 0.012176513671875, 0.013336181640625, 0.011688232421875, 0.008056640625, 0.006011962890625, 0.00616455078125, 0.00592041015625, 0.00445556640625, 0.00372314453125, 0.00445556640625, 0.00457763671875, 0.00311279296875, 0.002044677734375, 0.002655029296875, 0.00311279296875, 0.001739501953125, 0.000457763671875, 0.001556396484375, 0.00384521484375, 0.004302978515625, 0.0032958984375, 0.003387451171875, 0.004974365234375, 0.005828857421875, 0.00555419921875, 0.006195068359375, 0.008056640625, 0.008270263671875, 0.005157470703125, 0.00103759765625, -0.00152587890625, -0.003204345703125, -0.00616455078125, -0.009490966796875, -0.011627197265625, -0.013397216796875, -0.01641845703125, -0.019012451171875, -0.018646240234375, -0.0174560546875, -0.020477294921875, -0.02825927734375, -0.03509521484375, -0.03680419921875, -0.03607177734375, -0.036773681640625, -0.037567138671875, -0.035064697265625, -0.03021240234375, -0.026519775390625, -0.02374267578125, -0.018951416015625, -0.01312255859375, -0.010711669921875, -0.012176513671875, -0.011688232421875, -0.005615234375, 0.002044677734375, 0.006134033203125, 0.008056640625, 0.012420654296875, 0.01885986328125, 0.023040771484375, 0.02423095703125, 0.026031494140625, 0.029052734375, 0.029022216796875, 0.024078369140625, 0.01910400390625, 0.01873779296875, 0.020172119140625, 0.017425537109375, 0.010589599609375, 0.00531005859375, 0.00396728515625, 0.002593994140625, -0.001953125, -0.006866455078125, -0.007904052734375, -0.006195068359375, -0.0059814453125, -0.008026123046875, -0.00885009765625, -0.00677490234375, -0.004150390625, -0.00323486328125, -0.002593994140625, 0.000335693359375, 0.0047607421875, 0.0079345703125, 0.0091552734375, 0.010406494140625, 0.012420654296875, 0.01348876953125, 0.01263427734375, 0.012054443359375, 0.013641357421875, 0.016265869140625, 0.017242431640625, 0.0167236328125, 0.016815185546875, 0.017578125, 0.0162353515625, 0.0115966796875, 0.006134033203125, 0.00213623046875, -0.00091552734375, -0.004302978515625, -0.006805419921875, -0.006683349609375, -0.00537109375, -0.00537109375, -0.006011962890625, -0.00445556640625, -0.0013427734375, -0.000274658203125, -0.002288818359375, -0.003265380859375, -0.000274658203125, 0.00360107421875, 0.003997802734375, 0.00213623046875, 0.002685546875, 0.006103515625, 0.00836181640625, 0.007537841796875, 0.0064697265625, 0.007110595703125, 0.007354736328125, 0.005218505859375, 0.002471923828125, 0.001495361328125, 0.00091552734375, -0.0015869140625, -0.0045166015625, -0.004913330078125, -0.004119873046875, -0.006317138671875, -0.011627197265625, -0.01458740234375, -0.012664794921875, -0.01019287109375, -0.012359619140625, -0.017669677734375, -0.020599365234375, -0.019561767578125, -0.018096923828125, -0.018310546875, -0.01800537109375, -0.015411376953125, -0.012451171875, -0.011077880859375, -0.00970458984375, -0.00616455078125, -0.00238037109375, -0.002105712890625, -0.004974365234375, -0.006103515625, -0.003143310546875, 0.0003662109375, 0.000152587890625, -0.002655029296875, -0.003570556640625, -0.00128173828125, 0.000640869140625, -0.000213623046875, -0.001953125, -0.001953125, -0.001068115234375, -0.00201416015625, -0.00433349609375, -0.004608154296875, -0.0015869140625, 0.001983642578125, 0.00311279296875, 0.002655029296875, 0.003082275390625, 0.004425048828125, 0.00506591796875, 0.004974365234375, 0.005828857421875, 0.00762939453125, 0.0081787109375, 0.006927490234375, 0.00677490234375, 0.009613037109375, 0.01287841796875, 0.012603759765625, 0.009429931640625, 0.008087158203125, 0.010650634765625, 0.0135498046875, 0.0130615234375, 0.01025390625, 0.0087890625, 0.009368896484375, 0.00994873046875, 0.009552001953125, 0.008941650390625, 0.0084228515625, 0.007171630859375, 0.00604248046875, 0.007080078125, 0.00958251953125, 0.009857177734375, 0.006439208984375, 0.003173828125, 0.0035400390625, 0.00555419921875, 0.005340576171875, 0.003662109375, 0.00408935546875, 0.00677490234375, 0.007965087890625, 0.007049560546875, 0.007110595703125, 0.008544921875, 0.007080078125, 0.00152587890625, -0.002716064453125, -0.001495361328125, 0.000701904296875, -0.002288818359375, -0.008056640625, -0.009246826171875, -0.005615234375, -0.00421142578125, -0.007110595703125, -0.007904052734375, -0.0035400390625, -0.000274658203125, -0.00323486328125, -0.006866455078125, -0.0042724609375, 0.000762939453125, -0.0003662109375, -0.005950927734375, -0.00640869140625, -0.0003662109375, 0.0023193359375, -0.003326416015625, -0.00921630859375, -0.007720947265625, -0.003692626953125, -0.0054931640625, -0.0103759765625, -0.009918212890625, -0.004425048828125, -0.00238037109375, -0.005584716796875, -0.006744384765625, -0.0028076171875, -0.000762939453125, -0.005096435546875, -0.009857177734375, -0.008331298828125, -0.004302978515625, -0.004852294921875, -0.007904052734375, -0.00634765625, -0.001007080078125, 0.000518798828125, -0.0029296875, -0.003662109375, 0.001861572265625, 0.0069580078125, 0.005767822265625, 0.002593994140625, 0.00421142578125, 0.008270263671875, 0.0076904296875, 0.002593994140625, -0.000213623046875, 0.001617431640625, 0.003143310546875, 0.00091552734375, -0.00152587890625, -0.00048828125, 0.00164794921875, 0.001068115234375, -0.00146484375, -0.00262451171875, -0.002227783203125, -0.002410888671875, -0.0032958984375, -0.00286865234375, -0.001251220703125, -0.000213623046875, 0.0, 0.0013427734375, 0.0037841796875, 0.00531005859375, 0.005157470703125, 0.005096435546875, 0.005950927734375, 0.0062255859375, 0.005157470703125, 0.004486083984375, 0.005462646484375, 0.006683349609375, 0.006683349609375, 0.006622314453125, 0.0078125, 0.009063720703125, 0.008056640625, 0.005523681640625, 0.0040283203125, 0.0040283203125, 0.003570556640625, 0.001922607421875, 0.000396728515625, -0.00030517578125, -0.001190185546875, -0.002716064453125, -0.00341796875, -0.0023193359375, -0.0006103515625, 0.00054931640625, 0.00140380859375, 0.00238037109375, 0.0028076171875, 0.002716064453125, 0.00347900390625, 0.00537109375, 0.00653076171875, 0.00604248046875, 0.00592041015625, 0.007568359375, 0.0084228515625, 0.005950927734375, 0.0023193359375, 0.001708984375, 0.00335693359375, 0.002410888671875, -0.00189208984375, -0.004669189453125, -0.00311279296875, -0.000946044921875, -0.001983642578125, -0.004058837890625, -0.003326416015625, -0.001312255859375, -0.00189208984375, -0.00433349609375, -0.0047607421875, -0.00335693359375, -0.00408935546875, -0.0068359375, -0.007049560546875, -0.003692626953125, -0.001739501953125, -0.00360107421875, -0.004669189453125, -0.0008544921875, 0.003662109375, 0.003204345703125, 0.000152587890625, 0.00067138671875, 0.0042724609375, 0.00433349609375, -0.00018310546875, -0.002471923828125, 0.000579833984375, 0.0030517578125, -0.0001220703125, -0.004730224609375, -0.004547119140625, -0.001556396484375, -0.002288818359375, -0.00604248046875, -0.00616455078125, -0.00164794921875, 0.00067138671875, -0.00244140625, -0.00518798828125, -0.00201416015625, 0.00341796875, 0.004241943359375, 0.001373291015625, 0.001220703125, 0.00482177734375, 0.006439208984375, 0.00274658203125, -0.002044677734375, -0.0030517578125, -0.001922607421875, -0.00299072265625, -0.006011962890625, -0.0072021484375, -0.005340576171875, -0.003326416015625, -0.0032958984375, -0.003570556640625, -0.002197265625, -0.000640869140625, -0.001190185546875, -0.0030517578125, -0.003143310546875, -0.00091552734375, 0.00048828125, -0.00115966796875, -0.00341796875, -0.002471923828125, 0.0008544921875, 0.002166748046875, 3.0517578125e-05, -0.0018310546875, -0.000152587890625, 0.002655029296875, 0.002685546875, 0.000762939453125, 0.000823974609375, 0.0029296875, 0.00341796875, 0.00164794921875, 0.001739501953125, 0.00506591796875, 0.006744384765625, 0.002899169921875, -0.00225830078125, -0.002899169921875, -0.000579833984375, -0.00152587890625, -0.00579833984375, -0.007171630859375, -0.003326416015625, 0.00048828125, 0.000457763671875, -0.000244140625, 0.0023193359375, 0.0057373046875, 0.00628662109375, 0.005340576171875, 0.006256103515625, 0.0074462890625, 0.005767822265625, 0.003082275390625, 0.00360107421875, 0.005889892578125, 0.00494384765625, 0.001220703125, 0.000396728515625, 0.0035400390625, 0.0047607421875, 0.001556396484375, -0.000732421875, 0.001708984375, 0.00396728515625, 0.000823974609375, -0.0037841796875, -0.00335693359375, 0.00018310546875, 0.000152587890625, -0.00323486328125, -0.003662109375, -0.00054931640625, -0.000457763671875, -0.00537109375, -0.008514404296875, -0.00592041015625, -0.0029296875, -0.00457763671875, -0.006439208984375, -0.002593994140625, 0.00335693359375, 0.00390625, 0.000396728515625, 0.000579833984375, 0.00518798828125, 0.006561279296875, 0.002105712890625, -0.0009765625, 0.00201416015625, 0.0050048828125, 0.000946044921875, -0.0062255859375, -0.0076904296875, -0.0035400390625, -0.001922607421875, -0.00567626953125, -0.008392333984375, -0.005645751953125, -0.002105712890625, -0.003387451171875, -0.006561279296875, -0.005157470703125, 9.1552734375e-05, 0.002532958984375, 0.000396728515625, -0.000762939453125, 0.00250244140625, 0.005645751953125, 0.00384521484375, 0.000213623046875, 0.00048828125, 0.003204345703125, 0.002288818359375, -0.001922607421875, -0.00238037109375, 0.003204345703125, 0.0069580078125, 0.00341796875, -0.001312255859375, 0.0013427734375, 0.008087158203125, 0.00872802734375, 0.002685546875, 0.00018310546875, 0.005096435546875, 0.00787353515625, 0.001129150390625, -0.007293701171875, -0.0064697265625, -3.0517578125e-05, -0.00018310546875, -0.007781982421875, -0.010772705078125, -0.00396728515625, 0.002593994140625, 3.0517578125e-05, -0.005279541015625, -0.002471923828125, 0.0062255859375, 0.009552001953125, 0.0050048828125, 0.001678466796875, 0.0052490234375, 0.009246826171875, 0.00628662109375, -0.000244140625, -0.002044677734375, 0.00128173828125, 0.002105712890625, -0.00286865234375, -0.00775146484375, -0.00653076171875, -0.002197265625, -0.001953125, -0.0059814453125, -0.00689697265625, -0.001251220703125, 0.004180908203125, 0.00225830078125, -0.0035400390625, -0.003662109375, 0.002593994140625, 0.005584716796875, 0.000244140625, -0.005706787109375, -0.0042724609375, 0.000335693359375, -0.001007080078125, -0.006683349609375, -0.0069580078125, -0.00054931640625, 0.003265380859375, 0.00018310546875, -0.00250244140625, 0.0009765625, 0.00506591796875, 0.003448486328125, 0.000244140625, 0.001953125, 0.00543212890625, 0.003814697265625, -0.00042724609375, 0.00018310546875, 0.003875732421875, 0.002197265625, -0.004364013671875, -0.006072998046875, -0.001129150390625, 0.000244140625, -0.006256103515625, -0.010345458984375, -0.0040283203125, 0.003692626953125, 0.001007080078125, -0.00714111328125, -0.006866455078125, 0.001953125, 0.006072998046875, 0.000640869140625, -0.003875732421875, -0.000396728515625, 0.004119873046875, 0.0015869140625, -0.003753662109375, -0.003631591796875, 0.000518798828125, 0.001678466796875, -0.000640869140625, -0.0010986328125, 0.00152587890625, 0.00323486328125, 0.002593994140625, 0.001739501953125, 0.001495361328125, 0.00079345703125, 0.000732421875, 0.002716064453125, 0.00384521484375, 0.000518798828125, -0.003875732421875, -0.003021240234375, 0.00115966796875, 0.00030517578125, -0.006561279296875, -0.01019287109375, -0.005889892578125, -0.001617431640625, -0.004364013671875, -0.007965087890625, -0.0032958984375, 0.005157470703125, 0.0062255859375, 0.000701904296875, 9.1552734375e-05, 0.006927490234375, 0.01025390625, 0.0042724609375, -0.00146484375, 0.002197265625, 0.00848388671875, 0.00628662109375, -0.001251220703125, -0.00262451171875, 0.00274658203125, 0.003814697265625, -0.002655029296875, -0.00701904296875, -0.003082275390625, 0.001983642578125, 0.000152587890625, -0.003997802734375, -0.002349853515625, 0.0028076171875, 0.00347900390625, 0.0, -0.000457763671875, 0.002899169921875, 0.00360107421875, 0.000274658203125, -0.00079345703125, 0.00244140625, 0.003448486328125, -0.0009765625, -0.00439453125, -0.002197265625, 3.0517578125e-05, -0.00323486328125, -0.00634765625, -0.001953125, 0.004791259765625, 0.003662109375, -0.002593994140625, -0.002105712890625, 0.0054931640625, 0.00732421875, -0.00091552734375, -0.006195068359375, 0.000152587890625, 0.006866455078125, 0.000762939453125, -0.010650634765625, -0.01092529296875, -0.0015869140625, 0.000335693359375, -0.00885009765625, -0.013092041015625, -0.003387451171875, 0.007080078125, 0.004364013671875, -0.00390625, -0.0020751953125, 0.007965087890625, 0.0107421875, 0.003082275390625, -0.0020751953125, 0.002288818359375, 0.006866455078125, 0.002777099609375, -0.004058837890625, -0.003997802734375, 0.000640869140625, 0.0009765625, -0.0030517578125, -0.004180908203125, -0.001068115234375, -6.103515625e-05, -0.003448486328125, -0.005462646484375, -0.00238037109375, 0.001251220703125, 0.000701904296875, -0.001068115234375, 0.000335693359375, 0.002655029296875, 0.0008544921875, -0.003204345703125, -0.00335693359375, 0.00048828125, 0.001678466796875, -0.001861572265625, -0.0037841796875, 0.000244140625, 0.004302978515625, 0.0018310546875, -0.00299072265625, -0.0009765625, 0.00665283203125, 0.0093994140625, 0.004058837890625, 0.00030517578125, 0.004638671875, 0.00885009765625, 0.003204345703125, -0.006561279296875, -0.007232666015625, 0.00067138671875, 0.002899169921875, -0.005401611328125, -0.011688232421875, -0.006500244140625, 0.0015869140625, 0.000274658203125, -0.0064697265625, -0.005859375, 0.0018310546875, 0.00433349609375, -0.0013427734375, -0.00408935546875, 0.001739501953125, 0.0062255859375, 0.00103759765625, -0.00634765625, -0.005126953125, 0.001068115234375, 0.001129150390625, -0.004180908203125, -0.00433349609375, 0.002105712890625, 0.004730224609375, -0.000579833984375, -0.00445556640625, 0.000244140625, 0.006439208984375, 0.004638671875, -0.00128173828125, -0.001708984375, 0.00299072265625, 0.00408935546875, 0.000274658203125, -0.000946044921875, 0.0025634765625, 0.00341796875, -0.001953125, -0.00604248046875, -0.0023193359375, 0.003509521484375, 0.002777099609375, -0.002197265625, -0.00213623046875, 0.003692626953125, 0.00677490234375, 0.003509521484375, 0.00048828125, 0.00262451171875, 0.00531005859375, 0.003082275390625, -0.000640869140625, -6.103515625e-05, 0.002410888671875, 0.00079345703125, -0.00347900390625, -0.003387451171875, 0.0008544921875, 0.001007080078125, -0.0054931640625, -0.0101318359375, -0.006683349609375, -0.00140380859375, -0.002777099609375, -0.007537841796875, -0.00628662109375, 0.000885009765625, 0.0045166015625, 0.00128173828125, -0.001190185546875, 0.0025634765625, 0.00750732421875, 0.00677490234375, 0.002655029296875, 0.001251220703125, 0.00250244140625, 0.0023193359375, 0.001007080078125, 0.001983642578125, 0.004058837890625, 0.002899169921875, -0.000518798828125, -0.00042724609375, 0.0037841796875, 0.005615234375, 0.002227783203125, -0.0003662109375, 0.002410888671875, 0.005218505859375, 0.001190185546875, -0.005889892578125, -0.00640869140625, -0.000335693359375, 0.001983642578125, -0.00433349609375, -0.010528564453125, -0.007720947265625, -0.00091552734375, -0.001220703125, -0.007904052734375, -0.008880615234375, 6.103515625e-05, 0.007720947265625, 0.004486083984375, -0.002349853515625, 3.0517578125e-05, 0.008880615234375, 0.009490966796875, -0.00091552734375, -0.007293701171875, -0.000701904296875, 0.00665283203125, 0.000946044921875, -0.009796142578125, -0.007843017578125, 0.003936767578125, 0.005859375, -0.00616455078125, -0.011932373046875, 0.000335693359375, 0.013458251953125, 0.00823974609375, -0.005340576171875, -0.004486083984375, 0.008636474609375, 0.010955810546875, -0.00274658203125, -0.0108642578125, -0.000640869140625, 0.010711669921875, 0.0048828125, -0.008392333984375, -0.00836181640625, 0.00299072265625, 0.006256103515625, -0.002655029296875, -0.007720947265625, -0.000732421875, 0.00616455078125, 0.00189208984375, -0.006134033203125, -0.0054931640625, 0.00140380859375, 0.003265380859375, -0.0023193359375, -0.007232666015625, -0.006317138671875, -0.0030517578125, -0.002532958984375, -0.005126953125, -0.007537841796875, -0.006591796875, -0.00286865234375, -0.000640869140625, -0.003143310546875, -0.006683349609375, -0.00408935546875, 0.00390625, 0.0084228515625, 0.005462646484375, 0.0029296875, 0.007232666015625, 0.012054443359375, 0.008575439453125, 0.001556396484375, 0.002197265625, 0.009033203125, 0.009857177734375, 0.002593994140625, -0.000701904296875, 0.004852294921875, 0.007781982421875, -0.0001220703125, -0.0089111328125, -0.006317138671875, 0.00146484375, -3.0517578125e-05, -0.009368896484375, -0.011383056640625, -0.00244140625, 0.003631591796875, -0.002105712890625, -0.010009765625, -0.0079345703125, -6.103515625e-05, 0.001617431640625, -0.003662109375, -0.006072998046875, -0.001800537109375, 0.001739501953125, -0.0013427734375, -0.00616455078125, -0.0050048828125, 0.00152587890625, 0.0062255859375, 0.0052490234375, 0.00244140625, 0.0028076171875, 0.00592041015625, 0.007080078125, 0.0042724609375, 0.00115966796875, 0.0018310546875, 0.004791259765625, 0.00439453125, -0.0006103515625, -0.004974365234375, -0.00384521484375, 6.103515625e-05, 0.00048828125, -0.003509521484375, -0.0064697265625, -0.00408935546875, 0.001190185546875, 0.003814697265625, 0.0023193359375, 0.000457763671875, 0.002197265625, 0.006317138671875, 0.0078125, 0.004547119140625, 0.00079345703125, 0.001495361328125, 0.004638671875, 0.003173828125, -0.00433349609375, -0.009979248046875, -0.007537841796875, -0.002227783203125, -0.0028076171875, -0.008087158203125, -0.008758544921875, -0.00244140625, 0.002716064453125, 0.001190185546875, -0.00164794921875, 0.000396728515625, 0.003814697265625, 0.002044677734375, -0.0025634765625, -0.002899169921875, 0.000823974609375, 0.001983642578125, -0.000244140625, 0.000518798828125, 0.0052490234375, 0.00689697265625, 0.00238037109375, -0.000823974609375, 0.00311279296875, 0.00811767578125, 0.0062255859375, 0.001007080078125, 0.00177001953125, 0.007354736328125, 0.00775146484375, 0.001190185546875, -0.002471923828125, 0.001739501953125, 0.005401611328125, 0.00054931640625, -0.00689697265625, -0.00665283203125, -0.00128173828125, -0.001495361328125, -0.0081787109375, -0.01068115234375, -0.004730224609375, 0.000244140625, -0.00323486328125, -0.008331298828125, -0.00555419921875, 0.001373291015625, 0.001861572265625, -0.003814697265625, -0.00543212890625, 6.103515625e-05, 0.00408935546875, 0.001373291015625, -0.00146484375, 0.00164794921875, 0.005706787109375, 0.004119873046875, 0.000762939453125, 0.00299072265625, 0.007781982421875, 0.0067138671875, 0.001312255859375, 0.001312255859375, 0.007354736328125, 0.008880615234375, 0.00213623046875, -0.00286865234375, 0.000946044921875, 0.00531005859375, 0.000518798828125, -0.007568359375, -0.007293701171875, -0.00042724609375, 0.000823974609375, -0.005767822265625, -0.0098876953125, -0.00665283203125, -0.00323486328125, -0.0047607421875, -0.00616455078125, -0.003021240234375, -0.000335693359375, -0.002227783203125, -0.003631591796875, -0.0001220703125, 0.0029296875, -6.103515625e-05, -0.003509521484375, -0.0001220703125, 0.004974365234375, 0.002410888671875, -0.003997802734375, -0.002655029296875, 0.004669189453125, 0.004730224609375, -0.004119873046875, -0.007293701171875, 0.001251220703125, 0.007965087890625, 0.001800537109375, -0.00689697265625, -0.00408935546875, 0.004119873046875, 0.002532958984375, -0.006195068359375, -0.005645751953125, 0.005950927734375, 0.01190185546875, 0.004608154296875, -0.00262451171875, 0.00177001953125, 0.009185791015625, 0.006744384765625, -0.00140380859375, -0.002227783203125, 0.003936767578125, 0.005279541015625, -0.00146484375, -0.006622314453125, -0.0042724609375, -0.0001220703125, -0.000885009765625, -0.00439453125, -0.005828857421875, -0.005157470703125, -0.00445556640625, -0.00341796875, -0.001708984375, -0.001495361328125, -0.00347900390625, -0.00469970703125, -0.003326416015625, -0.001922607421875, -0.002838134765625, -0.00396728515625, -0.002349853515625, 0.00042724609375, 0.00115966796875, 9.1552734375e-05, -0.00030517578125, 0.000457763671875, 0.00152587890625, 0.003143310546875, 0.005035400390625, 0.004852294921875, 0.002166748046875, 0.001129150390625, 0.004669189453125, 0.008697509765625, 0.006927490234375, 0.001251220703125, -0.000579833984375, 0.003173828125, 0.005767822265625, 0.002838134765625, -0.00115966796875, -0.00067138671875, 0.00244140625, 0.0032958984375, 0.001434326171875, -0.0001220703125, -0.00030517578125, -0.00054931640625, -0.00091552734375, -0.000640869140625, -0.000823974609375, -0.0025634765625, -0.004486083984375, -0.00439453125, -0.003021240234375, -0.00225830078125, -0.002044677734375, -0.0018310546875, -0.0028076171875, -0.005340576171875, -0.006103515625, -0.003326416015625, -0.001251220703125, -0.00360107421875, -0.006011962890625, -0.0023193359375, 0.00347900390625, 0.002197265625, -0.004364013671875, -0.004150390625, 0.005401611328125, 0.01123046875, 0.004913330078125, -0.0028076171875, 0.00091552734375, 0.009613037109375, 0.0084228515625, -0.0010986328125, -0.00372314453125, 0.003204345703125, 0.005889892578125, -0.00128173828125, -0.005645751953125, 0.001556396484375, 0.0089111328125, 0.004150390625, -0.00494384765625, -0.003662109375, 0.00408935546875, 0.00299072265625, -0.00653076171875, -0.00848388671875, 0.00091552734375, 0.0057373046875, -0.00341796875, -0.01324462890625, -0.009368896484375, 0.000762939453125, 0.000762939453125, -0.007720947265625, -0.00933837890625, -0.000701904296875, 0.0050048828125, 0.0006103515625, -0.00439453125, -0.00079345703125, 0.00604248046875, 0.006622314453125, 0.002716064453125, 0.002166748046875, 0.005126953125, 0.0054931640625, 0.0025634765625, 0.001708984375, 0.004241943359375, 0.004638671875, 0.00042724609375, -0.0035400390625, -0.002899169921875, -0.00079345703125, -0.002105712890625, -0.005615234375, -0.0059814453125, -0.002105712890625, 0.001251220703125, 0.000518798828125, -0.001922607421875, -0.00140380859375, 0.002227783203125, 0.0042724609375, 0.00164794921875, -0.002288818359375, -0.002105712890625, 0.00213623046875, 0.004180908203125, 0.00048828125, -0.004058837890625, -0.003326416015625, 0.0008544921875, 0.001251220703125, -0.003204345703125, -0.005645751953125, -0.002532958984375, 0.000640869140625, -0.00152587890625, -0.005157470703125, -0.003936767578125, 0.000152587890625, 0.00042724609375, -0.002685546875, -0.002716064453125, 0.00091552734375, 0.0015869140625, -0.00189208984375, -0.00189208984375, 0.00469970703125, 0.009124755859375, 0.004364013671875, -0.001678466796875, 0.001800537109375, 0.01025390625, 0.0101318359375, 0.001373291015625, -0.001708984375, 0.006011962890625, 0.01104736328125, 0.0029296875, -0.008209228515625, -0.007171630859375, 0.00213623046875, 0.003570556640625, -0.0054931640625, -0.01123046875, -0.006378173828125, -0.000823974609375, -0.003570556640625, -0.0084228515625, -0.006378173828125, -0.001068115234375, -0.001617431640625, -0.005950927734375, -0.005523681640625, -0.00048828125, 0.000640869140625, -0.003143310546875, -0.003814697265625, 0.00091552734375, 0.00286865234375, -0.00152587890625, -0.004058837890625, 0.001373291015625, 0.007110595703125, 0.00433349609375, -0.001739501953125, -0.000762939453125, 0.0047607421875, 0.0040283203125, -0.00238037109375, -0.0025634765625, 0.0057373046875, 0.00970458984375, 0.002593994140625, -0.00445556640625, -0.000457763671875, 0.00714111328125, 0.004852294921875, -0.003997802734375, -0.00518798828125, 0.00244140625, 0.0052490234375, -0.001800537109375, -0.007049560546875, -0.002349853515625, 0.003143310546875, -0.000732421875, -0.007171630859375, -0.00421142578125, 0.00445556640625, 0.0052490234375, -0.0020751953125, -0.003875732421875, 0.004180908203125, 0.00946044921875, 0.003387451171875, -0.00384521484375, 0.000152587890625, 0.00927734375, 0.008392333984375, -0.002349853515625, -0.007904052734375, -0.001739501953125, 0.004669189453125, 0.000640869140625, -0.007781982421875, -0.008880615234375, -0.00323486328125, -0.00115966796875, -0.0054931640625, -0.008056640625, -0.0035400390625, 0.002685546875, 0.003509521484375, 0.000946044921875, 0.001312255859375, 0.004730224609375, 0.0057373046875, 0.00299072265625, 0.00103759765625, 0.002685546875, 0.004150390625, 0.001739501953125, -0.001434326171875, -0.000579833984375, 0.002685546875, 0.002532958984375, -0.00146484375, -0.003265380859375, -0.000152587890625, 0.002349853515625, -0.000823974609375, -0.005615234375, -0.004791259765625, 0.000152587890625, 0.001068115234375, -0.003662109375, -0.006256103515625, -0.00225830078125, 0.002227783203125, 0.000244140625, -0.00439453125, -0.003662109375, 0.00164794921875, 0.00323486328125, -0.000701904296875, -0.0028076171875, 0.0010986328125, 0.00555419921875, 0.004791259765625, 0.001861572265625, 0.00213623046875, 0.004058837890625, 0.00335693359375, 0.0018310546875, 0.003753662109375, 0.00640869140625, 0.003387451171875, -0.00323486328125, -0.00390625, 0.003173828125, 0.00762939453125, 0.00262451171875, -0.004058837890625, -0.0023193359375, 0.00341796875, 0.001495361328125, -0.0074462890625, -0.0108642578125, -0.004119873046875, 0.00189208984375, -0.001983642578125, -0.008819580078125, -0.00732421875, 0.000335693359375, 0.002593994140625, -0.002532958984375, -0.00439453125, 0.00250244140625, 0.009765625, 0.008026123046875, 0.00164794921875, 0.001220703125, 0.00701904296875, 0.008819580078125, 0.0025634765625, -0.003387451171875, -0.0008544921875, 0.00543212890625, 0.005157470703125, -0.002471923828125, -0.008026123046875, -0.005706787109375, -0.001129150390625, -0.00213623046875, -0.006927490234375, -0.0076904296875, -0.00299072265625, 0.00048828125, -0.001678466796875, -0.005126953125, -0.00384521484375, 0.00067138671875, 0.002532958984375, 0.000701904296875, -0.000396728515625, 0.001495361328125, 0.0032958984375, 0.0025634765625, 0.0013427734375, 0.001983642578125, 0.002777099609375, 0.00152587890625, -3.0517578125e-05, 0.0006103515625, 0.00201416015625, 0.001190185546875, -0.0008544921875, -0.00048828125, 0.001190185546875, -0.000640869140625, -0.006256103515625, -0.009063720703125, -0.00555419921875, -0.0013427734375, -0.003204345703125, -0.008087158203125, -0.007537841796875, -0.001007080078125, 0.0023193359375, -0.001953125, -0.006011962890625, -0.001251220703125, 0.007965087890625, 0.009918212890625, 0.003082275390625, -0.001434326171875, 0.00384521484375, 0.011627197265625, 0.011077880859375, 0.003936767578125, 0.001007080078125, 0.005218505859375, 0.007476806640625, 0.00152587890625, -0.005859375, -0.005889892578125, -0.001434326171875, -0.001312255859375, -0.005889892578125, -0.007476806640625, -0.00390625, -0.001708984375, -0.00384521484375, -0.004150390625, 0.000732421875, 0.003997802734375, -9.1552734375e-05, -0.00482177734375, -0.00128173828125, 0.005859375, 0.005096435546875, -0.00286865234375, -0.005767822265625, 0.0, 0.003509521484375, -0.001922607421875, -0.006805419921875, -0.00164794921875, 0.00653076171875, 0.005615234375, -0.001220703125, -0.00115966796875, 0.006500244140625, 0.009307861328125, 0.002593994140625, -0.0029296875, 0.000579833984375, 0.005584716796875, 0.0023193359375, -0.005584716796875, -0.007781982421875, -0.003875732421875, -0.00177001953125, -0.004547119140625, -0.007293701171875, -0.00665283203125, -0.004974365234375, -0.00457763671875, -0.0042724609375, -0.002655029296875, -0.000213623046875, 0.00274658203125, 0.00592041015625, 0.007781982421875, 0.007110595703125, 0.0057373046875, 0.005889892578125, 0.006011962890625, 0.003875732421875, 0.001434326171875, 0.0015869140625, 0.0018310546875, -0.001953125, -0.00653076171875, -0.005279541015625, -0.0003662109375, -0.000701904296875, -0.006561279296875, -0.007476806640625, -3.0517578125e-05, 0.004913330078125, -0.000152587890625, -0.005889892578125, -0.0013427734375, 0.007415771484375, 0.00750732421875, 0.00091552734375, 0.00030517578125, 0.00628662109375, 0.0069580078125, -0.000457763671875, -0.0048828125, -0.00152587890625, 0.0003662109375, -0.0042724609375, -0.0059814453125, 0.001312255859375, 0.007293701171875, 0.002532958984375, -0.003997802734375, 6.103515625e-05, 0.008148193359375, 0.006072998046875, -0.002655029296875, -0.00225830078125, 0.0072021484375, 0.009063720703125, -0.00103759765625, -0.0072021484375, -0.00048828125, 0.0054931640625, -0.001800537109375, -0.0120849609375, -0.0093994140625, 0.001190185546875, 0.002532958984375, -0.00634765625, -0.009979248046875, -0.00225830078125, 0.005218505859375, 0.003021240234375, -0.00286865234375, -0.00244140625, 0.00341796875, 0.0074462890625, 0.0068359375, 0.004302978515625, 0.003387451171875, 0.00543212890625, 0.00909423828125, 0.009979248046875, 0.005462646484375, -0.000518798828125, -0.001800537109375, 0.000152587890625, -0.00164794921875, -0.00750732421875, -0.010101318359375, -0.007080078125, -0.004852294921875, -0.006866455078125, -0.007659912109375, -0.004241943359375, -0.0028076171875, -0.006591796875, -0.0081787109375, -0.002655029296875, 0.00152587890625, -0.002899169921875, -0.00701904296875, 9.1552734375e-05, 0.01025390625, 0.007568359375, -0.00372314453125, -0.004425048828125, 0.007110595703125, 0.01104736328125, 3.0517578125e-05, -0.00732421875, 0.00201416015625, 0.01287841796875, 0.007415771484375, -0.004364013671875, -0.00262451171875, 0.007659912109375, 0.005828857421875, -0.007965087890625, -0.013153076171875, -0.004486083984375, 0.00048828125, -0.006805419921875, -0.011444091796875, -0.003143310546875, 0.005157470703125, 0.001007080078125, -0.005096435546875, 0.0008544921875, 0.01031494140625, 0.007110595703125, -0.003143310546875, -0.00274658203125, 0.0072021484375, 0.008697509765625, -0.000762939453125, -0.004180908203125, 0.004547119140625, 0.009552001953125, 0.000885009765625, -0.008026123046875, -0.004058837890625, 0.003173828125, -0.00067138671875, -0.009307861328125, -0.007720947265625, 0.001129150390625, 0.002166748046875, -0.004852294921875, -0.005615234375, 0.002960205078125, 0.00701904296875, 0.000396728515625, -0.00482177734375, 0.00042724609375, 0.006744384765625, 0.00335693359375, -0.003570556640625, -0.00262451171875, 0.00323486328125, 0.00323486328125, -0.0023193359375, -0.003448486328125, 0.0013427734375, 0.003631591796875, 0.00067138671875, -0.000579833984375, 0.002899169921875, 0.0047607421875, 0.001922607421875, 0.0001220703125, 0.002960205078125, 0.00469970703125, 0.00103759765625, -0.002105712890625, 0.000732421875, 0.003265380859375, -0.00244140625, -0.01123046875, -0.01171875, -0.004913330078125, -0.00299072265625, -0.009796142578125, -0.014495849609375, -0.009368896484375, -0.001678466796875, -0.001495361328125, -0.005584716796875, -0.0037841796875, 0.004608154296875, 0.010284423828125, 0.008392333984375, 0.00482177734375, 0.005950927734375, 0.010040283203125, 0.0113525390625, 0.008880615234375, 0.006134033203125, 0.005401611328125, 0.00518798828125, 0.003021240234375, -0.00115966796875, -0.0050048828125, -0.006683349609375, -0.006683349609375, -0.0072021484375, -0.0086669921875, -0.0087890625, -0.00628662109375, -0.003265380859375, -0.002410888671875, -0.0025634765625, -0.000762939453125, 0.002288818359375, 0.0032958984375, 0.00225830078125, 0.0028076171875, 0.005126953125, 0.005279541015625, 0.0023193359375, 0.00091552734375, 0.003204345703125, 0.0040283203125, -0.0003662109375, -0.0042724609375, -0.0010986328125, 0.0047607421875, 0.003875732421875, -0.002227783203125, -0.002685546875, 0.00408935546875, 0.006378173828125, -0.00177001953125, -0.008941650390625, -0.004180908203125, 0.0045166015625, 0.00213623046875, -0.00921630859375, -0.0133056640625, -0.006011962890625, -0.001007080078125, -0.006927490234375, -0.01300048828125, -0.007415771484375, 0.003082275390625, 0.00469970703125, -0.001220703125, -0.00164794921875, 0.006317138671875, 0.011688232421875, 0.008514404296875, 0.00445556640625, 0.00616455078125, 0.008758544921875, 0.005859375, 0.0010986328125, 0.0008544921875, 0.002593994140625, 0.000244140625, -0.00421142578125, -0.00469970703125, -0.002716064453125, -0.004852294921875, -0.009613037109375, -0.00885009765625, -0.0025634765625, -0.000396728515625, -0.004974365234375, -0.006103515625, 0.002105712890625, 0.009185791015625, 0.003997802734375, -0.00592041015625, -0.00537109375, 0.004180908203125, 0.00616455078125, -0.00390625, -0.010894775390625, -0.004425048828125, 0.004119873046875, 3.0517578125e-05, -0.0103759765625, -0.009429931640625, 0.003753662109375, 0.011688232421875, 0.005889892578125, -0.001190185546875, 0.003173828125, 0.01220703125, 0.0113525390625, 0.001312255859375, -0.00396728515625, 0.000946044921875, 0.005767822265625, 0.001373291015625, -0.007171630859375, -0.0098876953125, -0.006622314453125, -0.00482177734375, -0.007537841796875, -0.009552001953125, -0.006805419921875, -0.002166748046875, -0.000274658203125, -0.00103759765625, -0.000579833984375, 0.002899169921875, 0.007293701171875, 0.009918212890625, 0.010406494140625, 0.010345458984375, 0.010772705078125, 0.01080322265625, 0.00897216796875, 0.005126953125, 0.001373291015625, -0.000640869140625, -0.001739501953125, -0.0040283203125, -0.0072021484375, -0.0084228515625, -0.006500244140625, -0.004180908203125, -0.004791259765625, -0.007049560546875, -0.0067138671875, -0.003082275390625, -0.000152587890625, -0.0003662109375, -0.00079345703125, 0.0018310546875, 0.005096435546875, 0.004669189453125, 0.001800537109375, 0.001953125, 0.0054931640625, 0.006134033203125, 0.0008544921875, -0.004547119140625, -0.0040283203125, -0.0009765625, -0.00244140625, -0.0068359375, -0.0057373046875, 0.00201416015625, 0.0069580078125, 0.00335693359375, -0.00164794921875, 0.00091552734375, 0.0074462890625, 0.007293701171875, -0.00067138671875, -0.00640869140625, -0.003753662109375, 0.001007080078125, -0.000274658203125, -0.0057373046875, -0.007720947265625, -0.00469970703125, -0.002227783203125, -0.003448486328125, -0.005035400390625, -0.00299072265625, 0.001129150390625, 0.003570556640625, 0.00347900390625, 0.00299072265625, 0.003814697265625, 0.0048828125, 0.004852294921875, 0.003692626953125, 0.002593994140625, 0.00189208984375, 0.0008544921875, -0.000701904296875, -0.0018310546875, -0.00146484375, -0.00067138671875, -0.001678466796875, -0.0037841796875, -0.003692626953125, -0.000152587890625, 0.003173828125, 0.003021240234375, 0.001312255859375, 0.00201416015625, 0.00408935546875, 0.002593994140625, -0.002960205078125, -0.006591796875, -0.004669189453125, -0.001617431640625, -0.003082275390625, -0.00732421875, -0.008270263671875, -0.005035400390625, -0.0023193359375, -0.002655029296875, -0.00250244140625, 0.001495361328125, 0.00714111328125, 0.010223388671875, 0.0096435546875, 0.007720947265625, 0.006622314453125, 0.0067138671875, 0.007293701171875, 0.00653076171875, 0.003021240234375, -0.0015869140625, -0.00360107421875, -0.002685546875, -0.0029296875, -0.006622314453125, -0.009552001953125, -0.00714111328125, -0.002166748046875, -0.001434326171875, -0.005218505859375, -0.00634765625, -0.00115966796875, 0.004791259765625, 0.005706787109375, 0.00408935546875, 0.00555419921875, 0.00946044921875, 0.01019287109375, 0.006378173828125, 0.00286865234375, 0.002655029296875, 0.00244140625, -0.001495361328125, -0.00714111328125, -0.009796142578125, -0.00860595703125, -0.006744384765625, -0.006378173828125, -0.0064697265625, -0.00531005859375, -0.00262451171875, 0.000152587890625, 0.001495361328125, 0.0013427734375, 0.001495361328125, 0.003448486328125, 0.005859375, 0.005828857421875, 0.00323486328125, 0.0013427734375, 0.00152587890625, 0.001007080078125, -0.00238037109375, -0.005706787109375, -0.005126953125, -0.002716064453125, -0.003173828125, -0.005950927734375, -0.00604248046875, -0.002410888671875, 0.000335693359375, 0.000152587890625, 0.000823974609375, 0.005126953125, 0.008819580078125, 0.007904052734375, 0.005218505859375, 0.005859375, 0.008270263671875, 0.007293701171875, 0.003204345703125, 0.00103759765625, 0.00164794921875, 0.00079345703125, -0.002685546875, -0.00494384765625, -0.00433349609375, -0.0042724609375, -0.006103515625, -0.0064697265625, -0.00384521484375, -0.001708984375, -0.001983642578125, -0.00091552734375, 0.00335693359375, 0.005706787109375, 0.00244140625, -0.001129150390625, 0.000823974609375, 0.00408935546875, 0.001068115234375, -0.004852294921875, -0.0042724609375, 0.001922607421875, 0.00335693359375, -0.00213623046875, -0.004608154296875, 0.000762939453125, 0.004974365234375, 0.000946044921875, -0.00390625, -0.000946044921875, 0.004608154296875, 0.003021240234375, -0.002716064453125, -0.00250244140625, 0.002685546875, 0.003021240234375, -0.00225830078125, -0.00347900390625, 0.001556396484375, 0.003692626953125, -0.001190185546875, -0.0048828125, -0.00152587890625, 0.001983642578125, -0.000823974609375, -0.004669189453125, -0.00299072265625, -3.0517578125e-05, -0.0018310546875, -0.003997802734375, -0.00030517578125, 0.003692626953125, -0.000274658203125, -0.006866455078125, -0.00469970703125, 0.003143310546875, 0.00323486328125, -0.00439453125, -0.00518798828125, 0.004852294921875, 0.010528564453125, 0.003021240234375, -0.004791259765625, 9.1552734375e-05, 0.00909423828125, 0.007110595703125, -0.00164794921875, -0.0018310546875, 0.006134033203125, 0.00732421875, -0.00146484375, -0.007049560546875, -0.002899169921875, 0.000732421875, -0.003936767578125, -0.008819580078125, -0.00531005859375, 0.0008544921875, 0.00042724609375, -0.00335693359375, -0.002044677734375, 0.002899169921875, 0.003265380859375, -0.0008544921875, -0.00225830078125, 0.000335693359375, 0.001373291015625, -0.0003662109375, -0.000244140625, 0.00299072265625, 0.0050048828125, 0.004180908203125, 0.00384521484375, 0.004608154296875, 0.00286865234375, -0.00128173828125, -0.003204345703125, -0.002166748046875, -0.00299072265625, -0.006622314453125, -0.007232666015625, -0.002685546875, 0.0006103515625, -0.001678466796875, -0.004180908203125, -0.001251220703125, 0.0032958984375, 0.002777099609375, -0.000518798828125, 0.0, 0.003509521484375, 0.004180908203125, 0.00238037109375, 0.00341796875, 0.00689697265625, 0.006744384765625, 0.00274658203125, 0.001220703125, 0.003387451171875, 0.002777099609375, -0.002197265625, -0.00457763671875, -0.001007080078125, 0.0015869140625, -0.001861572265625, -0.005035400390625, -0.001190185546875, 0.003631591796875, 0.00042724609375, -0.007080078125, -0.007537841796875, -0.000732421875, 0.002227783203125, -0.0029296875, -0.0069580078125, -0.0030517578125, 0.00250244140625, 0.0015869140625, -0.0025634765625, -0.002349853515625, 0.001190185546875, 0.00115966796875, -0.003173828125, -0.005615234375, -0.003875732421875, -0.001800537109375, -0.0013427734375, 0.000213623046875, 0.00384521484375, 0.005859375, 0.00439453125, 0.003265380859375, 0.005035400390625, 0.006439208984375, 0.0040283203125, 0.0006103515625, 0.000946044921875, 0.00347900390625, 0.002777099609375, -0.001434326171875, -0.003875732421875, -0.002288818359375, -0.0009765625, -0.003204345703125, -0.006195068359375, -0.006134033203125, -0.004486083984375, -0.0042724609375, -0.004425048828125, -0.002227783203125, 0.0010986328125, 0.00225830078125, 0.001678466796875, 0.002532958984375, 0.00408935546875, 0.0029296875, 0.00042724609375, 0.001495361328125, 0.0054931640625, 0.005340576171875, 3.0517578125e-05, -0.001983642578125, 0.003631591796875, 0.00823974609375, 0.00390625, -0.00250244140625, -0.00018310546875, 0.00616455078125, 0.003265380859375, -0.007476806640625, -0.010223388671875, -0.001312255859375, 0.003814697265625, -0.00360107421875, -0.009918212890625, -0.002227783203125, 0.00860595703125, 0.0054931640625, -0.005645751953125, -0.006011962890625, 0.00396728515625, 0.0057373046875, -0.004364013671875, -0.00836181640625, 0.002288818359375, 0.01165771484375, 0.00677490234375, -0.000762939453125, 0.00360107421875, 0.01123046875, 0.005584716796875, -0.008087158203125, -0.011077880859375, -0.00262451171875, 0.0001220703125, -0.007965087890625, -0.012603759765625, -0.00592041015625, 0.000946044921875, -0.00152587890625, -0.005615234375, -0.00177001953125, 0.0050048828125, 0.00555419921875, 0.0025634765625, 0.003387451171875, 0.005889892578125, 0.004302978515625, 0.00140380859375, 0.003082275390625, 0.00604248046875, 0.0030517578125, -0.002960205078125, -0.0032958984375, 0.001251220703125, 0.001708984375, -0.0028076171875, -0.003936767578125, 0.000457763671875, 0.002716064453125, -0.000396728515625, -0.00213623046875, 0.000946044921875, 0.003265380859375, 0.0010986328125, -0.000579833984375, 0.00164794921875, 0.00274658203125, -0.00042724609375, -0.00238037109375, 0.00054931640625, 0.002197265625, -0.0025634765625, -0.007049560546875, -0.004180908203125, -0.0001220703125, -0.00341796875, -0.008331298828125, -0.003753662109375, 0.006439208984375, 0.0081787109375, 0.0010986328125, -0.0008544921875, 0.006317138671875, 0.009613037109375, 0.0020751953125, -0.0047607421875, -0.0009765625, 0.00482177734375, 0.00146484375, -0.004669189453125, -0.0013427734375, 0.007110595703125, 0.006500244140625, -0.00250244140625, -0.00543212890625, 0.00128173828125, 0.004669189453125, -0.001953125, -0.00799560546875, -0.004150390625, 0.00238037109375, 0.0009765625, -0.0045166015625, -0.00347900390625, 0.003204345703125, 0.00537109375, 0.000640869140625, -0.00311279296875, -0.001220703125, 0.0015869140625, 0.00030517578125, -0.00238037109375, -0.0020751953125, 0.000640869140625, 0.002716064453125, 0.00335693359375, 0.003631591796875, 0.003662109375, 0.003173828125, 0.002227783203125, 0.00067138671875, -0.001922607421875, -0.00408935546875, -0.003936767578125, -0.00250244140625, -0.002777099609375, -0.004486083984375, -0.004058837890625, -0.000823974609375, 0.000946044921875, -0.000885009765625, -0.002227783203125, 0.00054931640625, 0.0040283203125, 0.002716064453125, -0.001220703125, -0.00115966796875, 0.003143310546875, 0.004852294921875, 0.00140380859375, -0.00152587890625, 0.000762939453125, 0.003692626953125, 0.00128173828125, -0.0040283203125, -0.0048828125, -0.00103759765625, 0.000823974609375, -0.002227783203125, -0.004852294921875, -0.0028076171875, 6.103515625e-05, -0.00128173828125, -0.00433349609375, -0.00311279296875, 0.001922607421875, 0.004425048828125, 0.00238037109375, 0.0008544921875, 0.003173828125, 0.005401611328125, 0.003326416015625, -0.00042724609375, -0.000823974609375, 0.000946044921875, 0.0001220703125, -0.002899169921875, -0.003143310546875, 0.00048828125, 0.002899169921875, 0.0013427734375, -0.000396728515625, 0.00140380859375, 0.003692626953125, 0.002227783203125, -0.000946044921875, -0.00103759765625, 0.00146484375, 0.001708984375, -0.0009765625, -0.00225830078125, -0.000244140625, 0.001617431640625, 0.00079345703125, -0.000457763671875, 0.00030517578125, 0.001312255859375, 0.00030517578125, -0.001068115234375, -0.00079345703125, -6.103515625e-05, -0.0009765625, -0.002105712890625, -0.00140380859375, -0.000274658203125, -0.00103759765625, -0.002105712890625, -0.0006103515625, 0.00189208984375, 0.001556396484375, -0.00067138671875, -0.000335693359375, 0.002593994140625, 0.00311279296875, -6.103515625e-05, -0.00189208984375, 0.00030517578125, 0.002044677734375, -0.000274658203125, -0.00262451171875, -0.000396728515625, 0.0028076171875, 0.0010986328125, -0.003326416015625, -0.00372314453125, -0.000335693359375, -9.1552734375e-05, -0.004058837890625, -0.005645751953125, -0.00189208984375, 0.001220703125, -0.00054931640625, -0.002288818359375, 0.00091552734375, 0.005035400390625, 0.00390625, 0.0001220703125, 0.000335693359375, 0.0032958984375, 0.002349853515625, -0.002532958984375, -0.00439453125, -0.001251220703125, 0.000457763671875, -0.00262451171875, -0.005035400390625, -0.00225830078125, 0.00128173828125, 6.103515625e-05, -0.002716064453125, -0.000946044921875, 0.003509521484375, 0.00408935546875, 0.000518798828125, -0.000823974609375, 0.001708984375, 0.00286865234375, 3.0517578125e-05, -0.00201416015625, 0.000701904296875, 0.00445556640625, 0.00421142578125, 0.001678466796875, 0.001556396484375, 0.003509521484375, 0.00311279296875, -0.00018310546875, -0.002349853515625, -0.0015869140625, -0.00054931640625, -0.00146484375, -0.002593994140625, -0.001739501953125, 0.000274658203125, 0.0008544921875, -0.000457763671875, -0.002227783203125, -0.003204345703125, -0.003387451171875, -0.003448486328125, -0.0037841796875, -0.004180908203125, -0.003326416015625, -0.00042724609375, 0.002777099609375, 0.00360107421875, 0.002105712890625, 0.001312255859375, 0.0028076171875, 0.003936767578125, 0.001922607421875, -0.0013427734375, -0.002288818359375, -0.00103759765625, -0.00115966796875, -0.00299072265625, -0.003082275390625, 6.103515625e-05, 0.00262451171875, 0.001495361328125, -0.000762939453125, 0.000213623046875, 0.0029296875, 0.002349853515625, -0.00152587890625, -0.003204345703125, -0.000640869140625, 0.00103759765625, -0.0018310546875, -0.0047607421875, -0.00201416015625, 0.00335693359375, 0.003875732421875, -6.103515625e-05, -0.0009765625, 0.003265380859375, 0.004852294921875, -0.001129150390625, -0.00775146484375, -0.006317138671875, -0.00030517578125, 0.0006103515625, -0.00360107421875, -0.0035400390625, 0.0032958984375, 0.007720947265625, 0.003662109375, -0.001922607421875, -0.000701904296875, 0.0032958984375, 0.0008544921875, -0.0064697265625, -0.008758544921875, -0.00372314453125, -3.0517578125e-05, -0.002899169921875, -0.006103515625, -0.002960205078125, 0.00274658203125, 0.00372314453125, 0.00042724609375, -0.000823974609375, 0.001434326171875, 0.0029296875, 0.001373291015625, -0.000701904296875, -0.0009765625, -0.000274658203125, 0.000152587890625, 0.0006103515625, 0.00079345703125, 0.0001220703125, -0.00030517578125, 0.001068115234375, 0.002349853515625, 0.00079345703125, -0.002410888671875, -0.0028076171875, -0.000152587890625, 0.00054931640625, -0.002410888671875, -0.004119873046875, -0.0009765625, 0.002899169921875, 0.001983642578125, -0.001617431640625, -0.00201416015625, 0.000457763671875, 0.00048828125, -0.0029296875, -0.0042724609375, -0.00115966796875, 0.002044677734375, 0.00128173828125, -0.000579833984375, 0.00042724609375, 0.0030517578125, 0.003143310546875, 0.0008544921875, -0.000396728515625, 0.000518798828125, 0.001068115234375, -0.0001220703125, -0.00164794921875, -0.001800537109375, -0.000885009765625, 0.0, 0.000274658203125, -0.000396728515625, -0.001617431640625, -0.0020751953125, -0.0010986328125, -0.000152587890625, -0.00042724609375, -0.0009765625, -0.000152587890625, 0.0009765625, 0.0001220703125, -0.00201416015625, -0.0025634765625, -0.001190185546875, -0.000457763671875, -0.001434326171875, -0.001800537109375, -0.000396728515625, 0.00048828125, -0.000335693359375, -0.000518798828125, 0.001708984375, 0.00384521484375, 0.002716064453125, 0.000274658203125, 0.000274658203125, 0.001800537109375, 0.0010986328125, -0.001800537109375, -0.00262451171875, -0.000396728515625, 0.000762939453125, -0.001129150390625, -0.00244140625, -9.1552734375e-05, 0.002685546875, 0.00164794921875, -0.001190185546875, -0.00079345703125, 0.002471923828125, 0.003173828125, -0.000244140625, -0.002655029296875, -0.000274658203125, 0.003204345703125, 0.00244140625, -0.0013427734375, -0.0023193359375, 0.000518798828125, 0.001861572265625, -0.001617431640625, -0.005462646484375, -0.003265380859375, 0.0032958984375, 0.006500244140625, 0.0032958984375, -0.000213623046875, 0.0023193359375, 0.007659912109375, 0.00762939453125, 0.001312255859375, -0.003265380859375, -0.001434326171875, 0.001129150390625, -0.002685546875, -0.009613037109375, -0.01055908203125, -0.004364013671875, 0.0006103515625, -0.0006103515625, -0.002593994140625, 0.001007080078125, 0.00689697265625, 0.007293701171875, 0.002410888671875, 6.103515625e-05, 0.0035400390625, 0.006622314453125, 0.003631591796875, -0.00177001953125, -0.002593994140625, 0.0009765625, 0.00189208984375, -0.00250244140625, -0.0062255859375, -0.00341796875, 0.002532958984375, 0.00347900390625, -0.00189208984375, -0.005828857421875, -0.003143310546875, 0.001220703125, -0.00030517578125, -0.005706787109375, -0.00579833984375, 0.001373291015625, 0.006500244140625, 0.002899169921875, -0.00286865234375, -0.000823974609375, 0.00677490234375, 0.0087890625, 0.002655029296875, -0.002166748046875, 0.000396728515625, 0.00372314453125, 0.000823974609375, -0.00390625, -0.0023193359375, 0.003143310546875, 0.003875732421875, -0.00048828125, -0.00152587890625, 0.002899169921875, 0.004974365234375, 0.000457763671875, -0.00347900390625, -0.001251220703125, 0.00152587890625, -0.0023193359375, -0.008453369140625, -0.007476806640625, -0.001190185546875, 0.000244140625, -0.00494384765625, -0.00726318359375, -0.002044677734375, 0.00286865234375, 0.000701904296875, -0.003265380859375, -0.00115966796875, 0.004241943359375, 0.004791259765625, 0.00091552734375, -0.00030517578125, 0.002044677734375, 0.001739501953125, -0.002899169921875, -0.005340576171875, -0.002593994140625, -0.00048828125, -0.0030517578125, -0.0052490234375, -0.0020751953125, 0.002105712890625, 0.000762939453125, -0.00311279296875, -0.00177001953125, 0.0035400390625, 0.00445556640625, 0.0001220703125, -0.001373291015625, 0.00274658203125, 0.00421142578125, -0.0020751953125, -0.00860595703125, -0.00738525390625, -0.00286865234375, -0.00390625, -0.007720947265625, -0.004852294921875, 0.003662109375, 0.007080078125, 0.002777099609375, 0.0009765625, 0.007080078125, 0.01220703125, 0.008026123046875, 0.000946044921875, 0.001373291015625, 0.00604248046875, 0.004119873046875, -0.004119873046875, -0.0074462890625, -0.002716064453125, 0.0003662109375, -0.003936767578125, -0.0079345703125, -0.004486083984375, 0.001312255859375, 0.00164794921875, -0.00048828125, 0.002105712890625, 0.006866455078125, 0.0054931640625, -0.00152587890625, -0.005157470703125, -0.0025634765625, -0.000823974609375, -0.00360107421875, -0.005035400390625, -0.0003662109375, 0.005096435546875, 0.00506591796875, 0.0020751953125, 0.002044677734375, 0.004119873046875, 0.003082275390625, -0.001007080078125, -0.003265380859375, -0.002471923828125, -0.00201416015625, -0.00311279296875, -0.0035400390625, -0.002838134765625, -0.0029296875, -0.003173828125, -0.000885009765625, 0.002655029296875, 0.003204345703125, 0.0009765625, 0.000732421875, 0.003143310546875, 0.002960205078125, -0.00146484375, -0.003814697265625, -0.000152587890625, 0.003662109375, 0.00146484375, -0.002593994140625, -0.0010986328125, 0.003692626953125, 0.003814697265625, -0.000396728515625, -0.000823974609375, 0.003936767578125, 0.00579833984375, 0.0010986328125, -0.003082275390625, -0.00067138671875, 0.00323486328125, 0.001708984375, -0.002349853515625, -0.001953125, 0.00177001953125, 0.002227783203125, -0.000946044921875, -0.002288818359375, -0.00030517578125, 0.00054931640625, -0.0013427734375, -0.002471923828125, -0.00140380859375, -0.001251220703125, -0.0029296875, -0.0030517578125, -0.0003662109375, 0.001556396484375, 0.000885009765625, 0.001190185546875, 0.003875732421875, 0.0048828125, 0.001953125, -0.000457763671875, 0.001190185546875, 0.002899169921875, 0.00030517578125, -0.002593994140625, -0.00018310546875, 0.00439453125, 0.00445556640625, 0.001678466796875, 0.002532958984375, 0.00567626953125, 0.003143310546875, -0.0045166015625, -0.00738525390625, -0.00274658203125, -6.103515625e-05, -0.00457763671875, -0.007659912109375, -0.002197265625, 0.0040283203125, 0.0013427734375, -0.004608154296875, -0.00238037109375, 0.005035400390625, 0.0050048828125, -0.002960205078125, -0.005859375, 0.000396728515625, 0.00439453125, -0.0006103515625, -0.005279541015625, -0.000732421875, 0.00592041015625, 0.004150390625, -0.0018310546875, -0.001373291015625, 0.004608154296875, 0.006011962890625, 0.00164794921875, -0.0001220703125, 0.0029296875, 0.003753662109375, -0.000152587890625, -0.00225830078125, 0.000579833984375, 0.002288818359375, -0.00067138671875, -0.00299072265625, -0.000701904296875, 0.00103759765625, -0.0020751953125, -0.004608154296875, -0.001129150390625, 0.00311279296875, 0.00067138671875, -0.00457763671875, -0.004058837890625, 0.00079345703125, 0.00091552734375, -0.00372314453125, -0.00439453125, 0.00103759765625, 0.00408935546875, 0.000640869140625, -0.0023193359375, 0.000335693359375, 0.0029296875, -0.0003662109375, -0.0048828125, -0.004241943359375, -0.00140380859375, -0.002532958984375, -0.00506591796875, -0.002532958984375, 0.003143310546875, 0.004486083984375, 0.00140380859375, 0.0009765625, 0.004302978515625, 0.004913330078125, 0.00079345703125, -0.001861572265625, -6.103515625e-05, 0.000946044921875, -0.00225830078125, -0.004486083984375, -0.001220703125, 0.002777099609375, 0.001953125, -0.000762939453125, 0.000457763671875, 0.003448486328125, 0.002593994140625, -0.00067138671875, -0.000518798828125, 0.002685546875, 0.00347900390625, 0.00146484375, 0.001861572265625, 0.00506591796875, 0.005950927734375, 0.0030517578125, 0.000946044921875, 0.00079345703125, -0.001708984375, -0.0067138671875, -0.007965087890625, -0.003814697265625, -0.001617431640625, -0.005126953125, -0.007171630859375, -0.002044677734375, 0.00299072265625, 0.000152587890625, -0.004302978515625, 0.000579833984375, 0.01019287109375, 0.01055908203125, 0.0015869140625, -0.002166748046875, 0.004241943359375, 0.0076904296875, -0.000244140625, -0.00811767578125, -0.004058837890625, 0.0040283203125, 0.00201416015625, -0.00640869140625, -0.006072998046875, 0.003509521484375, 0.007354736328125, 0.0003662109375, -0.004638671875, 0.000579833984375, 0.006195068359375, 0.001953125, -0.005279541015625, -0.003570556640625, 0.0032958984375, 0.00262451171875, -0.005615234375, -0.009002685546875, -0.00311279296875, 0.0018310546875, -0.00115966796875, -0.00537109375, -0.00286865234375, 0.002197265625, 0.001556396484375, -0.003387451171875, -0.004302978515625, 0.000274658203125, 0.003387451171875, 0.00146484375, -0.001007080078125, 9.1552734375e-05, 0.0025634765625, 0.002532958984375, 0.00054931640625, -0.000335693359375, 0.00018310546875, 0.00018310546875, -0.000640869140625, -0.001190185546875, -0.0013427734375, -0.00177001953125, -0.001922607421875, -0.0009765625, 6.103515625e-05, -0.000457763671875, -0.001739501953125, -0.001556396484375, 3.0517578125e-05, 0.00067138671875, -0.00030517578125, -0.000518798828125, 0.00103759765625, 0.002044677734375, 0.000701904296875, -0.000885009765625, 0.0, 0.00189208984375, 0.001678466796875, 9.1552734375e-05, 0.00030517578125, 0.002044677734375, 0.001617431640625, -0.00128173828125, -0.002166748046875, 0.000885009765625, 0.003509521484375, 0.00201416015625, -0.00042724609375, 0.00079345703125, 0.003326416015625, 0.001708984375, -0.00286865234375, -0.003814697265625, 9.1552734375e-05, 0.002471923828125, -0.000396728515625, -0.003662109375, -0.0025634765625, -6.103515625e-05, -0.001129150390625, -0.003662109375, -0.00250244140625, 0.00152587890625, 0.003082275390625, 0.001678466796875, 0.001708984375, 0.004150390625, 0.004852294921875, 0.002349853515625, 0.000457763671875, 0.0009765625, 0.000457763671875, -0.00286865234375, -0.00457763671875, -0.001861572265625, 0.001190185546875, 6.103515625e-05, -0.002349853515625, -0.001220703125, 0.00140380859375, 0.000244140625, -0.003326416015625, -0.003387451171875, 0.00018310546875, 0.001220703125, -0.001739501953125, -0.00262451171875, 0.0009765625, 0.0032958984375, 0.00054931640625, -0.00225830078125, 0.0, 0.00299072265625, 0.000396728515625, -0.004547119140625, -0.004180908203125, 0.0006103515625, 0.001800537109375, -0.001922607421875, -0.002899169921875, 0.00189208984375, 0.005279541015625, 0.002105712890625, -0.001953125, -9.1552734375e-05, 0.003814697265625, 0.0018310546875, -0.004302978515625, -0.00543212890625, -0.000152587890625, 0.002899169921875, -0.000701904296875, -0.004364013671875, -0.001678466796875, 0.002899169921875, 0.00164794921875, -0.003570556640625, -0.004852294921875, -0.000885009765625, 0.001312255859375, -0.00164794921875, -0.004058837890625, -0.00048828125, 0.005523681640625, 0.006866455078125, 0.003326416015625, 0.00115966796875, 0.00311279296875, 0.005035400390625, 0.003082275390625, -0.00042724609375, -0.00128173828125, 0.000335693359375, 0.00091552734375, -0.000244140625, -0.00067138671875, 0.001007080078125, 0.002532958984375, 0.001953125, 0.0003662109375, -0.00030517578125, -9.1552734375e-05, -0.00042724609375, -0.00115966796875, -0.001190185546875, -0.000518798828125, -0.00030517578125, -0.00048828125, 0.000152587890625, 0.001556396484375, 0.001953125, 0.000640869140625, -0.00054931640625, -0.0003662109375, 6.103515625e-05, -0.000885009765625, -0.002227783203125, -0.00189208984375, -0.000244140625, 0.000274658203125, -0.000732421875, -0.001068115234375, 0.000335693359375, 0.0013427734375, 0.000213623046875, -0.001373291015625, -0.00103759765625, 0.0003662109375, 6.103515625e-05, -0.00177001953125, -0.002227783203125, -0.00048828125, 0.0006103515625, -0.000640869140625, -0.00201416015625, -0.00103759765625, 0.0008544921875, 0.0006103515625, -0.001251220703125, -0.001678466796875, 3.0517578125e-05, 0.001220703125, 0.001007080078125, 0.0013427734375, 0.003326416015625, 0.00439453125, 0.0028076171875, 0.00091552734375, 0.0013427734375, 0.002410888671875, 0.00115966796875, -0.00140380859375, -0.001678466796875, -6.103515625e-05, -0.000640869140625, -0.004241943359375, -0.006103515625, -0.0035400390625, -0.000457763671875, -0.0010986328125, -0.0029296875, -0.000885009765625, 0.00384521484375, 0.0050048828125, 0.001678466796875, -0.00018310546875, 0.002655029296875, 0.005218505859375, 0.002685546875, -0.001861572265625, -0.002288818359375, 0.00091552734375, 0.001708984375, -0.00152587890625, -0.003692626953125, -0.00164794921875, 0.001220703125, 0.0010986328125, -0.000274658203125, 0.001190185546875, 0.00457763671875, 0.00543212890625, 0.002716064453125, 0.000213623046875, 0.00067138671875, 0.002227783203125, 0.001708984375, -0.000396728515625, -0.00152587890625, -0.000732421875, 0.000244140625, -0.000213623046875, -0.00146484375, -0.001678466796875, -0.0003662109375, 0.00079345703125, -9.1552734375e-05, -0.0020751953125, -0.002532958984375, -0.00042724609375, 0.001556396484375, 0.000885009765625, -0.00079345703125, -3.0517578125e-05, 0.002838134765625, 0.0037841796875, 0.0010986328125, -0.001373291015625, -0.000335693359375, 0.001617431640625, 6.103515625e-05, -0.003631591796875, -0.004180908203125, -0.000732421875, 0.001953125, 0.00091552734375, -0.000457763671875, 0.0010986328125, 0.0030517578125, 0.0018310546875, -0.001007080078125, -0.001068115234375, 0.001495361328125, 0.002410888671875, 0.00067138671875, -0.0003662109375, 0.000732421875, 0.00079345703125, -0.001953125, -0.004150390625, -0.002655029296875, 0.000152587890625, 0.000152587890625, -0.001556396484375, -0.0009765625, 0.001800537109375, 0.0028076171875, 0.00115966796875, 0.00030517578125, 0.0018310546875, 0.002777099609375, 0.0009765625, -0.000946044921875, -0.0003662109375, 0.0006103515625, -0.001251220703125, -0.004547119140625, -0.00531005859375, -0.003509521484375, -0.002410888671875, -0.002655029296875, -0.001495361328125, 0.00140380859375, 0.002410888671875, -0.0001220703125, -0.002288818359375, -0.000640869140625, 0.00250244140625, 0.00274658203125, 0.000457763671875, -0.000213623046875, 0.001678466796875, 0.002716064453125, 0.001007080078125, -0.0006103515625, 0.000457763671875, 0.002197265625, 0.001434326171875, -0.001220703125, -0.002410888671875, -0.001129150390625, 0.0001220703125, -0.000274658203125, -0.000946044921875, -0.00018310546875, 0.0010986328125, 0.0009765625, -0.00030517578125, -0.000701904296875, 0.000244140625, 0.000762939453125, -0.00091552734375, -0.00347900390625, -0.0042724609375, -0.002685546875, -0.00103759765625, -0.001251220703125, -0.001983642578125, -0.001068115234375, 0.000762939453125, 0.00091552734375, -0.00091552734375, -0.001495361328125, 0.00103759765625, 0.004058837890625, 0.0037841796875, 0.0009765625, -9.1552734375e-05, 0.001983642578125, 0.0037841796875, 0.002655029296875, 0.0003662109375, 3.0517578125e-05, 0.00103759765625, 0.000396728515625, -0.001922607421875, -0.002960205078125, -0.001434326171875, 0.0003662109375, 0.000213623046875, -0.00054931640625, 0.000335693359375, 0.002288818359375, 0.00299072265625, 0.001922607421875, 0.00079345703125, 0.000518798828125, 6.103515625e-05, -0.001190185546875, -0.001861572265625, -0.00079345703125, 0.00067138671875, 0.000640869140625, -0.00067138671875, -0.000946044921875, 0.00067138671875, 0.002197265625, 0.00164794921875, 6.103515625e-05, -3.0517578125e-05, 0.00164794921875, 0.00274658203125, 0.001861572265625, 0.00079345703125, 0.00146484375, 0.002593994140625, 0.001434326171875, -0.001800537109375, -0.003753662109375, -0.0028076171875, -0.001251220703125, -0.001739501953125, -0.00311279296875, -0.00250244140625, 0.0, 0.00140380859375, 0.00048828125, -0.000396728515625, 0.000518798828125, 0.00177001953125, 0.0010986328125, -0.000701904296875, -0.001220703125, 3.0517578125e-05, 0.001129150390625, 0.0009765625, 0.000579833984375, 0.00079345703125, 0.0010986328125, 0.000732421875, 6.103515625e-05, -0.000244140625, -0.000335693359375, -0.0006103515625, -0.00067138671875, -0.0003662109375, -6.103515625e-05, -6.103515625e-05, 0.0, 0.000396728515625, 0.000762939453125, 0.000732421875, 0.00054931640625, 0.00067138671875, 0.000640869140625, -3.0517578125e-05, -0.000762939453125, -0.000640869140625, 0.000274658203125, 0.0009765625, 0.00103759765625, 0.001129150390625, 0.00140380859375, 0.001434326171875, 0.001190185546875, 0.001495361328125, 0.00244140625, 0.00299072265625, 0.002288818359375, 0.0009765625, 3.0517578125e-05, -0.000579833984375, -0.001251220703125, -0.00177001953125, -0.001495361328125, -0.001129150390625, -0.00146484375, -0.002166748046875, -0.001861572265625, -0.000518798828125, 0.000396728515625, 0.000274658203125, 0.00030517578125, 0.0013427734375, 0.001922607421875, 0.000640869140625, -0.001312255859375, -0.00152587890625, -0.000213623046875, 0.00030517578125, -0.00103759765625, -0.002166748046875, -0.00128173828125, 0.000244140625, 0.0, -0.001617431640625, -0.001953125, -0.000213623046875, 0.00128173828125, 0.0006103515625, -0.000946044921875, -0.000732421875, 0.00128173828125, 0.00274658203125, 0.002227783203125, 0.00103759765625, 0.00067138671875, 0.000946044921875, 0.000579833984375, -0.00030517578125, -0.000457763671875, 0.000396728515625, 0.000732421875, -0.000396728515625, -0.001983642578125, -0.002227783203125, -0.00091552734375, 0.000244140625, 0.00030517578125, 0.000152587890625, 0.000885009765625, 0.00201416015625, 0.001953125, 0.000640869140625, -0.000274658203125, 0.0003662109375, 0.001373291015625, 0.0008544921875, -0.001007080078125, -0.001922607421875, -0.0008544921875, 0.000579833984375, 0.00030517578125, -0.000762939453125, -0.0006103515625, 0.0008544921875, 0.00140380859375, 9.1552734375e-05, -0.0008544921875, 0.00048828125, 0.002685546875, 0.002655029296875, 0.000335693359375, -0.0010986328125, 0.000213623046875, 0.002166748046875, 0.002227783203125, 0.000640869140625, -0.0003662109375, -0.000457763671875, -0.001129150390625, -0.002838134765625, -0.003814697265625, -0.00286865234375, -0.001251220703125, -0.00054931640625, -0.000457763671875, 0.00042724609375, 0.001983642578125, 0.002685546875, 0.002105712890625, 0.001617431640625, 0.002105712890625, 0.002685546875, 0.001922607421875, -0.00018310546875, -0.0020751953125, -0.002471923828125, -0.001434326171875, 3.0517578125e-05, 0.00091552734375, 0.001007080078125, 0.0006103515625, 0.000152587890625, -9.1552734375e-05, -0.000213623046875, 0.000152587890625, 0.001251220703125, 0.002227783203125, 0.00177001953125, -0.00018310546875, -0.001800537109375, -0.00146484375, 0.00018310546875, 0.001129150390625, 0.000457763671875, -0.00079345703125, -0.001495361328125, -0.0015869140625, -0.001220703125, -0.000457763671875, 0.00054931640625, 0.000885009765625, 0.000457763671875, -3.0517578125e-05, -3.0517578125e-05, -6.103515625e-05, -0.000335693359375, 9.1552734375e-05, 0.00140380859375, 0.001800537109375, 9.1552734375e-05, -0.002227783203125, -0.00225830078125, -0.00030517578125, 0.00054931640625, -0.001007080078125, -0.00238037109375, -0.00140380859375, 0.0001220703125, -0.00054931640625, -0.002655029296875, -0.0028076171875, -0.000457763671875, 0.001434326171875, 0.000946044921875, -0.00018310546875, 0.00018310546875, 0.001312255859375, 0.001251220703125, 0.000152587890625, -0.000213623046875, 0.000274658203125, 0.000152587890625, -0.001068115234375, -0.002044677734375, -0.001739501953125, -0.000732421875, 9.1552734375e-05, 0.0008544921875, 0.00177001953125, 0.002288818359375, 0.001800537109375, 0.001190185546875, 0.001434326171875, 0.002105712890625, 0.001922607421875, 0.000762939453125, -0.000457763671875, -0.00091552734375, -0.0009765625, -0.00103759765625, -0.001007080078125, -0.0006103515625, -0.000274658203125, -0.00079345703125, -0.0018310546875, -0.001922607421875, -0.00042724609375, 0.001556396484375, 0.002166748046875, 0.001129150390625, -9.1552734375e-05, -0.000213623046875, 0.000244140625, 0.000457763671875, 0.000457763671875, 0.00091552734375, 0.0013427734375, 0.00054931640625, -0.00128173828125, -0.002410888671875, -0.0015869140625, -0.00030517578125, -0.000335693359375, -0.00115966796875, -0.000823974609375, 0.000457763671875, 0.000579833984375, -0.000946044921875, -0.001953125, -0.00079345703125, 0.001190185546875, 0.0015869140625, 0.00067138671875, 0.000335693359375, 0.000823974609375, 0.000701904296875, -0.0003662109375, -0.000640869140625, 0.000732421875, 0.001861572265625, 0.001007080078125, -0.0010986328125, -0.001983642578125, -0.001007080078125, 0.0003662109375, 0.0008544921875, 0.00079345703125, 0.000885009765625, 0.000885009765625, 0.00030517578125, -0.000701904296875, -0.00128173828125, -0.001007080078125, -0.000274658203125, 0.0001220703125, -0.000335693359375, -0.0010986328125, -0.001068115234375, 0.0001220703125, 0.001220703125, 0.00103759765625, 9.1552734375e-05, -0.000152587890625, 0.000396728515625, 0.000335693359375, -0.000762939453125, -0.00128173828125, -0.00030517578125, 0.000762939453125, 3.0517578125e-05, -0.00164794921875, -0.00177001953125, -9.1552734375e-05, 0.000823974609375, -0.00018310546875, -0.001312255859375, -0.000518798828125, 0.0009765625, 0.0009765625, -0.0003662109375, -0.000885009765625, -3.0517578125e-05, 0.00054931640625, -0.0001220703125, -0.0008544921875, -0.000274658203125, 0.000762939453125, 0.00048828125, -0.000762939453125, -0.001220703125, -0.000152587890625, 0.001190185546875, 0.0013427734375, 0.00048828125, -9.1552734375e-05, 0.00030517578125, 0.00103759765625, 0.001190185546875, 0.000640869140625, 0.000274658203125, 0.000701904296875, 0.00103759765625, -3.0517578125e-05, -0.001983642578125, -0.002777099609375, -0.00146484375, 0.000213623046875, 0.0001220703125, -0.000885009765625, -0.000244140625, 0.002105712890625, 0.0030517578125, 0.001129150390625, -0.000762939453125, 0.000244140625, 0.002593994140625, 0.00250244140625, -0.000244140625, -0.001922607421875, -0.000701904296875, 0.00067138671875, -0.000335693359375, -0.0020751953125, -0.001434326171875, 0.000823974609375, 0.001373291015625, -0.000396728515625, -0.001556396484375, -0.00018310546875, 0.001495361328125, 0.00103759765625, -0.0006103515625, -0.000885009765625, 0.00018310546875, 0.000274658203125, -0.001129150390625, -0.001922607421875, -0.000762939453125, 0.00079345703125, 0.000732421875, -0.00042724609375, -0.000701904296875, 0.00018310546875, 0.0008544921875, 0.0006103515625, 0.00048828125, 0.0010986328125, 0.00152587890625, 0.000762939453125, -0.00079345703125, -0.00128173828125, -0.000213623046875, 0.001190185546875, 0.00140380859375, 0.00042724609375, -0.000579833984375, -0.000823974609375, -0.00048828125, -0.0001220703125, 9.1552734375e-05, 0.000274658203125, 0.0001220703125, -0.000396728515625, -0.0008544921875, -0.000885009765625, -0.000457763671875, 3.0517578125e-05, 0.0006103515625, 0.00128173828125, 0.001678466796875, 0.0013427734375, 0.000640869140625, 0.00054931640625, 0.001190185546875, 0.00146484375, 0.00048828125, -0.000885009765625, -0.001220703125, -0.0006103515625, -0.0003662109375, -0.000946044921875, -0.001373291015625, -0.000823974609375, -9.1552734375e-05, -0.000274658203125, -0.001007080078125, -0.001007080078125, -0.000213623046875, 0.000335693359375, -0.00030517578125, -0.001190185546875, -0.001190185546875, -0.00018310546875, 0.00091552734375, 0.00115966796875, 0.00054931640625, -9.1552734375e-05, 0.0, 0.00067138671875, 0.0009765625, 0.000396728515625, -0.000396728515625, -0.00042724609375, -0.000152587890625, -0.000701904296875, -0.002105712890625, -0.00299072265625, -0.00250244140625, -0.00152587890625, -0.001068115234375, -0.00067138671875, 0.0006103515625, 0.002166748046875, 0.002410888671875, 0.001312255859375, 0.00048828125, 0.0008544921875, 0.0013427734375, 0.000762939453125, -0.000396728515625, -0.000946044921875, -0.000823974609375, -0.0009765625, -0.0015869140625, -0.00164794921875, -0.000701904296875, 0.00048828125, 0.000885009765625, 0.00054931640625, -9.1552734375e-05, -0.000244140625, 0.000213623046875, 0.0008544921875, 0.0008544921875, 9.1552734375e-05, -0.000762939453125, -0.00067138671875, -0.000152587890625, -9.1552734375e-05, -0.00042724609375, -9.1552734375e-05, 0.000885009765625, 0.00091552734375, -0.000518798828125, -0.00152587890625, -0.0003662109375, 0.001556396484375, 0.001617431640625, -0.000244140625, -0.00152587890625, -0.000762939453125, 0.00042724609375, 0.00018310546875, -0.000640869140625, -0.000518798828125, -6.103515625e-05, -0.00079345703125, -0.00238037109375, -0.002777099609375, -0.001312255859375, 0.00054931640625, 0.001373291015625, 0.001617431640625, 0.001983642578125, 0.00189208984375, 0.001007080078125, 0.00042724609375, 0.001129150390625, 0.00213623046875, 0.001800537109375, 0.000335693359375, -0.000701904296875, -0.00103759765625, -0.001617431640625, -0.002716064453125, -0.002899169921875, -0.00152587890625, -0.000152587890625, -0.000335693359375, -0.001495361328125, -0.001739501953125, -0.000579833984375, 0.000640869140625, 0.00091552734375, 0.000518798828125, 0.00018310546875, -0.0001220703125, -0.000701904296875, -0.00128173828125, -0.001220703125, -0.00042724609375, 0.000518798828125, 0.000823974609375, 0.000213623046875, -0.00067138671875, -0.000732421875, 0.00042724609375, 0.00201416015625, 0.0028076171875, 0.002349853515625, 0.001220703125, 0.00030517578125, 6.103515625e-05, 0.000579833984375, 0.0015869140625, 0.002105712890625, 0.0013427734375, -0.00018310546875, -0.0008544921875, 3.0517578125e-05, 0.001129150390625, 0.001007080078125, 0.00018310546875, 0.000213623046875, 0.0008544921875, 0.0006103515625, -0.000579833984375, -0.0009765625, 0.00030517578125, 0.00152587890625, 0.00091552734375, -0.00054931640625, -0.000640869140625, 0.00048828125, 0.000823974609375, -0.00048828125, -0.001739501953125, -0.0013427734375, -0.000213623046875, 0.0001220703125, -0.000335693359375, -0.000396728515625, 0.00018310546875, 0.000518798828125, 0.00030517578125, 6.103515625e-05, 0.00018310546875, 9.1552734375e-05, -0.00042724609375, -0.000885009765625, -0.00091552734375, -0.000732421875, -0.0006103515625, -0.000274658203125, 0.00054931640625, 0.0010986328125, 0.000579833984375, -0.000213623046875, 0.0001220703125, 0.001800537109375, 0.002960205078125, 0.002288818359375, 0.000457763671875, -0.000396728515625, 0.00030517578125, 0.001373291015625, 0.001617431640625, 0.0013427734375, 0.0010986328125, 0.00054931640625, -0.00042724609375, -0.00115966796875, -0.0006103515625, 0.00079345703125, 0.00140380859375, 0.00054931640625, -0.000732421875, -0.001373291015625, -0.001251220703125, -0.00091552734375, -0.000213623046875, 0.000732421875, 0.000946044921875, -0.000457763671875, -0.00225830078125, -0.00250244140625, -0.00115966796875, -3.0517578125e-05, -0.000335693359375, -0.0010986328125, -0.001068115234375, -0.000762939453125, -0.00115966796875, -0.0013427734375, 6.103515625e-05, 0.0023193359375, 0.0029296875, 0.0010986328125, -0.000885009765625, -0.000732421875, 0.0010986328125, 0.002349853515625, 0.00189208984375, 0.000762939453125, 0.00018310546875, 0.000152587890625, 6.103515625e-05, -0.0001220703125, -3.0517578125e-05, 0.000457763671875, 0.000701904296875, 0.000152587890625, -0.0008544921875, -0.001129150390625, 0.0, 0.001495361328125, 0.001922607421875, 0.000885009765625, -0.000244140625, -0.000335693359375, 0.000152587890625, 0.00018310546875, -0.0001220703125, 0.0001220703125, 0.000701904296875, 0.00054931640625, -0.000457763671875, -0.0009765625, -0.000335693359375, 0.000335693359375, 3.0517578125e-05, -0.000579833984375, -0.00018310546875, 0.000946044921875, 0.0013427734375, 0.000701904296875, 0.00018310546875, 0.00067138671875, 0.001129150390625, 0.000640869140625, -0.000244140625, -0.0003662109375, 0.0, -0.000396728515625, -0.001678466796875, -0.0025634765625, -0.00213623046875, -0.00103759765625, -0.0003662109375, -0.00030517578125, -0.00048828125, -0.000457763671875, -0.000213623046875, 0.000152587890625, 0.000457763671875, 0.00018310546875, -0.000640869140625, -0.001373291015625, -0.001312255859375, -0.000762939453125, -0.000396728515625, -0.0003662109375, -6.103515625e-05, 0.000579833984375, 0.000823974609375, 0.000244140625, -0.000244140625, 0.0003662109375, 0.00146484375, 0.001556396484375, 0.00048828125, -0.000213623046875, 0.000579833984375, 0.001861572265625, 0.002166748046875, 0.00140380859375, 0.0008544921875, 0.0009765625, 0.0008544921875, 0.000152587890625, -0.000274658203125, 0.000396728515625, 0.001373291015625, 0.001068115234375, -0.000579833984375, -0.0018310546875, -0.0015869140625, -0.00054931640625, -0.0001220703125, -0.00048828125, -0.000732421875, -0.00054931640625, -0.0003662109375, -0.00067138671875, -0.001129150390625, -0.001129150390625, -0.000640869140625, -0.000274658203125, -0.000335693359375, -0.000518798828125, -0.000518798828125, -0.000244140625, -6.103515625e-05, -3.0517578125e-05, -0.000152587890625, -0.00042724609375, -0.000732421875, -0.000762939453125, -0.00048828125, -0.000274658203125, -0.000457763671875, -0.00042724609375, 0.000518798828125, 0.002197265625, 0.003173828125, 0.0025634765625, 0.001373291015625, 0.0009765625, 0.001556396484375, 0.001953125, 0.00152587890625, 0.001068115234375, 0.0010986328125, 0.001129150390625, 0.000701904296875, 0.00018310546875, 0.00018310546875, 0.000518798828125, 0.000518798828125, 3.0517578125e-05, -0.0003662109375, -0.00048828125, -0.00067138671875, -0.000701904296875, -0.000213623046875, 0.000213623046875, -0.000579833984375, -0.00225830078125, -0.003143310546875, -0.00238037109375, -0.001251220703125, -0.0010986328125, -0.001495361328125, -0.000946044921875, 3.0517578125e-05, 3.0517578125e-05, -0.00103759765625, -0.00140380859375, -0.000152587890625, 0.001129150390625, 0.000946044921875, 0.0001220703125, 0.000152587890625, 0.000946044921875, 0.001068115234375, 0.0001220703125, -0.00067138671875, -0.000396728515625, 0.0001220703125, 6.103515625e-05, -0.000244140625, -9.1552734375e-05, 0.00030517578125, 6.103515625e-05, -0.0006103515625, -0.000823974609375, -6.103515625e-05, 0.001129150390625, 0.001800537109375, 0.00177001953125, 0.00140380859375, 0.0009765625, 0.000823974609375, 0.000823974609375, 0.000823974609375, 0.00067138671875, 0.000457763671875, 0.000244140625, 0.0, -0.000335693359375, -0.000762939453125, -0.00115966796875, -0.001220703125, -0.0009765625, -0.000640869140625, -0.000335693359375, -0.000213623046875, -9.1552734375e-05, 0.000244140625, 0.000579833984375, 0.00054931640625, 0.000274658203125, 0.00042724609375, 0.00115966796875, 0.001708984375, 0.001251220703125, 0.00018310546875, -0.000244140625, 0.000244140625, 0.00067138671875, 0.00018310546875, -0.00048828125, -0.000152587890625, 0.0009765625, 0.0015869140625, 0.001190185546875, 0.00054931640625, 0.0003662109375, 0.000244140625, -0.000274658203125, -0.000762939453125, -0.00054931640625, 0.0001220703125, 0.0003662109375, -0.000213623046875, -0.001129150390625, -0.001617431640625, -0.00140380859375, -0.000885009765625, -0.00042724609375, -0.00042724609375, -0.000762939453125, -0.00103759765625, -0.001007080078125, -0.00091552734375, -0.0009765625, -0.000946044921875, -0.000518798828125, 0.0, 9.1552734375e-05, -0.000396728515625, -0.00067138671875, -0.000274658203125, 0.000274658203125, 0.000518798828125, 0.000457763671875, 0.000579833984375, 0.000732421875, 0.000518798828125, -0.0001220703125, -0.00054931640625, -0.000244140625, 0.000396728515625, 0.00079345703125, 0.000732421875, 0.0003662109375, -6.103515625e-05, -0.000244140625, -0.0001220703125, 0.000396728515625, 0.00079345703125, 0.000946044921875, 0.000823974609375, 0.000640869140625, 0.0003662109375, 9.1552734375e-05, -9.1552734375e-05, -0.0001220703125, 0.0, 9.1552734375e-05, 0.00018310546875, 0.0001220703125, -0.00048828125, -0.001373291015625, -0.001953125, -0.00164794921875, -0.000885009765625, -0.000335693359375, -0.00030517578125, -0.0003662109375, -0.000244140625, -6.103515625e-05, 0.00018310546875, 0.000579833984375, 0.0009765625, 0.0008544921875, 0.000396728515625, 0.000244140625, 0.00067138671875, 0.000946044921875, 0.00048828125, -3.0517578125e-05, 9.1552734375e-05, 0.00042724609375, 0.00018310546875, -0.00048828125, -0.000335693359375, 0.000732421875, 0.001373291015625, 0.0009765625, 0.0003662109375, 0.00048828125, 0.000640869140625, 9.1552734375e-05, -0.000640869140625, -0.00048828125, 0.000213623046875, 0.0, -0.00128173828125, -0.00201416015625, -0.0015869140625, -0.000946044921875, -0.001129150390625, -0.001495361328125, -0.000823974609375, 0.000457763671875, 0.000946044921875, 0.000579833984375, 0.00030517578125, 0.000518798828125, 0.000274658203125, -0.0006103515625, -0.001220703125, -0.0008544921875, -0.000244140625, -0.000244140625, -0.000579833984375, -0.0003662109375, 0.000244140625, 0.000335693359375, -0.000152587890625, -0.000396728515625, 0.0, 0.000457763671875, 0.000579833984375, 0.000640869140625, 0.0010986328125, 0.00152587890625, 0.001373291015625, 0.00079345703125, 0.000457763671875, 0.000457763671875, 0.000335693359375, -9.1552734375e-05, -0.00054931640625, -0.000732421875, -0.000762939453125, -0.000762939453125, -0.00067138671875, -0.000579833984375, -0.00079345703125, -0.001312255859375, -0.001678466796875, -0.00140380859375, -0.000823974609375, -0.000518798828125, -0.000579833984375, -0.000396728515625, 0.000152587890625, 0.000579833984375, 0.000274658203125, -0.000335693359375, -0.0001220703125, 0.0009765625, 0.001983642578125, 0.001861572265625, 0.000946044921875, 0.00042724609375, 0.00054931640625, 0.000457763671875, -0.000152587890625, -0.0006103515625, -0.000244140625, 0.00048828125, 0.00067138671875, 0.00018310546875, -0.000152587890625, 0.0001220703125, 0.000457763671875, 0.000396728515625, 9.1552734375e-05, 3.0517578125e-05, 0.00018310546875, 6.103515625e-05, -0.000244140625, -0.000396728515625, -0.000457763671875, -0.00079345703125, -0.001251220703125, -0.00128173828125, -0.00067138671875, -9.1552734375e-05, -9.1552734375e-05, -0.0006103515625, -0.001129150390625, -0.001251220703125, -0.0009765625, -0.000701904296875, -0.000732421875, -0.001251220703125, -0.001678466796875, -0.00140380859375, -0.000701904296875, -0.0003662109375, -0.00067138671875, -0.0009765625, -0.00067138671875, -0.000213623046875, -0.00018310546875, -0.000274658203125, 0.0003662109375, 0.001739501953125, 0.002532958984375, 0.0020751953125, 0.0009765625, 0.000244140625, 0.000213623046875, 0.000579833984375, 0.001007080078125, 0.001190185546875, 0.000946044921875, 0.00042724609375, 0.000274658203125, 0.00067138671875, 0.00091552734375, 0.000640869140625, 0.000213623046875, 0.0003662109375, 0.000640869140625, 0.000213623046875, -0.000885009765625, -0.0015869140625, -0.0013427734375, -0.00091552734375, -0.001129150390625, -0.001373291015625, -0.0009765625, -9.1552734375e-05, 0.00030517578125, 0.0001220703125, 6.103515625e-05, 0.000213623046875, 0.000152587890625, -0.00042724609375, -0.00079345703125, -0.000579833984375, -0.000396728515625, -0.000640869140625, -0.000946044921875, -0.0008544921875, -0.000518798828125, -0.00067138671875, -0.000946044921875, -0.00079345703125, -3.0517578125e-05, 0.000640869140625, 0.0008544921875, 0.000946044921875, 0.0009765625, 0.000762939453125, 0.000518798828125, 0.0009765625, 0.002044677734375, 0.002685546875, 0.00213623046875, 0.00115966796875, 0.00079345703125, 0.00079345703125, 0.000457763671875, -0.00018310546875, -0.000244140625, 0.000244140625, 0.000335693359375, -0.00042724609375, -0.001220703125, -0.001220703125, -0.000823974609375, -0.000823974609375, -0.00128173828125, -0.001708984375, -0.001800537109375, -0.001861572265625, -0.0018310546875, -0.00164794921875, -0.001556396484375, -0.002044677734375, -0.002593994140625, -0.00244140625, -0.001739501953125, -0.001220703125, -0.00103759765625, -0.0006103515625, 0.0001220703125, 0.000518798828125, 0.000213623046875, 6.103515625e-05, 0.00079345703125, 0.001861572265625, 0.002227783203125, 0.00201416015625, 0.001953125, 0.001953125, 0.00140380859375, 0.0006103515625, 0.00048828125, 0.0009765625, 0.000823974609375, -0.00018310546875, -0.000823974609375, -6.103515625e-05, 0.00103759765625, 0.001129150390625, 0.00054931640625, 0.000762939453125, 0.00152587890625, 0.001556396484375, 0.0006103515625, 3.0517578125e-05, 0.00042724609375, 0.000701904296875, -0.000274658203125, -0.001678466796875, -0.0020751953125, -0.00164794921875, -0.001495361328125, -0.00177001953125, -0.001708984375, -0.0010986328125, -0.00091552734375, -0.00140380859375, -0.001556396484375, -0.000732421875, 0.000274658203125, 0.00054931640625, 0.000335693359375, 0.00067138671875, 0.001312255859375, 0.00128173828125, 0.000396728515625, -0.00018310546875, 0.0001220703125, 0.00042724609375, 0.0, -0.000396728515625, 0.000274658203125, 0.0015869140625, 0.0020751953125, 0.00152587890625, 0.00115966796875, 0.001678466796875, 0.002166748046875, 0.001678466796875, 0.00067138671875, 0.000518798828125, 0.001251220703125, 0.00152587890625, 0.00048828125, -0.00091552734375, -0.001617431640625, -0.001495361328125, -0.001434326171875, -0.00152587890625, -0.001556396484375, -0.001495361328125, -0.001617431640625, -0.001922607421875, -0.001800537109375, -0.001068115234375, -0.000518798828125, -0.00067138671875, -0.001129150390625, -0.000946044921875, -9.1552734375e-05, 0.000518798828125, 9.1552734375e-05, -0.00091552734375, -0.001312255859375, -0.000762939453125, 6.103515625e-05, 0.000213623046875, -0.000244140625, -0.000518798828125, -0.0003662109375, -0.00018310546875, -0.000579833984375, -0.000885009765625, -0.00018310546875, 0.001220703125, 0.002105712890625, 0.001861572265625, 0.00152587890625, 0.001800537109375, 0.001953125, 0.001007080078125, -0.000274658203125, -0.000244140625, 0.0009765625, 0.0013427734375, -0.000274658203125, -0.002166748046875, -0.00262451171875, -0.00201416015625, -0.00177001953125, -0.002197265625, -0.00225830078125, -0.001861572265625, -0.00177001953125, -0.001800537109375, -0.00128173828125, -0.00048828125, -0.0009765625, -0.0028076171875, -0.003875732421875, -0.00311279296875, -0.001922607421875, -0.0020751953125, -0.002593994140625, -0.001617431640625, 0.00030517578125, 0.000701904296875, -0.000579833984375, -0.0010986328125, 0.000762939453125, 0.003143310546875, 0.003753662109375, 0.0029296875, 0.002655029296875, 0.003173828125, 0.003173828125, 0.0023193359375, 0.00177001953125, 0.001983642578125, 0.00201416015625, 0.00128173828125, 0.0006103515625, 0.0006103515625, 0.000579833984375, -0.000213623046875, -0.0009765625, -0.00079345703125, -0.000213623046875, -0.00054931640625, -0.001556396484375, -0.001800537109375, -0.0008544921875, -0.00018310546875, -0.001129150390625, -0.0029296875, -0.003753662109375, -0.003204345703125, -0.002105712890625, -0.001800537109375, -0.002471923828125, -0.00341796875, -0.003936767578125, -0.003662109375, -0.002899169921875, -0.002349853515625, -0.002197265625, -0.0020751953125, -0.00177001953125, -0.00152587890625, -0.00152587890625, -0.001434326171875, -0.000762939453125, 0.000274658203125, 0.001007080078125, 0.001129150390625, 0.001190185546875, 0.001434326171875, 0.00140380859375, 0.00079345703125, 0.0, -0.000396728515625, -0.000274658203125, -6.103515625e-05, 0.0001220703125, 0.000579833984375, 0.00128173828125, 0.0015869140625, 0.001129150390625, 0.00048828125, 0.00042724609375, 0.00091552734375, 0.001220703125, 0.001068115234375, 0.000701904296875, 0.000396728515625, -0.000335693359375, -0.00164794921875, -0.002685546875, -0.002532958984375, -0.001739501953125, -0.001617431640625, -0.00244140625, -0.002960205078125, -0.00238037109375, -0.001617431640625, -0.0018310546875, -0.002532958984375, -0.002410888671875, -0.001251220703125, -0.000335693359375, -0.000274658203125, -0.00018310546875, 0.000518798828125, 0.001068115234375, 0.000823974609375, 0.00042724609375, 0.00054931640625, 0.00103759765625, 0.00128173828125, 0.00177001953125, 0.003143310546875, 0.004425048828125, 0.004180908203125, 0.0028076171875, 0.002227783203125, 0.003143310546875, 0.00384521484375, 0.003143310546875, 0.002044677734375, 0.002166748046875, 0.002685546875, 0.001861572265625, -3.0517578125e-05, -0.001190185546875, -0.0009765625, -0.000732421875, -0.001373291015625, -0.001953125, -0.0015869140625, -0.001220703125, -0.001617431640625, -0.00213623046875, -0.001953125, -0.0015869140625, -0.00213623046875, -0.0030517578125, -0.0029296875, -0.001739501953125, -0.0009765625, -0.00128173828125, -0.001556396484375, -0.000885009765625, 3.0517578125e-05, 0.00018310546875, -0.0003662109375, -0.0006103515625, -0.000335693359375, 0.000152587890625, 0.00067138671875, 0.001251220703125, 0.001251220703125, 0.00054931640625, -6.103515625e-05, 0.00030517578125, 0.001434326171875, 0.002288818359375, 0.00244140625, 0.002349853515625, 0.00238037109375, 0.00201416015625, 0.001190185546875, 0.000579833984375, 0.00048828125, 0.00030517578125, -0.000244140625, -0.000396728515625, 0.000274658203125, 0.000885009765625, 0.000396728515625, -0.000732421875, -0.00115966796875, -0.000640869140625, -0.000335693359375, -0.00054931640625, -0.000579833984375, 3.0517578125e-05, 0.000396728515625, -0.000335693359375, -0.001739501953125, -0.00250244140625, -0.00250244140625, -0.00250244140625, -0.002685546875, -0.002227783203125, -0.0009765625, 0.000213623046875, 0.0006103515625, 0.000518798828125, 0.000640869140625, 0.00091552734375, 0.00103759765625, 0.00128173828125, 0.001983642578125, 0.002716064453125, 0.0028076171875, 0.002105712890625, 0.001495361328125, 0.00140380859375, 0.00115966796875, 0.0003662109375, -0.000244140625, 0.000274658203125, 0.001678466796875, 0.002685546875, 0.00262451171875, 0.001983642578125, 0.001373291015625, 0.0008544921875, 0.0, -0.000732421875, -0.00091552734375, -0.0006103515625, -0.0003662109375, -0.000640869140625, -0.00103759765625, -0.00140380859375, -0.001800537109375, -0.002532958984375, -0.00341796875, -0.003875732421875, -0.003662109375, -0.0032958984375, -0.00323486328125, -0.00341796875, -0.00360107421875, -0.00341796875, -0.00311279296875, -0.002655029296875, -0.001953125, -0.000946044921875, 6.103515625e-05, 0.00067138671875, 0.000701904296875, 0.00048828125, 0.000396728515625, 0.000518798828125, 0.0006103515625, 0.000396728515625, 9.1552734375e-05, 0.0001220703125, 0.0008544921875, 0.00201416015625, 0.002960205078125, 0.003173828125, 0.002532958984375, 0.001678466796875, 0.001251220703125, 0.0013427734375, 0.001556396484375, 0.0015869140625, 0.00146484375, 0.001312255859375, 0.00091552734375, 0.0, -0.001220703125, -0.0020751953125, -0.00213623046875, -0.001434326171875, -0.000518798828125, 0.000244140625, 0.000732421875, 0.0009765625, 0.000823974609375, 0.000152587890625, -0.00079345703125, -0.001556396484375, -0.00177001953125, -0.001434326171875, -0.001007080078125, -0.0009765625, -0.00146484375, -0.00213623046875, -0.002471923828125, -0.002349853515625, -0.001953125, -0.0015869140625, -0.00146484375, -0.001434326171875, -0.001220703125, -0.00079345703125, -6.103515625e-05, 0.000732421875, 0.00115966796875, 0.001068115234375, 0.000640869140625, 0.000457763671875, 0.000946044921875, 0.001800537109375, 0.0025634765625, 0.002777099609375, 0.002471923828125, 0.0018310546875, 0.00115966796875, 0.000701904296875, 0.0006103515625, 0.000823974609375, 0.001007080078125, 0.0008544921875, 0.0006103515625, 0.00067138671875, 0.0008544921875, 0.00042724609375, -0.000885009765625, -0.0023193359375, -0.0028076171875, -0.0020751953125, -0.001312255859375, -0.001556396484375, -0.002532958984375, -0.003265380859375, -0.00335693359375, -0.003204345703125, -0.003143310546875, -0.002838134765625, -0.001983642578125, -0.001068115234375, -0.000732421875, -0.000762939453125, -0.00067138671875, -0.000335693359375, -0.0001220703125, -0.00018310546875, -6.103515625e-05, 0.000335693359375, 0.000823974609375, 0.00103759765625, 0.001220703125, 0.00140380859375, 0.001312255859375, 0.000762939453125, 0.00018310546875, 0.00030517578125, 0.000946044921875, 0.001373291015625, 0.001251220703125, 0.001129150390625, 0.0013427734375, 0.001678466796875, 0.001495361328125, 0.000946044921875, 0.00048828125, 0.00048828125, 0.00067138671875, 0.0009765625, 0.00128173828125, 0.001373291015625, 0.00091552734375, 9.1552734375e-05, -0.000457763671875, -0.000457763671875, -0.000244140625, -0.0001220703125, -9.1552734375e-05, 0.0, 0.00018310546875, 0.000152587890625, -0.000152587890625, -0.000396728515625, -0.00054931640625, -0.000701904296875, -0.000946044921875, -0.00115966796875, -0.001007080078125, -0.000732421875, -0.00067138671875, -0.00079345703125, -0.00079345703125, -0.0006103515625, -0.00030517578125, -9.1552734375e-05, -0.0001220703125, -0.000244140625, -0.000244140625, 0.0001220703125, 0.00067138671875, 0.001068115234375, 0.00115966796875, 0.00079345703125, 0.000518798828125, 0.000518798828125, 0.001007080078125, 0.00152587890625, 0.00164794921875, 0.001190185546875, 0.000640869140625, 0.000518798828125, 0.000823974609375, 0.001007080078125, 0.000579833984375, -6.103515625e-05, -0.000213623046875, 6.103515625e-05, 0.000152587890625, -0.000152587890625, -0.000457763671875, -0.000579833984375, -0.000762939453125, -0.00146484375, -0.0023193359375, -0.002838134765625, -0.003021240234375, -0.0030517578125, -0.002777099609375, -0.0018310546875, -0.0003662109375, 0.000732421875, 0.000885009765625, 0.00079345703125, 0.000946044921875, 0.000885009765625, 0.00042724609375, -0.00018310546875, -0.000213623046875, 0.000396728515625, 0.000762939453125, 0.00042724609375, -0.0001220703125, -0.000335693359375, -0.0003662109375, -0.000518798828125, -0.00054931640625, 6.103515625e-05, 0.001312255859375, 0.00225830078125, 0.002349853515625, 0.001983642578125, 0.001708984375, 0.00152587890625, 0.001007080078125, 0.000152587890625, -0.0003662109375, -0.000213623046875, 0.0, -0.00048828125, -0.00140380859375, -0.0018310546875, -0.0015869140625, -0.0013427734375, -0.001556396484375, -0.001617431640625, -0.00091552734375, 3.0517578125e-05, 9.1552734375e-05, -0.0006103515625, -0.000823974609375, 9.1552734375e-05, 0.00115966796875, 0.0013427734375, 0.000823974609375, 0.000579833984375, 0.000701904296875, 0.000457763671875, -0.000213623046875, -0.00079345703125, -0.0008544921875, -0.000701904296875, -0.000579833984375, -0.000518798828125, -0.000457763671875, -0.000701904296875, -0.000762939453125, 0.0, 0.00164794921875, 0.002960205078125, 0.003082275390625, 0.002471923828125, 0.002166748046875, 0.00201416015625, 0.001373291015625, 0.00042724609375, 3.0517578125e-05, 0.000152587890625, 0.000213623046875, -0.0001220703125, 0.0, 0.000701904296875, 0.000823974609375, -0.000152587890625, -0.001007080078125, -0.000457763671875, 0.00079345703125, 0.00115966796875, 0.00067138671875, 0.00054931640625, 0.000946044921875, 0.00054931640625, -0.00115966796875, -0.002685546875, -0.002655029296875, -0.001708984375, -0.00164794921875, -0.002593994140625, -0.003143310546875, -0.0025634765625, -0.0018310546875, -0.00164794921875, -0.001495361328125, -0.0008544921875, -3.0517578125e-05, 0.00042724609375, 0.000732421875, 0.00128173828125, 0.001678466796875, 0.00128173828125, 0.0003662109375, 9.1552734375e-05, 0.000457763671875, 0.00067138671875, 0.00030517578125, -3.0517578125e-05, 0.000274658203125, 0.000701904296875, 0.00042724609375, -0.000274658203125, -0.00054931640625, -0.0001220703125, 0.000396728515625, 0.00042724609375, 0.000244140625, 0.000244140625, 0.00054931640625, 0.00079345703125, 0.000823974609375, 0.0006103515625, 0.000457763671875, 0.00042724609375, 0.000457763671875, 0.000213623046875, -0.00048828125, -0.00115966796875, -0.001251220703125, -0.000762939453125, -0.000732421875, -0.001495361328125, -0.00244140625, -0.00250244140625, -0.001708984375, -0.00103759765625, -0.0009765625, -0.00091552734375, -0.000213623046875, 0.00103759765625, 0.00213623046875, 0.002838134765625, 0.00311279296875, 0.00286865234375, 0.001922607421875, 0.000640869140625, -0.000396728515625, -0.000946044921875, -0.001251220703125, -0.001617431640625, -0.0018310546875, -0.0015869140625, -0.00091552734375, -0.00030517578125, -9.1552734375e-05, 0.0, 0.000396728515625, 0.001220703125, 0.001617431640625, 0.001220703125, 0.000701904296875, 0.001251220703125, 0.00262451171875, 0.003082275390625, 0.00146484375, -0.000732421875, -0.00152587890625, -0.000701904296875, -0.000152587890625, -0.0008544921875, -0.0015869140625, -0.00128173828125, -0.00067138671875, -0.001007080078125, -0.00189208984375, -0.00177001953125, -0.0006103515625, 0.000244140625, 0.00018310546875, 0.000152587890625, 0.000701904296875, 0.00103759765625, 0.0006103515625, 3.0517578125e-05, 3.0517578125e-05, 6.103515625e-05, -0.000762939453125, -0.001617431640625, -0.00140380859375, -0.00054931640625, -0.00048828125, -0.001251220703125, -0.001434326171875, -0.00054931640625, 0.0, -0.0006103515625, -0.001068115234375, 6.103515625e-05, 0.002105712890625, 0.0030517578125, 0.00262451171875, 0.002044677734375, 0.00201416015625, 0.001739501953125, 0.000762939453125, -0.000335693359375, -0.000946044921875, -0.00140380859375, -0.001800537109375, -0.001678466796875, -0.00079345703125, -0.000244140625, -0.000701904296875, -0.00128173828125, -0.0009765625, -0.0003662109375, -0.000732421875, -0.001708984375, -0.001800537109375, -0.00067138671875, 0.000244140625, -3.0517578125e-05, -0.000762939453125, -0.000732421875, -0.000457763671875, -0.00079345703125, -0.001373291015625, -0.00115966796875, -0.000152587890625, 0.00054931640625, 0.000244140625, -0.000213623046875, -9.1552734375e-05, 0.0003662109375, 0.00054931640625, 0.000396728515625, 0.000244140625, 9.1552734375e-05, -9.1552734375e-05, -9.1552734375e-05, 6.103515625e-05, 0.000152587890625, 9.1552734375e-05, 0.000152587890625, 0.000579833984375, 0.001068115234375, 0.001129150390625, 0.00103759765625, 0.0009765625, 0.000732421875, 0.0001220703125, -0.00048828125, -0.0003662109375, 0.0001220703125, 0.0001220703125, -0.00042724609375, -0.00067138671875, -0.000152587890625, 0.000396728515625, 0.000335693359375, 0.000152587890625, 0.000457763671875, 0.000762939453125, 0.000274658203125, -0.000732421875, -0.001129150390625, -0.000885009765625, -0.0009765625, -0.001739501953125, -0.002105712890625, -0.001373291015625, -0.00048828125, -0.00054931640625, -0.0010986328125, -0.001007080078125, -0.00030517578125, -9.1552734375e-05, -0.000701904296875, -0.00103759765625, -0.00042724609375, 0.000244140625, 0.000518798828125, 0.00079345703125, 0.0015869140625, 0.00201416015625, 0.001129150390625, -9.1552734375e-05, -3.0517578125e-05, 0.001312255859375, 0.00213623046875, 0.001678466796875, 0.0008544921875, 0.0008544921875, 0.00103759765625, 0.0003662109375, -0.00067138671875, -0.000885009765625, -0.00030517578125, -0.0001220703125, -0.000579833984375, -0.00067138671875, -6.103515625e-05, 0.0003662109375, 0.00018310546875, 0.0, 0.000274658203125, 0.0001220703125, -0.0009765625, -0.001922607421875, -0.001617431640625, -0.000762939453125, -0.00091552734375, -0.001861572265625, -0.002166748046875, -0.0015869140625, -0.0013427734375, -0.00164794921875, -0.001129150390625, 0.00079345703125, 0.002410888671875, 0.002288818359375, 0.00140380859375, 0.00152587890625, 0.002410888671875, 0.002227783203125, 0.000732421875, -0.00030517578125, -0.000244140625, -0.0001220703125, -0.000762939453125, -0.00140380859375, -0.001190185546875, -0.00091552734375, -0.0013427734375, -0.001739501953125, -0.001129150390625, -9.1552734375e-05, 0.000274658203125, 0.00018310546875, 0.00054931640625, 0.001190185546875, 0.001007080078125, 0.00018310546875, -9.1552734375e-05, 0.000274658203125, 0.0, -0.001007080078125, -0.000885009765625, 0.001129150390625, 0.00299072265625, 0.00262451171875, 0.001068115234375, 0.000518798828125, 0.00103759765625, 0.000762939453125, -0.000885009765625, -0.002166748046875, -0.001861572265625, -0.001190185546875, -0.001373291015625, -0.00189208984375, -0.001556396484375, -0.000579833984375, 9.1552734375e-05, 0.000213623046875, 0.000457763671875, 0.000823974609375, 0.000762939453125, 0.00030517578125, 0.0001220703125, 0.00030517578125, 9.1552734375e-05, -0.000579833984375, -0.001007080078125, -0.00079345703125, -0.00042724609375, -0.000335693359375, -9.1552734375e-05, 0.000640869140625, 0.001220703125, 0.0010986328125, 0.00067138671875, 0.0006103515625, 0.000823974609375, 0.00067138671875, 0.000152587890625, -0.0001220703125, 3.0517578125e-05, 3.0517578125e-05, -0.00030517578125, -0.000640869140625, -0.00054931640625, -0.0003662109375, -0.00042724609375, -0.00079345703125, -0.001251220703125, -0.00164794921875, -0.001739501953125, -0.001373291015625, -0.00091552734375, -0.000762939453125, -0.00115966796875, -0.001678466796875, -0.0018310546875, -0.001678466796875, -0.0013427734375, -0.000732421875, 0.000335693359375, 0.0013427734375, 0.001739501953125, 0.001739501953125, 0.001922607421875, 0.0020751953125, 0.00146484375, 9.1552734375e-05, -0.001068115234375, -0.001251220703125, -0.000946044921875, -0.0009765625, -0.001312255859375, -0.001220703125, -0.000701904296875, -0.000457763671875, -0.000762939453125, -0.001007080078125, -0.0006103515625, 0.000152587890625, 0.000518798828125, 0.00054931640625, 0.000701904296875, 0.0009765625, 0.000732421875, -0.00030517578125, -0.001434326171875, -0.00177001953125, -0.00128173828125, -0.00042724609375, 0.0001220703125, 0.00042724609375, 0.000518798828125, 0.000457763671875, 0.00030517578125, 0.000152587890625, -3.0517578125e-05, -0.00042724609375, -0.000823974609375, -0.000885009765625, -0.000518798828125, -0.000244140625, -0.0003662109375, -0.000640869140625, -0.00067138671875, -0.0006103515625, -0.00079345703125, -0.00103759765625, -0.000732421875, 0.000244140625, 0.001068115234375, 0.00152587890625, 0.001861572265625, 0.002288818359375, 0.002197265625, 0.001129150390625, -0.000213623046875, -0.000701904296875, -0.0003662109375, -0.0001220703125, -0.00042724609375, -0.00042724609375, 6.103515625e-05, 0.000518798828125, 0.000274658203125, -0.000274658203125, -0.00030517578125, 0.00018310546875, 0.00048828125, 0.00054931640625, 0.00067138671875, 0.00079345703125, 0.00018310546875, -0.000946044921875, -0.001800537109375, -0.001953125, -0.001861572265625, -0.00189208984375, -0.001678466796875, -0.000946044921875, -0.000335693359375, -0.000335693359375, -0.000732421875, -0.000762939453125, -0.00054931640625, -0.000732421875, -0.001129150390625, -0.00103759765625, -0.000244140625, 0.0006103515625, 0.0010986328125, 0.0010986328125, 0.000762939453125, 0.000213623046875, -3.0517578125e-05, 0.000518798828125, 0.001495361328125, 0.001739501953125, 0.000946044921875, 0.000274658203125, 0.000579833984375, 0.001129150390625, 0.0006103515625, -0.000885009765625, -0.0020751953125, -0.00244140625, -0.0025634765625, -0.002685546875, -0.002105712890625, -0.00054931640625, 0.000885009765625, 0.0010986328125, 0.000396728515625, -0.000152587890625, -6.103515625e-05, 0.0003662109375, 0.000823974609375, 0.001251220703125, 0.00146484375, 0.001129150390625, 0.000518798828125, 0.00018310546875, 0.000213623046875, 0.00018310546875, -9.1552734375e-05, -9.1552734375e-05, 0.000396728515625, 0.0008544921875, 0.0008544921875, 0.000640869140625, 0.0006103515625, 0.0003662109375, -0.000335693359375, -0.001068115234375, -0.001251220703125, -0.00091552734375, -0.000732421875, -0.000823974609375, -0.000732421875, -9.1552734375e-05, 0.000640869140625, 0.00079345703125, 0.00054931640625, 0.000457763671875, 0.00067138671875, 0.00103759765625, 0.00146484375, 0.00164794921875, 0.00164794921875, 0.001434326171875, 0.0013427734375, 0.001373291015625, 0.001312255859375, 0.001068115234375, 0.0008544921875, 0.00079345703125, 0.000579833984375, 6.103515625e-05, -0.00042724609375, -0.00042724609375, -0.000152587890625, -0.000274658203125, -0.000946044921875, -0.00152587890625, -0.001678466796875, -0.001678466796875, -0.001953125, -0.00213623046875, -0.0020751953125, -0.0018310546875, -0.00164794921875, -0.001434326171875, -0.0008544921875, 3.0517578125e-05, 0.000823974609375, 0.00146484375, 0.001953125, 0.002288818359375, 0.00213623046875, 0.001708984375, 0.00164794921875, 0.0020751953125, 0.002471923828125, 0.002288818359375, 0.001708984375, 0.001220703125, 0.00079345703125, 0.000213623046875, -0.0006103515625, -0.001129150390625, -0.001129150390625, -0.001007080078125, -0.001434326171875, -0.002471923828125, -0.00341796875, -0.003631591796875, -0.003143310546875, -0.0025634765625, -0.00244140625, -0.00262451171875, -0.002685546875, -0.00238037109375, -0.00177001953125, -0.001129150390625, -0.000335693359375, 0.000701904296875, 0.001617431640625, 0.00201416015625, 0.001800537109375, 0.001617431640625, 0.00177001953125, 0.002349853515625, 0.002716064453125, 0.002532958984375, 0.001983642578125, 0.001434326171875, 0.001068115234375, 0.000701904296875, 6.103515625e-05, -0.000732421875, -0.00128173828125, -0.00128173828125, -0.001068115234375, -0.001007080078125, -0.0010986328125, -0.0010986328125, -0.000946044921875, -0.0008544921875, -0.001129150390625, -0.00146484375, -0.001678466796875, -0.001678466796875, -0.00152587890625, -0.001068115234375, -0.000152587890625, 0.0010986328125, 0.002166748046875, 0.002655029296875, 0.002532958984375, 0.002105712890625, 0.001678466796875, 0.001434326171875, 0.001373291015625, 0.001251220703125, 0.00091552734375, 0.000457763671875, 6.103515625e-05, -0.000335693359375, -0.000762939453125, -0.001068115234375, -0.00103759765625, -0.00091552734375, -0.0010986328125, -0.0018310546875, -0.002471923828125, -0.00244140625, -0.001861572265625, -0.00146484375, -0.001556396484375, -0.0015869140625, -0.001190185546875, -0.000518798828125, -9.1552734375e-05, -0.0001220703125, -0.000213623046875, 9.1552734375e-05, 0.000762939453125, 0.001312255859375, 0.00146484375, 0.001220703125, 0.001220703125, 0.001739501953125, 0.002471923828125, 0.002593994140625, 0.00201416015625, 0.00115966796875, 0.00042724609375, -0.000274658203125, -0.001007080078125, -0.00146484375, -0.001129150390625, -0.000457763671875, -0.000274658203125, -0.000946044921875, -0.0018310546875, -0.0023193359375, -0.00213623046875, -0.001556396484375, -0.000946044921875, -0.000579833984375, -0.0003662109375, -0.0001220703125, 0.000274658203125, 0.0006103515625, 0.0006103515625, 0.000213623046875, 0.0, 0.0, -3.0517578125e-05, -6.103515625e-05, 0.0003662109375, 0.00140380859375, 0.0023193359375, 0.0023193359375, 0.001495361328125, 0.000762939453125, 0.000579833984375, 0.0006103515625, 0.0006103515625, 0.000732421875, 0.0008544921875, 0.00054931640625, -0.000244140625, -0.0008544921875, -0.001007080078125, -0.00103759765625, -0.001312255859375, -0.0013427734375, -0.00054931640625, 0.000701904296875, 0.00152587890625, 0.00177001953125, 0.001800537109375, 0.00177001953125, 0.001129150390625, 0.0, -0.000823974609375, -0.00079345703125, -0.00054931640625, -0.0006103515625, -0.00067138671875, -9.1552734375e-05, 0.000579833984375, 0.00054931640625, -0.000152587890625, -0.000518798828125, -0.000274658203125, -0.00018310546875, -0.000518798828125, -0.00067138671875, 3.0517578125e-05, 0.000701904296875, 0.00030517578125, -0.00091552734375, -0.00189208984375, -0.001953125, -0.001708984375, -0.001708984375, -0.00152587890625, -0.00079345703125, 9.1552734375e-05, 0.000335693359375, -6.103515625e-05, -0.000335693359375, 0.0, 0.000732421875, 0.001220703125, 0.00140380859375, 0.0015869140625, 0.0018310546875, 0.00189208984375, 0.001495361328125, 0.00079345703125, 0.00030517578125, 0.000213623046875, 0.000152587890625, -0.000152587890625, -0.00067138671875, -0.0009765625, -0.001251220703125, -0.001739501953125, -0.00244140625, -0.0030517578125, -0.003387451171875, -0.00341796875, -0.003173828125, -0.00244140625, -0.001312255859375, -0.000274658203125, 0.000335693359375, 0.0008544921875, 0.00140380859375, 0.001678466796875, 0.001434326171875, 0.00091552734375, 0.0008544921875, 0.00128173828125, 0.0015869140625, 0.001495361328125, 0.00146484375, 0.001617431640625, 0.00146484375, 0.000701904296875, -0.00018310546875, -0.000396728515625, -0.000213623046875, -0.0003662109375, -0.00103759765625, -0.00152587890625, -0.001495361328125, -0.001495361328125, -0.001922607421875, -0.002471923828125, -0.0025634765625, -0.00225830078125, -0.001861572265625, -0.001434326171875, -0.000701904296875, 0.00018310546875, 0.000762939453125, 0.0009765625, 0.001190185546875, 0.001556396484375, 0.001953125, 0.002288818359375, 0.002532958984375, 0.002777099609375, 0.002655029296875, 0.0023193359375, 0.00189208984375, 0.001434326171875, 0.000885009765625, 0.000335693359375, -3.0517578125e-05, -0.000244140625, -0.00067138671875, -0.00146484375, -0.002197265625, -0.00244140625, -0.0025634765625, -0.0030517578125, -0.003692626953125, -0.00372314453125, -0.003143310546875, -0.002532958984375, -0.00213623046875, -0.001556396484375, -0.00048828125, 0.00042724609375, 0.000701904296875, 0.000640869140625, 0.000823974609375, 0.001251220703125, 0.001678466796875, 0.0020751953125, 0.002593994140625, 0.003021240234375, 0.002899169921875, 0.00250244140625, 0.00238037109375, 0.00250244140625, 0.001953125, 0.00054931640625, -0.000518798828125, -0.00048828125, -3.0517578125e-05, -0.000518798828125, -0.001861572265625, -0.00286865234375, -0.002960205078125, -0.0028076171875, -0.00299072265625, -0.003265380859375, -0.0030517578125, -0.00262451171875, -0.002227783203125, -0.001617431640625, -0.000762939453125, -0.000244140625, -0.00042724609375, -0.000701904296875, -0.000396728515625, 0.000274658203125, 0.00048828125, 0.000274658203125, 0.00048828125, 0.001220703125, 0.001373291015625, 0.000732421875, 0.000274658203125, 0.000885009765625, 0.001739501953125, 0.001708984375, 0.001190185546875, 0.001190185546875, 0.00146484375, 0.00067138671875, -0.001220703125, -0.00262451171875, -0.002716064453125, -0.002471923828125, -0.002960205078125, -0.00341796875, -0.00274658203125, -0.001373291015625, -0.000823974609375, -0.0010986328125, -0.00103759765625, -0.000152587890625, 0.000732421875, 0.000823974609375, 0.00079345703125, 0.00140380859375, 0.00213623046875, 0.002288818359375, 0.001953125, 0.001678466796875, 0.00146484375, 0.00091552734375, 0.000244140625, 0.000274658203125, 0.001007080078125, 0.00152587890625, 0.00128173828125, 0.000701904296875, 0.000244140625, -0.00030517578125, -0.0013427734375, -0.00244140625, -0.00299072265625, -0.0029296875, -0.002655029296875, -0.002410888671875, -0.0020751953125, -0.00152587890625, -0.001007080078125, -0.00067138671875, -0.000518798828125, -0.000274658203125, 0.0001220703125, 0.000823974609375, 0.0018310546875, 0.00274658203125, 0.003204345703125, 0.00311279296875, 0.002716064453125, 0.00213623046875, 0.00140380859375, 0.000762939453125, 0.000579833984375, 0.00079345703125, 0.000823974609375, 0.000274658203125, -0.00054931640625, -0.00115966796875, -0.001434326171875, -0.001617431640625, -0.001861572265625, -0.002197265625, -0.002471923828125, -0.00262451171875, -0.00250244140625, -0.002166748046875, -0.001708984375, -0.001129150390625, -0.00042724609375, 0.000335693359375, 0.0009765625, 0.001312255859375, 0.001556396484375, 0.001739501953125, 0.00177001953125, 0.00140380859375, 0.0009765625, 0.0009765625, 0.00115966796875, 0.001007080078125, 0.000335693359375, -0.000335693359375, -0.00054931640625, -0.000640869140625, -0.000946044921875, -0.001312255859375, -0.001312255859375, -0.001129150390625, -0.00115966796875, -0.001251220703125, -0.001068115234375, -0.00079345703125, -0.001007080078125, -0.00164794921875, -0.001983642578125, -0.0018310546875, -0.001495361328125, -0.001495361328125, -0.00146484375, -0.000946044921875, -0.000213623046875, 9.1552734375e-05, -9.1552734375e-05, -6.103515625e-05, 0.00048828125, 0.001129150390625, 0.001495361328125, 0.0015869140625, 0.001739501953125, 0.002044677734375, 0.00213623046875, 0.001953125, 0.001678466796875, 0.00152587890625, 0.001373291015625, 0.001068115234375, 0.00054931640625, -6.103515625e-05, -0.00067138671875, -0.001129150390625, -0.00152587890625, -0.001678466796875, -0.001739501953125, -0.001800537109375, -0.00189208984375, -0.00189208984375, -0.00164794921875, -0.001190185546875, -0.0006103515625, -6.103515625e-05, 0.000518798828125, 0.000946044921875, 0.00103759765625, 0.0006103515625, 0.000213623046875, 0.000152587890625, 0.00030517578125, 0.00018310546875, -0.000152587890625, -3.0517578125e-05, 0.0006103515625, 0.001129150390625, 0.001068115234375, 0.001007080078125, 0.001251220703125, 0.00128173828125, 0.00054931640625, -0.000518798828125, -0.000885009765625, -0.000518798828125, -0.00048828125, -0.00146484375, -0.00250244140625, -0.002899169921875, -0.00286865234375, -0.003082275390625, -0.003173828125, -0.002349853515625, -0.000823974609375, 0.0003662109375, 0.0008544921875, 0.001129150390625, 0.00164794921875, 0.0018310546875, 0.001556396484375, 0.00128173828125, 0.0013427734375, 0.00146484375, 0.001251220703125, 0.001220703125, 0.001922607421875, 0.0028076171875, 0.002838134765625, 0.00201416015625, 0.001220703125, 0.0010986328125, 0.00091552734375, 0.000213623046875, -0.00048828125, -0.0006103515625, -0.000579833984375, -0.001129150390625, -0.002166748046875, -0.002899169921875, -0.002777099609375, -0.0023193359375, -0.002044677734375, -0.0018310546875, -0.00146484375, -0.0009765625, -0.000640869140625, -0.000396728515625, 0.0, 0.0003662109375, 0.000579833984375, 0.000640869140625, 0.0006103515625, 0.00067138671875, 0.00054931640625, 0.00030517578125, 9.1552734375e-05, 9.1552734375e-05, 3.0517578125e-05, -0.000213623046875, -0.0003662109375, -0.00030517578125, 0.0, 0.000457763671875, 0.000762939453125, 0.000946044921875, 0.00091552734375, 0.00054931640625, -0.0001220703125, -0.00091552734375, -0.00140380859375, -0.00146484375, -0.0013427734375, -0.00140380859375, -0.00164794921875, -0.001861572265625, -0.001800537109375, -0.0015869140625, -0.001373291015625, -0.001068115234375, -0.00048828125, 0.000213623046875, 0.000518798828125, 0.000396728515625, 0.0001220703125, 0.000244140625, 0.00054931640625, 0.00067138671875, 0.00054931640625, 0.0003662109375, 0.0003662109375, 0.000457763671875, 0.000701904296875, 0.001007080078125, 0.00103759765625, 0.000640869140625, 0.000274658203125, 0.0003662109375, 0.00103759765625, 0.0015869140625, 0.001708984375, 0.001556396484375, 0.00152587890625, 0.001251220703125, 0.000396728515625, -0.000640869140625, -0.001190185546875, -0.00103759765625, -0.000762939453125, -0.001007080078125, -0.001495361328125, -0.001739501953125, -0.00177001953125, -0.00177001953125, -0.001678466796875, -0.0010986328125, -0.0001220703125, 0.000732421875, 0.0010986328125, 0.001068115234375, 0.001068115234375, 0.001129150390625, 0.0009765625, 0.000640869140625, 0.00042724609375, 0.0003662109375, 0.000213623046875, -9.1552734375e-05, -0.000579833984375, -0.000885009765625, -0.0009765625, -0.00091552734375, -0.000885009765625, -0.000762939453125, -0.000518798828125, -0.000213623046875, -0.000152587890625, -0.000274658203125, -0.000244140625, 3.0517578125e-05, 0.000244140625, 0.00018310546875, 0.000152587890625, 0.000335693359375, 0.00048828125, 9.1552734375e-05, -0.000823974609375, -0.00152587890625, -0.00164794921875, -0.0015869140625, -0.001617431640625, -0.001434326171875, -0.0006103515625, 0.00042724609375, 0.000946044921875, 0.00091552734375, 0.000946044921875, 0.0010986328125, 0.000946044921875, 0.00018310546875, -0.000335693359375, -0.00018310546875, 3.0517578125e-05, -0.000396728515625, -0.00115966796875, -0.00140380859375, -0.001007080078125, -0.000762939453125, -0.000885009765625, -0.000762939453125, 6.103515625e-05, 0.0008544921875, 0.00091552734375, 0.000457763671875, 0.000335693359375, 0.000640869140625, 0.000762939453125, 0.000396728515625, -9.1552734375e-05, -0.000274658203125, -0.00042724609375, -0.00079345703125, -0.00103759765625, -0.00091552734375, -0.000579833984375, -0.00030517578125, -0.0001220703125, 6.103515625e-05, 0.000213623046875, 0.000152587890625, -6.103515625e-05, -0.000152587890625, -9.1552734375e-05, 3.0517578125e-05, 0.000213623046875, 0.000579833984375, 0.00103759765625, 0.001220703125, 0.0010986328125, 0.000946044921875, 0.00091552734375, 0.00091552734375, 0.00067138671875, 0.000274658203125, 9.1552734375e-05, 0.000152587890625, 0.000244140625, 3.0517578125e-05, -0.0003662109375, -0.000762939453125, -0.00103759765625, -0.001190185546875, -0.001373291015625, -0.00152587890625, -0.001678466796875, -0.00164794921875, -0.00128173828125, -0.000518798828125, 0.000274658203125, 0.00079345703125, 0.0008544921875, 0.00067138671875, 0.00042724609375, 0.00030517578125, 0.00030517578125, 0.000335693359375, 0.00042724609375, 0.00054931640625, 0.000640869140625, 0.00054931640625, 0.000213623046875, -0.00018310546875, -0.000457763671875, -0.00048828125, -0.00048828125, -0.000640869140625, -0.00079345703125, -0.00067138671875, -0.000244140625, 0.00018310546875, 0.0003662109375, 0.000335693359375, 0.000213623046875, 9.1552734375e-05, -9.1552734375e-05, -0.000244140625, -0.00030517578125, -0.000335693359375, -0.000396728515625, -0.00054931640625, -0.00079345703125, -0.001068115234375, -0.001129150390625, -0.00079345703125, -0.000152587890625, 0.000396728515625, 0.000640869140625, 0.000701904296875, 0.000823974609375, 0.00079345703125, 0.000274658203125, -0.00054931640625, -0.0009765625, -0.000823974609375, -0.00054931640625, -0.0006103515625, -0.000823974609375, -0.000732421875, -0.000335693359375, -0.000213623046875, -0.000518798828125, -0.000518798828125, 0.000335693359375, 0.001495361328125, 0.002105712890625, 0.002044677734375, 0.00189208984375, 0.002044677734375, 0.002105712890625, 0.001617431640625, 0.000823974609375, 0.00018310546875, -6.103515625e-05, -3.0517578125e-05, 0.0, 6.103515625e-05, 6.103515625e-05, -0.000152587890625, -0.000518798828125, -0.00067138671875, -0.00042724609375, 0.0, 0.000152587890625, 0.00018310546875, 0.0003662109375, 0.00067138671875, 0.0008544921875, 0.00067138671875, 0.000396728515625, 0.000274658203125, 0.00018310546875, -0.0001220703125, -0.0003662109375, -0.000213623046875, 0.000213623046875, 0.00048828125, 0.00042724609375, 0.000274658203125, 0.00030517578125, 0.00030517578125, -9.1552734375e-05, -0.00067138671875, -0.000946044921875, -0.00067138671875, -0.00042724609375, -0.00054931640625, -0.00079345703125, -0.000823974609375, -0.00079345703125, -0.000946044921875, -0.00115966796875, -0.00079345703125, 0.0001220703125, 0.001068115234375, 0.001373291015625, 0.001190185546875, 0.000885009765625, 0.000701904296875, 0.000396728515625, -6.103515625e-05, -0.000518798828125, -0.000579833984375, -0.000335693359375, -0.0001220703125, -0.000213623046875, -0.00042724609375, -0.00048828125, -0.00030517578125, -0.000213623046875, -0.00048828125, -0.001068115234375, -0.00152587890625, -0.0015869140625, -0.001251220703125, -0.0008544921875, -0.000762939453125, -0.0008544921875, -0.0008544921875, -0.000518798828125, 9.1552734375e-05, 0.0003662109375, 0.0, -0.0006103515625, -0.000823974609375, -0.00054931640625, -0.000244140625, -0.000274658203125, -0.0003662109375, -0.0001220703125, 0.000244140625, 0.000244140625, -0.00018310546875, -0.00048828125, -0.000274658203125, 0.00018310546875, 0.000457763671875, 0.00048828125, 0.000518798828125, 0.00054931640625, 0.00018310546875, -0.0006103515625, -0.001373291015625, -0.0015869140625, -0.001373291015625, -0.001129150390625, -0.00091552734375, -0.000640869140625, -0.00018310546875, 0.000152587890625, 0.000274658203125, 0.000152587890625, 0.0, -0.000244140625, -0.00030517578125, 3.0517578125e-05, 0.000762939453125, 0.00128173828125, 0.001129150390625, 0.000579833984375, 0.000396728515625, 0.0008544921875, 0.001220703125, 0.00103759765625, 0.000640869140625, 0.000732421875, 0.00115966796875, 0.001373291015625, 0.0010986328125, 0.00067138671875, 0.00048828125, 0.000335693359375, -9.1552734375e-05, -0.0006103515625, -0.00091552734375, -0.00103759765625, -0.001068115234375, -0.00103759765625, -0.000732421875, 3.0517578125e-05, 0.00067138671875, 0.000946044921875, 0.0008544921875, 0.000701904296875, 0.00079345703125, 0.0008544921875, 0.000885009765625, 0.000701904296875, 0.000518798828125, 0.000396728515625, 0.00030517578125, 0.0, -0.000518798828125, -0.001007080078125, -0.001129150390625, -0.00091552734375, -0.000701904296875, -0.00079345703125, -0.00091552734375, -0.00079345703125, -0.000457763671875, -0.000335693359375, -0.00067138671875, -0.001129150390625, -0.001220703125, -0.000762939453125, -0.00018310546875, 0.0, -0.000244140625, -0.000701904296875, -0.0009765625, -0.0009765625, -0.000946044921875, -0.0009765625, -0.00103759765625, -0.000946044921875, -0.000701904296875, -0.00048828125, -0.000579833984375, -0.000640869140625, -0.00042724609375, 6.103515625e-05, 0.000457763671875, 0.000518798828125, 0.000396728515625, 0.000518798828125, 0.000762939453125, 0.000732421875, 0.000274658203125, -0.000244140625, -0.000457763671875, -0.000457763671875, -0.000640869140625, -0.000946044921875, -0.000823974609375, -9.1552734375e-05, 0.000732421875, 0.000946044921875, 0.00054931640625, 0.000213623046875, 0.00018310546875, 0.00030517578125, 0.000244140625, 0.000213623046875, 0.000396728515625, 0.00067138671875, 0.000579833984375, 3.0517578125e-05, -0.000640869140625, -0.0010986328125, -0.001251220703125, -0.00115966796875, -0.00091552734375, -0.00048828125, 0.0, 0.0003662109375, 0.0006103515625, 0.00048828125, 0.00030517578125, 0.000335693359375, 0.000701904296875, 0.0010986328125, 0.001068115234375, 0.000701904296875, 0.000885009765625, 0.001922607421875, 0.003173828125, 0.00335693359375, 0.002471923828125, 0.00146484375, 0.0010986328125, 0.0008544921875, 0.00030517578125, -0.0003662109375, -0.000396728515625, 0.000213623046875, 0.0006103515625, 0.00018310546875, -0.000762939453125, -0.00128173828125, -0.001190185546875, -0.000946044921875, -0.0010986328125, -0.001556396484375, -0.001556396484375, -0.000885009765625, -3.0517578125e-05, 0.000335693359375, 0.000213623046875, -0.0001220703125, -0.00018310546875, -9.1552734375e-05, -6.103515625e-05, -0.0001220703125, 0.0001220703125, 0.00054931640625, 0.00091552734375, 0.0008544921875, 0.00054931640625, 0.000274658203125, 0.00018310546875, 0.000213623046875, 0.000152587890625, 0.0001220703125, 0.0001220703125, 0.000152587890625, 0.000152587890625, 6.103515625e-05, -0.0001220703125, -0.000396728515625, -0.000732421875, -0.001129150390625, -0.0013427734375, -0.0013427734375, -0.001129150390625, -0.0008544921875, -0.00048828125, 0.0, 0.000518798828125, 0.000823974609375, 0.000518798828125, 3.0517578125e-05, -6.103515625e-05, 0.000335693359375, 0.0008544921875, 0.0010986328125, 0.001007080078125, 0.00091552734375, 0.0008544921875, 0.000518798828125, 0.000152587890625, 3.0517578125e-05, 3.0517578125e-05, 6.103515625e-05, -3.0517578125e-05, 9.1552734375e-05, 0.000457763671875, 0.000518798828125, 6.103515625e-05, -0.000396728515625, -0.00018310546875, 0.0003662109375, 0.00030517578125, -0.000213623046875, -0.00018310546875, 0.0006103515625, 0.00128173828125, 0.0008544921875, -9.1552734375e-05, -0.000579833984375, -0.000396728515625, -0.000213623046875, -0.000335693359375, -0.000152587890625, 0.00048828125, 0.00091552734375, 0.000579833984375, 3.0517578125e-05, 3.0517578125e-05, 0.00030517578125, 0.00030517578125, 0.0001220703125, 0.000335693359375, 0.00091552734375, 0.00091552734375, 0.000213623046875, -0.000457763671875, -0.0006103515625, -0.0006103515625, -0.000762939453125, -0.000762939453125, -9.1552734375e-05, 0.000762939453125, 0.0010986328125, 0.000946044921875, 0.001007080078125, 0.001251220703125, 0.0010986328125, 0.000396728515625, -0.00018310546875, 6.103515625e-05, 0.000579833984375, 0.000457763671875, -0.000213623046875, -0.000762939453125, -0.000823974609375, -0.00079345703125, -0.001007080078125, -0.00115966796875, -0.0010986328125, -0.0008544921875, -0.000640869140625, -0.00048828125, -0.000335693359375, -0.0001220703125, 0.0001220703125, 0.000396728515625, 0.000579833984375, 0.00048828125, 0.000213623046875, 0.000274658203125, 0.000579833984375, 0.000885009765625, 0.000762939453125, 0.000396728515625, 6.103515625e-05, -0.000152587890625, -0.0003662109375, -0.00054931640625, -0.00067138671875, -0.000701904296875, -0.000762939453125, -0.000701904296875, -0.000396728515625, -0.0001220703125, -0.0001220703125, -0.00018310546875, -9.1552734375e-05, 9.1552734375e-05, 0.0, -0.000396728515625, -0.00054931640625, -0.000274658203125, 0.0, 0.0, 0.0, 0.00030517578125, 0.00067138671875, 0.000579833984375, 0.000213623046875, 0.000152587890625, 0.0006103515625, 0.001129150390625, 0.001251220703125, 0.0010986328125, 0.000885009765625, 0.00054931640625, 6.103515625e-05, -0.000274658203125, -0.000274658203125, -0.00018310546875, -0.000335693359375, -0.000457763671875, -0.0001220703125, 0.00042724609375, 0.000457763671875, 0.0, -0.00030517578125, -0.000152587890625, 9.1552734375e-05, 3.0517578125e-05, -9.1552734375e-05, 0.00030517578125, 0.000823974609375, 0.000732421875, 3.0517578125e-05, -0.000640869140625, -0.00079345703125, -0.00067138671875, -0.00048828125, -0.0003662109375, 0.0, 0.0003662109375, 0.00042724609375, 0.000213623046875, -6.103515625e-05, -0.0003662109375, -0.000885009765625, -0.00140380859375, -0.001495361328125, -0.00091552734375, 0.0, 0.00079345703125, 0.001220703125, 0.00128173828125, 0.001007080078125, 0.000396728515625, -0.000244140625, -0.000457763671875, -0.000274658203125, -9.1552734375e-05, -6.103515625e-05, -6.103515625e-05, 6.103515625e-05, 6.103515625e-05, -0.000244140625, -0.000732421875, -0.00103759765625, -0.0010986328125, -0.001068115234375, -0.001007080078125, -0.000640869140625, -3.0517578125e-05, 0.000396728515625, 0.00030517578125, -0.00018310546875, -0.00054931640625, -0.000823974609375, -0.000946044921875, -0.000823974609375, -0.000244140625, 0.00067138671875, 0.0013427734375, 0.00128173828125, 0.000762939453125, 0.00030517578125, 0.0, -0.00048828125, -0.000885009765625, -0.000823974609375, -0.000152587890625, 0.0003662109375, 0.000335693359375, 9.1552734375e-05, 0.0, -6.103515625e-05, -0.00067138671875, -0.00146484375, -0.001678466796875, -0.001190185546875, -0.00048828125, -9.1552734375e-05, 0.00018310546875, 0.00054931640625, 0.000732421875, 0.00030517578125, -0.0003662109375, -0.00067138671875, -0.000518798828125, -0.000152587890625, 0.00030517578125, 0.001007080078125, 0.00164794921875, 0.00164794921875, 0.001007080078125, 0.000396728515625, 0.000274658203125, 0.000396728515625, 0.0003662109375, 0.000274658203125, 0.000518798828125, 0.000823974609375, 0.000640869140625, -0.00018310546875, -0.0010986328125, -0.001617431640625, -0.001678466796875, -0.001556396484375, -0.001190185546875, -0.000762939453125, -0.000396728515625, -0.000213623046875, 6.103515625e-05, 0.000518798828125, 0.0008544921875, 0.00079345703125, 0.000396728515625, 0.000152587890625, 0.00030517578125, 0.0006103515625, 0.000701904296875, 0.0006103515625, 0.000457763671875, 0.000213623046875, -9.1552734375e-05, -0.000457763671875, -0.000732421875, -0.0009765625, -0.00103759765625, -0.0008544921875, -0.000579833984375, -0.00042724609375, -0.00048828125, -0.000518798828125, -0.000396728515625, -0.00030517578125, -0.000518798828125, -0.0008544921875, -0.0008544921875, -0.00048828125, -9.1552734375e-05, 9.1552734375e-05, 0.000396728515625, 0.0009765625, 0.00164794921875, 0.00177001953125, 0.001220703125, 0.00042724609375, -3.0517578125e-05, -3.0517578125e-05, 0.000152587890625, 0.0003662109375, 0.00042724609375, 0.00042724609375, 0.000274658203125, 6.103515625e-05, -0.000152587890625, -0.000396728515625, -0.00048828125, -0.00048828125, -0.000457763671875, -0.000396728515625, -0.00030517578125, 0.0, 0.0003662109375, 0.000396728515625, 6.103515625e-05, -0.000396728515625, -0.0006103515625, -0.00048828125, -0.00030517578125, -0.000152587890625, 0.000213623046875, 0.000762939453125, 0.00128173828125, 0.0013427734375, 0.0009765625, 0.00048828125, 0.000274658203125, 0.00030517578125, 0.0003662109375, 0.000396728515625, 0.00042724609375, 0.000396728515625, -9.1552734375e-05, -0.0008544921875, -0.001373291015625, -0.001373291015625, -0.0010986328125, -0.000946044921875, -0.000885009765625, -0.000701904296875, -0.000213623046875, 0.000213623046875, 0.00018310546875, -0.0001220703125, -0.000335693359375, -0.00030517578125, -0.000244140625, -0.0003662109375, -0.000396728515625, -0.000213623046875, -3.0517578125e-05, 6.103515625e-05, 0.0, -3.0517578125e-05, -9.1552734375e-05, -0.00030517578125, -0.000579833984375, -0.000579833984375, -0.00030517578125, -6.103515625e-05, 3.0517578125e-05, 3.0517578125e-05, 0.000213623046875, 0.00030517578125, -3.0517578125e-05, -0.000640869140625, -0.00103759765625, -0.00103759765625, -0.000701904296875, -0.0003662109375, -0.000213623046875, -0.000213623046875, -0.00030517578125, -0.00054931640625, -0.000762939453125, -0.000823974609375, -0.000701904296875, -0.000396728515625, 9.1552734375e-05, 0.00048828125, 0.00067138671875, 0.00054931640625, 0.000396728515625, 0.0003662109375, 0.000396728515625, 0.000244140625, -9.1552734375e-05, -0.000274658203125, -0.0001220703125, 0.00018310546875, 0.000274658203125, 0.000152587890625, -0.00018310546875, -0.00048828125, -0.000640869140625, -0.000640869140625, -0.000396728515625, -0.0001220703125, 6.103515625e-05, 0.000152587890625, 0.000213623046875, 0.0003662109375, 0.000396728515625, 0.00018310546875, -0.000244140625, -0.000335693359375, -3.0517578125e-05, 0.000579833984375, 0.00091552734375, 0.000885009765625, 0.00054931640625, 0.00030517578125, 0.000274658203125, 0.00042724609375, 0.000579833984375, 0.00067138671875, 0.000732421875, 0.000823974609375, 0.0008544921875, 0.000640869140625, 0.000274658203125, -3.0517578125e-05, -0.0001220703125, -0.000213623046875, -0.0003662109375, -0.000457763671875, -0.000274658203125, 9.1552734375e-05, 0.000244140625, 9.1552734375e-05, 0.0, 3.0517578125e-05, 0.0, -0.000274658203125, -0.000701904296875, -0.000762939453125, -0.000457763671875, -6.103515625e-05, 0.000152587890625, 0.00030517578125, 0.000457763671875, 0.000274658203125, -0.0003662109375, -0.0008544921875, -0.000640869140625, 0.00018310546875, 0.000946044921875, 0.001251220703125, 0.001220703125, 0.0010986328125, 0.000823974609375, 0.00030517578125, -0.0001220703125, -0.000152587890625, 3.0517578125e-05, 0.000152587890625, -3.0517578125e-05, -0.000152587890625, -9.1552734375e-05, 0.0, -0.000152587890625, -0.00048828125, -0.000640869140625, -0.00054931640625, -0.000396728515625, -0.00030517578125, -0.000213623046875, -6.103515625e-05, 0.000152587890625, 0.00030517578125, 0.00030517578125, 0.000152587890625, 0.0, -0.000152587890625, -0.000244140625, -0.000244140625, -6.103515625e-05, 0.000335693359375, 0.000732421875, 0.0008544921875, 0.0006103515625, 0.0001220703125, -0.000244140625, -0.00030517578125, -3.0517578125e-05, 0.00030517578125, 0.0003662109375, 0.0, -0.00048828125, -0.000823974609375, -0.0009765625, -0.00103759765625, -0.001007080078125, -0.0006103515625, 0.0001220703125, 0.000579833984375, 0.00042724609375, -3.0517578125e-05, -9.1552734375e-05, 0.00030517578125, 0.0006103515625, 0.000518798828125, 0.00030517578125, 0.000335693359375, 0.0006103515625, 0.00067138671875, 0.000396728515625, 0.000213623046875, 0.000274658203125, 0.00030517578125, 0.0001220703125, -0.000274658203125, -0.00048828125, -0.0003662109375, 3.0517578125e-05, 0.000274658203125, 0.0001220703125, -0.00054931640625, -0.0013427734375, -0.001708984375, -0.001495361328125, -0.001068115234375, -0.000946044921875, -0.001129150390625, -0.001312255859375, -0.001373291015625, -0.00128173828125, -0.001190185546875, -0.000885009765625, -0.0003662109375, 0.00018310546875, 0.000457763671875, 0.000274658203125, -6.103515625e-05, -0.000152587890625, 6.103515625e-05, 0.000335693359375, 0.000396728515625, 0.000244140625, 0.0001220703125, 0.000274658203125, 0.00054931640625, 0.00067138671875, 0.0006103515625, 0.000518798828125, 0.000274658203125, -9.1552734375e-05, -0.00054931640625, -0.000762939453125, -0.00067138671875, -0.000457763671875, -0.000396728515625, -0.000396728515625, -0.000244140625, -0.000213623046875, -0.000396728515625, -0.000640869140625, -0.000579833984375, -0.0003662109375, -0.000274658203125, -0.000396728515625, -0.00042724609375, -9.1552734375e-05, 0.00018310546875, 0.0, -0.00042724609375, -0.0006103515625, -0.000396728515625, -0.000244140625, -0.0003662109375, -0.000457763671875, -0.000213623046875, 6.103515625e-05, 6.103515625e-05, -0.0001220703125, -0.00018310546875, 3.0517578125e-05, 0.00018310546875, 9.1552734375e-05, -0.0001220703125, -0.00018310546875, -9.1552734375e-05, -6.103515625e-05, -9.1552734375e-05, -6.103515625e-05, 9.1552734375e-05, 0.00030517578125, 0.000244140625, -6.103515625e-05, -0.0003662109375, -0.000274658203125, 0.000213623046875, 0.000579833984375, 0.000518798828125, 0.000244140625, 0.000244140625, 0.00054931640625, 0.0008544921875, 0.000640869140625, 0.00018310546875, 0.0001220703125, 0.00054931640625, 0.00091552734375, 0.0008544921875, 0.00048828125, 0.000335693359375, 0.00054931640625, 0.000732421875, 0.00048828125, -9.1552734375e-05, -0.000579833984375, -0.00067138671875, -0.000457763671875, -0.000274658203125, -0.00042724609375, -0.000732421875, -0.00079345703125, -0.000579833984375, -0.000274658203125, -0.000335693359375, -0.00079345703125, -0.001190185546875, -0.001312255859375, -0.001251220703125, -0.0009765625, -0.000701904296875, -0.00054931640625, -0.000732421875, -0.001129150390625, -0.001373291015625, -0.001220703125, -0.000885009765625, -0.00054931640625, -0.000213623046875, 0.000274658203125, 0.00054931640625, 0.00030517578125, -0.00018310546875, -0.00042724609375, -0.000244140625, 0.0001220703125, 0.000244140625, 0.00030517578125, 0.000396728515625, 0.000579833984375, 0.000701904296875, 0.00054931640625, 0.000244140625, -0.000152587890625, -0.000457763671875, -0.00042724609375, 9.1552734375e-05, 0.000701904296875, 0.000885009765625, 0.000640869140625, 0.000244140625, 0.000152587890625, 0.000152587890625, -3.0517578125e-05, -0.000335693359375, -0.00042724609375, -6.103515625e-05, 0.000335693359375, 0.000274658203125, -0.000152587890625, -0.000518798828125, -0.000518798828125, -0.000335693359375, -0.000579833984375, -0.0013427734375, -0.00201416015625, -0.001953125, -0.00140380859375, -0.0008544921875, -0.00048828125, 0.0, 0.00054931640625, 0.00067138671875, 6.103515625e-05, -0.0006103515625, -0.000457763671875, 0.00048828125, 0.00128173828125, 0.00140380859375, 0.001190185546875, 0.001129150390625, 0.0010986328125, 0.000762939453125, 0.0001220703125, -0.000335693359375, -0.000274658203125, 3.0517578125e-05, 0.00042724609375, 0.000762939453125, 0.001068115234375, 0.001190185546875, 0.000946044921875, 0.0003662109375, -0.00030517578125, -0.00091552734375, -0.00115966796875, -0.00091552734375, -0.000274658203125, 0.000244140625, 0.000274658203125, 3.0517578125e-05, -0.000244140625, -0.00048828125, -0.000762939453125, -0.00103759765625, -0.000885009765625, -0.000335693359375, 0.0003662109375, 0.00067138671875, 0.000701904296875, 0.000518798828125, 0.000244140625, -0.000335693359375, -0.00103759765625, -0.00140380859375, -0.001068115234375, -0.00030517578125, 0.00018310546875, -3.0517578125e-05, -0.00054931640625, -0.000701904296875, -0.000579833984375, -0.000579833984375, -0.0009765625, -0.0013427734375, -0.00128173828125, -0.0008544921875, -0.00054931640625, -0.00042724609375, -0.00018310546875, 0.000274658203125, 0.000701904296875, 0.00054931640625, 6.103515625e-05, -0.000274658203125, -0.000213623046875, 3.0517578125e-05, 0.000152587890625, 0.000152587890625, 0.00030517578125, 0.000457763671875, 0.000335693359375, -9.1552734375e-05, -0.000518798828125, -0.000457763671875, 3.0517578125e-05, 0.000579833984375, 0.000823974609375, 0.00067138671875, 0.000396728515625, 0.000152587890625, -9.1552734375e-05, -0.000274658203125, -0.000244140625, 0.0, 0.000213623046875, 0.000396728515625, 0.000518798828125, 0.000579833984375, 0.00048828125, 0.00018310546875, -0.0001220703125, -0.000274658203125, -0.00030517578125, -0.000396728515625, -0.000640869140625, -0.000701904296875, -0.00048828125, -0.0001220703125, 9.1552734375e-05, 6.103515625e-05, -6.103515625e-05, -0.000274658203125, -0.000274658203125, 0.0001220703125, 0.000732421875, 0.001251220703125, 0.001190185546875, 0.0008544921875, 0.000701904296875, 0.000823974609375, 0.00079345703125, 0.000457763671875, 3.0517578125e-05, -6.103515625e-05, 9.1552734375e-05, 0.0001220703125, -6.103515625e-05, -0.00018310546875, -3.0517578125e-05, 0.000213623046875, 0.000213623046875, -0.000396728515625, -0.00103759765625, -0.001190185546875, -0.000701904296875, -0.000152587890625, -0.00018310546875, -0.000823974609375, -0.001434326171875, -0.001556396484375, -0.00115966796875, -0.000732421875, -0.000518798828125, -0.000244140625, 9.1552734375e-05, 0.0003662109375, 0.00042724609375, 0.000274658203125, -3.0517578125e-05, -0.00042724609375, -0.000732421875, -0.00067138671875, -0.00030517578125, -6.103515625e-05, -0.0001220703125, -0.000213623046875, -0.000213623046875, -0.00018310546875, -0.000396728515625, -0.00054931640625, -0.000457763671875, -3.0517578125e-05, 0.000274658203125, 0.000274658203125, 0.0001220703125, 3.0517578125e-05, 6.103515625e-05, 9.1552734375e-05, 0.00018310546875, 0.000244140625, 0.0001220703125, -0.0001220703125, 3.0517578125e-05, 0.00054931640625, 0.001068115234375, 0.001007080078125, 0.00042724609375, 6.103515625e-05, 9.1552734375e-05, 0.000244140625, 0.0001220703125, -6.103515625e-05, -6.103515625e-05, 9.1552734375e-05, 9.1552734375e-05, -0.0001220703125, -0.00042724609375, -0.0006103515625, -0.00054931640625, -0.00042724609375, -0.000244140625, -0.000335693359375, -0.000579833984375, -0.000701904296875, -0.000579833984375, -0.00042724609375, -0.00042724609375, -0.00042724609375, -0.00018310546875, 0.000152587890625, 0.0001220703125, -9.1552734375e-05, 0.0, 0.000518798828125, 0.00091552734375, 0.000823974609375, 0.000457763671875, 0.000396728515625, 0.00048828125, 0.000213623046875, -0.000244140625, -0.000457763671875, -0.000213623046875, -3.0517578125e-05, -0.0001220703125, -9.1552734375e-05, 0.0001220703125, 0.000274658203125, -9.1552734375e-05, -0.00048828125, -0.00042724609375, 0.0001220703125, 0.000579833984375, 0.00054931640625, 0.00048828125, 0.000518798828125, 0.0003662109375, -9.1552734375e-05, -0.000518798828125, -0.0006103515625, -0.00042724609375, -0.00042724609375, -0.000518798828125, -0.0003662109375, -0.00018310546875, -0.000274658203125, -0.00079345703125, -0.0010986328125, -0.00091552734375, -0.000579833984375, -0.000579833984375, -0.000732421875, -0.0006103515625, -0.000244140625, -0.000152587890625, -0.000579833984375, -0.00115966796875, -0.001312255859375, -0.0009765625, -0.000579833984375, -0.000579833984375, -0.000823974609375, -0.000823974609375, -0.000579833984375, -0.000396728515625, -0.00048828125, -0.0006103515625, -0.000244140625, 0.000518798828125, 0.000885009765625, 0.00054931640625, 0.0001220703125, 0.00030517578125, 0.000885009765625, 0.001190185546875, 0.000946044921875, 0.00067138671875, 0.000762939453125, 0.000885009765625, 0.000640869140625, 0.000274658203125, 9.1552734375e-05, 0.0001220703125, 3.0517578125e-05, -3.0517578125e-05, 0.000244140625, 0.000701904296875, 0.000732421875, 0.000274658203125, -9.1552734375e-05, 0.0, 0.000213623046875, 6.103515625e-05, -0.000213623046875, -9.1552734375e-05, 0.000274658203125, 0.000274658203125, -0.0003662109375, -0.001129150390625, -0.001434326171875, -0.001251220703125, -0.000946044921875, -0.000701904296875, -0.0003662109375, 3.0517578125e-05, 0.000274658203125, 0.000335693359375, 0.00018310546875, 0.0, -0.000152587890625, -0.000152587890625, 0.0001220703125, 0.00042724609375, 0.000640869140625, 0.0006103515625, 0.000396728515625, 6.103515625e-05, -0.000335693359375, -0.00054931640625, -0.00048828125, -0.000213623046875, 3.0517578125e-05, 0.000152587890625, 0.0003662109375, 0.00067138671875, 0.000762939453125, 0.00048828125, 6.103515625e-05, -6.103515625e-05, 0.0001220703125, 0.000244140625, 0.000213623046875, 0.000213623046875, 0.00030517578125, 0.000152587890625, -0.00042724609375, -0.0010986328125, -0.001220703125, -0.0008544921875, -0.000518798828125, -0.000762939453125, -0.001190185546875, -0.0013427734375, -0.0010986328125, -0.00079345703125, -0.000640869140625, -0.000579833984375, -0.000518798828125, -0.000457763671875, -0.00042724609375, -0.000274658203125, 3.0517578125e-05, 0.000213623046875, 9.1552734375e-05, -0.00030517578125, -0.000396728515625, -0.000244140625, 0.0, 0.000152587890625, 0.00048828125, 0.000946044921875, 0.001190185546875, 0.0008544921875, 0.000335693359375, 0.000244140625, 0.000946044921875, 0.001617431640625, 0.00164794921875, 0.0009765625, 0.00048828125, 0.000457763671875, 0.000518798828125, 0.000274658203125, -9.1552734375e-05, -0.000152587890625, 6.103515625e-05, -9.1552734375e-05, -0.00067138671875, -0.001251220703125, -0.001312255859375, -0.0009765625, -0.00067138671875, -0.000579833984375, -0.00042724609375, 3.0517578125e-05, 0.000518798828125, 0.000518798828125, 0.00018310546875, -0.000244140625, -0.000335693359375, -0.000152587890625, 0.0001220703125, 0.000274658203125, 0.000274658203125, 0.0001220703125, -0.000152587890625, -0.0003662109375, -0.00054931640625, -0.00067138671875, -0.000732421875, -0.000457763671875, 9.1552734375e-05, 0.000701904296875, 0.00079345703125, 0.000518798828125, 0.000274658203125, 0.00054931640625, 0.00115966796875, 0.0015869140625, 0.001373291015625, 0.000823974609375, 0.000518798828125, 0.000701904296875, 0.00115966796875, 0.001312255859375, 0.00091552734375, 0.000518798828125, 0.000396728515625, 0.00048828125, 0.00030517578125, -0.00030517578125, -0.000640869140625, -0.00030517578125, 0.000244140625, 6.103515625e-05, -0.000946044921875, -0.001922607421875, -0.002044677734375, -0.00128173828125, -0.00054931640625, -0.00054931640625, -0.001129150390625, -0.0015869140625, -0.00140380859375, -0.0008544921875, -0.00042724609375, -0.000335693359375, -0.00030517578125, -9.1552734375e-05, 0.0001220703125, 3.0517578125e-05, -0.000335693359375, -0.000396728515625, 0.00018310546875, 0.0009765625, 0.001251220703125, 0.000762939453125, 0.000213623046875, 0.0, 9.1552734375e-05, 0.00018310546875, 0.000152587890625, 0.000244140625, 0.000335693359375, 0.000152587890625, -0.000457763671875, -0.001129150390625, -0.001556396484375, -0.00164794921875, -0.001434326171875, -0.0009765625, -0.000244140625, 0.00048828125, 0.000762939453125, 0.00048828125, 9.1552734375e-05, 6.103515625e-05, 0.00042724609375, 0.00079345703125, 0.00067138671875, 0.000213623046875, -0.0001220703125, 0.0, 0.000244140625, 0.000274658203125, 6.103515625e-05, -0.0001220703125, -0.0001220703125, -3.0517578125e-05, 6.103515625e-05, 6.103515625e-05, -3.0517578125e-05, -0.000152587890625, -9.1552734375e-05, 0.00018310546875, 0.000457763671875, 0.000396728515625, 0.0, -0.0003662109375, -0.000396728515625, -0.000213623046875, -0.000213623046875, -0.000396728515625, -0.000244140625, 0.000213623046875, 0.000579833984375, 0.0003662109375, -0.00018310546875, -0.000518798828125, -0.00048828125, -0.00042724609375, -0.000579833984375, -0.000762939453125, -0.000640869140625, -0.000213623046875, 0.00018310546875, 0.000244140625, 0.000152587890625, 0.0001220703125, 0.000213623046875, 0.00042724609375, 0.0006103515625, 0.0008544921875, 0.00091552734375, 0.000640869140625, 0.00018310546875, -3.0517578125e-05, 0.0001220703125, 0.000457763671875, 0.000396728515625, 0.0001220703125, 6.103515625e-05, 0.000640869140625, 0.0013427734375, 0.001495361328125, 0.001312255859375, 0.001220703125, 0.001373291015625, 0.0009765625, -0.00030517578125, -0.00164794921875, -0.001953125, -0.00140380859375, -0.001007080078125, -0.00128173828125, -0.00164794921875, -0.0013427734375, -0.00067138671875, -0.000335693359375, -0.00048828125, -0.00054931640625, -3.0517578125e-05, 0.00067138671875, 0.001007080078125, 0.000823974609375, 0.000457763671875, 0.000213623046875, 9.1552734375e-05, -6.103515625e-05, -0.00030517578125, -0.00048828125, -0.00067138671875, -0.000732421875, -0.000518798828125, -0.000244140625, -0.0001220703125, -0.00018310546875, -0.000244140625, -6.103515625e-05, 0.000396728515625, 0.000762939453125, 0.000885009765625, 0.000823974609375, 0.000701904296875, 0.000701904296875, 0.000762939453125, 0.000762939453125, 0.000640869140625, 0.000457763671875, 0.000396728515625, 0.000579833984375, 0.0006103515625, 0.000274658203125, -0.00042724609375, -0.0010986328125, -0.0013427734375, -0.001220703125, -0.000946044921875, -0.0008544921875, -0.0009765625, -0.001007080078125, -0.000946044921875, -0.00067138671875, -0.00048828125, -0.0006103515625, -0.0010986328125, -0.001556396484375, -0.001678466796875, -0.00140380859375, -0.0010986328125, -0.000885009765625, -0.000640869140625, -0.000396728515625, -0.00030517578125, -0.000579833984375, -0.000762939453125, -0.00030517578125, 0.00091552734375, 0.002105712890625, 0.002349853515625, 0.00177001953125, 0.001220703125, 0.001220703125, 0.00152587890625, 0.00146484375, 0.0010986328125, 0.000823974609375, 0.000823974609375, 0.000640869140625, -0.000152587890625, -0.001190185546875, -0.00177001953125, -0.00140380859375, -0.000762939453125, -0.00054931640625, -0.000885009765625, -0.00128173828125, -0.001007080078125, -0.000274658203125, 0.0003662109375, 0.00042724609375, 0.000213623046875, 9.1552734375e-05, 0.000274658203125, 0.000396728515625, 9.1552734375e-05, -0.00048828125, -0.000885009765625, -0.000885009765625, -0.000762939453125, -0.00079345703125, -0.00115966796875, -0.001495361328125, -0.001434326171875, -0.00103759765625, -0.00079345703125, -0.000946044921875, -0.001068115234375, -0.00067138671875, 0.000335693359375, 0.0010986328125, 0.00115966796875, 0.0006103515625, 0.000244140625, 0.00018310546875, 0.0003662109375, 0.000579833984375, 0.00079345703125, 0.0009765625, 0.00091552734375, 0.00042724609375, -6.103515625e-05, -9.1552734375e-05, 0.00018310546875, 0.00018310546875, -0.00018310546875, -0.000457763671875, -0.000335693359375, -0.0003662109375, -0.000946044921875, -0.001678466796875, -0.001739501953125, -0.001129150390625, -0.000579833984375, -0.000701904296875, -0.001220703125, -0.001373291015625, -0.0009765625, -0.00048828125, -0.000335693359375, -0.00048828125, -0.0006103515625, -0.000579833984375, -0.000518798828125, -0.00067138671875, -0.00079345703125, -0.000457763671875, 0.000396728515625, 0.001190185546875, 0.001220703125, 0.0006103515625, 6.103515625e-05, 0.000244140625, 0.000823974609375, 0.0010986328125, 0.000885009765625, 0.000579833984375, 0.0003662109375, 0.0, -0.00067138671875, -0.001312255859375, -0.00146484375, -0.001190185546875, -0.000701904296875, -0.000152587890625, 0.00042724609375, 0.00079345703125, 0.00067138671875, 0.000335693359375, 0.00018310546875, 0.000213623046875, -9.1552734375e-05, -0.000732421875, -0.0010986328125, -0.0009765625, -0.00079345703125, -0.001068115234375, -0.001556396484375, -0.001739501953125, -0.001556396484375, -0.001556396484375, -0.001556396484375, -0.001007080078125, 0.000335693359375, 0.00164794921875, 0.002044677734375, 0.001678466796875, 0.001251220703125, 0.001251220703125, 0.0013427734375, 0.0010986328125, 0.000640869140625, 0.0003662109375, 0.000335693359375, 0.000396728515625, 9.1552734375e-05, -0.000335693359375, -0.000640869140625, -0.00048828125, -0.000335693359375, -0.000396728515625, -0.000579833984375, -0.00030517578125, 0.00030517578125, 0.00042724609375, -0.00030517578125, -0.00128173828125, -0.001617431640625, -0.001190185546875, -0.000640869140625, -0.00048828125, -0.0003662109375, 0.0, 0.0003662109375, 0.000396728515625, 0.000244140625, 0.0001220703125, 3.0517578125e-05, -0.000244140625, -0.000640869140625, -0.000885009765625, -0.000885009765625, -0.001068115234375, -0.0013427734375, -0.00146484375, -0.0013427734375, -0.001220703125, -0.001068115234375, -0.00054931640625, 0.000396728515625, 0.00128173828125, 0.0015869140625, 0.001495361328125, 0.001190185546875, 0.00079345703125, 0.000244140625, -0.000213623046875, -0.000518798828125, -0.000701904296875, -0.00091552734375, -0.000946044921875, -0.000396728515625, 0.00042724609375, 0.0008544921875, 0.00067138671875, 0.000579833984375, 0.000823974609375, 0.001007080078125, 0.000732421875, 0.00030517578125, 0.000335693359375, 0.000335693359375, -0.000579833984375, -0.0023193359375, -0.003753662109375, -0.003875732421875, -0.003021240234375, -0.00213623046875, -0.001678466796875, -0.001251220703125, -0.000701904296875, -0.000213623046875, 6.103515625e-05, 0.0003662109375, 0.0008544921875, 0.001220703125, 0.0010986328125, 0.00048828125, -9.1552734375e-05, -0.000518798828125, -0.000885009765625, -0.001220703125, -0.00128173828125, -0.0008544921875, -0.00018310546875, 0.00030517578125, 0.000518798828125, 0.0008544921875, 0.00140380859375, 0.0018310546875, 0.001800537109375, 0.001312255859375, 0.00067138671875, -3.0517578125e-05, -0.000701904296875, -0.001251220703125, -0.001495361328125, -0.001434326171875, -0.001251220703125, -0.00103759765625, -0.000701904296875, -0.000274658203125, 0.0, 9.1552734375e-05, 0.0001220703125, 0.000274658203125, 0.00042724609375, 0.0003662109375, -6.103515625e-05, -0.00048828125, -0.000732421875, -0.000885009765625, -0.001129150390625, -0.0013427734375, -0.001251220703125, -0.000823974609375, -0.00030517578125, 6.103515625e-05, 0.00018310546875, 0.000244140625, 0.000274658203125, 0.000274658203125, 0.000213623046875, 6.103515625e-05, -9.1552734375e-05, -0.000244140625, -0.000396728515625, -0.00054931640625, -0.000579833984375, -0.00067138671875, -0.000732421875, -0.000701904296875, -6.103515625e-05, 0.001068115234375, 0.0020751953125, 0.002349853515625, 0.001953125, 0.00152587890625, 0.00140380859375, 0.001312255859375, 0.000823974609375, 0.0001220703125, -0.0003662109375, -0.0006103515625, -0.001068115234375, -0.001861572265625, -0.00238037109375, -0.001983642578125, -0.0009765625, -0.0001220703125, -6.103515625e-05, -0.00018310546875, -3.0517578125e-05, 0.000335693359375, 0.00042724609375, 9.1552734375e-05, -9.1552734375e-05, -3.0517578125e-05, 6.103515625e-05, -9.1552734375e-05, -0.000396728515625, -0.000396728515625, -0.000213623046875, -0.0001220703125, -0.000274658203125, -0.000335693359375, 0.000152587890625, 0.001068115234375, 0.0018310546875, 0.0020751953125, 0.001861572265625, 0.00152587890625, 0.00128173828125, 0.001251220703125, 0.0010986328125, 0.000732421875, 0.0001220703125, -0.00030517578125, -0.000335693359375, -6.103515625e-05, 6.103515625e-05, 3.0517578125e-05, 0.000152587890625, 0.000457763671875, 0.000457763671875, 3.0517578125e-05, -0.000335693359375, -0.0001220703125, 0.000335693359375, 0.00030517578125, -0.0003662109375, -0.0009765625, -0.00103759765625, -0.000823974609375, -0.000640869140625, -0.000457763671875, 0.0, 0.000396728515625, 0.00048828125, 0.000396728515625, 0.00042724609375, 0.00042724609375, 6.103515625e-05, -0.0006103515625, -0.00103759765625, -0.0010986328125, -0.001312255859375, -0.001739501953125, -0.001708984375, -0.000762939453125, 0.00054931640625, 0.001251220703125, 0.001251220703125, 0.001251220703125, 0.001617431640625, 0.001983642578125, 0.001800537109375, 0.001129150390625, 0.000457763671875, -3.0517578125e-05, -0.000457763671875, -0.0009765625, -0.0013427734375, -0.00152587890625, -0.001312255859375, -0.000762939453125, -0.00018310546875, 0.000152587890625, 0.000213623046875, 0.00030517578125, 0.00054931640625, 0.000701904296875, 0.000701904296875, 0.000640869140625, 0.000640869140625, 0.000518798828125, -0.0001220703125, -0.001068115234375, -0.00164794921875, -0.001495361328125, -0.0010986328125, -0.000732421875, -0.00042724609375, -9.1552734375e-05, 0.000152587890625, 0.00018310546875, 0.00018310546875, 0.00030517578125, 0.00054931640625, 0.000579833984375, 0.00054931640625, 0.000518798828125, 0.00042724609375, -6.103515625e-05, -0.00079345703125, -0.001251220703125, -0.001068115234375, -0.000640869140625, -0.000396728515625, -0.000274658203125, 9.1552734375e-05, 0.000457763671875, 0.00054931640625, 0.000335693359375, 0.000213623046875, 0.00048828125, 0.000762939453125, 0.000640869140625, 0.00030517578125, 0.00018310546875, 0.000244140625, 0.00030517578125, 0.00030517578125, 0.0003662109375, 0.000457763671875, 0.000396728515625, 0.00018310546875, 0.000152587890625, 0.00042724609375, 0.000640869140625, 0.000457763671875, 9.1552734375e-05, -9.1552734375e-05, -9.1552734375e-05, -0.000213623046875, -0.000518798828125, -0.000457763671875, 0.000152587890625, 0.0008544921875, 0.001068115234375, 0.00079345703125, 0.0006103515625, 0.000762939453125, 0.00091552734375, 0.000701904296875, 0.000396728515625, 0.00030517578125, 0.0003662109375, 3.0517578125e-05, -0.000885009765625, -0.00177001953125, -0.001983642578125, -0.001556396484375, -0.00115966796875, -0.001007080078125, -0.000732421875, -0.0001220703125, 0.000640869140625, 0.001007080078125, 0.00091552734375, 0.000946044921875, 0.001373291015625, 0.00189208984375, 0.001800537109375, 0.001068115234375, 0.000244140625, -0.0001220703125, -6.103515625e-05, 3.0517578125e-05, 0.0, -9.1552734375e-05, -0.00018310546875, -0.00018310546875, -6.103515625e-05, 3.0517578125e-05, 0.000152587890625, 0.000244140625, 0.000213623046875, 0.0, -0.00042724609375, -0.000823974609375, -0.00115966796875, -0.001190185546875, -0.0009765625, -0.0006103515625, -0.000274658203125, 3.0517578125e-05, 6.103515625e-05, -0.00018310546875, -0.00018310546875, 0.000274658203125, 0.000946044921875, 0.001312255859375, 0.001068115234375, 0.000823974609375, 0.000732421875, 0.000579833984375, 0.0, -0.000701904296875, -0.000762939453125, -0.000335693359375, -0.000213623046875, -0.000640869140625, -0.0009765625, -0.000762939453125, -0.000244140625, -0.0001220703125, -0.000274658203125, -0.0003662109375, -0.000213623046875, -9.1552734375e-05, -6.103515625e-05, 3.0517578125e-05, 9.1552734375e-05, 6.103515625e-05, 6.103515625e-05, 0.000213623046875, 0.000396728515625, 0.000335693359375, 0.00030517578125, 0.000762939453125, 0.00164794921875, 0.002227783203125, 0.001953125, 0.001251220703125, 0.000885009765625, 0.0006103515625, 0.0, -0.0006103515625, -0.000762939453125, -0.000579833984375, -0.000823974609375, -0.001495361328125, -0.00177001953125, -0.001251220703125, -0.0006103515625, -0.00048828125, -0.0006103515625, -0.000244140625, 0.00042724609375, 0.0008544921875, 0.000732421875, 0.00048828125, 0.000396728515625, 0.00048828125, 0.000640869140625, 0.00079345703125, 0.000762939453125, 0.000396728515625, 6.103515625e-05, 0.000244140625, 0.000732421875, 0.000885009765625, 0.0006103515625, 0.000457763671875, 0.0006103515625, 0.000457763671875, -0.00042724609375, -0.001495361328125, -0.00164794921875, -0.001068115234375, -0.000762939453125, -0.00103759765625, -0.0015869140625, -0.001739501953125, -0.001556396484375, -0.00128173828125, -0.0008544921875, -0.0003662109375, -0.000213623046875, -0.0003662109375, -0.000518798828125, -0.000396728515625, -0.00018310546875, -0.0001220703125, 0.0, 0.000244140625, 0.000274658203125, -0.000152587890625, -0.00054931640625, -0.000213623046875, 0.00048828125, 0.000823974609375, 0.000701904296875, 0.00054931640625, 0.00042724609375, 3.0517578125e-05, -0.0006103515625, -0.001007080078125, -0.000823974609375, -0.0006103515625, -0.000823974609375, -0.001007080078125, -0.000640869140625, -6.103515625e-05, 3.0517578125e-05, -0.00018310546875, 3.0517578125e-05, 0.000732421875, 0.001068115234375, 0.0006103515625, 0.00018310546875, 0.00042724609375, 0.00079345703125, 0.0003662109375, -0.000762939453125, -0.001556396484375, -0.001617431640625, -0.001312255859375, -0.0010986328125, -0.00091552734375, -0.00042724609375, 6.103515625e-05, 0.0003662109375, 0.0003662109375, 0.0003662109375, 0.000518798828125, 0.000823974609375, 0.001129150390625, 0.00115966796875, 0.000640869140625, -3.0517578125e-05, -0.00048828125, -0.000457763671875, -0.000335693359375, -0.000457763671875, -0.0006103515625, -0.00048828125, -6.103515625e-05, 0.000213623046875, 0.00018310546875, 0.000213623046875, 0.000274658203125, 0.000244140625, -6.103515625e-05, -0.000335693359375, -0.0003662109375, -0.000213623046875, -0.000213623046875, -0.000457763671875, -0.0006103515625, -0.00048828125, -9.1552734375e-05, 0.0003662109375, 0.000579833984375, 0.00048828125, 0.000213623046875, 0.000152587890625, 0.000274658203125, 0.000335693359375, 0.0, -0.000396728515625, -0.000579833984375, -0.00048828125, -0.000579833984375, -0.000885009765625, -0.000946044921875, -0.00042724609375, 0.0001220703125, 0.00018310546875, -0.000152587890625, -0.000274658203125, 3.0517578125e-05, 0.00018310546875, 0.0, -0.000213623046875, -9.1552734375e-05, 0.000152587890625, -3.0517578125e-05, -0.0006103515625, -0.00103759765625, -0.001007080078125, -0.000732421875, -0.000579833984375, -0.00042724609375, -9.1552734375e-05, 0.000274658203125, 0.000396728515625, 0.000274658203125, 6.103515625e-05, -0.00018310546875, -0.00042724609375, -0.00079345703125, -0.0010986328125, -0.001251220703125, -0.00128173828125, -0.001251220703125, -0.0010986328125, -0.0008544921875, -0.000518798828125, -0.000244140625, -6.103515625e-05, 6.103515625e-05, 0.000335693359375, 0.000579833984375, 0.000762939453125, 0.000823974609375, 0.000732421875, 0.000457763671875, 0.0001220703125, -0.000152587890625, -9.1552734375e-05, 0.0001220703125, 0.0001220703125, -9.1552734375e-05, -0.000244140625, -3.0517578125e-05, 0.00030517578125, 0.000335693359375, 0.0, -0.0003662109375, -0.000396728515625, -6.103515625e-05, 0.000213623046875, 0.00030517578125, 0.00018310546875, 3.0517578125e-05, -9.1552734375e-05, -3.0517578125e-05, 9.1552734375e-05, 0.0001220703125, 3.0517578125e-05, -0.0001220703125, -6.103515625e-05, 0.0001220703125, 0.000396728515625, 0.00048828125, 0.00042724609375, 0.000335693359375, 0.000396728515625, 0.000579833984375, 0.00079345703125, 0.0009765625, 0.00115966796875, 0.001220703125, 0.00115966796875, 0.0008544921875, 0.00042724609375, 0.00018310546875, 0.000274658203125, 0.000396728515625, 0.000152587890625, -0.000518798828125, -0.001251220703125, -0.00152587890625, -0.001373291015625, -0.001190185546875, -0.001312255859375, -0.001434326171875, -0.00128173828125, -0.000823974609375, -0.0003662109375, -0.00018310546875, -0.000152587890625, 6.103515625e-05, 0.000518798828125, 0.000762939453125, 0.00054931640625, 0.00030517578125, 0.000274658203125, 0.000274658203125, -0.000244140625, -0.000946044921875, -0.001220703125, -0.000823974609375, -0.00048828125, -0.00067138671875, -0.001129150390625, -0.001220703125, -0.0009765625, -0.000823974609375, -0.00067138671875, -0.0003662109375, 6.103515625e-05, 0.00018310546875, -3.0517578125e-05, -0.000152587890625, 6.103515625e-05, 0.000213623046875, 6.103515625e-05, -0.00018310546875, -0.000335693359375, -0.000579833984375, -0.0010986328125, -0.001129150390625, -0.000274658203125, 0.00091552734375, 0.001129150390625, 0.000335693359375, -0.0003662109375, -0.000213623046875, 0.000152587890625, 3.0517578125e-05, -0.000457763671875, -0.000579833984375, -0.000457763671875, -0.00048828125, -0.000823974609375, -0.00103759765625, -0.0008544921875, -0.000701904296875, -0.0006103515625, -0.000518798828125, -0.00042724609375, -0.000274658203125, -0.00018310546875, -3.0517578125e-05, 6.103515625e-05, -6.103515625e-05, -0.000213623046875, 9.1552734375e-05, 0.00091552734375, 0.0015869140625, 0.00164794921875, 0.001220703125, 0.00091552734375, 0.0008544921875, 0.000823974609375, 0.00079345703125, 0.00079345703125, 0.000701904296875, 0.00030517578125, -0.00030517578125, -0.00042724609375, 0.0001220703125, 0.000701904296875, 0.000579833984375, 0.0, -0.00018310546875, 0.000396728515625, 0.000946044921875, 0.000946044921875, 0.00048828125, 0.000152587890625, 0.000152587890625, 9.1552734375e-05, -0.000244140625, -0.00048828125, -0.00054931640625, -0.00042724609375, -0.00048828125, -0.000732421875, -0.0008544921875, -0.00079345703125, -0.000579833984375, -0.000244140625, 0.0, 3.0517578125e-05, -0.000213623046875, -0.00030517578125, 0.0, 0.000335693359375, -0.000152587890625, -0.00140380859375, -0.002471923828125, -0.00250244140625, -0.001678466796875, -0.001068115234375, -0.0010986328125, -0.001312255859375, -0.001251220703125, -0.0010986328125, -0.0009765625, -0.000579833984375, 0.000335693359375, 0.001251220703125, 0.001617431640625, 0.00146484375, 0.001312255859375, 0.00115966796875, 0.00067138671875, 0.0, -0.0001220703125, 0.00042724609375, 0.000823974609375, 0.00042724609375, -0.000335693359375, -0.000762939453125, -0.000732421875, -0.000732421875, -0.00103759765625, -0.00103759765625, -0.000701904296875, -0.00054931640625, -0.000732421875, -0.000946044921875, -0.000701904296875, -0.00030517578125, -0.000244140625, -0.000274658203125, 0.000152587890625, 0.00091552734375, 0.001251220703125, 0.00091552734375, 0.000457763671875, 0.000396728515625, 0.00067138671875, 0.00079345703125, 0.000701904296875, 0.0006103515625, 0.00054931640625, 0.000213623046875, -0.00042724609375, -0.00091552734375, -0.000946044921875, -0.000579833984375, -0.0003662109375, -0.00030517578125, -0.000274658203125, -9.1552734375e-05, 0.000244140625, 0.000701904296875, 0.001068115234375, 0.001220703125, 0.00103759765625, 0.000579833984375, 0.00018310546875, 3.0517578125e-05, 6.103515625e-05, 0.0, -0.000213623046875, -0.0003662109375, -0.00030517578125, -9.1552734375e-05, -9.1552734375e-05, -0.000274658203125, -0.000244140625, 0.00018310546875, 0.00067138671875, 0.000640869140625, 0.000274658203125, 0.0001220703125, 0.00048828125, 0.001007080078125, 0.0010986328125, 0.000823974609375, 0.00048828125, 0.0003662109375, 0.00018310546875, -0.000274658203125, -0.000762939453125, -0.000885009765625, -0.000762939453125, -0.00067138671875, -0.00079345703125, -0.00103759765625, -0.001190185546875, -0.00115966796875, -0.00103759765625, -0.000762939453125, -0.00048828125, -0.0001220703125, 0.00030517578125, 0.000518798828125, 0.00030517578125, -6.103515625e-05, -6.103515625e-05, 0.00042724609375, 0.000762939453125, 0.00048828125, -0.000152587890625, -0.000244140625, 0.0003662109375, 0.00079345703125, 0.00048828125, -9.1552734375e-05, -0.000152587890625, 0.0001220703125, 0.000152587890625, -0.000244140625, -0.000518798828125, -0.000518798828125, -0.000518798828125, -0.000640869140625, -0.00030517578125, 0.0006103515625, 0.001312255859375, 0.001220703125, 0.000701904296875, 0.00054931640625, 0.000762939453125, 0.000823974609375, 0.0006103515625, 0.000457763671875, 0.000335693359375, -0.000213623046875, -0.0009765625, -0.001220703125, -0.000701904296875, -0.00018310546875, -0.000396728515625, -0.000946044921875, -0.001129150390625, -0.000885009765625, -0.00067138671875, -0.000518798828125, -0.0001220703125, 0.000396728515625, 0.0006103515625, 0.000396728515625, 0.000335693359375, 0.00054931640625, 0.00067138671875, 0.000457763671875, 0.000244140625, 0.00042724609375, 0.0006103515625, 0.0003662109375, -0.000244140625, -0.00054931640625, -0.000396728515625, -6.103515625e-05, 0.0001220703125, 0.000152587890625, 3.0517578125e-05, -0.000244140625, -0.000457763671875, -0.000213623046875, 0.0003662109375, 0.00054931640625, 0.0001220703125, -0.000274658203125, 0.0, 0.00067138671875, 0.00091552734375, 0.0006103515625, 0.000274658203125, 0.00030517578125, 0.000274658203125, -0.00018310546875, -0.00079345703125, -0.001007080078125, -0.000823974609375, -0.00067138671875, -0.000640869140625, -0.000457763671875, -9.1552734375e-05, 0.000152587890625, 6.103515625e-05, 0.0, 0.000274658203125, 0.00079345703125, 0.00103759765625, 0.00079345703125, 0.0003662109375, 0.00018310546875, 0.00018310546875, 9.1552734375e-05, -0.000274658203125, -0.000579833984375, -0.000579833984375, -0.000518798828125, -0.00079345703125, -0.00140380859375, -0.001617431640625, -0.0010986328125, -0.0003662109375, -0.00018310546875, -0.000579833984375, -0.000885009765625, -0.000518798828125, -6.103515625e-05, 6.103515625e-05, 0.000152587890625, 0.000579833984375, 0.001373291015625, 0.001708984375, 0.001373291015625, 0.000732421875, 0.00048828125, 0.000518798828125, 0.0003662109375, 6.103515625e-05, -0.000152587890625, -0.000244140625, -0.00054931640625, -0.0010986328125, -0.001495361328125, -0.001556396484375, -0.001373291015625, -0.001190185546875, -0.000701904296875, -3.0517578125e-05, 0.000640869140625, 0.000823974609375, 0.00067138671875, 0.000640869140625, 0.0009765625, 0.00146484375, 0.001617431640625, 0.001373291015625, 0.000762939453125, 0.00018310546875, -0.000274658203125, -0.000640869140625, -0.000946044921875, -0.001312255859375, -0.001556396484375, -0.00140380859375, -0.0009765625, -0.0006103515625, -0.0003662109375, -0.00018310546875, 6.103515625e-05, 0.00030517578125, 0.000396728515625, 0.00042724609375, 0.000640869140625, 0.00091552734375, 0.00091552734375, 0.00054931640625, 0.000152587890625, 0.000152587890625, 0.00030517578125, 0.000274658203125, 0.0, -0.000335693359375, -0.000518798828125, -0.000640869140625, -0.000579833984375, -0.000152587890625, 0.0003662109375, 0.0006103515625, 0.00030517578125, -0.0001220703125, -0.00018310546875, 0.000274658203125, 0.000823974609375, 0.001129150390625, 0.001007080078125, 0.000640869140625, 0.000335693359375, 0.000213623046875, 0.000274658203125, 0.000274658203125, 0.000213623046875, 0.000244140625, 0.00030517578125, 6.103515625e-05, -0.000640869140625, -0.001434326171875, -0.001678466796875, -0.00115966796875, -0.00042724609375, -6.103515625e-05, -9.1552734375e-05, -0.000152587890625, -3.0517578125e-05, 0.000152587890625, 0.00030517578125, 0.000335693359375, 0.0003662109375, 0.000274658203125, 9.1552734375e-05, 3.0517578125e-05, -6.103515625e-05, -0.000518798828125, -0.0013427734375, -0.002044677734375, -0.00213623046875, -0.00177001953125, -0.001312255859375, -0.0009765625, -0.000396728515625, 0.000335693359375, 0.0008544921875, 0.00079345703125, 0.000457763671875, 0.00054931640625, 0.001129150390625, 0.00164794921875, 0.001556396484375, 0.0009765625, 0.000518798828125, 0.0003662109375, 0.0003662109375, 6.103515625e-05, -0.000396728515625, -0.000762939453125, -0.000762939453125, -0.00048828125, -0.000335693359375, -0.000457763671875, -0.00054931640625, -0.00042724609375, -6.103515625e-05, 0.000152587890625, 0.0001220703125, 3.0517578125e-05, 0.000213623046875, 0.00048828125, 0.000579833984375, 0.000396728515625, 0.0001220703125, -6.103515625e-05, -0.000213623046875, -0.000396728515625, -0.000457763671875, -0.00042724609375, -0.00042724609375, -0.0006103515625, -0.00079345703125, -0.000885009765625, -0.000946044921875, -0.00103759765625, -0.0009765625, -0.000457763671875, 0.00048828125, 0.00128173828125, 0.00152587890625, 0.001220703125, 0.00079345703125, 0.00054931640625, 0.000762939453125, 0.00103759765625, 0.00103759765625, 0.00054931640625, 9.1552734375e-05, 9.1552734375e-05, 0.000518798828125, 0.000823974609375, 0.000579833984375, 9.1552734375e-05, -0.000152587890625, 0.0, 0.000274658203125, 0.0003662109375, 0.0003662109375, 0.000335693359375, 0.000396728515625, 0.000579833984375, 0.00079345703125, 0.000823974609375, 0.0006103515625, 0.0003662109375, 0.00042724609375, 0.0003662109375, -0.0003662109375, -0.001495361328125, -0.002044677734375, -0.00152587890625, -0.0008544921875, -0.001220703125, -0.00250244140625, -0.00335693359375, -0.003021240234375, -0.0020751953125, -0.001373291015625, -0.00091552734375, -0.000213623046875, 0.000823974609375, 0.00146484375, 0.00146484375, 0.001220703125, 0.001495361328125, 0.002105712890625, 0.0025634765625, 0.00238037109375, 0.00164794921875, 0.0008544921875, 0.000335693359375, 0.0001220703125, 6.103515625e-05, -0.0001220703125, -0.000579833984375, -0.001007080078125, -0.001251220703125, -0.00128173828125, -0.001373291015625, -0.001373291015625, -0.000946044921875, -0.000244140625, 0.000274658203125, 0.00030517578125, 0.000274658203125, 0.00048828125, 0.000732421875, 0.000640869140625, 0.000213623046875, 0.0, 0.000213623046875, 0.0003662109375, -6.103515625e-05, -0.000701904296875, -0.001068115234375, -0.001007080078125, -0.0009765625, -0.00115966796875, -0.001129150390625, -0.000518798828125, 0.000335693359375, 0.000701904296875, 0.0006103515625, 0.00054931640625, 0.00103759765625, 0.001708984375, 0.001953125, 0.001556396484375, 0.0009765625, 0.000732421875, 0.00079345703125, 0.00067138671875, 0.00018310546875, -0.000457763671875, -0.0008544921875, -0.000946044921875, -0.0008544921875, -0.000701904296875, -0.00067138671875, -0.000732421875, -0.000885009765625, -0.000701904296875, 0.000213623046875, 0.0015869140625, 0.002593994140625, 0.002685546875, 0.00213623046875, 0.001922607421875, 0.002227783203125, 0.00262451171875, 0.00250244140625, 0.00177001953125, 0.0008544921875, -9.1552734375e-05, -0.001129150390625, -0.002044677734375, -0.002655029296875, -0.002838134765625, -0.0029296875, -0.002960205078125, -0.0029296875, -0.002716064453125, -0.00244140625, -0.001922607421875, -0.00091552734375, 0.000335693359375, 0.001007080078125, 0.000701904296875, 3.0517578125e-05, 0.000152587890625, 0.001068115234375, 0.00177001953125, 0.001495361328125, 0.00079345703125, 0.00042724609375, 0.00030517578125, -6.103515625e-05, -0.000701904296875, -0.000823974609375, -0.000244140625, 0.000335693359375, 0.000213623046875, -0.0003662109375, -0.000640869140625, -0.000274658203125, 0.00030517578125, 0.000640869140625, 0.000579833984375, 0.000274658203125, 0.0001220703125, 0.0003662109375, 0.00079345703125, 0.000732421875, -0.0001220703125, -0.00115966796875, -0.00140380859375, -0.0008544921875, -0.000396728515625, -0.00079345703125, -0.00164794921875, -0.00201416015625, -0.001556396484375, -0.00091552734375, -0.000579833984375, -0.00042724609375, -0.000274658203125, 3.0517578125e-05, 0.000244140625, 0.00042724609375, 0.000457763671875, 0.000396728515625, 0.00018310546875, -3.0517578125e-05, -0.000244140625, -0.00042724609375, -0.000732421875, -0.0008544921875, -0.00079345703125, -0.000579833984375, -0.00042724609375, -0.000244140625, -0.00018310546875, -0.000244140625, -0.000518798828125, -0.000579833984375, -0.000152587890625, 0.00054931640625, 0.00079345703125, 0.000579833984375, 0.000457763671875, 0.00067138671875, 0.000762939453125, 0.000457763671875, -9.1552734375e-05, -0.00018310546875, 0.00030517578125, 0.00079345703125, 0.000732421875, 0.000274658203125, -0.000274658203125, -0.000396728515625, -3.0517578125e-05, 0.000579833984375, 0.0009765625, 0.000946044921875, 0.00079345703125, 0.000640869140625, 0.00054931640625, 0.000244140625, -9.1552734375e-05, -6.103515625e-05, 0.0001220703125, -0.000274658203125, -0.00152587890625, -0.002899169921875, -0.003387451171875, -0.002899169921875, -0.002227783203125, -0.001953125, -0.001861572265625, -0.001495361328125, -0.000762939453125, 9.1552734375e-05, 0.000579833984375, 0.00079345703125, 0.001007080078125, 0.001373291015625, 0.001800537109375, 0.002105712890625, 0.002044677734375, 0.001739501953125, 0.00146484375, 0.001251220703125, 0.000885009765625, 0.000335693359375, -0.0001220703125, -0.00042724609375, -0.00054931640625, -0.000640869140625, -0.000732421875, -0.000701904296875, -0.000732421875, -0.000823974609375, -0.000885009765625, -0.000823974609375, -0.000457763671875, -3.0517578125e-05, 0.0003662109375, 0.000518798828125, 0.000335693359375, -9.1552734375e-05, -0.000274658203125, 0.0, 0.00042724609375, 0.000518798828125, 9.1552734375e-05, -0.0003662109375, -0.00048828125, -0.00048828125, -0.000640869140625, -0.000762939453125, -0.000518798828125, -3.0517578125e-05, 0.000213623046875, 0.0, -6.103515625e-05, 0.0003662109375, 0.001129150390625, 0.00146484375, 0.001190185546875, 0.000762939453125, 0.000732421875, 0.001068115234375, 0.001434326171875, 0.001434326171875, 0.001190185546875, 0.00091552734375, 0.00054931640625, 0.000152587890625, -0.000274658203125, -0.000457763671875, -0.00054931640625, -0.000762939453125, -0.00091552734375, -0.00042724609375, 0.00079345703125, 0.001922607421875, 0.00189208984375, 0.0008544921875, 0.000213623046875, 0.0008544921875, 0.00213623046875, 0.0028076171875, 0.002471923828125, 0.001800537109375, 0.00128173828125, 0.000701904296875, -0.000335693359375, -0.00140380859375, -0.00201416015625, -0.00201416015625, -0.00177001953125, -0.001434326171875, -0.001251220703125, -0.0013427734375, -0.00201416015625, -0.00286865234375, -0.00323486328125, -0.002716064453125, -0.001678466796875, -0.00091552734375, -0.000579833984375, -0.00042724609375, 0.0, 0.000579833984375, 0.000885009765625, 0.000732421875, 0.00030517578125, 0.00018310546875, 0.00067138671875, 0.001312255859375, 0.001373291015625, 0.000732421875, 6.103515625e-05, 0.0001220703125, 0.000701904296875, 0.000946044921875, 0.000579833984375, 9.1552734375e-05, 0.000152587890625, 0.000518798828125, 0.0006103515625, 0.000213623046875, -0.0001220703125, -0.000152587890625, -9.1552734375e-05, -0.00048828125, -0.0010986328125, -0.001495361328125, -0.00152587890625, -0.00152587890625, -0.00152587890625, -0.0013427734375, -0.000823974609375, -0.0003662109375, -0.00018310546875, -0.000244140625, -0.000244140625, -0.000152587890625, -0.000152587890625, -0.000244140625, -0.0001220703125, 9.1552734375e-05, 0.000335693359375, 0.00048828125, 0.00054931640625, 0.000518798828125, 0.00030517578125, 9.1552734375e-05, -3.0517578125e-05, 0.0, -0.0001220703125, -0.00048828125, -0.000823974609375, -0.000762939453125, -0.000457763671875, -9.1552734375e-05, 0.000274658203125, 0.00054931640625, 0.000518798828125, 3.0517578125e-05, -0.00030517578125, 0.000274658203125, 0.00140380859375, 0.002197265625, 0.002105712890625, 0.0018310546875, 0.001953125, 0.002105712890625, 0.00146484375, 0.00030517578125, -0.0003662109375, -0.00018310546875, 0.000213623046875, 0.0001220703125, -0.00042724609375, -0.0008544921875, -0.001129150390625, -0.00128173828125, -0.00128173828125, -0.0009765625, -0.000579833984375, -0.00054931640625, -0.00091552734375, -0.001434326171875, -0.00164794921875, -0.0013427734375, -0.0008544921875, -0.00067138671875, -0.00128173828125, -0.002044677734375, -0.001922607421875, -0.000885009765625, -9.1552734375e-05, -0.000518798828125, -0.001556396484375, -0.001983642578125, -0.001434326171875, -0.0008544921875, -0.000640869140625, -0.000213623046875, 0.00091552734375, 0.001861572265625, 0.0018310546875, 0.00128173828125, 0.001220703125, 0.001495361328125, 0.001190185546875, 0.000244140625, -0.000244140625, 0.00030517578125, 0.000946044921875, 0.000457763671875, -0.000701904296875, -0.001373291015625, -0.001220703125, -0.001220703125, -0.001739501953125, -0.0020751953125, -0.001739501953125, -0.000946044921875, -0.000457763671875, -0.00048828125, -0.000518798828125, -0.000244140625, 0.000274658203125, 0.000640869140625, 0.000762939453125, 0.00079345703125, 0.0008544921875, 0.000946044921875, 0.00103759765625, 0.001068115234375, 0.000946044921875, 0.000579833984375, 9.1552734375e-05, -0.00018310546875, -0.000152587890625, 3.0517578125e-05, 3.0517578125e-05, -0.0003662109375, -0.00067138671875, -0.00048828125, 0.000152587890625, 0.000885009765625, 0.00128173828125, 0.001251220703125, 0.0009765625, 0.000640869140625, 0.000579833984375, 0.0008544921875, 0.000885009765625, 0.0001220703125, -0.001312255859375, -0.00238037109375, -0.002349853515625, -0.0015869140625, -0.0008544921875, -0.000579833984375, -0.00030517578125, 6.103515625e-05, 0.000274658203125, 0.00018310546875, 0.000274658203125, 0.000823974609375, 0.00152587890625, 0.00177001953125, 0.001495361328125, 0.0010986328125, 0.000762939453125, 0.000152587890625, -0.0006103515625, -0.0010986328125, -0.0010986328125, -0.0008544921875, -0.000823974609375, -0.001312255859375, -0.001953125, -0.002410888671875, -0.002471923828125, -0.002105712890625, -0.001556396484375, -0.00103759765625, -0.00054931640625, -0.00018310546875, 0.000244140625, 0.00067138671875, 0.000946044921875, 0.0009765625, 0.000640869140625, 0.000244140625, 0.000152587890625, 0.000518798828125, 0.000885009765625, 0.000640869140625, -0.00018310546875, -0.001007080078125, -0.001129150390625, -0.000762939453125, -0.00048828125, -0.0006103515625, -0.000640869140625, -0.000396728515625, 0.0, 0.0001220703125, 0.000152587890625, 0.000274658203125, 0.000396728515625, 0.0003662109375, 0.000244140625, 0.000274658203125, 0.00030517578125, 0.000274658203125, 0.000244140625, 0.00042724609375, 0.00067138671875, 0.000457763671875, 0.0, -0.000152587890625, 0.000457763671875, 0.001251220703125, 0.0013427734375, 0.0006103515625, -0.0001220703125, -3.0517578125e-05, 0.000579833984375, 0.00103759765625, 0.00091552734375, 0.00048828125, 0.0001220703125, 6.103515625e-05, 3.0517578125e-05, -0.000213623046875, -0.000885009765625, -0.001678466796875, -0.001953125, -0.001617431640625, -0.00103759765625, -0.00091552734375, -0.0013427734375, -0.0018310546875, -0.001739501953125, -0.001129150390625, -0.00048828125, -0.00018310546875, -6.103515625e-05, 9.1552734375e-05, 0.0003662109375, 0.000518798828125, 0.00054931640625, 0.000701904296875, 0.001129150390625, 0.001556396484375, 0.001617431640625, 0.00128173828125, 0.000823974609375, 0.00067138671875, 0.000823974609375, 0.00091552734375, 0.000640869140625, 0.000152587890625, -0.000244140625, -0.00030517578125, -0.0001220703125, 0.0, -0.000152587890625, -0.0003662109375, -0.000518798828125, -0.00067138671875, -0.00091552734375, -0.00115966796875, -0.001220703125, -0.0009765625, -0.000701904296875, -0.000640869140625, -0.00079345703125, -0.0009765625, -0.00091552734375, -0.000640869140625, -0.000396728515625, -0.000274658203125, -0.00030517578125, -0.00018310546875, -3.0517578125e-05, 6.103515625e-05, 3.0517578125e-05, 6.103515625e-05, 0.00048828125, 0.000946044921875, 0.001068115234375, 0.00054931640625, -6.103515625e-05, -9.1552734375e-05, 0.000244140625, 0.000244140625, -0.0001220703125, -0.000396728515625, -0.000244140625, -3.0517578125e-05, -0.000213623046875, -0.000518798828125, -0.000579833984375, -0.00054931640625, -0.000701904296875, -0.000946044921875, -0.000640869140625, 0.000213623046875, 0.000762939453125, 0.00067138671875, 0.00054931640625, 0.00103759765625, 0.001861572265625, 0.002197265625, 0.001800537109375, 0.001312255859375, 0.001129150390625, 0.00091552734375, 0.0003662109375, -0.000244140625, -0.000518798828125, -0.000518798828125, -0.000579833984375, -0.000732421875, -0.0008544921875, -0.000701904296875, -0.000457763671875, -0.000152587890625, -3.0517578125e-05, -0.000274658203125, -0.001007080078125, -0.001556396484375, -0.001312255859375, -0.00042724609375, 0.0001220703125, -0.000213623046875, -0.0008544921875, -0.001007080078125, -0.00054931640625, -0.0001220703125, -9.1552734375e-05, -0.000152587890625, 0.0001220703125, 0.0006103515625, 0.000885009765625, 0.000762939453125, 0.000457763671875, 0.000396728515625, 0.000946044921875, 0.00177001953125, 0.002288818359375, 0.002197265625, 0.001708984375, 0.001373291015625, 0.00140380859375, 0.00146484375, 0.001312255859375, 0.0010986328125, 0.000762939453125, 0.0001220703125, -0.000946044921875, -0.001953125, -0.002410888671875, -0.00225830078125, -0.001953125, -0.001861572265625, -0.00177001953125, -0.00152587890625, -0.001251220703125, -0.0009765625, -0.0006103515625, -0.000244140625, 3.0517578125e-05, 3.0517578125e-05, 0.0, 0.0001220703125, 0.000396728515625, 0.000457763671875, 0.00030517578125, 0.00018310546875, 9.1552734375e-05, -6.103515625e-05, -0.000213623046875, -0.000213623046875, -9.1552734375e-05, -6.103515625e-05, -0.000213623046875, -0.00042724609375, -0.000457763671875, -0.0003662109375, -0.00030517578125, -0.000274658203125, -0.00018310546875, -9.1552734375e-05, -0.000152587890625, -0.0001220703125, 0.000213623046875, 0.000701904296875, 0.000823974609375, 0.00054931640625, 0.0003662109375, 0.00048828125, 0.00054931640625, 0.00018310546875, -0.00030517578125, -0.000335693359375, 0.0, 0.000213623046875, 3.0517578125e-05, -0.0001220703125, -9.1552734375e-05, 3.0517578125e-05, 3.0517578125e-05, -3.0517578125e-05, -3.0517578125e-05, -3.0517578125e-05, -6.103515625e-05, -6.103515625e-05, 0.00018310546875, 0.000335693359375, 0.000152587890625, -0.000244140625, -0.000518798828125, -0.000579833984375, -0.0006103515625, -0.000732421875, -0.000640869140625, -0.00018310546875, 0.000244140625, 0.00030517578125, -0.0001220703125, -0.00048828125, -0.000579833984375, -0.000457763671875, -0.000396728515625, -0.000457763671875, -0.00042724609375, -0.0001220703125, 0.000396728515625, 0.000701904296875, 0.00054931640625, 0.000274658203125, 0.000335693359375, 0.000732421875, 0.000946044921875, 0.000640869140625, 0.00030517578125, 0.000457763671875, 0.000762939453125, 0.00067138671875, 0.0, -0.00054931640625, -0.00067138671875, -0.000732421875, -0.0010986328125, -0.00140380859375, -0.001220703125, -0.000579833984375, -0.000274658203125, -0.000396728515625, -0.000579833984375, -0.000579833984375, -0.00054931640625, -0.000579833984375, -0.0006103515625, -0.000396728515625, -0.000152587890625, -0.0001220703125, -0.000213623046875, -0.0001220703125, 6.103515625e-05, 0.0001220703125, 3.0517578125e-05, -0.000152587890625, -0.00018310546875, 0.0, 0.000244140625, 0.00042724609375, 0.0003662109375, 0.000152587890625, 0.0001220703125, 0.000244140625, 0.0003662109375, 0.00018310546875, -0.000213623046875, -0.00030517578125, -0.0001220703125, -6.103515625e-05, -0.00048828125, -0.0009765625, -0.0009765625, -0.00054931640625, -0.00030517578125, -0.00054931640625, -0.000885009765625, -0.00091552734375, -0.000640869140625, -0.00042724609375, -0.00030517578125, -0.000244140625, -3.0517578125e-05, 0.0001220703125, 0.000152587890625, 0.000152587890625, 0.000152587890625, 0.000213623046875, 0.00018310546875, 0.000152587890625, 9.1552734375e-05, 0.000152587890625, 0.000244140625, 0.000274658203125, 0.000213623046875, 0.000213623046875, 0.000152587890625, 9.1552734375e-05, 0.0, 9.1552734375e-05, 0.00042724609375, 0.000823974609375, 0.00091552734375, 0.00079345703125, 0.00042724609375, 0.0, -0.000518798828125, -0.000946044921875, -0.001251220703125, -0.001220703125, -0.00103759765625, -0.0008544921875, -0.000762939453125, -0.00067138671875, -0.000518798828125, -0.000396728515625, -0.0001220703125, 0.00030517578125, 0.000701904296875, 0.000823974609375, 0.00067138671875, 0.000579833984375, 0.000762939453125, 0.001007080078125, 0.00103759765625, 0.000823974609375, 0.000518798828125, 0.000244140625, -6.103515625e-05, -0.000244140625, -9.1552734375e-05, 0.00018310546875, 0.000274658203125, -6.103515625e-05, -0.000457763671875, -0.000640869140625, -0.000396728515625, -9.1552734375e-05, 0.00018310546875, 0.000335693359375, 0.000457763671875, 0.000335693359375, 0.000213623046875, 9.1552734375e-05, -9.1552734375e-05, -0.000335693359375, -0.000579833984375, -0.000518798828125, -0.000244140625, -0.00030517578125, -0.001007080078125, -0.001953125, -0.002197265625, -0.001708984375, -0.00103759765625, -0.0008544921875, -0.001007080078125, -0.001129150390625, -0.00091552734375, -0.0006103515625, -0.0003662109375, -0.00018310546875, 0.000152587890625, 0.000518798828125, 0.00067138671875, 0.000518798828125, 0.000274658203125, 0.000274658203125, 0.000579833984375, 0.0008544921875, 0.000885009765625, 0.000701904296875, 0.0006103515625, 0.00048828125, 0.0001220703125, -0.000396728515625, -0.000762939453125, -0.000823974609375, -0.000732421875, -0.000946044921875, -0.001373291015625, -0.00177001953125, -0.001983642578125, -0.001983642578125, -0.001708984375, -0.00115966796875, -0.000518798828125, -0.00018310546875, -0.000152587890625, -6.103515625e-05, 0.00018310546875, 0.000457763671875, 0.0006103515625, 0.00067138671875, 0.000885009765625, 0.00103759765625, 0.00091552734375, 0.0006103515625, 0.00054931640625, 0.00067138671875, 0.000640869140625, 0.000335693359375, -6.103515625e-05, -0.00030517578125, -0.000396728515625, -0.000579833984375, -0.000762939453125, -0.000732421875, -0.000701904296875, -0.000701904296875, -0.000640869140625, -0.000457763671875, -0.000274658203125, -0.000335693359375, -0.000518798828125, -0.000335693359375, 0.000152587890625, 0.000335693359375, 0.0001220703125, -0.000213623046875, -0.000213623046875, -9.1552734375e-05, 0.0, 0.000213623046875, 0.00067138671875, 0.00115966796875, 0.001190185546875, 0.000762939453125, 0.00048828125, 0.000396728515625, 0.00042724609375, 0.00030517578125, 0.00030517578125, 0.000518798828125, 0.00054931640625, 0.000152587890625, -0.000457763671875, -0.00067138671875, -0.00054931640625, -0.000518798828125, -0.0006103515625, -0.000640869140625, -0.000579833984375, -0.00079345703125, -0.001129150390625, -0.001190185546875, -0.000701904296875, -0.00030517578125, -0.0003662109375, -0.00079345703125, -0.0009765625, -0.00054931640625, -6.103515625e-05, 3.0517578125e-05, -0.000274658203125, -0.000701904296875, -0.00103759765625, -0.001007080078125, -0.00054931640625, 0.000152587890625, 0.000732421875, 0.000823974609375, 0.000732421875, 0.00067138671875, 0.000640869140625, 0.000579833984375, 0.00042724609375, 0.000457763671875, 0.0006103515625, 0.00067138671875, 0.000396728515625, -0.0001220703125, -0.000457763671875, -0.000518798828125, -0.000335693359375, -0.000213623046875, -0.00030517578125, -0.0006103515625, -0.00091552734375, -0.001007080078125, -0.00091552734375, -0.00079345703125, -0.00067138671875, -0.000396728515625, 3.0517578125e-05, 0.000335693359375, 0.00018310546875, -0.0001220703125, -9.1552734375e-05, 0.000213623046875, 0.00054931640625, 0.0006103515625, 0.000579833984375, 0.00067138671875, 0.000823974609375, 0.00091552734375, 0.000823974609375, 0.00067138671875, 0.000579833984375, 0.000579833984375, 0.000396728515625, 6.103515625e-05, -0.000457763671875, -0.000762939453125, -0.00079345703125, -0.0006103515625, -0.000518798828125, -0.000518798828125, -0.00048828125, -0.00030517578125, -0.000213623046875, -0.000244140625, -0.000396728515625, -0.00042724609375, -0.0003662109375, -0.000335693359375, -0.00048828125, -0.000518798828125, -0.0003662109375, -0.00018310546875, -9.1552734375e-05, -9.1552734375e-05, 9.1552734375e-05, 0.0003662109375, 0.0003662109375, 0.000213623046875, 0.000213623046875, 0.00054931640625, 0.000823974609375, 0.00067138671875, 0.00018310546875, 0.0, 0.000244140625, 0.000518798828125, 0.0003662109375, 3.0517578125e-05, -0.000152587890625, -0.00018310546875, -0.00030517578125, -0.000579833984375, -0.000640869140625, -0.000396728515625, -0.000335693359375, -0.000823974609375, -0.00164794921875, -0.002105712890625, -0.00201416015625, -0.001678466796875, -0.001434326171875, -0.001068115234375, -0.00054931640625, -0.000152587890625, -0.0003662109375, -0.000701904296875, -0.00079345703125, -0.000457763671875, -0.0001220703125, 6.103515625e-05, 0.00030517578125, 0.000579833984375, 0.000732421875, 0.000579833984375, 0.00042724609375, 0.000518798828125, 0.00067138671875, 0.00048828125, 0.000152587890625, 0.000213623046875, 0.000640869140625, 0.000946044921875, 0.0008544921875, 0.000457763671875, 0.00018310546875, 0.0, -0.00018310546875, -0.000396728515625, -0.000579833984375, -0.000701904296875, -0.000701904296875, -0.0006103515625, -0.000335693359375, -0.0001220703125, -6.103515625e-05, -0.0001220703125, -0.00018310546875, -9.1552734375e-05, 0.00018310546875, 0.000701904296875, 0.00115966796875, 0.001312255859375, 0.0010986328125, 0.00091552734375, 0.00079345703125, 0.00054931640625, 0.000152587890625, -0.000152587890625, 9.1552734375e-05, 0.00042724609375, 0.000274658203125, -0.00048828125, -0.001190185546875, -0.00128173828125, -0.00103759765625, -0.001007080078125, -0.001190185546875, -0.001190185546875, -0.00091552734375, -0.00054931640625, -0.000396728515625, -0.0001220703125, 0.000274658203125, 0.000701904296875, 0.000946044921875, 0.0009765625, 0.00091552734375, 0.000762939453125, 0.000732421875, 0.00115966796875, 0.001861572265625, 0.002349853515625, 0.002166748046875, 0.00146484375, 0.000762939453125, 0.000244140625, -0.00018310546875, -0.000732421875, -0.00103759765625, -0.0009765625, -0.0008544921875, -0.0009765625, -0.001220703125, -0.00128173828125, -0.001220703125, -0.00115966796875, -0.001190185546875, -0.00103759765625, -0.000579833984375, 0.0, 0.00042724609375, 0.000518798828125, 0.000213623046875, -0.000396728515625, -0.001007080078125, -0.001190185546875, -0.0008544921875, -0.000335693359375, 3.0517578125e-05, 0.0001220703125, 0.00018310546875, 0.000274658203125, 0.000274658203125, 0.000152587890625, 0.0, 0.0, 6.103515625e-05, 3.0517578125e-05, 6.103515625e-05, 0.000244140625, 0.000518798828125, 0.00054931640625, 0.000457763671875, 0.000274658203125, 0.000244140625, 0.000213623046875, 9.1552734375e-05, 3.0517578125e-05, 0.000213623046875, 0.000396728515625, 0.000274658203125, -0.000152587890625, -0.00054931640625, -0.0006103515625, -0.000457763671875, -0.000457763671875, -0.0006103515625, -0.000640869140625, -0.0003662109375, 6.103515625e-05, 0.00030517578125, 0.000335693359375, 0.00018310546875, 6.103515625e-05, -9.1552734375e-05, -6.103515625e-05, 9.1552734375e-05, 0.000274658203125, 0.000274658203125, 0.0001220703125, 0.0, 0.0001220703125, 0.000396728515625, 0.0003662109375, 6.103515625e-05, -3.0517578125e-05, 0.000274658203125, 0.000579833984375, 0.000335693359375, -0.00018310546875, -0.0003662109375, 6.103515625e-05, 0.000457763671875, 0.000274658203125, -0.000213623046875, -0.0003662109375, -0.000152587890625, -0.000274658203125, -0.00079345703125, -0.001068115234375, -0.00067138671875, -0.000213623046875, -0.00030517578125, -0.000518798828125, -0.000244140625, 0.0003662109375, 0.00054931640625, 0.00018310546875, -9.1552734375e-05, 0.00018310546875, 0.00054931640625, 0.000579833984375, 0.0006103515625, 0.0008544921875, 0.00115966796875, 0.000823974609375, 0.0, -0.0006103515625, -0.00067138671875, -0.000640869140625, -0.000701904296875, -0.000823974609375, -0.00079345703125, -0.000640869140625, -0.000640869140625, -0.000823974609375, -0.00103759765625, -0.001068115234375, -0.00091552734375, -0.0006103515625, -0.0003662109375, -0.000335693359375, -0.000396728515625, -6.103515625e-05, 0.000732421875, 0.0013427734375, 0.00128173828125, 0.0008544921875, 0.000640869140625, 0.000823974609375, 0.001007080078125, 0.00115966796875, 0.001220703125, 0.001129150390625, 0.000732421875, 0.000244140625, 0.000244140625, 0.000701904296875, 0.000946044921875, 0.00054931640625, 6.103515625e-05, 0.000152587890625, 0.0006103515625, 0.000762939453125, 0.000518798828125, 0.0003662109375, 0.000457763671875, 0.000396728515625, -0.0001220703125, -0.000701904296875, -0.0006103515625, -0.000152587890625, 3.0517578125e-05, -0.000335693359375, -0.000823974609375, -0.00103759765625, -0.00103759765625, -0.0009765625, -0.00079345703125, -0.00042724609375, 0.0, 0.000244140625, 0.000213623046875, 6.103515625e-05, 0.0001220703125, 0.00042724609375, 0.000762939453125, 0.0008544921875, 0.000701904296875, 0.000457763671875, 0.000335693359375, 0.000396728515625, 0.000396728515625, 0.000244140625, 9.1552734375e-05, 0.0, -9.1552734375e-05, -0.000335693359375, -0.00067138671875, -0.0009765625, -0.001129150390625, -0.0010986328125, -0.000823974609375, -0.000396728515625, 0.0, 0.000244140625, 0.000213623046875, 0.00018310546875, 0.000152587890625, 0.00030517578125, 0.0006103515625, 0.000885009765625, 0.0008544921875, 0.000518798828125, 0.000152587890625, 0.0001220703125, 0.000213623046875, 9.1552734375e-05, -0.000244140625, -0.00048828125, -0.000396728515625, -0.000213623046875, -0.000274658203125, -0.000457763671875, -0.0006103515625, -0.000701904296875, -0.000701904296875, -0.000518798828125, -0.00030517578125, -0.000457763671875, -0.001068115234375, -0.001678466796875, -0.0015869140625, -0.0008544921875, -0.000244140625, -0.000244140625, -0.0003662109375, -0.00018310546875, 9.1552734375e-05, 0.000152587890625, 0.00018310546875, 0.00030517578125, 0.00042724609375, 0.000335693359375, 0.0001220703125, 0.000213623046875, 0.000518798828125, 0.00048828125, 6.103515625e-05, -0.000274658203125, -0.00018310546875, -6.103515625e-05, -0.0001220703125, -0.000396728515625, -0.00048828125, -0.0003662109375, -0.00030517578125, -0.00030517578125, -0.00030517578125, -0.0003662109375, -0.000640869140625, -0.000885009765625, -0.0006103515625, -6.103515625e-05, 0.00018310546875, -0.00018310546875, -0.000457763671875, -0.000213623046875, 0.000213623046875, 0.000335693359375, 0.000213623046875, 0.000274658203125, 0.00067138671875, 0.001007080078125, 0.000885009765625, 0.000518798828125, 0.000335693359375, 0.000396728515625, 0.00054931640625, 0.000579833984375, 0.00048828125, 0.000213623046875, -0.000213623046875, -0.000518798828125, -0.000457763671875, 0.0, 0.000213623046875, -6.103515625e-05, -0.000579833984375, -0.000762939453125, -0.000457763671875, -6.103515625e-05, -9.1552734375e-05, -0.000274658203125, -0.00030517578125, -0.000152587890625, -0.000152587890625, -0.000213623046875, -9.1552734375e-05, 0.000335693359375, 0.000640869140625, 0.00067138671875, 0.000701904296875, 0.00091552734375, 0.0010986328125, 0.000701904296875, -0.0001220703125, -0.000640869140625, -0.00054931640625, -0.000244140625, -0.000244140625, -0.00054931640625, -0.000823974609375, -0.001007080078125, -0.00103759765625, -0.00079345703125, -0.000396728515625, -0.00030517578125, -0.000762939453125, -0.001220703125, -0.0010986328125, -0.0003662109375, 0.000274658203125, 0.000213623046875, -0.00030517578125, -0.00079345703125, -0.00103759765625, -0.0008544921875, -0.00042724609375, -0.0001220703125, -0.00030517578125, -0.0008544921875, -0.001129150390625, -0.00079345703125, -0.000457763671875, -0.0006103515625, -0.00103759765625, -0.001007080078125, -0.00054931640625, -0.000213623046875, -0.00018310546875, 0.000152587890625, 0.0009765625, 0.001556396484375, 0.001373291015625, 0.000823974609375, 0.000701904296875, 0.001129150390625, 0.00140380859375, 0.00115966796875, 0.000823974609375, 0.000732421875, 0.0006103515625, 0.00018310546875, -0.00030517578125, -0.000457763671875, -0.00042724609375, -0.00054931640625, -0.000946044921875, -0.001251220703125, -0.001312255859375, -0.001251220703125, -0.0010986328125, -0.000762939453125, -0.000396728515625, -0.000213623046875, -0.000274658203125, -0.0001220703125, 0.0003662109375, 0.0008544921875, 0.0008544921875, 0.000457763671875, 0.000274658203125, 0.000457763671875, 0.000640869140625, 0.00048828125, 0.00030517578125, 0.0003662109375, 0.000244140625, -0.000335693359375, -0.001007080078125, -0.001251220703125, -0.00103759765625, -0.000885009765625, -0.001068115234375, -0.000946044921875, -0.000213623046875, 0.000640869140625, 0.000762939453125, 0.00018310546875, -0.0001220703125, 0.00048828125, 0.001617431640625, 0.002349853515625, 0.002288818359375, 0.0018310546875, 0.001373291015625, 0.0010986328125, 0.000946044921875, 0.000885009765625, 0.000762939453125, 0.000457763671875, -6.103515625e-05, -0.000518798828125, -0.000762939453125, -0.000823974609375, -0.000762939453125, -0.000701904296875, -0.00067138671875, -0.000885009765625, -0.001251220703125, -0.00140380859375, -0.00103759765625, -0.000335693359375, 3.0517578125e-05, -0.000152587890625, -0.000823974609375, -0.00128173828125, -0.00115966796875, -0.000732421875, -0.000335693359375, -0.000213623046875, -0.000244140625, -0.000274658203125, -0.000335693359375, -0.000335693359375, -0.000213623046875, -6.103515625e-05, 0.000274658203125, 0.00067138671875, 0.000885009765625, 0.000823974609375, 0.000579833984375, 0.00048828125, 0.00067138671875, 0.001007080078125, 0.0010986328125, 0.0009765625, 0.000732421875, 0.000579833984375, 0.000396728515625, 9.1552734375e-05, -0.000274658203125, -0.00048828125, -0.00054931640625, -0.000579833984375, -0.000640869140625, -0.000701904296875, -0.0008544921875, -0.0009765625, -0.00103759765625, -0.000946044921875, -0.000701904296875, -0.000457763671875, -0.000274658203125, -3.0517578125e-05, 0.00018310546875, 0.000213623046875, 0.0001220703125, 0.0001220703125, 0.000274658203125, 0.00042724609375, 0.00042724609375, 0.000396728515625, 0.000396728515625, 0.000335693359375, 0.0001220703125, -3.0517578125e-05, 0.0001220703125, 0.00018310546875, -6.103515625e-05, -0.000579833984375, -0.00091552734375, -0.000823974609375, -0.000396728515625, 6.103515625e-05, 0.000579833984375, 0.001007080078125, 0.00079345703125, 0.0, -0.00042724609375, 6.103515625e-05, 0.00103759765625, 0.001495361328125, 0.001129150390625, 0.000885009765625, 0.001220703125, 0.001708984375, 0.001556396484375, 0.001007080078125, 0.00067138671875, 0.0006103515625, 0.00048828125, 6.103515625e-05, -0.000335693359375, -0.0003662109375, -0.000244140625, -0.0003662109375, -0.00079345703125, -0.001220703125, -0.001373291015625, -0.00115966796875, -0.00079345703125, -0.000885009765625, -0.001556396484375, -0.00238037109375, -0.002685546875, -0.0023193359375, -0.00177001953125, -0.001220703125, -0.00079345703125, -0.00042724609375, -0.00030517578125, -0.0003662109375, -0.000213623046875, 0.000457763671875, 0.001251220703125, 0.001678466796875, 0.001617431640625, 0.001434326171875, 0.001312255859375, 0.00128173828125, 0.00128173828125, 0.0013427734375, 0.001220703125, 0.000885009765625, 0.000518798828125, 0.000213623046875, 9.1552734375e-05, -0.0001220703125, -0.0006103515625, -0.001007080078125, -0.001129150390625, -0.00103759765625, -0.000946044921875, -0.000946044921875, -0.0009765625, -0.001007080078125, -0.0010986328125, -0.000885009765625, -0.0003662109375, 0.000213623046875, 0.000335693359375, 6.103515625e-05, -0.00018310546875, -9.1552734375e-05, 0.000335693359375, 0.000701904296875, 0.000885009765625, 0.00091552734375, 0.00103759765625, 0.001007080078125, 0.000762939453125, 0.0003662109375, 6.103515625e-05, 3.0517578125e-05, 0.00018310546875, -3.0517578125e-05, -0.000518798828125, -0.000885009765625, -0.000701904296875, -0.00042724609375, -0.000457763671875, -0.000701904296875, -0.000762939453125, -0.000396728515625, 0.000152587890625, 0.00042724609375, 0.0006103515625, 0.00079345703125, 0.000762939453125, 0.000457763671875, 0.000152587890625, 0.00018310546875, 0.00048828125, 0.0006103515625, 0.000396728515625, 9.1552734375e-05, -3.0517578125e-05, 6.103515625e-05, 0.000152587890625, 9.1552734375e-05, -0.000244140625, -0.000732421875, -0.001068115234375, -0.001190185546875, -0.001068115234375, -0.001007080078125, -0.000885009765625, -0.000732421875, -0.000701904296875, -0.000885009765625, -0.001007080078125, -0.000701904296875, -0.00018310546875, -0.000213623046875, -0.001007080078125, -0.001678466796875, -0.00146484375, -0.000885009765625, -0.00067138671875, -0.000762939453125, -0.0003662109375, 0.000579833984375, 0.001068115234375, 0.00067138671875, 0.000152587890625, 0.000457763671875, 0.001220703125, 0.00140380859375, 0.000946044921875, 0.00042724609375, 0.000457763671875, 0.0006103515625, 0.0006103515625, 0.000457763671875, 0.000274658203125, 3.0517578125e-05, -0.000213623046875, -0.000244140625, -0.0001220703125, -3.0517578125e-05, -0.000244140625, -0.0003662109375, -0.000335693359375, -0.000518798828125, -0.0010986328125, -0.00164794921875, -0.001617431640625, -0.00115966796875, -0.000885009765625, -0.00091552734375, -0.00091552734375, -0.000701904296875, -0.000640869140625, -0.000640869140625, -0.00030517578125, 0.0006103515625, 0.00152587890625, 0.001800537109375, 0.00152587890625, 0.001373291015625, 0.00146484375, 0.001312255859375, 0.00079345703125, 0.000213623046875, 0.0001220703125, 0.0003662109375, 0.000396728515625, 6.103515625e-05, -0.00048828125, -0.0009765625, -0.001220703125, -0.0010986328125, -0.0008544921875, -0.000579833984375, -0.000518798828125, -0.000518798828125, -0.000518798828125, -0.000457763671875, -0.00042724609375, -0.000213623046875, 0.0, 0.000152587890625, 9.1552734375e-05, 0.000152587890625, 0.00054931640625, 0.00091552734375, 0.0009765625, 0.000732421875, 0.00067138671875, 0.000732421875, 0.000518798828125, -3.0517578125e-05, -0.00048828125, -0.0006103515625, -0.00042724609375, -0.000396728515625, -0.000518798828125, -0.000640869140625, -0.00067138671875, -0.000640869140625, -0.000518798828125, -0.00042724609375, -0.000640869140625, -0.0013427734375, -0.002197265625, -0.002532958984375, -0.002197265625, -0.00146484375, -0.00091552734375, -0.00048828125, -0.00030517578125, -0.000274658203125, -0.000213623046875, 0.0001220703125, 0.0008544921875, 0.001312255859375, 0.001190185546875, 0.000885009765625, 0.000823974609375, 0.0008544921875, 0.00054931640625, 0.0001220703125, 3.0517578125e-05, 0.000213623046875, 9.1552734375e-05, -0.000396728515625, -0.0006103515625, -0.000396728515625, -0.000244140625, -0.00048828125, -0.00067138671875, -0.0003662109375, 9.1552734375e-05, 6.103515625e-05, -0.000274658203125, -0.0003662109375, -0.0001220703125, 0.0, -3.0517578125e-05, 0.00018310546875, 0.00042724609375, 0.000274658203125, -0.000274658203125, -0.0001220703125, 0.000885009765625, 0.001861572265625, 0.00164794921875, 0.000732421875, 0.000335693359375, 0.000762939453125, 0.00115966796875, 0.00103759765625, 0.000762939453125, 0.000762939453125, 0.000701904296875, 0.000274658203125, -0.000274658203125, -0.0006103515625, -0.00079345703125, -0.000946044921875, -0.000946044921875, -0.00067138671875, -0.000396728515625, -0.00054931640625, -0.000762939453125, -0.00048828125, -6.103515625e-05, -3.0517578125e-05, -0.000579833984375, -0.001007080078125, -0.0008544921875, -0.000396728515625, -0.000152587890625, -3.0517578125e-05, 0.000274658203125, 0.0006103515625, 0.0006103515625, 0.00030517578125, 0.000213623046875, 0.000518798828125, 0.000946044921875, 0.00115966796875, 0.0009765625, 0.000732421875, 0.000457763671875, 0.000152587890625, -9.1552734375e-05, -0.000335693359375, -0.00048828125, -0.000579833984375, -0.000579833984375, -0.000701904296875, -0.000823974609375, -0.00079345703125, -0.00067138671875, -0.00091552734375, -0.0015869140625, -0.00213623046875, -0.001922607421875, -0.001190185546875, -0.00079345703125, -0.001190185546875, -0.001678466796875, -0.0013427734375, -0.000457763671875, 9.1552734375e-05, 9.1552734375e-05, 0.000213623046875, 0.000823974609375, 0.001495361328125, 0.0015869140625, 0.00140380859375, 0.001434326171875, 0.001617431640625, 0.001434326171875, 0.000885009765625, 0.000457763671875, 0.00048828125, 0.00054931640625, 0.00042724609375, 9.1552734375e-05, -0.000152587890625, -0.000335693359375, -0.000518798828125, -0.000762939453125, -0.00103759765625, -0.00128173828125, -0.001617431640625, -0.00177001953125, -0.0015869140625, -0.001129150390625, -0.000823974609375, -0.0008544921875, -0.0009765625, -0.00079345703125, -0.00042724609375, -6.103515625e-05, 0.000213623046875, 0.000518798828125, 0.000823974609375, 0.0009765625, 0.0009765625, 0.000885009765625, 0.0008544921875, 0.000885009765625, 0.000762939453125, 0.00054931640625, 0.000335693359375, 0.00018310546875, 9.1552734375e-05, -3.0517578125e-05, -0.00018310546875, -0.000457763671875, -0.000701904296875, -0.0008544921875, -0.00079345703125, -0.00067138671875, -0.000457763671875, -0.000274658203125, -0.000213623046875, -0.000335693359375, -0.000518798828125, -0.000518798828125, -0.000213623046875, -6.103515625e-05, -0.00018310546875, -0.000244140625, 0.00018310546875, 0.0009765625, 0.001556396484375, 0.00152587890625, 0.001068115234375, 0.00067138671875, 0.000579833984375, 0.000579833984375, 0.000640869140625, 0.000518798828125, 0.00030517578125, -3.0517578125e-05, -0.00018310546875, 0.0, 0.000244140625, 0.00018310546875, -0.00018310546875, -0.000457763671875, -0.000640869140625, -0.0009765625, -0.00140380859375, -0.001495361328125, -0.001007080078125, -0.000579833984375, -0.000640869140625, -0.0009765625, -0.0009765625, -0.00054931640625, -0.000274658203125, -0.00030517578125, -0.000244140625, 0.000274658203125, 0.00091552734375, 0.0010986328125, 0.000823974609375, 0.000640869140625, 0.0009765625, 0.001617431640625, 0.002044677734375, 0.001922607421875, 0.001373291015625, 0.0008544921875, 0.000640869140625, 0.000885009765625, 0.001007080078125, 0.000579833984375, -6.103515625e-05, -0.00048828125, -0.000396728515625, -0.000152587890625, -9.1552734375e-05, -0.000213623046875, -0.00030517578125, -0.00048828125, -0.00079345703125, -0.001007080078125, -0.0008544921875, -0.00042724609375, -0.000152587890625, -0.000244140625, -0.000457763671875, -0.000244140625, 0.00018310546875, 0.0003662109375, 0.00018310546875, 9.1552734375e-05, 0.000274658203125, 0.00067138671875, 0.000823974609375, 0.00054931640625, 0.00018310546875, -0.0001220703125, -0.000244140625, -9.1552734375e-05, 0.000244140625, 0.000335693359375, 9.1552734375e-05, -0.000335693359375, -0.00048828125, -0.000274658203125, 3.0517578125e-05, -6.103515625e-05, -0.000396728515625, -0.0006103515625, -0.000640869140625, -0.000579833984375, -0.000396728515625, -9.1552734375e-05, 0.000152587890625, 6.103515625e-05, -0.00030517578125, -0.000396728515625, 0.000152587890625, 0.000823974609375, 0.000946044921875, 0.000518798828125, 0.000244140625, 0.00054931640625, 0.00091552734375, 0.00079345703125, 0.0003662109375, 9.1552734375e-05, 0.0001220703125, 0.00018310546875, 6.103515625e-05, -6.103515625e-05, 9.1552734375e-05, 0.00018310546875, 0.00018310546875, 0.0, -0.000213623046875, -0.000579833984375, -0.0009765625, -0.001129150390625, -0.00091552734375, -0.0006103515625, -0.000518798828125, -0.000579833984375, -0.000518798828125, -0.000335693359375, -0.00030517578125, -0.000457763671875, -0.000244140625, 0.000335693359375, 0.000762939453125, 0.0006103515625, 0.0001220703125, 0.0, 0.000396728515625, 0.000823974609375, 0.001007080078125, 0.0008544921875, 0.0006103515625, 0.000457763671875, 0.00042724609375, 0.000579833984375, 0.000885009765625, 0.00091552734375, 0.00054931640625, 3.0517578125e-05, -0.000152587890625, 0.0, 0.0001220703125, -3.0517578125e-05, -0.000335693359375, -0.000640869140625, -0.0008544921875, -0.000946044921875, -0.0009765625, -0.0008544921875, -0.000732421875, -0.000762939453125, -0.00079345703125, -0.0008544921875, -0.000946044921875, -0.00091552734375, -0.000762939453125, -0.000579833984375, -0.000457763671875, -0.0003662109375, -0.0001220703125, 0.000213623046875, 0.000335693359375, 0.00018310546875, 6.103515625e-05, 0.000396728515625, 0.00079345703125, 0.0008544921875, 0.00054931640625, 0.0003662109375, 0.00054931640625, 0.000732421875, 0.000518798828125, 0.000152587890625, 6.103515625e-05, 0.0001220703125, -0.000152587890625, -0.000640869140625, -0.00091552734375, -0.00079345703125, -0.000518798828125, -0.00054931640625, -0.000762939453125, -0.0009765625, -0.0009765625, -0.000823974609375, -0.00054931640625, -0.00030517578125, -0.000152587890625, -3.0517578125e-05, 0.000213623046875, 0.00054931640625, 0.000579833984375, 0.00048828125, 0.000701904296875, 0.001434326171875, 0.001922607421875, 0.001556396484375, 0.000640869140625, 0.00018310546875, 0.00048828125, 0.000946044921875, 0.000885009765625, 0.00048828125, 0.000335693359375, 0.000274658203125, -0.0001220703125, -0.000701904296875, -0.0009765625, -0.000823974609375, -0.000732421875, -0.0008544921875, -0.000823974609375, -0.000518798828125, -0.00018310546875, -3.0517578125e-05, 9.1552734375e-05, 0.000396728515625, 0.00054931640625, 0.000274658203125, -0.0001220703125, -9.1552734375e-05, 0.00030517578125, 0.000335693359375, -3.0517578125e-05, -0.000152587890625, 6.103515625e-05, 0.000274658203125, 9.1552734375e-05, -0.000152587890625, 6.103515625e-05, 0.000396728515625, 0.000335693359375, 6.103515625e-05, -6.103515625e-05, 0.0, -0.000244140625, -0.000885009765625, -0.001129150390625, -0.000732421875, -0.00018310546875, -0.000213623046875, -0.00079345703125, -0.001220703125, -0.001220703125, -0.0008544921875, -0.000518798828125, -0.000274658203125, -0.00030517578125, -0.000518798828125, -0.00067138671875, -0.0003662109375, 0.000244140625, 0.00054931640625, 0.00030517578125, -6.103515625e-05, -3.0517578125e-05, 0.000457763671875, 0.0008544921875, 0.00079345703125, 0.000396728515625, 3.0517578125e-05, -0.0001220703125, 0.000213623046875, 0.000732421875, 0.000946044921875, 0.000396728515625, -0.00042724609375, -0.00048828125, 0.000396728515625, 0.001220703125, 0.000885009765625, -0.000213623046875, -0.00067138671875, 3.0517578125e-05, 0.000946044921875, 0.00103759765625, 0.000579833984375, 0.00030517578125, 0.00042724609375, 0.000396728515625, 6.103515625e-05, -0.000274658203125, -0.00018310546875, -9.1552734375e-05, -0.000274658203125, -0.000579833984375, -0.0006103515625, -0.00054931640625, -0.0006103515625, -0.000762939453125, -0.00067138671875, -0.0003662109375, -0.00018310546875, -0.000152587890625, -0.0001220703125, -3.0517578125e-05, -9.1552734375e-05, -0.000274658203125, -0.000244140625, -9.1552734375e-05, -9.1552734375e-05, -0.0003662109375, -0.00048828125, -6.103515625e-05, 0.000518798828125, 0.0006103515625, 0.00018310546875, -0.00018310546875, 6.103515625e-05, 0.00042724609375, 0.00048828125, 0.0001220703125, -0.000152587890625, -0.00018310546875, -6.103515625e-05, 6.103515625e-05, 0.0001220703125, 0.000152587890625, 3.0517578125e-05, -0.000152587890625, -0.00018310546875, -9.1552734375e-05, -0.000152587890625, -0.0003662109375, -0.000457763671875, -0.000457763671875, -0.000518798828125, -0.00067138671875, -0.00079345703125, -0.000640869140625, -0.000457763671875, -0.000518798828125, -0.00067138671875, -0.000579833984375, -0.0003662109375, -0.000335693359375, -0.00042724609375, -0.000274658203125, 0.00018310546875, 0.000518798828125, 0.00030517578125, -0.000152587890625, -0.00018310546875, 0.000244140625, 0.000762939453125, 0.0009765625, 0.000823974609375, 0.00042724609375, -6.103515625e-05, -9.1552734375e-05, 0.0003662109375, 0.00091552734375, 0.0008544921875, 0.00018310546875, -0.00048828125, -0.0003662109375, 0.000274658203125, 0.000701904296875, 0.0006103515625, 0.0003662109375, 0.000244140625, 3.0517578125e-05, -0.00042724609375, -0.0008544921875, -0.000762939453125, -0.00042724609375, -0.000244140625, -0.000518798828125, -0.0008544921875, -0.000762939453125, -0.0003662109375, -0.00018310546875, -0.000213623046875, -0.00042724609375, -0.00048828125, -0.00042724609375, -0.000396728515625, -0.000274658203125, -9.1552734375e-05, 9.1552734375e-05, 0.0, -0.000213623046875, -0.000213623046875, 9.1552734375e-05, 0.000335693359375, 0.000244140625, 9.1552734375e-05, 0.00018310546875, 0.000335693359375, 0.000152587890625, -0.00030517578125, -0.00030517578125, 0.000274658203125, 0.000732421875, 0.000457763671875, -0.00018310546875, -0.000457763671875, -0.000244140625, -9.1552734375e-05, -0.000213623046875, -0.0003662109375, -0.000396728515625, -0.000457763671875, -0.000640869140625, -0.000701904296875, -0.000457763671875, -0.00042724609375, -0.000762939453125, -0.001068115234375, -0.00091552734375, -0.0006103515625, -0.000518798828125, -0.000762939453125, -0.000701904296875, -0.000396728515625, -0.000274658203125, -0.000335693359375, -0.0001220703125, 0.000640869140625, 0.00128173828125, 0.00115966796875, 0.000640869140625, 0.00042724609375, 0.0006103515625, 0.00079345703125, 0.000701904296875, 0.000396728515625, 9.1552734375e-05, -0.000213623046875, -0.00042724609375, -0.00048828125, -0.00042724609375, -0.0006103515625, -0.00091552734375, -0.001129150390625, -0.00103759765625, -0.001068115234375, -0.001373291015625, -0.001495361328125, -0.0010986328125, -0.000457763671875, -0.000152587890625, -0.000274658203125, -0.000457763671875, -0.00030517578125, 3.0517578125e-05, 0.00030517578125, 0.000518798828125, 0.000579833984375, 0.000396728515625, 0.000152587890625, 6.103515625e-05, 0.000213623046875, 0.000274658203125, -0.000152587890625, -0.000885009765625, -0.001220703125, -0.0008544921875, -0.000213623046875, 3.0517578125e-05, -0.000244140625, -0.00067138671875, -0.000762939453125, -0.00048828125, -9.1552734375e-05, 0.000213623046875, 0.000396728515625, 0.000335693359375, 9.1552734375e-05, -0.0001220703125, 0.0, 0.000518798828125, 0.00115966796875, 0.001190185546875, 0.0006103515625, -3.0517578125e-05, -0.00018310546875, 0.0001220703125, 0.000244140625, -6.103515625e-05, -0.00042724609375, -0.00048828125, -0.00042724609375, -0.00048828125, -0.000701904296875, -0.000701904296875, -0.00048828125, -0.0003662109375, -0.000518798828125, -0.000640869140625, -0.000518798828125, -0.000213623046875, -9.1552734375e-05, -0.000152587890625, 0.0, 0.000244140625, 0.000396728515625, 0.00042724609375, 0.000457763671875, 0.000640869140625, 0.000823974609375, 0.000732421875, 0.00042724609375, 0.000335693359375, 0.000396728515625, 0.00042724609375, 0.00030517578125, 0.000274658203125, 0.00030517578125, 0.00018310546875, -0.000244140625, -0.00067138671875, -0.000762939453125, -0.000640869140625, -0.0006103515625, -0.000701904296875, -0.0006103515625, -0.000457763671875, -0.00048828125, -0.00067138671875, -0.000640869140625, -0.0003662109375, -0.000152587890625, -0.000152587890625, -9.1552734375e-05, 0.00018310546875, 0.0003662109375, 0.00018310546875, -0.00018310546875, -0.0003662109375, -0.00030517578125, -0.000213623046875, -0.000274658203125, -0.000244140625, -0.000152587890625, -0.000152587890625, -0.000457763671875, -0.0008544921875, -0.001007080078125, -0.00079345703125, -0.000213623046875, 0.0003662109375, 0.0006103515625, 0.000213623046875, -0.000396728515625, -0.000396728515625, 0.0003662109375, 0.001068115234375, 0.0010986328125, 0.000640869140625, 0.000335693359375, 0.00042724609375, 0.000579833984375, 0.000640869140625, 0.00067138671875, 0.000732421875, 0.00048828125, -3.0517578125e-05, -0.000457763671875, -0.000457763671875, -0.000244140625, -0.00030517578125, -0.000579833984375, -0.000701904296875, -0.000579833984375, -0.00042724609375, -0.00048828125, -0.0006103515625, -0.00067138671875, -0.000701904296875, -0.0006103515625, -0.00018310546875, 0.000457763671875, 0.000946044921875, 0.000946044921875, 0.00067138671875, 0.0003662109375, 0.000152587890625, 3.0517578125e-05, 0.0, 0.0, -6.103515625e-05, -0.000213623046875, -0.000213623046875, 6.103515625e-05, 0.00030517578125, 0.00018310546875, -0.000396728515625, -0.000762939453125, -0.000518798828125, 0.000213623046875, 0.000701904296875, 0.000701904296875, 0.0003662109375, 6.103515625e-05, -0.0001220703125, -0.0001220703125, 3.0517578125e-05, 0.00030517578125, 0.000335693359375, 0.000152587890625, 0.000152587890625, 0.00042724609375, 0.000885009765625, 0.001007080078125, 0.0006103515625, 0.000152587890625, -3.0517578125e-05, 0.000152587890625, 0.000396728515625, 0.00048828125, 0.00054931640625, 0.00054931640625, 0.000396728515625, -3.0517578125e-05, -0.000335693359375, -0.000244140625, 0.000152587890625, 0.00030517578125, -3.0517578125e-05, -0.00054931640625, -0.000732421875, -0.000518798828125, -0.00030517578125, -0.000274658203125, -0.000244140625, 6.103515625e-05, 0.00054931640625, 0.000762939453125, 0.00054931640625, 0.000213623046875, 0.00018310546875, 0.000457763671875, 0.000732421875, 0.000762939453125, 0.00067138671875, 0.000518798828125, 0.000335693359375, 6.103515625e-05, -0.00018310546875, -0.00018310546875, -0.000152587890625, -0.000213623046875, -0.000518798828125, -0.00091552734375, -0.00115966796875, -0.001220703125, -0.001068115234375, -0.0006103515625, -0.000213623046875, -0.000213623046875, -0.000701904296875, -0.001007080078125, -0.00067138671875, 0.000335693359375, 0.0009765625, 0.001007080078125, 0.000762939453125, 0.000640869140625, 0.000579833984375, 0.000335693359375, 3.0517578125e-05, -0.0001220703125, -6.103515625e-05, -3.0517578125e-05, -6.103515625e-05, 0.0, 0.0001220703125, 0.0, -0.000396728515625, -0.000701904296875, -0.00054931640625, -3.0517578125e-05, 0.000457763671875, 0.000640869140625, 0.000579833984375, 0.00030517578125, 3.0517578125e-05, 3.0517578125e-05, 0.000335693359375, 0.00067138671875, 0.000579833984375, 0.000244140625, -3.0517578125e-05, 6.103515625e-05, 0.000335693359375, 0.000396728515625, 0.000213623046875, -9.1552734375e-05, -0.000213623046875, -0.0001220703125, 0.0001220703125, 0.00030517578125, 0.000244140625, -6.103515625e-05, -0.00030517578125, -0.0003662109375, -0.000335693359375, -0.000274658203125, -0.000152587890625, -9.1552734375e-05, -0.00018310546875, -0.00042724609375, -0.000640869140625, -0.000579833984375, -0.000274658203125, -6.103515625e-05, 0.000152587890625, 0.000396728515625, 0.000732421875, 0.00091552734375, 0.0008544921875, 0.00067138671875, 0.000396728515625, 9.1552734375e-05, -0.000213623046875, -0.000213623046875, 0.000152587890625, 0.00048828125, 0.000396728515625, 3.0517578125e-05, -0.000396728515625, -0.0006103515625, -0.000732421875, -0.00079345703125, -0.000762939453125, -0.00067138671875, -0.0006103515625, -0.000701904296875, -0.000762939453125, -0.000732421875, -0.00054931640625, -0.000274658203125, 3.0517578125e-05, 0.000335693359375, 0.000396728515625, 0.000457763671875, 0.000579833984375, 0.000823974609375, 0.0009765625, 0.0009765625, 0.0008544921875, 0.00067138671875, 0.00054931640625, 0.000640869140625, 0.00079345703125, 0.000732421875, 0.000335693359375, -0.0001220703125, 6.103515625e-05, 0.000762939453125, 0.00140380859375, 0.001251220703125, 0.00054931640625, -3.0517578125e-05, 0.0, 0.000244140625, 0.0003662109375, 0.00030517578125, 0.000244140625, 0.000152587890625, -0.0001220703125, -0.000396728515625, -0.00048828125, -0.000396728515625, -0.00048828125, -0.00067138671875, -0.0008544921875, -0.0008544921875, -0.000701904296875, -0.000518798828125, -0.00042724609375, -0.000396728515625, -0.00018310546875, 0.000152587890625, 0.000518798828125, 0.00054931640625, 0.000274658203125, -3.0517578125e-05, 3.0517578125e-05, 0.000518798828125, 0.00103759765625, 0.001251220703125, 0.00115966796875, 0.0008544921875, 0.000396728515625, -3.0517578125e-05, -0.000244140625, -9.1552734375e-05, -3.0517578125e-05, -0.000213623046875, -0.00030517578125, -0.0001220703125, 0.00018310546875, 6.103515625e-05, -0.000244140625, -0.000335693359375, -0.000213623046875, -0.000244140625, -0.000579833984375, -0.000762939453125, -0.00042724609375, -9.1552734375e-05, -0.000457763671875, -0.00152587890625, -0.00262451171875, -0.003082275390625, -0.002777099609375, -0.001983642578125, -0.00115966796875, -0.000640869140625, -0.000518798828125, -0.0006103515625, -0.000518798828125, -0.000213623046875, 0.0001220703125, 0.00030517578125, 0.00042724609375, 0.0006103515625, 0.00067138671875, 0.000732421875, 0.001068115234375, 0.0015869140625, 0.0018310546875, 0.001434326171875, 0.000762939453125, 0.000396728515625, 0.0003662109375, 0.00018310546875, -0.000396728515625, -0.00103759765625, -0.00128173828125, -0.001251220703125, -0.001129150390625, -0.000946044921875, -0.00067138671875, -0.000518798828125, -0.0006103515625, -0.000732421875, -0.000579833984375, -0.0003662109375, -0.00030517578125, -0.0003662109375, -0.000244140625, 0.000213623046875, 0.0006103515625, 0.0006103515625, 0.000274658203125, 9.1552734375e-05, 0.00018310546875, 0.00018310546875, -9.1552734375e-05, -0.000396728515625, -0.000518798828125, -0.000335693359375, -0.0001220703125, -6.103515625e-05, 0.0, 0.00018310546875, 0.000457763671875, 0.00067138671875, 0.00067138671875, 0.00048828125, 0.00030517578125, 0.00018310546875, 0.000213623046875, 0.000213623046875, 0.000152587890625, -3.0517578125e-05, 3.0517578125e-05, 0.000396728515625, 0.00091552734375, 0.001007080078125, 0.000579833984375, 6.103515625e-05, 9.1552734375e-05, 0.000732421875, 0.001495361328125, 0.001800537109375, 0.001708984375, 0.00146484375, 0.00103759765625, 0.000396728515625, -0.000213623046875, -0.000457763671875, -0.000274658203125, -0.0001220703125, -0.00048828125, -0.001251220703125, -0.00189208984375, -0.001953125, -0.001800537109375, -0.0018310546875, -0.00225830078125, -0.002655029296875, -0.002532958984375, -0.0018310546875, -0.00103759765625, -0.000518798828125, -0.000152587890625, 0.000396728515625, 0.001007080078125, 0.001251220703125, 0.001190185546875, 0.001190185546875, 0.00140380859375, 0.00164794921875, 0.001556396484375, 0.00128173828125, 0.00115966796875, 0.001007080078125, 0.00067138671875, 0.00018310546875, -0.000244140625, -0.00067138671875, -0.001129150390625, -0.00152587890625, -0.0015869140625, -0.001220703125, -0.000885009765625, -0.00091552734375, -0.001129150390625, -0.0009765625, -0.000579833984375, -0.000335693359375, -0.0003662109375, -0.000396728515625, -3.0517578125e-05, 0.000457763671875, 0.000640869140625, 0.000457763671875, 0.000152587890625, -0.0001220703125, -0.0003662109375, -0.000579833984375, -0.000518798828125, -0.000152587890625, 0.000213623046875, 0.000274658203125, 9.1552734375e-05, -6.103515625e-05, 0.0, 0.0, -0.000152587890625, -0.000335693359375, -0.0003662109375, -0.00018310546875, 3.0517578125e-05, 0.000152587890625, 0.000244140625, 0.0003662109375, 0.000396728515625, 0.000244140625, 0.0, -0.00030517578125, -0.000396728515625, -0.0003662109375, -0.0003662109375, -0.0003662109375, -0.000152587890625, 0.0003662109375, 0.0009765625, 0.00128173828125, 0.0010986328125, 0.0006103515625, 0.000213623046875, 0.000152587890625, 0.00018310546875, 0.0001220703125, -0.000152587890625, -0.000579833984375, -0.000823974609375, -0.000701904296875, -0.000335693359375, -0.000274658203125, -0.000823974609375, -0.0018310546875, -0.0025634765625, -0.0025634765625, -0.0020751953125, -0.00164794921875, -0.001617431640625, -0.0015869140625, -0.001312255859375, -0.0008544921875, -0.0006103515625, -0.000518798828125, -0.000244140625, 0.00030517578125, 0.0008544921875, 0.001129150390625, 0.00115966796875, 0.001251220703125, 0.001251220703125, 0.001068115234375, 0.0006103515625, 9.1552734375e-05, -0.000274658203125, -0.000457763671875, -0.00048828125, -0.000244140625, 0.000213623046875, 0.00054931640625, 0.00054931640625, 0.000335693359375, 0.00018310546875, 9.1552734375e-05, -9.1552734375e-05, -0.000396728515625, -0.00048828125, -0.000213623046875, 9.1552734375e-05, 0.000152587890625, 3.0517578125e-05, -6.103515625e-05, -9.1552734375e-05, -0.000274658203125, -0.000762939453125, -0.001312255859375, -0.001617431640625, -0.001556396484375, -0.0013427734375, -0.0009765625, -0.00054931640625, -6.103515625e-05, 0.000213623046875, 0.000213623046875, 0.0001220703125, 0.000274658203125, 0.00048828125, 0.0006103515625, 0.00067138671875, 0.0009765625, 0.00146484375, 0.001556396484375, 0.000946044921875, 0.000152587890625, -0.00030517578125, -0.000335693359375, -0.000518798828125, -0.0008544921875, -0.000732421875, 6.103515625e-05, 0.00091552734375, 0.00103759765625, 0.000732421875, 0.000701904296875, 0.00115966796875, 0.0015869140625, 0.00152587890625, 0.001251220703125, 0.00103759765625, 0.00091552734375, 0.00079345703125, 0.0006103515625, 0.000640869140625, 0.000396728515625, -0.000274658203125, -0.001190185546875, -0.001708984375, -0.001708984375, -0.00177001953125, -0.002044677734375, -0.002166748046875, -0.00177001953125, -0.001220703125, -0.000885009765625, -0.000823974609375, -0.000762939453125, -0.000732421875, -0.000732421875, -0.00067138671875, -0.000396728515625, 6.103515625e-05, 0.000396728515625, 0.0006103515625, 0.000885009765625, 0.001220703125, 0.001190185546875, 0.000762939453125, 0.000213623046875, -0.0001220703125, -0.0003662109375, -0.000823974609375, -0.001373291015625, -0.00164794921875, -0.00146484375, -0.0010986328125, -0.0008544921875, -0.00067138671875, -0.00048828125, -0.000244140625, -0.0001220703125, -0.000274658203125, -0.000579833984375, -0.00079345703125, -0.00067138671875, -0.000274658203125, 3.0517578125e-05, 6.103515625e-05, -0.000274658203125, -0.0006103515625, -0.000885009765625, -0.001251220703125, -0.001678466796875, -0.00152587890625, -0.000640869140625, 0.00054931640625, 0.00115966796875, 0.0009765625, 0.00079345703125, 0.00115966796875, 0.00177001953125, 0.001953125, 0.001678466796875, 0.0013427734375, 0.001251220703125, 0.0010986328125, 0.000701904296875, 0.00030517578125, 6.103515625e-05, -9.1552734375e-05, -0.00030517578125, -0.000518798828125, -0.000640869140625, -0.000579833984375, -0.00054931640625, -0.0006103515625, -0.00067138671875, -0.000579833984375, -0.000335693359375, -3.0517578125e-05, 0.000396728515625, 0.000885009765625, 0.00146484375, 0.0020751953125, 0.002532958984375, 0.002471923828125, 0.001983642578125, 0.001373291015625, 0.00091552734375, 0.00048828125, -6.103515625e-05, -0.000640869140625, -0.00103759765625, -0.0013427734375, -0.0018310546875, -0.00244140625, -0.002685546875, -0.00244140625, -0.002197265625, -0.002349853515625, -0.002655029296875, -0.002471923828125, -0.001739501953125, -0.000885009765625, -0.000244140625, 0.000274658203125, 0.0008544921875, 0.00128173828125, 0.0015869140625, 0.001800537109375, 0.002044677734375, 0.00189208984375, 0.001190185546875, 0.00042724609375, 0.0, -0.000244140625, -0.000640869140625, -0.001007080078125, -0.001007080078125, -0.000701904296875, -0.000640869140625, -0.0008544921875, -0.000823974609375, -0.000335693359375, 0.0001220703125, 3.0517578125e-05, -0.000152587890625, 0.0, 0.000335693359375, 0.000335693359375, 6.103515625e-05, 9.1552734375e-05, 0.000335693359375, 0.000244140625, -0.000396728515625, -0.000885009765625, -0.000946044921875, -0.000885009765625, -0.001068115234375, -0.00103759765625, -0.000457763671875, 0.00030517578125, 0.00048828125, 0.000152587890625, -3.0517578125e-05, 0.00030517578125, 0.000762939453125, 0.001129150390625, 0.001708984375, 0.002471923828125, 0.003021240234375, 0.002838134765625, 0.002227783203125, 0.001495361328125, 0.000762939453125, -3.0517578125e-05, -0.0008544921875, -0.001434326171875, -0.001678466796875, -0.00177001953125, -0.001617431640625, -0.001220703125, -0.000701904296875, -0.00054931640625, -0.00067138671875, -0.000518798828125, 0.000152587890625, 0.0009765625, 0.001434326171875, 0.001434326171875, 0.001434326171875, 0.001739501953125, 0.002105712890625, 0.002166748046875, 0.001861572265625, 0.001373291015625, 0.000946044921875, 0.00054931640625, 0.0001220703125, -0.000335693359375, -0.000518798828125, -0.000457763671875, -0.0006103515625, -0.00140380859375, -0.002655029296875, -0.00341796875, -0.00311279296875, -0.002227783203125, -0.001617431640625, -0.001434326171875, -0.00091552734375, 0.000152587890625, 0.001312255859375, 0.001922607421875, 0.001983642578125, 0.001953125, 0.001861572265625, 0.001556396484375, 0.001068115234375, 0.00079345703125, 0.000732421875, 0.00048828125, -0.000213623046875, -0.001007080078125, -0.001495361328125, -0.001617431640625, -0.0015869140625, -0.0015869140625, -0.00146484375, -0.00128173828125, -0.000946044921875, -0.000518798828125, 0.0, 0.000518798828125, 0.00079345703125, 0.00091552734375, 0.001068115234375, 0.001220703125, 0.001251220703125, 0.0009765625, 0.000579833984375, 0.000244140625, 0.0, -0.00030517578125, -0.0006103515625, -0.000579833984375, -6.103515625e-05, 0.000396728515625, 0.000335693359375, -3.0517578125e-05, -9.1552734375e-05, 0.000244140625, 0.000457763671875, 0.0001220703125, -0.0003662109375, -0.000335693359375, 0.000274658203125, 0.0008544921875, 0.00091552734375, 0.000701904296875, 0.000579833984375, 0.000518798828125, 0.000274658203125, -0.000274658203125, -0.000579833984375, -0.000457763671875, -0.0001220703125, -3.0517578125e-05, -0.0003662109375, -0.0008544921875, -0.00103759765625, -0.000762939453125, -0.000274658203125, 0.00018310546875, 0.000579833984375, 0.000946044921875, 0.001251220703125, 0.00128173828125, 0.001007080078125, 0.00079345703125, 0.000885009765625, 0.001129150390625, 0.001129150390625, 0.000885009765625, 0.0006103515625, 0.00054931640625, 0.0003662109375, -6.103515625e-05, -0.000335693359375, -0.00030517578125, -0.000274658203125, -0.0008544921875, -0.001739501953125, -0.002288818359375, -0.002044677734375, -0.001434326171875, -0.001068115234375, -0.0008544921875, -0.000457763671875, 6.103515625e-05, 0.000396728515625, 0.00054931640625, 0.000732421875, 0.001007080078125, 0.00115966796875, 0.000885009765625, 0.000518798828125, 0.000244140625, 9.1552734375e-05, 0.0001220703125, 0.000244140625, 0.000274658203125, 6.103515625e-05, -0.000518798828125, -0.0010986328125, -0.001312255859375, -0.00115966796875, -0.0010986328125, -0.001190185546875, -0.001251220703125, -0.00091552734375, -0.0003662109375, 6.103515625e-05, 0.000244140625, 0.000152587890625, 3.0517578125e-05, -9.1552734375e-05, -6.103515625e-05, 0.000152587890625, 0.00054931640625, 0.000885009765625, 0.000946044921875, 0.000762939453125, 0.0006103515625, 0.000701904296875, 0.000823974609375, 0.000518798828125, 0.0, -0.000396728515625, -0.000213623046875, 0.0001220703125, 0.0001220703125, -0.00018310546875, -0.000274658203125, -9.1552734375e-05, -0.000152587890625, -0.0006103515625, -0.0009765625, -0.000885009765625, -0.00067138671875, -0.000732421875, -0.000885009765625, -0.00048828125, 0.000213623046875, 0.00054931640625, 0.00018310546875, -0.000274658203125, -0.00030517578125, -6.103515625e-05, 0.0001220703125, 0.000213623046875, 0.000457763671875, 0.000579833984375, 0.000457763671875, 0.000213623046875, 0.000244140625, 0.000274658203125, -0.0001220703125, -0.00054931640625, -0.0003662109375, 0.000518798828125, 0.00128173828125, 0.00146484375, 0.0013427734375, 0.001312255859375, 0.001007080078125, 0.000244140625, -0.00054931640625, -0.000762939453125, -0.000640869140625, -0.000885009765625, -0.001434326171875, -0.00164794921875, -0.00128173828125, -0.000823974609375, -0.000640869140625, -0.00054931640625, -0.000396728515625, -0.00054931640625, -0.000946044921875, -0.0009765625, -0.0001220703125, 0.000762939453125, 0.000701904296875, -0.000335693359375, -0.00115966796875, -0.00128173828125, -0.001068115234375, -0.001068115234375, -0.000946044921875, -0.00030517578125, 0.000518798828125, 0.0008544921875, 0.000701904296875, 0.00067138671875, 0.0009765625, 0.001190185546875, 0.00103759765625, 0.00067138671875, 0.00048828125, 0.00048828125, 0.000640869140625, 0.000823974609375, 0.00103759765625, 0.0008544921875, 0.000213623046875, -0.000396728515625, -0.000518798828125, -0.000335693359375, -0.00030517578125, -0.0006103515625, -0.0008544921875, -0.000640869140625, -0.00018310546875, 9.1552734375e-05, 0.000152587890625, 0.00018310546875, 0.000152587890625, 3.0517578125e-05, -0.000244140625, -0.00030517578125, -6.103515625e-05, 0.00030517578125, 0.000518798828125, 0.000518798828125, 0.00048828125, 0.00042724609375, 0.000274658203125, -6.103515625e-05, -0.00048828125, -0.000762939453125, -0.00079345703125, -0.000701904296875, -0.0003662109375, 3.0517578125e-05, 0.000213623046875, 0.00018310546875, -3.0517578125e-05, -9.1552734375e-05, 0.000274658203125, 0.000885009765625, 0.001312255859375, 0.001312255859375, 0.0009765625, 0.0006103515625, 0.00054931640625, 0.000640869140625, 0.00067138671875, 0.000335693359375, -6.103515625e-05, -0.000244140625, -0.000152587890625, -0.00018310546875, -0.000274658203125, -0.000335693359375, -0.000152587890625, 0.0, -0.000396728515625, -0.0013427734375, -0.00213623046875, -0.002166748046875, -0.0015869140625, -0.0010986328125, -0.001129150390625, -0.00146484375, -0.00146484375, -0.00091552734375, -0.000244140625, -0.00018310546875, -0.000579833984375, -0.00091552734375, -0.000762939453125, -0.000457763671875, -0.0003662109375, -0.00030517578125, 9.1552734375e-05, 0.00079345703125, 0.001251220703125, 0.001129150390625, 0.000762939453125, 0.00054931640625, 0.0006103515625, 0.000732421875, 0.000732421875, 0.000518798828125, 0.000244140625, 6.103515625e-05, 0.00018310546875, 0.00042724609375, 0.00067138671875, 0.000701904296875, 0.0006103515625, 0.00042724609375, 3.0517578125e-05, -0.000396728515625, -0.000457763671875, 0.0, 0.0003662109375, 0.000213623046875, -0.000335693359375, -0.000579833984375, -0.000457763671875, -0.000396728515625, -0.000579833984375, -0.00048828125, -0.0001220703125, 3.0517578125e-05, -0.000335693359375, -0.000457763671875, 0.00018310546875, 0.000732421875, 0.00030517578125, -0.00054931640625, -0.000396728515625, 0.000823974609375, 0.001556396484375, 0.001068115234375, 0.00042724609375, 0.000762939453125, 0.001220703125, 0.0006103515625, -0.0006103515625, -0.0006103515625, 0.0006103515625, 0.001129150390625, -0.000152587890625, -0.0018310546875, -0.00213623046875, -0.0013427734375, -0.001007080078125, -0.001220703125, -0.001068115234375, -9.1552734375e-05, 0.000518798828125, 6.103515625e-05, -0.00048828125, -3.0517578125e-05, 0.00103759765625, 0.0015869140625, 0.001434326171875, 0.00115966796875, 0.001220703125, 0.0010986328125, 0.00054931640625, -6.103515625e-05, -0.000396728515625, -0.000457763671875, -0.000640869140625, -0.0010986328125, -0.001678466796875, -0.002044677734375, -0.002166748046875, -0.001983642578125, -0.001617431640625, -0.0013427734375, -0.001220703125, -0.00103759765625, -0.000732421875, -0.00048828125, -0.00030517578125, 3.0517578125e-05, 0.000640869140625, 0.001007080078125, 0.000823974609375, 0.00042724609375, 0.00048828125, 0.0010986328125, 0.001373291015625, 0.0008544921875, 6.103515625e-05, -0.0003662109375, -0.000274658203125, -0.000396728515625, -0.00079345703125, -0.0010986328125, -0.0010986328125, -0.000946044921875, -0.000823974609375, -0.000579833984375, -6.103515625e-05, 0.0006103515625, 0.00091552734375, 0.00079345703125, 0.000579833984375, 0.0006103515625, 0.000823974609375, 0.000885009765625, 0.000579833984375, 0.000213623046875, -9.1552734375e-05, -0.000213623046875, -0.000518798828125, -0.000823974609375, -0.001129150390625, -0.001251220703125, -0.001373291015625, -0.00140380859375, -0.0010986328125, -0.000396728515625, 0.000213623046875, 0.000274658203125, -0.000152587890625, -0.00030517578125, 0.000274658203125, 0.00128173828125, 0.00189208984375, 0.00177001953125, 0.001373291015625, 0.001312255859375, 0.0015869140625, 0.001739501953125, 0.001434326171875, 0.0009765625, 0.00067138671875, 0.000579833984375, 0.000152587890625, -0.0008544921875, -0.001708984375, -0.001556396484375, -0.000732421875, -0.000518798828125, -0.001373291015625, -0.00238037109375, -0.002471923828125, -0.001861572265625, -0.00140380859375, -0.0010986328125, -0.000244140625, 0.00091552734375, 0.001495361328125, 0.001251220703125, 0.000946044921875, 0.00115966796875, 0.00128173828125, 0.000732421875, 0.0, -0.00018310546875, -0.000152587890625, -0.000518798828125, -0.000946044921875, -0.000518798828125, 0.00030517578125, 0.000335693359375, -0.00048828125, -0.001007080078125, -0.00042724609375, 6.103515625e-05, -0.000335693359375, -0.000732421875, -3.0517578125e-05, 0.00103759765625, 0.000885009765625, -0.00030517578125, -0.0006103515625, 0.000396728515625, 0.001068115234375, 0.000396728515625, -0.000244140625, 0.000457763671875, 0.001251220703125, 0.00054931640625, -0.0010986328125, -0.0013427734375, -6.103515625e-05, 0.000579833984375, -0.0006103515625, -0.002105712890625, -0.002288818359375, -0.001800537109375, -0.001983642578125, -0.002197265625, -0.00091552734375, 0.00128173828125, 0.002227783203125, 0.001434326171875, 0.000640869140625, 0.00128173828125, 0.002197265625, 0.0020751953125, 0.00152587890625, 0.00164794921875, 0.00189208984375, 0.00128173828125, 0.000213623046875, 0.000152587890625, 0.000946044921875, 0.00091552734375, -0.0003662109375, -0.00128173828125, -0.00091552734375, -0.000213623046875, -0.000396728515625, -0.00079345703125, -0.000518798828125, 9.1552734375e-05, -0.000152587890625, -0.000946044921875, -0.0009765625, -9.1552734375e-05, 0.000457763671875, 0.000274658203125, 0.0001220703125, 0.000335693359375, 0.000274658203125, -0.00018310546875, -0.000152587890625, 0.000457763671875, 0.0006103515625, -0.000457763671875, -0.00164794921875, -0.00152587890625, -0.000579833984375, -0.0003662109375, -0.0010986328125, -0.00152587890625, -0.00115966796875, -0.000732421875, -0.000701904296875, -0.000518798828125, -9.1552734375e-05, -9.1552734375e-05, -0.00079345703125, -0.00115966796875, -0.0003662109375, 0.00079345703125, 0.0009765625, 0.000457763671875, 0.000213623046875, 0.00048828125, 0.000396728515625, -0.00018310546875, -0.00042724609375, -0.00018310546875, -6.103515625e-05, -0.0003662109375, -0.000396728515625, 0.000152587890625, 0.000640869140625, 0.000335693359375, -0.0001220703125, 0.0, 0.00042724609375, 0.000335693359375, -0.000152587890625, -0.000244140625, 0.00030517578125, 0.000701904296875, 0.000579833984375, 0.000213623046875, 0.000244140625, 0.000396728515625, 0.000335693359375, 9.1552734375e-05, -9.1552734375e-05, -0.000244140625, -0.0003662109375, -0.000396728515625, -0.000396728515625, -0.000396728515625, -0.00048828125, -0.000244140625, 0.000244140625, 0.00054931640625, 0.000457763671875, 0.000244140625, 0.000335693359375, 0.000640869140625, 0.00067138671875, 0.0003662109375, 0.000152587890625, 0.000213623046875, 0.000335693359375, 0.000335693359375, 0.000335693359375, 0.00030517578125, 0.000213623046875, 0.0, -0.000152587890625, -0.000274658203125, -0.000579833984375, -0.000732421875, -0.000457763671875, 3.0517578125e-05, 3.0517578125e-05, -0.0006103515625, -0.001068115234375, -0.00079345703125, -0.0001220703125, -6.103515625e-05, -0.000457763671875, -0.0008544921875, -0.0008544921875, -0.000885009765625, -0.0008544921875, -0.00054931640625, 0.0, 0.00030517578125, 0.000213623046875, 0.0001220703125, 0.000152587890625, 0.000152587890625, -0.0001220703125, -0.000244140625, -0.000213623046875, -0.000244140625, -0.000640869140625, -0.000885009765625, -0.000762939453125, -0.000640869140625, -0.000885009765625, -0.001190185546875, -0.0010986328125, -0.00079345703125, -0.000518798828125, -0.0003662109375, -3.0517578125e-05, 0.0003662109375, 0.000518798828125, 0.00042724609375, 0.00048828125, 0.00054931640625, 0.000579833984375, 0.00079345703125, 0.001190185546875, 0.00128173828125, 0.0006103515625, -9.1552734375e-05, 0.00018310546875, 0.001068115234375, 0.00115966796875, 0.000213623046875, -0.000396728515625, 6.103515625e-05, 0.00042724609375, -0.000213623046875, -0.0008544921875, -0.00054931640625, 3.0517578125e-05, -0.000274658203125, -0.00067138671875, 0.00018310546875, 0.00152587890625, 0.0013427734375, -9.1552734375e-05, -0.000335693359375, 0.001434326171875, 0.00299072265625, 0.002471923828125, 0.001190185546875, 0.001068115234375, 0.001434326171875, 0.000701904296875, -0.00067138671875, -0.0006103515625, 0.000701904296875, 0.001068115234375, -9.1552734375e-05, -0.0008544921875, -0.000244140625, 0.000518798828125, 0.0001220703125, -0.00042724609375, -3.0517578125e-05, 0.000579833984375, 0.0, -0.00103759765625, -0.0009765625, 0.0, 0.000457763671875, -9.1552734375e-05, -0.00030517578125, 0.000244140625, 0.00067138671875, 0.00018310546875, -0.000396728515625, -0.0003662109375, -9.1552734375e-05, -0.0001220703125, -0.00042724609375, -0.000579833984375, -0.0008544921875, -0.00140380859375, -0.001495361328125, -0.000946044921875, -0.000396728515625, -0.00054931640625, -0.00091552734375, -0.000640869140625, -0.000274658203125, -0.000640869140625, -0.00128173828125, -0.0009765625, 3.0517578125e-05, 0.000396728515625, -0.0001220703125, -0.000274658203125, 0.000396728515625, 0.000823974609375, 0.000152587890625, -0.000579833984375, -0.000152587890625, 0.000823974609375, 0.0008544921875, 3.0517578125e-05, -0.00030517578125, 0.0001220703125, 0.000579833984375, 0.00054931640625, 0.0006103515625, 0.000885009765625, 0.000640869140625, -0.000244140625, -0.00067138671875, -0.000213623046875, 0.0001220703125, -0.00042724609375, -0.000885009765625, 6.103515625e-05, 0.001708984375, 0.002105712890625, 0.000885009765625, -0.000152587890625, 0.0001220703125, 0.0010986328125, 0.00152587890625, 0.001373291015625, 0.00115966796875, 0.001068115234375, 0.000762939453125, 0.0006103515625, 0.00079345703125, 0.000885009765625, 0.000396728515625, -0.00030517578125, -0.000396728515625, 3.0517578125e-05, 0.000335693359375, 0.0001220703125, -0.00018310546875, -0.000213623046875, 0.0, 0.000152587890625, 0.000335693359375, 0.000396728515625, 0.00018310546875, -0.000213623046875, -0.000152587890625, 0.000396728515625, 0.000701904296875, 0.00048828125, 0.00018310546875, 0.000335693359375, 0.000457763671875, -0.00018310546875, -0.001251220703125, -0.001678466796875, -0.00103759765625, -0.000213623046875, -0.000152587890625, -0.00079345703125, -0.00140380859375, -0.001434326171875, -0.00091552734375, -0.00042724609375, -0.0003662109375, -0.00048828125, -0.000274658203125, 0.000335693359375, 0.000762939453125, 0.000579833984375, 0.000152587890625, 0.00018310546875, 0.0003662109375, -0.0001220703125, -0.00115966796875, -0.001678466796875, -0.00128173828125, -0.000823974609375, -0.001068115234375, -0.00146484375, -0.0010986328125, -0.0003662109375, -0.00030517578125, -0.00079345703125, -0.00079345703125, -6.103515625e-05, 0.000640869140625, 0.00048828125, 0.000152587890625, 0.000274658203125, 0.00067138671875, 0.0006103515625, 9.1552734375e-05, -0.000152587890625, 0.000152587890625, 0.000335693359375, 0.0, -0.00067138671875, -0.001007080078125, -0.000946044921875, -0.000762939453125, -0.000701904296875, -0.000732421875, -0.000640869140625, -0.000244140625, 6.103515625e-05, -6.103515625e-05, -0.00048828125, -0.0003662109375, 0.000518798828125, 0.001373291015625, 0.001251220703125, 0.000457763671875, 0.000152587890625, 0.0006103515625, 0.001190185546875, 0.001190185546875, 0.000885009765625, 0.0008544921875, 0.000885009765625, 0.00054931640625, 3.0517578125e-05, -0.000152587890625, -6.103515625e-05, -3.0517578125e-05, 3.0517578125e-05, 0.0003662109375, 0.00054931640625, 0.0001220703125, -0.00067138671875, -0.000762939453125, -3.0517578125e-05, 0.00048828125, 0.000244140625, -0.0001220703125, 6.103515625e-05, 0.0003662109375, 0.000152587890625, -0.000274658203125, -3.0517578125e-05, 0.00067138671875, 0.000762939453125, 0.0001220703125, -0.000213623046875, 0.000213623046875, 0.00054931640625, 3.0517578125e-05, -0.00048828125, -3.0517578125e-05, 0.000701904296875, 0.0003662109375, -0.00079345703125, -0.001129150390625, -0.000152587890625, 0.00054931640625, -0.00018310546875, -0.00128173828125, -0.001251220703125, -0.000579833984375, -0.0006103515625, -0.001251220703125, -0.001007080078125, 0.000335693359375, 0.0010986328125, 0.000335693359375, -0.00079345703125, -0.000518798828125, 0.00079345703125, 0.001556396484375, 0.001129150390625, 0.0006103515625, 0.000518798828125, 0.000335693359375, -0.000640869140625, -0.00177001953125, -0.002105712890625, -0.001373291015625, -0.00048828125, -0.00030517578125, -0.000885009765625, -0.001495361328125, -0.00164794921875, -0.00128173828125, -0.000640869140625, -0.000213623046875, 0.00030517578125, 0.001068115234375, 0.001678466796875, 0.00140380859375, 0.000396728515625, -9.1552734375e-05, 0.00091552734375, 0.00238037109375, 0.00274658203125, 0.001708984375, 0.000518798828125, -3.0517578125e-05, -0.000213623046875, -0.000457763671875, -0.00030517578125, 0.000518798828125, 0.001129150390625, 0.000579833984375, -0.00079345703125, -0.001495361328125, -0.00103759765625, -9.1552734375e-05, 0.00042724609375, 0.00048828125, 0.0006103515625, 0.000701904296875, 0.000579833984375, 0.000274658203125, 0.00030517578125, 0.000732421875, 0.001007080078125, 0.00067138671875, 3.0517578125e-05, -0.000152587890625, 0.000213623046875, 0.000396728515625, -0.000274658203125, -0.001312255859375, -0.00164794921875, -0.001068115234375, -0.00042724609375, -0.00048828125, -0.000732421875, -0.000396728515625, 0.0003662109375, 0.00048828125, -3.0517578125e-05, -0.0001220703125, 0.000518798828125, 0.001007080078125, 0.0006103515625, 9.1552734375e-05, 0.000335693359375, 0.00067138671875, -6.103515625e-05, -0.001495361328125, -0.001922607421875, -0.000885009765625, -6.103515625e-05, -0.000457763671875, -0.001373291015625, -0.001434326171875, -0.001068115234375, -0.001129150390625, -0.001373291015625, -0.000885009765625, 0.000244140625, 0.0009765625, 0.000701904296875, 9.1552734375e-05, -0.000274658203125, -0.0003662109375, -0.00030517578125, 0.000244140625, 0.00067138671875, 0.000396728515625, -0.000457763671875, -0.000823974609375, -0.000335693359375, 6.103515625e-05, -3.0517578125e-05, 0.0, 0.0006103515625, 0.000762939453125, -0.000396728515625, -0.001800537109375, -0.001739501953125, -0.00054931640625, 9.1552734375e-05, -0.000244140625, -0.0003662109375, 0.000244140625, 0.000518798828125, -3.0517578125e-05, -0.00048828125, -6.103515625e-05, 0.000732421875, 0.000946044921875, 0.000762939453125, 0.0006103515625, 0.0003662109375, -0.000335693359375, -0.000701904296875, -3.0517578125e-05, 0.0008544921875, 0.000823974609375, 0.0001220703125, -9.1552734375e-05, 0.00018310546875, -9.1552734375e-05, -0.000762939453125, -0.00048828125, 0.000823974609375, 0.00128173828125, -6.103515625e-05, -0.001556396484375, -0.001373291015625, -0.000244140625, -3.0517578125e-05, -0.000823974609375, -0.001068115234375, -0.00048828125, -0.000274658203125, -0.000732421875, -0.000823974609375, -6.103515625e-05, 0.00054931640625, 0.00030517578125, -3.0517578125e-05, 0.000213623046875, 0.000518798828125, 0.000396728515625, 0.000213623046875, 0.000457763671875, 0.00042724609375, -0.0003662109375, -0.0009765625, -0.00042724609375, 0.000457763671875, 0.000213623046875, -0.000640869140625, -0.00054931640625, 0.00048828125, 0.000823974609375, -3.0517578125e-05, -0.000518798828125, 0.00018310546875, 0.000946044921875, 0.000396728515625, -0.000579833984375, -0.00054931640625, 9.1552734375e-05, -6.103515625e-05, -0.0008544921875, -0.0009765625, -0.000152587890625, 0.000396728515625, 0.00018310546875, -0.00018310546875, -0.00018310546875, -0.000335693359375, -0.000701904296875, -0.0006103515625, -3.0517578125e-05, 0.000152587890625, -0.000274658203125, -0.000335693359375, 0.000579833984375, 0.001251220703125, 0.0006103515625, -0.000396728515625, -0.00018310546875, 0.0008544921875, 0.001129150390625, 0.00048828125, 0.000244140625, 0.00054931640625, 0.00054931640625, 0.0, -3.0517578125e-05, 0.000762939453125, 0.001007080078125, -6.103515625e-05, -0.0010986328125, -0.000640869140625, 0.00054931640625, 0.00091552734375, 0.00048828125, 0.000732421875, 0.00140380859375, 0.000885009765625, -0.000701904296875, -0.0015869140625, -0.000762939453125, 0.000244140625, -3.0517578125e-05, -0.00091552734375, -0.00091552734375, -0.000335693359375, -0.00042724609375, -0.00103759765625, -0.0009765625, -6.103515625e-05, 0.000396728515625, -0.0001220703125, -0.00054931640625, -0.000274658203125, 6.103515625e-05, -3.0517578125e-05, -6.103515625e-05, 0.000518798828125, 0.00103759765625, 0.00054931640625, -0.000518798828125, -0.000823974609375, -0.000213623046875, 0.000244140625, 6.103515625e-05, -0.000213623046875, -3.0517578125e-05, 3.0517578125e-05, -0.00048828125, -0.00115966796875, -0.00103759765625, -0.000244140625, 0.0006103515625, 0.000885009765625, 0.000640869140625, 6.103515625e-05, -0.000579833984375, -0.000732421875, -0.000335693359375, 0.000152587890625, 0.00018310546875, 6.103515625e-05, 0.000152587890625, 0.000244140625, -0.000244140625, -0.001007080078125, -0.000946044921875, 9.1552734375e-05, 0.000701904296875, 0.0, -0.0013427734375, -0.001800537109375, -0.001312255859375, -0.000885009765625, -0.000732421875, 0.0, 0.001312255859375, 0.001861572265625, 0.00091552734375, -0.00054931640625, -0.000762939453125, 3.0517578125e-05, 0.000518798828125, 0.0003662109375, 0.00042724609375, 0.0009765625, 0.00079345703125, -0.000518798828125, -0.001953125, -0.002197265625, -0.00128173828125, -0.00048828125, -0.00030517578125, -0.000274658203125, -3.0517578125e-05, 6.103515625e-05, -0.000274658203125, -0.00042724609375, 0.000213623046875, 0.001312255859375, 0.001953125, 0.001739501953125, 0.00103759765625, 0.000396728515625, -0.000213623046875, -0.000823974609375, -0.001129150390625, -0.0008544921875, -0.000244140625, 0.0, -0.000457763671875, -0.001220703125, -0.00146484375, -0.001007080078125, -0.000335693359375, 0.000152587890625, 0.0003662109375, 0.000518798828125, 0.000701904296875, 0.000701904296875, 0.00042724609375, 0.0001220703125, 6.103515625e-05, 0.00018310546875, 0.000396728515625, 0.00048828125, 0.0003662109375, -6.103515625e-05, -0.000640869140625, -0.000885009765625, -0.0006103515625, -6.103515625e-05, 0.00018310546875, 6.103515625e-05, -0.000335693359375, -0.0006103515625, -0.000823974609375, -0.00079345703125, -0.000244140625, 0.000518798828125, 0.0010986328125, 0.001190185546875, 0.00103759765625, 0.001068115234375, 0.00128173828125, 0.001312255859375, 0.0010986328125, 0.0009765625, 0.001007080078125, 0.00079345703125, 0.0, -0.000946044921875, -0.001190185546875, -0.00048828125, 0.00018310546875, -0.000274658203125, -0.001708984375, -0.002899169921875, -0.002716064453125, -0.00164794921875, -0.0008544921875, -0.000762939453125, -0.000762939453125, -0.000244140625, 0.000335693359375, 0.0003662109375, 0.00018310546875, 0.00042724609375, 0.001251220703125, 0.001708984375, 0.0013427734375, 0.0006103515625, 0.00018310546875, -3.0517578125e-05, -9.1552734375e-05, -3.0517578125e-05, 0.00018310546875, 0.000244140625, -0.00018310546875, -0.000732421875, -0.00079345703125, -0.00030517578125, 6.103515625e-05, 9.1552734375e-05, -6.103515625e-05, 9.1552734375e-05, 0.00042724609375, 0.000518798828125, 0.0003662109375, 0.00018310546875, -3.0517578125e-05, -0.000244140625, -0.000244140625, -3.0517578125e-05, 6.103515625e-05, -0.000274658203125, -0.000701904296875, -0.000823974609375, -0.000640869140625, -0.00067138671875, -0.00091552734375, -0.000640869140625, 0.000396728515625, 0.0013427734375, 0.00128173828125, 0.0006103515625, 0.00030517578125, 0.000823974609375, 0.001708984375, 0.002197265625, 0.00225830078125, 0.00189208984375, 0.0013427734375, 0.0009765625, 0.001068115234375, 0.00140380859375, 0.0013427734375, 0.000701904296875, 0.0, -0.000335693359375, -0.000396728515625, -0.000640869140625, -0.0008544921875, -0.000701904296875, -0.000396728515625, -0.000579833984375, -0.001129150390625, -0.00146484375, -0.001220703125, -0.000701904296875, -0.0003662109375, -0.00030517578125, -0.0001220703125, 3.0517578125e-05, 0.000152587890625, 0.00030517578125, 0.00048828125, 0.00054931640625, 0.000274658203125, -0.000335693359375, -0.0008544921875, -0.001129150390625, -0.001220703125, -0.00103759765625, -0.00067138671875, -0.000213623046875, -3.0517578125e-05, -3.0517578125e-05, -0.000152587890625, -0.000396728515625, -0.00091552734375, -0.00140380859375, -0.00115966796875, -0.000274658203125, 0.00042724609375, 0.000213623046875, -0.000701904296875, -0.00164794921875, -0.00201416015625, -0.00189208984375, -0.001434326171875, -0.0008544921875, -0.000335693359375, -9.1552734375e-05, -9.1552734375e-05, -0.0001220703125, -0.0001220703125, -0.000152587890625, 0.0, 0.0003662109375, 0.000762939453125, 0.000762939453125, 0.000457763671875, 9.1552734375e-05, -0.0001220703125, -0.0003662109375, -0.000518798828125, -0.000244140625, 0.000518798828125, 0.00115966796875, 0.0010986328125, 0.00054931640625, 0.0001220703125, -3.0517578125e-05, -9.1552734375e-05, -0.000152587890625, -0.000152587890625, -6.103515625e-05, 3.0517578125e-05, 0.000244140625, 0.000732421875, 0.001434326171875, 0.00177001953125, 0.001373291015625, 0.00091552734375, 0.001007080078125, 0.00146484375, 0.001708984375, 0.001556396484375, 0.001190185546875, 0.000823974609375, 0.00030517578125, -0.00030517578125, -0.000762939453125, -0.0008544921875, -0.000732421875, -0.000640869140625, -0.000701904296875, -0.00091552734375, -0.001251220703125, -0.001434326171875, -0.001251220703125, -0.000823974609375, -0.000732421875, -0.001190185546875, -0.001617431640625, -0.001190185546875, -0.00030517578125, 0.00018310546875, -3.0517578125e-05, -0.0003662109375, -9.1552734375e-05, 0.000396728515625, 0.0003662109375, 6.103515625e-05, 9.1552734375e-05, 0.0006103515625, 0.000946044921875, 0.000640869140625, 6.103515625e-05, -0.000335693359375, -0.0003662109375, -0.00042724609375, -0.000640869140625, -0.0009765625, -0.001251220703125, -0.001373291015625, -0.001129150390625, -0.000701904296875, -0.00042724609375, -0.00067138671875, -0.000946044921875, -0.000732421875, -6.103515625e-05, 0.00048828125, 0.000518798828125, 0.000396728515625, 0.00054931640625, 0.0008544921875, 0.0008544921875, 0.0006103515625, 0.0006103515625, 0.00079345703125, 0.000762939453125, 0.000244140625, -0.00042724609375, -0.000762939453125, -0.000640869140625, -0.000457763671875, -0.000640869140625, -0.001007080078125, -0.0010986328125, -0.000823974609375, -0.000579833984375, -0.0006103515625, -0.00048828125, 0.0003662109375, 0.0015869140625, 0.001983642578125, 0.001251220703125, 0.0006103515625, 0.0013427734375, 0.003082275390625, 0.0040283203125, 0.003662109375, 0.002899169921875, 0.002593994140625, 0.001922607421875, -0.0001220703125, -0.00262451171875, -0.003509521484375, -0.00244140625, -0.001251220703125, -0.001678466796875, -0.003204345703125, -0.004150390625, -0.003814697265625, -0.0029296875, -0.002288818359375, -0.001739501953125, -0.000946044921875, -6.103515625e-05, 0.00054931640625, 0.000762939453125, 0.001068115234375, 0.00177001953125, 0.00274658203125, 0.00323486328125, 0.00286865234375, 0.002044677734375, 0.0013427734375, 0.001251220703125, 0.001373291015625, 0.001007080078125, 0.00018310546875, -0.000457763671875, -0.000732421875, -0.001251220703125, -0.002532958984375, -0.00372314453125, -0.003753662109375, -0.002685546875, -0.001800537109375, -0.001953125, -0.002471923828125, -0.00225830078125, -0.001495361328125, -0.0008544921875, -0.000579833984375, 0.0, 0.001220703125, 0.00225830078125, 0.002349853515625, 0.001800537109375, 0.001434326171875, 0.00146484375, 0.0015869140625, 0.00146484375, 0.0013427734375, 0.001129150390625, 0.000640869140625, -0.0001220703125, -0.000396728515625, -3.0517578125e-05, 0.00048828125, 0.000457763671875, 0.0001220703125, 0.000152587890625, 0.000396728515625, 0.00030517578125, -0.000274658203125, -0.00067138671875, -0.00054931640625, -0.0003662109375, -0.000244140625, 0.000213623046875, 0.001312255859375, 0.002288818359375, 0.00225830078125, 0.001495361328125, 0.000946044921875, 0.00067138671875, 0.000152587890625, -0.000823974609375, -0.001495361328125, -0.00146484375, -0.0013427734375, -0.001556396484375, -0.001678466796875, -0.001312255859375, -0.00091552734375, -0.0010986328125, -0.00146484375, -0.001373291015625, -0.000762939453125, -0.000152587890625, 0.00018310546875, 0.000823974609375, 0.00140380859375, 0.001556396484375, 0.001190185546875, 0.0010986328125, 0.001251220703125, 0.000885009765625, -0.0001220703125, -0.00054931640625, 0.000640869140625, 0.002288818359375, 0.00262451171875, 0.00146484375, 0.0001220703125, -0.0006103515625, -0.001251220703125, -0.002227783203125, -0.00286865234375, -0.00262451171875, -0.001953125, -0.0015869140625, -0.001495361328125, -0.001251220703125, -0.0009765625, -0.0009765625, -0.00103759765625, -0.00067138671875, 0.000152587890625, 0.00079345703125, 0.001190185546875, 0.0015869140625, 0.001953125, 0.00177001953125, 0.00115966796875, 0.000640869140625, 0.00054931640625, 0.000518798828125, 0.000152587890625, -0.0003662109375, -0.000762939453125, -0.001129150390625, -0.001434326171875, -0.00140380859375, -0.00091552734375, -0.000457763671875, -0.00054931640625, -0.000823974609375, -0.000732421875, -0.000335693359375, -0.0001220703125, -0.000335693359375, -0.0003662109375, -3.0517578125e-05, 0.000457763671875, 0.000885009765625, 0.001434326171875, 0.002044677734375, 0.002288818359375, 0.00201416015625, 0.001556396484375, 0.00146484375, 0.001495361328125, 0.001220703125, 0.000732421875, 0.00030517578125, -0.00018310546875, -0.0010986328125, -0.00213623046875, -0.00274658203125, -0.00274658203125, -0.002471923828125, -0.00238037109375, -0.00262451171875, -0.0029296875, -0.00299072265625, -0.002593994140625, -0.001800537109375, -0.001007080078125, -0.000457763671875, -6.103515625e-05, 0.00042724609375, 0.001007080078125, 0.001220703125, 0.0013427734375, 0.001861572265625, 0.0028076171875, 0.00341796875, 0.0032958984375, 0.0028076171875, 0.0023193359375, 0.001373291015625, -0.000274658203125, -0.001922607421875, -0.002685546875, -0.0028076171875, -0.00323486328125, -0.003997802734375, -0.004150390625, -0.00335693359375, -0.0025634765625, -0.0023193359375, -0.001861572265625, -0.0006103515625, 0.0008544921875, 0.00152587890625, 0.0018310546875, 0.002777099609375, 0.0040283203125, 0.004119873046875, 0.002777099609375, 0.001495361328125, 0.001220703125, 0.001373291015625, 0.000732421875, -0.00042724609375, -0.001190185546875, -0.001434326171875, -0.0018310546875, -0.002593994140625, -0.002960205078125, -0.0028076171875, -0.002655029296875, -0.0025634765625, -0.001983642578125, -0.000762939453125, 0.00018310546875, 0.00030517578125, 0.000244140625, 0.001220703125, 0.00323486328125, 0.0050048828125, 0.005615234375, 0.0052490234375, 0.0047607421875, 0.004547119140625, 0.00421142578125, 0.003387451171875, 0.0020751953125, 0.000640869140625, -0.000640869140625, -0.00189208984375, -0.003265380859375, -0.004547119140625, -0.00537109375, -0.0054931640625, -0.00531005859375, -0.00518798828125, -0.0050048828125, -0.004241943359375, -0.00286865234375, -0.001312255859375, -3.0517578125e-05, 0.00079345703125, 0.00152587890625, 0.002166748046875, 0.0028076171875, 0.00323486328125, 0.003509521484375, 0.003570556640625, 0.00372314453125, 0.00396728515625, 0.003875732421875, 0.0029296875, 0.001556396484375, 0.0006103515625, 0.000244140625, -0.000244140625, -0.001312255859375, -0.00244140625, -0.00286865234375, -0.003021240234375, -0.003570556640625, -0.004425048828125, -0.00439453125, -0.003387451171875, -0.0023193359375, -0.001983642578125, -0.001861572265625, -0.00103759765625, 0.000244140625, 0.00128173828125, 0.001739501953125, 0.002197265625, 0.0028076171875, 0.00323486328125, 0.003082275390625, 0.00262451171875, 0.002227783203125, 0.00201416015625, 0.00177001953125, 0.0013427734375, 0.00054931640625, -0.00042724609375, -0.001068115234375, -0.001129150390625, -0.000885009765625, -0.000885009765625, -0.00103759765625, -0.001007080078125, -0.000885009765625, -0.001129150390625, -0.001678466796875, -0.002044677734375, -0.001861572265625, -0.00152587890625, -0.00103759765625, 0.000213623046875, 0.00250244140625, 0.00469970703125, 0.005523681640625, 0.005279541015625, 0.004913330078125, 0.0045166015625, 0.003143310546875, 0.001007080078125, -0.0006103515625, -0.001007080078125, -0.001434326171875, -0.002777099609375, -0.00433349609375, -0.004791259765625, -0.0045166015625, -0.004852294921875, -0.005828857421875, -0.0059814453125, -0.004608154296875, -0.002777099609375, -0.001617431640625, -0.00079345703125, 0.000396728515625, 0.0015869140625, 0.00177001953125, 0.00128173828125, 0.001251220703125, 0.001983642578125, 0.002685546875, 0.00299072265625, 0.00341796875, 0.00421142578125, 0.00445556640625, 0.003448486328125, 0.00146484375, -0.000518798828125, -0.00201416015625, -0.003204345703125, -0.004150390625, -0.004608154296875, -0.004486083984375, -0.004180908203125, -0.004058837890625, -0.00396728515625, -0.00341796875, -0.002349853515625, -0.001220703125, -0.000274658203125, 0.00042724609375, 0.0013427734375, 0.00244140625, 0.003204345703125, 0.00335693359375, 0.0029296875, 0.002227783203125, 0.001708984375, 0.00128173828125, 0.000701904296875, 3.0517578125e-05, -0.00054931640625, -0.00103759765625, -0.00152587890625, -0.0018310546875, -0.00189208984375, -0.0018310546875, -0.0020751953125, -0.00244140625, -0.002410888671875, -0.001983642578125, -0.001495361328125, -0.00103759765625, -0.000335693359375, 0.000457763671875, 0.000823974609375, 0.000885009765625, 0.001678466796875, 0.003692626953125, 0.00567626953125, 0.006103515625, 0.005157470703125, 0.00433349609375, 0.004058837890625, 0.003265380859375, 0.001220703125, -0.00091552734375, -0.00201416015625, -0.002593994140625, -0.003662109375, -0.005096435546875, -0.005615234375, -0.00518798828125, -0.00506591796875, -0.005523681640625, -0.0052490234375, -0.00341796875, -0.001007080078125, 0.00054931640625, 0.001495361328125, 0.00262451171875, 0.0037841796875, 0.004058837890625, 0.003570556640625, 0.003265380859375, 0.003509521484375, 0.003570556640625, 0.003173828125, 0.002960205078125, 0.00335693359375, 0.0035400390625, 0.002593994140625, 0.000946044921875, -0.000579833984375, -0.001861572265625, -0.003173828125, -0.004364013671875, -0.0047607421875, -0.0045166015625, -0.004180908203125, -0.0040283203125, -0.003448486328125, -0.002410888671875, -0.001556396484375, -0.0010986328125, -0.000457763671875, 0.000732421875, 0.002105712890625, 0.003173828125, 0.004150390625, 0.005126953125, 0.00531005859375, 0.00408935546875, 0.002044677734375, 0.0006103515625, 0.0001220703125, -0.0003662109375, -0.001251220703125, -0.001953125, -0.00201416015625, -0.001861572265625, -0.002166748046875, -0.002593994140625, -0.00250244140625, -0.00201416015625, -0.00177001953125, -0.001617431640625, -0.00103759765625, 9.1552734375e-05, 0.000885009765625, 0.00103759765625, 0.00091552734375, 0.001251220703125, 0.001983642578125, 0.002838134765625, 0.003631591796875, 0.004302978515625, 0.004486083984375, 0.00390625, 0.002777099609375, 0.001617431640625, 0.000518798828125, -0.000579833984375, -0.00189208984375, -0.003204345703125, -0.0042724609375, -0.004791259765625, -0.004638671875, -0.004058837890625, -0.003753662109375, -0.004058837890625, -0.00433349609375, -0.0037841796875, -0.00244140625, -0.001190185546875, -0.000335693359375, 0.00067138671875, 0.001983642578125, 0.00286865234375, 0.002593994140625, 0.00189208984375, 0.001861572265625, 0.002655029296875, 0.003173828125, 0.002899169921875, 0.0025634765625, 0.002655029296875, 0.0025634765625, 0.001434326171875, -0.000335693359375, -0.001800537109375, -0.002716064453125, -0.003753662109375, -0.004791259765625, -0.005096435546875, -0.004425048828125, -0.003448486328125, -0.003021240234375, -0.0028076171875, -0.0020751953125, -0.001007080078125, -0.000396728515625, -0.00030517578125, 0.00018310546875, 0.001495361328125, 0.00299072265625, 0.00390625, 0.004058837890625, 0.003875732421875, 0.0035400390625, 0.0028076171875, 0.00177001953125, 0.00067138671875, -0.000335693359375, -0.001007080078125, -0.0009765625, -3.0517578125e-05, 0.0013427734375, 0.002044677734375, 0.001556396484375, 0.0003662109375, -0.000823974609375, -0.001922607421875, -0.002899169921875, -0.003448486328125, -0.003173828125, -0.002410888671875, -0.00152587890625, -0.000640869140625, 0.00079345703125, 0.002685546875, 0.00408935546875, 0.004180908203125, 0.00335693359375, 0.002532958984375, 0.0020751953125, 0.001678466796875, 0.000946044921875, 9.1552734375e-05, -0.00042724609375, -0.0006103515625, -0.0009765625, -0.001708984375, -0.0025634765625, -0.003326416015625, -0.004058837890625, -0.005035400390625, -0.00579833984375, -0.0054931640625, -0.003814697265625, -0.001495361328125, 0.000335693359375, 0.00140380859375, 0.00189208984375, 0.0020751953125, 0.001861572265625, 0.001373291015625, 0.0010986328125, 0.001434326171875, 0.00201416015625, 0.002655029296875, 0.00360107421875, 0.004791259765625, 0.005401611328125, 0.004638671875, 0.00274658203125, 0.0006103515625, -0.001434326171875, -0.003662109375, -0.00592041015625, -0.0069580078125, -0.006378173828125, -0.0052490234375, -0.004425048828125, -0.00360107421875, -0.002166748046875, -0.00079345703125, -0.000701904296875, -0.00146484375, -0.00128173828125, 0.000640869140625, 0.00299072265625, 0.004302978515625, 0.00482177734375, 0.005401611328125, 0.005615234375, 0.00433349609375, 0.001678466796875, -0.00067138671875, -0.001861572265625, -0.00250244140625, -0.00299072265625, -0.002838134765625, -0.00152587890625, -6.103515625e-05, 0.00030517578125, -0.000396728515625, -0.0013427734375, -0.001953125, -0.00250244140625, -0.003082275390625, -0.003082275390625, -0.00201416015625, -0.000244140625, 0.00177001953125, 0.003936767578125, 0.006195068359375, 0.007843017578125, 0.008026123046875, 0.00640869140625, 0.003692626953125, 0.001129150390625, -0.000274658203125, -0.00054931640625, -0.000701904296875, -0.001861572265625, -0.003814697265625, -0.00537109375, -0.005889892578125, -0.00592041015625, -0.006439208984375, -0.007232666015625, -0.00732421875, -0.00634765625, -0.004791259765625, -0.00299072265625, -0.0006103515625, 0.002197265625, 0.00439453125, 0.005218505859375, 0.004913330078125, 0.004608154296875, 0.0047607421875, 0.004913330078125, 0.004730224609375, 0.00439453125, 0.00408935546875, 0.0037841796875, 0.003265380859375, 0.00262451171875, 0.001708984375, 0.000152587890625, -0.00189208984375, -0.00390625, -0.00537109375, -0.006072998046875, -0.00604248046875, -0.005401611328125, -0.00439453125, -0.0035400390625, -0.0030517578125, -0.00244140625, -0.0013427734375, -6.103515625e-05, 0.000732421875, 0.00115966796875, 0.001922607421875, 0.003173828125, 0.00421142578125, 0.004486083984375, 0.00439453125, 0.004241943359375, 0.0037841796875, 0.002349853515625, 0.000244140625, -0.001708984375, -0.002960205078125, -0.00347900390625, -0.00323486328125, -0.00201416015625, -0.000274658203125, 0.000946044921875, 0.0009765625, 0.000152587890625, -0.000579833984375, -0.000762939453125, -0.000335693359375, 0.0003662109375, 0.0009765625, 0.001373291015625, 0.00189208984375, 0.003082275390625, 0.004669189453125, 0.005615234375, 0.0050048828125, 0.003326416015625, 0.00177001953125, 0.000579833984375, -0.00067138671875, -0.001861572265625, -0.00250244140625, -0.002349853515625, -0.002288818359375, -0.003143310546875, -0.0042724609375, -0.00469970703125, -0.004486083984375, -0.004486083984375, -0.00482177734375, -0.004364013671875, -0.002349853515625, 0.000335693359375, 0.00244140625, 0.0035400390625, 0.004302978515625, 0.004974365234375, 0.0050048828125, 0.004119873046875, 0.002838134765625, 0.0020751953125, 0.001739501953125, 0.00146484375, 0.001251220703125, 0.001434326171875, 0.001922607421875, 0.001708984375, 0.000274658203125, -0.00177001953125, -0.003570556640625, -0.004913330078125, -0.005859375, -0.006011962890625, -0.004913330078125, -0.003387451171875, -0.00250244140625, -0.002349853515625, -0.00177001953125, -0.000244140625, 0.000946044921875, 0.000732421875, -0.000244140625, -0.000335693359375, 0.000701904296875, 0.00177001953125, 0.002349853515625, 0.0029296875, 0.0037841796875, 0.00384521484375, 0.0023193359375, 0.00018310546875, -0.0009765625, -0.0010986328125, -0.001190185546875, -0.001617431640625, -0.001495361328125, -0.0006103515625, 0.00018310546875, 0.000152587890625, -6.103515625e-05, 3.0517578125e-05, 9.1552734375e-05, -0.000457763671875, -0.00128173828125, -0.001251220703125, -0.000152587890625, 0.00115966796875, 0.002105712890625, 0.00286865234375, 0.003631591796875, 0.003936767578125, 0.003570556640625, 0.00274658203125, 0.00177001953125, 0.0006103515625, -0.000457763671875, -0.000762939453125, -0.000213623046875, 0.000244140625, -0.0003662109375, -0.001708984375, -0.002655029296875, -0.002777099609375, -0.002685546875, -0.002777099609375, -0.0028076171875, -0.002716064453125, -0.002777099609375, -0.0029296875, -0.002288818359375, -0.000457763671875, 0.00146484375, 0.001739501953125, 0.000396728515625, -0.001129150390625, -0.001556396484375]\n",
            "اپنا خیال رکھنا اللہ حافظ\n"
          ],
          "name": "stdout"
        }
      ]
    },
    {
      "cell_type": "markdown",
      "metadata": {
        "id": "AoQJb3oCZ1bn"
      },
      "source": [
        " # Checking that all files have the correct sampling rate"
      ]
    },
    {
      "cell_type": "code",
      "metadata": {
        "id": "-ORoCCPBP4Uv"
      },
      "source": [
        "def prepare_dataset(batch):\n",
        "    assert (\n",
        "        len(set(batch[\"sampling_rate\"])) == 1\n",
        "    ), f\"Make sure all inputs have the same sampling rate of {processor.feature_extractor.sampling_rate}.\"\n",
        "\n",
        "    batch[\"input_values\"] = processor(batch[\"speech\"], sampling_rate=batch[\"sampling_rate\"][0]).input_values\n",
        "    \n",
        "    with processor.as_target_processor():\n",
        "        batch[\"labels\"] = processor(batch[\"target_text\"]).input_ids\n",
        "    return batch"
      ],
      "execution_count": 26,
      "outputs": []
    },
    {
      "cell_type": "code",
      "metadata": {
        "colab": {
          "base_uri": "https://localhost:8080/",
          "height": 352,
          "referenced_widgets": [
            "2788efe237644b3aac6a710ac7450c8a",
            "44f8195ff08f452d95a9d143ff989eda",
            "a5f051c7899545a19ed0196208445e17",
            "1f440e2144f74fed9ef15d47bec76a82",
            "403cb11fb7934330ba3dea5816a8d059",
            "5f5387ca16fd4ca088236cac335efb52",
            "69755560e41c4574a3074f1f0b705969",
            "69c6396c76f24ffca4881714365b9d0f",
            "7360a53c06954b01a1de9d3089b4e00a",
            "f88b8ccfacac4ad0b3acf63426cb7fdb",
            "147ffb46038845d7bc352e569dd375e6",
            "c2e8bdde28f348a8b74d8835333de1ff",
            "1de58baaa4fc40ee88ea80e723aa0870",
            "8712476479c449e28bd48fc4710f6991",
            "3c774da7c8a647948314f56b79793782",
            "ffca7991e0214b8ebe369806371dada5",
            "7a605c8dff5a4d76bccfdb1fbbd6cf44",
            "ea034e4e668841cbb5f571651eab3c4f",
            "54a5aad490224f2198b09cb9b1b6126b",
            "2a74e84192dd41e68ff401f8f1af2579",
            "759acb7382a843619a2a951a0167996d",
            "7c24278943e84ced8b2e7b205cb67106",
            "4bb640101c6442d79ce2ad4770ed30ee",
            "2656ff02dd46486db31fb38807197c05",
            "547c282748a64b6b906d95c8e9cb58b2",
            "cad1f194f7ed4cf9915e21502002a297",
            "afe5c4b1bcc642abb4144dc681fa9915",
            "3160c04773384d75bedc44a25df806f1",
            "769e09824d3442e2a44868a7ff767d8b",
            "5ba47f8b21fc4d349f736ec3f45e555b",
            "a43b209d8a334d4680e48ebd5fc34f90",
            "2df45862414140749d0f828e55b23efd"
          ]
        },
        "id": "7oXHmz1ZXuCV",
        "outputId": "b5567e73-7bec-4ff8-e59d-a93bd11f4b57"
      },
      "source": [
        "data = data.map(prepare_dataset, remove_columns=data.column_names, batch_size=8, num_proc=4, batched=True)"
      ],
      "execution_count": null,
      "outputs": [
        {
          "output_type": "stream",
          "text": [
            " "
          ],
          "name": "stdout"
        },
        {
          "output_type": "display_data",
          "data": {
            "application/vnd.jupyter.widget-view+json": {
              "model_id": "2788efe237644b3aac6a710ac7450c8a",
              "version_minor": 0,
              "version_major": 2
            },
            "text/plain": [
              "HBox(children=(FloatProgress(value=0.0, description='#0', max=94.0, style=ProgressStyle(description_width='ini…"
            ]
          },
          "metadata": {
            "tags": []
          }
        },
        {
          "output_type": "stream",
          "text": [
            " "
          ],
          "name": "stdout"
        },
        {
          "output_type": "display_data",
          "data": {
            "application/vnd.jupyter.widget-view+json": {
              "model_id": "7360a53c06954b01a1de9d3089b4e00a",
              "version_minor": 0,
              "version_major": 2
            },
            "text/plain": [
              "HBox(children=(FloatProgress(value=0.0, description='#1', max=94.0, style=ProgressStyle(description_width='ini…"
            ]
          },
          "metadata": {
            "tags": []
          }
        },
        {
          "output_type": "stream",
          "text": [
            "/usr/local/lib/python3.7/dist-packages/numpy/core/_asarray.py:83: VisibleDeprecationWarning: Creating an ndarray from ragged nested sequences (which is a list-or-tuple of lists-or-tuples-or ndarrays with different lengths or shapes) is deprecated. If you meant to do this, you must specify 'dtype=object' when creating the ndarray\n",
            "  return array(a, dtype, copy=False, order=order)\n"
          ],
          "name": "stderr"
        },
        {
          "output_type": "stream",
          "text": [
            " "
          ],
          "name": "stdout"
        },
        {
          "output_type": "stream",
          "text": [
            "/usr/local/lib/python3.7/dist-packages/numpy/core/_asarray.py:83: VisibleDeprecationWarning: Creating an ndarray from ragged nested sequences (which is a list-or-tuple of lists-or-tuples-or ndarrays with different lengths or shapes) is deprecated. If you meant to do this, you must specify 'dtype=object' when creating the ndarray\n",
            "  return array(a, dtype, copy=False, order=order)\n"
          ],
          "name": "stderr"
        },
        {
          "output_type": "display_data",
          "data": {
            "application/vnd.jupyter.widget-view+json": {
              "model_id": "7a605c8dff5a4d76bccfdb1fbbd6cf44",
              "version_minor": 0,
              "version_major": 2
            },
            "text/plain": [
              "HBox(children=(FloatProgress(value=0.0, description='#2', max=94.0, style=ProgressStyle(description_width='ini…"
            ]
          },
          "metadata": {
            "tags": []
          }
        },
        {
          "output_type": "stream",
          "text": [
            " "
          ],
          "name": "stdout"
        },
        {
          "output_type": "display_data",
          "data": {
            "application/vnd.jupyter.widget-view+json": {
              "model_id": "547c282748a64b6b906d95c8e9cb58b2",
              "version_minor": 0,
              "version_major": 2
            },
            "text/plain": [
              "HBox(children=(FloatProgress(value=0.0, description='#3', max=94.0, style=ProgressStyle(description_width='ini…"
            ]
          },
          "metadata": {
            "tags": []
          }
        },
        {
          "output_type": "stream",
          "text": [
            "\n",
            "\n",
            "\n",
            "\n"
          ],
          "name": "stdout"
        }
      ]
    },
    {
      "cell_type": "code",
      "metadata": {
        "colab": {
          "base_uri": "https://localhost:8080/",
          "height": 335,
          "referenced_widgets": [
            "d44c017e510d443995aabd6c19f62597",
            "83131887b37a4fe58f3197d4b0090493",
            "400fde0854a74ba98625cb52fabb84ac",
            "d2a0ed4cea9e4889a097b68f554acb84",
            "4b3f949f1f964068a5b0d7c4e7c385ca",
            "22412012fe4149eaacff22353e522cc1",
            "4d82c302562d49ecb2ad0b355db9244c",
            "06a894e5fa434c4cbbef15327b44cd30",
            "bbf0bf21a0e544a4a9e8003e2fa89062",
            "fac1646590ea48e0b898c8517d0bbb73",
            "fb96985c18644af4ac231abeff138351",
            "c99a429cb92547c4b130e4621ca8bb12",
            "5dcac35515c447b3a062b32610c1a552",
            "0c6cc0765d784b479e348c8dc0a29d8b",
            "56248682462640e3832d28c2fabe7e25",
            "d6287dfa0b1d45c982c5eba24788c7ec",
            "ec34d45bba2947c09edf0b48fc6dfb66",
            "387ce7039e3d47209eaa26faea21c858",
            "5e0d61f7dc554675b5089fe205fbbb9b",
            "9622816feb7c484099626c8fcffd7783",
            "425bdcd35be94bdb8046d08df2b1b43c",
            "ad1b2eb0384f4cfda5dae1aae4e3f725",
            "5ff80ec0c6db4931a916fbb9407c950b",
            "4eef0355e0634c329be9ad43cd0ca562",
            "9c5593a080c041fc9c54ac73b715bcc1",
            "d030ca06e8b7437992a6834db1a3b1fa",
            "9ff46e61ff6d4083aa234f68652e28d6",
            "52a1ff90f15647fd83f617407baa9b1f",
            "645c5be387f64912810c519233b94195",
            "7ba4f928392944d6af4696a5f46bd0e0",
            "11456f77d81340da80c138449a791117",
            "a042b1f3fef64f05a64bcfc2148ab265"
          ]
        },
        "id": "lGxobb-bP8sd",
        "outputId": "68b34706-b5a6-4d6f-d263-11b998f1c7d0"
      },
      "source": [
        "test_data = test_data.map(prepare_dataset, remove_columns=test_data.column_names, batch_size=8, num_proc=4, batched=True)"
      ],
      "execution_count": 27,
      "outputs": [
        {
          "output_type": "stream",
          "text": [
            "/usr/local/lib/python3.7/dist-packages/numpy/core/_asarray.py:83: VisibleDeprecationWarning: Creating an ndarray from ragged nested sequences (which is a list-or-tuple of lists-or-tuples-or ndarrays with different lengths or shapes) is deprecated. If you meant to do this, you must specify 'dtype=object' when creating the ndarray\n",
            "  return array(a, dtype, copy=False, order=order)\n"
          ],
          "name": "stderr"
        },
        {
          "output_type": "stream",
          "text": [
            " "
          ],
          "name": "stdout"
        },
        {
          "output_type": "display_data",
          "data": {
            "application/vnd.jupyter.widget-view+json": {
              "model_id": "d44c017e510d443995aabd6c19f62597",
              "version_minor": 0,
              "version_major": 2
            },
            "text/plain": [
              "HBox(children=(FloatProgress(value=0.0, description='#0', max=6.0, style=ProgressStyle(description_width='init…"
            ]
          },
          "metadata": {
            "tags": []
          }
        },
        {
          "output_type": "stream",
          "text": [
            " "
          ],
          "name": "stdout"
        },
        {
          "output_type": "display_data",
          "data": {
            "application/vnd.jupyter.widget-view+json": {
              "model_id": "bbf0bf21a0e544a4a9e8003e2fa89062",
              "version_minor": 0,
              "version_major": 2
            },
            "text/plain": [
              "HBox(children=(FloatProgress(value=0.0, description='#1', max=6.0, style=ProgressStyle(description_width='init…"
            ]
          },
          "metadata": {
            "tags": []
          }
        },
        {
          "output_type": "stream",
          "text": [
            " "
          ],
          "name": "stdout"
        },
        {
          "output_type": "display_data",
          "data": {
            "application/vnd.jupyter.widget-view+json": {
              "model_id": "ec34d45bba2947c09edf0b48fc6dfb66",
              "version_minor": 0,
              "version_major": 2
            },
            "text/plain": [
              "HBox(children=(FloatProgress(value=0.0, description='#2', max=6.0, style=ProgressStyle(description_width='init…"
            ]
          },
          "metadata": {
            "tags": []
          }
        },
        {
          "output_type": "stream",
          "text": [
            " "
          ],
          "name": "stdout"
        },
        {
          "output_type": "display_data",
          "data": {
            "application/vnd.jupyter.widget-view+json": {
              "model_id": "9c5593a080c041fc9c54ac73b715bcc1",
              "version_minor": 0,
              "version_major": 2
            },
            "text/plain": [
              "HBox(children=(FloatProgress(value=0.0, description='#3', max=6.0, style=ProgressStyle(description_width='init…"
            ]
          },
          "metadata": {
            "tags": []
          }
        },
        {
          "output_type": "stream",
          "text": [
            "\n",
            "\n",
            "\n",
            "\n"
          ],
          "name": "stdout"
        }
      ]
    },
    {
      "cell_type": "markdown",
      "metadata": {
        "id": "4TxZm8pSaAJm"
      },
      "source": [
        "# Importing Data_collator with CTC Padding"
      ]
    },
    {
      "cell_type": "code",
      "metadata": {
        "id": "FcjRwtRBQHbu"
      },
      "source": [
        "import torch\n",
        "\n",
        "from dataclasses import dataclass, field\n",
        "from typing import Any, Dict, List, Optional, Union\n",
        "\n",
        "@dataclass\n",
        "class DataCollatorCTCWithPadding:\n",
        "\n",
        "    processor: Wav2Vec2Processor\n",
        "    padding: Union[bool, str] = True\n",
        "    max_length: Optional[int] = None\n",
        "    max_length_labels: Optional[int] = None\n",
        "    pad_to_multiple_of: Optional[int] = None\n",
        "    pad_to_multiple_of_labels: Optional[int] = None\n",
        "\n",
        "    def __call__(self, features: List[Dict[str, Union[List[int], torch.Tensor]]]) -> Dict[str, torch.Tensor]:\n",
        "        # split inputs and labels since they have to be of different lenghts and need\n",
        "        # different padding methods\n",
        "        input_features = [{\"input_values\": feature[\"input_values\"]} for feature in features]\n",
        "        label_features = [{\"input_ids\": feature[\"labels\"]} for feature in features]\n",
        "\n",
        "        batch = self.processor.pad(\n",
        "            input_features,\n",
        "            padding=self.padding,\n",
        "            max_length=self.max_length,\n",
        "            pad_to_multiple_of=self.pad_to_multiple_of,\n",
        "            return_tensors=\"pt\",\n",
        "        )\n",
        "        with self.processor.as_target_processor():\n",
        "            labels_batch = self.processor.pad(\n",
        "                label_features,\n",
        "                padding=self.padding,\n",
        "                max_length=self.max_length_labels,\n",
        "                pad_to_multiple_of=self.pad_to_multiple_of_labels,\n",
        "                return_tensors=\"pt\",\n",
        "            )\n",
        "\n",
        "        # replace padding with -100 to ignore loss correctly\n",
        "        labels = labels_batch[\"input_ids\"].masked_fill(labels_batch.attention_mask.ne(1), -100)\n",
        "\n",
        "        batch[\"labels\"] = labels\n",
        "\n",
        "        return batch\n",
        "data_collator = DataCollatorCTCWithPadding(processor=processor, padding=True)"
      ],
      "execution_count": 29,
      "outputs": []
    },
    {
      "cell_type": "markdown",
      "metadata": {
        "id": "IFKeb0vXaMIc"
      },
      "source": [
        "# Loading WER Matrix "
      ]
    },
    {
      "cell_type": "code",
      "metadata": {
        "id": "HWDQIgJqWXUD"
      },
      "source": [
        "from datasets import load_metric\n",
        "wer_metric = load_metric(\"wer\")"
      ],
      "execution_count": 42,
      "outputs": []
    },
    {
      "cell_type": "code",
      "metadata": {
        "id": "ZbuX0fs0Wbbj"
      },
      "source": [
        "def compute_metrics(pred):\n",
        "    pred_logits = pred.predictions\n",
        "    pred_ids = np.argmax(pred_logits, axis=-1)\n",
        "    pred.label_ids[pred.label_ids == -100] = processor.tokenizer.pad_token_id\n",
        "    pred_str = processor.batch_decode(pred_ids)\n",
        "    # we do not want to group tokens when computing the metrics\n",
        "    label_str = processor.batch_decode(pred.label_ids, group_tokens=False)\n",
        "    wer = wer_metric.compute(predictions=pred_str, references=label_str)\n",
        "    return {\"wer\": wer}"
      ],
      "execution_count": 31,
      "outputs": []
    },
    {
      "cell_type": "markdown",
      "metadata": {
        "id": "q6Pve-U3aSZd"
      },
      "source": [
        "# Creating Instance of PreTranined \"facebook/wav2vec2-large-xlsr-53\" Model and tuning Parameters "
      ]
    },
    {
      "cell_type": "code",
      "metadata": {
        "colab": {
          "base_uri": "https://localhost:8080/",
          "height": 220,
          "referenced_widgets": [
            "b860b1cddf20490193ba6aabd2f7228a",
            "92901c25ba7b4d579223a2b30c26ec05",
            "0f29aea53bcd4df2af3d0f0d1498ad76",
            "120834a2f2a04efeb917a43d55d0f031",
            "88259c60226949cd9d1cd1e175eab4e3",
            "3c486b0f64924678b7832fd4a5b60958",
            "22019d1002fa4397b41c4112398a6e38",
            "591f7107393d4107b5c59e73902bfadf",
            "e762f15ecfcb46b9aa42b665fb4ab857",
            "75f8bba6ddcc42c09b873467e1045eca",
            "8d37a5ee13204a6a8c13cc4bc48b3066",
            "ceb5222f06554b74b16930027cee2c7a",
            "5add85e922a44cd5b138f8e35a46a5d2",
            "af3cbbf3350c494288baf18e1aa46e89",
            "a972935fced04ed389c68edf7ea5e068",
            "3cf7ae3817ad41748d7f39c26f3fef04"
          ]
        },
        "id": "dsGvNVOmWr8i",
        "outputId": "427ab075-b2ea-47e7-81d1-0e944fb4c98a"
      },
      "source": [
        "from transformers import Wav2Vec2ForCTC\n",
        "model = Wav2Vec2ForCTC.from_pretrained(\n",
        "    \"facebook/wav2vec2-large-xlsr-53\", \n",
        "    attention_dropout=0.1,\n",
        "    hidden_dropout=0.1,\n",
        "    feat_proj_dropout=0.0,\n",
        "    mask_time_prob=0.05,\n",
        "    layerdrop=0.1,\n",
        "    gradient_checkpointing=True, \n",
        "    ctc_loss_reduction=\"mean\", \n",
        "    pad_token_id=processor.tokenizer.pad_token_id,\n",
        "    vocab_size=len(processor.tokenizer)\n",
        ")"
      ],
      "execution_count": 32,
      "outputs": [
        {
          "output_type": "display_data",
          "data": {
            "application/vnd.jupyter.widget-view+json": {
              "model_id": "b860b1cddf20490193ba6aabd2f7228a",
              "version_minor": 0,
              "version_major": 2
            },
            "text/plain": [
              "HBox(children=(FloatProgress(value=0.0, description='Downloading', max=1768.0, style=ProgressStyle(description…"
            ]
          },
          "metadata": {
            "tags": []
          }
        },
        {
          "output_type": "stream",
          "text": [
            "\n"
          ],
          "name": "stdout"
        },
        {
          "output_type": "display_data",
          "data": {
            "application/vnd.jupyter.widget-view+json": {
              "model_id": "e762f15ecfcb46b9aa42b665fb4ab857",
              "version_minor": 0,
              "version_major": 2
            },
            "text/plain": [
              "HBox(children=(FloatProgress(value=0.0, description='Downloading', max=1269737156.0, style=ProgressStyle(descr…"
            ]
          },
          "metadata": {
            "tags": []
          }
        },
        {
          "output_type": "stream",
          "text": [
            "\n"
          ],
          "name": "stdout"
        },
        {
          "output_type": "stream",
          "text": [
            "Some weights of the model checkpoint at facebook/wav2vec2-large-xlsr-53 were not used when initializing Wav2Vec2ForCTC: ['quantizer.codevectors', 'quantizer.weight_proj.weight', 'quantizer.weight_proj.bias', 'project_q.weight', 'project_q.bias', 'project_hid.weight', 'project_hid.bias']\n",
            "- This IS expected if you are initializing Wav2Vec2ForCTC from the checkpoint of a model trained on another task or with another architecture (e.g. initializing a BertForSequenceClassification model from a BertForPreTraining model).\n",
            "- This IS NOT expected if you are initializing Wav2Vec2ForCTC from the checkpoint of a model that you expect to be exactly identical (initializing a BertForSequenceClassification model from a BertForSequenceClassification model).\n",
            "Some weights of Wav2Vec2ForCTC were not initialized from the model checkpoint at facebook/wav2vec2-large-xlsr-53 and are newly initialized: ['lm_head.weight', 'lm_head.bias']\n",
            "You should probably TRAIN this model on a down-stream task to be able to use it for predictions and inference.\n"
          ],
          "name": "stderr"
        }
      ]
    },
    {
      "cell_type": "code",
      "metadata": {
        "id": "XNW8WcL4WzGK"
      },
      "source": [
        "model.freeze_feature_extractor()"
      ],
      "execution_count": null,
      "outputs": []
    },
    {
      "cell_type": "markdown",
      "metadata": {
        "id": "PhuXJXj_aiA9"
      },
      "source": [
        "# Loading XLSR Transformers for Fine Tuning"
      ]
    },
    {
      "cell_type": "code",
      "metadata": {
        "id": "jYaqNF3fW6BK"
      },
      "source": [
        "from transformers import TrainingArguments\n",
        "\n",
        "training_args = TrainingArguments(\n",
        "  output_dir=\"/content/drive/MyDrive/wav2vec2-large-xlsr-Urdu\",\n",
        "  group_by_length=True,\n",
        "  per_device_train_batch_size=16,\n",
        "  gradient_accumulation_steps=2,\n",
        "  evaluation_strategy=\"steps\",\n",
        "  num_train_epochs=30,\n",
        "  fp16=True,\n",
        "  save_steps=200,\n",
        "  eval_steps=200,\n",
        "  logging_steps=200,\n",
        "  learning_rate=3e-4,\n",
        "  warmup_steps=300,\n",
        "  save_total_limit=3,\n",
        ")"
      ],
      "execution_count": null,
      "outputs": []
    },
    {
      "cell_type": "markdown",
      "metadata": {
        "id": "A1NFTVXZbAgS"
      },
      "source": [
        "# Split the dataset for Training and Validation during training"
      ]
    },
    {
      "cell_type": "code",
      "metadata": {
        "colab": {
          "base_uri": "https://localhost:8080/"
        },
        "id": "HcRgZpv8Xq19",
        "outputId": "4221a8ae-a9bc-4878-e1b8-1fdd2585e568"
      },
      "source": [
        "data=data.train_test_split(test_size=0.1)\n",
        "data[\"train\"]"
      ],
      "execution_count": null,
      "outputs": [
        {
          "output_type": "execute_result",
          "data": {
            "text/plain": [
              "Dataset({\n",
              "    features: ['input_values', 'labels'],\n",
              "    num_rows: 2699\n",
              "})"
            ]
          },
          "metadata": {
            "tags": []
          },
          "execution_count": 27
        }
      ]
    },
    {
      "cell_type": "code",
      "metadata": {
        "id": "iBBY0kcXXNiy"
      },
      "source": [
        "from transformers import Trainer\n",
        "\n",
        "trainer = Trainer(\n",
        "    model=model,\n",
        "    data_collator=data_collator,\n",
        "    args=training_args,\n",
        "    compute_metrics=compute_metrics,\n",
        "    train_dataset=data[\"train\"],\n",
        "    eval_dataset=data[\"test\"],\n",
        "    tokenizer=processor.feature_extractor,\n",
        ")"
      ],
      "execution_count": null,
      "outputs": []
    },
    {
      "cell_type": "markdown",
      "metadata": {
        "id": "jQ4wuzyPa3Xt"
      },
      "source": [
        "# Training Started "
      ]
    },
    {
      "cell_type": "code",
      "metadata": {
        "colab": {
          "base_uri": "https://localhost:8080/",
          "height": 518
        },
        "id": "VSIPR1M3XS_5",
        "outputId": "f048742d-7c62-4aa6-eb39-ecd89f8c4623"
      },
      "source": [
        "trainer.train()"
      ],
      "execution_count": null,
      "outputs": [
        {
          "output_type": "stream",
          "text": [
            "/usr/local/lib/python3.7/dist-packages/torch/optim/lr_scheduler.py:134: UserWarning: Detected call of `lr_scheduler.step()` before `optimizer.step()`. In PyTorch 1.1.0 and later, you should call them in the opposite order: `optimizer.step()` before `lr_scheduler.step()`.  Failure to do this will result in PyTorch skipping the first value of the learning rate schedule. See more details at https://pytorch.org/docs/stable/optim.html#how-to-adjust-learning-rate\n",
            "  \"https://pytorch.org/docs/stable/optim.html#how-to-adjust-learning-rate\", UserWarning)\n"
          ],
          "name": "stderr"
        },
        {
          "output_type": "display_data",
          "data": {
            "text/html": [
              "\n",
              "    <div>\n",
              "        <style>\n",
              "            /* Turns off some styling */\n",
              "            progress {\n",
              "                /* gets rid of default border in Firefox and Opera. */\n",
              "                border: none;\n",
              "                /* Needs to be in here for Safari polyfill so background images work as expected. */\n",
              "                background-size: auto;\n",
              "            }\n",
              "        </style>\n",
              "      \n",
              "      <progress value='2520' max='2520' style='width:300px; height:20px; vertical-align: middle;'></progress>\n",
              "      [2520/2520 1:46:12, Epoch 29/30]\n",
              "    </div>\n",
              "    <table border=\"1\" class=\"dataframe\">\n",
              "  <thead>\n",
              "    <tr style=\"text-align: left;\">\n",
              "      <th>Step</th>\n",
              "      <th>Training Loss</th>\n",
              "      <th>Validation Loss</th>\n",
              "      <th>Wer</th>\n",
              "      <th>Runtime</th>\n",
              "      <th>Samples Per Second</th>\n",
              "    </tr>\n",
              "  </thead>\n",
              "  <tbody>\n",
              "    <tr>\n",
              "      <td>200</td>\n",
              "      <td>12.024900</td>\n",
              "      <td>3.689662</td>\n",
              "      <td>1.000000</td>\n",
              "      <td>17.267700</td>\n",
              "      <td>17.374000</td>\n",
              "    </tr>\n",
              "    <tr>\n",
              "      <td>400</td>\n",
              "      <td>3.690500</td>\n",
              "      <td>3.621338</td>\n",
              "      <td>1.000000</td>\n",
              "      <td>17.487600</td>\n",
              "      <td>17.155000</td>\n",
              "    </tr>\n",
              "    <tr>\n",
              "      <td>600</td>\n",
              "      <td>3.467300</td>\n",
              "      <td>3.893539</td>\n",
              "      <td>1.000000</td>\n",
              "      <td>17.569200</td>\n",
              "      <td>17.075000</td>\n",
              "    </tr>\n",
              "    <tr>\n",
              "      <td>800</td>\n",
              "      <td>3.288800</td>\n",
              "      <td>3.646878</td>\n",
              "      <td>1.000000</td>\n",
              "      <td>17.428800</td>\n",
              "      <td>17.213000</td>\n",
              "    </tr>\n",
              "    <tr>\n",
              "      <td>1000</td>\n",
              "      <td>3.185800</td>\n",
              "      <td>3.674290</td>\n",
              "      <td>1.000000</td>\n",
              "      <td>17.086700</td>\n",
              "      <td>17.558000</td>\n",
              "    </tr>\n",
              "    <tr>\n",
              "      <td>1200</td>\n",
              "      <td>3.110000</td>\n",
              "      <td>3.447118</td>\n",
              "      <td>0.999448</td>\n",
              "      <td>17.080300</td>\n",
              "      <td>17.564000</td>\n",
              "    </tr>\n",
              "    <tr>\n",
              "      <td>1400</td>\n",
              "      <td>2.809500</td>\n",
              "      <td>2.867014</td>\n",
              "      <td>0.965746</td>\n",
              "      <td>17.125800</td>\n",
              "      <td>17.517000</td>\n",
              "    </tr>\n",
              "    <tr>\n",
              "      <td>1600</td>\n",
              "      <td>2.381200</td>\n",
              "      <td>2.861734</td>\n",
              "      <td>0.918232</td>\n",
              "      <td>17.121400</td>\n",
              "      <td>17.522000</td>\n",
              "    </tr>\n",
              "    <tr>\n",
              "      <td>1800</td>\n",
              "      <td>2.013300</td>\n",
              "      <td>2.491365</td>\n",
              "      <td>0.856354</td>\n",
              "      <td>17.054800</td>\n",
              "      <td>17.590000</td>\n",
              "    </tr>\n",
              "    <tr>\n",
              "      <td>2000</td>\n",
              "      <td>1.728000</td>\n",
              "      <td>2.847434</td>\n",
              "      <td>0.865193</td>\n",
              "      <td>17.245000</td>\n",
              "      <td>17.396000</td>\n",
              "    </tr>\n",
              "    <tr>\n",
              "      <td>2200</td>\n",
              "      <td>1.490200</td>\n",
              "      <td>2.862494</td>\n",
              "      <td>0.807182</td>\n",
              "      <td>17.226200</td>\n",
              "      <td>17.415000</td>\n",
              "    </tr>\n",
              "    <tr>\n",
              "      <td>2400</td>\n",
              "      <td>1.376300</td>\n",
              "      <td>3.089543</td>\n",
              "      <td>0.825967</td>\n",
              "      <td>17.132100</td>\n",
              "      <td>17.511000</td>\n",
              "    </tr>\n",
              "  </tbody>\n",
              "</table><p>"
            ],
            "text/plain": [
              "<IPython.core.display.HTML object>"
            ]
          },
          "metadata": {
            "tags": []
          }
        },
        {
          "output_type": "execute_result",
          "data": {
            "text/plain": [
              "TrainOutput(global_step=2520, training_loss=3.280703850397988, metrics={'train_runtime': 6374.9829, 'train_samples_per_second': 0.395, 'total_flos': 5.271714946009628e+18, 'epoch': 29.99, 'init_mem_cpu_alloc_delta': 313314, 'init_mem_gpu_alloc_delta': 1261935616, 'init_mem_cpu_peaked_delta': 18306, 'init_mem_gpu_peaked_delta': 0, 'train_mem_cpu_alloc_delta': 1939091, 'train_mem_gpu_alloc_delta': 3785499136, 'train_mem_cpu_peaked_delta': 35843140, 'train_mem_gpu_peaked_delta': 958381568})"
            ]
          },
          "metadata": {
            "tags": []
          },
          "execution_count": 29
        }
      ]
    },
    {
      "cell_type": "markdown",
      "metadata": {
        "id": "oEXJThYabNlN"
      },
      "source": [
        "# As we can clearly see the checkpoint 2200 provide the best Training Loss\tValidation Loss\tand Wer\n",
        "## Checkpoint 2400 started to overfit so 2200 check point is best and saved in the Drive\n",
        "## Now we need to load the 2200 checkpoint from the drive for Testing"
      ]
    },
    {
      "cell_type": "code",
      "metadata": {
        "colab": {
          "base_uri": "https://localhost:8080/"
        },
        "id": "wxp_e4Nva-SR",
        "outputId": "03f19f84-36c1-488a-b22f-b1ec890ae317"
      },
      "source": [
        "model = Wav2Vec2ForCTC.from_pretrained(\"/content/drive/MyDrive/wav2vec2-large-xlsr-Urdu/checkpoint-2200\").to(\"cuda\")\n",
        "processor = Wav2Vec2Processor.from_pretrained(\"/content/drive/MyDrive/wav2vec2-large-xlsr-Urdu\")"
      ],
      "execution_count": 34,
      "outputs": [
        {
          "output_type": "stream",
          "text": [
            "Special tokens have been added in the vocabulary, make sure the associated word embedding are fine-tuned or trained.\n"
          ],
          "name": "stderr"
        }
      ]
    },
    {
      "cell_type": "code",
      "metadata": {
        "colab": {
          "base_uri": "https://localhost:8080/"
        },
        "id": "As2MqcqQTnug",
        "outputId": "6da6bc54-5ede-4953-e2e3-9b5acdecb04c"
      },
      "source": [
        "input_dict = processor(sample, return_tensors=\"pt\", padding=True)\n",
        "\n",
        "logits = model(input_dict.input_values.to(\"cuda\")).logits\n",
        "\n",
        "pred_ids = torch.argmax(logits, dim=-1)[0]"
      ],
      "execution_count": null,
      "outputs": [
        {
          "output_type": "stream",
          "text": [
            "It is strongly recommended to pass the ``sampling_rate`` argument to this function.Failing to do so can result in silent errors that might be hard to debug.\n"
          ],
          "name": "stderr"
        }
      ]
    },
    {
      "cell_type": "markdown",
      "metadata": {
        "id": "DiBuUElQb6lT"
      },
      "source": [
        "# Prediction of the One Sample"
      ]
    },
    {
      "cell_type": "code",
      "metadata": {
        "colab": {
          "base_uri": "https://localhost:8080/"
        },
        "id": "64ZLtx43ULaA",
        "outputId": "5a59573e-15e3-4797-af27-65b07b1ebb2d"
      },
      "source": [
        "print(\"Prediction:\")\n",
        "print(processor.decode(pred_ids))\n",
        "\n",
        "print(\"\\nReference:\")\n",
        "print(sample_label)\n"
      ],
      "execution_count": null,
      "outputs": [
        {
          "output_type": "stream",
          "text": [
            "Prediction:\n",
            "ک اپنا خال ہتھے ہ الہ افظ\n",
            "\n",
            "Reference:\n",
            "اپنا خیال رکھنا اللہ حافظ\n"
          ],
          "name": "stdout"
        }
      ]
    },
    {
      "cell_type": "markdown",
      "metadata": {
        "id": "4AQEgnHkb_Da"
      },
      "source": [
        "# Testing Phase "
      ]
    },
    {
      "cell_type": "code",
      "metadata": {
        "colab": {
          "base_uri": "https://localhost:8080/",
          "height": 66,
          "referenced_widgets": [
            "ffb7a531ee224efda81d47b2e2abf11a",
            "e05aa3d7fd654a6daf6510943ee7b072",
            "fc54be5a836e4fc1bad813f72da1bf37",
            "1da921833f2c49ab85f9f1f2e9c8d3f5",
            "1ecf466b72c64b63a4436a77a0aebdae",
            "cf9bdd70908d4b4aaa0c8315e61a0ff8",
            "9a63361511bf4ab6abd5c645e17041a0",
            "397b6b107e064c1ebafd6db312f3f9de"
          ]
        },
        "id": "cCOnz5BBMSyU",
        "outputId": "f2981809-38c6-4dcb-ac7e-4fd41ac30e9c"
      },
      "source": [
        "def evaluate(batch):\n",
        "    inputs = processor(batch[\"speech\"], sampling_rate=16_000, return_tensors=\"pt\", padding=True)\n",
        "    with torch.no_grad():\n",
        "        logits = model(inputs.input_values.to(\"cuda\"), attention_mask=inputs.attention_mask.to(\"cuda\")).logits\n",
        "    pred_ids = torch.argmax(logits, dim=-1)\n",
        "    batch[\"pred_strings\"] = processor.batch_decode(pred_ids)\n",
        "    return batch\n",
        "\n",
        "result = test_data.map(evaluate, batched=True, batch_size=8)"
      ],
      "execution_count": 60,
      "outputs": [
        {
          "output_type": "display_data",
          "data": {
            "application/vnd.jupyter.widget-view+json": {
              "model_id": "ffb7a531ee224efda81d47b2e2abf11a",
              "version_minor": 0,
              "version_major": 2
            },
            "text/plain": [
              "HBox(children=(FloatProgress(value=0.0, max=22.0), HTML(value='')))"
            ]
          },
          "metadata": {
            "tags": []
          }
        },
        {
          "output_type": "stream",
          "text": [
            "\n"
          ],
          "name": "stdout"
        }
      ]
    },
    {
      "cell_type": "markdown",
      "metadata": {
        "id": "DFmKFtwicGHa"
      },
      "source": [
        "# 83.467095 is the WER Score of Test Dataset"
      ]
    },
    {
      "cell_type": "code",
      "metadata": {
        "colab": {
          "base_uri": "https://localhost:8080/"
        },
        "id": "g70HASCaSlF6",
        "outputId": "dec35131-3ee8-49c1-8334-1c56d788b4e2"
      },
      "source": [
        "print(\"WER: {:2f}\".format(100 * wer.compute(predictions=result[\"pred_strings\"], references=result[\"target_text\"])))"
      ],
      "execution_count": 62,
      "outputs": [
        {
          "output_type": "stream",
          "text": [
            "WER: 83.467095\n"
          ],
          "name": "stdout"
        }
      ]
    },
    {
      "cell_type": "markdown",
      "metadata": {
        "id": "1nrfXeRpcQYy"
      },
      "source": [
        "# Visualization of the Predicted and Real Labels"
      ]
    },
    {
      "cell_type": "code",
      "metadata": {
        "colab": {
          "base_uri": "https://localhost:8080/",
          "height": 419
        },
        "id": "0D0QOzWSTSqY",
        "outputId": "6dd7fa57-374c-4063-afea-d9c3123da107"
      },
      "source": [
        "dataframe=Dataset.to_pandas(result)\n",
        "dataframe = dataframe[[\"pred_strings\", \"target_text\"]]\n",
        "dataframe"
      ],
      "execution_count": 65,
      "outputs": [
        {
          "output_type": "execute_result",
          "data": {
            "text/html": [
              "<div>\n",
              "<style scoped>\n",
              "    .dataframe tbody tr th:only-of-type {\n",
              "        vertical-align: middle;\n",
              "    }\n",
              "\n",
              "    .dataframe tbody tr th {\n",
              "        vertical-align: top;\n",
              "    }\n",
              "\n",
              "    .dataframe thead th {\n",
              "        text-align: right;\n",
              "    }\n",
              "</style>\n",
              "<table border=\"1\" class=\"dataframe\">\n",
              "  <thead>\n",
              "    <tr style=\"text-align: right;\">\n",
              "      <th></th>\n",
              "      <th>pred_strings</th>\n",
              "      <th>target_text</th>\n",
              "    </tr>\n",
              "  </thead>\n",
              "  <tbody>\n",
              "    <tr>\n",
              "      <th>0</th>\n",
              "      <td>جی سر میٹد سے کتا ہو کائنڈی ویٹٹجیجئے</td>\n",
              "      <td>جی سر میں ڈیٹیلز چیک کرتا ہوں کائنڈلی ویٹ کیجی...</td>\n",
              "    </tr>\n",
              "    <tr>\n",
              "      <th>1</th>\n",
              "      <td>السلام علیکمک فربائم س کیام مد ک ستا</td>\n",
              "      <td>اسلام علیکم کر رہا ہوں جی فرمائے میں آپکی کیا ...</td>\n",
              "    </tr>\n",
              "    <tr>\n",
              "      <th>2</th>\n",
              "      <td>میں سر دنتا ہوںجس نمبر سے کال کر رہے ہیں سنوپ ...</td>\n",
              "      <td>میں سر دیکھ لیتا ہوں جس نمبر سے کال کر رہے ہیں...</td>\n",
              "    </tr>\n",
              "    <tr>\n",
              "      <th>3</th>\n",
              "      <td>جیڈس نمبر سےے آپ کال کر رہ ہی اسنورپ اشو آ رہا ہے</td>\n",
              "      <td>جی جس نمبر سے آپ کال کر رہے ہیں اسی نمبر پہ اش...</td>\n",
              "    </tr>\n",
              "    <tr>\n",
              "      <th>4</th>\n",
              "      <td>موجی ویٹ کیجئے گا سر</td>\n",
              "      <td>مزید ویٹ کیجیے گا سر</td>\n",
              "    </tr>\n",
              "    <tr>\n",
              "      <th>...</th>\n",
              "      <td>...</td>\n",
              "      <td>...</td>\n",
              "    </tr>\n",
              "    <tr>\n",
              "      <th>164</th>\n",
              "      <td>جیٹٹی</td>\n",
              "      <td>جی ٹو فور ٹو تھری سکس</td>\n",
              "    </tr>\n",
              "    <tr>\n",
              "      <th>165</th>\n",
              "      <td>اوچاجسر</td>\n",
              "      <td>فور سیون فائیو زیرو ٹو فور ٹو تھری سکس جی سر</td>\n",
              "    </tr>\n",
              "    <tr>\n",
              "      <th>166</th>\n",
              "      <td>ڈوزنگ بت</td>\n",
              "      <td>براؤزنگ بہت کر رہا ہے</td>\n",
              "    </tr>\n",
              "    <tr>\n",
              "      <th>167</th>\n",
              "      <td>ٹھیک ہے کشر میںوز کر رینے وائس کو سار</td>\n",
              "      <td>ٹھیک ہے کس شہر میں یوز کر رہے ہیں ڈیوائسس کو س...</td>\n",
              "    </tr>\n",
              "    <tr>\n",
              "      <th>168</th>\n",
              "      <td>مزید وی اوٹ کیجئے ا</td>\n",
              "      <td>مزید ویٹ کیجیے گا</td>\n",
              "    </tr>\n",
              "  </tbody>\n",
              "</table>\n",
              "<p>169 rows × 2 columns</p>\n",
              "</div>"
            ],
            "text/plain": [
              "                                          pred_strings                                        target_text\n",
              "0                جی سر میٹد سے کتا ہو کائنڈی ویٹٹجیجئے  جی سر میں ڈیٹیلز چیک کرتا ہوں کائنڈلی ویٹ کیجی...\n",
              "1                 السلام علیکمک فربائم س کیام مد ک ستا  اسلام علیکم کر رہا ہوں جی فرمائے میں آپکی کیا ...\n",
              "2    میں سر دنتا ہوںجس نمبر سے کال کر رہے ہیں سنوپ ...  میں سر دیکھ لیتا ہوں جس نمبر سے کال کر رہے ہیں...\n",
              "3    جیڈس نمبر سےے آپ کال کر رہ ہی اسنورپ اشو آ رہا ہے  جی جس نمبر سے آپ کال کر رہے ہیں اسی نمبر پہ اش...\n",
              "4                                 موجی ویٹ کیجئے گا سر                               مزید ویٹ کیجیے گا سر\n",
              "..                                                 ...                                                ...\n",
              "164                                              جیٹٹی                              جی ٹو فور ٹو تھری سکس\n",
              "165                                            اوچاجسر       فور سیون فائیو زیرو ٹو فور ٹو تھری سکس جی سر\n",
              "166                                           ڈوزنگ بت                              براؤزنگ بہت کر رہا ہے\n",
              "167              ٹھیک ہے کشر میںوز کر رینے وائس کو سار  ٹھیک ہے کس شہر میں یوز کر رہے ہیں ڈیوائسس کو س...\n",
              "168                                مزید وی اوٹ کیجئے ا                                  مزید ویٹ کیجیے گا\n",
              "\n",
              "[169 rows x 2 columns]"
            ]
          },
          "metadata": {
            "tags": []
          },
          "execution_count": 65
        }
      ]
    }
  ]
}